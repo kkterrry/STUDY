{
 "cells": [
  {
   "cell_type": "code",
   "execution_count": 3,
   "id": "f408f3df",
   "metadata": {
    "ExecuteTime": {
     "end_time": "2021-08-18T02:12:19.854007Z",
     "start_time": "2021-08-18T02:12:19.714777Z"
    },
    "scrolled": true
   },
   "outputs": [
    {
     "name": "stdout",
     "output_type": "stream",
     "text": [
      "(28, 28, 4)\n",
      "<class 'numpy.ndarray'>\n"
     ]
    },
    {
     "data": {
      "text/plain": [
       "<matplotlib.image.AxesImage at 0x1b8920ef850>"
      ]
     },
     "execution_count": 3,
     "metadata": {},
     "output_type": "execute_result"
    },
    {
     "data": {
      "image/png": "[encoded data removed]",
      "text/plain": [
       "<Figure size 432x288 with 1 Axes>"
      ]
     },
     "metadata": {
      "needs_background": "light"
     },
     "output_type": "display_data"
    }
   ],
   "source": [
    "import matplotlib.pyplot as plt\n",
    "c0 = plt.imread('test/0/1.png')\n",
    "print(c0.shape) # 4: RGBA(RGB와 투영도)\n",
    "print(type(c0))\n",
    "plt.imshow(c0)"
   ]
  },
  {
   "cell_type": "code",
   "execution_count": 7,
   "id": "50934108",
   "metadata": {
    "ExecuteTime": {
     "end_time": "2021-08-18T02:16:10.061915Z",
     "start_time": "2021-08-18T02:16:10.052904Z"
    }
   },
   "outputs": [
    {
     "data": {
      "image/png": "[encoded data removed]",
      "text/plain": [
       "<PIL.PngImagePlugin.PngImageFile image mode=RGBA size=28x28 at 0x1B892040E20>"
      ]
     },
     "metadata": {},
     "output_type": "display_data"
    },
    {
     "name": "stdout",
     "output_type": "stream",
     "text": [
      "(28, 28, 4)\n"
     ]
    }
   ],
   "source": [
    "from PIL import Image\n",
    "import numpy as np\n",
    "c0 = Image.open('test/0/1.png')\n",
    "display(c0)\n",
    "c0 = np.array(c0)\n",
    "c0\n",
    "print(c0.shape)\n",
    "\n",
    "\n"
   ]
  },
  {
   "cell_type": "markdown",
   "id": "04af6cdd",
   "metadata": {},
   "source": [
    "# CNN"
   ]
  },
  {
   "cell_type": "code",
   "execution_count": 8,
   "id": "9dcfda59",
   "metadata": {
    "ExecuteTime": {
     "end_time": "2021-08-18T03:02:26.913207Z",
     "start_time": "2021-08-18T03:02:26.899276Z"
    }
   },
   "outputs": [],
   "source": [
    "import numpy as np\n",
    "from tensorflow.keras.preprocessing.image import ImageDataGenerator\n",
    "from tensorflow.keras.models import Sequential\n",
    "from tensorflow.keras.layers import Conv2D # 필터링(특징추출)\n",
    "from tensorflow.keras.layers import MaxPooling2D # 풀링\n",
    "from tensorflow.keras.layers import Flatten #2차원 데이터를 1차원\n",
    "from tensorflow.keras.layers import Dense, Dropout\n",
    "np.random.seed(3)"
   ]
  },
  {
   "cell_type": "code",
   "execution_count": 9,
   "id": "b3b3ea62",
   "metadata": {
    "ExecuteTime": {
     "end_time": "2021-08-18T03:07:34.684441Z",
     "start_time": "2021-08-18T03:07:34.661503Z"
    }
   },
   "outputs": [
    {
     "data": {
      "text/plain": [
       "(24, 24, 4)"
      ]
     },
     "execution_count": 9,
     "metadata": {},
     "output_type": "execute_result"
    }
   ],
   "source": [
    "temp = Image.open('data/handwriting/handwriting_shape/train/circle/circle001.png')\n",
    "np.array(temp).shape"
   ]
  },
  {
   "cell_type": "code",
   "execution_count": 10,
   "id": "df2d96af",
   "metadata": {
    "ExecuteTime": {
     "end_time": "2021-08-18T03:14:54.548724Z",
     "start_time": "2021-08-18T03:14:54.515790Z"
    }
   },
   "outputs": [
    {
     "name": "stdout",
     "output_type": "stream",
     "text": [
      "Found 45 images belonging to 3 classes.\n",
      "Found 15 images belonging to 3 classes.\n"
     ]
    }
   ],
   "source": [
    "#1. 데이터 생성하기\n",
    "train_datagen = ImageDataGenerator(rescale=1./255) # 정규화 작업\n",
    "train_data = train_datagen.flow_from_directory(\n",
    "            'data/handwriting/handwriting_shape/train',\n",
    "            target_size = (24,24),\n",
    "            class_mode = 'categorical',\n",
    "            batch_size = 3\n",
    ")\n",
    "\n",
    "test_datagen = ImageDataGenerator(rescale=1./255) # 정규화 작업\n",
    "test_data = test_datagen.flow_from_directory(\n",
    "            'data/handwriting/handwriting_shape/test',\n",
    "            target_size=(24,24),\n",
    "            class_mode = 'categorical',\n",
    "            batch_size = 3\n",
    ")\n"
   ]
  },
  {
   "cell_type": "code",
   "execution_count": 14,
   "id": "376c3fa9",
   "metadata": {
    "ExecuteTime": {
     "end_time": "2021-08-18T03:48:46.210942Z",
     "start_time": "2021-08-18T03:48:46.101795Z"
    }
   },
   "outputs": [],
   "source": [
    "#2. 모델 구성\n",
    "## Conv2d(필터갯수, 필터사이즈, activation_fun, 입력shape)\n",
    "model = Sequential()\n",
    "model.add(Conv2D(32, kernel_size=(3,3), activation='relu', input_shape=(24,24,3)))\n",
    "model.add(Conv2D(64, kernel_size=(3,3), activation='relu'))\n",
    "model.add(MaxPooling2D(pool_size=(2,2))) # 2*2에서 제일 큰 값만 뽑아 이미지 축소\n",
    "model.add(Flatten()) # 2차원 데이터를 1차원으로\n",
    "model.add(Dense(units=128, activation='relu'))\n",
    "model.add(Dense(3, activation='softmax'))\n"
   ]
  },
  {
   "cell_type": "code",
   "execution_count": 16,
   "id": "030d5ef8",
   "metadata": {
    "ExecuteTime": {
     "end_time": "2021-08-18T03:49:38.835643Z",
     "start_time": "2021-08-18T03:49:30.796526Z"
    }
   },
   "outputs": [
    {
     "name": "stderr",
     "output_type": "stream",
     "text": [
      "C:\\Users\\sangh\\anaconda3\\lib\\site-packages\\tensorflow\\python\\keras\\engine\\training.py:1940: UserWarning: `Model.fit_generator` is deprecated and will be removed in a future version. Please use `Model.fit`, which supports generators.\n",
      "  warnings.warn('`Model.fit_generator` is deprecated and '\n"
     ]
    },
    {
     "name": "stdout",
     "output_type": "stream",
     "text": [
      "Epoch 1/50\n",
      "15/15 [==============================] - 1s 31ms/step - loss: 1.1318 - accuracy: 0.6000 - val_loss: 0.6298 - val_accuracy: 1.0000\n",
      "Epoch 2/50\n",
      "15/15 [==============================] - 0s 9ms/step - loss: 0.2742 - accuracy: 0.9778 - val_loss: 0.1505 - val_accuracy: 0.9333\n",
      "Epoch 3/50\n",
      "15/15 [==============================] - 0s 8ms/step - loss: 0.0395 - accuracy: 1.0000 - val_loss: 0.0872 - val_accuracy: 1.0000\n",
      "Epoch 4/50\n",
      "15/15 [==============================] - 0s 8ms/step - loss: 0.0070 - accuracy: 1.0000 - val_loss: 0.0642 - val_accuracy: 1.0000\n",
      "Epoch 5/50\n",
      "15/15 [==============================] - 0s 8ms/step - loss: 0.0014 - accuracy: 1.0000 - val_loss: 0.0532 - val_accuracy: 1.0000\n",
      "Epoch 6/50\n",
      "15/15 [==============================] - 0s 8ms/step - loss: 6.0411e-04 - accuracy: 1.0000 - val_loss: 0.0803 - val_accuracy: 0.9333\n",
      "Epoch 7/50\n",
      "15/15 [==============================] - 0s 8ms/step - loss: 4.5619e-04 - accuracy: 1.0000 - val_loss: 0.0811 - val_accuracy: 0.9333\n",
      "Epoch 8/50\n",
      "15/15 [==============================] - 0s 9ms/step - loss: 3.6189e-04 - accuracy: 1.0000 - val_loss: 0.0762 - val_accuracy: 0.9333\n",
      "Epoch 9/50\n",
      "15/15 [==============================] - 0s 10ms/step - loss: 3.0734e-04 - accuracy: 1.0000 - val_loss: 0.0736 - val_accuracy: 0.9333\n",
      "Epoch 10/50\n",
      "15/15 [==============================] - 0s 8ms/step - loss: 2.5944e-04 - accuracy: 1.0000 - val_loss: 0.0709 - val_accuracy: 0.9333\n",
      "Epoch 11/50\n",
      "15/15 [==============================] - 0s 9ms/step - loss: 2.2201e-04 - accuracy: 1.0000 - val_loss: 0.0724 - val_accuracy: 0.9333\n",
      "Epoch 12/50\n",
      "15/15 [==============================] - 0s 9ms/step - loss: 1.9221e-04 - accuracy: 1.0000 - val_loss: 0.0743 - val_accuracy: 0.9333\n",
      "Epoch 13/50\n",
      "15/15 [==============================] - 0s 8ms/step - loss: 1.7331e-04 - accuracy: 1.0000 - val_loss: 0.0731 - val_accuracy: 0.9333\n",
      "Epoch 14/50\n",
      "15/15 [==============================] - 0s 9ms/step - loss: 1.4947e-04 - accuracy: 1.0000 - val_loss: 0.0767 - val_accuracy: 0.9333\n",
      "Epoch 15/50\n",
      "15/15 [==============================] - 0s 8ms/step - loss: 1.3257e-04 - accuracy: 1.0000 - val_loss: 0.0758 - val_accuracy: 0.9333\n",
      "Epoch 16/50\n",
      "15/15 [==============================] - 0s 8ms/step - loss: 1.1891e-04 - accuracy: 1.0000 - val_loss: 0.0759 - val_accuracy: 0.9333\n",
      "Epoch 17/50\n",
      "15/15 [==============================] - 0s 9ms/step - loss: 1.0592e-04 - accuracy: 1.0000 - val_loss: 0.0779 - val_accuracy: 0.9333\n",
      "Epoch 18/50\n",
      "15/15 [==============================] - 0s 8ms/step - loss: 9.3100e-05 - accuracy: 1.0000 - val_loss: 0.0854 - val_accuracy: 0.9333\n",
      "Epoch 19/50\n",
      "15/15 [==============================] - 0s 9ms/step - loss: 8.3330e-05 - accuracy: 1.0000 - val_loss: 0.0869 - val_accuracy: 0.9333\n",
      "Epoch 20/50\n",
      "15/15 [==============================] - 0s 10ms/step - loss: 7.8148e-05 - accuracy: 1.0000 - val_loss: 0.0849 - val_accuracy: 0.9333\n",
      "Epoch 21/50\n",
      "15/15 [==============================] - 0s 9ms/step - loss: 6.6847e-05 - accuracy: 1.0000 - val_loss: 0.0956 - val_accuracy: 0.9333\n",
      "Epoch 22/50\n",
      "15/15 [==============================] - 0s 8ms/step - loss: 6.1312e-05 - accuracy: 1.0000 - val_loss: 0.0976 - val_accuracy: 0.9333\n",
      "Epoch 23/50\n",
      "15/15 [==============================] - 0s 8ms/step - loss: 5.5090e-05 - accuracy: 1.0000 - val_loss: 0.1039 - val_accuracy: 0.9333\n",
      "Epoch 24/50\n",
      "15/15 [==============================] - 0s 8ms/step - loss: 5.0283e-05 - accuracy: 1.0000 - val_loss: 0.1023 - val_accuracy: 0.9333\n",
      "Epoch 25/50\n",
      "15/15 [==============================] - 0s 8ms/step - loss: 4.5386e-05 - accuracy: 1.0000 - val_loss: 0.1038 - val_accuracy: 0.9333\n",
      "Epoch 26/50\n",
      "15/15 [==============================] - 0s 8ms/step - loss: 4.1813e-05 - accuracy: 1.0000 - val_loss: 0.1057 - val_accuracy: 0.9333\n",
      "Epoch 27/50\n",
      "15/15 [==============================] - 0s 9ms/step - loss: 3.9466e-05 - accuracy: 1.0000 - val_loss: 0.1166 - val_accuracy: 0.9333\n",
      "Epoch 28/50\n",
      "15/15 [==============================] - 0s 8ms/step - loss: 3.4786e-05 - accuracy: 1.0000 - val_loss: 0.1160 - val_accuracy: 0.9333\n",
      "Epoch 29/50\n",
      "15/15 [==============================] - 0s 9ms/step - loss: 3.2770e-05 - accuracy: 1.0000 - val_loss: 0.1162 - val_accuracy: 0.9333\n",
      "Epoch 30/50\n",
      "15/15 [==============================] - 0s 10ms/step - loss: 2.9973e-05 - accuracy: 1.0000 - val_loss: 0.1171 - val_accuracy: 0.9333\n",
      "Epoch 31/50\n",
      "15/15 [==============================] - 0s 8ms/step - loss: 2.7578e-05 - accuracy: 1.0000 - val_loss: 0.1216 - val_accuracy: 0.9333\n",
      "Epoch 32/50\n",
      "15/15 [==============================] - 0s 8ms/step - loss: 2.5589e-05 - accuracy: 1.0000 - val_loss: 0.1245 - val_accuracy: 0.9333\n",
      "Epoch 33/50\n",
      "15/15 [==============================] - 0s 8ms/step - loss: 2.4047e-05 - accuracy: 1.0000 - val_loss: 0.1248 - val_accuracy: 0.9333\n",
      "Epoch 34/50\n",
      "15/15 [==============================] - 0s 8ms/step - loss: 2.2238e-05 - accuracy: 1.0000 - val_loss: 0.1265 - val_accuracy: 0.9333\n",
      "Epoch 35/50\n",
      "15/15 [==============================] - 0s 8ms/step - loss: 2.0622e-05 - accuracy: 1.0000 - val_loss: 0.1331 - val_accuracy: 0.9333\n",
      "Epoch 36/50\n",
      "15/15 [==============================] - 0s 7ms/step - loss: 1.9552e-05 - accuracy: 1.0000 - val_loss: 0.1353 - val_accuracy: 0.9333\n",
      "Epoch 37/50\n",
      "15/15 [==============================] - 0s 7ms/step - loss: 1.8040e-05 - accuracy: 1.0000 - val_loss: 0.1333 - val_accuracy: 0.9333\n",
      "Epoch 38/50\n",
      "15/15 [==============================] - 0s 8ms/step - loss: 1.6858e-05 - accuracy: 1.0000 - val_loss: 0.1379 - val_accuracy: 0.9333\n",
      "Epoch 39/50\n",
      "15/15 [==============================] - 0s 8ms/step - loss: 1.5817e-05 - accuracy: 1.0000 - val_loss: 0.1388 - val_accuracy: 0.9333\n",
      "Epoch 40/50\n",
      "15/15 [==============================] - 0s 8ms/step - loss: 1.4763e-05 - accuracy: 1.0000 - val_loss: 0.1392 - val_accuracy: 0.9333\n",
      "Epoch 41/50\n",
      "15/15 [==============================] - 0s 8ms/step - loss: 1.4011e-05 - accuracy: 1.0000 - val_loss: 0.1395 - val_accuracy: 0.9333\n",
      "Epoch 42/50\n",
      "15/15 [==============================] - 0s 8ms/step - loss: 1.3113e-05 - accuracy: 1.0000 - val_loss: 0.1437 - val_accuracy: 0.9333\n",
      "Epoch 43/50\n",
      "15/15 [==============================] - 0s 7ms/step - loss: 1.2329e-05 - accuracy: 1.0000 - val_loss: 0.1436 - val_accuracy: 0.9333\n",
      "Epoch 44/50\n",
      "15/15 [==============================] - 0s 7ms/step - loss: 1.1666e-05 - accuracy: 1.0000 - val_loss: 0.1450 - val_accuracy: 0.9333\n",
      "Epoch 45/50\n",
      "15/15 [==============================] - 0s 8ms/step - loss: 1.0938e-05 - accuracy: 1.0000 - val_loss: 0.1496 - val_accuracy: 0.9333\n",
      "Epoch 46/50\n",
      "15/15 [==============================] - 0s 8ms/step - loss: 1.0371e-05 - accuracy: 1.0000 - val_loss: 0.1464 - val_accuracy: 0.9333\n",
      "Epoch 47/50\n",
      "15/15 [==============================] - 0s 8ms/step - loss: 9.6319e-06 - accuracy: 1.0000 - val_loss: 0.1487 - val_accuracy: 0.9333\n",
      "Epoch 48/50\n",
      "15/15 [==============================] - 0s 8ms/step - loss: 9.0968e-06 - accuracy: 1.0000 - val_loss: 0.1507 - val_accuracy: 0.9333\n",
      "Epoch 49/50\n",
      "15/15 [==============================] - 0s 8ms/step - loss: 8.6677e-06 - accuracy: 1.0000 - val_loss: 0.1488 - val_accuracy: 0.9333\n",
      "Epoch 50/50\n",
      "15/15 [==============================] - 0s 8ms/step - loss: 8.1008e-06 - accuracy: 1.0000 - val_loss: 0.1494 - val_accuracy: 0.9333\n"
     ]
    },
    {
     "data": {
      "text/plain": [
       "<tensorflow.python.keras.callbacks.History at 0x1b8a3973cd0>"
      ]
     },
     "execution_count": 16,
     "metadata": {},
     "output_type": "execute_result"
    }
   ],
   "source": [
    "# 3. 모델 학습과정 설정\n",
    "model.compile(loss=\"categorical_crossentropy\",optimizer='adam', metrics=['accuracy'])\n",
    "\n",
    "# 4. 모델 학습시키기\n",
    "model.fit_generator(train_data, steps_per_epoch=15, epochs=50, validation_data = test_data, validation_steps=5)"
   ]
  },
  {
   "cell_type": "code",
   "execution_count": 17,
   "id": "332b67c9",
   "metadata": {
    "ExecuteTime": {
     "end_time": "2021-08-18T03:49:42.249079Z",
     "start_time": "2021-08-18T03:49:42.186964Z"
    }
   },
   "outputs": [
    {
     "name": "stdout",
     "output_type": "stream",
     "text": [
      "loss : 0.14936360716819763\n",
      "accuracy : 0.9333333373069763\n"
     ]
    },
    {
     "name": "stderr",
     "output_type": "stream",
     "text": [
      "C:\\Users\\sangh\\anaconda3\\lib\\site-packages\\tensorflow\\python\\keras\\engine\\training.py:1973: UserWarning: `Model.evaluate_generator` is deprecated and will be removed in a future version. Please use `Model.evaluate`, which supports generators.\n",
      "  warnings.warn('`Model.evaluate_generator` is deprecated and '\n"
     ]
    }
   ],
   "source": [
    "# 모델 평가\n",
    "score = model.evaluate_generator(test_data, steps=5)\n",
    "print('loss :', score[0])\n",
    "print('accuracy :', score[1])"
   ]
  },
  {
   "cell_type": "code",
   "execution_count": 20,
   "id": "3f976f64",
   "metadata": {
    "ExecuteTime": {
     "end_time": "2021-08-18T03:53:07.060886Z",
     "start_time": "2021-08-18T03:53:06.990133Z"
    }
   },
   "outputs": [
    {
     "name": "stdout",
     "output_type": "stream",
     "text": [
      "{'circle': 0, 'rectangle': 1, 'triangle': 2}\n",
      "[[1.00 0.00 0.00]\n",
      " [1.00 0.00 0.00]\n",
      " [0.00 1.00 0.00]\n",
      " [0.00 0.00 1.00]\n",
      " [0.00 0.00 1.00]\n",
      " [1.00 0.00 0.00]\n",
      " [1.00 0.00 0.00]\n",
      " [0.00 1.00 0.00]\n",
      " [0.00 0.00 1.00]\n",
      " [0.00 1.00 0.00]\n",
      " [0.79 0.11 0.10]\n",
      " [0.00 0.00 1.00]\n",
      " [0.00 0.01 0.99]\n",
      " [0.00 1.00 0.00]\n",
      " [1.00 0.00 0.00]]\n"
     ]
    },
    {
     "name": "stderr",
     "output_type": "stream",
     "text": [
      "C:\\Users\\sangh\\anaconda3\\lib\\site-packages\\tensorflow\\python\\keras\\engine\\training.py:2001: UserWarning: `Model.predict_generator` is deprecated and will be removed in a future version. Please use `Model.predict`, which supports generators.\n",
      "  warnings.warn('`Model.predict_generator` is deprecated and '\n"
     ]
    }
   ],
   "source": [
    "# 예측하기\n",
    "pred = model.predict_generator(test_data)\n",
    "print(test_data.class_indices)\n",
    "np.set_printoptions(formatter={'float':lambda x : \"{:0.2f}\".format(x)})\n",
    "print(pred)"
   ]
  },
  {
   "cell_type": "markdown",
   "id": "6d67462b",
   "metadata": {},
   "source": [
    "# accuracy 늘리기\n",
    "    * 데이터 확보, 데이터 부풀리기(ImageDataGenerator)\n",
    "    * 레이어 층(Conv, Dense)"
   ]
  },
  {
   "cell_type": "code",
   "execution_count": 22,
   "id": "50793c3f",
   "metadata": {
    "ExecuteTime": {
     "end_time": "2021-08-18T04:03:41.584860Z",
     "start_time": "2021-08-18T04:03:41.553944Z"
    }
   },
   "outputs": [
    {
     "name": "stdout",
     "output_type": "stream",
     "text": [
      "Found 45 images belonging to 3 classes.\n",
      "Found 15 images belonging to 3 classes.\n"
     ]
    }
   ],
   "source": [
    "#1. 데이터 생성하기\n",
    "train_datagen = ImageDataGenerator(rescale=1./255,   # 정규화 작업\n",
    "                                   rotation_range=10,\n",
    "                                   width_shift_range=0.2,\n",
    "                                   height_shift_range=0.2,\n",
    "                                   shear_range=0.7,   #0.7라이안 밀림\n",
    "                                   zoom_range=[0.9,2.1],\n",
    "                                   horizontal_flip=True, #수평방향 뒤집기\n",
    "                                   vertical_flip=True,\n",
    "                                   fill_mode ='nearest' # 이미지 확대시 채우는 방식\n",
    "                                  )\n",
    "train_data = train_datagen.flow_from_directory(\n",
    "            'data/handwriting/handwriting_shape/train',\n",
    "            target_size = (24,24),\n",
    "            class_mode = 'categorical',\n",
    "            batch_size = 3\n",
    ")\n",
    "\n",
    "test_datagen = ImageDataGenerator(rescale=1./255) # 정규화 작업\n",
    "test_data = test_datagen.flow_from_directory(\n",
    "            'data/handwriting/handwriting_shape/test',\n",
    "            target_size=(24,24),\n",
    "            class_mode = 'categorical',\n",
    "            batch_size = 3\n",
    ")"
   ]
  },
  {
   "cell_type": "code",
   "execution_count": 23,
   "id": "eeda0c9c",
   "metadata": {
    "ExecuteTime": {
     "end_time": "2021-08-18T04:05:34.825505Z",
     "start_time": "2021-08-18T04:05:34.745698Z"
    }
   },
   "outputs": [],
   "source": [
    "#2. 모델 구성\n",
    "## Conv2d(필터갯수, 필터사이즈, activation_fun, 입력shape)\n",
    "model = Sequential()\n",
    "model.add(Conv2D(32, kernel_size=(3,3), activation='relu', input_shape=(24,24,3)))\n",
    "model.add(Conv2D(32, kernel_size=(3,3), activation='relu'))\n",
    "model.add(MaxPooling2D(pool_size=(2,2))) # 2*2에서 제일 큰 값만 뽑아 이미지 축소\n",
    "model.add(Dropout(0.1)) # 과적합을 막는 목적\n",
    "model.add(Conv2D(64, kernel_size=(3,3), activation='relu'))\n",
    "model.add(Conv2D(64, kernel_size=(3,3), activation='relu'))\n",
    "model.add(MaxPooling2D(pool_size=(2,2)))\n",
    "model.add(Dropout(0.1))\n",
    "\n",
    "model.add(Flatten()) # 2차원 데이터를 1차원으로\n",
    "model.add(Dense(units=128, activation='relu'))\n",
    "model.add(Dense(3, activation='softmax'))"
   ]
  },
  {
   "cell_type": "code",
   "execution_count": 24,
   "id": "d06ffa38",
   "metadata": {
    "ExecuteTime": {
     "end_time": "2021-08-18T04:05:58.108626Z",
     "start_time": "2021-08-18T04:05:51.068738Z"
    }
   },
   "outputs": [
    {
     "name": "stderr",
     "output_type": "stream",
     "text": [
      "C:\\Users\\sangh\\anaconda3\\lib\\site-packages\\tensorflow\\python\\keras\\engine\\training.py:1940: UserWarning: `Model.fit_generator` is deprecated and will be removed in a future version. Please use `Model.fit`, which supports generators.\n",
      "  warnings.warn('`Model.fit_generator` is deprecated and '\n"
     ]
    },
    {
     "name": "stdout",
     "output_type": "stream",
     "text": [
      "Epoch 1/50\n",
      "15/15 [==============================] - 1s 14ms/step - loss: 1.1305 - accuracy: 0.2222 - val_loss: 1.0926 - val_accuracy: 0.3333\n",
      "Epoch 2/50\n",
      "15/15 [==============================] - 0s 8ms/step - loss: 1.1003 - accuracy: 0.3556 - val_loss: 1.0947 - val_accuracy: 0.4000\n",
      "Epoch 3/50\n",
      "15/15 [==============================] - 0s 7ms/step - loss: 1.0981 - accuracy: 0.4000 - val_loss: 1.0953 - val_accuracy: 0.1333\n",
      "Epoch 4/50\n",
      "15/15 [==============================] - 0s 8ms/step - loss: 1.0957 - accuracy: 0.5333 - val_loss: 1.0863 - val_accuracy: 0.5333\n",
      "Epoch 5/50\n",
      "15/15 [==============================] - 0s 7ms/step - loss: 1.0985 - accuracy: 0.3111 - val_loss: 1.0405 - val_accuracy: 0.6667\n",
      "Epoch 6/50\n",
      "15/15 [==============================] - 0s 7ms/step - loss: 1.0733 - accuracy: 0.4000 - val_loss: 1.0184 - val_accuracy: 0.6667\n",
      "Epoch 7/50\n",
      "15/15 [==============================] - 0s 7ms/step - loss: 1.0113 - accuracy: 0.6444 - val_loss: 0.8673 - val_accuracy: 0.7333\n",
      "Epoch 8/50\n",
      "15/15 [==============================] - 0s 7ms/step - loss: 1.0326 - accuracy: 0.4444 - val_loss: 0.7706 - val_accuracy: 0.8000\n",
      "Epoch 9/50\n",
      "15/15 [==============================] - 0s 7ms/step - loss: 0.9445 - accuracy: 0.4889 - val_loss: 0.8646 - val_accuracy: 0.7333\n",
      "Epoch 10/50\n",
      "15/15 [==============================] - 0s 7ms/step - loss: 0.7988 - accuracy: 0.6444 - val_loss: 0.8118 - val_accuracy: 0.6667\n",
      "Epoch 11/50\n",
      "15/15 [==============================] - 0s 7ms/step - loss: 0.7687 - accuracy: 0.6222 - val_loss: 0.8937 - val_accuracy: 0.7333\n",
      "Epoch 12/50\n",
      "15/15 [==============================] - 0s 7ms/step - loss: 0.5626 - accuracy: 0.7556 - val_loss: 0.7594 - val_accuracy: 0.6000\n",
      "Epoch 13/50\n",
      "15/15 [==============================] - ETA: 0s - loss: 0.4983 - accuracy: 0.75 - 0s 7ms/step - loss: 0.5774 - accuracy: 0.7333 - val_loss: 0.3371 - val_accuracy: 0.8667\n",
      "Epoch 14/50\n",
      "15/15 [==============================] - 0s 9ms/step - loss: 0.4437 - accuracy: 0.8000 - val_loss: 0.3772 - val_accuracy: 0.8000\n",
      "Epoch 15/50\n",
      "15/15 [==============================] - 0s 8ms/step - loss: 0.6161 - accuracy: 0.7556 - val_loss: 0.3022 - val_accuracy: 0.8667\n",
      "Epoch 16/50\n",
      "15/15 [==============================] - 0s 9ms/step - loss: 0.4133 - accuracy: 0.8444 - val_loss: 0.1182 - val_accuracy: 0.9333\n",
      "Epoch 17/50\n",
      "15/15 [==============================] - 0s 8ms/step - loss: 0.4816 - accuracy: 0.8667 - val_loss: 0.3772 - val_accuracy: 0.8000\n",
      "Epoch 18/50\n",
      "15/15 [==============================] - 0s 8ms/step - loss: 0.3967 - accuracy: 0.8889 - val_loss: 0.4400 - val_accuracy: 0.7333\n",
      "Epoch 19/50\n",
      "15/15 [==============================] - 0s 9ms/step - loss: 0.2645 - accuracy: 0.8889 - val_loss: 0.3864 - val_accuracy: 0.8000\n",
      "Epoch 20/50\n",
      "15/15 [==============================] - 0s 7ms/step - loss: 0.2646 - accuracy: 0.8889 - val_loss: 1.4296 - val_accuracy: 0.7333\n",
      "Epoch 21/50\n",
      "15/15 [==============================] - 0s 8ms/step - loss: 0.1790 - accuracy: 0.9111 - val_loss: 1.0150 - val_accuracy: 0.7333\n",
      "Epoch 22/50\n",
      "15/15 [==============================] - 0s 9ms/step - loss: 0.3012 - accuracy: 0.8444 - val_loss: 1.0357 - val_accuracy: 0.7333\n",
      "Epoch 23/50\n",
      "15/15 [==============================] - 0s 7ms/step - loss: 0.7029 - accuracy: 0.7333 - val_loss: 0.1261 - val_accuracy: 1.0000\n",
      "Epoch 24/50\n",
      "15/15 [==============================] - 0s 7ms/step - loss: 0.2789 - accuracy: 0.9333 - val_loss: 0.2140 - val_accuracy: 0.8667\n",
      "Epoch 25/50\n",
      "15/15 [==============================] - 0s 7ms/step - loss: 0.2103 - accuracy: 0.9333 - val_loss: 0.0323 - val_accuracy: 1.0000\n",
      "Epoch 26/50\n",
      "15/15 [==============================] - 0s 7ms/step - loss: 0.2727 - accuracy: 0.8889 - val_loss: 0.0083 - val_accuracy: 1.0000\n",
      "Epoch 27/50\n",
      "15/15 [==============================] - 0s 7ms/step - loss: 0.1419 - accuracy: 0.9556 - val_loss: 0.0639 - val_accuracy: 1.0000\n",
      "Epoch 28/50\n",
      "15/15 [==============================] - 0s 7ms/step - loss: 0.1584 - accuracy: 0.9556 - val_loss: 0.0364 - val_accuracy: 1.0000\n",
      "Epoch 29/50\n",
      "15/15 [==============================] - 0s 7ms/step - loss: 0.3567 - accuracy: 0.8667 - val_loss: 0.0526 - val_accuracy: 1.0000\n",
      "Epoch 30/50\n",
      "15/15 [==============================] - 0s 9ms/step - loss: 0.3277 - accuracy: 0.9111 - val_loss: 0.0969 - val_accuracy: 1.0000\n",
      "Epoch 31/50\n",
      "15/15 [==============================] - 0s 7ms/step - loss: 0.2088 - accuracy: 0.9333 - val_loss: 0.0785 - val_accuracy: 1.0000\n",
      "Epoch 32/50\n",
      "15/15 [==============================] - 0s 9ms/step - loss: 0.1985 - accuracy: 0.9333 - val_loss: 0.0735 - val_accuracy: 1.0000\n",
      "Epoch 33/50\n",
      "15/15 [==============================] - 0s 8ms/step - loss: 0.0917 - accuracy: 0.9778 - val_loss: 0.0143 - val_accuracy: 1.0000\n",
      "Epoch 34/50\n",
      "15/15 [==============================] - 0s 8ms/step - loss: 0.1702 - accuracy: 0.9556 - val_loss: 0.1379 - val_accuracy: 0.9333\n",
      "Epoch 35/50\n",
      "15/15 [==============================] - 0s 9ms/step - loss: 0.2257 - accuracy: 0.9111 - val_loss: 0.0742 - val_accuracy: 1.0000\n",
      "Epoch 36/50\n",
      "15/15 [==============================] - 0s 7ms/step - loss: 0.2443 - accuracy: 0.8889 - val_loss: 0.3001 - val_accuracy: 0.8000\n",
      "Epoch 37/50\n",
      "15/15 [==============================] - 0s 9ms/step - loss: 0.0669 - accuracy: 0.9778 - val_loss: 0.4052 - val_accuracy: 0.8000\n",
      "Epoch 38/50\n",
      "15/15 [==============================] - 0s 7ms/step - loss: 0.2030 - accuracy: 0.9556 - val_loss: 0.0193 - val_accuracy: 1.0000\n",
      "Epoch 39/50\n",
      "15/15 [==============================] - 0s 9ms/step - loss: 0.1587 - accuracy: 0.9556 - val_loss: 0.0249 - val_accuracy: 1.0000\n",
      "Epoch 40/50\n",
      "15/15 [==============================] - 0s 8ms/step - loss: 0.0954 - accuracy: 0.9778 - val_loss: 0.0015 - val_accuracy: 1.0000\n",
      "Epoch 41/50\n",
      "15/15 [==============================] - 0s 7ms/step - loss: 0.1486 - accuracy: 0.9556 - val_loss: 0.4777 - val_accuracy: 0.8000\n",
      "Epoch 42/50\n",
      "15/15 [==============================] - 0s 9ms/step - loss: 0.0524 - accuracy: 0.9778 - val_loss: 0.1948 - val_accuracy: 0.8667\n",
      "Epoch 43/50\n",
      "15/15 [==============================] - 0s 8ms/step - loss: 0.0381 - accuracy: 0.9778 - val_loss: 0.1246 - val_accuracy: 0.9333\n",
      "Epoch 44/50\n",
      "15/15 [==============================] - 0s 8ms/step - loss: 0.1138 - accuracy: 0.9778 - val_loss: 0.0731 - val_accuracy: 0.9333\n",
      "Epoch 45/50\n",
      "15/15 [==============================] - 0s 8ms/step - loss: 0.1927 - accuracy: 0.9333 - val_loss: 0.1164 - val_accuracy: 0.9333\n",
      "Epoch 46/50\n",
      "15/15 [==============================] - 0s 8ms/step - loss: 0.1281 - accuracy: 0.9333 - val_loss: 0.0918 - val_accuracy: 0.9333\n",
      "Epoch 47/50\n",
      "15/15 [==============================] - 0s 9ms/step - loss: 0.1872 - accuracy: 0.9111 - val_loss: 0.0997 - val_accuracy: 0.9333\n",
      "Epoch 48/50\n",
      "15/15 [==============================] - 0s 7ms/step - loss: 0.1049 - accuracy: 0.9778 - val_loss: 0.0355 - val_accuracy: 1.0000\n",
      "Epoch 49/50\n",
      "15/15 [==============================] - 0s 7ms/step - loss: 0.0383 - accuracy: 1.0000 - val_loss: 0.0615 - val_accuracy: 1.0000\n",
      "Epoch 50/50\n",
      "15/15 [==============================] - 0s 7ms/step - loss: 0.0344 - accuracy: 1.0000 - val_loss: 0.0467 - val_accuracy: 1.0000\n"
     ]
    },
    {
     "data": {
      "text/plain": [
       "<tensorflow.python.keras.callbacks.History at 0x1b89b44c580>"
      ]
     },
     "execution_count": 24,
     "metadata": {},
     "output_type": "execute_result"
    }
   ],
   "source": [
    "# 3. 모델 학습과정 설정\n",
    "model.compile(loss=\"categorical_crossentropy\",optimizer='adam', metrics=['accuracy'])\n",
    "\n",
    "# 4. 모델 학습시키기\n",
    "model.fit_generator(train_data, steps_per_epoch=15, epochs=50, validation_data = test_data, validation_steps=5)"
   ]
  },
  {
   "cell_type": "code",
   "execution_count": null,
   "id": "32a7cd9b",
   "metadata": {},
   "outputs": [],
   "source": []
  },
  {
   "cell_type": "code",
   "execution_count": null,
   "id": "504f3d20",
   "metadata": {},
   "outputs": [],
   "source": []
  },
  {
   "cell_type": "code",
   "execution_count": null,
   "id": "f9b8c5a4",
   "metadata": {},
   "outputs": [],
   "source": []
  },
  {
   "cell_type": "code",
   "execution_count": null,
   "id": "b755a3e3",
   "metadata": {},
   "outputs": [],
   "source": []
  },
  {
   "cell_type": "code",
   "execution_count": null,
   "id": "641a9109",
   "metadata": {},
   "outputs": [],
   "source": []
  }
 ],
 "metadata": {
  "kernelspec": {
   "display_name": "Python 3",
   "language": "python",
   "name": "python3"
  },
  "language_info": {
   "codemirror_mode": {
    "name": "ipython",
    "version": 3
   },
   "file_extension": ".py",
   "mimetype": "text/x-python",
   "name": "python",
   "nbconvert_exporter": "python",
   "pygments_lexer": "ipython3",
   "version": "3.8.8"
  },
  "toc": {
   "base_numbering": 1,
   "nav_menu": {},
   "number_sections": false,
   "sideBar": true,
   "skip_h1_title": false,
   "title_cell": "Table of Contents",
   "title_sidebar": "Contents",
   "toc_cell": false,
   "toc_position": {
    "height": "calc(100% - 180px)",
    "left": "10px",
    "top": "150px",
    "width": "165px"
   },
   "toc_section_display": true,
   "toc_window_display": true
  },
  "varInspector": {
   "cols": {
    "lenName": 16,
    "lenType": 16,
    "lenVar": 40
   },
   "kernels_config": {
    "python": {
     "delete_cmd_postfix": "",
     "delete_cmd_prefix": "del ",
     "library": "var_list.py",
     "varRefreshCmd": "print(var_dic_list())"
    },
    "r": {
     "delete_cmd_postfix": ") ",
     "delete_cmd_prefix": "rm(",
     "library": "var_list.r",
     "varRefreshCmd": "cat(var_dic_list()) "
    }
   },
   "types_to_exclude": [
    "module",
    "function",
    "builtin_function_or_method",
    "instance",
    "_Feature"
   ],
   "window_display": false
  }
 },
 "nbformat": 4,
 "nbformat_minor": 5
}
