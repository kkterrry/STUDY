{
 "cells": [
  {
   "cell_type": "code",
   "execution_count": 2,
   "id": "46ae39ae",
   "metadata": {
    "ExecuteTime": {
     "end_time": "2021-08-17T08:56:22.596994Z",
     "start_time": "2021-08-17T08:56:21.697488Z"
    }
   },
   "outputs": [],
   "source": [
    "import seaborn as sns #iris데이터 \n",
    "import numpy as np\n",
    "import pandas as pd # read_csv, get_dumies(원핫인코딩)\n",
    "from sklearn.preprocessing import LabelEncoder # tensorflow v1참고\n",
    "import tensorflow.keras.utils as utils\n",
    "from sklearn.model_selection import train_test_split\n",
    "\n",
    "from tensorflow.keras.models import Sequential\n",
    "from tensorflow.keras.layers import Input, Dense, Dropout\n",
    "from tensorflow.keras import metrics\n",
    "from tensorflow.keras.callbacks import EarlyStopping\n",
    "\n",
    "import matplotlib.pyplot as plt"
   ]
  },
  {
   "cell_type": "code",
   "execution_count": 23,
   "id": "2869725d",
   "metadata": {
    "ExecuteTime": {
     "end_time": "2021-08-17T09:12:17.269933Z",
     "start_time": "2021-08-17T09:12:17.153024Z"
    }
   },
   "outputs": [
    {
     "name": "stdout",
     "output_type": "stream",
     "text": [
      "iris 종류 :  ['setosa' 'versicolor' 'virginica']\n",
      "(105, 4) (105, 3) (45, 4) (45, 3)\n",
      "WARNING:tensorflow:Please add `keras.layers.InputLayer` instead of `keras.Input` to Sequential model. `keras.Input` is intended to be used by Functional model.\n"
     ]
    }
   ],
   "source": [
    "#1. 데이터 셋 준비하기\n",
    "iris = sns.load_dataset('iris')\n",
    "iris_x = iris.iloc[:,:-1].to_numpy()\n",
    "iris_y = iris.iloc[:,-1]\n",
    "print('iris 종류 : ', iris_y.unique())  # 3, 4, 5, 6, 7, 8\n",
    "\n",
    "# 독립변수 scale 조정\n",
    "from sklearn.preprocessing import StandardScaler\n",
    "scaler = StandardScaler()\n",
    "scaler.fit(iris_x)\n",
    "iris_x = scaler.transform(iris_x)\n",
    "\n",
    "# 타겟변수 원핫인코딩(라벨링 전환) 후 numpy 배열로 변환\n",
    "#방법1\n",
    "# encoder = LabelEncoder()\n",
    "# iris_y=encoder.fit_transform(iris_y)\n",
    "# iris_y=utils.to_categorical(iris_y)\n",
    "\n",
    "#방법2\n",
    "# encoder = LabelEncoder()\n",
    "# iris_y = encoder.fit_transform(iris_y)\n",
    "# iris_y = pd.get_dummies(iris_y).values\n",
    "\n",
    "#방법3\n",
    "iris_y = pd.DataFrame(iris_y)\n",
    "iris_y = pd.get_dummies(iris_y).values\n",
    "iris_y\n",
    "\n",
    "#훈련셋과 테스트셋 분리(7:3)\n",
    "train_X, test_X, train_Y, test_Y = train_test_split(iris_x, iris_y, test_size=0.3, random_state=1)\n",
    "print(train_X.shape, train_Y.shape, test_X.shape, test_Y.shape)\n",
    "\n",
    "# 2. 모델 구성하기\n",
    "model = Sequential()\n",
    "model.add(Input(11)) #의미있는 레이어가 아니고 input_dim만 지정\n",
    "model.add(Dense(units=50, activation='relu'))\n",
    "model.add(Dense(units=50, activation='relu'))\n",
    "model.add(Dropout(0.1))\n",
    "model.add(Dense(units=30, activation='relu'))\n",
    "model.add(Dense(units=6, activation='softmax')) # 3,4,5,6,7,8 등급의 결과 합이 1\n",
    "\n",
    "# # 3. 모델 학습과정 설정\n",
    "# model.compile(loss='categorical_crossentropy', optimizer='adam', metrics=['accuracy'])\n",
    "\n",
    "# # 4. 모델 학습시키기\n",
    "# earlyStopping = EarlyStopping(patience=20)\n",
    "# hist = model.fit(train_X, train_Y, epochs=50, batch_size=200, validation_split=0.2, callbacks=[earlyStopping])\n",
    "\n",
    "# #모델 학습과정 표시하기\n",
    "# fig, loss_ax = plt.subplots(figsize=(12,8))\n",
    "# loss_ax.plot(hist.history['loss'],'y',label='train_loss')\n",
    "# loss_ax.plot(hist.history['val_loss'], 'g', label='val_loss')\n",
    "# loss_ax.set_xlabel('epochs')\n",
    "# loss_ax.set_ylabel('loss')\n",
    "\n",
    "# acc_ax =loss_ax.twinx() #x축을 공유하는 acc_ax와 loss_ax\n",
    "# acc_ax.plot(hist.history['accuracy'],'b',label='accuracy')\n",
    "# acc_ax.plot(hist.history['val_accuracy'],'r',label='val_accuracy')\n",
    "# acc_ax.set_ylabel('accuracy')\n",
    "\n",
    "# loss_ax.legend(loc='upper left')\n",
    "# acc_ax.legend(loc='lower left')\n",
    "# plt.show()\n"
   ]
  },
  {
   "cell_type": "code",
   "execution_count": 27,
   "id": "a4dc7a9c",
   "metadata": {
    "ExecuteTime": {
     "end_time": "2021-08-17T09:19:15.825332Z",
     "start_time": "2021-08-17T09:19:11.035396Z"
    }
   },
   "outputs": [
    {
     "name": "stdout",
     "output_type": "stream",
     "text": [
      "타겟변수가 될 와인 등급 종류 :  [5 6 7 4 8 3]\n",
      "(1119, 11) (1119, 6) (480, 11) (480, 6)\n",
      "WARNING:tensorflow:Please add `keras.layers.InputLayer` instead of `keras.Input` to Sequential model. `keras.Input` is intended to be used by Functional model.\n",
      "Epoch 1/100\n",
      "5/5 [==============================] - 0s 44ms/step - loss: 1.3482 - accuracy: 0.4626 - val_loss: 1.1941 - val_accuracy: 0.5446\n",
      "Epoch 2/100\n",
      "5/5 [==============================] - 0s 21ms/step - loss: 1.0906 - accuracy: 0.5899 - val_loss: 1.0418 - val_accuracy: 0.6250\n",
      "Epoch 3/100\n",
      "5/5 [==============================] - 0s 23ms/step - loss: 0.9992 - accuracy: 0.6123 - val_loss: 0.9882 - val_accuracy: 0.6071\n",
      "Epoch 4/100\n",
      "5/5 [==============================] - 0s 23ms/step - loss: 0.9521 - accuracy: 0.6101 - val_loss: 0.9642 - val_accuracy: 0.6071\n",
      "Epoch 5/100\n",
      "5/5 [==============================] - 0s 22ms/step - loss: 0.8987 - accuracy: 0.6480 - val_loss: 0.9614 - val_accuracy: 0.6116\n",
      "Epoch 6/100\n",
      "5/5 [==============================] - 0s 22ms/step - loss: 0.8638 - accuracy: 0.6492 - val_loss: 0.9699 - val_accuracy: 0.6205\n",
      "Epoch 7/100\n",
      "5/5 [==============================] - 0s 28ms/step - loss: 0.8193 - accuracy: 0.6682 - val_loss: 0.9445 - val_accuracy: 0.6205\n",
      "Epoch 8/100\n",
      "5/5 [==============================] - 0s 24ms/step - loss: 0.7848 - accuracy: 0.6872 - val_loss: 0.9592 - val_accuracy: 0.6429\n",
      "Epoch 9/100\n",
      "5/5 [==============================] - 0s 23ms/step - loss: 0.7570 - accuracy: 0.7006 - val_loss: 0.9781 - val_accuracy: 0.6295\n",
      "Epoch 10/100\n",
      "5/5 [==============================] - 0s 25ms/step - loss: 0.7312 - accuracy: 0.6916 - val_loss: 1.0195 - val_accuracy: 0.6161\n",
      "Epoch 11/100\n",
      "5/5 [==============================] - 0s 21ms/step - loss: 0.6989 - accuracy: 0.7151 - val_loss: 1.0032 - val_accuracy: 0.6518\n",
      "Epoch 12/100\n",
      "5/5 [==============================] - 0s 21ms/step - loss: 0.6712 - accuracy: 0.7397 - val_loss: 1.0108 - val_accuracy: 0.6161\n",
      "Epoch 13/100\n",
      "5/5 [==============================] - 0s 22ms/step - loss: 0.6331 - accuracy: 0.7397 - val_loss: 1.0628 - val_accuracy: 0.5893\n",
      "Epoch 14/100\n",
      "5/5 [==============================] - 0s 22ms/step - loss: 0.6216 - accuracy: 0.7408 - val_loss: 1.0332 - val_accuracy: 0.6429\n",
      "Epoch 15/100\n",
      "5/5 [==============================] - 0s 22ms/step - loss: 0.5854 - accuracy: 0.7788 - val_loss: 1.0678 - val_accuracy: 0.6518\n",
      "Epoch 16/100\n",
      "5/5 [==============================] - 0s 22ms/step - loss: 0.5498 - accuracy: 0.7844 - val_loss: 1.0753 - val_accuracy: 0.6250\n",
      "Epoch 17/100\n",
      "5/5 [==============================] - 0s 21ms/step - loss: 0.5246 - accuracy: 0.7978 - val_loss: 1.0881 - val_accuracy: 0.6384\n",
      "Epoch 18/100\n",
      "5/5 [==============================] - 0s 21ms/step - loss: 0.4981 - accuracy: 0.8179 - val_loss: 1.1465 - val_accuracy: 0.6027\n",
      "Epoch 19/100\n",
      "5/5 [==============================] - 0s 22ms/step - loss: 0.4966 - accuracy: 0.7899 - val_loss: 1.1715 - val_accuracy: 0.6339\n",
      "Epoch 20/100\n",
      "5/5 [==============================] - 0s 21ms/step - loss: 0.4695 - accuracy: 0.8156 - val_loss: 1.2181 - val_accuracy: 0.5982\n",
      "Epoch 21/100\n",
      "5/5 [==============================] - 0s 23ms/step - loss: 0.4525 - accuracy: 0.8324 - val_loss: 1.1731 - val_accuracy: 0.6205\n",
      "Epoch 22/100\n",
      "5/5 [==============================] - 0s 22ms/step - loss: 0.4111 - accuracy: 0.8413 - val_loss: 1.1911 - val_accuracy: 0.6250\n",
      "Epoch 23/100\n",
      "5/5 [==============================] - 0s 21ms/step - loss: 0.3939 - accuracy: 0.8525 - val_loss: 1.2777 - val_accuracy: 0.6116\n",
      "Epoch 24/100\n",
      "5/5 [==============================] - 0s 21ms/step - loss: 0.4051 - accuracy: 0.8469 - val_loss: 1.2848 - val_accuracy: 0.6250\n",
      "Epoch 25/100\n",
      "5/5 [==============================] - 0s 22ms/step - loss: 0.3654 - accuracy: 0.8704 - val_loss: 1.3113 - val_accuracy: 0.6339\n",
      "Epoch 26/100\n",
      "5/5 [==============================] - 0s 22ms/step - loss: 0.3280 - accuracy: 0.8883 - val_loss: 1.3292 - val_accuracy: 0.6384\n",
      "Epoch 27/100\n",
      "5/5 [==============================] - 0s 21ms/step - loss: 0.3168 - accuracy: 0.8939 - val_loss: 1.3534 - val_accuracy: 0.6161\n",
      "Epoch 28/100\n",
      "5/5 [==============================] - 0s 21ms/step - loss: 0.3033 - accuracy: 0.9006 - val_loss: 1.3837 - val_accuracy: 0.6429\n",
      "Epoch 29/100\n",
      "5/5 [==============================] - 0s 22ms/step - loss: 0.2848 - accuracy: 0.8983 - val_loss: 1.4093 - val_accuracy: 0.6429\n",
      "Epoch 30/100\n",
      "5/5 [==============================] - 0s 27ms/step - loss: 0.2598 - accuracy: 0.8994 - val_loss: 1.4523 - val_accuracy: 0.6339\n",
      "Epoch 31/100\n",
      "5/5 [==============================] - 0s 23ms/step - loss: 0.2914 - accuracy: 0.9017 - val_loss: 1.4657 - val_accuracy: 0.6473\n",
      "Epoch 32/100\n",
      "5/5 [==============================] - 0s 21ms/step - loss: 0.2698 - accuracy: 0.8860 - val_loss: 1.5328 - val_accuracy: 0.6250\n",
      "Epoch 33/100\n",
      "5/5 [==============================] - 0s 21ms/step - loss: 0.2362 - accuracy: 0.9229 - val_loss: 1.5166 - val_accuracy: 0.6116\n",
      "Epoch 34/100\n",
      "5/5 [==============================] - 0s 22ms/step - loss: 0.2144 - accuracy: 0.9419 - val_loss: 1.5056 - val_accuracy: 0.6562\n",
      "Epoch 35/100\n",
      "5/5 [==============================] - 0s 26ms/step - loss: 0.2119 - accuracy: 0.9307 - val_loss: 1.5402 - val_accuracy: 0.6339\n",
      "Epoch 36/100\n",
      "5/5 [==============================] - 0s 24ms/step - loss: 0.1869 - accuracy: 0.9497 - val_loss: 1.5861 - val_accuracy: 0.6339\n",
      "Epoch 37/100\n",
      "5/5 [==============================] - 0s 22ms/step - loss: 0.1714 - accuracy: 0.9542 - val_loss: 1.6370 - val_accuracy: 0.6250\n"
     ]
    },
    {
     "data": {
      "image/png": "[encoded data removed]",
      "text/plain": [
       "<Figure size 864x576 with 2 Axes>"
      ]
     },
     "metadata": {
      "needs_background": "light"
     },
     "output_type": "display_data"
    }
   ],
   "source": [
    "#1. 데이터 셋 준비하기\n",
    "redwine = pd.read_csv('data/winequality-red.csv',sep=';')\n",
    "redwine_x = redwine.iloc[:,:-1].to_numpy()  # to_numpy()함수는 values와 유사\n",
    "redwine_y = redwine.iloc[:,-1]\n",
    "print('타겟변수가 될 와인 등급 종류 : ', redwine_y.unique())  # 3, 4, 5, 6, 7, 8\n",
    "\n",
    "# 독립변수 scale 조정\n",
    "from sklearn.preprocessing import StandardScaler\n",
    "scaler = StandardScaler()\n",
    "scaler.fit(redwine_x)\n",
    "redwine_x = scaler.transform(redwine_x)\n",
    "\n",
    "# 타겟변수 원핫인코딩(라벨링 전환) 후 numpy 배열로 변환\n",
    "redwine_y = pd.get_dummies(redwine_y).to_numpy()\n",
    "\n",
    "#훈련셋과 테스트셋 분리(7:3)\n",
    "train_X, test_X, train_Y, test_Y = train_test_split(redwine_x, redwine_y, test_size=0.3, random_state=1)\n",
    "print(train_X.shape, train_Y.shape, test_X.shape, test_Y.shape)\n",
    "\n",
    "# 2. 모델 구성하기\n",
    "model = Sequential()\n",
    "model.add(Input(11)) #의미있는 레이어가 아니고 input_dim만 지정\n",
    "model.add(Dense(units=100, activation='relu'))\n",
    "model.add(Dense(units=1000, activation='relu'))\n",
    "model.add(Dropout(0.1))\n",
    "model.add(Dense(units=2000, activation='relu'))\n",
    "model.add(Dense(units=6, activation='softmax')) # 3,4,5,6,7,8 등급의 결과 합이 1\n",
    "\n",
    "# 3. 모델 학습과정 설정\n",
    "model.compile(loss='categorical_crossentropy', optimizer='adam', metrics=['accuracy'])\n",
    "\n",
    "# 4. 모델 학습시키기\n",
    "earlyStopping = EarlyStopping(patience=30)\n",
    "hist = model.fit(train_X, train_Y, epochs=100, batch_size=200, validation_split=0.2, callbacks=[earlyStopping])\n",
    "\n",
    "#모델 학습과정 표시하기\n",
    "fig, loss_ax = plt.subplots(figsize=(12,8))\n",
    "loss_ax.plot(hist.history['loss'],'y',label='train_loss')\n",
    "loss_ax.plot(hist.history['val_loss'], 'g', label='val_loss')\n",
    "loss_ax.set_xlabel('epochs')\n",
    "loss_ax.set_ylabel('loss')\n",
    "\n",
    "acc_ax =loss_ax.twinx() #x축을 공유하는 acc_ax와 loss_ax\n",
    "acc_ax.plot(hist.history['accuracy'],'b',label='accuracy')\n",
    "acc_ax.plot(hist.history['val_accuracy'],'r',label='val_accuracy')\n",
    "acc_ax.set_ylabel('accuracy')\n",
    "\n",
    "loss_ax.legend(loc='upper left')\n",
    "acc_ax.legend(loc='lower left')\n",
    "plt.show()"
   ]
  },
  {
   "cell_type": "code",
   "execution_count": null,
   "id": "fad3b5e0",
   "metadata": {},
   "outputs": [],
   "source": []
  },
  {
   "cell_type": "code",
   "execution_count": null,
   "id": "5542a95f",
   "metadata": {},
   "outputs": [],
   "source": []
  },
  {
   "cell_type": "code",
   "execution_count": null,
   "id": "c6d8a1bd",
   "metadata": {},
   "outputs": [],
   "source": []
  },
  {
   "cell_type": "code",
   "execution_count": null,
   "id": "81303e60",
   "metadata": {},
   "outputs": [],
   "source": []
  },
  {
   "cell_type": "code",
   "execution_count": null,
   "id": "5d9565e9",
   "metadata": {},
   "outputs": [],
   "source": []
  },
  {
   "cell_type": "code",
   "execution_count": null,
   "id": "3bab71e5",
   "metadata": {},
   "outputs": [],
   "source": []
  },
  {
   "cell_type": "code",
   "execution_count": null,
   "id": "63e3ce97",
   "metadata": {},
   "outputs": [],
   "source": []
  },
  {
   "cell_type": "code",
   "execution_count": null,
   "id": "50caa910",
   "metadata": {},
   "outputs": [],
   "source": []
  },
  {
   "cell_type": "code",
   "execution_count": null,
   "id": "6d0bedc0",
   "metadata": {},
   "outputs": [],
   "source": []
  },
  {
   "cell_type": "code",
   "execution_count": null,
   "id": "6a538751",
   "metadata": {},
   "outputs": [],
   "source": []
  },
  {
   "cell_type": "code",
   "execution_count": null,
   "id": "14390c7c",
   "metadata": {},
   "outputs": [],
   "source": []
  }
 ],
 "metadata": {
  "kernelspec": {
   "display_name": "Python 3",
   "language": "python",
   "name": "python3"
  },
  "language_info": {
   "codemirror_mode": {
    "name": "ipython",
    "version": 3
   },
   "file_extension": ".py",
   "mimetype": "text/x-python",
   "name": "python",
   "nbconvert_exporter": "python",
   "pygments_lexer": "ipython3",
   "version": "3.8.8"
  },
  "toc": {
   "base_numbering": 1,
   "nav_menu": {},
   "number_sections": true,
   "sideBar": true,
   "skip_h1_title": false,
   "title_cell": "Table of Contents",
   "title_sidebar": "Contents",
   "toc_cell": false,
   "toc_position": {},
   "toc_section_display": true,
   "toc_window_display": false
  },
  "varInspector": {
   "cols": {
    "lenName": 16,
    "lenType": 16,
    "lenVar": 40
   },
   "kernels_config": {
    "python": {
     "delete_cmd_postfix": "",
     "delete_cmd_prefix": "del ",
     "library": "var_list.py",
     "varRefreshCmd": "print(var_dic_list())"
    },
    "r": {
     "delete_cmd_postfix": ") ",
     "delete_cmd_prefix": "rm(",
     "library": "var_list.r",
     "varRefreshCmd": "cat(var_dic_list()) "
    }
   },
   "types_to_exclude": [
    "module",
    "function",
    "builtin_function_or_method",
    "instance",
    "_Feature"
   ],
   "window_display": false
  }
 },
 "nbformat": 4,
 "nbformat_minor": 5
}
