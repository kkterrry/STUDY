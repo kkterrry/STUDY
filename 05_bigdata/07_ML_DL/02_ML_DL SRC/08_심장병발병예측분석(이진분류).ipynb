{
 "cells": [
  {
   "cell_type": "code",
   "execution_count": 3,
   "id": "3c6d70fb",
   "metadata": {
    "ExecuteTime": {
     "end_time": "2021-08-17T05:50:40.959687Z",
     "start_time": "2021-08-17T05:50:40.705020Z"
    }
   },
   "outputs": [],
   "source": [
    "import pandas as pd\n",
    "import numpy as np\n",
    "from sklearn.preprocessing import MinMaxScaler\n",
    "from sklearn.model_selection import train_test_split #훈련셋과 테스트 셋을 분리\n",
    "from tensorflow.keras.models import Sequential\n",
    "from tensorflow.keras.layers import Dense, Dropout\n",
    "import matplotlib.pyplot as plt"
   ]
  },
  {
   "cell_type": "code",
   "execution_count": 4,
   "id": "f1c8fbf7",
   "metadata": {
    "ExecuteTime": {
     "end_time": "2021-08-17T05:53:41.736272Z",
     "start_time": "2021-08-17T05:53:40.994739Z"
    }
   },
   "outputs": [
    {
     "data": {
      "text/html": [
       "<div>\n",
       "<style scoped>\n",
       "    .dataframe tbody tr th:only-of-type {\n",
       "        vertical-align: middle;\n",
       "    }\n",
       "\n",
       "    .dataframe tbody tr th {\n",
       "        vertical-align: top;\n",
       "    }\n",
       "\n",
       "    .dataframe thead th {\n",
       "        text-align: right;\n",
       "    }\n",
       "</style>\n",
       "<table border=\"1\" class=\"dataframe\">\n",
       "  <thead>\n",
       "    <tr style=\"text-align: right;\">\n",
       "      <th></th>\n",
       "      <th>age</th>\n",
       "      <th>sex</th>\n",
       "      <th>cp</th>\n",
       "      <th>treshtbps</th>\n",
       "      <th>chol</th>\n",
       "      <th>fbs</th>\n",
       "      <th>restecg</th>\n",
       "      <th>thalach</th>\n",
       "      <th>exang</th>\n",
       "      <th>oldpeak</th>\n",
       "      <th>slope</th>\n",
       "      <th>ca</th>\n",
       "      <th>hsl</th>\n",
       "      <th>heartDisease</th>\n",
       "    </tr>\n",
       "  </thead>\n",
       "  <tbody>\n",
       "    <tr>\n",
       "      <th>0</th>\n",
       "      <td>63</td>\n",
       "      <td>1</td>\n",
       "      <td>1</td>\n",
       "      <td>145</td>\n",
       "      <td>233</td>\n",
       "      <td>1</td>\n",
       "      <td>2</td>\n",
       "      <td>150</td>\n",
       "      <td>0</td>\n",
       "      <td>2.3</td>\n",
       "      <td>3</td>\n",
       "      <td>0</td>\n",
       "      <td>6</td>\n",
       "      <td>0</td>\n",
       "    </tr>\n",
       "    <tr>\n",
       "      <th>1</th>\n",
       "      <td>67</td>\n",
       "      <td>1</td>\n",
       "      <td>4</td>\n",
       "      <td>160</td>\n",
       "      <td>286</td>\n",
       "      <td>0</td>\n",
       "      <td>0</td>\n",
       "      <td>108</td>\n",
       "      <td>1</td>\n",
       "      <td>1.5</td>\n",
       "      <td>2</td>\n",
       "      <td>3</td>\n",
       "      <td>3</td>\n",
       "      <td>1</td>\n",
       "    </tr>\n",
       "    <tr>\n",
       "      <th>2</th>\n",
       "      <td>67</td>\n",
       "      <td>1</td>\n",
       "      <td>4</td>\n",
       "      <td>120</td>\n",
       "      <td>?</td>\n",
       "      <td>0</td>\n",
       "      <td>2</td>\n",
       "      <td>129</td>\n",
       "      <td>1</td>\n",
       "      <td>2.6</td>\n",
       "      <td>2</td>\n",
       "      <td>2</td>\n",
       "      <td>7</td>\n",
       "      <td>1</td>\n",
       "    </tr>\n",
       "    <tr>\n",
       "      <th>3</th>\n",
       "      <td>37</td>\n",
       "      <td>1</td>\n",
       "      <td>3</td>\n",
       "      <td>130</td>\n",
       "      <td>250</td>\n",
       "      <td>0</td>\n",
       "      <td>0</td>\n",
       "      <td>187</td>\n",
       "      <td>0</td>\n",
       "      <td>3.5</td>\n",
       "      <td>3</td>\n",
       "      <td>0</td>\n",
       "      <td>3</td>\n",
       "      <td>0</td>\n",
       "    </tr>\n",
       "    <tr>\n",
       "      <th>4</th>\n",
       "      <td>41</td>\n",
       "      <td>0</td>\n",
       "      <td>2</td>\n",
       "      <td>130</td>\n",
       "      <td>204</td>\n",
       "      <td>0</td>\n",
       "      <td>2</td>\n",
       "      <td>172</td>\n",
       "      <td>0</td>\n",
       "      <td>1.4</td>\n",
       "      <td>1</td>\n",
       "      <td>0</td>\n",
       "      <td>3</td>\n",
       "      <td>0</td>\n",
       "    </tr>\n",
       "  </tbody>\n",
       "</table>\n",
       "</div>"
      ],
      "text/plain": [
       "   age  sex  cp  treshtbps chol  fbs  restecg  thalach  exang  oldpeak  slope  \\\n",
       "0   63    1   1        145  233    1        2      150      0      2.3      3   \n",
       "1   67    1   4        160  286    0        0      108      1      1.5      2   \n",
       "2   67    1   4        120    ?    0        2      129      1      2.6      2   \n",
       "3   37    1   3        130  250    0        0      187      0      3.5      3   \n",
       "4   41    0   2        130  204    0        2      172      0      1.4      1   \n",
       "\n",
       "  ca hsl  heartDisease  \n",
       "0  0   6             0  \n",
       "1  3   3             1  \n",
       "2  2   7             1  \n",
       "3  0   3             0  \n",
       "4  0   3             0  "
      ]
     },
     "execution_count": 4,
     "metadata": {},
     "output_type": "execute_result"
    }
   ],
   "source": [
    "#1. 데이터 셋 생성\n",
    "raw_data = pd.read_excel('./data/heart-disease.xlsx')\n",
    "#http://archive.ics.uci.edu/ml/datasets/heart+disease\n",
    "raw_data.head()"
   ]
  },
  {
   "cell_type": "code",
   "execution_count": 5,
   "id": "5f1639cf",
   "metadata": {
    "ExecuteTime": {
     "end_time": "2021-08-17T05:54:22.415875Z",
     "start_time": "2021-08-17T05:54:22.387911Z"
    }
   },
   "outputs": [
    {
     "name": "stdout",
     "output_type": "stream",
     "text": [
      "<class 'pandas.core.frame.DataFrame'>\n",
      "RangeIndex: 303 entries, 0 to 302\n",
      "Data columns (total 14 columns):\n",
      " #   Column        Non-Null Count  Dtype  \n",
      "---  ------        --------------  -----  \n",
      " 0   age           303 non-null    int64  \n",
      " 1   sex           303 non-null    int64  \n",
      " 2   cp            303 non-null    int64  \n",
      " 3   treshtbps     303 non-null    int64  \n",
      " 4   chol          303 non-null    object \n",
      " 5   fbs           303 non-null    int64  \n",
      " 6   restecg       303 non-null    int64  \n",
      " 7   thalach       303 non-null    int64  \n",
      " 8   exang         303 non-null    int64  \n",
      " 9   oldpeak       303 non-null    float64\n",
      " 10  slope         303 non-null    int64  \n",
      " 11  ca            303 non-null    object \n",
      " 12  hsl           303 non-null    object \n",
      " 13  heartDisease  303 non-null    int64  \n",
      "dtypes: float64(1), int64(10), object(3)\n",
      "memory usage: 33.3+ KB\n"
     ]
    }
   ],
   "source": [
    "raw_data.info()"
   ]
  },
  {
   "cell_type": "code",
   "execution_count": 8,
   "id": "1f101f99",
   "metadata": {
    "ExecuteTime": {
     "end_time": "2021-08-17T05:58:24.791622Z",
     "start_time": "2021-08-17T05:58:24.760675Z"
    }
   },
   "outputs": [
    {
     "data": {
      "text/html": [
       "<div>\n",
       "<style scoped>\n",
       "    .dataframe tbody tr th:only-of-type {\n",
       "        vertical-align: middle;\n",
       "    }\n",
       "\n",
       "    .dataframe tbody tr th {\n",
       "        vertical-align: top;\n",
       "    }\n",
       "\n",
       "    .dataframe thead th {\n",
       "        text-align: right;\n",
       "    }\n",
       "</style>\n",
       "<table border=\"1\" class=\"dataframe\">\n",
       "  <thead>\n",
       "    <tr style=\"text-align: right;\">\n",
       "      <th></th>\n",
       "      <th>age</th>\n",
       "      <th>sex</th>\n",
       "      <th>cp</th>\n",
       "      <th>treshtbps</th>\n",
       "      <th>chol</th>\n",
       "      <th>fbs</th>\n",
       "      <th>restecg</th>\n",
       "      <th>thalach</th>\n",
       "      <th>exang</th>\n",
       "      <th>oldpeak</th>\n",
       "      <th>slope</th>\n",
       "      <th>ca</th>\n",
       "      <th>hsl</th>\n",
       "      <th>heartDisease</th>\n",
       "    </tr>\n",
       "  </thead>\n",
       "  <tbody>\n",
       "    <tr>\n",
       "      <th>2</th>\n",
       "      <td>67</td>\n",
       "      <td>1</td>\n",
       "      <td>4</td>\n",
       "      <td>120</td>\n",
       "      <td>?</td>\n",
       "      <td>0</td>\n",
       "      <td>2</td>\n",
       "      <td>129</td>\n",
       "      <td>1</td>\n",
       "      <td>2.6</td>\n",
       "      <td>2</td>\n",
       "      <td>2</td>\n",
       "      <td>7</td>\n",
       "      <td>1</td>\n",
       "    </tr>\n",
       "    <tr>\n",
       "      <th>87</th>\n",
       "      <td>53</td>\n",
       "      <td>0</td>\n",
       "      <td>3</td>\n",
       "      <td>128</td>\n",
       "      <td>216</td>\n",
       "      <td>0</td>\n",
       "      <td>2</td>\n",
       "      <td>115</td>\n",
       "      <td>0</td>\n",
       "      <td>0.0</td>\n",
       "      <td>1</td>\n",
       "      <td>0</td>\n",
       "      <td>?</td>\n",
       "      <td>0</td>\n",
       "    </tr>\n",
       "    <tr>\n",
       "      <th>166</th>\n",
       "      <td>52</td>\n",
       "      <td>1</td>\n",
       "      <td>3</td>\n",
       "      <td>138</td>\n",
       "      <td>223</td>\n",
       "      <td>0</td>\n",
       "      <td>0</td>\n",
       "      <td>169</td>\n",
       "      <td>0</td>\n",
       "      <td>0.0</td>\n",
       "      <td>1</td>\n",
       "      <td>?</td>\n",
       "      <td>3</td>\n",
       "      <td>0</td>\n",
       "    </tr>\n",
       "    <tr>\n",
       "      <th>192</th>\n",
       "      <td>43</td>\n",
       "      <td>1</td>\n",
       "      <td>4</td>\n",
       "      <td>132</td>\n",
       "      <td>247</td>\n",
       "      <td>1</td>\n",
       "      <td>2</td>\n",
       "      <td>143</td>\n",
       "      <td>1</td>\n",
       "      <td>0.1</td>\n",
       "      <td>2</td>\n",
       "      <td>?</td>\n",
       "      <td>7</td>\n",
       "      <td>1</td>\n",
       "    </tr>\n",
       "    <tr>\n",
       "      <th>266</th>\n",
       "      <td>52</td>\n",
       "      <td>1</td>\n",
       "      <td>4</td>\n",
       "      <td>128</td>\n",
       "      <td>204</td>\n",
       "      <td>1</td>\n",
       "      <td>0</td>\n",
       "      <td>156</td>\n",
       "      <td>1</td>\n",
       "      <td>1.0</td>\n",
       "      <td>2</td>\n",
       "      <td>0</td>\n",
       "      <td>?</td>\n",
       "      <td>1</td>\n",
       "    </tr>\n",
       "    <tr>\n",
       "      <th>287</th>\n",
       "      <td>58</td>\n",
       "      <td>1</td>\n",
       "      <td>2</td>\n",
       "      <td>125</td>\n",
       "      <td>220</td>\n",
       "      <td>0</td>\n",
       "      <td>0</td>\n",
       "      <td>144</td>\n",
       "      <td>0</td>\n",
       "      <td>0.4</td>\n",
       "      <td>2</td>\n",
       "      <td>?</td>\n",
       "      <td>7</td>\n",
       "      <td>0</td>\n",
       "    </tr>\n",
       "    <tr>\n",
       "      <th>302</th>\n",
       "      <td>38</td>\n",
       "      <td>1</td>\n",
       "      <td>3</td>\n",
       "      <td>138</td>\n",
       "      <td>175</td>\n",
       "      <td>0</td>\n",
       "      <td>0</td>\n",
       "      <td>173</td>\n",
       "      <td>0</td>\n",
       "      <td>0.0</td>\n",
       "      <td>1</td>\n",
       "      <td>?</td>\n",
       "      <td>3</td>\n",
       "      <td>0</td>\n",
       "    </tr>\n",
       "  </tbody>\n",
       "</table>\n",
       "</div>"
      ],
      "text/plain": [
       "     age  sex  cp  treshtbps chol  fbs  restecg  thalach  exang  oldpeak  \\\n",
       "2     67    1   4        120    ?    0        2      129      1      2.6   \n",
       "87    53    0   3        128  216    0        2      115      0      0.0   \n",
       "166   52    1   3        138  223    0        0      169      0      0.0   \n",
       "192   43    1   4        132  247    1        2      143      1      0.1   \n",
       "266   52    1   4        128  204    1        0      156      1      1.0   \n",
       "287   58    1   2        125  220    0        0      144      0      0.4   \n",
       "302   38    1   3        138  175    0        0      173      0      0.0   \n",
       "\n",
       "     slope ca hsl  heartDisease  \n",
       "2        2  2   7             1  \n",
       "87       1  0   ?             0  \n",
       "166      1  ?   3             0  \n",
       "192      2  ?   7             1  \n",
       "266      2  0   ?             1  \n",
       "287      2  ?   7             0  \n",
       "302      1  ?   3             0  "
      ]
     },
     "execution_count": 8,
     "metadata": {},
     "output_type": "execute_result"
    }
   ],
   "source": [
    "raw_data[(raw_data['chol']=='?') | (raw_data['ca']=='?') | (raw_data['hsl']=='?')]"
   ]
  },
  {
   "cell_type": "code",
   "execution_count": 9,
   "id": "a45f046a",
   "metadata": {
    "ExecuteTime": {
     "end_time": "2021-08-17T05:59:41.310694Z",
     "start_time": "2021-08-17T05:59:41.285755Z"
    }
   },
   "outputs": [
    {
     "name": "stdout",
     "output_type": "stream",
     "text": [
      "<class 'pandas.core.frame.DataFrame'>\n",
      "RangeIndex: 303 entries, 0 to 302\n",
      "Data columns (total 14 columns):\n",
      " #   Column        Non-Null Count  Dtype  \n",
      "---  ------        --------------  -----  \n",
      " 0   age           303 non-null    int64  \n",
      " 1   sex           303 non-null    int64  \n",
      " 2   cp            303 non-null    int64  \n",
      " 3   treshtbps     303 non-null    int64  \n",
      " 4   chol          302 non-null    float64\n",
      " 5   fbs           303 non-null    int64  \n",
      " 6   restecg       303 non-null    int64  \n",
      " 7   thalach       303 non-null    int64  \n",
      " 8   exang         303 non-null    int64  \n",
      " 9   oldpeak       303 non-null    float64\n",
      " 10  slope         303 non-null    int64  \n",
      " 11  ca            299 non-null    float64\n",
      " 12  hsl           301 non-null    float64\n",
      " 13  heartDisease  303 non-null    int64  \n",
      "dtypes: float64(4), int64(10)\n",
      "memory usage: 33.3 KB\n"
     ]
    }
   ],
   "source": [
    "clean_data = raw_data.replace('?',np.nan)\n",
    "clean_data.info()"
   ]
  },
  {
   "cell_type": "code",
   "execution_count": 10,
   "id": "9e596f3c",
   "metadata": {
    "ExecuteTime": {
     "end_time": "2021-08-17T06:01:48.326320Z",
     "start_time": "2021-08-17T06:01:48.285915Z"
    }
   },
   "outputs": [
    {
     "data": {
      "text/plain": [
       "age             0\n",
       "sex             0\n",
       "cp              0\n",
       "treshtbps       0\n",
       "chol            0\n",
       "fbs             0\n",
       "restecg         0\n",
       "thalach         0\n",
       "exang           0\n",
       "oldpeak         0\n",
       "slope           0\n",
       "ca              0\n",
       "hsl             0\n",
       "heartDisease    0\n",
       "dtype: int64"
      ]
     },
     "execution_count": 10,
     "metadata": {},
     "output_type": "execute_result"
    }
   ],
   "source": [
    "clean_data.dropna(how='any', inplace=True) # 결측치 있는 행 제거\n",
    "clean_data.isna().sum()"
   ]
  },
  {
   "cell_type": "code",
   "execution_count": 12,
   "id": "5594c1a4",
   "metadata": {
    "ExecuteTime": {
     "end_time": "2021-08-17T06:08:26.918999Z",
     "start_time": "2021-08-17T06:08:26.895706Z"
    }
   },
   "outputs": [
    {
     "data": {
      "text/html": [
       "<div>\n",
       "<style scoped>\n",
       "    .dataframe tbody tr th:only-of-type {\n",
       "        vertical-align: middle;\n",
       "    }\n",
       "\n",
       "    .dataframe tbody tr th {\n",
       "        vertical-align: top;\n",
       "    }\n",
       "\n",
       "    .dataframe thead th {\n",
       "        text-align: right;\n",
       "    }\n",
       "</style>\n",
       "<table border=\"1\" class=\"dataframe\">\n",
       "  <thead>\n",
       "    <tr style=\"text-align: right;\">\n",
       "      <th></th>\n",
       "      <th>heartDisease</th>\n",
       "    </tr>\n",
       "  </thead>\n",
       "  <tbody>\n",
       "    <tr>\n",
       "      <th>0</th>\n",
       "      <td>0</td>\n",
       "    </tr>\n",
       "    <tr>\n",
       "      <th>1</th>\n",
       "      <td>1</td>\n",
       "    </tr>\n",
       "    <tr>\n",
       "      <th>3</th>\n",
       "      <td>0</td>\n",
       "    </tr>\n",
       "    <tr>\n",
       "      <th>4</th>\n",
       "      <td>0</td>\n",
       "    </tr>\n",
       "    <tr>\n",
       "      <th>5</th>\n",
       "      <td>0</td>\n",
       "    </tr>\n",
       "    <tr>\n",
       "      <th>...</th>\n",
       "      <td>...</td>\n",
       "    </tr>\n",
       "    <tr>\n",
       "      <th>297</th>\n",
       "      <td>1</td>\n",
       "    </tr>\n",
       "    <tr>\n",
       "      <th>298</th>\n",
       "      <td>1</td>\n",
       "    </tr>\n",
       "    <tr>\n",
       "      <th>299</th>\n",
       "      <td>1</td>\n",
       "    </tr>\n",
       "    <tr>\n",
       "      <th>300</th>\n",
       "      <td>1</td>\n",
       "    </tr>\n",
       "    <tr>\n",
       "      <th>301</th>\n",
       "      <td>1</td>\n",
       "    </tr>\n",
       "  </tbody>\n",
       "</table>\n",
       "<p>296 rows × 1 columns</p>\n",
       "</div>"
      ],
      "text/plain": [
       "     heartDisease\n",
       "0               0\n",
       "1               1\n",
       "3               0\n",
       "4               0\n",
       "5               0\n",
       "..            ...\n",
       "297             1\n",
       "298             1\n",
       "299             1\n",
       "300             1\n",
       "301             1\n",
       "\n",
       "[296 rows x 1 columns]"
      ]
     },
     "execution_count": 12,
     "metadata": {},
     "output_type": "execute_result"
    }
   ],
   "source": [
    "# 독립변수(입력변수), 타겟변수(종속변수)\n",
    "input = clean_data.iloc[:,:-1] \n",
    "Target = clean_data.iloc[:,[-1]] #2차원 데이터\n",
    "Target"
   ]
  },
  {
   "cell_type": "code",
   "execution_count": 14,
   "id": "01079dab",
   "metadata": {
    "ExecuteTime": {
     "end_time": "2021-08-17T06:09:26.642258Z",
     "start_time": "2021-08-17T06:09:26.627356Z"
    }
   },
   "outputs": [
    {
     "data": {
      "text/plain": [
       "136"
      ]
     },
     "execution_count": 14,
     "metadata": {},
     "output_type": "execute_result"
    }
   ],
   "source": [
    "# 전체 데이터 296개중 심장병이 걸린 데이터 수\n",
    "Target['heartDisease'].sum()"
   ]
  },
  {
   "cell_type": "code",
   "execution_count": 15,
   "id": "28db28e9",
   "metadata": {
    "ExecuteTime": {
     "end_time": "2021-08-17T06:10:01.980111Z",
     "start_time": "2021-08-17T06:10:01.964155Z"
    }
   },
   "outputs": [
    {
     "data": {
      "text/plain": [
       "0.4594594594594595"
      ]
     },
     "execution_count": 15,
     "metadata": {},
     "output_type": "execute_result"
    }
   ],
   "source": [
    "Target['heartDisease'].mean()"
   ]
  },
  {
   "cell_type": "code",
   "execution_count": 16,
   "id": "bd71940a",
   "metadata": {
    "ExecuteTime": {
     "end_time": "2021-08-17T06:10:53.370314Z",
     "start_time": "2021-08-17T06:10:53.353354Z"
    }
   },
   "outputs": [
    {
     "data": {
      "text/plain": [
       "0    160\n",
       "1    136\n",
       "Name: heartDisease, dtype: int64"
      ]
     },
     "execution_count": 16,
     "metadata": {},
     "output_type": "execute_result"
    }
   ],
   "source": [
    "Target['heartDisease'].value_counts()"
   ]
  },
  {
   "cell_type": "code",
   "execution_count": 20,
   "id": "c9d26f60",
   "metadata": {
    "ExecuteTime": {
     "end_time": "2021-08-17T06:15:16.943315Z",
     "start_time": "2021-08-17T06:15:16.916359Z"
    }
   },
   "outputs": [
    {
     "data": {
      "text/html": [
       "<div>\n",
       "<style scoped>\n",
       "    .dataframe tbody tr th:only-of-type {\n",
       "        vertical-align: middle;\n",
       "    }\n",
       "\n",
       "    .dataframe tbody tr th {\n",
       "        vertical-align: top;\n",
       "    }\n",
       "\n",
       "    .dataframe thead th {\n",
       "        text-align: right;\n",
       "    }\n",
       "</style>\n",
       "<table border=\"1\" class=\"dataframe\">\n",
       "  <thead>\n",
       "    <tr style=\"text-align: right;\">\n",
       "      <th></th>\n",
       "      <th>0</th>\n",
       "      <th>1</th>\n",
       "      <th>2</th>\n",
       "      <th>3</th>\n",
       "      <th>4</th>\n",
       "      <th>5</th>\n",
       "      <th>6</th>\n",
       "      <th>7</th>\n",
       "      <th>8</th>\n",
       "      <th>9</th>\n",
       "      <th>10</th>\n",
       "      <th>11</th>\n",
       "      <th>12</th>\n",
       "    </tr>\n",
       "  </thead>\n",
       "  <tbody>\n",
       "    <tr>\n",
       "      <th>0</th>\n",
       "      <td>0.708333</td>\n",
       "      <td>1.0</td>\n",
       "      <td>0.000000</td>\n",
       "      <td>0.481132</td>\n",
       "      <td>0.244292</td>\n",
       "      <td>1.0</td>\n",
       "      <td>1.0</td>\n",
       "      <td>0.603053</td>\n",
       "      <td>0.0</td>\n",
       "      <td>0.370968</td>\n",
       "      <td>1.0</td>\n",
       "      <td>0.000000</td>\n",
       "      <td>0.75</td>\n",
       "    </tr>\n",
       "    <tr>\n",
       "      <th>1</th>\n",
       "      <td>0.791667</td>\n",
       "      <td>1.0</td>\n",
       "      <td>1.000000</td>\n",
       "      <td>0.622642</td>\n",
       "      <td>0.365297</td>\n",
       "      <td>0.0</td>\n",
       "      <td>0.0</td>\n",
       "      <td>0.282443</td>\n",
       "      <td>1.0</td>\n",
       "      <td>0.241935</td>\n",
       "      <td>0.5</td>\n",
       "      <td>1.000000</td>\n",
       "      <td>0.00</td>\n",
       "    </tr>\n",
       "    <tr>\n",
       "      <th>2</th>\n",
       "      <td>0.166667</td>\n",
       "      <td>1.0</td>\n",
       "      <td>0.666667</td>\n",
       "      <td>0.339623</td>\n",
       "      <td>0.283105</td>\n",
       "      <td>0.0</td>\n",
       "      <td>0.0</td>\n",
       "      <td>0.885496</td>\n",
       "      <td>0.0</td>\n",
       "      <td>0.564516</td>\n",
       "      <td>1.0</td>\n",
       "      <td>0.000000</td>\n",
       "      <td>0.00</td>\n",
       "    </tr>\n",
       "    <tr>\n",
       "      <th>3</th>\n",
       "      <td>0.250000</td>\n",
       "      <td>0.0</td>\n",
       "      <td>0.333333</td>\n",
       "      <td>0.339623</td>\n",
       "      <td>0.178082</td>\n",
       "      <td>0.0</td>\n",
       "      <td>1.0</td>\n",
       "      <td>0.770992</td>\n",
       "      <td>0.0</td>\n",
       "      <td>0.225806</td>\n",
       "      <td>0.0</td>\n",
       "      <td>0.000000</td>\n",
       "      <td>0.00</td>\n",
       "    </tr>\n",
       "    <tr>\n",
       "      <th>4</th>\n",
       "      <td>0.562500</td>\n",
       "      <td>1.0</td>\n",
       "      <td>0.333333</td>\n",
       "      <td>0.245283</td>\n",
       "      <td>0.251142</td>\n",
       "      <td>0.0</td>\n",
       "      <td>0.0</td>\n",
       "      <td>0.816794</td>\n",
       "      <td>0.0</td>\n",
       "      <td>0.129032</td>\n",
       "      <td>0.0</td>\n",
       "      <td>0.000000</td>\n",
       "      <td>0.00</td>\n",
       "    </tr>\n",
       "    <tr>\n",
       "      <th>...</th>\n",
       "      <td>...</td>\n",
       "      <td>...</td>\n",
       "      <td>...</td>\n",
       "      <td>...</td>\n",
       "      <td>...</td>\n",
       "      <td>...</td>\n",
       "      <td>...</td>\n",
       "      <td>...</td>\n",
       "      <td>...</td>\n",
       "      <td>...</td>\n",
       "      <td>...</td>\n",
       "      <td>...</td>\n",
       "      <td>...</td>\n",
       "    </tr>\n",
       "    <tr>\n",
       "      <th>291</th>\n",
       "      <td>0.583333</td>\n",
       "      <td>0.0</td>\n",
       "      <td>1.000000</td>\n",
       "      <td>0.433962</td>\n",
       "      <td>0.262557</td>\n",
       "      <td>0.0</td>\n",
       "      <td>0.0</td>\n",
       "      <td>0.396947</td>\n",
       "      <td>1.0</td>\n",
       "      <td>0.032258</td>\n",
       "      <td>0.5</td>\n",
       "      <td>0.000000</td>\n",
       "      <td>1.00</td>\n",
       "    </tr>\n",
       "    <tr>\n",
       "      <th>292</th>\n",
       "      <td>0.333333</td>\n",
       "      <td>1.0</td>\n",
       "      <td>0.000000</td>\n",
       "      <td>0.150943</td>\n",
       "      <td>0.315068</td>\n",
       "      <td>0.0</td>\n",
       "      <td>0.0</td>\n",
       "      <td>0.465649</td>\n",
       "      <td>0.0</td>\n",
       "      <td>0.193548</td>\n",
       "      <td>0.5</td>\n",
       "      <td>0.000000</td>\n",
       "      <td>1.00</td>\n",
       "    </tr>\n",
       "    <tr>\n",
       "      <th>293</th>\n",
       "      <td>0.812500</td>\n",
       "      <td>1.0</td>\n",
       "      <td>1.000000</td>\n",
       "      <td>0.471698</td>\n",
       "      <td>0.152968</td>\n",
       "      <td>1.0</td>\n",
       "      <td>0.0</td>\n",
       "      <td>0.534351</td>\n",
       "      <td>0.0</td>\n",
       "      <td>0.548387</td>\n",
       "      <td>0.5</td>\n",
       "      <td>0.666667</td>\n",
       "      <td>1.00</td>\n",
       "    </tr>\n",
       "    <tr>\n",
       "      <th>294</th>\n",
       "      <td>0.583333</td>\n",
       "      <td>1.0</td>\n",
       "      <td>1.000000</td>\n",
       "      <td>0.339623</td>\n",
       "      <td>0.011416</td>\n",
       "      <td>0.0</td>\n",
       "      <td>0.0</td>\n",
       "      <td>0.335878</td>\n",
       "      <td>1.0</td>\n",
       "      <td>0.193548</td>\n",
       "      <td>0.5</td>\n",
       "      <td>0.333333</td>\n",
       "      <td>1.00</td>\n",
       "    </tr>\n",
       "    <tr>\n",
       "      <th>295</th>\n",
       "      <td>0.583333</td>\n",
       "      <td>0.0</td>\n",
       "      <td>0.333333</td>\n",
       "      <td>0.339623</td>\n",
       "      <td>0.251142</td>\n",
       "      <td>0.0</td>\n",
       "      <td>1.0</td>\n",
       "      <td>0.786260</td>\n",
       "      <td>0.0</td>\n",
       "      <td>0.000000</td>\n",
       "      <td>0.5</td>\n",
       "      <td>0.333333</td>\n",
       "      <td>0.00</td>\n",
       "    </tr>\n",
       "  </tbody>\n",
       "</table>\n",
       "<p>296 rows × 13 columns</p>\n",
       "</div>"
      ],
      "text/plain": [
       "           0    1         2         3         4    5    6         7    8   \\\n",
       "0    0.708333  1.0  0.000000  0.481132  0.244292  1.0  1.0  0.603053  0.0   \n",
       "1    0.791667  1.0  1.000000  0.622642  0.365297  0.0  0.0  0.282443  1.0   \n",
       "2    0.166667  1.0  0.666667  0.339623  0.283105  0.0  0.0  0.885496  0.0   \n",
       "3    0.250000  0.0  0.333333  0.339623  0.178082  0.0  1.0  0.770992  0.0   \n",
       "4    0.562500  1.0  0.333333  0.245283  0.251142  0.0  0.0  0.816794  0.0   \n",
       "..        ...  ...       ...       ...       ...  ...  ...       ...  ...   \n",
       "291  0.583333  0.0  1.000000  0.433962  0.262557  0.0  0.0  0.396947  1.0   \n",
       "292  0.333333  1.0  0.000000  0.150943  0.315068  0.0  0.0  0.465649  0.0   \n",
       "293  0.812500  1.0  1.000000  0.471698  0.152968  1.0  0.0  0.534351  0.0   \n",
       "294  0.583333  1.0  1.000000  0.339623  0.011416  0.0  0.0  0.335878  1.0   \n",
       "295  0.583333  0.0  0.333333  0.339623  0.251142  0.0  1.0  0.786260  0.0   \n",
       "\n",
       "           9    10        11    12  \n",
       "0    0.370968  1.0  0.000000  0.75  \n",
       "1    0.241935  0.5  1.000000  0.00  \n",
       "2    0.564516  1.0  0.000000  0.00  \n",
       "3    0.225806  0.0  0.000000  0.00  \n",
       "4    0.129032  0.0  0.000000  0.00  \n",
       "..        ...  ...       ...   ...  \n",
       "291  0.032258  0.5  0.000000  1.00  \n",
       "292  0.193548  0.5  0.000000  1.00  \n",
       "293  0.548387  0.5  0.666667  1.00  \n",
       "294  0.193548  0.5  0.333333  1.00  \n",
       "295  0.000000  0.5  0.333333  0.00  \n",
       "\n",
       "[296 rows x 13 columns]"
      ]
     },
     "execution_count": 20,
     "metadata": {},
     "output_type": "execute_result"
    }
   ],
   "source": [
    "# scale 조정\n",
    "scaler = MinMaxScaler()\n",
    "scaler.fit(input)\n",
    "scaled_input = pd.DataFrame(scaler.transform(input))\n",
    "scaled_input"
   ]
  },
  {
   "cell_type": "code",
   "execution_count": 22,
   "id": "49d1970e",
   "metadata": {
    "ExecuteTime": {
     "end_time": "2021-08-17T06:20:16.669201Z",
     "start_time": "2021-08-17T06:20:16.661437Z"
    }
   },
   "outputs": [
    {
     "data": {
      "text/plain": [
       "((207, 13), (207, 1), (89, 13), (89, 1))"
      ]
     },
     "execution_count": 22,
     "metadata": {},
     "output_type": "execute_result"
    }
   ],
   "source": [
    "# scaled_input, Target -> 학습데이터 : 테스트데이터 = 7:3\n",
    "X_train, X_test, Y_train, Y_test = train_test_split(scaled_input, Target, test_size=0.3, random_state=5)\n",
    "X_train.shape, Y_train.shape, X_test.shape, Y_test.shape"
   ]
  },
  {
   "cell_type": "code",
   "execution_count": 23,
   "id": "6a5dda51",
   "metadata": {
    "ExecuteTime": {
     "end_time": "2021-08-17T06:39:03.804630Z",
     "start_time": "2021-08-17T06:39:03.689313Z"
    }
   },
   "outputs": [
    {
     "name": "stdout",
     "output_type": "stream",
     "text": [
      "Model: \"sequential\"\n",
      "_________________________________________________________________\n",
      "Layer (type)                 Output Shape              Param #   \n",
      "=================================================================\n",
      "dense (Dense)                (None, 500)               7000      \n",
      "_________________________________________________________________\n",
      "dropout (Dropout)            (None, 500)               0         \n",
      "_________________________________________________________________\n",
      "dense_1 (Dense)              (None, 200)               100200    \n",
      "_________________________________________________________________\n",
      "dropout_1 (Dropout)          (None, 200)               0         \n",
      "_________________________________________________________________\n",
      "dense_2 (Dense)              (None, 100)               20100     \n",
      "_________________________________________________________________\n",
      "dropout_2 (Dropout)          (None, 100)               0         \n",
      "_________________________________________________________________\n",
      "dense_3 (Dense)              (None, 1)                 101       \n",
      "=================================================================\n",
      "Total params: 127,401\n",
      "Trainable params: 127,401\n",
      "Non-trainable params: 0\n",
      "_________________________________________________________________\n"
     ]
    }
   ],
   "source": [
    "# 2. 모델 구성\n",
    "model = Sequential()\n",
    "model.add(Dense(units=500, input_dim=13, activation='tanh'))\n",
    "# 과적합을 해결하고자 기억하되 두루뭉실하게 기억하자\n",
    "model.add(Dropout(0.1))\n",
    "model.add(Dense(units=200, activation='tanh'))\n",
    "model.add(Dropout(0.1))\n",
    "model.add(Dense(units=100, activation='tanh'))\n",
    "model.add(Dropout(0.1))\n",
    "model.add(Dense(units=1, activation='sigmoid'))\n",
    "model.summary()\n"
   ]
  },
  {
   "cell_type": "code",
   "execution_count": 24,
   "id": "ad2ed5ce",
   "metadata": {
    "ExecuteTime": {
     "end_time": "2021-08-17T06:53:52.576114Z",
     "start_time": "2021-08-17T06:53:52.552861Z"
    }
   },
   "outputs": [],
   "source": [
    "# 3. 학습과정 설정\n",
    "# 분류분석일때, 성능평가지표 : \n",
    "# accuaracy(정확도) : 예측결과와 실제값이 동일한 건수/전체건수\n",
    "# recall(재현율) : 실제 TRUE인데 예측도 TRUE로 한 건수/ 실제로 TRUE인 건수\n",
    "# precision(정밀도, 민감도) : 실제 TRUE인데 예측도 TRUE로 한 건수 / True로 예측한 건수\n",
    "from tensorflow.keras import metrics\n",
    "model.compile(loss='binary_crossentropy', optimizer='adam', metrics=['accuracy',metrics.Recall(),metrics.Precision()])"
   ]
  },
  {
   "cell_type": "code",
   "execution_count": 25,
   "id": "11e27880",
   "metadata": {
    "ExecuteTime": {
     "end_time": "2021-08-17T06:56:24.925864Z",
     "start_time": "2021-08-17T06:56:22.172613Z"
    }
   },
   "outputs": [
    {
     "name": "stdout",
     "output_type": "stream",
     "text": [
      "Epoch 1/50\n",
      "4/4 - 1s - loss: 0.6669 - accuracy: 0.6545 - recall: 0.3676 - precision: 0.6410 - val_loss: 0.5018 - val_accuracy: 0.8571 - val_recall: 0.8571 - val_precision: 0.8571\n",
      "Epoch 2/50\n",
      "4/4 - 0s - loss: 0.5112 - accuracy: 0.7697 - recall: 0.7647 - precision: 0.7027 - val_loss: 0.4764 - val_accuracy: 0.8333 - val_recall: 0.6667 - val_precision: 1.0000\n",
      "Epoch 3/50\n",
      "4/4 - 0s - loss: 0.4349 - accuracy: 0.8242 - recall: 0.7647 - precision: 0.8000 - val_loss: 0.3787 - val_accuracy: 0.8333 - val_recall: 0.7143 - val_precision: 0.9375\n",
      "Epoch 4/50\n",
      "4/4 - 0s - loss: 0.3897 - accuracy: 0.8424 - recall: 0.8676 - precision: 0.7763 - val_loss: 0.3678 - val_accuracy: 0.8333 - val_recall: 0.7143 - val_precision: 0.9375\n",
      "Epoch 5/50\n",
      "4/4 - 0s - loss: 0.3788 - accuracy: 0.8424 - recall: 0.8088 - precision: 0.8088 - val_loss: 0.3653 - val_accuracy: 0.8571 - val_recall: 0.7143 - val_precision: 1.0000\n",
      "Epoch 6/50\n",
      "4/4 - 0s - loss: 0.3679 - accuracy: 0.8545 - recall: 0.7941 - precision: 0.8438 - val_loss: 0.3263 - val_accuracy: 0.8810 - val_recall: 0.7619 - val_precision: 1.0000\n",
      "Epoch 7/50\n",
      "4/4 - 0s - loss: 0.3514 - accuracy: 0.8545 - recall: 0.8529 - precision: 0.8056 - val_loss: 0.3011 - val_accuracy: 0.8810 - val_recall: 0.8095 - val_precision: 0.9444\n",
      "Epoch 8/50\n",
      "4/4 - 0s - loss: 0.3642 - accuracy: 0.8485 - recall: 0.8235 - precision: 0.8116 - val_loss: 0.3273 - val_accuracy: 0.8810 - val_recall: 0.8095 - val_precision: 0.9444\n",
      "Epoch 9/50\n",
      "4/4 - 0s - loss: 0.3545 - accuracy: 0.8303 - recall: 0.7647 - precision: 0.8125 - val_loss: 0.3262 - val_accuracy: 0.8810 - val_recall: 0.8095 - val_precision: 0.9444\n",
      "Epoch 10/50\n",
      "4/4 - 0s - loss: 0.3470 - accuracy: 0.8545 - recall: 0.8088 - precision: 0.8333 - val_loss: 0.3111 - val_accuracy: 0.8810 - val_recall: 0.8095 - val_precision: 0.9444\n",
      "Epoch 11/50\n",
      "4/4 - 0s - loss: 0.3541 - accuracy: 0.8303 - recall: 0.7941 - precision: 0.7941 - val_loss: 0.3045 - val_accuracy: 0.8810 - val_recall: 0.8095 - val_precision: 0.9444\n",
      "Epoch 12/50\n",
      "4/4 - 0s - loss: 0.3445 - accuracy: 0.8485 - recall: 0.7941 - precision: 0.8308 - val_loss: 0.3406 - val_accuracy: 0.9048 - val_recall: 0.8095 - val_precision: 1.0000\n",
      "Epoch 13/50\n",
      "4/4 - 0s - loss: 0.3344 - accuracy: 0.8606 - recall: 0.7941 - precision: 0.8571 - val_loss: 0.3391 - val_accuracy: 0.8810 - val_recall: 0.8095 - val_precision: 0.9444\n",
      "Epoch 14/50\n",
      "4/4 - 0s - loss: 0.3494 - accuracy: 0.8485 - recall: 0.8235 - precision: 0.8116 - val_loss: 0.3370 - val_accuracy: 0.8571 - val_recall: 0.8095 - val_precision: 0.8947\n",
      "Epoch 15/50\n",
      "4/4 - 0s - loss: 0.3420 - accuracy: 0.8485 - recall: 0.7647 - precision: 0.8525 - val_loss: 0.3577 - val_accuracy: 0.8571 - val_recall: 0.7619 - val_precision: 0.9412\n",
      "Epoch 16/50\n",
      "4/4 - 0s - loss: 0.3474 - accuracy: 0.8364 - recall: 0.7941 - precision: 0.8060 - val_loss: 0.3274 - val_accuracy: 0.8571 - val_recall: 0.8095 - val_precision: 0.8947\n",
      "Epoch 17/50\n",
      "4/4 - 0s - loss: 0.3432 - accuracy: 0.8364 - recall: 0.8088 - precision: 0.7971 - val_loss: 0.4094 - val_accuracy: 0.8095 - val_recall: 0.6667 - val_precision: 0.9333\n",
      "Epoch 18/50\n",
      "4/4 - 0s - loss: 0.3559 - accuracy: 0.8424 - recall: 0.7059 - precision: 0.8889 - val_loss: 0.3442 - val_accuracy: 0.8571 - val_recall: 0.8095 - val_precision: 0.8947\n",
      "Epoch 19/50\n",
      "4/4 - 0s - loss: 0.3297 - accuracy: 0.8545 - recall: 0.8676 - precision: 0.7973 - val_loss: 0.3221 - val_accuracy: 0.8571 - val_recall: 0.8095 - val_precision: 0.8947\n",
      "Epoch 20/50\n",
      "4/4 - 0s - loss: 0.3263 - accuracy: 0.8606 - recall: 0.8235 - precision: 0.8358 - val_loss: 0.3674 - val_accuracy: 0.8571 - val_recall: 0.8095 - val_precision: 0.8947\n",
      "Epoch 21/50\n",
      "4/4 - 0s - loss: 0.3405 - accuracy: 0.8424 - recall: 0.7353 - precision: 0.8621 - val_loss: 0.3368 - val_accuracy: 0.8571 - val_recall: 0.8095 - val_precision: 0.8947\n",
      "Epoch 22/50\n",
      "4/4 - 0s - loss: 0.3382 - accuracy: 0.8606 - recall: 0.8529 - precision: 0.8169 - val_loss: 0.3244 - val_accuracy: 0.8571 - val_recall: 0.8095 - val_precision: 0.8947\n",
      "Epoch 23/50\n",
      "4/4 - 0s - loss: 0.3228 - accuracy: 0.8667 - recall: 0.8235 - precision: 0.8485 - val_loss: 0.3561 - val_accuracy: 0.8810 - val_recall: 0.8095 - val_precision: 0.9444\n",
      "Epoch 24/50\n",
      "4/4 - 0s - loss: 0.3317 - accuracy: 0.8606 - recall: 0.7794 - precision: 0.8689 - val_loss: 0.3290 - val_accuracy: 0.8571 - val_recall: 0.8095 - val_precision: 0.8947\n",
      "Epoch 25/50\n",
      "4/4 - 0s - loss: 0.3392 - accuracy: 0.8485 - recall: 0.8676 - precision: 0.7867 - val_loss: 0.3313 - val_accuracy: 0.8571 - val_recall: 0.8095 - val_precision: 0.8947\n",
      "Epoch 26/50\n",
      "4/4 - 0s - loss: 0.3373 - accuracy: 0.8303 - recall: 0.7794 - precision: 0.8030 - val_loss: 0.3979 - val_accuracy: 0.8333 - val_recall: 0.7143 - val_precision: 0.9375\n",
      "Epoch 27/50\n",
      "4/4 - 0s - loss: 0.3370 - accuracy: 0.8485 - recall: 0.7941 - precision: 0.8308 - val_loss: 0.3455 - val_accuracy: 0.8571 - val_recall: 0.8095 - val_precision: 0.8947\n",
      "Epoch 28/50\n",
      "4/4 - 0s - loss: 0.3383 - accuracy: 0.8485 - recall: 0.8088 - precision: 0.8209 - val_loss: 0.3915 - val_accuracy: 0.8333 - val_recall: 0.7619 - val_precision: 0.8889\n",
      "Epoch 29/50\n",
      "4/4 - 0s - loss: 0.3290 - accuracy: 0.8424 - recall: 0.7941 - precision: 0.8182 - val_loss: 0.3775 - val_accuracy: 0.8571 - val_recall: 0.8095 - val_precision: 0.8947\n",
      "Epoch 30/50\n",
      "4/4 - 0s - loss: 0.3353 - accuracy: 0.8485 - recall: 0.7941 - precision: 0.8308 - val_loss: 0.4049 - val_accuracy: 0.8095 - val_recall: 0.7143 - val_precision: 0.8824\n",
      "Epoch 31/50\n",
      "4/4 - 0s - loss: 0.3213 - accuracy: 0.8424 - recall: 0.7941 - precision: 0.8182 - val_loss: 0.3715 - val_accuracy: 0.8333 - val_recall: 0.7619 - val_precision: 0.8889\n",
      "Epoch 32/50\n",
      "4/4 - 0s - loss: 0.3287 - accuracy: 0.8303 - recall: 0.7647 - precision: 0.8125 - val_loss: 0.4060 - val_accuracy: 0.8095 - val_recall: 0.7143 - val_precision: 0.8824\n",
      "Epoch 33/50\n",
      "4/4 - 0s - loss: 0.3172 - accuracy: 0.8545 - recall: 0.7941 - precision: 0.8438 - val_loss: 0.3889 - val_accuracy: 0.8333 - val_recall: 0.7619 - val_precision: 0.8889\n",
      "Epoch 34/50\n",
      "4/4 - 0s - loss: 0.3253 - accuracy: 0.8606 - recall: 0.8382 - precision: 0.8261 - val_loss: 0.3909 - val_accuracy: 0.8333 - val_recall: 0.7619 - val_precision: 0.8889\n",
      "Epoch 35/50\n",
      "4/4 - 0s - loss: 0.3131 - accuracy: 0.8545 - recall: 0.7794 - precision: 0.8548 - val_loss: 0.4307 - val_accuracy: 0.7857 - val_recall: 0.6667 - val_precision: 0.8750\n",
      "Epoch 36/50\n",
      "4/4 - 0s - loss: 0.3179 - accuracy: 0.8424 - recall: 0.7206 - precision: 0.8750 - val_loss: 0.3862 - val_accuracy: 0.8333 - val_recall: 0.7619 - val_precision: 0.8889\n",
      "Epoch 37/50\n",
      "4/4 - 0s - loss: 0.3310 - accuracy: 0.8545 - recall: 0.7941 - precision: 0.8438 - val_loss: 0.3622 - val_accuracy: 0.8571 - val_recall: 0.8095 - val_precision: 0.8947\n",
      "Epoch 38/50\n",
      "4/4 - 0s - loss: 0.3140 - accuracy: 0.8485 - recall: 0.7794 - precision: 0.8413 - val_loss: 0.4164 - val_accuracy: 0.8095 - val_recall: 0.7143 - val_precision: 0.8824\n",
      "Epoch 39/50\n",
      "4/4 - 0s - loss: 0.3286 - accuracy: 0.8303 - recall: 0.7647 - precision: 0.8125 - val_loss: 0.3794 - val_accuracy: 0.8571 - val_recall: 0.8095 - val_precision: 0.8947\n",
      "Epoch 40/50\n",
      "4/4 - 0s - loss: 0.3247 - accuracy: 0.8545 - recall: 0.7794 - precision: 0.8548 - val_loss: 0.4058 - val_accuracy: 0.8333 - val_recall: 0.7619 - val_precision: 0.8889\n",
      "Epoch 41/50\n",
      "4/4 - 0s - loss: 0.3192 - accuracy: 0.8424 - recall: 0.8088 - precision: 0.8088 - val_loss: 0.3738 - val_accuracy: 0.8571 - val_recall: 0.8095 - val_precision: 0.8947\n",
      "Epoch 42/50\n",
      "4/4 - 0s - loss: 0.3025 - accuracy: 0.8545 - recall: 0.8676 - precision: 0.7973 - val_loss: 0.4215 - val_accuracy: 0.7857 - val_recall: 0.6667 - val_precision: 0.8750\n",
      "Epoch 43/50\n",
      "4/4 - 0s - loss: 0.3176 - accuracy: 0.8545 - recall: 0.7059 - precision: 0.9231 - val_loss: 0.4313 - val_accuracy: 0.8095 - val_recall: 0.6667 - val_precision: 0.9333\n",
      "Epoch 44/50\n",
      "4/4 - 0s - loss: 0.3205 - accuracy: 0.8424 - recall: 0.7353 - precision: 0.8621 - val_loss: 0.3445 - val_accuracy: 0.8333 - val_recall: 0.7619 - val_precision: 0.8889\n",
      "Epoch 45/50\n",
      "4/4 - 0s - loss: 0.3275 - accuracy: 0.8303 - recall: 0.7794 - precision: 0.8030 - val_loss: 0.3746 - val_accuracy: 0.8333 - val_recall: 0.7143 - val_precision: 0.9375\n",
      "Epoch 46/50\n",
      "4/4 - 0s - loss: 0.3158 - accuracy: 0.8424 - recall: 0.7353 - precision: 0.8621 - val_loss: 0.3810 - val_accuracy: 0.8095 - val_recall: 0.7143 - val_precision: 0.8824\n"
     ]
    },
    {
     "name": "stdout",
     "output_type": "stream",
     "text": [
      "Epoch 47/50\n",
      "4/4 - 0s - loss: 0.3240 - accuracy: 0.8667 - recall: 0.7794 - precision: 0.8833 - val_loss: 0.4327 - val_accuracy: 0.7857 - val_recall: 0.6667 - val_precision: 0.8750\n",
      "Epoch 48/50\n",
      "4/4 - 0s - loss: 0.3139 - accuracy: 0.8424 - recall: 0.7206 - precision: 0.8750 - val_loss: 0.3917 - val_accuracy: 0.8333 - val_recall: 0.7619 - val_precision: 0.8889\n",
      "Epoch 49/50\n",
      "4/4 - 0s - loss: 0.3149 - accuracy: 0.8545 - recall: 0.7647 - precision: 0.8667 - val_loss: 0.3872 - val_accuracy: 0.8333 - val_recall: 0.7619 - val_precision: 0.8889\n",
      "Epoch 50/50\n",
      "4/4 - 0s - loss: 0.3209 - accuracy: 0.8606 - recall: 0.8676 - precision: 0.8082 - val_loss: 0.3761 - val_accuracy: 0.8571 - val_recall: 0.8095 - val_precision: 0.8947\n"
     ]
    }
   ],
   "source": [
    "# 4. 학습시키기\n",
    "hist = model.fit(X_train, Y_train, epochs=50, batch_size=50, verbose=2, validation_split=0.2)"
   ]
  },
  {
   "cell_type": "code",
   "execution_count": 26,
   "id": "8c0ec62b",
   "metadata": {
    "ExecuteTime": {
     "end_time": "2021-08-17T06:58:48.743570Z",
     "start_time": "2021-08-17T06:58:48.730632Z"
    }
   },
   "outputs": [
    {
     "data": {
      "text/plain": [
       "dict_keys(['loss', 'accuracy', 'recall', 'precision', 'val_loss', 'val_accuracy', 'val_recall', 'val_precision'])"
      ]
     },
     "execution_count": 26,
     "metadata": {},
     "output_type": "execute_result"
    }
   ],
   "source": [
    "hist.history.keys()"
   ]
  },
  {
   "cell_type": "code",
   "execution_count": 29,
   "id": "fca75fda",
   "metadata": {
    "ExecuteTime": {
     "end_time": "2021-08-17T07:07:51.460121Z",
     "start_time": "2021-08-17T07:07:51.141469Z"
    }
   },
   "outputs": [
    {
     "data": {
      "image/png": "[encoded data removed]",
      "text/plain": [
       "<Figure size 864x576 with 2 Axes>"
      ]
     },
     "metadata": {
      "needs_background": "light"
     },
     "output_type": "display_data"
    }
   ],
   "source": [
    "# 학습과정 살펴보기\n",
    "fig, loss_ax = plt.subplots(figsize=(12,8))\n",
    "loss_ax.plot(hist.history['loss'],'y',label='train_loss')\n",
    "loss_ax.plot(hist.history['val_loss'], 'g', label='val_loss')\n",
    "loss_ax.set_xlabel('epochs')\n",
    "loss_ax.set_ylabel('loss')\n",
    "\n",
    "acc_ax =loss_ax.twinx() #x축을 공유하는 acc_ax와 loss_ax\n",
    "acc_ax.plot(hist.history['precision'],'b',label='precision')\n",
    "acc_ax.plot(hist.history['val_precision'],'r',label='val_precision')\n",
    "acc_ax.set_ylabel('precision')\n",
    "\n",
    "loss_ax.legend(loc='upper left')\n",
    "acc_ax.legend(loc='lower left')\n",
    "plt.show()"
   ]
  },
  {
   "cell_type": "code",
   "execution_count": 31,
   "id": "d6492f6b",
   "metadata": {
    "ExecuteTime": {
     "end_time": "2021-08-17T07:10:20.467911Z",
     "start_time": "2021-08-17T07:10:20.406077Z"
    }
   },
   "outputs": [
    {
     "name": "stdout",
     "output_type": "stream",
     "text": [
      "model loss : 0.46486711502075195\n",
      "model accuracy : 0.8426966071128845\n",
      "model recall : 0.7872340679168701\n",
      "model precision : 0.9024389982223511\n"
     ]
    }
   ],
   "source": [
    "# 5. 평가 및 예측하기\n",
    "score = model.evaluate(X_test, Y_test, verbose=0)\n",
    "print('model loss :',score[0])\n",
    "print('model accuracy :',score[1])\n",
    "print('model recall :',score[2])\n",
    "print('model precision :', score[3])"
   ]
  },
  {
   "cell_type": "code",
   "execution_count": 33,
   "id": "a798f8fd",
   "metadata": {
    "ExecuteTime": {
     "end_time": "2021-08-17T07:20:10.963831Z",
     "start_time": "2021-08-17T07:20:10.903375Z"
    }
   },
   "outputs": [
    {
     "name": "stdout",
     "output_type": "stream",
     "text": [
      "[[38 10]\n",
      " [ 4 37]]\n",
      "f1_score :  0.8409090909090909\n"
     ]
    }
   ],
   "source": [
    "# 6. confusion_metrix(성능 평가 지표)\n",
    "from sklearn.metrics import confusion_matrix\n",
    "from sklearn.metrics import f1_score\n",
    "pred = model.predict(X_test)\n",
    "pred = (pred>0.5)\n",
    "pred\n",
    "print(confusion_matrix(pred, Y_test), end='\\n')\n",
    "print('f1_score : ', f1_score(Y_test, pred))"
   ]
  },
  {
   "cell_type": "code",
   "execution_count": null,
   "id": "9a3e0e0a",
   "metadata": {},
   "outputs": [],
   "source": []
  }
 ],
 "metadata": {
  "kernelspec": {
   "display_name": "Python 3",
   "language": "python",
   "name": "python3"
  },
  "language_info": {
   "codemirror_mode": {
    "name": "ipython",
    "version": 3
   },
   "file_extension": ".py",
   "mimetype": "text/x-python",
   "name": "python",
   "nbconvert_exporter": "python",
   "pygments_lexer": "ipython3",
   "version": "3.8.8"
  },
  "toc": {
   "base_numbering": 1,
   "nav_menu": {},
   "number_sections": true,
   "sideBar": true,
   "skip_h1_title": false,
   "title_cell": "Table of Contents",
   "title_sidebar": "Contents",
   "toc_cell": false,
   "toc_position": {},
   "toc_section_display": true,
   "toc_window_display": true
  },
  "varInspector": {
   "cols": {
    "lenName": 16,
    "lenType": 16,
    "lenVar": 40
   },
   "kernels_config": {
    "python": {
     "delete_cmd_postfix": "",
     "delete_cmd_prefix": "del ",
     "library": "var_list.py",
     "varRefreshCmd": "print(var_dic_list())"
    },
    "r": {
     "delete_cmd_postfix": ") ",
     "delete_cmd_prefix": "rm(",
     "library": "var_list.r",
     "varRefreshCmd": "cat(var_dic_list()) "
    }
   },
   "types_to_exclude": [
    "module",
    "function",
    "builtin_function_or_method",
    "instance",
    "_Feature"
   ],
   "window_display": false
  }
 },
 "nbformat": 4,
 "nbformat_minor": 5
}
