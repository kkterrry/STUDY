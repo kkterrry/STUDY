{
 "cells": [
  {
   "cell_type": "markdown",
   "id": "c14b0241",
   "metadata": {},
   "source": [
    "# 남자, 여자 데이터를 생성 군집화"
   ]
  },
  {
   "cell_type": "code",
   "execution_count": 1,
   "id": "d8ddfaf1",
   "metadata": {
    "ExecuteTime": {
     "end_time": "2021-08-12T08:16:03.288617Z",
     "start_time": "2021-08-12T08:16:02.944006Z"
    }
   },
   "outputs": [],
   "source": [
    "import random\n",
    "import numpy as np\n",
    "import matplotlib.pyplot as plt"
   ]
  },
  {
   "cell_type": "code",
   "execution_count": 2,
   "id": "a574d7bd",
   "metadata": {
    "ExecuteTime": {
     "end_time": "2021-08-12T08:16:03.303537Z",
     "start_time": "2021-08-12T08:16:03.289531Z"
    }
   },
   "outputs": [],
   "source": [
    "data = []\n",
    "for i in range(50):\n",
    "    data.append([random.randint(40,70),random.randint(140,180)]) #여자\n",
    "    data.append([random.randint(60,90),random.randint(170,200)]) #남자\n",
    "# data"
   ]
  },
  {
   "cell_type": "code",
   "execution_count": 3,
   "id": "366b5ebe",
   "metadata": {
    "ExecuteTime": {
     "end_time": "2021-08-12T08:16:03.334411Z",
     "start_time": "2021-08-12T08:16:03.304491Z"
    }
   },
   "outputs": [
    {
     "name": "stdout",
     "output_type": "stream",
     "text": [
      "[53, 178] [41, 167] [51, 163] [41, 141] [68, 171] [53, 149] [42, 169] [70, 161] [51, 159] [70, 161] [56, 179] [43, 176] [59, 154] [67, 176] [49, 179] [46, 145] [68, 168] [70, 155] [70, 180] [55, 178] [53, 149] [55, 141] [41, 161] [47, 169] [70, 150] [52, 165] [62, 145] [46, 173] [42, 143] [52, 143] [70, 166] [43, 146] [41, 153] [69, 176] [69, 170] [47, 155] [43, 159] [47, 164] [44, 150] [67, 140] [65, 152] [42, 143] [62, 157] [59, 149] [55, 148] [42, 158] [55, 162] [57, 177] [63, 169] [42, 176] \n",
      "-----------------------------------------------------------------------\n",
      "[76, 183] [85, 183] [62, 193] [72, 175] [84, 200] [66, 177] [82, 198] [81, 179] [79, 176] [80, 199] [61, 193] [80, 185] [64, 200] [71, 183] [61, 192] [82, 190] [63, 174] [64, 198] [74, 182] [73, 175] [60, 188] [77, 178] [84, 174] [64, 191] [66, 170] [70, 181] [81, 200] [75, 187] [79, 173] [90, 189] [66, 174] [63, 172] [89, 187] [88, 175] [66, 176] [64, 199] [80, 171] [76, 181] [78, 199] [76, 185] [90, 180] [78, 171] [90, 183] [81, 183] [76, 181] [60, 190] [65, 173] [76, 175] [68, 177] [88, 189] "
     ]
    }
   ],
   "source": [
    "# 여자\n",
    "for female in data[:100:2]:\n",
    "    print(female, end=' ')\n",
    "\n",
    "print('\\n-----------------------------------------------------------------------')\n",
    "\n",
    "for male in data[1:100:2]:\n",
    "    print(male, end =' ')"
   ]
  },
  {
   "cell_type": "code",
   "execution_count": 4,
   "id": "893ceb46",
   "metadata": {
    "ExecuteTime": {
     "end_time": "2021-08-12T08:16:03.473041Z",
     "start_time": "2021-08-12T08:16:03.335408Z"
    }
   },
   "outputs": [
    {
     "data": {
      "text/plain": [
       "[<matplotlib.lines.Line2D at 0x19bfd10f0d0>]"
      ]
     },
     "execution_count": 4,
     "metadata": {},
     "output_type": "execute_result"
    },
    {
     "data": {
      "image/png": "[encoded data removed]",
      "text/plain": [
       "<Figure size 432x288 with 1 Axes>"
      ]
     },
     "metadata": {
      "needs_background": "light"
     },
     "output_type": "display_data"
    }
   ],
   "source": [
    "# x축이 몸무게, y축이 키\n",
    "# 여자몸무게 : [d[0] for d in data[:100:2]]\n",
    "# 여자키 : [d[1] for d in data[:100:2]]\n",
    "# 남자몸무게 : [d[0] for d in data[1:100:2]]\n",
    "# 남자키 : [d[1] for d in data[1:100:2]]\n",
    "plt.plot([d[0] for d in data[:100:2]], [d[1] for d in data[:100:2]], 'o', color='r')\n",
    "plt.plot([d[0] for d in data[1:100:2]], [d[1] for d in data[1:100:2]], 'o', color='b')\n"
   ]
  },
  {
   "cell_type": "code",
   "execution_count": 5,
   "id": "3afe760b",
   "metadata": {
    "ExecuteTime": {
     "end_time": "2021-08-12T08:16:03.489042Z",
     "start_time": "2021-08-12T08:16:03.474037Z"
    }
   },
   "outputs": [
    {
     "name": "stdout",
     "output_type": "stream",
     "text": [
      "초기랜덤 기준점 : [[78, 143], [90, 145]]\n"
     ]
    }
   ],
   "source": [
    "# 초기 랜덤 지점 2개 생성\n",
    "random_points = [[random.randint(40,90), random.randint(140,200)],[random.randint(40,90), random.randint(140,200)]]\n",
    "print('초기랜덤 기준점 :',random_points)"
   ]
  },
  {
   "cell_type": "code",
   "execution_count": 6,
   "id": "4bb1a7f4",
   "metadata": {
    "ExecuteTime": {
     "end_time": "2021-08-12T08:16:03.704421Z",
     "start_time": "2021-08-12T08:16:03.490043Z"
    }
   },
   "outputs": [
    {
     "data": {
      "text/plain": [
       "[<matplotlib.lines.Line2D at 0x19bfd2ec820>]"
      ]
     },
     "execution_count": 6,
     "metadata": {},
     "output_type": "execute_result"
    },
    {
     "data": {
      "image/png": "[encoded data removed]",
      "text/plain": [
       "<Figure size 432x288 with 1 Axes>"
      ]
     },
     "metadata": {
      "needs_background": "light"
     },
     "output_type": "display_data"
    }
   ],
   "source": [
    "plt.plot([d[0] for d in data], [d[1] for d in data], 'o', color='k')\n",
    "for x in data:\n",
    "    plt.plot(x[0], x[1], 'o', color='k')\n",
    "plt.plot(random_points[0][0], random_points[0][1],'x', color='r', markersize=20) #기준점 1\n",
    "plt.plot(random_points[1][0], random_points[1][1], 'x', color='b',  markersize=20) #기준점 2"
   ]
  },
  {
   "cell_type": "code",
   "execution_count": 7,
   "id": "1bf964a4",
   "metadata": {
    "ExecuteTime": {
     "end_time": "2021-08-12T08:16:03.720379Z",
     "start_time": "2021-08-12T08:16:03.706417Z"
    }
   },
   "outputs": [],
   "source": [
    "# 두영역으로 나눌 빈리스트 생성\n",
    "group1 = []\n",
    "group2 = []\n"
   ]
  },
  {
   "cell_type": "code",
   "execution_count": 8,
   "id": "d1cf3b3b",
   "metadata": {
    "ExecuteTime": {
     "end_time": "2021-08-12T08:16:03.736398Z",
     "start_time": "2021-08-12T08:16:03.722374Z"
    }
   },
   "outputs": [],
   "source": [
    "# 두 영역을 나누기 위해 두점사이의 거리를 구하는 식이 필요함\n",
    "def dist(a,b):\n",
    "    return np.sqrt((a[0]-b[0])**2 +(a[1]-b[1])**2)"
   ]
  },
  {
   "cell_type": "code",
   "execution_count": 9,
   "id": "c0609058",
   "metadata": {
    "ExecuteTime": {
     "end_time": "2021-08-12T08:16:03.752293Z",
     "start_time": "2021-08-12T08:16:03.737334Z"
    }
   },
   "outputs": [
    {
     "data": {
      "text/plain": [
       "5.0"
      ]
     },
     "execution_count": 9,
     "metadata": {},
     "output_type": "execute_result"
    }
   ],
   "source": [
    "a=[0,0]; b=(4,3)\n",
    "dist(a,b)"
   ]
  },
  {
   "cell_type": "code",
   "execution_count": 10,
   "id": "905dab07",
   "metadata": {
    "ExecuteTime": {
     "end_time": "2021-08-12T08:16:03.768251Z",
     "start_time": "2021-08-12T08:16:03.753291Z"
    }
   },
   "outputs": [
    {
     "data": {
      "text/plain": [
       "5.0"
      ]
     },
     "execution_count": 10,
     "metadata": {},
     "output_type": "execute_result"
    }
   ],
   "source": [
    "a=np.array([0,0]); b=np.array([4,3])\n",
    "dist(a,b)"
   ]
  },
  {
   "cell_type": "code",
   "execution_count": 11,
   "id": "72c27724",
   "metadata": {
    "ExecuteTime": {
     "end_time": "2021-08-12T08:16:03.784270Z",
     "start_time": "2021-08-12T08:16:03.769249Z"
    }
   },
   "outputs": [],
   "source": [
    "for d in data:\n",
    "    if dist(random_points[0], d) < dist(random_points[1], d):\n",
    "        group1.append(d) # 빨간 점이랑 더 가까운 그룹\n",
    "    else:\n",
    "        group2.append(d) # 파란 점이랑 더 가까운 그룹"
   ]
  },
  {
   "cell_type": "code",
   "execution_count": 12,
   "id": "55cac199",
   "metadata": {
    "ExecuteTime": {
     "end_time": "2021-08-12T08:16:04.002677Z",
     "start_time": "2021-08-12T08:16:03.785205Z"
    }
   },
   "outputs": [
    {
     "data": {
      "text/plain": [
       "[<matplotlib.lines.Line2D at 0x19bfd478af0>]"
      ]
     },
     "execution_count": 12,
     "metadata": {},
     "output_type": "execute_result"
    },
    {
     "data": {
      "image/png": "[encoded data removed]",
      "text/plain": [
       "<Figure size 432x288 with 1 Axes>"
      ]
     },
     "metadata": {
      "needs_background": "light"
     },
     "output_type": "display_data"
    }
   ],
   "source": [
    "# 새로운 두 그룹(그룹1, 그룹2)과 초기 랜던 기준점 그래프\n",
    "for d in group1:\n",
    "    plt.plot(d[0], d[1], 'o', color='r')\n",
    "for d in group2:\n",
    "    plt.plot(d[0], d[1], 'o', color='b')\n",
    "#초기 랜덤 기준점\n",
    "plt.plot(random_points[0][0], random_points[0][1],'x', color='r', markersize=20) #기준점 1\n",
    "plt.plot(random_points[1][0], random_points[1][1], 'x', color='b',  markersize=20) #기준점 2"
   ]
  },
  {
   "cell_type": "code",
   "execution_count": 13,
   "id": "57fb088f",
   "metadata": {
    "ExecuteTime": {
     "end_time": "2021-08-12T08:16:04.017621Z",
     "start_time": "2021-08-12T08:16:04.003626Z"
    }
   },
   "outputs": [
    {
     "name": "stdout",
     "output_type": "stream",
     "text": [
      "초기 랜덤 기준점 : [[78, 143], [90, 145]]\n",
      "새 기준점 : [[59.96296296296296, 168.7037037037037], [83.78947368421052, 186.31578947368422]]\n"
     ]
    }
   ],
   "source": [
    "# 기준점 이동\n",
    "sumX = 0; sumY = 0\n",
    "for g in group1:\n",
    "    sumX += g[0]\n",
    "    sumY += g[1]\n",
    "# 새로운 기준점\n",
    "new_points = []\n",
    "new_points.append([sumX/len(group1), sumY/len(group1)])\n",
    "\n",
    "sumX = 0; sumY =0\n",
    "for g in group2:\n",
    "    sumX += g[0]\n",
    "    sumY += g[1]\n",
    "# 새로운 기준점\n",
    "new_points.append([sumX/len(group2), sumY/len(group2)])\n",
    "print('초기 랜덤 기준점 :', random_points)\n",
    "print('새 기준점 :', new_points)"
   ]
  },
  {
   "cell_type": "code",
   "execution_count": 14,
   "id": "c6462a76",
   "metadata": {
    "ExecuteTime": {
     "end_time": "2021-08-12T08:16:04.240098Z",
     "start_time": "2021-08-12T08:16:04.018586Z"
    }
   },
   "outputs": [
    {
     "data": {
      "text/plain": [
       "[<matplotlib.lines.Line2D at 0x19bfd5fe7f0>]"
      ]
     },
     "execution_count": 14,
     "metadata": {},
     "output_type": "execute_result"
    },
    {
     "data": {
      "image/png": "[encoded data removed]",
      "text/plain": [
       "<Figure size 432x288 with 1 Axes>"
      ]
     },
     "metadata": {
      "needs_background": "light"
     },
     "output_type": "display_data"
    }
   ],
   "source": [
    "# 두 group과 초기 랜덤 기준점, 새 기준점\n",
    "for d in group1:\n",
    "    plt.plot(d[0], d[1], 'o', color='r')\n",
    "for d in group2:\n",
    "    plt.plot(d[0], d[1], 'o', color='b')\n",
    "    \n",
    "plt.plot(random_points[0][0], random_points[0][1],'x', color='r', markersize=20) #기준점 1\n",
    "plt.plot(random_points[1][0], random_points[1][1], 'x', color='b',  markersize=20) #기준점 2\n",
    "\n",
    "plt.plot(new_points[0][0], new_points[0][1], '^', color='r') # 새기준점1\n",
    "plt.plot(new_points[1][0], new_points[1][1], '^', color='b') # 새기준점1"
   ]
  },
  {
   "cell_type": "code",
   "execution_count": 15,
   "id": "ac954f0b",
   "metadata": {
    "ExecuteTime": {
     "end_time": "2021-08-12T08:16:04.255515Z",
     "start_time": "2021-08-12T08:16:04.242007Z"
    }
   },
   "outputs": [],
   "source": [
    "# 새 기준점을 중심으로 group1(new_points[0]가까운 점)과 group2(new_points[1]가까운점) \n",
    "group1 = []\n",
    "group2 = []\n",
    "for d in data:\n",
    "    if dist(new_points[0], d) < dist(new_points[1], d):\n",
    "        group1.append(d)\n",
    "    else:\n",
    "        group2.append(d)"
   ]
  },
  {
   "cell_type": "code",
   "execution_count": 16,
   "id": "134cec7c",
   "metadata": {
    "ExecuteTime": {
     "end_time": "2021-08-12T08:16:04.456300Z",
     "start_time": "2021-08-12T08:16:04.256475Z"
    }
   },
   "outputs": [
    {
     "data": {
      "text/plain": [
       "[<matplotlib.lines.Line2D at 0x19bfd77a880>]"
      ]
     },
     "execution_count": 16,
     "metadata": {},
     "output_type": "execute_result"
    },
    {
     "data": {
      "image/png": "[encoded data removed]",
      "text/plain": [
       "<Figure size 432x288 with 1 Axes>"
      ]
     },
     "metadata": {
      "needs_background": "light"
     },
     "output_type": "display_data"
    }
   ],
   "source": [
    "# 두 group과 초기 랜덤 기준점, 새 기준점\n",
    "for d in group1:\n",
    "    plt.plot(d[0], d[1], 'o', color='r')\n",
    "for d in group2:\n",
    "    plt.plot(d[0], d[1], 'o', color='b')\n",
    "\n",
    "plt.plot(new_points[0][0], new_points[0][1], '^', color='r') # 새기준점1\n",
    "plt.plot(new_points[1][0], new_points[1][1], '^', color='b') # 새기준점1"
   ]
  },
  {
   "cell_type": "markdown",
   "id": "391f8314",
   "metadata": {},
   "source": [
    "# 전체 코드"
   ]
  },
  {
   "cell_type": "code",
   "execution_count": 17,
   "id": "48f8813e",
   "metadata": {
    "ExecuteTime": {
     "end_time": "2021-08-12T08:16:04.471258Z",
     "start_time": "2021-08-12T08:16:04.457263Z"
    }
   },
   "outputs": [
    {
     "name": "stdout",
     "output_type": "stream",
     "text": [
      "초기랜덤 기준점 : [[40, 182], [64, 186]]\n",
      "1 번째 수정 [[48.09375, 155.65625], [70.88235294117646, 178.16176470588235]]\n",
      "2 번째 수정 [[52.31818181818182, 154.0], [72.44642857142857, 184.28571428571428]]\n",
      "3 번째 수정 [[52.630434782608695, 154.69565217391303], [72.92592592592592, 184.8148148148148]]\n",
      "4 번째 수정 [[52.765957446808514, 155.06382978723406], [73.18867924528301, 185.0566037735849]]\n",
      "5 번째 수정 [[52.765957446808514, 155.06382978723406], [73.18867924528301, 185.0566037735849]]\n",
      "6 번째 수정 [[52.765957446808514, 155.06382978723406], [73.18867924528301, 185.0566037735849]]\n",
      "7 번째 수정 [[52.765957446808514, 155.06382978723406], [73.18867924528301, 185.0566037735849]]\n",
      "8 번째 수정 [[52.765957446808514, 155.06382978723406], [73.18867924528301, 185.0566037735849]]\n",
      "9 번째 수정 [[52.765957446808514, 155.06382978723406], [73.18867924528301, 185.0566037735849]]\n",
      "10 번째 수정 [[52.765957446808514, 155.06382978723406], [73.18867924528301, 185.0566037735849]]\n"
     ]
    }
   ],
   "source": [
    "import random\n",
    "import numpy as np\n",
    "import matplotlib.pyplot as plt\n",
    "\n",
    "# 두 영역을 나누기 위해 두점사이의 거리를 구하는 식이 필요함\n",
    "def dist(a,b):\n",
    "    return np.sqrt((a[0]-b[0])**2 +(a[1]-b[1])**2)\n",
    "\n",
    "data = []\n",
    "for i in range(50):\n",
    "    data.append([random.randint(40,70),random.randint(140,180)]) #여자\n",
    "    data.append([random.randint(60,90),random.randint(170,200)]) #남자\n",
    "    \n",
    "new_points = [[random.randint(40,90), random.randint(140,200)],[random.randint(40,90), random.randint(140,200)]]\n",
    "print('초기랜덤 기준점 :',new_points)\n",
    "\n",
    "for i in range(1, 11):\n",
    "    group1 = []\n",
    "    group2 = []\n",
    "    for d in data:\n",
    "        if dist(new_points[0], d) < dist(new_points[1], d):\n",
    "            group1.append(d)\n",
    "        else:\n",
    "            group2.append(d)\n",
    "    # group1과 group2의 중간지점으로 새 기준점 이동\n",
    "    sumX = 0; sumY =0\n",
    "    for g in group1:\n",
    "        sumX += g[0]\n",
    "        sumY += g[1]\n",
    "    new_points = []\n",
    "    new_points.append([sumX/len(group1), sumY/len(group1)])\n",
    "    \n",
    "    sumX = 0; sumY =0\n",
    "    for g in group2:\n",
    "        sumX += g[0]\n",
    "        sumY += g[1]\n",
    "    new_points.append([sumX/len(group2), sumY/len(group2)])\n",
    "    print(i, '번째 수정', new_points)"
   ]
  },
  {
   "cell_type": "code",
   "execution_count": 18,
   "id": "e604ea72",
   "metadata": {
    "ExecuteTime": {
     "end_time": "2021-08-12T08:16:04.594895Z",
     "start_time": "2021-08-12T08:16:04.472224Z"
    }
   },
   "outputs": [
    {
     "data": {
      "text/plain": [
       "[<matplotlib.lines.Line2D at 0x19bfd8058e0>]"
      ]
     },
     "execution_count": 18,
     "metadata": {},
     "output_type": "execute_result"
    },
    {
     "data": {
      "image/png": "[encoded data removed]",
      "text/plain": [
       "<Figure size 432x288 with 1 Axes>"
      ]
     },
     "metadata": {
      "needs_background": "light"
     },
     "output_type": "display_data"
    }
   ],
   "source": [
    "# 여자 vs 남자\n",
    "#여자 몸무게 [d[0] for d for data[0:100;2]]\n",
    "#여자 키 [d[1] for d for data[0:100;2]]\n",
    "#남자 몸무게 [d[0] for d for data[1:100;2]]\n",
    "#남자 키 [d[1] for d for data[1:100;2]]\n",
    "\n",
    "plt.plot([d[0] for d in data[:100:2]], [d[1] for d in data[:100:2]], 'o', color='r')\n",
    "plt.plot([d[0] for d in data[1:100:2]], [d[1] for d in data[1:100:2]], 'o', color='b')"
   ]
  },
  {
   "cell_type": "code",
   "execution_count": 19,
   "id": "be4eab3b",
   "metadata": {
    "ExecuteTime": {
     "end_time": "2021-08-12T08:16:04.828303Z",
     "start_time": "2021-08-12T08:16:04.595893Z"
    }
   },
   "outputs": [
    {
     "data": {
      "image/png": "[encoded data removed]",
      "text/plain": [
       "<Figure size 432x288 with 1 Axes>"
      ]
     },
     "metadata": {
      "needs_background": "light"
     },
     "output_type": "display_data"
    }
   ],
   "source": [
    "for g in group1:\n",
    "    plt.plot(g[0], g[1], 'o', color='r')\n",
    "for g in group2:\n",
    "    plt.plot(g[0], g[1], 'o', color='b')"
   ]
  },
  {
   "cell_type": "code",
   "execution_count": null,
   "id": "66c017c5",
   "metadata": {},
   "outputs": [],
   "source": []
  },
  {
   "cell_type": "code",
   "execution_count": null,
   "id": "2b6fea3e",
   "metadata": {},
   "outputs": [],
   "source": []
  },
  {
   "cell_type": "code",
   "execution_count": null,
   "id": "defe06d2",
   "metadata": {},
   "outputs": [],
   "source": []
  },
  {
   "cell_type": "code",
   "execution_count": null,
   "id": "b3321346",
   "metadata": {},
   "outputs": [],
   "source": []
  },
  {
   "cell_type": "code",
   "execution_count": null,
   "id": "592d53ba",
   "metadata": {},
   "outputs": [],
   "source": []
  },
  {
   "cell_type": "code",
   "execution_count": null,
   "id": "c41170de",
   "metadata": {},
   "outputs": [],
   "source": []
  },
  {
   "cell_type": "code",
   "execution_count": null,
   "id": "d3b5c9b6",
   "metadata": {},
   "outputs": [],
   "source": []
  },
  {
   "cell_type": "code",
   "execution_count": null,
   "id": "29d9c9df",
   "metadata": {},
   "outputs": [],
   "source": []
  },
  {
   "cell_type": "code",
   "execution_count": null,
   "id": "e0b36379",
   "metadata": {},
   "outputs": [],
   "source": []
  },
  {
   "cell_type": "code",
   "execution_count": null,
   "id": "f697f7d9",
   "metadata": {},
   "outputs": [],
   "source": []
  },
  {
   "cell_type": "code",
   "execution_count": null,
   "id": "e8c85b6a",
   "metadata": {},
   "outputs": [],
   "source": []
  },
  {
   "cell_type": "code",
   "execution_count": null,
   "id": "4cdf7c40",
   "metadata": {},
   "outputs": [],
   "source": []
  }
 ],
 "metadata": {
  "kernelspec": {
   "display_name": "Python 3",
   "language": "python",
   "name": "python3"
  },
  "language_info": {
   "codemirror_mode": {
    "name": "ipython",
    "version": 3
   },
   "file_extension": ".py",
   "mimetype": "text/x-python",
   "name": "python",
   "nbconvert_exporter": "python",
   "pygments_lexer": "ipython3",
   "version": "3.8.8"
  },
  "toc": {
   "base_numbering": 1,
   "nav_menu": {},
   "number_sections": false,
   "sideBar": true,
   "skip_h1_title": false,
   "title_cell": "Table of Contents",
   "title_sidebar": "Contents",
   "toc_cell": false,
   "toc_position": {
    "height": "calc(100% - 180px)",
    "left": "10px",
    "top": "150px",
    "width": "190px"
   },
   "toc_section_display": true,
   "toc_window_display": true
  },
  "varInspector": {
   "cols": {
    "lenName": 16,
    "lenType": 16,
    "lenVar": 40
   },
   "kernels_config": {
    "python": {
     "delete_cmd_postfix": "",
     "delete_cmd_prefix": "del ",
     "library": "var_list.py",
     "varRefreshCmd": "print(var_dic_list())"
    },
    "r": {
     "delete_cmd_postfix": ") ",
     "delete_cmd_prefix": "rm(",
     "library": "var_list.r",
     "varRefreshCmd": "cat(var_dic_list()) "
    }
   },
   "types_to_exclude": [
    "module",
    "function",
    "builtin_function_or_method",
    "instance",
    "_Feature"
   ],
   "window_display": false
  }
 },
 "nbformat": 4,
 "nbformat_minor": 5
}
