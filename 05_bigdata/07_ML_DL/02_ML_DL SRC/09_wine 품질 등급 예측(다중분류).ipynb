{
 "cells": [
  {
   "cell_type": "code",
   "execution_count": 6,
   "id": "08e9c236",
   "metadata": {
    "ExecuteTime": {
     "end_time": "2021-08-17T08:06:30.977966Z",
     "start_time": "2021-08-17T08:06:30.755012Z"
    }
   },
   "outputs": [],
   "source": [
    "import numpy as np\n",
    "import pandas as pd # read_csv, get_dumies(원핫인코딩)\n",
    "from sklearn.model_selection import train_test_split\n",
    "from tensorflow.keras.models import Sequential\n",
    "from tensorflow.keras.layers import Input, Dense, Dropout\n",
    "from tensorflow.keras import metrics\n",
    "from tensorflow.keras.callbacks import EarlyStopping\n",
    "import matplotlib.pyplot as plt"
   ]
  },
  {
   "cell_type": "code",
   "execution_count": 7,
   "id": "01eb9284",
   "metadata": {
    "ExecuteTime": {
     "end_time": "2021-08-17T08:06:33.800022Z",
     "start_time": "2021-08-17T08:06:31.828081Z"
    }
   },
   "outputs": [
    {
     "name": "stdout",
     "output_type": "stream",
     "text": [
      "타겟변수가 될 와인 등급 종류 :  [5 6 7 4 8 3]\n",
      "(1119, 11) (1119, 6) (480, 11) (480, 6)\n",
      "WARNING:tensorflow:Please add `keras.layers.InputLayer` instead of `keras.Input` to Sequential model. `keras.Input` is intended to be used by Functional model.\n",
      "Epoch 1/50\n",
      "5/5 [==============================] - 0s 29ms/step - loss: 1.7075 - accuracy: 0.2592 - val_loss: 1.6299 - val_accuracy: 0.3750\n",
      "Epoch 2/50\n",
      "5/5 [==============================] - 0s 5ms/step - loss: 1.6026 - accuracy: 0.3899 - val_loss: 1.5335 - val_accuracy: 0.4509\n",
      "Epoch 3/50\n",
      "5/5 [==============================] - 0s 5ms/step - loss: 1.5100 - accuracy: 0.4358 - val_loss: 1.4441 - val_accuracy: 0.4554\n",
      "Epoch 4/50\n",
      "5/5 [==============================] - ETA: 0s - loss: 1.4617 - accuracy: 0.45 - 0s 5ms/step - loss: 1.4278 - accuracy: 0.4547 - val_loss: 1.3602 - val_accuracy: 0.4866\n",
      "Epoch 5/50\n",
      "5/5 [==============================] - 0s 5ms/step - loss: 1.3459 - accuracy: 0.4715 - val_loss: 1.2830 - val_accuracy: 0.5089\n",
      "Epoch 6/50\n",
      "5/5 [==============================] - 0s 6ms/step - loss: 1.2690 - accuracy: 0.5006 - val_loss: 1.2156 - val_accuracy: 0.5357\n",
      "Epoch 7/50\n",
      "5/5 [==============================] - 0s 5ms/step - loss: 1.2067 - accuracy: 0.5285 - val_loss: 1.1596 - val_accuracy: 0.5536\n",
      "Epoch 8/50\n",
      "5/5 [==============================] - 0s 5ms/step - loss: 1.1502 - accuracy: 0.5508 - val_loss: 1.1150 - val_accuracy: 0.5670\n",
      "Epoch 9/50\n",
      "5/5 [==============================] - 0s 5ms/step - loss: 1.1181 - accuracy: 0.5564 - val_loss: 1.0810 - val_accuracy: 0.5625\n",
      "Epoch 10/50\n",
      "5/5 [==============================] - 0s 5ms/step - loss: 1.0752 - accuracy: 0.5754 - val_loss: 1.0550 - val_accuracy: 0.5625\n",
      "Epoch 11/50\n",
      "5/5 [==============================] - 0s 5ms/step - loss: 1.0540 - accuracy: 0.5676 - val_loss: 1.0349 - val_accuracy: 0.5625\n",
      "Epoch 12/50\n",
      "5/5 [==============================] - 0s 5ms/step - loss: 1.0439 - accuracy: 0.5698 - val_loss: 1.0217 - val_accuracy: 0.5670\n",
      "Epoch 13/50\n",
      "5/5 [==============================] - 0s 5ms/step - loss: 1.0246 - accuracy: 0.5978 - val_loss: 1.0155 - val_accuracy: 0.5982\n",
      "Epoch 14/50\n",
      "5/5 [==============================] - 0s 5ms/step - loss: 1.0182 - accuracy: 0.6000 - val_loss: 1.0066 - val_accuracy: 0.5982\n",
      "Epoch 15/50\n",
      "5/5 [==============================] - 0s 5ms/step - loss: 1.0040 - accuracy: 0.5955 - val_loss: 0.9948 - val_accuracy: 0.5938\n",
      "Epoch 16/50\n",
      "5/5 [==============================] - 0s 5ms/step - loss: 0.9902 - accuracy: 0.5933 - val_loss: 0.9836 - val_accuracy: 0.5938\n",
      "Epoch 17/50\n",
      "5/5 [==============================] - 0s 5ms/step - loss: 0.9889 - accuracy: 0.6145 - val_loss: 0.9752 - val_accuracy: 0.6027\n",
      "Epoch 18/50\n",
      "5/5 [==============================] - 0s 5ms/step - loss: 0.9693 - accuracy: 0.6123 - val_loss: 0.9714 - val_accuracy: 0.6116\n",
      "Epoch 19/50\n",
      "5/5 [==============================] - 0s 5ms/step - loss: 0.9701 - accuracy: 0.6168 - val_loss: 0.9671 - val_accuracy: 0.6161\n",
      "Epoch 20/50\n",
      "5/5 [==============================] - ETA: 0s - loss: 1.0157 - accuracy: 0.59 - 0s 5ms/step - loss: 0.9659 - accuracy: 0.6179 - val_loss: 0.9631 - val_accuracy: 0.6161\n",
      "Epoch 21/50\n",
      "5/5 [==============================] - 0s 5ms/step - loss: 0.9614 - accuracy: 0.6056 - val_loss: 0.9571 - val_accuracy: 0.6205\n",
      "Epoch 22/50\n",
      "5/5 [==============================] - ETA: 0s - loss: 0.9925 - accuracy: 0.63 - 0s 5ms/step - loss: 0.9548 - accuracy: 0.6134 - val_loss: 0.9516 - val_accuracy: 0.6339\n",
      "Epoch 23/50\n",
      "5/5 [==============================] - 0s 5ms/step - loss: 0.9478 - accuracy: 0.6302 - val_loss: 0.9467 - val_accuracy: 0.6339\n",
      "Epoch 24/50\n",
      "5/5 [==============================] - 0s 5ms/step - loss: 0.9313 - accuracy: 0.6246 - val_loss: 0.9450 - val_accuracy: 0.6250\n",
      "Epoch 25/50\n",
      "5/5 [==============================] - 0s 6ms/step - loss: 0.9274 - accuracy: 0.6246 - val_loss: 0.9440 - val_accuracy: 0.6161\n",
      "Epoch 26/50\n",
      "5/5 [==============================] - 0s 6ms/step - loss: 0.9211 - accuracy: 0.6335 - val_loss: 0.9412 - val_accuracy: 0.6205\n",
      "Epoch 27/50\n",
      "5/5 [==============================] - 0s 5ms/step - loss: 0.9200 - accuracy: 0.6145 - val_loss: 0.9391 - val_accuracy: 0.6250\n",
      "Epoch 28/50\n",
      "5/5 [==============================] - 0s 5ms/step - loss: 0.9076 - accuracy: 0.6291 - val_loss: 0.9361 - val_accuracy: 0.6295\n",
      "Epoch 29/50\n",
      "5/5 [==============================] - ETA: 0s - loss: 0.9207 - accuracy: 0.60 - 0s 5ms/step - loss: 0.9062 - accuracy: 0.6313 - val_loss: 0.9351 - val_accuracy: 0.6339\n",
      "Epoch 30/50\n",
      "5/5 [==============================] - 0s 5ms/step - loss: 0.9058 - accuracy: 0.6268 - val_loss: 0.9348 - val_accuracy: 0.6295\n",
      "Epoch 31/50\n",
      "5/5 [==============================] - 0s 5ms/step - loss: 0.9008 - accuracy: 0.6380 - val_loss: 0.9330 - val_accuracy: 0.6250\n",
      "Epoch 32/50\n",
      "5/5 [==============================] - 0s 5ms/step - loss: 0.9006 - accuracy: 0.6257 - val_loss: 0.9302 - val_accuracy: 0.6205\n",
      "Epoch 33/50\n",
      "5/5 [==============================] - 0s 5ms/step - loss: 0.8933 - accuracy: 0.6458 - val_loss: 0.9268 - val_accuracy: 0.6205\n",
      "Epoch 34/50\n",
      "5/5 [==============================] - 0s 5ms/step - loss: 0.8790 - accuracy: 0.6525 - val_loss: 0.9252 - val_accuracy: 0.6295\n",
      "Epoch 35/50\n",
      "5/5 [==============================] - 0s 5ms/step - loss: 0.8863 - accuracy: 0.6380 - val_loss: 0.9256 - val_accuracy: 0.6250\n",
      "Epoch 36/50\n",
      "5/5 [==============================] - 0s 5ms/step - loss: 0.8815 - accuracy: 0.6436 - val_loss: 0.9281 - val_accuracy: 0.6161\n",
      "Epoch 37/50\n",
      "5/5 [==============================] - 0s 5ms/step - loss: 0.8809 - accuracy: 0.6358 - val_loss: 0.9279 - val_accuracy: 0.6027\n",
      "Epoch 38/50\n",
      "5/5 [==============================] - 0s 6ms/step - loss: 0.8726 - accuracy: 0.6346 - val_loss: 0.9247 - val_accuracy: 0.5982\n",
      "Epoch 39/50\n",
      "5/5 [==============================] - 0s 5ms/step - loss: 0.8651 - accuracy: 0.6525 - val_loss: 0.9247 - val_accuracy: 0.5982\n",
      "Epoch 40/50\n",
      "5/5 [==============================] - 0s 6ms/step - loss: 0.8565 - accuracy: 0.6536 - val_loss: 0.9238 - val_accuracy: 0.6027\n",
      "Epoch 41/50\n",
      "5/5 [==============================] - 0s 5ms/step - loss: 0.8594 - accuracy: 0.6559 - val_loss: 0.9224 - val_accuracy: 0.6250\n",
      "Epoch 42/50\n",
      "5/5 [==============================] - 0s 5ms/step - loss: 0.8503 - accuracy: 0.6581 - val_loss: 0.9232 - val_accuracy: 0.6339\n",
      "Epoch 43/50\n",
      "5/5 [==============================] - ETA: 0s - loss: 0.8782 - accuracy: 0.66 - 0s 5ms/step - loss: 0.8495 - accuracy: 0.6570 - val_loss: 0.9257 - val_accuracy: 0.6116\n",
      "Epoch 44/50\n",
      "5/5 [==============================] - ETA: 0s - loss: 0.8734 - accuracy: 0.67 - 0s 5ms/step - loss: 0.8467 - accuracy: 0.6615 - val_loss: 0.9226 - val_accuracy: 0.6116\n",
      "Epoch 45/50\n",
      "5/5 [==============================] - 0s 5ms/step - loss: 0.8356 - accuracy: 0.6615 - val_loss: 0.9211 - val_accuracy: 0.6205\n",
      "Epoch 46/50\n",
      "5/5 [==============================] - 0s 5ms/step - loss: 0.8395 - accuracy: 0.6670 - val_loss: 0.9228 - val_accuracy: 0.6027\n",
      "Epoch 47/50\n",
      "5/5 [==============================] - 0s 5ms/step - loss: 0.8388 - accuracy: 0.6570 - val_loss: 0.9255 - val_accuracy: 0.6116\n",
      "Epoch 48/50\n",
      "5/5 [==============================] - 0s 5ms/step - loss: 0.8338 - accuracy: 0.6547 - val_loss: 0.9233 - val_accuracy: 0.6161\n",
      "Epoch 49/50\n",
      "5/5 [==============================] - 0s 5ms/step - loss: 0.8338 - accuracy: 0.6581 - val_loss: 0.9219 - val_accuracy: 0.6295\n",
      "Epoch 50/50\n",
      "5/5 [==============================] - 0s 5ms/step - loss: 0.8262 - accuracy: 0.6626 - val_loss: 0.9226 - val_accuracy: 0.6071\n"
     ]
    },
    {
     "data": {
      "image/png": "[encoded data removed]",
      "text/plain": [
       "<Figure size 864x576 with 2 Axes>"
      ]
     },
     "metadata": {
      "needs_background": "light"
     },
     "output_type": "display_data"
    }
   ],
   "source": [
    "#1. 데이터 셋 준비하기\n",
    "redwine = pd.read_csv('data/winequality-red.csv',sep=';')\n",
    "redwine_x = redwine.iloc[:,:-1].to_numpy()  # to_numpy()함수는 values와 유사\n",
    "redwine_y = redwine.iloc[:,-1]\n",
    "print('타겟변수가 될 와인 등급 종류 : ', redwine_y.unique())  # 3, 4, 5, 6, 7, 8\n",
    "\n",
    "# 독립변수 scale 조정\n",
    "from sklearn.preprocessing import StandardScaler\n",
    "scaler = StandardScaler()\n",
    "scaler.fit(redwine_x)\n",
    "redwine_x = scaler.transform(redwine_x)\n",
    "\n",
    "# 타겟변수 원핫인코딩(라벨링 전환) 후 numpy 배열로 변환\n",
    "redwine_y = pd.get_dummies(redwine_y).to_numpy()\n",
    "\n",
    "#훈련셋과 테스트셋 분리(7:3)\n",
    "train_X, test_X, train_Y, test_Y = train_test_split(redwine_x, redwine_y, test_size=0.3, random_state=1)\n",
    "print(train_X.shape, train_Y.shape, test_X.shape, test_Y.shape)\n",
    "\n",
    "# 2. 모델 구성하기\n",
    "model = Sequential()\n",
    "model.add(Input(11)) #의미있는 레이어가 아니고 input_dim만 지정\n",
    "model.add(Dense(units=50, activation='relu'))\n",
    "model.add(Dense(units=50, activation='relu'))\n",
    "model.add(Dropout(0.1))\n",
    "model.add(Dense(units=30, activation='relu'))\n",
    "model.add(Dense(units=6, activation='softmax')) # 3,4,5,6,7,8 등급의 결과 합이 1\n",
    "\n",
    "# 3. 모델 학습과정 설정\n",
    "model.compile(loss='categorical_crossentropy', optimizer='adam', metrics=['accuracy'])\n",
    "\n",
    "# 4. 모델 학습시키기\n",
    "earlyStopping = EarlyStopping(patience=20)\n",
    "hist = model.fit(train_X, train_Y, epochs=50, batch_size=200, validation_split=0.2, callbacks=[earlyStopping])\n",
    "\n",
    "#모델 학습과정 표시하기\n",
    "fig, loss_ax = plt.subplots(figsize=(12,8))\n",
    "loss_ax.plot(hist.history['loss'],'y',label='train_loss')\n",
    "loss_ax.plot(hist.history['val_loss'], 'g', label='val_loss')\n",
    "loss_ax.set_xlabel('epochs')\n",
    "loss_ax.set_ylabel('loss')\n",
    "\n",
    "acc_ax =loss_ax.twinx() #x축을 공유하는 acc_ax와 loss_ax\n",
    "acc_ax.plot(hist.history['accuracy'],'b',label='accuracy')\n",
    "acc_ax.plot(hist.history['val_accuracy'],'r',label='val_accuracy')\n",
    "acc_ax.set_ylabel('accuracy')\n",
    "\n",
    "loss_ax.legend(loc='upper left')\n",
    "acc_ax.legend(loc='lower left')\n",
    "plt.show()"
   ]
  },
  {
   "cell_type": "code",
   "execution_count": 8,
   "id": "14f6acb3",
   "metadata": {
    "ExecuteTime": {
     "end_time": "2021-08-17T08:10:01.384553Z",
     "start_time": "2021-08-17T08:10:01.250827Z"
    }
   },
   "outputs": [
    {
     "name": "stdout",
     "output_type": "stream",
     "text": [
      "15/15 [==============================] - 0s 999us/step - loss: 0.9630 - accuracy: 0.6062\n",
      "loss :  0.9630106091499329\n",
      "accuracy :  0.606249988079071\n"
     ]
    }
   ],
   "source": [
    "# 6. 모델 평가하기\n",
    "loss_and_acc = model.evaluate(test_X, test_Y, batch_size=32)\n",
    "print('loss : ',loss_and_acc[0])\n",
    "print('accuracy : ',loss_and_acc[1])"
   ]
  },
  {
   "cell_type": "code",
   "execution_count": 12,
   "id": "1164c962",
   "metadata": {
    "ExecuteTime": {
     "end_time": "2021-08-17T08:38:45.501359Z",
     "start_time": "2021-08-17T08:38:45.434060Z"
    }
   },
   "outputs": [
    {
     "data": {
      "text/html": [
       "<div>\n",
       "<style scoped>\n",
       "    .dataframe tbody tr th:only-of-type {\n",
       "        vertical-align: middle;\n",
       "    }\n",
       "\n",
       "    .dataframe tbody tr th {\n",
       "        vertical-align: top;\n",
       "    }\n",
       "\n",
       "    .dataframe thead th {\n",
       "        text-align: right;\n",
       "    }\n",
       "</style>\n",
       "<table border=\"1\" class=\"dataframe\">\n",
       "  <thead>\n",
       "    <tr style=\"text-align: right;\">\n",
       "      <th>predict</th>\n",
       "      <th>4</th>\n",
       "      <th>5</th>\n",
       "      <th>6</th>\n",
       "      <th>7</th>\n",
       "    </tr>\n",
       "    <tr>\n",
       "      <th>real</th>\n",
       "      <th></th>\n",
       "      <th></th>\n",
       "      <th></th>\n",
       "      <th></th>\n",
       "    </tr>\n",
       "  </thead>\n",
       "  <tbody>\n",
       "    <tr>\n",
       "      <th>3</th>\n",
       "      <td>0</td>\n",
       "      <td>1</td>\n",
       "      <td>1</td>\n",
       "      <td>0</td>\n",
       "    </tr>\n",
       "    <tr>\n",
       "      <th>4</th>\n",
       "      <td>1</td>\n",
       "      <td>13</td>\n",
       "      <td>6</td>\n",
       "      <td>1</td>\n",
       "    </tr>\n",
       "    <tr>\n",
       "      <th>5</th>\n",
       "      <td>0</td>\n",
       "      <td>155</td>\n",
       "      <td>47</td>\n",
       "      <td>5</td>\n",
       "    </tr>\n",
       "    <tr>\n",
       "      <th>6</th>\n",
       "      <td>0</td>\n",
       "      <td>62</td>\n",
       "      <td>114</td>\n",
       "      <td>19</td>\n",
       "    </tr>\n",
       "    <tr>\n",
       "      <th>7</th>\n",
       "      <td>0</td>\n",
       "      <td>3</td>\n",
       "      <td>28</td>\n",
       "      <td>21</td>\n",
       "    </tr>\n",
       "    <tr>\n",
       "      <th>8</th>\n",
       "      <td>0</td>\n",
       "      <td>0</td>\n",
       "      <td>0</td>\n",
       "      <td>3</td>\n",
       "    </tr>\n",
       "  </tbody>\n",
       "</table>\n",
       "</div>"
      ],
      "text/plain": [
       "predict  4    5    6   7\n",
       "real                    \n",
       "3        0    1    1   0\n",
       "4        1   13    6   1\n",
       "5        0  155   47   5\n",
       "6        0   62  114  19\n",
       "7        0    3   28  21\n",
       "8        0    0    0   3"
      ]
     },
     "execution_count": 12,
     "metadata": {},
     "output_type": "execute_result"
    }
   ],
   "source": [
    "# 7. 성능 지표(crosstab)\n",
    "#pred = model.predict(test_X).argmax(axis=1)+3\n",
    "pred = np.argmax(model.predict(test_X), axis=1)+3\n",
    "#real = test_Y.argmax(axis=1)+3\n",
    "real = np.argmax(test_Y,axis=1)+3\n",
    "cross_tab = pd.crosstab(real, pred)\n",
    "cross_tab.index.name=\"real\"\n",
    "cross_tab.columns.name ='predict'\n",
    "cross_tab"
   ]
  },
  {
   "cell_type": "code",
   "execution_count": 13,
   "id": "65e7948f",
   "metadata": {
    "ExecuteTime": {
     "end_time": "2021-08-17T08:45:30.030943Z",
     "start_time": "2021-08-17T08:45:29.954013Z"
    }
   },
   "outputs": [
    {
     "data": {
      "text/plain": [
       "array([5], dtype=int64)"
      ]
     },
     "execution_count": 13,
     "metadata": {},
     "output_type": "execute_result"
    }
   ],
   "source": [
    "# 6. 모델 사용하기\n",
    "input_data = np.array([7.4,0.7,0,1.9,0.076,11,34,0.9978,3.51,0.56,9.4])\n",
    "scaled_data = scaler.transform(input_data.reshape(1,11))\n",
    "np.argmax(model.predict(scaled_data), axis=1)+3"
   ]
  },
  {
   "cell_type": "code",
   "execution_count": null,
   "id": "90ea162b",
   "metadata": {},
   "outputs": [],
   "source": []
  },
  {
   "cell_type": "code",
   "execution_count": null,
   "id": "141545a2",
   "metadata": {},
   "outputs": [],
   "source": []
  },
  {
   "cell_type": "code",
   "execution_count": null,
   "id": "b65992a6",
   "metadata": {},
   "outputs": [],
   "source": []
  },
  {
   "cell_type": "code",
   "execution_count": null,
   "id": "d50261b7",
   "metadata": {},
   "outputs": [],
   "source": []
  },
  {
   "cell_type": "code",
   "execution_count": null,
   "id": "b385207c",
   "metadata": {},
   "outputs": [],
   "source": []
  },
  {
   "cell_type": "code",
   "execution_count": null,
   "id": "cf6c4506",
   "metadata": {},
   "outputs": [],
   "source": []
  },
  {
   "cell_type": "code",
   "execution_count": null,
   "id": "96357b48",
   "metadata": {},
   "outputs": [],
   "source": []
  },
  {
   "cell_type": "code",
   "execution_count": null,
   "id": "db026b2a",
   "metadata": {},
   "outputs": [],
   "source": []
  },
  {
   "cell_type": "code",
   "execution_count": null,
   "id": "37e28c6f",
   "metadata": {},
   "outputs": [],
   "source": []
  },
  {
   "cell_type": "code",
   "execution_count": null,
   "id": "e3f064a2",
   "metadata": {},
   "outputs": [],
   "source": []
  }
 ],
 "metadata": {
  "kernelspec": {
   "display_name": "Python 3",
   "language": "python",
   "name": "python3"
  },
  "language_info": {
   "codemirror_mode": {
    "name": "ipython",
    "version": 3
   },
   "file_extension": ".py",
   "mimetype": "text/x-python",
   "name": "python",
   "nbconvert_exporter": "python",
   "pygments_lexer": "ipython3",
   "version": "3.8.8"
  },
  "toc": {
   "base_numbering": 1,
   "nav_menu": {},
   "number_sections": true,
   "sideBar": true,
   "skip_h1_title": false,
   "title_cell": "Table of Contents",
   "title_sidebar": "Contents",
   "toc_cell": false,
   "toc_position": {},
   "toc_section_display": true,
   "toc_window_display": false
  },
  "varInspector": {
   "cols": {
    "lenName": 16,
    "lenType": 16,
    "lenVar": 40
   },
   "kernels_config": {
    "python": {
     "delete_cmd_postfix": "",
     "delete_cmd_prefix": "del ",
     "library": "var_list.py",
     "varRefreshCmd": "print(var_dic_list())"
    },
    "r": {
     "delete_cmd_postfix": ") ",
     "delete_cmd_prefix": "rm(",
     "library": "var_list.r",
     "varRefreshCmd": "cat(var_dic_list()) "
    }
   },
   "types_to_exclude": [
    "module",
    "function",
    "builtin_function_or_method",
    "instance",
    "_Feature"
   ],
   "window_display": false
  }
 },
 "nbformat": 4,
 "nbformat_minor": 5
}
