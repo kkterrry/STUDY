{
 "cells": [
  {
   "cell_type": "markdown",
   "id": "31f3c59c",
   "metadata": {},
   "source": [
    "# 1. tesnsorflow v2.x에서 v1사용하기"
   ]
  },
  {
   "cell_type": "code",
   "execution_count": 1,
   "id": "e85a1d2b",
   "metadata": {
    "ExecuteTime": {
     "end_time": "2021-08-13T06:37:51.903906Z",
     "start_time": "2021-08-13T06:37:49.328514Z"
    }
   },
   "outputs": [
    {
     "name": "stdout",
     "output_type": "stream",
     "text": [
      "WARNING:tensorflow:From C:\\Users\\sangh\\anaconda3\\lib\\site-packages\\tensorflow\\python\\compat\\v2_compat.py:96: disable_resource_variables (from tensorflow.python.ops.variable_scope) is deprecated and will be removed in a future version.\n",
      "Instructions for updating:\n",
      "non-resource variables are not supported in the long term\n"
     ]
    }
   ],
   "source": [
    "import tensorflow.compat.v1 as tf\n",
    "tf.disable_v2_behavior()\n",
    "# v1로 사용하기"
   ]
  },
  {
   "cell_type": "code",
   "execution_count": 4,
   "id": "ad0645f2",
   "metadata": {
    "ExecuteTime": {
     "end_time": "2021-08-13T06:44:25.645228Z",
     "start_time": "2021-08-13T06:44:25.623631Z"
    }
   },
   "outputs": [
    {
     "name": "stdout",
     "output_type": "stream",
     "text": [
      "b'Hello, Tensorflow'\n",
      "Hello, Tensorflow\n"
     ]
    }
   ],
   "source": [
    "# tensor = data(상수, 변수)와 연산\n",
    "node1 = tf.constant('Hello, Tensorflow')\n",
    "sess = tf.Session()\n",
    "print(sess.run(node1))\n",
    "print(sess.run(node1).decode())"
   ]
  },
  {
   "cell_type": "code",
   "execution_count": 5,
   "id": "1a65ba62",
   "metadata": {
    "ExecuteTime": {
     "end_time": "2021-08-13T06:50:56.104274Z",
     "start_time": "2021-08-13T06:50:56.089329Z"
    }
   },
   "outputs": [
    {
     "name": "stdout",
     "output_type": "stream",
     "text": [
      "[10.0, 20.0, 30.0]\n"
     ]
    }
   ],
   "source": [
    "# 간단한 수학 연산 수행(graph)\n",
    "# 그래프 정의\n",
    "node1 = tf.constant(10, dtype=tf.float32)\n",
    "node2 = tf.constant(20, dtype=tf.float32)\n",
    "node3 = tf.add(node1, node2)\n",
    "\n",
    "# 그래프 실행\n",
    "sess = tf.Session()\n",
    "print(sess.run([node1,node2, node3]))\n"
   ]
  },
  {
   "cell_type": "markdown",
   "id": "df3b0da6",
   "metadata": {},
   "source": [
    "# Tesnsorflow\n",
    "    - 그래프 정의\n",
    "    - sess = tf.Session()를 실행\n",
    "    - sess.run()을 통해 값을 확인할 수 있음"
   ]
  },
  {
   "cell_type": "code",
   "execution_count": 6,
   "id": "bf693f4e",
   "metadata": {
    "ExecuteTime": {
     "end_time": "2021-08-13T06:59:33.229087Z",
     "start_time": "2021-08-13T06:59:33.214501Z"
    }
   },
   "outputs": [
    {
     "name": "stdout",
     "output_type": "stream",
     "text": [
      "[array([1., 2., 3.], dtype=float32), array([1, 2, 3], dtype=int16)]\n"
     ]
    }
   ],
   "source": [
    "import numpy as np\n",
    "node1 = tf.constant(np.array([1,2,3]), dtype=tf.int16)\n",
    "node2 = tf.cast(node1, dtype=tf.float32)\n",
    "sess = tf.Session()\n",
    "print(sess.run([node2, node1]))"
   ]
  },
  {
   "cell_type": "code",
   "execution_count": 9,
   "id": "8fb6502a",
   "metadata": {
    "ExecuteTime": {
     "end_time": "2021-08-13T07:02:43.917616Z",
     "start_time": "2021-08-13T07:02:43.899665Z"
    }
   },
   "outputs": [
    {
     "name": "stdout",
     "output_type": "stream",
     "text": [
      "Tensor(\"Mean_2:0\", shape=(), dtype=float64)\n",
      "2.5\n"
     ]
    }
   ],
   "source": [
    "data = np.array([1.,2.,3.,4.])\n",
    "m = tf.reduce_mean(data) #reduce_mean: 평균값 계산\n",
    "print(m)\n",
    "sess = tf.Session()\n",
    "print(sess.run(m))"
   ]
  },
  {
   "cell_type": "code",
   "execution_count": 11,
   "id": "5ff87d07",
   "metadata": {
    "ExecuteTime": {
     "end_time": "2021-08-13T07:05:22.242345Z",
     "start_time": "2021-08-13T07:05:22.065655Z"
    }
   },
   "outputs": [
    {
     "data": {
      "text/plain": [
       "<function matplotlib.pyplot.show(close=None, block=None)>"
      ]
     },
     "execution_count": 11,
     "metadata": {},
     "output_type": "execute_result"
    },
    {
     "data": {
      "image/png": "[encoded data removed]",
      "text/plain": [
       "<Figure size 432x288 with 1 Axes>"
      ]
     },
     "metadata": {
      "needs_background": "light"
     },
     "output_type": "display_data"
    }
   ],
   "source": [
    "import matplotlib.pyplot as plt\n",
    "tensor = tf.random_normal([100]) #random_normal : 평균0이고 표준편차가 0인 난수\n",
    "sess = tf.Session()\n",
    "plt.hist(sess.run(tensor), density=True)\n",
    "plt.show"
   ]
  },
  {
   "cell_type": "code",
   "execution_count": 12,
   "id": "2c45a905",
   "metadata": {
    "ExecuteTime": {
     "end_time": "2021-08-13T07:05:45.001399Z",
     "start_time": "2021-08-13T07:05:44.991426Z"
    }
   },
   "outputs": [
    {
     "name": "stdout",
     "output_type": "stream",
     "text": [
      "[ 0.23167956  1.2789688  -1.0112778  -0.45265856  0.10362315  0.17287597\n",
      " -1.7735801  -0.21805198  2.7828646   0.49727365  0.1689237  -0.9234495\n",
      " -0.6147419  -0.78659    -0.14890717  0.6469524   0.6370679   0.5518822\n",
      "  1.5149355  -0.39095312 -1.5217409  -0.46400973  1.5639547   0.2272351\n",
      " -0.94997454  1.1722673   0.55511516 -1.9724544   0.29659015  1.0046415\n",
      " -0.7931983   0.5014279   0.25693664  0.59464043  0.2898554   0.992195\n",
      "  1.2118466   0.82000065  1.5315236  -1.4281954   0.18908639 -0.13212869\n",
      " -1.3734797  -0.6781706   1.1552631   1.3103827  -0.17487223 -1.0314972\n",
      " -0.4672962   0.83636856 -1.0040562  -0.55027837 -0.31903684  0.95699525\n",
      "  1.493249    0.98865986 -0.20304918  0.50526273 -0.8649662   1.0407366\n",
      " -1.5457842   1.3575656  -2.210081   -0.37611416  1.2938565  -1.1787734\n",
      " -0.7021091  -0.9791036   1.9531065  -0.836543    0.44788766 -0.5317428\n",
      " -0.84559983  0.1991816   1.6632138  -1.3512479   0.37672088  1.1092261\n",
      " -0.5842937  -0.6396645   0.20116565  0.63071185  0.45317388 -1.5017873\n",
      " -0.3019306  -0.587647   -0.3864975  -0.38058072 -0.5090543   0.82818854\n",
      " -0.2279684  -0.65306765 -1.7033708   0.20447569 -0.7644688   0.86739206\n",
      "  1.3842344  -0.24340673  0.54564375 -0.07869194]\n"
     ]
    }
   ],
   "source": [
    "print(sess.run(tensor))"
   ]
  },
  {
   "cell_type": "markdown",
   "id": "83668a01",
   "metadata": {},
   "source": [
    "# 2. tensorflow v1을 이용한 linear regression 을 구현"
   ]
  },
  {
   "cell_type": "markdown",
   "id": "6664a919",
   "metadata": {},
   "source": [
    "## 2.1 독립변수 x가 한개"
   ]
  },
  {
   "cell_type": "code",
   "execution_count": 17,
   "id": "10cbad0a",
   "metadata": {
    "ExecuteTime": {
     "end_time": "2021-08-13T07:54:23.846427Z",
     "start_time": "2021-08-13T07:54:22.704413Z"
    }
   },
   "outputs": [
    {
     "name": "stdout",
     "output_type": "stream",
     "text": [
      "300번째 학습시 cost:0.0019855478312820196, w값:[0.9482469], b값:[0.11764683]\n",
      "600번째 학습시 cost:0.0004685079911723733, w값:[0.97486067], b값:[0.05714772]\n",
      "900번째 학습시 cost:0.00011054810602217913, w값:[0.98778844], b값:[0.02775978]\n",
      "1200번째 학습시 cost:2.6085535864694975e-05, w값:[0.9940681], b값:[0.01348462]\n",
      "1500번째 학습시 cost:6.155008577479748e-06, w값:[0.99711853], b값:[0.00655024]\n",
      "1800번째 학습시 cost:1.4525008964483277e-06, w값:[0.99860024], b값:[0.00318199]\n",
      "2100번째 학습시 cost:3.42904996841753e-07, w값:[0.9993199], b값:[0.00154597]\n",
      "2400번째 학습시 cost:8.101174131525113e-08, w값:[0.9996694], b값:[0.0007515]\n",
      "2700번째 학습시 cost:1.9182765598202423e-08, w값:[0.9998391], b값:[0.00036572]\n",
      "3000번째 학습시 cost:4.555098076508557e-09, w값:[0.99992144], b값:[0.00017822]\n",
      "3300번째 학습시 cost:1.0821652463022247e-09, w값:[0.99996185], b값:[8.6878725e-05]\n",
      "3600번째 학습시 cost:2.599175319417668e-10, w값:[0.9999814], b값:[4.2611842e-05]\n",
      "3900번째 학습시 cost:6.1452246069571e-11, w값:[0.9999909], b값:[2.0634901e-05]\n",
      "4200번째 학습시 cost:1.7999742321639367e-11, w값:[0.9999949], b값:[1.1153918e-05]\n",
      "4500번째 학습시 cost:7.591603561063476e-12, w값:[0.99999666], b값:[7.080767e-06]\n",
      "4800번째 학습시 cost:4.3429578509834865e-12, w값:[0.99999744], b값:[5.360495e-06]\n",
      "5100번째 학습시 cost:3.5114417883813642e-12, w값:[0.9999977], b값:[4.6531945e-06]\n",
      "5400번째 학습시 cost:3.243233155994507e-12, w값:[0.99999774], b값:[4.4906783e-06]\n",
      "5700번째 학습시 cost:3.243232722313638e-12, w값:[0.99999774], b값:[4.4902276e-06]\n",
      "6000번째 학습시 cost:3.243232722313638e-12, w값:[0.99999774], b값:[4.4902276e-06]\n"
     ]
    }
   ],
   "source": [
    "# tensor graph 정의\n",
    "# train data set\n",
    "x = np.array([1,2,3])\n",
    "y = np.array([1,2,3])\n",
    "\n",
    "# Weight와 Bais (처음에는 랜덤값을 셋팅했다가 학습과정에서 변경)\n",
    "W = tf.Variable(tf.random.normal([1]), name='weight')\n",
    "b = tf.Variable(tf.random.normal([1]), name='bias')\n",
    "\n",
    "# Hyoithesis\n",
    "H = W*x + b\n",
    "\n",
    "# cost function(최소 제곱법)\n",
    "cost = tf.reduce_mean(tf.square(H - y))\n",
    "\n",
    "#우리의 목적인 cost가 최소가 되는 w와 b를 찾는 것\n",
    "'''\n",
    "cost함수는 제곱의 평균인 2차 함수이므로 곡선. 곡선위 미분값이 줄어드는 방향으로 학습\n",
    "'''\n",
    "\n",
    "optimizer = tf.train.GradientDescentOptimizer(learning_rate=0.01)\n",
    "train = optimizer.minimize(cost)\n",
    "\n",
    "# Session\n",
    "sess = tf.Session()\n",
    "\n",
    "# variable 노드 (W,b) 초기화\n",
    "sess.run(tf.global_variables_initializer())\n",
    "\n",
    "#6000번 학습 (v2에서는 fit함수)\n",
    "# for step in range(1,6001):\n",
    "#     sess.run(train)\n",
    "#     if step%300 == 0:\n",
    "#         print(\"{}번째 학습시 cost:{}, w값:{}, b값:{}\".format(step, sess.run(cost), sess.run(W), sess.run(b)))\n",
    "\n",
    "for step in range(1, 6001):\n",
    "    _, cost_val, W_val, b_val = sess.run([train, cost, W, b])\n",
    "    if step%300 == 0:\n",
    "        print(\"{}번째 학습시 cost:{}, w값:{}, b값:{}\".format(step, sess.run(cost), sess.run(W), sess.run(b)))"
   ]
  },
  {
   "cell_type": "code",
   "execution_count": 18,
   "id": "88783f87",
   "metadata": {
    "ExecuteTime": {
     "end_time": "2021-08-13T07:55:54.588554Z",
     "start_time": "2021-08-13T07:55:54.579578Z"
    }
   },
   "outputs": [
    {
     "data": {
      "text/plain": [
       "[array([0.99999774], dtype=float32), array([4.4902276e-06], dtype=float32)]"
      ]
     },
     "execution_count": 18,
     "metadata": {},
     "output_type": "execute_result"
    }
   ],
   "source": [
    "sess.run([W,b]) #최종 6000번 학습시 나온 결과"
   ]
  },
  {
   "cell_type": "code",
   "execution_count": 19,
   "id": "11795128",
   "metadata": {
    "ExecuteTime": {
     "end_time": "2021-08-13T07:56:23.506128Z",
     "start_time": "2021-08-13T07:56:23.491192Z"
    }
   },
   "outputs": [],
   "source": [
    "W_, b_ = sess.run([W,b])"
   ]
  },
  {
   "cell_type": "code",
   "execution_count": 20,
   "id": "4b9d0267",
   "metadata": {
    "ExecuteTime": {
     "end_time": "2021-08-13T07:57:20.655884Z",
     "start_time": "2021-08-13T07:57:20.642919Z"
    }
   },
   "outputs": [
    {
     "name": "stdout",
     "output_type": "stream",
     "text": [
      "최종적으로 나온 회귀식 : H = 0.9999977350234985*x + 4.490227638598299e-06\n"
     ]
    }
   ],
   "source": [
    "print('최종적으로 나온 회귀식 : H = {}*x + {}'.format(W_[0], b_[0]))"
   ]
  },
  {
   "cell_type": "code",
   "execution_count": 22,
   "id": "3b93e70b",
   "metadata": {
    "ExecuteTime": {
     "end_time": "2021-08-13T08:11:25.644356Z",
     "start_time": "2021-08-13T08:11:24.484569Z"
    }
   },
   "outputs": [
    {
     "name": "stdout",
     "output_type": "stream",
     "text": [
      "1번째 cost:46234.37890625, w:100.0, b:[1.2495348]\n",
      "101번째 cost:111.35415649414062, w:13.25666332244873, b:[-27.86051]\n",
      "201번째 cost:68.81012725830078, w:10.634343147277832, b:[-21.901127]\n",
      "301번째 cost:42.52046585083008, w:8.573471069335938, b:[-17.21628]\n",
      "401번째 cost:26.27508544921875, w:6.953440189361572, b:[-13.533569]\n",
      "501번째 cost:16.236417770385742, w:5.679947853088379, b:[-10.638621]\n",
      "601번째 cost:10.033125877380371, w:4.678867340087891, b:[-8.362929]\n",
      "701번째 cost:6.199859142303467, w:3.8919239044189453, b:[-6.574023]\n",
      "801번째 cost:3.8311328887939453, w:3.273314952850342, b:[-5.167779]\n",
      "901번째 cost:2.3674075603485107, w:2.78703236579895, b:[-4.062345]\n",
      "1001번째 cost:1.4629135131835938, w:2.4047703742980957, b:[-3.1933727]\n",
      "1101번째 cost:0.9039918780326843, w:2.1042776107788086, b:[-2.5102823]\n",
      "1201번째 cost:0.5586122274398804, w:1.8680628538131714, b:[-1.973311]\n",
      "1301번째 cost:0.3451886475086212, w:1.682376742362976, b:[-1.5512028]\n",
      "1401번째 cost:0.21330559253692627, w:1.5364103317260742, b:[-1.2193866]\n",
      "1501번째 cost:0.13180968165397644, w:1.4216669797897339, b:[-0.9585483]\n",
      "1601번째 cost:0.08145039528608322, w:1.3314687013626099, b:[-0.75350624]\n",
      "1701번째 cost:0.050331395119428635, w:1.2605645656585693, b:[-0.5923246]\n",
      "1801번째 cost:0.031101733446121216, w:1.2048276662826538, b:[-0.46562108]\n",
      "1901번째 cost:0.019218990579247475, w:1.161013126373291, b:[-0.36602065]\n",
      "2001번째 cost:0.01187615841627121, w:1.1265709400177002, b:[-0.28772545]\n",
      "2101번째 cost:0.007338754367083311, w:1.0994963645935059, b:[-0.22617857]\n",
      "2201번째 cost:0.004534911829978228, w:1.0782132148742676, b:[-0.17779714]\n",
      "2301번째 cost:0.002802301896736026, w:1.0614827871322632, b:[-0.13976488]\n",
      "2401번째 cost:0.0017316509038209915, w:1.0483310222625732, b:[-0.10986782]\n",
      "2501번째 cost:0.0010700462153181434, w:1.0379923582077026, b:[-0.08636589]\n",
      "2601번째 cost:0.0006612248835153878, w:1.0298655033111572, b:[-0.06789144]\n",
      "2701번째 cost:0.000408598076319322, w:1.0234770774841309, b:[-0.05336893]\n",
      "2801번째 cost:0.0002524842566344887, w:1.018454909324646, b:[-0.04195259]\n",
      "2901번째 cost:0.00015602017811033875, w:1.0145072937011719, b:[-0.03297848]\n",
      "3001번째 cost:9.641097858548164e-05, w:1.011404037475586, b:[-0.0259241]\n",
      "3101번째 cost:5.957706525805406e-05, w:1.0089646577835083, b:[-0.02037877]\n",
      "3201번째 cost:3.6814195482293144e-05, w:1.0070470571517944, b:[-0.01601954]\n",
      "3301번째 cost:2.274951657454949e-05, w:1.0055396556854248, b:[-0.01259291]\n",
      "3401번째 cost:1.405791499564657e-05, w:1.00435471534729, b:[-0.0098992]\n",
      "3501번째 cost:8.687096851645038e-06, w:1.0034232139587402, b:[-0.00778175]\n",
      "3601번째 cost:5.368436177377589e-06, w:1.0026910305023193, b:[-0.00611737]\n",
      "3701번째 cost:3.317549271741882e-06, w:1.0021156072616577, b:[-0.00480898]\n",
      "3801번째 cost:2.0502295683400007e-06, w:1.001663088798523, b:[-0.00378051]\n",
      "3901번째 cost:1.2672352340814541e-06, w:1.001307487487793, b:[-0.00297212]\n"
     ]
    }
   ],
   "source": [
    "# tensor graph 정의\n",
    "x = [1,2,3]\n",
    "y = [1,2,3]\n",
    "\n",
    "#W와 Bias\n",
    "W = tf.Variable(100.0, name='weight')\n",
    "b = tf.Variable(tf.random.normal([1]), name='bias')\n",
    "#Hypothesis\n",
    "H = W*x + b\n",
    "#cost(최소제곱법)\n",
    "cost = tf.reduce_mean(tf.square(H-y))\n",
    "train = tf.train.GradientDescentOptimizer(learning_rate=0.01).minimize(cost)\n",
    "# session\n",
    "sess = tf.Session()\n",
    "# b노드 초기화\n",
    "sess.run(tf.global_variables_initializer())\n",
    "# 4000번 학습\n",
    "for step in range(1,4001):\n",
    "    cost_val, W_val, b_val = sess.run([cost,W, b])\n",
    "    if step%100 == 1:\n",
    "        print(\"{}번째 cost:{}, w:{}, b:{}\".format(step, sess.run(cost), sess.run(W), sess.run(b)))\n",
    "    sess.run(train)"
   ]
  },
  {
   "cell_type": "markdown",
   "id": "e8447c21",
   "metadata": {},
   "source": [
    "## 2.2 predict를 하기 위한 placeholder 이용"
   ]
  },
  {
   "cell_type": "code",
   "execution_count": 27,
   "id": "72e7fe9d",
   "metadata": {
    "ExecuteTime": {
     "end_time": "2021-08-13T08:21:06.057967Z",
     "start_time": "2021-08-13T08:21:06.025991Z"
    }
   },
   "outputs": [
    {
     "data": {
      "text/plain": [
       "30.0"
      ]
     },
     "execution_count": 27,
     "metadata": {},
     "output_type": "execute_result"
    }
   ],
   "source": [
    "# placeholder 이용\n",
    "a = tf.placeholder(tf.float32)\n",
    "b = tf.placeholder(tf.float32)\n",
    "#ab = tf.add(a,b)\n",
    "ab = a+b\n",
    "sess = tf.Session()\n",
    "# placeholder는 그래프 실행단계에서 값을 던져줌\n",
    "sess.run(ab, feed_dict={a:10, b:20})"
   ]
  },
  {
   "cell_type": "code",
   "execution_count": 25,
   "id": "8e2e768f",
   "metadata": {
    "ExecuteTime": {
     "end_time": "2021-08-13T08:20:14.320540Z",
     "start_time": "2021-08-13T08:20:14.304611Z"
    }
   },
   "outputs": [
    {
     "data": {
      "text/plain": [
       "array([1., 2., 3.], dtype=float32)"
      ]
     },
     "execution_count": 25,
     "metadata": {},
     "output_type": "execute_result"
    }
   ],
   "source": [
    "sess.run(a, feed_dict={a:[1,2,3]})"
   ]
  },
  {
   "cell_type": "code",
   "execution_count": 34,
   "id": "4bf0e40a",
   "metadata": {
    "ExecuteTime": {
     "end_time": "2021-08-13T08:54:28.882061Z",
     "start_time": "2021-08-13T08:54:27.095609Z"
    }
   },
   "outputs": [
    {
     "name": "stdout",
     "output_type": "stream",
     "text": [
      "200번째 cost:0.09065674990415573, w:[2.3488595], b:[2.2069604]\n",
      "400번째 cost:0.03461718186736107, w:[2.215574], b:[2.5099494]\n",
      "600번째 cost:0.013218495063483715, w:[2.1332116], b:[2.6971788]\n",
      "800번째 cost:0.005047468934208155, w:[2.0823169], b:[2.812875]\n",
      "1000번째 cost:0.0019273930229246616, w:[2.0508668], b:[2.8843677]\n",
      "1200번째 cost:0.0007359792361967266, w:[2.0314329], b:[2.9285457]\n",
      "1400번째 cost:0.0002810265577863902, w:[2.0194232], b:[2.955846]\n",
      "1600번째 cost:0.0001073182575055398, w:[2.0120027], b:[2.9727147]\n",
      "1800번째 cost:4.097756391274743e-05, w:[2.007417], b:[2.9831398]\n",
      "2000번째 cost:1.5646202882635407e-05, w:[2.0045831], b:[2.9895818]\n",
      "2200번째 cost:5.9759126997960266e-06, w:[2.0028324], b:[2.9935613]\n",
      "2400번째 cost:2.2835590698377928e-06, w:[2.0017512], b:[2.9960194]\n",
      "2600번째 cost:8.745097943574365e-07, w:[2.0010839], b:[2.9975374]\n",
      "2800번째 cost:3.34888682118617e-07, w:[2.0006707], b:[2.9984756]\n",
      "3000번째 cost:1.2845400476635405e-07, w:[2.0004158], b:[2.999056]\n",
      "3200번째 cost:4.997461289235616e-08, w:[2.0002587], b:[2.9994113]\n",
      "3400번째 cost:1.940073524053787e-08, w:[2.000161], b:[2.9996336]\n",
      "3600번째 cost:7.732523954473436e-09, w:[2.000101], b:[2.9997685]\n",
      "3800번째 cost:2.808671295539966e-09, w:[2.000061], b:[2.9998605]\n",
      "4000번째 cost:1.2311526242925197e-09, w:[2.0000405], b:[2.9999082]\n",
      "4200번째 cost:4.848364487664014e-10, w:[2.000026], b:[2.999942]\n",
      "4400번째 cost:4.848364487664014e-10, w:[2.000026], b:[2.999942]\n",
      "4600번째 cost:4.848364487664014e-10, w:[2.000026], b:[2.999942]\n",
      "4800번째 cost:4.848364487664014e-10, w:[2.000026], b:[2.999942]\n",
      "5000번째 cost:4.848364487664014e-10, w:[2.000026], b:[2.999942]\n",
      "5200번째 cost:4.848364487664014e-10, w:[2.000026], b:[2.999942]\n",
      "5400번째 cost:4.848364487664014e-10, w:[2.000026], b:[2.999942]\n",
      "5600번째 cost:4.848364487664014e-10, w:[2.000026], b:[2.999942]\n",
      "5800번째 cost:4.848364487664014e-10, w:[2.000026], b:[2.999942]\n",
      "6000번째 cost:4.848364487664014e-10, w:[2.000026], b:[2.999942]\n"
     ]
    }
   ],
   "source": [
    "# data set(H = 2x +3)\n",
    "x_data = [1, 2, 3]\n",
    "y_data = [5, 7, 9]\n",
    "\n",
    "# placeholder 설정\n",
    "x = tf.placeholder(dtype=tf.float32)\n",
    "y = tf.placeholder(dtype=tf.float32)\n",
    "# Weight & bias\n",
    "W = tf.Variable(tf.random.normal([1]), name='weight')\n",
    "b = tf.Variable(tf.random.normal([1]), name='bias')\n",
    "# Hypothesis\n",
    "H = W*x + b\n",
    "# cost function\n",
    "cost = tf.reduce_mean(tf.square(H-y))\n",
    "# 경사하강법\n",
    "optimizer = tf.train.GradientDescentOptimizer(learning_rate=0.01)\n",
    "train = optimizer.minimize(cost)\n",
    "#Session & Variable 초기화\n",
    "sess = tf.Session()\n",
    "sess.run(tf.global_variables_initializer())\n",
    "for step in range(1, 6001):\n",
    "    _, cost_val, W_val, b_val = sess.run([train, cost, W, b], feed_dict={x:x_data, y:y_data})\n",
    "    if step%200==0:\n",
    "        print(\"{}번째 cost:{}, w:{}, b:{}\".format(step, cost_val, W_val, b_val))\n"
   ]
  },
  {
   "cell_type": "code",
   "execution_count": 35,
   "id": "89fd3894",
   "metadata": {
    "ExecuteTime": {
     "end_time": "2021-08-13T08:54:59.125914Z",
     "start_time": "2021-08-13T08:54:59.102430Z"
    }
   },
   "outputs": [
    {
     "data": {
      "text/plain": [
       "[array([2.000026], dtype=float32), array([2.999942], dtype=float32)]"
      ]
     },
     "execution_count": 35,
     "metadata": {},
     "output_type": "execute_result"
    }
   ],
   "source": [
    "sess.run([W,b])"
   ]
  },
  {
   "cell_type": "code",
   "execution_count": 37,
   "id": "91321e16",
   "metadata": {
    "ExecuteTime": {
     "end_time": "2021-08-13T08:56:42.949125Z",
     "start_time": "2021-08-13T08:56:42.926186Z"
    }
   },
   "outputs": [
    {
     "data": {
      "text/plain": [
       "array([13.000072], dtype=float32)"
      ]
     },
     "execution_count": 37,
     "metadata": {},
     "output_type": "execute_result"
    }
   ],
   "source": [
    "# 예측해 보기\n",
    "sess.run(H, feed_dict={x:5})"
   ]
  },
  {
   "cell_type": "code",
   "execution_count": 38,
   "id": "b516e7fd",
   "metadata": {
    "ExecuteTime": {
     "end_time": "2021-08-13T08:57:12.152196Z",
     "start_time": "2021-08-13T08:57:12.144219Z"
    }
   },
   "outputs": [
    {
     "data": {
      "text/plain": [
       "array([ 4.999968, 23.000202, 43.00046 ], dtype=float32)"
      ]
     },
     "execution_count": 38,
     "metadata": {},
     "output_type": "execute_result"
    }
   ],
   "source": [
    "sess.run(H, feed_dict={x:np.array([1,10,20])})"
   ]
  },
  {
   "cell_type": "markdown",
   "id": "4bf0f974",
   "metadata": {},
   "source": [
    "## 2.3 scale이 다른 데이터들의 linear regression을 구현"
   ]
  },
  {
   "cell_type": "code",
   "execution_count": 39,
   "id": "ad57fd1d",
   "metadata": {
    "ExecuteTime": {
     "end_time": "2021-08-13T09:03:10.300393Z",
     "start_time": "2021-08-13T09:03:08.512162Z"
    }
   },
   "outputs": [
    {
     "name": "stdout",
     "output_type": "stream",
     "text": [
      "200번째 cost:79.26651763916016, w:[10.072938], b:[0.41233042]\n",
      "400번째 cost:79.1511001586914, w:[10.133535], b:[-0.03634367]\n",
      "600번째 cost:79.1405258178711, w:[10.151889], b:[-0.17224371]\n",
      "800번째 cost:79.13954162597656, w:[10.157449], b:[-0.21340734]\n",
      "1000번째 cost:79.13945007324219, w:[10.159133], b:[-0.22587481]\n",
      "1200번째 cost:79.13945007324219, w:[10.159642], b:[-0.22965173]\n",
      "1400번째 cost:79.13946533203125, w:[10.159797], b:[-0.23079547]\n",
      "1600번째 cost:79.13945770263672, w:[10.159843], b:[-0.23114187]\n",
      "1800번째 cost:79.13946533203125, w:[10.159858], b:[-0.23124658]\n",
      "2000번째 cost:79.13944244384766, w:[10.159862], b:[-0.23127525]\n",
      "2200번째 cost:79.13944244384766, w:[10.1598625], b:[-0.23128292]\n",
      "2400번째 cost:79.13946533203125, w:[10.1598625], b:[-0.23128368]\n",
      "2600번째 cost:79.13946533203125, w:[10.1598625], b:[-0.23128368]\n",
      "2800번째 cost:79.13946533203125, w:[10.1598625], b:[-0.23128368]\n",
      "3000번째 cost:79.13946533203125, w:[10.1598625], b:[-0.23128368]\n",
      "3200번째 cost:79.13946533203125, w:[10.1598625], b:[-0.23128368]\n",
      "3400번째 cost:79.13946533203125, w:[10.1598625], b:[-0.23128368]\n",
      "3600번째 cost:79.13946533203125, w:[10.1598625], b:[-0.23128368]\n",
      "3800번째 cost:79.13946533203125, w:[10.1598625], b:[-0.23128368]\n",
      "4000번째 cost:79.13946533203125, w:[10.1598625], b:[-0.23128368]\n",
      "4200번째 cost:79.13946533203125, w:[10.1598625], b:[-0.23128368]\n",
      "4400번째 cost:79.13946533203125, w:[10.1598625], b:[-0.23128368]\n",
      "4600번째 cost:79.13946533203125, w:[10.1598625], b:[-0.23128368]\n",
      "4800번째 cost:79.13946533203125, w:[10.1598625], b:[-0.23128368]\n",
      "5000번째 cost:79.13946533203125, w:[10.1598625], b:[-0.23128368]\n",
      "5200번째 cost:79.13946533203125, w:[10.1598625], b:[-0.23128368]\n",
      "5400번째 cost:79.13946533203125, w:[10.1598625], b:[-0.23128368]\n",
      "5600번째 cost:79.13946533203125, w:[10.1598625], b:[-0.23128368]\n",
      "5800번째 cost:79.13946533203125, w:[10.1598625], b:[-0.23128368]\n",
      "6000번째 cost:79.13946533203125, w:[10.1598625], b:[-0.23128368]\n"
     ]
    }
   ],
   "source": [
    "x_data=[1,2,5,8,10]\n",
    "y_data=[5,15,68,80,95]\n",
    "\n",
    "# placeholder 설정\n",
    "x = tf.placeholder(dtype=tf.float32)\n",
    "y = tf.placeholder(dtype=tf.float32)\n",
    "# Weight & bias\n",
    "W = tf.Variable(tf.random.normal([1]), name='weight')\n",
    "b = tf.Variable(tf.random.normal([1]), name='bias')\n",
    "# Hypothesis\n",
    "H = W*x + b\n",
    "# cost function\n",
    "cost = tf.reduce_mean(tf.square(H-y))\n",
    "# 경사하강법\n",
    "optimizer = tf.train.GradientDescentOptimizer(learning_rate=0.01)\n",
    "train = optimizer.minimize(cost)\n",
    "#Session & Variable 초기화\n",
    "sess = tf.Session()\n",
    "sess.run(tf.global_variables_initializer())\n",
    "for step in range(1, 6001):\n",
    "    _, cost_val, W_val, b_val = sess.run([train, cost, W, b], feed_dict={x:x_data, y:y_data})\n",
    "    if step%200==0:\n",
    "        print(\"{}번째 cost:{}, w:{}, b:{}\".format(step, cost_val, W_val, b_val))\n"
   ]
  },
  {
   "cell_type": "code",
   "execution_count": null,
   "id": "d465007c",
   "metadata": {},
   "outputs": [],
   "source": []
  },
  {
   "cell_type": "code",
   "execution_count": null,
   "id": "3034f1d8",
   "metadata": {},
   "outputs": [],
   "source": []
  },
  {
   "cell_type": "code",
   "execution_count": null,
   "id": "38d84eda",
   "metadata": {},
   "outputs": [],
   "source": []
  },
  {
   "cell_type": "code",
   "execution_count": null,
   "id": "cacb6fe6",
   "metadata": {},
   "outputs": [],
   "source": []
  },
  {
   "cell_type": "code",
   "execution_count": null,
   "id": "e41f3b5a",
   "metadata": {},
   "outputs": [],
   "source": []
  },
  {
   "cell_type": "code",
   "execution_count": null,
   "id": "2efa6586",
   "metadata": {},
   "outputs": [],
   "source": []
  },
  {
   "cell_type": "code",
   "execution_count": null,
   "id": "86df92cd",
   "metadata": {},
   "outputs": [],
   "source": []
  },
  {
   "cell_type": "code",
   "execution_count": null,
   "id": "716f68cc",
   "metadata": {},
   "outputs": [],
   "source": []
  },
  {
   "cell_type": "code",
   "execution_count": null,
   "id": "401a0a14",
   "metadata": {},
   "outputs": [],
   "source": []
  }
 ],
 "metadata": {
  "kernelspec": {
   "display_name": "Python 3",
   "language": "python",
   "name": "python3"
  },
  "language_info": {
   "codemirror_mode": {
    "name": "ipython",
    "version": 3
   },
   "file_extension": ".py",
   "mimetype": "text/x-python",
   "name": "python",
   "nbconvert_exporter": "python",
   "pygments_lexer": "ipython3",
   "version": "3.8.8"
  },
  "toc": {
   "base_numbering": 1,
   "nav_menu": {},
   "number_sections": false,
   "sideBar": true,
   "skip_h1_title": false,
   "title_cell": "Table of Contents",
   "title_sidebar": "Contents",
   "toc_cell": false,
   "toc_position": {
    "height": "calc(100% - 180px)",
    "left": "10px",
    "top": "150px",
    "width": "303.837px"
   },
   "toc_section_display": true,
   "toc_window_display": true
  },
  "varInspector": {
   "cols": {
    "lenName": 16,
    "lenType": 16,
    "lenVar": 40
   },
   "kernels_config": {
    "python": {
     "delete_cmd_postfix": "",
     "delete_cmd_prefix": "del ",
     "library": "var_list.py",
     "varRefreshCmd": "print(var_dic_list())"
    },
    "r": {
     "delete_cmd_postfix": ") ",
     "delete_cmd_prefix": "rm(",
     "library": "var_list.r",
     "varRefreshCmd": "cat(var_dic_list()) "
    }
   },
   "types_to_exclude": [
    "module",
    "function",
    "builtin_function_or_method",
    "instance",
    "_Feature"
   ],
   "window_display": false
  }
 },
 "nbformat": 4,
 "nbformat_minor": 5
}
