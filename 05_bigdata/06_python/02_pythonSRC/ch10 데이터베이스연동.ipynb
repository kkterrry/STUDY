{
 "cells": [
  {
   "cell_type": "markdown",
   "id": "a7b9295d",
   "metadata": {
    "ExecuteTime": {
     "end_time": "2021-07-26T06:11:02.983433Z",
     "start_time": "2021-07-26T06:11:02.965481Z"
    }
   },
   "source": [
    "<b><font size=\"6\" color=\"red\">ch10 데이터베이스연동</font></b>"
   ]
  },
  {
   "cell_type": "markdown",
   "id": "6b8ab41f",
   "metadata": {},
   "source": [
    "# 1절 SQLite 데이터 베이스연결\n",
    "- SQLite 데이터 베이스는 별도의 DBMS 없이 SQL을 이용하여 DB 엑세스할 수 있도록 만든 **간단한 디스크 기반의 데이터베이스를 제공**하는 C라이브러리\n",
    "- SQLite는 프로토타입(시제품 나오기전까지 제품)을 만들때 사용. 정식 제품은 오라클이나 다른 DBMS를 이식\n",
    "- [DB browser for SQLite](http://sqlitebrowser.org/dl)"
   ]
  },
  {
   "cell_type": "markdown",
   "id": "21d75bdb",
   "metadata": {},
   "source": [
    "## 1.1 SQLite browser 설치 및 sqlite3 패키지 load"
   ]
  },
  {
   "cell_type": "code",
   "execution_count": 1,
   "id": "e085cd91",
   "metadata": {
    "ExecuteTime": {
     "end_time": "2021-07-28T00:50:46.110037Z",
     "start_time": "2021-07-28T00:50:46.096098Z"
    }
   },
   "outputs": [
    {
     "data": {
      "text/plain": [
       "'3.35.4'"
      ]
     },
     "execution_count": 1,
     "metadata": {},
     "output_type": "execute_result"
    }
   ],
   "source": [
    "import sqlite3\n",
    "sqlite3.sqlite_version"
   ]
  },
  {
   "cell_type": "code",
   "execution_count": 2,
   "id": "5015243b",
   "metadata": {
    "ExecuteTime": {
     "end_time": "2021-07-28T00:52:09.277892Z",
     "start_time": "2021-07-28T00:52:08.604089Z"
    }
   },
   "outputs": [
    {
     "data": {
      "text/plain": [
       "'1.2.4'"
      ]
     },
     "execution_count": 2,
     "metadata": {},
     "output_type": "execute_result"
    }
   ],
   "source": [
    "import pandas as pd\n",
    "pd.__version__"
   ]
  },
  {
   "cell_type": "markdown",
   "id": "b1328fa6",
   "metadata": {},
   "source": [
    "## 1.2 데이터 베이스 연결"
   ]
  },
  {
   "cell_type": "code",
   "execution_count": 3,
   "id": "ce207804",
   "metadata": {
    "ExecuteTime": {
     "end_time": "2021-07-28T00:58:03.740653Z",
     "start_time": "2021-07-28T00:58:03.730704Z"
    }
   },
   "outputs": [
    {
     "data": {
      "text/plain": [
       "<sqlite3.Connection at 0x1481e0dc210>"
      ]
     },
     "execution_count": 3,
     "metadata": {},
     "output_type": "execute_result"
    }
   ],
   "source": [
    "# DB 연결 생성시, 파일이 있으면 그 파일 연결. 파일이 없으면 빈 파일을 생성\n",
    "conn = sqlite3.connect('data/ch10_example.db')\n",
    "conn"
   ]
  },
  {
   "cell_type": "code",
   "execution_count": 4,
   "id": "dcb001b1",
   "metadata": {
    "ExecuteTime": {
     "end_time": "2021-07-28T01:02:50.650161Z",
     "start_time": "2021-07-28T01:02:50.629196Z"
    }
   },
   "outputs": [
    {
     "data": {
      "text/plain": [
       "<sqlite3.Cursor at 0x1481e0f0340>"
      ]
     },
     "execution_count": 4,
     "metadata": {},
     "output_type": "execute_result"
    }
   ],
   "source": [
    "# 커서 객체 반환. 커서는 SQL문 실행시키고 결과데이터(SELECT)를 조회하는데 사용객체\n",
    "cursor = conn.cursor()\n",
    "cursor"
   ]
  },
  {
   "cell_type": "code",
   "execution_count": 5,
   "id": "d14aa99f",
   "metadata": {
    "ExecuteTime": {
     "end_time": "2021-07-28T01:04:54.791151Z",
     "start_time": "2021-07-28T01:04:54.769150Z"
    }
   },
   "outputs": [
    {
     "data": {
      "text/plain": [
       "<sqlite3.Cursor at 0x1481e0f0340>"
      ]
     },
     "execution_count": 5,
     "metadata": {},
     "output_type": "execute_result"
    }
   ],
   "source": [
    "cursor.execute(\"\"\"\n",
    "    CREATE TABLE MEMBER(\n",
    "        NAME TEXT,\n",
    "        AGE INT,\n",
    "        EMAIL TEXT\n",
    "    )\n",
    "\"\"\")"
   ]
  },
  {
   "cell_type": "code",
   "execution_count": 7,
   "id": "5f5ccf78",
   "metadata": {
    "ExecuteTime": {
     "end_time": "2021-07-28T01:06:11.948037Z",
     "start_time": "2021-07-28T01:06:11.676523Z"
    }
   },
   "outputs": [
    {
     "ename": "OperationalError",
     "evalue": "no such table: MEMBER",
     "output_type": "error",
     "traceback": [
      "\u001b[1;31m---------------------------------------------------------------------------\u001b[0m",
      "\u001b[1;31mOperationalError\u001b[0m                          Traceback (most recent call last)",
      "\u001b[1;32m<ipython-input-7-44b2cae14db8>\u001b[0m in \u001b[0;36m<module>\u001b[1;34m\u001b[0m\n\u001b[1;32m----> 1\u001b[1;33m \u001b[0mcursor\u001b[0m\u001b[1;33m.\u001b[0m\u001b[0mexecute\u001b[0m\u001b[1;33m(\u001b[0m\u001b[1;34m\"DROP TABLE MEMBER\"\u001b[0m\u001b[1;33m)\u001b[0m\u001b[1;33m\u001b[0m\u001b[1;33m\u001b[0m\u001b[0m\n\u001b[0m",
      "\u001b[1;31mOperationalError\u001b[0m: no such table: MEMBER"
     ]
    }
   ],
   "source": [
    "cursor.execute(\"DROP TABLE MEMBER\") #2번실행 테이블 없으면 오류"
   ]
  },
  {
   "cell_type": "code",
   "execution_count": 8,
   "id": "94fd5eab",
   "metadata": {
    "ExecuteTime": {
     "end_time": "2021-07-28T01:06:31.765998Z",
     "start_time": "2021-07-28T01:06:31.750741Z"
    }
   },
   "outputs": [
    {
     "data": {
      "text/plain": [
       "<sqlite3.Cursor at 0x1481e0f0340>"
      ]
     },
     "execution_count": 8,
     "metadata": {},
     "output_type": "execute_result"
    }
   ],
   "source": [
    "cursor.execute(\"\"\"\n",
    "    CREATE TABLE MEMBER(\n",
    "        NAME TEXT,\n",
    "        AGE INT,\n",
    "        EMAIL TEXT\n",
    "    )\n",
    "\"\"\")"
   ]
  },
  {
   "cell_type": "code",
   "execution_count": 11,
   "id": "521d350c",
   "metadata": {
    "ExecuteTime": {
     "end_time": "2021-07-28T01:12:09.280862Z",
     "start_time": "2021-07-28T01:12:09.263929Z"
    }
   },
   "outputs": [
    {
     "data": {
      "text/plain": [
       "<sqlite3.Cursor at 0x1481e0f0340>"
      ]
     },
     "execution_count": 11,
     "metadata": {},
     "output_type": "execute_result"
    }
   ],
   "source": [
    "cursor.execute(\"INSERT INTO MEMBER VALUES ('홍길동',20,'h@h.com')\")\n",
    "cursor.execute(\"INSERT INTO MEMBER VALUES ('김길동',20,'h@h.com')\")\n",
    "cursor.execute(\"INSERT INTO MEMBER VALUES ('박길동',20,'h@h.com')\")"
   ]
  },
  {
   "cell_type": "code",
   "execution_count": 12,
   "id": "37a48a76",
   "metadata": {
    "ExecuteTime": {
     "end_time": "2021-07-28T01:13:22.442207Z",
     "start_time": "2021-07-28T01:13:22.427248Z"
    }
   },
   "outputs": [],
   "source": [
    "conn.commit() #반대 : conn.rollback() DML 문에서만 commit"
   ]
  },
  {
   "cell_type": "code",
   "execution_count": 13,
   "id": "70fb9536",
   "metadata": {
    "ExecuteTime": {
     "end_time": "2021-07-28T01:16:57.144768Z",
     "start_time": "2021-07-28T01:16:57.134823Z"
    }
   },
   "outputs": [
    {
     "data": {
      "text/plain": [
       "<sqlite3.Cursor at 0x1481e0f0340>"
      ]
     },
     "execution_count": 13,
     "metadata": {},
     "output_type": "execute_result"
    }
   ],
   "source": [
    "# select 실행결과는 cursor가 가리킴\n",
    "cursor.execute(\"SELECT * FROM MEMBER ORDER BY NAME\")"
   ]
  },
  {
   "cell_type": "code",
   "execution_count": 14,
   "id": "16bd7036",
   "metadata": {
    "ExecuteTime": {
     "end_time": "2021-07-28T01:19:51.310530Z",
     "start_time": "2021-07-28T01:19:51.297566Z"
    }
   },
   "outputs": [
    {
     "name": "stdout",
     "output_type": "stream",
     "text": [
      "[('홍길동', 20, 'h@h.com'), ('김길동', 20, 'h@h.com'), ('박길동', 20, 'h@h.com')]\n"
     ]
    }
   ],
   "source": [
    "# select 문의 결과를 받는 함수\n",
    "## fetchall() - 결과를 모두 받을 때(튜플 list)\n",
    "## fetchone() - 결과를 한행씩 받을 때(튜플)\n",
    "## fetchmany(n) - 결과를 n행 받을 때\n",
    "print(cursor.fetchall())"
   ]
  },
  {
   "cell_type": "code",
   "execution_count": 15,
   "id": "ed59d0e1",
   "metadata": {
    "ExecuteTime": {
     "end_time": "2021-07-28T01:20:33.479940Z",
     "start_time": "2021-07-28T01:20:33.464981Z"
    }
   },
   "outputs": [
    {
     "name": "stdout",
     "output_type": "stream",
     "text": [
      "[]\n"
     ]
    }
   ],
   "source": [
    "print(cursor.fetchall())  #한번 소요된 커서는 다시 패치할 수 없다."
   ]
  },
  {
   "cell_type": "code",
   "execution_count": 16,
   "id": "1b566751",
   "metadata": {
    "ExecuteTime": {
     "end_time": "2021-07-28T01:33:13.224945Z",
     "start_time": "2021-07-28T01:33:13.217971Z"
    }
   },
   "outputs": [
    {
     "data": {
      "text/plain": [
       "[('홍길동', 20, 'h@h.com'), ('김길동', 20, 'h@h.com'), ('박길동', 20, 'h@h.com')]"
      ]
     },
     "execution_count": 16,
     "metadata": {},
     "output_type": "execute_result"
    }
   ],
   "source": [
    "cursor.execute(\"SELECT * FROM MEMBER\")\n",
    "members = cursor.fetchall()\n",
    "members"
   ]
  },
  {
   "cell_type": "code",
   "execution_count": 17,
   "id": "ea18c6a3",
   "metadata": {
    "ExecuteTime": {
     "end_time": "2021-07-28T01:33:27.554784Z",
     "start_time": "2021-07-28T01:33:27.544842Z"
    }
   },
   "outputs": [
    {
     "name": "stdout",
     "output_type": "stream",
     "text": [
      "('홍길동', 20, 'h@h.com')\n",
      "('김길동', 20, 'h@h.com')\n",
      "('박길동', 20, 'h@h.com')\n"
     ]
    }
   ],
   "source": [
    "for member in members:\n",
    "    print(member)"
   ]
  },
  {
   "cell_type": "code",
   "execution_count": 19,
   "id": "caeb2bae",
   "metadata": {
    "ExecuteTime": {
     "end_time": "2021-07-28T01:38:56.552135Z",
     "start_time": "2021-07-28T01:38:56.534184Z"
    }
   },
   "outputs": [
    {
     "name": "stdout",
     "output_type": "stream",
     "text": [
      "이름 : 홍길동 \t나이 : 20 \t메일 : h@h.com\n",
      "이름 : 김길동 \t나이 : 20 \t메일 : h@h.com\n",
      "이름 : 박길동 \t나이 : 20 \t메일 : h@h.com\n"
     ]
    }
   ],
   "source": [
    "cursor.execute(\"SELECT * FROM MEMBER\")\n",
    "member_list = []\n",
    "while True:\n",
    "    member = cursor.fetchone()\n",
    "    if member is None:\n",
    "        break\n",
    "    member_list.append({'name':member[0], 'age':member[1], 'email':member[2]})\n",
    "    print('이름 :',member[0], '\\t나이 :',member[1], '\\t메일 :', member[2])"
   ]
  },
  {
   "cell_type": "code",
   "execution_count": 20,
   "id": "d3ef621d",
   "metadata": {
    "ExecuteTime": {
     "end_time": "2021-07-28T01:39:01.150060Z",
     "start_time": "2021-07-28T01:39:01.140573Z"
    }
   },
   "outputs": [
    {
     "data": {
      "text/plain": [
       "[{'name': '홍길동', 'age': 20, 'email': 'h@h.com'},\n",
       " {'name': '김길동', 'age': 20, 'email': 'h@h.com'},\n",
       " {'name': '박길동', 'age': 20, 'email': 'h@h.com'}]"
      ]
     },
     "execution_count": 20,
     "metadata": {},
     "output_type": "execute_result"
    }
   ],
   "source": [
    "member_list"
   ]
  },
  {
   "cell_type": "code",
   "execution_count": 23,
   "id": "75e8953e",
   "metadata": {
    "ExecuteTime": {
     "end_time": "2021-07-28T01:41:13.425698Z",
     "start_time": "2021-07-28T01:41:13.415726Z"
    }
   },
   "outputs": [
    {
     "name": "stdout",
     "output_type": "stream",
     "text": [
      "홍길동 20 h@h.com\n",
      "김길동 20 h@h.com\n"
     ]
    }
   ],
   "source": [
    "cursor.execute('SELECT * FROM MEMBER ORDER BY AGE DESC')\n",
    "for member in cursor.fetchmany(2):\n",
    "    print(member[0], member[1], member[2])"
   ]
  },
  {
   "cell_type": "code",
   "execution_count": 24,
   "id": "3106df92",
   "metadata": {
    "ExecuteTime": {
     "end_time": "2021-07-28T01:41:30.786875Z",
     "start_time": "2021-07-28T01:41:30.769924Z"
    }
   },
   "outputs": [
    {
     "name": "stdout",
     "output_type": "stream",
     "text": [
      "홍길동 20 h@h.com\n",
      "김길동 20 h@h.com\n",
      "박길동 20 h@h.com\n"
     ]
    }
   ],
   "source": [
    "cursor.execute('SELECT * FROM MEMBER ORDER BY AGE DESC')\n",
    "for member in cursor.fetchmany(10):\n",
    "    print(member[0], member[1], member[2])"
   ]
  },
  {
   "cell_type": "code",
   "execution_count": 25,
   "id": "a4ed41f4",
   "metadata": {
    "ExecuteTime": {
     "end_time": "2021-07-28T01:42:53.298933Z",
     "start_time": "2021-07-28T01:42:53.292950Z"
    }
   },
   "outputs": [],
   "source": [
    "cursor.close() # cursor.close는 생략가능\n",
    "conn.close()"
   ]
  },
  {
   "cell_type": "markdown",
   "id": "6c3a3736",
   "metadata": {},
   "source": [
    "## 1.3 SQL 구문에 파라미터 사용하기\n",
    "- qmark, named(추천) 방법"
   ]
  },
  {
   "cell_type": "code",
   "execution_count": 26,
   "id": "890eb47d",
   "metadata": {
    "ExecuteTime": {
     "end_time": "2021-07-28T01:48:32.467863Z",
     "start_time": "2021-07-28T01:48:32.442926Z"
    }
   },
   "outputs": [
    {
     "data": {
      "text/plain": [
       "[('홍길동', 20, 'h@h.com')]"
      ]
     },
     "execution_count": 26,
     "metadata": {},
     "output_type": "execute_result"
    }
   ],
   "source": [
    "conn = sqlite3.connect('data/ch10_example.db')\n",
    "cursor = conn.cursor()\n",
    "cursor.execute(\"SELECT * FROM MEMBER WHERE NAME IN ('홍길동','유낄똥')\")\n",
    "cursor.fetchall()"
   ]
  },
  {
   "cell_type": "code",
   "execution_count": 29,
   "id": "73ac7c22",
   "metadata": {
    "ExecuteTime": {
     "end_time": "2021-07-28T01:52:03.632257Z",
     "start_time": "2021-07-28T01:51:58.968849Z"
    }
   },
   "outputs": [
    {
     "name": "stdout",
     "output_type": "stream",
     "text": [
      "검색할 이름1은 ?홍길동\n",
      "검색할 이름2는 ?유낄동\n"
     ]
    },
    {
     "data": {
      "text/plain": [
       "[('홍길동', 20, 'h@h.com')]"
      ]
     },
     "execution_count": 29,
     "metadata": {},
     "output_type": "execute_result"
    }
   ],
   "source": [
    "# 파라미터 사용하기 : qmark 방법 이용\n",
    "name1 = input('검색할 이름1은 ?')\n",
    "name2 = input('검색할 이름2는 ?')\n",
    "cursor.execute(\"SELECT * FROM MEMBER WHERE NAME IN (?, ?)\",(name1,name2))\n",
    "cursor.fetchall()"
   ]
  },
  {
   "cell_type": "code",
   "execution_count": 30,
   "id": "f6ad37fc",
   "metadata": {
    "ExecuteTime": {
     "end_time": "2021-07-28T01:54:38.012640Z",
     "start_time": "2021-07-28T01:54:30.527851Z"
    }
   },
   "outputs": [
    {
     "name": "stdout",
     "output_type": "stream",
     "text": [
      "검색할 이름1은 ?홍길동\n",
      "검색할 이름2는 ?김길동\n"
     ]
    },
    {
     "data": {
      "text/plain": [
       "[('홍길동', 20, 'h@h.com'), ('김길동', 20, 'h@h.com')]"
      ]
     },
     "execution_count": 30,
     "metadata": {},
     "output_type": "execute_result"
    }
   ],
   "source": [
    "name1 = input('검색할 이름1은 ?')\n",
    "name2 = input('검색할 이름2는 ?')\n",
    "names = (name1, name2) #튜플이나 리스트형 변수로 만들어 저야 한다.(순서가 있어야 한다.)\n",
    "cursor.execute(\"SELECT * FROM MEMBER WHERE NAME IN (?,?)\",names)\n",
    "cursor.fetchall()"
   ]
  },
  {
   "cell_type": "code",
   "execution_count": 32,
   "id": "96976340",
   "metadata": {
    "ExecuteTime": {
     "end_time": "2021-07-28T02:00:45.801001Z",
     "start_time": "2021-07-28T02:00:42.050290Z"
    }
   },
   "outputs": [
    {
     "name": "stdout",
     "output_type": "stream",
     "text": [
      "검색할 이름1은 ?홍길동\n",
      "[('홍길동', 20, 'h@h.com')]\n"
     ]
    }
   ],
   "source": [
    "# 파라미터 사용하기 : named 방법 이용\n",
    "name = input('검색할 이름1은 ?')\n",
    "cursor.execute(\"SELECT * FROM MEMBER WHERE NAME = :name \",{'name':name1})\n",
    "members = cursor.fetchall()\n",
    "if len(members) == 0:\n",
    "    print(\"해당 이름의 데이터가 없습니다.\")\n",
    "else:\n",
    "    print(members)\n",
    "\n"
   ]
  },
  {
   "cell_type": "code",
   "execution_count": null,
   "id": "63637bb4",
   "metadata": {},
   "outputs": [],
   "source": [
    "# member 테이블에 입력 (사용자로부터 이름, 나이, 메일을 입력받아 DB insert하는 프로그램 수행)"
   ]
  },
  {
   "cell_type": "code",
   "execution_count": null,
   "id": "536c1eda",
   "metadata": {},
   "outputs": [],
   "source": [
    "# 파라미터 사용하기 : named 방법 이용\n",
    "name1 = input('검색할 이름은 ?')\n",
    "cursor.execute(\"SELECT * FROM MEMBER WHERE NAME =  :name \", {'name':name1})\n",
    "members = cursor.fetchall()\n",
    "if len(members) == 0:\n",
    "    print(\"해당 이름의 데이터가 없습니다\")\n",
    "else:\n",
    "    print(members)\n",
    "    # print(cursor.fetchall()) # 무조건 한행도 출력 안 됨"
   ]
  },
  {
   "cell_type": "code",
   "execution_count": null,
   "id": "a1cbf27c",
   "metadata": {},
   "outputs": [],
   "source": [
    "# member 테이블에 입력 (사용자로부터 이름, 나이, 메일을 입력받아 DB에 insert하는 프로그램 수행)\n",
    "try:\n",
    "    name = input('입력할 이름은 ?')\n",
    "    age  = int(input('입력할 나이는 ?'))\n",
    "    email = input('입력할 메일은 ? ')\n",
    "except:\n",
    "    print('유효하지 않는 나이 입력시 18세로 초기화')\n",
    "    age = 18\n",
    "    email = input('입력할 메일은 ?')\n",
    "inputdata = {'name':name, 'age':age, 'email':email}\n",
    "# cursor.execute(\"INSERT INTO MEMBER VALUES (?, ?, ?)\", (name, age, email))\n",
    "# cursor.execute(\"INSERT INTO MEMBER VALUES (:name, :age, :email)\", inputdate)\n",
    "cursor.execute(\"INSERT INTO MEMBER VALUES (:name, :age, :email)\", \n",
    "                      {'name':name, 'age':age, 'email':email})\n",
    "conn.commit()"
   ]
  },
  {
   "cell_type": "code",
   "execution_count": 34,
   "id": "8fec2a03",
   "metadata": {
    "ExecuteTime": {
     "end_time": "2021-07-28T02:17:54.701866Z",
     "start_time": "2021-07-28T02:17:39.293088Z"
    }
   },
   "outputs": [
    {
     "name": "stdout",
     "output_type": "stream",
     "text": [
      "몇개의 데이터를 입력하시겠습니까?1\n",
      "이름 입력포길동\n",
      "나이 입력5\n",
      "이메일 입력po@po.com\n"
     ]
    }
   ],
   "source": [
    "#입력\n",
    "a = int(input(\"몇개의 데이터를 입력하시겠습니까?\"))\n",
    "for i in range(a):\n",
    "    name_i = input(\"이름 입력\")\n",
    "    age_i = int(input(\"나이 입력\"))\n",
    "    email_i = input(\"이메일 입력\")\n",
    "    \n",
    "    cursor.execute(\"INSERT INTO MEMBER VALUES (?,?,?)\",(name_i,age_i,email_i))\n",
    "\n",
    "conn.commit()"
   ]
  },
  {
   "cell_type": "code",
   "execution_count": null,
   "id": "9d841994",
   "metadata": {},
   "outputs": [],
   "source": [
    "# member 테이블에 입력0입력 전까지 (사용자로부터 이름, 나이, 메일을 입력받아 DB insert하는 프로그램 수행)\n",
    "while True:\n",
    "    a=int(input(\"입력여부 선택 0=입력취소\"))\n",
    "    if a==0:\n",
    "        break\n",
    "    name_i = input(\"이름 입력\")\n",
    "    age_i = int(input(\"나이 입력\"))\n",
    "    email_i = input(\"이메일 입력\")\n",
    "    \n",
    "    cursor.execute(\"INSERT INTO MEMBER VALUES (?,?,?)\",(name_i,age_i,email_i))\n",
    "    \n",
    "conn.commit()"
   ]
  },
  {
   "cell_type": "code",
   "execution_count": 38,
   "id": "a163bbee",
   "metadata": {
    "ExecuteTime": {
     "end_time": "2021-07-28T02:56:40.601820Z",
     "start_time": "2021-07-28T02:56:40.583868Z"
    }
   },
   "outputs": [
    {
     "data": {
      "text/plain": [
       "[('홍길동', 20, 'h@h.com'),\n",
       " ('김길동', 20, 'h@h.com'),\n",
       " ('박길동', 20, 'h@h.com'),\n",
       " ('포길동', 5, 'po@po.com'),\n",
       " ('키길동', 3, 'ki@ki.com')]"
      ]
     },
     "execution_count": 38,
     "metadata": {},
     "output_type": "execute_result"
    }
   ],
   "source": [
    "cursor.execute('SELECT * FROM MEMBER')\n",
    "cursor.fetchall()"
   ]
  },
  {
   "cell_type": "code",
   "execution_count": 35,
   "id": "a5f823cb",
   "metadata": {
    "ExecuteTime": {
     "end_time": "2021-07-28T02:45:36.314266Z",
     "start_time": "2021-07-28T02:45:36.296313Z"
    }
   },
   "outputs": [],
   "source": [
    "\n",
    "class User:\n",
    "    '이름, 나이, 메일이 있는 class'\n",
    "    def __init__(self, name, age, email):\n",
    "        self.name = name\n",
    "        self.age  = age\n",
    "        self.email = email\n",
    "    def __str__(self):\n",
    "        return '이름:{:4}\\t나이:{:3}\\t메일:{}'.format(self.name, self.age, self.email)\n",
    "    def as_dict(self):\n",
    "        return {'name':self.name, 'age':self.age, 'email':self.email}\n",
    "\n",
    "try:\n",
    "    name = input('입력할 이름은 ?')\n",
    "    age  = int(input('입력할 나이는 ?'))\n",
    "    email = input('입력할 메일은 ? ')\n",
    "except:\n",
    "    print('유효하지 않는 나이 입력시 18세로 초기화')\n",
    "    age = 18\n",
    "    email = input('입력할 메일은 ?')\n",
    "user = User(name, age, email)\n",
    "cursor.execute(\"INSERT INTO MEMBER VALUES (:name, :age, :email)\", user.as_dict())\n",
    "conn.commit()"
   ]
  },
  {
   "cell_type": "code",
   "execution_count": 37,
   "id": "ccb88bce",
   "metadata": {
    "ExecuteTime": {
     "end_time": "2021-07-28T02:53:35.005295Z",
     "start_time": "2021-07-28T02:53:07.498406Z"
    }
   },
   "outputs": [
    {
     "name": "stdout",
     "output_type": "stream",
     "text": [
      "입력할 이름은 ?(입력을 종료하고자 하면 0입력)키길동\n",
      "입력할 나이는 ?3\n",
      "입력할 메일은 ? ki@ki.com\n",
      "입력할 이름은 ?(입력을 종료하고자 하면 0입력)0\n",
      "입력된 데이터는  1 명 추가되었습니다.\n",
      "이름:키길동 \t나이:  3\t메일\"ki@ki.com\n"
     ]
    }
   ],
   "source": [
    "# member 테이블에 입력(0을 입력할 때까지 계속 입력)\n",
    "user_list = [] # 입력한 user 객체들이 저장될 예정\n",
    "while True:\n",
    "    try:\n",
    "        name = input('입력할 이름은 ?(입력을 종료하고자 하면 0입력)')\n",
    "        if name == '0':\n",
    "            break\n",
    "        age  = int(input('입력할 나이는 ?'))\n",
    "        email = input('입력할 메일은 ? ')\n",
    "    except:\n",
    "        print('유효하지 않는 나이 입력시 18세로 초기화')\n",
    "        age = 18\n",
    "        email = input('입력할 메일은 ?')\n",
    "    user = User(name, age, email)\n",
    "    user_list.append(user)\n",
    "    cursor.execute(\"INSERT INTO MEMBER VALUES (:name, :age, :email)\", user.as_dict())\n",
    "conn.commit()\n",
    "print('입력된 데이터는 ', len(user_list),'명 추가되었습니다.')\n",
    "for user in user_list:\n",
    "    print(user)"
   ]
  },
  {
   "cell_type": "code",
   "execution_count": 39,
   "id": "b32222d6",
   "metadata": {
    "ExecuteTime": {
     "end_time": "2021-07-28T02:56:58.142701Z",
     "start_time": "2021-07-28T02:56:58.130704Z"
    }
   },
   "outputs": [],
   "source": [
    "cursor.close() # cursor.close는 생략가능\n",
    "conn.close()   "
   ]
  },
  {
   "cell_type": "markdown",
   "id": "e164dfb8",
   "metadata": {},
   "source": [
    "# 2절. 오라클 데이터 베이스 연결"
   ]
  },
  {
   "cell_type": "code",
   "execution_count": 43,
   "id": "6a8c0b7d",
   "metadata": {
    "ExecuteTime": {
     "end_time": "2021-07-28T03:23:44.745377Z",
     "start_time": "2021-07-28T03:23:44.736406Z"
    }
   },
   "outputs": [
    {
     "data": {
      "text/plain": [
       "'(DESCRIPTION=(ADDRESS=(PROTOCOL=TCP)(HOST=localhost)(PORT=1521))(CONNECT_DATA=(SID=xe)))'"
      ]
     },
     "execution_count": 43,
     "metadata": {},
     "output_type": "execute_result"
    }
   ],
   "source": [
    "import cx_Oracle\n",
    "oracle_dsn = cx_Oracle.makedsn(host=\"localhost\",port=1521,sid='xe')\n",
    "oracle_dsn"
   ]
  },
  {
   "cell_type": "code",
   "execution_count": 44,
   "id": "1ac437ac",
   "metadata": {
    "ExecuteTime": {
     "end_time": "2021-07-28T03:37:47.752287Z",
     "start_time": "2021-07-28T03:37:47.563071Z"
    }
   },
   "outputs": [
    {
     "data": {
      "text/plain": [
       "<cx_Oracle.Connection to scott@(DESCRIPTION=(ADDRESS=(PROTOCOL=TCP)(HOST=localhost)(PORT=1521))(CONNECT_DATA=(SID=xe)))>"
      ]
     },
     "execution_count": 44,
     "metadata": {},
     "output_type": "execute_result"
    }
   ],
   "source": [
    "# (1) conn을 얻어오는 방법1\n",
    "conn = cx_Oracle.connect(\"scott\", \"tiger\", dsn=oracle_dsn)\n",
    "conn\n",
    "#여기서 에러날 시 VC_redist.x64.exe 인스톨"
   ]
  },
  {
   "cell_type": "code",
   "execution_count": 45,
   "id": "c6b33bff",
   "metadata": {
    "ExecuteTime": {
     "end_time": "2021-07-28T03:47:21.314442Z",
     "start_time": "2021-07-28T03:47:21.294511Z"
    }
   },
   "outputs": [],
   "source": [
    "conn.close()"
   ]
  },
  {
   "cell_type": "code",
   "execution_count": 47,
   "id": "b80bfd31",
   "metadata": {
    "ExecuteTime": {
     "end_time": "2021-07-28T03:48:31.753583Z",
     "start_time": "2021-07-28T03:48:31.715663Z"
    }
   },
   "outputs": [
    {
     "data": {
      "text/plain": [
       "<cx_Oracle.Connection to scott@localhost:1521/xe>"
      ]
     },
     "execution_count": 47,
     "metadata": {},
     "output_type": "execute_result"
    }
   ],
   "source": [
    "# (2) conn을 얻어오는 방법2\n",
    "conn = cx_Oracle.connect(\"scott\", \"tiger\", \"localhost:1521/xe\")\n",
    "conn"
   ]
  },
  {
   "cell_type": "code",
   "execution_count": 48,
   "id": "d304c881",
   "metadata": {
    "ExecuteTime": {
     "end_time": "2021-07-28T04:00:15.246858Z",
     "start_time": "2021-07-28T04:00:15.242869Z"
    }
   },
   "outputs": [],
   "source": [
    "# cursor 얻어오기\n",
    "cursor = conn.cursor()"
   ]
  },
  {
   "cell_type": "code",
   "execution_count": 49,
   "id": "79e82cc6",
   "metadata": {
    "ExecuteTime": {
     "end_time": "2021-07-28T04:01:04.299382Z",
     "start_time": "2021-07-28T04:01:04.282452Z"
    }
   },
   "outputs": [],
   "source": [
    "sql = \"SELECT * FROM EMP\"\n",
    "cursor.execute(sql)\n",
    "emp = cursor.fetchall()"
   ]
  },
  {
   "cell_type": "code",
   "execution_count": 50,
   "id": "ca51b24a",
   "metadata": {
    "ExecuteTime": {
     "end_time": "2021-07-28T04:01:18.482693Z",
     "start_time": "2021-07-28T04:01:18.468737Z"
    }
   },
   "outputs": [
    {
     "name": "stdout",
     "output_type": "stream",
     "text": [
      "(7369, 'SMITH', 'CLERK', 7902, datetime.datetime(1980, 12, 17, 0, 0), 800.0, None, 20)\n",
      "(7499, 'ALLEN', 'SALESMAN', 7698, datetime.datetime(1981, 2, 20, 0, 0), 1600.0, 300.0, 30)\n",
      "(7521, 'WARD', 'SALESMAN', 7698, datetime.datetime(1981, 2, 22, 0, 0), 1250.0, 500.0, 30)\n",
      "(7566, 'JONES', 'MANAGER', 7839, datetime.datetime(1981, 4, 2, 0, 0), 2975.0, None, 20)\n",
      "(7654, 'MARTIN', 'SALESMAN', 7698, datetime.datetime(1981, 9, 28, 0, 0), 1250.0, 1400.0, 30)\n",
      "(7698, 'BLAKE', 'MANAGER', 7839, datetime.datetime(1981, 5, 1, 0, 0), 2850.0, None, 30)\n",
      "(7782, 'CLARK', 'MANAGER', 7839, datetime.datetime(1981, 6, 9, 0, 0), 2450.0, None, 10)\n",
      "(7788, 'SCOTT', 'ANALYST', 7566, datetime.datetime(1982, 12, 9, 0, 0), 3000.0, None, 20)\n",
      "(7839, 'KING', 'PRESIDENT', None, datetime.datetime(1981, 11, 17, 0, 0), 5000.0, None, 10)\n",
      "(7844, 'TURNER', 'SALESMAN', 7698, datetime.datetime(1981, 9, 8, 0, 0), 1500.0, 0.0, 30)\n",
      "(7876, 'ADAMS', 'CLERK', 7788, datetime.datetime(1983, 1, 12, 0, 0), 1100.0, None, 20)\n",
      "(7900, 'JAMES', 'CLERK', 7698, datetime.datetime(1981, 12, 3, 0, 0), 950.0, None, 30)\n",
      "(7902, 'FORD', 'ANALYST', 7566, datetime.datetime(1981, 12, 3, 0, 0), 3000.0, None, 20)\n",
      "(7934, 'MILLER', 'CLERK', 7782, datetime.datetime(1982, 1, 23, 0, 0), 1300.0, None, 10)\n",
      "(1001, '홍', None, None, datetime.datetime(2021, 6, 10, 22, 18, 13), 3000.0, None, 20)\n"
     ]
    }
   ],
   "source": [
    "for e in emp:\n",
    "    print(e)"
   ]
  },
  {
   "cell_type": "code",
   "execution_count": 51,
   "id": "739486d4",
   "metadata": {
    "ExecuteTime": {
     "end_time": "2021-07-28T04:02:10.140805Z",
     "start_time": "2021-07-28T04:02:10.131857Z"
    }
   },
   "outputs": [
    {
     "name": "stdout",
     "output_type": "stream",
     "text": [
      "(7369, 'SMITH', 'CLERK', 7902, datetime.datetime(1980, 12, 17, 0, 0), 800.0, None, 20)\n",
      "(7499, 'ALLEN', 'SALESMAN', 7698, datetime.datetime(1981, 2, 20, 0, 0), 1600.0, 300.0, 30)\n",
      "(7521, 'WARD', 'SALESMAN', 7698, datetime.datetime(1981, 2, 22, 0, 0), 1250.0, 500.0, 30)\n",
      "(7566, 'JONES', 'MANAGER', 7839, datetime.datetime(1981, 4, 2, 0, 0), 2975.0, None, 20)\n",
      "(7654, 'MARTIN', 'SALESMAN', 7698, datetime.datetime(1981, 9, 28, 0, 0), 1250.0, 1400.0, 30)\n",
      "(7698, 'BLAKE', 'MANAGER', 7839, datetime.datetime(1981, 5, 1, 0, 0), 2850.0, None, 30)\n",
      "(7782, 'CLARK', 'MANAGER', 7839, datetime.datetime(1981, 6, 9, 0, 0), 2450.0, None, 10)\n",
      "(7788, 'SCOTT', 'ANALYST', 7566, datetime.datetime(1982, 12, 9, 0, 0), 3000.0, None, 20)\n",
      "(7839, 'KING', 'PRESIDENT', None, datetime.datetime(1981, 11, 17, 0, 0), 5000.0, None, 10)\n",
      "(7844, 'TURNER', 'SALESMAN', 7698, datetime.datetime(1981, 9, 8, 0, 0), 1500.0, 0.0, 30)\n",
      "(7876, 'ADAMS', 'CLERK', 7788, datetime.datetime(1983, 1, 12, 0, 0), 1100.0, None, 20)\n",
      "(7900, 'JAMES', 'CLERK', 7698, datetime.datetime(1981, 12, 3, 0, 0), 950.0, None, 30)\n",
      "(7902, 'FORD', 'ANALYST', 7566, datetime.datetime(1981, 12, 3, 0, 0), 3000.0, None, 20)\n",
      "(7934, 'MILLER', 'CLERK', 7782, datetime.datetime(1982, 1, 23, 0, 0), 1300.0, None, 10)\n",
      "(1001, '홍', None, None, datetime.datetime(2021, 6, 10, 22, 18, 13), 3000.0, None, 20)\n"
     ]
    }
   ],
   "source": [
    "sql = \"SELECT * FROM EMP\"\n",
    "cursor.execute(sql)\n",
    "for e in cursor:\n",
    "    print(e)"
   ]
  },
  {
   "cell_type": "code",
   "execution_count": 52,
   "id": "06712f1e",
   "metadata": {
    "ExecuteTime": {
     "end_time": "2021-07-28T04:06:13.668583Z",
     "start_time": "2021-07-28T04:06:03.991115Z"
    }
   },
   "outputs": [
    {
     "name": "stdout",
     "output_type": "stream",
     "text": [
      "검색할 이름은 ?SMITH\n",
      "(7369, 'SMITH', 'CLERK', 7902, datetime.datetime(1980, 12, 17, 0, 0), 800.0, None, 20)\n"
     ]
    }
   ],
   "source": [
    "sql = \"SELECT * FROM EMP WHERE ENAME =:ename\"\n",
    "ename = input(\"검색할 이름은 ?\")\n",
    "cursor.execute(sql, {'ename':ename})\n",
    "emp = cursor.fetchall()\n",
    "if len(emp) == 0:\n",
    "    print('입력하신 이름의 데이터는 없습니다.')\n",
    "else:\n",
    "    for e in emp:\n",
    "        print(e)"
   ]
  },
  {
   "cell_type": "code",
   "execution_count": 53,
   "id": "6536f293",
   "metadata": {
    "ExecuteTime": {
     "end_time": "2021-07-28T04:09:55.311899Z",
     "start_time": "2021-07-28T04:09:55.280957Z"
    }
   },
   "outputs": [
    {
     "data": {
      "text/html": [
       "<div>\n",
       "<style scoped>\n",
       "    .dataframe tbody tr th:only-of-type {\n",
       "        vertical-align: middle;\n",
       "    }\n",
       "\n",
       "    .dataframe tbody tr th {\n",
       "        vertical-align: top;\n",
       "    }\n",
       "\n",
       "    .dataframe thead th {\n",
       "        text-align: right;\n",
       "    }\n",
       "</style>\n",
       "<table border=\"1\" class=\"dataframe\">\n",
       "  <thead>\n",
       "    <tr style=\"text-align: right;\">\n",
       "      <th></th>\n",
       "      <th>0</th>\n",
       "      <th>1</th>\n",
       "      <th>2</th>\n",
       "      <th>3</th>\n",
       "      <th>4</th>\n",
       "      <th>5</th>\n",
       "      <th>6</th>\n",
       "      <th>7</th>\n",
       "    </tr>\n",
       "  </thead>\n",
       "  <tbody>\n",
       "    <tr>\n",
       "      <th>0</th>\n",
       "      <td>7369</td>\n",
       "      <td>SMITH</td>\n",
       "      <td>CLERK</td>\n",
       "      <td>7902.0</td>\n",
       "      <td>1980-12-17 00:00:00</td>\n",
       "      <td>800.0</td>\n",
       "      <td>NaN</td>\n",
       "      <td>20</td>\n",
       "    </tr>\n",
       "    <tr>\n",
       "      <th>1</th>\n",
       "      <td>7499</td>\n",
       "      <td>ALLEN</td>\n",
       "      <td>SALESMAN</td>\n",
       "      <td>7698.0</td>\n",
       "      <td>1981-02-20 00:00:00</td>\n",
       "      <td>1600.0</td>\n",
       "      <td>300.0</td>\n",
       "      <td>30</td>\n",
       "    </tr>\n",
       "    <tr>\n",
       "      <th>2</th>\n",
       "      <td>7521</td>\n",
       "      <td>WARD</td>\n",
       "      <td>SALESMAN</td>\n",
       "      <td>7698.0</td>\n",
       "      <td>1981-02-22 00:00:00</td>\n",
       "      <td>1250.0</td>\n",
       "      <td>500.0</td>\n",
       "      <td>30</td>\n",
       "    </tr>\n",
       "    <tr>\n",
       "      <th>3</th>\n",
       "      <td>7566</td>\n",
       "      <td>JONES</td>\n",
       "      <td>MANAGER</td>\n",
       "      <td>7839.0</td>\n",
       "      <td>1981-04-02 00:00:00</td>\n",
       "      <td>2975.0</td>\n",
       "      <td>NaN</td>\n",
       "      <td>20</td>\n",
       "    </tr>\n",
       "    <tr>\n",
       "      <th>4</th>\n",
       "      <td>7654</td>\n",
       "      <td>MARTIN</td>\n",
       "      <td>SALESMAN</td>\n",
       "      <td>7698.0</td>\n",
       "      <td>1981-09-28 00:00:00</td>\n",
       "      <td>1250.0</td>\n",
       "      <td>1400.0</td>\n",
       "      <td>30</td>\n",
       "    </tr>\n",
       "    <tr>\n",
       "      <th>5</th>\n",
       "      <td>7698</td>\n",
       "      <td>BLAKE</td>\n",
       "      <td>MANAGER</td>\n",
       "      <td>7839.0</td>\n",
       "      <td>1981-05-01 00:00:00</td>\n",
       "      <td>2850.0</td>\n",
       "      <td>NaN</td>\n",
       "      <td>30</td>\n",
       "    </tr>\n",
       "    <tr>\n",
       "      <th>6</th>\n",
       "      <td>7782</td>\n",
       "      <td>CLARK</td>\n",
       "      <td>MANAGER</td>\n",
       "      <td>7839.0</td>\n",
       "      <td>1981-06-09 00:00:00</td>\n",
       "      <td>2450.0</td>\n",
       "      <td>NaN</td>\n",
       "      <td>10</td>\n",
       "    </tr>\n",
       "    <tr>\n",
       "      <th>7</th>\n",
       "      <td>7788</td>\n",
       "      <td>SCOTT</td>\n",
       "      <td>ANALYST</td>\n",
       "      <td>7566.0</td>\n",
       "      <td>1982-12-09 00:00:00</td>\n",
       "      <td>3000.0</td>\n",
       "      <td>NaN</td>\n",
       "      <td>20</td>\n",
       "    </tr>\n",
       "    <tr>\n",
       "      <th>8</th>\n",
       "      <td>7839</td>\n",
       "      <td>KING</td>\n",
       "      <td>PRESIDENT</td>\n",
       "      <td>NaN</td>\n",
       "      <td>1981-11-17 00:00:00</td>\n",
       "      <td>5000.0</td>\n",
       "      <td>NaN</td>\n",
       "      <td>10</td>\n",
       "    </tr>\n",
       "    <tr>\n",
       "      <th>9</th>\n",
       "      <td>7844</td>\n",
       "      <td>TURNER</td>\n",
       "      <td>SALESMAN</td>\n",
       "      <td>7698.0</td>\n",
       "      <td>1981-09-08 00:00:00</td>\n",
       "      <td>1500.0</td>\n",
       "      <td>0.0</td>\n",
       "      <td>30</td>\n",
       "    </tr>\n",
       "    <tr>\n",
       "      <th>10</th>\n",
       "      <td>7876</td>\n",
       "      <td>ADAMS</td>\n",
       "      <td>CLERK</td>\n",
       "      <td>7788.0</td>\n",
       "      <td>1983-01-12 00:00:00</td>\n",
       "      <td>1100.0</td>\n",
       "      <td>NaN</td>\n",
       "      <td>20</td>\n",
       "    </tr>\n",
       "    <tr>\n",
       "      <th>11</th>\n",
       "      <td>7900</td>\n",
       "      <td>JAMES</td>\n",
       "      <td>CLERK</td>\n",
       "      <td>7698.0</td>\n",
       "      <td>1981-12-03 00:00:00</td>\n",
       "      <td>950.0</td>\n",
       "      <td>NaN</td>\n",
       "      <td>30</td>\n",
       "    </tr>\n",
       "    <tr>\n",
       "      <th>12</th>\n",
       "      <td>7902</td>\n",
       "      <td>FORD</td>\n",
       "      <td>ANALYST</td>\n",
       "      <td>7566.0</td>\n",
       "      <td>1981-12-03 00:00:00</td>\n",
       "      <td>3000.0</td>\n",
       "      <td>NaN</td>\n",
       "      <td>20</td>\n",
       "    </tr>\n",
       "    <tr>\n",
       "      <th>13</th>\n",
       "      <td>7934</td>\n",
       "      <td>MILLER</td>\n",
       "      <td>CLERK</td>\n",
       "      <td>7782.0</td>\n",
       "      <td>1982-01-23 00:00:00</td>\n",
       "      <td>1300.0</td>\n",
       "      <td>NaN</td>\n",
       "      <td>10</td>\n",
       "    </tr>\n",
       "    <tr>\n",
       "      <th>14</th>\n",
       "      <td>1001</td>\n",
       "      <td>홍</td>\n",
       "      <td>None</td>\n",
       "      <td>NaN</td>\n",
       "      <td>2021-06-10 22:18:13</td>\n",
       "      <td>3000.0</td>\n",
       "      <td>NaN</td>\n",
       "      <td>20</td>\n",
       "    </tr>\n",
       "  </tbody>\n",
       "</table>\n",
       "</div>"
      ],
      "text/plain": [
       "       0       1          2       3                   4       5       6   7\n",
       "0   7369   SMITH      CLERK  7902.0 1980-12-17 00:00:00   800.0     NaN  20\n",
       "1   7499   ALLEN   SALESMAN  7698.0 1981-02-20 00:00:00  1600.0   300.0  30\n",
       "2   7521    WARD   SALESMAN  7698.0 1981-02-22 00:00:00  1250.0   500.0  30\n",
       "3   7566   JONES    MANAGER  7839.0 1981-04-02 00:00:00  2975.0     NaN  20\n",
       "4   7654  MARTIN   SALESMAN  7698.0 1981-09-28 00:00:00  1250.0  1400.0  30\n",
       "5   7698   BLAKE    MANAGER  7839.0 1981-05-01 00:00:00  2850.0     NaN  30\n",
       "6   7782   CLARK    MANAGER  7839.0 1981-06-09 00:00:00  2450.0     NaN  10\n",
       "7   7788   SCOTT    ANALYST  7566.0 1982-12-09 00:00:00  3000.0     NaN  20\n",
       "8   7839    KING  PRESIDENT     NaN 1981-11-17 00:00:00  5000.0     NaN  10\n",
       "9   7844  TURNER   SALESMAN  7698.0 1981-09-08 00:00:00  1500.0     0.0  30\n",
       "10  7876   ADAMS      CLERK  7788.0 1983-01-12 00:00:00  1100.0     NaN  20\n",
       "11  7900   JAMES      CLERK  7698.0 1981-12-03 00:00:00   950.0     NaN  30\n",
       "12  7902    FORD    ANALYST  7566.0 1981-12-03 00:00:00  3000.0     NaN  20\n",
       "13  7934  MILLER      CLERK  7782.0 1982-01-23 00:00:00  1300.0     NaN  10\n",
       "14  1001       홍       None     NaN 2021-06-10 22:18:13  3000.0     NaN  20"
      ]
     },
     "execution_count": 53,
     "metadata": {},
     "output_type": "execute_result"
    }
   ],
   "source": [
    "# 데이터 베이스 검색 결과를 DataFrame으로 \n",
    "import pandas as pd\n",
    "cursor.execute('SELECT * FROM EMP')\n",
    "data = cursor.fetchall() #튜플 리스트\n",
    "data_df = pd.DataFrame(data) #데이터 프레임\n",
    "data_df\n"
   ]
  },
  {
   "cell_type": "code",
   "execution_count": 54,
   "id": "936a160a",
   "metadata": {
    "ExecuteTime": {
     "end_time": "2021-07-28T04:10:42.464418Z",
     "start_time": "2021-07-28T04:10:42.457412Z"
    }
   },
   "outputs": [
    {
     "data": {
      "text/plain": [
       "pandas.core.frame.DataFrame"
      ]
     },
     "execution_count": 54,
     "metadata": {},
     "output_type": "execute_result"
    }
   ],
   "source": [
    "type(data_df)"
   ]
  },
  {
   "cell_type": "code",
   "execution_count": 55,
   "id": "de12b261",
   "metadata": {
    "ExecuteTime": {
     "end_time": "2021-07-28T04:11:39.538237Z",
     "start_time": "2021-07-28T04:11:39.532254Z"
    }
   },
   "outputs": [
    {
     "data": {
      "text/plain": [
       "[('EMPNO', <cx_Oracle.DbType DB_TYPE_NUMBER>, 5, None, 4, 0, 0),\n",
       " ('ENAME', <cx_Oracle.DbType DB_TYPE_VARCHAR>, 10, 10, None, None, 1),\n",
       " ('JOB', <cx_Oracle.DbType DB_TYPE_VARCHAR>, 9, 9, None, None, 1),\n",
       " ('MGR', <cx_Oracle.DbType DB_TYPE_NUMBER>, 5, None, 4, 0, 1),\n",
       " ('HIREDATE', <cx_Oracle.DbType DB_TYPE_DATE>, 23, None, None, None, 1),\n",
       " ('SAL', <cx_Oracle.DbType DB_TYPE_NUMBER>, 11, None, 7, 2, 1),\n",
       " ('COMM', <cx_Oracle.DbType DB_TYPE_NUMBER>, 11, None, 7, 2, 1),\n",
       " ('DEPTNO', <cx_Oracle.DbType DB_TYPE_NUMBER>, 3, None, 2, 0, 1)]"
      ]
     },
     "execution_count": 55,
     "metadata": {},
     "output_type": "execute_result"
    }
   ],
   "source": [
    "# 각 필드의 정보 (필드명, type, display_size, 정확도, scale, nullable....)\n",
    "cursor.description #튜플리스트로 출력"
   ]
  },
  {
   "cell_type": "code",
   "execution_count": 59,
   "id": "7fc3d011",
   "metadata": {
    "ExecuteTime": {
     "end_time": "2021-07-28T04:13:42.806943Z",
     "start_time": "2021-07-28T04:13:42.789989Z"
    }
   },
   "outputs": [
    {
     "data": {
      "text/plain": [
       "['EMPNO', 'ENAME', 'JOB', 'MGR', 'HIREDATE', 'SAL', 'COMM', 'DEPTNO']"
      ]
     },
     "execution_count": 59,
     "metadata": {},
     "output_type": "execute_result"
    }
   ],
   "source": [
    "[ row[0] for row in cursor.description]"
   ]
  },
  {
   "cell_type": "code",
   "execution_count": 60,
   "id": "bbee8187",
   "metadata": {
    "ExecuteTime": {
     "end_time": "2021-07-28T04:14:20.966192Z",
     "start_time": "2021-07-28T04:14:20.951208Z"
    }
   },
   "outputs": [
    {
     "data": {
      "text/plain": [
       "RangeIndex(start=0, stop=8, step=1)"
      ]
     },
     "execution_count": 60,
     "metadata": {},
     "output_type": "execute_result"
    }
   ],
   "source": [
    "data_df.columns"
   ]
  },
  {
   "cell_type": "code",
   "execution_count": 61,
   "id": "024ade62",
   "metadata": {
    "ExecuteTime": {
     "end_time": "2021-07-28T04:14:59.578758Z",
     "start_time": "2021-07-28T04:14:59.552801Z"
    }
   },
   "outputs": [
    {
     "data": {
      "text/html": [
       "<div>\n",
       "<style scoped>\n",
       "    .dataframe tbody tr th:only-of-type {\n",
       "        vertical-align: middle;\n",
       "    }\n",
       "\n",
       "    .dataframe tbody tr th {\n",
       "        vertical-align: top;\n",
       "    }\n",
       "\n",
       "    .dataframe thead th {\n",
       "        text-align: right;\n",
       "    }\n",
       "</style>\n",
       "<table border=\"1\" class=\"dataframe\">\n",
       "  <thead>\n",
       "    <tr style=\"text-align: right;\">\n",
       "      <th></th>\n",
       "      <th>EMPNO</th>\n",
       "      <th>ENAME</th>\n",
       "      <th>JOB</th>\n",
       "      <th>MGR</th>\n",
       "      <th>HIREDATE</th>\n",
       "      <th>SAL</th>\n",
       "      <th>COMM</th>\n",
       "      <th>DEPTNO</th>\n",
       "    </tr>\n",
       "  </thead>\n",
       "  <tbody>\n",
       "    <tr>\n",
       "      <th>0</th>\n",
       "      <td>7369</td>\n",
       "      <td>SMITH</td>\n",
       "      <td>CLERK</td>\n",
       "      <td>7902.0</td>\n",
       "      <td>1980-12-17 00:00:00</td>\n",
       "      <td>800.0</td>\n",
       "      <td>NaN</td>\n",
       "      <td>20</td>\n",
       "    </tr>\n",
       "    <tr>\n",
       "      <th>1</th>\n",
       "      <td>7499</td>\n",
       "      <td>ALLEN</td>\n",
       "      <td>SALESMAN</td>\n",
       "      <td>7698.0</td>\n",
       "      <td>1981-02-20 00:00:00</td>\n",
       "      <td>1600.0</td>\n",
       "      <td>300.0</td>\n",
       "      <td>30</td>\n",
       "    </tr>\n",
       "    <tr>\n",
       "      <th>2</th>\n",
       "      <td>7521</td>\n",
       "      <td>WARD</td>\n",
       "      <td>SALESMAN</td>\n",
       "      <td>7698.0</td>\n",
       "      <td>1981-02-22 00:00:00</td>\n",
       "      <td>1250.0</td>\n",
       "      <td>500.0</td>\n",
       "      <td>30</td>\n",
       "    </tr>\n",
       "    <tr>\n",
       "      <th>3</th>\n",
       "      <td>7566</td>\n",
       "      <td>JONES</td>\n",
       "      <td>MANAGER</td>\n",
       "      <td>7839.0</td>\n",
       "      <td>1981-04-02 00:00:00</td>\n",
       "      <td>2975.0</td>\n",
       "      <td>NaN</td>\n",
       "      <td>20</td>\n",
       "    </tr>\n",
       "    <tr>\n",
       "      <th>4</th>\n",
       "      <td>7654</td>\n",
       "      <td>MARTIN</td>\n",
       "      <td>SALESMAN</td>\n",
       "      <td>7698.0</td>\n",
       "      <td>1981-09-28 00:00:00</td>\n",
       "      <td>1250.0</td>\n",
       "      <td>1400.0</td>\n",
       "      <td>30</td>\n",
       "    </tr>\n",
       "    <tr>\n",
       "      <th>5</th>\n",
       "      <td>7698</td>\n",
       "      <td>BLAKE</td>\n",
       "      <td>MANAGER</td>\n",
       "      <td>7839.0</td>\n",
       "      <td>1981-05-01 00:00:00</td>\n",
       "      <td>2850.0</td>\n",
       "      <td>NaN</td>\n",
       "      <td>30</td>\n",
       "    </tr>\n",
       "    <tr>\n",
       "      <th>6</th>\n",
       "      <td>7782</td>\n",
       "      <td>CLARK</td>\n",
       "      <td>MANAGER</td>\n",
       "      <td>7839.0</td>\n",
       "      <td>1981-06-09 00:00:00</td>\n",
       "      <td>2450.0</td>\n",
       "      <td>NaN</td>\n",
       "      <td>10</td>\n",
       "    </tr>\n",
       "    <tr>\n",
       "      <th>7</th>\n",
       "      <td>7788</td>\n",
       "      <td>SCOTT</td>\n",
       "      <td>ANALYST</td>\n",
       "      <td>7566.0</td>\n",
       "      <td>1982-12-09 00:00:00</td>\n",
       "      <td>3000.0</td>\n",
       "      <td>NaN</td>\n",
       "      <td>20</td>\n",
       "    </tr>\n",
       "    <tr>\n",
       "      <th>8</th>\n",
       "      <td>7839</td>\n",
       "      <td>KING</td>\n",
       "      <td>PRESIDENT</td>\n",
       "      <td>NaN</td>\n",
       "      <td>1981-11-17 00:00:00</td>\n",
       "      <td>5000.0</td>\n",
       "      <td>NaN</td>\n",
       "      <td>10</td>\n",
       "    </tr>\n",
       "    <tr>\n",
       "      <th>9</th>\n",
       "      <td>7844</td>\n",
       "      <td>TURNER</td>\n",
       "      <td>SALESMAN</td>\n",
       "      <td>7698.0</td>\n",
       "      <td>1981-09-08 00:00:00</td>\n",
       "      <td>1500.0</td>\n",
       "      <td>0.0</td>\n",
       "      <td>30</td>\n",
       "    </tr>\n",
       "    <tr>\n",
       "      <th>10</th>\n",
       "      <td>7876</td>\n",
       "      <td>ADAMS</td>\n",
       "      <td>CLERK</td>\n",
       "      <td>7788.0</td>\n",
       "      <td>1983-01-12 00:00:00</td>\n",
       "      <td>1100.0</td>\n",
       "      <td>NaN</td>\n",
       "      <td>20</td>\n",
       "    </tr>\n",
       "    <tr>\n",
       "      <th>11</th>\n",
       "      <td>7900</td>\n",
       "      <td>JAMES</td>\n",
       "      <td>CLERK</td>\n",
       "      <td>7698.0</td>\n",
       "      <td>1981-12-03 00:00:00</td>\n",
       "      <td>950.0</td>\n",
       "      <td>NaN</td>\n",
       "      <td>30</td>\n",
       "    </tr>\n",
       "    <tr>\n",
       "      <th>12</th>\n",
       "      <td>7902</td>\n",
       "      <td>FORD</td>\n",
       "      <td>ANALYST</td>\n",
       "      <td>7566.0</td>\n",
       "      <td>1981-12-03 00:00:00</td>\n",
       "      <td>3000.0</td>\n",
       "      <td>NaN</td>\n",
       "      <td>20</td>\n",
       "    </tr>\n",
       "    <tr>\n",
       "      <th>13</th>\n",
       "      <td>7934</td>\n",
       "      <td>MILLER</td>\n",
       "      <td>CLERK</td>\n",
       "      <td>7782.0</td>\n",
       "      <td>1982-01-23 00:00:00</td>\n",
       "      <td>1300.0</td>\n",
       "      <td>NaN</td>\n",
       "      <td>10</td>\n",
       "    </tr>\n",
       "    <tr>\n",
       "      <th>14</th>\n",
       "      <td>1001</td>\n",
       "      <td>홍</td>\n",
       "      <td>None</td>\n",
       "      <td>NaN</td>\n",
       "      <td>2021-06-10 22:18:13</td>\n",
       "      <td>3000.0</td>\n",
       "      <td>NaN</td>\n",
       "      <td>20</td>\n",
       "    </tr>\n",
       "  </tbody>\n",
       "</table>\n",
       "</div>"
      ],
      "text/plain": [
       "    EMPNO   ENAME        JOB     MGR            HIREDATE     SAL    COMM  \\\n",
       "0    7369   SMITH      CLERK  7902.0 1980-12-17 00:00:00   800.0     NaN   \n",
       "1    7499   ALLEN   SALESMAN  7698.0 1981-02-20 00:00:00  1600.0   300.0   \n",
       "2    7521    WARD   SALESMAN  7698.0 1981-02-22 00:00:00  1250.0   500.0   \n",
       "3    7566   JONES    MANAGER  7839.0 1981-04-02 00:00:00  2975.0     NaN   \n",
       "4    7654  MARTIN   SALESMAN  7698.0 1981-09-28 00:00:00  1250.0  1400.0   \n",
       "5    7698   BLAKE    MANAGER  7839.0 1981-05-01 00:00:00  2850.0     NaN   \n",
       "6    7782   CLARK    MANAGER  7839.0 1981-06-09 00:00:00  2450.0     NaN   \n",
       "7    7788   SCOTT    ANALYST  7566.0 1982-12-09 00:00:00  3000.0     NaN   \n",
       "8    7839    KING  PRESIDENT     NaN 1981-11-17 00:00:00  5000.0     NaN   \n",
       "9    7844  TURNER   SALESMAN  7698.0 1981-09-08 00:00:00  1500.0     0.0   \n",
       "10   7876   ADAMS      CLERK  7788.0 1983-01-12 00:00:00  1100.0     NaN   \n",
       "11   7900   JAMES      CLERK  7698.0 1981-12-03 00:00:00   950.0     NaN   \n",
       "12   7902    FORD    ANALYST  7566.0 1981-12-03 00:00:00  3000.0     NaN   \n",
       "13   7934  MILLER      CLERK  7782.0 1982-01-23 00:00:00  1300.0     NaN   \n",
       "14   1001       홍       None     NaN 2021-06-10 22:18:13  3000.0     NaN   \n",
       "\n",
       "    DEPTNO  \n",
       "0       20  \n",
       "1       30  \n",
       "2       30  \n",
       "3       20  \n",
       "4       30  \n",
       "5       30  \n",
       "6       10  \n",
       "7       20  \n",
       "8       10  \n",
       "9       30  \n",
       "10      20  \n",
       "11      30  \n",
       "12      20  \n",
       "13      10  \n",
       "14      20  "
      ]
     },
     "execution_count": 61,
     "metadata": {},
     "output_type": "execute_result"
    }
   ],
   "source": [
    "data_df.columns = [ row[0] for row in cursor.description] #열이름 변경\n",
    "data_df"
   ]
  },
  {
   "cell_type": "code",
   "execution_count": 62,
   "id": "01096edb",
   "metadata": {
    "ExecuteTime": {
     "end_time": "2021-07-28T04:15:21.434246Z",
     "start_time": "2021-07-28T04:15:21.409341Z"
    }
   },
   "outputs": [
    {
     "data": {
      "text/html": [
       "<div>\n",
       "<style scoped>\n",
       "    .dataframe tbody tr th:only-of-type {\n",
       "        vertical-align: middle;\n",
       "    }\n",
       "\n",
       "    .dataframe tbody tr th {\n",
       "        vertical-align: top;\n",
       "    }\n",
       "\n",
       "    .dataframe thead th {\n",
       "        text-align: right;\n",
       "    }\n",
       "</style>\n",
       "<table border=\"1\" class=\"dataframe\">\n",
       "  <thead>\n",
       "    <tr style=\"text-align: right;\">\n",
       "      <th></th>\n",
       "      <th>EMPNO</th>\n",
       "      <th>ENAME</th>\n",
       "      <th>JOB</th>\n",
       "      <th>MGR</th>\n",
       "      <th>HIREDATE</th>\n",
       "      <th>SAL</th>\n",
       "      <th>COMM</th>\n",
       "      <th>DEPTNO</th>\n",
       "    </tr>\n",
       "  </thead>\n",
       "  <tbody>\n",
       "    <tr>\n",
       "      <th>0</th>\n",
       "      <td>7369</td>\n",
       "      <td>SMITH</td>\n",
       "      <td>CLERK</td>\n",
       "      <td>7902.0</td>\n",
       "      <td>1980-12-17</td>\n",
       "      <td>800.0</td>\n",
       "      <td>NaN</td>\n",
       "      <td>20</td>\n",
       "    </tr>\n",
       "    <tr>\n",
       "      <th>1</th>\n",
       "      <td>7499</td>\n",
       "      <td>ALLEN</td>\n",
       "      <td>SALESMAN</td>\n",
       "      <td>7698.0</td>\n",
       "      <td>1981-02-20</td>\n",
       "      <td>1600.0</td>\n",
       "      <td>300.0</td>\n",
       "      <td>30</td>\n",
       "    </tr>\n",
       "    <tr>\n",
       "      <th>2</th>\n",
       "      <td>7521</td>\n",
       "      <td>WARD</td>\n",
       "      <td>SALESMAN</td>\n",
       "      <td>7698.0</td>\n",
       "      <td>1981-02-22</td>\n",
       "      <td>1250.0</td>\n",
       "      <td>500.0</td>\n",
       "      <td>30</td>\n",
       "    </tr>\n",
       "    <tr>\n",
       "      <th>3</th>\n",
       "      <td>7566</td>\n",
       "      <td>JONES</td>\n",
       "      <td>MANAGER</td>\n",
       "      <td>7839.0</td>\n",
       "      <td>1981-04-02</td>\n",
       "      <td>2975.0</td>\n",
       "      <td>NaN</td>\n",
       "      <td>20</td>\n",
       "    </tr>\n",
       "    <tr>\n",
       "      <th>4</th>\n",
       "      <td>7654</td>\n",
       "      <td>MARTIN</td>\n",
       "      <td>SALESMAN</td>\n",
       "      <td>7698.0</td>\n",
       "      <td>1981-09-28</td>\n",
       "      <td>1250.0</td>\n",
       "      <td>1400.0</td>\n",
       "      <td>30</td>\n",
       "    </tr>\n",
       "  </tbody>\n",
       "</table>\n",
       "</div>"
      ],
      "text/plain": [
       "   EMPNO   ENAME       JOB     MGR   HIREDATE     SAL    COMM  DEPTNO\n",
       "0   7369   SMITH     CLERK  7902.0 1980-12-17   800.0     NaN      20\n",
       "1   7499   ALLEN  SALESMAN  7698.0 1981-02-20  1600.0   300.0      30\n",
       "2   7521    WARD  SALESMAN  7698.0 1981-02-22  1250.0   500.0      30\n",
       "3   7566   JONES   MANAGER  7839.0 1981-04-02  2975.0     NaN      20\n",
       "4   7654  MARTIN  SALESMAN  7698.0 1981-09-28  1250.0  1400.0      30"
      ]
     },
     "execution_count": 62,
     "metadata": {},
     "output_type": "execute_result"
    }
   ],
   "source": [
    "data_df.head()"
   ]
  },
  {
   "cell_type": "code",
   "execution_count": 63,
   "id": "14d4569c",
   "metadata": {
    "ExecuteTime": {
     "end_time": "2021-07-28T04:15:46.234597Z",
     "start_time": "2021-07-28T04:15:46.225620Z"
    }
   },
   "outputs": [],
   "source": [
    "cursor.close()\n",
    "conn.close()"
   ]
  },
  {
   "cell_type": "markdown",
   "id": "1c8c2d95",
   "metadata": {},
   "source": [
    "# 3절 연습문제"
   ]
  },
  {
   "cell_type": "code",
   "execution_count": 64,
   "id": "ebc9bd3e",
   "metadata": {
    "ExecuteTime": {
     "end_time": "2021-07-28T05:55:26.344439Z",
     "start_time": "2021-07-28T05:55:26.335488Z"
    }
   },
   "outputs": [],
   "source": [
    "# 클래스 생성은 선택사항"
   ]
  },
  {
   "cell_type": "code",
   "execution_count": 65,
   "id": "86447777",
   "metadata": {
    "ExecuteTime": {
     "end_time": "2021-07-28T05:56:25.096874Z",
     "start_time": "2021-07-28T05:56:25.088896Z"
    }
   },
   "outputs": [],
   "source": [
    "# 1. 입력\n",
    "def insert_member():\n",
    "    # 사용자로 부터 이름, 전화번호, 이메일, 나이, 등급(1-5), 기타특징 입력받아 DB에 추가한다.\n",
    "    pass"
   ]
  },
  {
   "cell_type": "code",
   "execution_count": 66,
   "id": "89969816",
   "metadata": {
    "ExecuteTime": {
     "end_time": "2021-07-28T05:56:51.175845Z",
     "start_time": "2021-07-28T05:56:51.164874Z"
    }
   },
   "outputs": [],
   "source": [
    "#위의 메소드 test"
   ]
  },
  {
   "cell_type": "code",
   "execution_count": 67,
   "id": "7a6385e2",
   "metadata": {
    "ExecuteTime": {
     "end_time": "2021-07-28T05:58:21.702525Z",
     "start_time": "2021-07-28T05:58:21.695544Z"
    }
   },
   "outputs": [],
   "source": [
    "# 2. 전체 출력\n",
    "def select_all():\n",
    "    #\"SELECT * FROM MEMBER\"의 결과를 출력(DataFrame형태 / 리스트형태)\n",
    "    pass\n",
    "    "
   ]
  },
  {
   "cell_type": "code",
   "execution_count": 68,
   "id": "c01b2e2f",
   "metadata": {
    "ExecuteTime": {
     "end_time": "2021-07-28T05:58:30.075123Z",
     "start_time": "2021-07-28T05:58:30.072131Z"
    }
   },
   "outputs": [],
   "source": [
    "# 위의 메소드 test"
   ]
  },
  {
   "cell_type": "code",
   "execution_count": 69,
   "id": "8d993e39",
   "metadata": {
    "ExecuteTime": {
     "end_time": "2021-07-28T05:59:25.874864Z",
     "start_time": "2021-07-28T05:59:25.861887Z"
    }
   },
   "outputs": [],
   "source": [
    "# 3. 이름 검색\n",
    "def select_name():\n",
    "    #사용자로부터 검색하고자 하는 이름을 받아 결과 출력(DataFrame형태 / 리스트형태)\n",
    "    pass"
   ]
  },
  {
   "cell_type": "code",
   "execution_count": 70,
   "id": "f33764b8",
   "metadata": {
    "ExecuteTime": {
     "end_time": "2021-07-28T05:59:47.768233Z",
     "start_time": "2021-07-28T05:59:47.765284Z"
    }
   },
   "outputs": [],
   "source": [
    "# 위의 메소드 test"
   ]
  },
  {
   "cell_type": "code",
   "execution_count": 71,
   "id": "17369bf2",
   "metadata": {
    "ExecuteTime": {
     "end_time": "2021-07-28T06:01:12.454632Z",
     "start_time": "2021-07-28T06:01:12.445656Z"
    }
   },
   "outputs": [],
   "source": [
    "#4. 메일 삭제\n",
    "def delete_email():\n",
    "    # 사용자로부터 삭제할 메일을 입력받아 해당 메일이 있는지 확인하고\n",
    "    # 해당 이메일이 없으면 없다 출력. 있으면 삭제하고 삭제했다 출력\n",
    "    pass"
   ]
  },
  {
   "cell_type": "code",
   "execution_count": 72,
   "id": "00ff83fd",
   "metadata": {
    "ExecuteTime": {
     "end_time": "2021-07-28T06:01:24.896711Z",
     "start_time": "2021-07-28T06:01:24.880819Z"
    }
   },
   "outputs": [],
   "source": [
    "#위의 메소드 test"
   ]
  },
  {
   "cell_type": "code",
   "execution_count": null,
   "id": "ad4eed4b",
   "metadata": {},
   "outputs": [],
   "source": [
    "#지금 현재 DB 내용\n",
    "cursor.execute(\"select * from member\")\n",
    "cursor.fetchall()"
   ]
  },
  {
   "cell_type": "code",
   "execution_count": 73,
   "id": "7276a5c9",
   "metadata": {
    "ExecuteTime": {
     "end_time": "2021-07-28T06:04:05.603055Z",
     "start_time": "2021-07-28T06:04:05.598069Z"
    }
   },
   "outputs": [],
   "source": [
    "# 5. CSV 내보내기\n",
    "def save_csv():\n",
    "    # 'SELECT * FROM MEMBER의 결과를 CSV로 내보내기(HEADER 포함)'\n",
    "    pass"
   ]
  },
  {
   "cell_type": "code",
   "execution_count": 74,
   "id": "a1827bf6",
   "metadata": {
    "ExecuteTime": {
     "end_time": "2021-07-28T06:04:12.627326Z",
     "start_time": "2021-07-28T06:04:12.622371Z"
    }
   },
   "outputs": [],
   "source": [
    "#위의 메소드 test"
   ]
  },
  {
   "cell_type": "code",
   "execution_count": null,
   "id": "acd14276",
   "metadata": {},
   "outputs": [],
   "source": [
    "#0. 종료\n",
    "def close_sql():\n",
    "    global conn\n",
    "    conn.close()\n",
    "    print(\"종료합니다.\")"
   ]
  },
  {
   "cell_type": "code",
   "execution_count": null,
   "id": "33ff6cdd",
   "metadata": {},
   "outputs": [],
   "source": []
  },
  {
   "cell_type": "code",
   "execution_count": null,
   "id": "eb8e3d88",
   "metadata": {},
   "outputs": [],
   "source": []
  },
  {
   "cell_type": "code",
   "execution_count": null,
   "id": "8d9058e7",
   "metadata": {},
   "outputs": [],
   "source": []
  },
  {
   "cell_type": "code",
   "execution_count": null,
   "id": "3c8fc968",
   "metadata": {},
   "outputs": [],
   "source": []
  },
  {
   "cell_type": "code",
   "execution_count": null,
   "id": "2b49785b",
   "metadata": {},
   "outputs": [],
   "source": []
  },
  {
   "cell_type": "code",
   "execution_count": null,
   "id": "6211f10b",
   "metadata": {},
   "outputs": [],
   "source": []
  },
  {
   "cell_type": "code",
   "execution_count": null,
   "id": "a5472104",
   "metadata": {},
   "outputs": [],
   "source": []
  }
 ],
 "metadata": {
  "kernelspec": {
   "display_name": "Python 3",
   "language": "python",
   "name": "python3"
  },
  "language_info": {
   "codemirror_mode": {
    "name": "ipython",
    "version": 3
   },
   "file_extension": ".py",
   "mimetype": "text/x-python",
   "name": "python",
   "nbconvert_exporter": "python",
   "pygments_lexer": "ipython3",
   "version": "3.8.8"
  },
  "toc": {
   "base_numbering": 1,
   "nav_menu": {},
   "number_sections": false,
   "sideBar": true,
   "skip_h1_title": false,
   "title_cell": "Table of Contents",
   "title_sidebar": "Contents",
   "toc_cell": false,
   "toc_position": {},
   "toc_section_display": true,
   "toc_window_display": false
  },
  "varInspector": {
   "cols": {
    "lenName": 16,
    "lenType": 16,
    "lenVar": 40
   },
   "kernels_config": {
    "python": {
     "delete_cmd_postfix": "",
     "delete_cmd_prefix": "del ",
     "library": "var_list.py",
     "varRefreshCmd": "print(var_dic_list())"
    },
    "r": {
     "delete_cmd_postfix": ") ",
     "delete_cmd_prefix": "rm(",
     "library": "var_list.r",
     "varRefreshCmd": "cat(var_dic_list()) "
    }
   },
   "types_to_exclude": [
    "module",
    "function",
    "builtin_function_or_method",
    "instance",
    "_Feature"
   ],
   "window_display": false
  }
 },
 "nbformat": 4,
 "nbformat_minor": 5
}
