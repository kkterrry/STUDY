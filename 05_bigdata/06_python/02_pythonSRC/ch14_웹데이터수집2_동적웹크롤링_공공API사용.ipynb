{
 "cells": [
  {
   "cell_type": "markdown",
   "id": "8ca42ef5",
   "metadata": {
    "ExecuteTime": {
     "end_time": "2021-08-11T05:32:06.536356Z",
     "start_time": "2021-08-11T05:32:06.524387Z"
    }
   },
   "source": [
    "<b><font size=\"6\" color=\"red\">ch14_웹데이터수집2_동적웹크롤링_공공API사용 </font></b>"
   ]
  },
  {
   "cell_type": "markdown",
   "id": "689c72d7",
   "metadata": {},
   "source": [
    "# 3절. Selenium을 이용한 웹 데이터 수집\n",
    "- https://selenium-python.readthedocs.io/index.html\n",
    "`pip install selenium`"
   ]
  },
  {
   "cell_type": "code",
   "execution_count": 3,
   "id": "1a0d1bb8",
   "metadata": {
    "ExecuteTime": {
     "end_time": "2021-08-11T05:49:21.283362Z",
     "start_time": "2021-08-11T05:49:19.854035Z"
    }
   },
   "outputs": [],
   "source": [
    "from selenium import webdriver\n",
    "#dv = webdriver.Chrome('경로')\n",
    "dv = webdriver.Chrome() #소스폴더에 있는 경우"
   ]
  },
  {
   "cell_type": "code",
   "execution_count": 4,
   "id": "610c7498",
   "metadata": {
    "ExecuteTime": {
     "end_time": "2021-08-11T05:49:56.145267Z",
     "start_time": "2021-08-11T05:49:54.217006Z"
    }
   },
   "outputs": [],
   "source": [
    "dv.get('http://python.org')"
   ]
  },
  {
   "cell_type": "code",
   "execution_count": 5,
   "id": "25482b73",
   "metadata": {
    "ExecuteTime": {
     "end_time": "2021-08-11T05:58:07.834350Z",
     "start_time": "2021-08-11T05:58:07.738245Z"
    }
   },
   "outputs": [],
   "source": [
    "elem = dv.find_element_by_name('q')\n",
    "elem.clear()\n",
    "elem.send_keys('pycon')"
   ]
  },
  {
   "cell_type": "code",
   "execution_count": 6,
   "id": "313dc26d",
   "metadata": {
    "ExecuteTime": {
     "end_time": "2021-08-11T05:59:32.041626Z",
     "start_time": "2021-08-11T05:59:31.144177Z"
    }
   },
   "outputs": [],
   "source": [
    "from selenium.webdriver.common.keys import Keys\n",
    "elem.send_keys(Keys.RETURN) #Enter키 효과"
   ]
  },
  {
   "cell_type": "code",
   "execution_count": 8,
   "id": "7329985f",
   "metadata": {
    "ExecuteTime": {
     "end_time": "2021-08-11T06:06:07.016300Z",
     "start_time": "2021-08-11T06:06:06.691897Z"
    }
   },
   "outputs": [
    {
     "name": "stdout",
     "output_type": "stream",
     "text": [
      "PSF PyCon Trademark Usage Policy - https://www.python.org/psf/trademarks/pycon\n",
      "Conferences and Workshops - https://www.python.org/community/workshops\n",
      "PyCon Italia 2016 (PyCon Sette) - https://www.python.org/events/python-events/378/\n",
      "2008-04-14 PSF Board Meeting Minutes - https://www.python.org/psf/records/board/minutes/2008-04-14\n",
      "2012-07-16 PSF Board Meeting Minutes - https://www.python.org/psf/records/board/minutes/2012-07-16\n",
      "PyCon Home at python.org - https://www.python.org/community/pycon\n",
      "2013-02-06 PSF Board Meeting Minutes - https://www.python.org/psf/records/board/minutes/2013-02-06\n",
      "PyCon Australia 2013 - https://www.python.org/events/python-events/57/\n",
      "PyCon AU 2019 - https://www.python.org/events/python-events/776/\n",
      "PyCon Australia 2014 - https://www.python.org/events/python-events/10/\n",
      "PyCon Ireland 2012 - https://www.python.org/events/python-events/76/\n",
      "PyCon Ireland 2016 - https://www.python.org/events/python-events/429/\n",
      "PyCon AU 2018 - https://www.python.org/events/python-events/696/\n",
      "PyCon Ireland 2015 - https://www.python.org/events/python-events/333/\n",
      "PyCon AU 2015 - https://www.python.org/events/python-events/273/\n",
      "PyCon PL 2014 - https://www.python.org/events/python-events/191/\n",
      "PyCon MY 2015 - https://www.python.org/events/python-events/313/\n",
      "PyCon Australia 2016 - https://www.python.org/events/python-events/357/\n",
      "PyCon MY 2014 - https://www.python.org/events/python-events/151/\n",
      "PyCon Ireland 2014 - https://www.python.org/events/python-events/149/\n"
     ]
    }
   ],
   "source": [
    "result_list = dv.find_elements_by_css_selector('li > h3 > a')\n",
    "#[r.text for r in result_list]\n",
    "for result in result_list:\n",
    "    print(\"%s - %s\" % (result.text, result.get_attribute('href')))"
   ]
  },
  {
   "cell_type": "code",
   "execution_count": 12,
   "id": "81851914",
   "metadata": {
    "ExecuteTime": {
     "end_time": "2021-08-11T06:10:54.005987Z",
     "start_time": "2021-08-11T06:10:53.948142Z"
    }
   },
   "outputs": [
    {
     "name": "stdout",
     "output_type": "stream",
     "text": [
      "PSF PyCon Trademark Usage Policy - http://python.org/psf/trademarks/pycon\n",
      "Conferences and Workshops - http://python.org/community/workshops\n",
      "PyCon Italia 2016 (PyCon Sette) - http://python.org/events/python-events/378/\n",
      "2008-04-14 PSF Board Meeting Minutes - http://python.org/psf/records/board/minutes/2008-04-14\n",
      "2012-07-16 PSF Board Meeting Minutes - http://python.org/psf/records/board/minutes/2012-07-16\n",
      "PyCon Home at python.org - http://python.org/community/pycon\n",
      "2013-02-06 PSF Board Meeting Minutes - http://python.org/psf/records/board/minutes/2013-02-06\n",
      "PyCon Australia 2013 - http://python.org/events/python-events/57/\n",
      "PyCon AU 2019 - http://python.org/events/python-events/776/\n",
      "PyCon Australia 2014 - http://python.org/events/python-events/10/\n",
      "PyCon Ireland 2012 - http://python.org/events/python-events/76/\n",
      "PyCon Ireland 2016 - http://python.org/events/python-events/429/\n",
      "PyCon AU 2018 - http://python.org/events/python-events/696/\n",
      "PyCon Ireland 2015 - http://python.org/events/python-events/333/\n",
      "PyCon AU 2015 - http://python.org/events/python-events/273/\n",
      "PyCon PL 2014 - http://python.org/events/python-events/191/\n",
      "PyCon MY 2015 - http://python.org/events/python-events/313/\n",
      "PyCon Australia 2016 - http://python.org/events/python-events/357/\n",
      "PyCon MY 2014 - http://python.org/events/python-events/151/\n",
      "PyCon Ireland 2014 - http://python.org/events/python-events/149/\n"
     ]
    }
   ],
   "source": [
    "from bs4 import BeautifulSoup\n",
    "soup = BeautifulSoup(dv.page_source, \"html.parser\")\n",
    "result_list = soup.select('li > h3 > a')\n",
    "for result in result_list:\n",
    "    print(\"%s - %s\" % (result.text, 'http://python.org'+result.attrs['href']))"
   ]
  },
  {
   "cell_type": "code",
   "execution_count": 13,
   "id": "f30c5f62",
   "metadata": {
    "ExecuteTime": {
     "end_time": "2021-08-11T06:11:53.411228Z",
     "start_time": "2021-08-11T06:11:53.012131Z"
    }
   },
   "outputs": [],
   "source": [
    "# 브라우저 종류\n",
    "dv.close()"
   ]
  },
  {
   "cell_type": "markdown",
   "id": "9ad4811d",
   "metadata": {},
   "source": [
    "### 맞춤법 검사기(네이버 맞춤법 검사기 이용)"
   ]
  },
  {
   "cell_type": "code",
   "execution_count": 14,
   "id": "1934fc9a",
   "metadata": {
    "ExecuteTime": {
     "end_time": "2021-08-11T06:37:21.790718Z",
     "start_time": "2021-08-11T06:37:19.168867Z"
    }
   },
   "outputs": [],
   "source": [
    "from selenium import webdriver\n",
    "from selenium.webdriver.common.keys import Keys\n",
    "from bs4 import BeautifulSoup\n",
    "import time\n",
    "\n",
    "driver = webdriver.Chrome()\n",
    "driver.get('http://www.naver.com')\n",
    "elem = driver.find_element_by_name('query')\n",
    "elem.send_keys('맞춤법 검사기')\n",
    "elem.send_keys(Keys.RETURN)"
   ]
  },
  {
   "cell_type": "code",
   "execution_count": 15,
   "id": "39a465c8",
   "metadata": {
    "ExecuteTime": {
     "end_time": "2021-08-11T06:42:52.290062Z",
     "start_time": "2021-08-11T06:42:52.200331Z"
    }
   },
   "outputs": [],
   "source": [
    "textarea = driver.find_element_by_class_name('txt_gray')\n",
    "textarea.send_keys('한녕하세요. 반갑숩니다')"
   ]
  },
  {
   "cell_type": "code",
   "execution_count": 17,
   "id": "dd35033d",
   "metadata": {
    "ExecuteTime": {
     "end_time": "2021-08-11T06:45:10.492285Z",
     "start_time": "2021-08-11T06:45:10.423302Z"
    }
   },
   "outputs": [],
   "source": [
    "button = driver.find_element_by_class_name('btn_check')\n",
    "button.click()"
   ]
  },
  {
   "cell_type": "code",
   "execution_count": 20,
   "id": "dd7fed6b",
   "metadata": {
    "ExecuteTime": {
     "end_time": "2021-08-11T06:48:47.908700Z",
     "start_time": "2021-08-11T06:48:47.782369Z"
    }
   },
   "outputs": [
    {
     "data": {
      "text/plain": [
       "'안녕하세요. 반갑습니다'"
      ]
     },
     "execution_count": 20,
     "metadata": {},
     "output_type": "execute_result"
    }
   ],
   "source": [
    "soup = BeautifulSoup(driver.page_source,\"html.parser\")\n",
    "result = soup.select_one('p._result_text.stand_txt').text\n",
    "result"
   ]
  },
  {
   "cell_type": "code",
   "execution_count": 21,
   "id": "7c8beb4c",
   "metadata": {
    "ExecuteTime": {
     "end_time": "2021-08-11T06:54:43.901095Z",
     "start_time": "2021-08-11T06:54:43.413025Z"
    }
   },
   "outputs": [],
   "source": [
    "driver.close()"
   ]
  },
  {
   "cell_type": "code",
   "execution_count": 25,
   "id": "84bc3f55",
   "metadata": {
    "ExecuteTime": {
     "end_time": "2021-08-11T07:06:30.664331Z",
     "start_time": "2021-08-11T07:06:24.905314Z"
    }
   },
   "outputs": [
    {
     "name": "stdout",
     "output_type": "stream",
     "text": [
      "안녕하세요. 반갑습니다\n"
     ]
    }
   ],
   "source": [
    "from selenium import webdriver\n",
    "from selenium.webdriver.common.keys import Keys\n",
    "from bs4 import BeautifulSoup\n",
    "import time\n",
    "\n",
    "driver = webdriver.Chrome()\n",
    "driver.get('http://www.naver.com')\n",
    "elem = driver.find_element_by_name('query')\n",
    "elem.send_keys('맞춤법 검사기')\n",
    "elem.send_keys(Keys.RETURN)\n",
    "\n",
    "time.sleep(2)\n",
    "\n",
    "textarea = driver.find_element_by_class_name('txt_gray')\n",
    "\n",
    "\n",
    "textarea.send_keys('한녕하세요. 반갑숩니다')\n",
    "\n",
    "button = driver.find_element_by_class_name('btn_check')\n",
    "button.click()\n",
    "\n",
    "time.sleep(1)\n",
    "\n",
    "soup = BeautifulSoup(driver.page_source,\"html.parser\")\n",
    "result = soup.select_one('p._result_text.stand_txt').text\n",
    "print(result)\n",
    "\n"
   ]
  },
  {
   "cell_type": "code",
   "execution_count": null,
   "id": "64031fb8",
   "metadata": {},
   "outputs": [],
   "source": [
    "driver.close()"
   ]
  },
  {
   "cell_type": "markdown",
   "id": "6bc6cca4",
   "metadata": {},
   "source": [
    "### 맞춤법 검사가 안된 text파일을 맞춤법 검사가 완료된 text파일로 output"
   ]
  },
  {
   "cell_type": "code",
   "execution_count": 36,
   "id": "51f7e540",
   "metadata": {
    "ExecuteTime": {
     "end_time": "2021-08-11T07:40:59.909815Z",
     "start_time": "2021-08-11T07:40:42.694243Z"
    }
   },
   "outputs": [],
   "source": [
    "with open('data/ch14.txt','r',encoding='utf-8') as f:\n",
    "    text = f.read()\n",
    "ready_list = []\n",
    "while len(text) > 500:\n",
    "    temp_str = text[:500]\n",
    "    last_space_idx = temp_str.rfind(' ')\n",
    "    ready_list.append(text[:last_space_idx])\n",
    "    text = text[last_space_idx:] #ready_list에 append된 앞부분 날림\n",
    "ready_list.append(text)\n",
    "#[len(ready) for ready in ready_list]\n",
    "\n",
    "driver = webdriver.Chrome()\n",
    "driver.get('http://www.naver.com')\n",
    "elem = driver.find_element_by_name('query')\n",
    "elem.send_keys('맞춤법 검사기')\n",
    "elem.send_keys(Keys.RETURN)\n",
    "\n",
    "time.sleep(2)\n",
    "\n",
    "textarea = driver.find_element_by_class_name('txt_gray')\n",
    "results = \"\"\n",
    "\n",
    "for ready in ready_list:\n",
    "    textarea.send_keys(Keys.CONTROL, \"a\")\n",
    "    textarea.send_keys(ready)\n",
    "    button = driver.find_element_by_class_name('btn_check')\n",
    "    button.click()\n",
    "\n",
    "    time.sleep(1)\n",
    "\n",
    "    soup = BeautifulSoup(driver.page_source,\"html.parser\")\n",
    "    result = soup.select_one('p._result_text.stand_txt').text\n",
    "    #results +=result.replace('.','.\\n')\n",
    "    results +=result\n",
    "    \n",
    "#print(results)\n",
    "with open('data/ch14_checked_2.txt','w',encoding='utf-8') as f:\n",
    "    f.write(results)\n",
    "driver.close()"
   ]
  },
  {
   "cell_type": "code",
   "execution_count": null,
   "id": "f3096113",
   "metadata": {},
   "outputs": [],
   "source": []
  },
  {
   "cell_type": "code",
   "execution_count": null,
   "id": "5c886961",
   "metadata": {},
   "outputs": [],
   "source": []
  },
  {
   "cell_type": "code",
   "execution_count": null,
   "id": "9e0a2901",
   "metadata": {},
   "outputs": [],
   "source": []
  },
  {
   "cell_type": "code",
   "execution_count": null,
   "id": "3edcae11",
   "metadata": {},
   "outputs": [],
   "source": []
  }
 ],
 "metadata": {
  "kernelspec": {
   "display_name": "Python 3",
   "language": "python",
   "name": "python3"
  },
  "language_info": {
   "codemirror_mode": {
    "name": "ipython",
    "version": 3
   },
   "file_extension": ".py",
   "mimetype": "text/x-python",
   "name": "python",
   "nbconvert_exporter": "python",
   "pygments_lexer": "ipython3",
   "version": "3.8.8"
  },
  "toc": {
   "base_numbering": 1,
   "nav_menu": {},
   "number_sections": false,
   "sideBar": true,
   "skip_h1_title": false,
   "title_cell": "Table of Contents",
   "title_sidebar": "Contents",
   "toc_cell": false,
   "toc_position": {
    "height": "calc(100% - 180px)",
    "left": "10px",
    "top": "150px",
    "width": "384px"
   },
   "toc_section_display": true,
   "toc_window_display": true
  },
  "varInspector": {
   "cols": {
    "lenName": 16,
    "lenType": 16,
    "lenVar": 40
   },
   "kernels_config": {
    "python": {
     "delete_cmd_postfix": "",
     "delete_cmd_prefix": "del ",
     "library": "var_list.py",
     "varRefreshCmd": "print(var_dic_list())"
    },
    "r": {
     "delete_cmd_postfix": ") ",
     "delete_cmd_prefix": "rm(",
     "library": "var_list.r",
     "varRefreshCmd": "cat(var_dic_list()) "
    }
   },
   "types_to_exclude": [
    "module",
    "function",
    "builtin_function_or_method",
    "instance",
    "_Feature"
   ],
   "window_display": false
  }
 },
 "nbformat": 4,
 "nbformat_minor": 5
}
