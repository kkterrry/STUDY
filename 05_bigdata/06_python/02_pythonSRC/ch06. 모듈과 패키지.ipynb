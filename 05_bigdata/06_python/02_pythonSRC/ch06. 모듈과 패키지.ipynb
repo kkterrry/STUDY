{
 "cells": [
  {
   "cell_type": "markdown",
   "id": "8afde019",
   "metadata": {},
   "source": [
    "<b><font size=\"6\" color=\"red\">ch06. 모듈과 패키지</font></b>"
   ]
  },
  {
   "cell_type": "markdown",
   "id": "df871e5b",
   "metadata": {},
   "source": [
    "# 1절. 모듈 사용하기\n",
    "- 파이썬 표준 모듈은 함수, 변수, 클래스 등을 담고 있는 파일(*.py)\n",
    "- 파이썬 표준 모듈은 200여개 인터프리터와 함께 install  된다"
   ]
  },
  {
   "cell_type": "code",
   "execution_count": 1,
   "id": "0909e36a",
   "metadata": {
    "ExecuteTime": {
     "end_time": "2021-07-23T01:54:53.804832Z",
     "start_time": "2021-07-23T01:54:53.790459Z"
    }
   },
   "outputs": [
    {
     "data": {
      "text/plain": [
       "'Fri Jul 23 10:54:53 2021'"
      ]
     },
     "execution_count": 1,
     "metadata": {},
     "output_type": "execute_result"
    }
   ],
   "source": [
    "# 1. import 모듈명 : 모듈안의 함수들은 모듈명.함수() 사용\n",
    "import time # 타임 모듈안의 함수, 변수, 클래스가 메모리에 로드\n",
    "time.ctime()"
   ]
  },
  {
   "cell_type": "code",
   "execution_count": 2,
   "id": "2fc917bf",
   "metadata": {
    "ExecuteTime": {
     "end_time": "2021-07-23T01:55:34.045714Z",
     "start_time": "2021-07-23T01:55:34.038763Z"
    }
   },
   "outputs": [
    {
     "data": {
      "text/plain": [
       "1627005334.0387635"
      ]
     },
     "execution_count": 2,
     "metadata": {},
     "output_type": "execute_result"
    }
   ],
   "source": [
    "time.time() # 1970년 1월 1일 이후 밀리세컨"
   ]
  },
  {
   "cell_type": "code",
   "execution_count": 3,
   "id": "7c6e3703",
   "metadata": {
    "ExecuteTime": {
     "end_time": "2021-07-23T01:56:57.336632Z",
     "start_time": "2021-07-23T01:56:57.330679Z"
    }
   },
   "outputs": [],
   "source": [
    "del time # time 모듈을 메모리에서 unload"
   ]
  },
  {
   "cell_type": "code",
   "execution_count": 5,
   "id": "09b3cbcd",
   "metadata": {
    "ExecuteTime": {
     "end_time": "2021-07-23T01:58:30.215116Z",
     "start_time": "2021-07-23T01:58:30.201120Z"
    }
   },
   "outputs": [
    {
     "data": {
      "text/plain": [
       "'Fri Jul 23 10:58:30 2021'"
      ]
     },
     "execution_count": 5,
     "metadata": {},
     "output_type": "execute_result"
    }
   ],
   "source": [
    "# 2. from 모듈명 import 함수명: A모듈안의 B함수를 B()로 사용\n",
    "#    from 패키지명 import 모듈명: 패키지는 폴더, 모듈은 py 파일\n",
    "#    from 패키지명.모듈명 import 함수명\n",
    "\n",
    "from time import ctime\n",
    "ctime()"
   ]
  },
  {
   "cell_type": "code",
   "execution_count": 6,
   "id": "bd8ddbc6",
   "metadata": {
    "ExecuteTime": {
     "end_time": "2021-07-23T02:01:41.977124Z",
     "start_time": "2021-07-23T02:01:41.967151Z"
    }
   },
   "outputs": [],
   "source": [
    "del ctime #메모리에 있는 ctime 함수를 unload"
   ]
  },
  {
   "cell_type": "code",
   "execution_count": 7,
   "id": "f1a40c2a",
   "metadata": {
    "ExecuteTime": {
     "end_time": "2021-07-23T02:03:44.522401Z",
     "start_time": "2021-07-23T02:03:44.512452Z"
    }
   },
   "outputs": [
    {
     "data": {
      "text/plain": [
       "'Fri Jul 23 11:03:44 2021'"
      ]
     },
     "execution_count": 7,
     "metadata": {},
     "output_type": "execute_result"
    }
   ],
   "source": [
    "# 3.import 모듈명 as 별칭 : 모듈명을 메모리에서 로드 별칭으로 사용\n",
    "import time as t\n",
    "t.ctime()"
   ]
  },
  {
   "cell_type": "code",
   "execution_count": 8,
   "id": "f7041529",
   "metadata": {
    "ExecuteTime": {
     "end_time": "2021-07-23T02:03:58.786604Z",
     "start_time": "2021-07-23T02:03:58.776645Z"
    }
   },
   "outputs": [
    {
     "data": {
      "text/plain": [
       "1627005838.7766454"
      ]
     },
     "execution_count": 8,
     "metadata": {},
     "output_type": "execute_result"
    }
   ],
   "source": [
    "t.time()"
   ]
  },
  {
   "cell_type": "code",
   "execution_count": 9,
   "id": "e6dc4b96",
   "metadata": {
    "ExecuteTime": {
     "end_time": "2021-07-23T02:06:00.647114Z",
     "start_time": "2021-07-23T02:06:00.634258Z"
    }
   },
   "outputs": [],
   "source": [
    "del t"
   ]
  },
  {
   "cell_type": "code",
   "execution_count": 10,
   "id": "e8e0158a",
   "metadata": {
    "ExecuteTime": {
     "end_time": "2021-07-23T02:06:17.434269Z",
     "start_time": "2021-07-23T02:06:17.423299Z"
    }
   },
   "outputs": [
    {
     "data": {
      "text/plain": [
       "'Fri Jul 23 11:06:17 2021'"
      ]
     },
     "execution_count": 10,
     "metadata": {},
     "output_type": "execute_result"
    }
   ],
   "source": [
    "# 4. from 모듈명 import 함수명 as 별칭\n",
    "#    from 패키지명 import 모듈명 as 별칭\n",
    "#    from 패키지명.모듈명 import 함수명 as 별칭\n",
    "from time import ctime as ct\n",
    "ct()"
   ]
  },
  {
   "cell_type": "code",
   "execution_count": 11,
   "id": "b51c91bd",
   "metadata": {
    "ExecuteTime": {
     "end_time": "2021-07-23T02:06:43.684851Z",
     "start_time": "2021-07-23T02:06:43.667861Z"
    }
   },
   "outputs": [],
   "source": [
    "del ct"
   ]
  },
  {
   "cell_type": "code",
   "execution_count": 12,
   "id": "aa02f3a1",
   "metadata": {
    "ExecuteTime": {
     "end_time": "2021-07-23T02:07:10.910248Z",
     "start_time": "2021-07-23T02:07:10.893289Z"
    }
   },
   "outputs": [],
   "source": [
    "import time"
   ]
  },
  {
   "cell_type": "code",
   "execution_count": 13,
   "id": "c35d1be1",
   "metadata": {
    "ExecuteTime": {
     "end_time": "2021-07-23T02:07:30.371591Z",
     "start_time": "2021-07-23T02:07:30.360621Z"
    }
   },
   "outputs": [
    {
     "data": {
      "text/plain": [
       "['_STRUCT_TM_ITEMS',\n",
       " '__doc__',\n",
       " '__loader__',\n",
       " '__name__',\n",
       " '__package__',\n",
       " '__spec__',\n",
       " 'altzone',\n",
       " 'asctime',\n",
       " 'ctime',\n",
       " 'daylight',\n",
       " 'get_clock_info',\n",
       " 'gmtime',\n",
       " 'localtime',\n",
       " 'mktime',\n",
       " 'monotonic',\n",
       " 'monotonic_ns',\n",
       " 'perf_counter',\n",
       " 'perf_counter_ns',\n",
       " 'process_time',\n",
       " 'process_time_ns',\n",
       " 'sleep',\n",
       " 'strftime',\n",
       " 'strptime',\n",
       " 'struct_time',\n",
       " 'thread_time',\n",
       " 'thread_time_ns',\n",
       " 'time',\n",
       " 'time_ns',\n",
       " 'timezone',\n",
       " 'tzname']"
      ]
     },
     "execution_count": 13,
     "metadata": {},
     "output_type": "execute_result"
    }
   ],
   "source": [
    "dir(time) # time 내 변수, 함수, 클래스 등을 list로 출력"
   ]
  },
  {
   "cell_type": "code",
   "execution_count": 14,
   "id": "c34ca8eb",
   "metadata": {
    "ExecuteTime": {
     "end_time": "2021-07-23T02:08:41.687960Z",
     "start_time": "2021-07-23T02:08:41.678634Z"
    }
   },
   "outputs": [],
   "source": [
    "import numpy as np"
   ]
  },
  {
   "cell_type": "code",
   "execution_count": 15,
   "id": "024d2205",
   "metadata": {
    "ExecuteTime": {
     "end_time": "2021-07-23T02:08:45.719334Z",
     "start_time": "2021-07-23T02:08:45.695717Z"
    }
   },
   "outputs": [
    {
     "data": {
      "text/plain": [
       "['ALLOW_THREADS',\n",
       " 'AxisError',\n",
       " 'BUFSIZE',\n",
       " 'Bytes0',\n",
       " 'CLIP',\n",
       " 'ComplexWarning',\n",
       " 'DataSource',\n",
       " 'Datetime64',\n",
       " 'ERR_CALL',\n",
       " 'ERR_DEFAULT',\n",
       " 'ERR_IGNORE',\n",
       " 'ERR_LOG',\n",
       " 'ERR_PRINT',\n",
       " 'ERR_RAISE',\n",
       " 'ERR_WARN',\n",
       " 'FLOATING_POINT_SUPPORT',\n",
       " 'FPE_DIVIDEBYZERO',\n",
       " 'FPE_INVALID',\n",
       " 'FPE_OVERFLOW',\n",
       " 'FPE_UNDERFLOW',\n",
       " 'False_',\n",
       " 'Inf',\n",
       " 'Infinity',\n",
       " 'MAXDIMS',\n",
       " 'MAY_SHARE_BOUNDS',\n",
       " 'MAY_SHARE_EXACT',\n",
       " 'MachAr',\n",
       " 'ModuleDeprecationWarning',\n",
       " 'NAN',\n",
       " 'NINF',\n",
       " 'NZERO',\n",
       " 'NaN',\n",
       " 'PINF',\n",
       " 'PZERO',\n",
       " 'RAISE',\n",
       " 'RankWarning',\n",
       " 'SHIFT_DIVIDEBYZERO',\n",
       " 'SHIFT_INVALID',\n",
       " 'SHIFT_OVERFLOW',\n",
       " 'SHIFT_UNDERFLOW',\n",
       " 'ScalarType',\n",
       " 'Str0',\n",
       " 'Tester',\n",
       " 'TooHardError',\n",
       " 'True_',\n",
       " 'UFUNC_BUFSIZE_DEFAULT',\n",
       " 'UFUNC_PYVALS_NAME',\n",
       " 'Uint64',\n",
       " 'VisibleDeprecationWarning',\n",
       " 'WRAP',\n",
       " '_NoValue',\n",
       " '_UFUNC_API',\n",
       " '__NUMPY_SETUP__',\n",
       " '__all__',\n",
       " '__builtins__',\n",
       " '__cached__',\n",
       " '__config__',\n",
       " '__deprecated_attrs__',\n",
       " '__dir__',\n",
       " '__doc__',\n",
       " '__expired_functions__',\n",
       " '__file__',\n",
       " '__getattr__',\n",
       " '__git_revision__',\n",
       " '__loader__',\n",
       " '__mkl_version__',\n",
       " '__name__',\n",
       " '__package__',\n",
       " '__path__',\n",
       " '__spec__',\n",
       " '__version__',\n",
       " '_add_newdoc_ufunc',\n",
       " '_distributor_init',\n",
       " '_financial_names',\n",
       " '_globals',\n",
       " '_mat',\n",
       " '_pytesttester',\n",
       " 'abs',\n",
       " 'absolute',\n",
       " 'add',\n",
       " 'add_docstring',\n",
       " 'add_newdoc',\n",
       " 'add_newdoc_ufunc',\n",
       " 'alen',\n",
       " 'all',\n",
       " 'allclose',\n",
       " 'alltrue',\n",
       " 'amax',\n",
       " 'amin',\n",
       " 'angle',\n",
       " 'any',\n",
       " 'append',\n",
       " 'apply_along_axis',\n",
       " 'apply_over_axes',\n",
       " 'arange',\n",
       " 'arccos',\n",
       " 'arccosh',\n",
       " 'arcsin',\n",
       " 'arcsinh',\n",
       " 'arctan',\n",
       " 'arctan2',\n",
       " 'arctanh',\n",
       " 'argmax',\n",
       " 'argmin',\n",
       " 'argpartition',\n",
       " 'argsort',\n",
       " 'argwhere',\n",
       " 'around',\n",
       " 'array',\n",
       " 'array2string',\n",
       " 'array_equal',\n",
       " 'array_equiv',\n",
       " 'array_repr',\n",
       " 'array_split',\n",
       " 'array_str',\n",
       " 'asanyarray',\n",
       " 'asarray',\n",
       " 'asarray_chkfinite',\n",
       " 'ascontiguousarray',\n",
       " 'asfarray',\n",
       " 'asfortranarray',\n",
       " 'asmatrix',\n",
       " 'asscalar',\n",
       " 'atleast_1d',\n",
       " 'atleast_2d',\n",
       " 'atleast_3d',\n",
       " 'average',\n",
       " 'bartlett',\n",
       " 'base_repr',\n",
       " 'binary_repr',\n",
       " 'bincount',\n",
       " 'bitwise_and',\n",
       " 'bitwise_not',\n",
       " 'bitwise_or',\n",
       " 'bitwise_xor',\n",
       " 'blackman',\n",
       " 'block',\n",
       " 'bmat',\n",
       " 'bool8',\n",
       " 'bool_',\n",
       " 'broadcast',\n",
       " 'broadcast_arrays',\n",
       " 'broadcast_shapes',\n",
       " 'broadcast_to',\n",
       " 'busday_count',\n",
       " 'busday_offset',\n",
       " 'busdaycalendar',\n",
       " 'byte',\n",
       " 'byte_bounds',\n",
       " 'bytes0',\n",
       " 'bytes_',\n",
       " 'c_',\n",
       " 'can_cast',\n",
       " 'cast',\n",
       " 'cbrt',\n",
       " 'cdouble',\n",
       " 'ceil',\n",
       " 'cfloat',\n",
       " 'char',\n",
       " 'character',\n",
       " 'chararray',\n",
       " 'choose',\n",
       " 'clip',\n",
       " 'clongdouble',\n",
       " 'clongfloat',\n",
       " 'column_stack',\n",
       " 'common_type',\n",
       " 'compare_chararrays',\n",
       " 'compat',\n",
       " 'complex128',\n",
       " 'complex64',\n",
       " 'complex_',\n",
       " 'complexfloating',\n",
       " 'compress',\n",
       " 'concatenate',\n",
       " 'conj',\n",
       " 'conjugate',\n",
       " 'convolve',\n",
       " 'copy',\n",
       " 'copysign',\n",
       " 'copyto',\n",
       " 'core',\n",
       " 'corrcoef',\n",
       " 'correlate',\n",
       " 'cos',\n",
       " 'cosh',\n",
       " 'count_nonzero',\n",
       " 'cov',\n",
       " 'cross',\n",
       " 'csingle',\n",
       " 'ctypeslib',\n",
       " 'cumprod',\n",
       " 'cumproduct',\n",
       " 'cumsum',\n",
       " 'datetime64',\n",
       " 'datetime_as_string',\n",
       " 'datetime_data',\n",
       " 'deg2rad',\n",
       " 'degrees',\n",
       " 'delete',\n",
       " 'deprecate',\n",
       " 'deprecate_with_doc',\n",
       " 'diag',\n",
       " 'diag_indices',\n",
       " 'diag_indices_from',\n",
       " 'diagflat',\n",
       " 'diagonal',\n",
       " 'diff',\n",
       " 'digitize',\n",
       " 'disp',\n",
       " 'divide',\n",
       " 'divmod',\n",
       " 'dot',\n",
       " 'double',\n",
       " 'dsplit',\n",
       " 'dstack',\n",
       " 'dtype',\n",
       " 'e',\n",
       " 'ediff1d',\n",
       " 'einsum',\n",
       " 'einsum_path',\n",
       " 'emath',\n",
       " 'empty',\n",
       " 'empty_like',\n",
       " 'equal',\n",
       " 'errstate',\n",
       " 'euler_gamma',\n",
       " 'exp',\n",
       " 'exp2',\n",
       " 'expand_dims',\n",
       " 'expm1',\n",
       " 'extract',\n",
       " 'eye',\n",
       " 'fabs',\n",
       " 'fastCopyAndTranspose',\n",
       " 'fft',\n",
       " 'fill_diagonal',\n",
       " 'find_common_type',\n",
       " 'finfo',\n",
       " 'fix',\n",
       " 'flatiter',\n",
       " 'flatnonzero',\n",
       " 'flexible',\n",
       " 'flip',\n",
       " 'fliplr',\n",
       " 'flipud',\n",
       " 'float16',\n",
       " 'float32',\n",
       " 'float64',\n",
       " 'float_',\n",
       " 'float_power',\n",
       " 'floating',\n",
       " 'floor',\n",
       " 'floor_divide',\n",
       " 'fmax',\n",
       " 'fmin',\n",
       " 'fmod',\n",
       " 'format_float_positional',\n",
       " 'format_float_scientific',\n",
       " 'format_parser',\n",
       " 'frexp',\n",
       " 'frombuffer',\n",
       " 'fromfile',\n",
       " 'fromfunction',\n",
       " 'fromiter',\n",
       " 'frompyfunc',\n",
       " 'fromregex',\n",
       " 'fromstring',\n",
       " 'full',\n",
       " 'full_like',\n",
       " 'gcd',\n",
       " 'generic',\n",
       " 'genfromtxt',\n",
       " 'geomspace',\n",
       " 'get_array_wrap',\n",
       " 'get_include',\n",
       " 'get_printoptions',\n",
       " 'getbufsize',\n",
       " 'geterr',\n",
       " 'geterrcall',\n",
       " 'geterrobj',\n",
       " 'gradient',\n",
       " 'greater',\n",
       " 'greater_equal',\n",
       " 'half',\n",
       " 'hamming',\n",
       " 'hanning',\n",
       " 'heaviside',\n",
       " 'histogram',\n",
       " 'histogram2d',\n",
       " 'histogram_bin_edges',\n",
       " 'histogramdd',\n",
       " 'hsplit',\n",
       " 'hstack',\n",
       " 'hypot',\n",
       " 'i0',\n",
       " 'identity',\n",
       " 'iinfo',\n",
       " 'imag',\n",
       " 'in1d',\n",
       " 'index_exp',\n",
       " 'indices',\n",
       " 'inexact',\n",
       " 'inf',\n",
       " 'info',\n",
       " 'infty',\n",
       " 'inner',\n",
       " 'insert',\n",
       " 'int0',\n",
       " 'int16',\n",
       " 'int32',\n",
       " 'int64',\n",
       " 'int8',\n",
       " 'int_',\n",
       " 'intc',\n",
       " 'integer',\n",
       " 'interp',\n",
       " 'intersect1d',\n",
       " 'intp',\n",
       " 'invert',\n",
       " 'is_busday',\n",
       " 'isclose',\n",
       " 'iscomplex',\n",
       " 'iscomplexobj',\n",
       " 'isfinite',\n",
       " 'isfortran',\n",
       " 'isin',\n",
       " 'isinf',\n",
       " 'isnan',\n",
       " 'isnat',\n",
       " 'isneginf',\n",
       " 'isposinf',\n",
       " 'isreal',\n",
       " 'isrealobj',\n",
       " 'isscalar',\n",
       " 'issctype',\n",
       " 'issubclass_',\n",
       " 'issubdtype',\n",
       " 'issubsctype',\n",
       " 'iterable',\n",
       " 'ix_',\n",
       " 'kaiser',\n",
       " 'kron',\n",
       " 'lcm',\n",
       " 'ldexp',\n",
       " 'left_shift',\n",
       " 'less',\n",
       " 'less_equal',\n",
       " 'lexsort',\n",
       " 'lib',\n",
       " 'linalg',\n",
       " 'linspace',\n",
       " 'little_endian',\n",
       " 'load',\n",
       " 'loads',\n",
       " 'loadtxt',\n",
       " 'log',\n",
       " 'log10',\n",
       " 'log1p',\n",
       " 'log2',\n",
       " 'logaddexp',\n",
       " 'logaddexp2',\n",
       " 'logical_and',\n",
       " 'logical_not',\n",
       " 'logical_or',\n",
       " 'logical_xor',\n",
       " 'logspace',\n",
       " 'longcomplex',\n",
       " 'longdouble',\n",
       " 'longfloat',\n",
       " 'longlong',\n",
       " 'lookfor',\n",
       " 'ma',\n",
       " 'mafromtxt',\n",
       " 'mask_indices',\n",
       " 'mat',\n",
       " 'math',\n",
       " 'matmul',\n",
       " 'matrix',\n",
       " 'matrixlib',\n",
       " 'max',\n",
       " 'maximum',\n",
       " 'maximum_sctype',\n",
       " 'may_share_memory',\n",
       " 'mean',\n",
       " 'median',\n",
       " 'memmap',\n",
       " 'meshgrid',\n",
       " 'mgrid',\n",
       " 'min',\n",
       " 'min_scalar_type',\n",
       " 'minimum',\n",
       " 'mintypecode',\n",
       " 'mkl',\n",
       " 'mod',\n",
       " 'modf',\n",
       " 'moveaxis',\n",
       " 'msort',\n",
       " 'multiply',\n",
       " 'nan',\n",
       " 'nan_to_num',\n",
       " 'nanargmax',\n",
       " 'nanargmin',\n",
       " 'nancumprod',\n",
       " 'nancumsum',\n",
       " 'nanmax',\n",
       " 'nanmean',\n",
       " 'nanmedian',\n",
       " 'nanmin',\n",
       " 'nanpercentile',\n",
       " 'nanprod',\n",
       " 'nanquantile',\n",
       " 'nanstd',\n",
       " 'nansum',\n",
       " 'nanvar',\n",
       " 'nbytes',\n",
       " 'ndarray',\n",
       " 'ndenumerate',\n",
       " 'ndfromtxt',\n",
       " 'ndim',\n",
       " 'ndindex',\n",
       " 'nditer',\n",
       " 'negative',\n",
       " 'nested_iters',\n",
       " 'newaxis',\n",
       " 'nextafter',\n",
       " 'nonzero',\n",
       " 'not_equal',\n",
       " 'numarray',\n",
       " 'number',\n",
       " 'obj2sctype',\n",
       " 'object0',\n",
       " 'object_',\n",
       " 'ogrid',\n",
       " 'oldnumeric',\n",
       " 'ones',\n",
       " 'ones_like',\n",
       " 'os',\n",
       " 'outer',\n",
       " 'packbits',\n",
       " 'pad',\n",
       " 'partition',\n",
       " 'percentile',\n",
       " 'pi',\n",
       " 'piecewise',\n",
       " 'place',\n",
       " 'poly',\n",
       " 'poly1d',\n",
       " 'polyadd',\n",
       " 'polyder',\n",
       " 'polydiv',\n",
       " 'polyfit',\n",
       " 'polyint',\n",
       " 'polymul',\n",
       " 'polynomial',\n",
       " 'polysub',\n",
       " 'polyval',\n",
       " 'positive',\n",
       " 'power',\n",
       " 'printoptions',\n",
       " 'prod',\n",
       " 'product',\n",
       " 'promote_types',\n",
       " 'ptp',\n",
       " 'put',\n",
       " 'put_along_axis',\n",
       " 'putmask',\n",
       " 'quantile',\n",
       " 'r_',\n",
       " 'rad2deg',\n",
       " 'radians',\n",
       " 'random',\n",
       " 'ravel',\n",
       " 'ravel_multi_index',\n",
       " 'real',\n",
       " 'real_if_close',\n",
       " 'rec',\n",
       " 'recarray',\n",
       " 'recfromcsv',\n",
       " 'recfromtxt',\n",
       " 'reciprocal',\n",
       " 'record',\n",
       " 'remainder',\n",
       " 'repeat',\n",
       " 'require',\n",
       " 'reshape',\n",
       " 'resize',\n",
       " 'result_type',\n",
       " 'right_shift',\n",
       " 'rint',\n",
       " 'roll',\n",
       " 'rollaxis',\n",
       " 'roots',\n",
       " 'rot90',\n",
       " 'round',\n",
       " 'round_',\n",
       " 'row_stack',\n",
       " 's_',\n",
       " 'safe_eval',\n",
       " 'save',\n",
       " 'savetxt',\n",
       " 'savez',\n",
       " 'savez_compressed',\n",
       " 'sctype2char',\n",
       " 'sctypeDict',\n",
       " 'sctypes',\n",
       " 'searchsorted',\n",
       " 'select',\n",
       " 'set_numeric_ops',\n",
       " 'set_printoptions',\n",
       " 'set_string_function',\n",
       " 'setbufsize',\n",
       " 'setdiff1d',\n",
       " 'seterr',\n",
       " 'seterrcall',\n",
       " 'seterrobj',\n",
       " 'setxor1d',\n",
       " 'shape',\n",
       " 'shares_memory',\n",
       " 'short',\n",
       " 'show_config',\n",
       " 'sign',\n",
       " 'signbit',\n",
       " 'signedinteger',\n",
       " 'sin',\n",
       " 'sinc',\n",
       " 'single',\n",
       " 'singlecomplex',\n",
       " 'sinh',\n",
       " 'size',\n",
       " 'sometrue',\n",
       " 'sort',\n",
       " 'sort_complex',\n",
       " 'source',\n",
       " 'spacing',\n",
       " 'split',\n",
       " 'sqrt',\n",
       " 'square',\n",
       " 'squeeze',\n",
       " 'stack',\n",
       " 'std',\n",
       " 'str0',\n",
       " 'str_',\n",
       " 'string_',\n",
       " 'subtract',\n",
       " 'sum',\n",
       " 'swapaxes',\n",
       " 'sys',\n",
       " 'take',\n",
       " 'take_along_axis',\n",
       " 'tan',\n",
       " 'tanh',\n",
       " 'tensordot',\n",
       " 'test',\n",
       " 'testing',\n",
       " 'tile',\n",
       " 'timedelta64',\n",
       " 'trace',\n",
       " 'tracemalloc_domain',\n",
       " 'transpose',\n",
       " 'trapz',\n",
       " 'tri',\n",
       " 'tril',\n",
       " 'tril_indices',\n",
       " 'tril_indices_from',\n",
       " 'trim_zeros',\n",
       " 'triu',\n",
       " 'triu_indices',\n",
       " 'triu_indices_from',\n",
       " 'true_divide',\n",
       " 'trunc',\n",
       " 'typeDict',\n",
       " 'typecodes',\n",
       " 'typename',\n",
       " 'ubyte',\n",
       " 'ufunc',\n",
       " 'uint',\n",
       " 'uint0',\n",
       " 'uint16',\n",
       " 'uint32',\n",
       " 'uint64',\n",
       " 'uint8',\n",
       " 'uintc',\n",
       " 'uintp',\n",
       " 'ulonglong',\n",
       " 'unicode_',\n",
       " 'union1d',\n",
       " 'unique',\n",
       " 'unpackbits',\n",
       " 'unravel_index',\n",
       " 'unsignedinteger',\n",
       " 'unwrap',\n",
       " 'use_hugepage',\n",
       " 'ushort',\n",
       " 'vander',\n",
       " 'var',\n",
       " 'vdot',\n",
       " 'vectorize',\n",
       " 'version',\n",
       " 'void',\n",
       " 'void0',\n",
       " 'vsplit',\n",
       " 'vstack',\n",
       " 'warnings',\n",
       " 'where',\n",
       " 'who',\n",
       " 'zeros',\n",
       " 'zeros_like']"
      ]
     },
     "execution_count": 15,
     "metadata": {},
     "output_type": "execute_result"
    }
   ],
   "source": [
    "dir(np)"
   ]
  },
  {
   "cell_type": "code",
   "execution_count": 16,
   "id": "b6a768b8",
   "metadata": {
    "ExecuteTime": {
     "end_time": "2021-07-23T02:10:21.128411Z",
     "start_time": "2021-07-23T02:10:20.502778Z"
    }
   },
   "outputs": [],
   "source": [
    "import pandas as pd"
   ]
  },
  {
   "cell_type": "code",
   "execution_count": 17,
   "id": "6a6a0021",
   "metadata": {
    "ExecuteTime": {
     "end_time": "2021-07-23T02:11:04.422307Z",
     "start_time": "2021-07-23T02:11:04.403358Z"
    }
   },
   "outputs": [
    {
     "data": {
      "text/plain": [
       "['BooleanDtype',\n",
       " 'Categorical',\n",
       " 'CategoricalDtype',\n",
       " 'CategoricalIndex',\n",
       " 'DataFrame',\n",
       " 'DateOffset',\n",
       " 'DatetimeIndex',\n",
       " 'DatetimeTZDtype',\n",
       " 'ExcelFile',\n",
       " 'ExcelWriter',\n",
       " 'Flags',\n",
       " 'Float32Dtype',\n",
       " 'Float64Dtype',\n",
       " 'Float64Index',\n",
       " 'Grouper',\n",
       " 'HDFStore',\n",
       " 'Index',\n",
       " 'IndexSlice',\n",
       " 'Int16Dtype',\n",
       " 'Int32Dtype',\n",
       " 'Int64Dtype',\n",
       " 'Int64Index',\n",
       " 'Int8Dtype',\n",
       " 'Interval',\n",
       " 'IntervalDtype',\n",
       " 'IntervalIndex',\n",
       " 'MultiIndex',\n",
       " 'NA',\n",
       " 'NaT',\n",
       " 'NamedAgg',\n",
       " 'Period',\n",
       " 'PeriodDtype',\n",
       " 'PeriodIndex',\n",
       " 'RangeIndex',\n",
       " 'Series',\n",
       " 'SparseDtype',\n",
       " 'StringDtype',\n",
       " 'Timedelta',\n",
       " 'TimedeltaIndex',\n",
       " 'Timestamp',\n",
       " 'UInt16Dtype',\n",
       " 'UInt32Dtype',\n",
       " 'UInt64Dtype',\n",
       " 'UInt64Index',\n",
       " 'UInt8Dtype',\n",
       " '__builtins__',\n",
       " '__cached__',\n",
       " '__doc__',\n",
       " '__docformat__',\n",
       " '__file__',\n",
       " '__getattr__',\n",
       " '__git_version__',\n",
       " '__loader__',\n",
       " '__name__',\n",
       " '__package__',\n",
       " '__path__',\n",
       " '__spec__',\n",
       " '__version__',\n",
       " '_config',\n",
       " '_hashtable',\n",
       " '_is_numpy_dev',\n",
       " '_lib',\n",
       " '_libs',\n",
       " '_np_version_under1p17',\n",
       " '_np_version_under1p18',\n",
       " '_testing',\n",
       " '_tslib',\n",
       " '_typing',\n",
       " '_version',\n",
       " 'api',\n",
       " 'array',\n",
       " 'arrays',\n",
       " 'bdate_range',\n",
       " 'compat',\n",
       " 'concat',\n",
       " 'core',\n",
       " 'crosstab',\n",
       " 'cut',\n",
       " 'date_range',\n",
       " 'describe_option',\n",
       " 'errors',\n",
       " 'eval',\n",
       " 'factorize',\n",
       " 'get_dummies',\n",
       " 'get_option',\n",
       " 'infer_freq',\n",
       " 'interval_range',\n",
       " 'io',\n",
       " 'isna',\n",
       " 'isnull',\n",
       " 'json_normalize',\n",
       " 'lreshape',\n",
       " 'melt',\n",
       " 'merge',\n",
       " 'merge_asof',\n",
       " 'merge_ordered',\n",
       " 'notna',\n",
       " 'notnull',\n",
       " 'offsets',\n",
       " 'option_context',\n",
       " 'options',\n",
       " 'pandas',\n",
       " 'period_range',\n",
       " 'pivot',\n",
       " 'pivot_table',\n",
       " 'plotting',\n",
       " 'qcut',\n",
       " 'read_clipboard',\n",
       " 'read_csv',\n",
       " 'read_excel',\n",
       " 'read_feather',\n",
       " 'read_fwf',\n",
       " 'read_gbq',\n",
       " 'read_hdf',\n",
       " 'read_html',\n",
       " 'read_json',\n",
       " 'read_orc',\n",
       " 'read_parquet',\n",
       " 'read_pickle',\n",
       " 'read_sas',\n",
       " 'read_spss',\n",
       " 'read_sql',\n",
       " 'read_sql_query',\n",
       " 'read_sql_table',\n",
       " 'read_stata',\n",
       " 'read_table',\n",
       " 'reset_option',\n",
       " 'set_eng_float_format',\n",
       " 'set_option',\n",
       " 'show_versions',\n",
       " 'test',\n",
       " 'testing',\n",
       " 'timedelta_range',\n",
       " 'to_datetime',\n",
       " 'to_numeric',\n",
       " 'to_pickle',\n",
       " 'to_timedelta',\n",
       " 'tseries',\n",
       " 'unique',\n",
       " 'util',\n",
       " 'value_counts',\n",
       " 'wide_to_long']"
      ]
     },
     "execution_count": 17,
     "metadata": {},
     "output_type": "execute_result"
    }
   ],
   "source": [
    "dir(pd)"
   ]
  },
  {
   "cell_type": "code",
   "execution_count": 18,
   "id": "97357063",
   "metadata": {
    "ExecuteTime": {
     "end_time": "2021-07-23T02:13:53.315336Z",
     "start_time": "2021-07-23T02:13:53.300339Z"
    }
   },
   "outputs": [
    {
     "name": "stdout",
     "output_type": "stream",
     "text": [
      "['__doc__', '__loader__', '__name__', '__package__', '__spec__', 'acos', 'acosh', 'asin', 'asinh', 'atan', 'atan2', 'atanh', 'ceil', 'comb', 'copysign', 'cos', 'cosh', 'degrees', 'dist', 'e', 'erf', 'erfc', 'exp', 'expm1', 'fabs', 'factorial', 'floor', 'fmod', 'frexp', 'fsum', 'gamma', 'gcd', 'hypot', 'inf', 'isclose', 'isfinite', 'isinf', 'isnan', 'isqrt', 'ldexp', 'lgamma', 'log', 'log10', 'log1p', 'log2', 'modf', 'nan', 'perm', 'pi', 'pow', 'prod', 'radians', 'remainder', 'sin', 'sinh', 'sqrt', 'tan', 'tanh', 'tau', 'trunc']\n"
     ]
    }
   ],
   "source": [
    "import math\n",
    "print(dir(math))"
   ]
  },
  {
   "cell_type": "code",
   "execution_count": 19,
   "id": "654f20de",
   "metadata": {
    "ExecuteTime": {
     "end_time": "2021-07-23T02:17:29.150685Z",
     "start_time": "2021-07-23T02:17:29.138693Z"
    }
   },
   "outputs": [
    {
     "name": "stdout",
     "output_type": "stream",
     "text": [
      "['__breakpointhook__', '__displayhook__', '__doc__', '__excepthook__', '__interactivehook__', '__loader__', '__name__', '__package__', '__spec__', '__stderr__', '__stdin__', '__stdout__', '__unraisablehook__', '_base_executable', '_clear_type_cache', '_current_frames', '_debugmallocstats', '_enablelegacywindowsfsencoding', '_framework', '_getframe', '_git', '_home', '_xoptions', 'addaudithook', 'api_version', 'argv', 'audit', 'base_exec_prefix', 'base_prefix', 'breakpointhook', 'builtin_module_names', 'byteorder', 'call_tracing', 'callstats', 'copyright', 'displayhook', 'dllhandle', 'dont_write_bytecode', 'exc_info', 'excepthook', 'exec_prefix', 'executable', 'exit', 'flags', 'float_info', 'float_repr_style', 'get_asyncgen_hooks', 'get_coroutine_origin_tracking_depth', 'getallocatedblocks', 'getcheckinterval', 'getdefaultencoding', 'getfilesystemencodeerrors', 'getfilesystemencoding', 'getprofile', 'getrecursionlimit', 'getrefcount', 'getsizeof', 'getswitchinterval', 'gettrace', 'getwindowsversion', 'hash_info', 'hexversion', 'implementation', 'int_info', 'intern', 'is_finalizing', 'maxsize', 'maxunicode', 'meta_path', 'modules', 'path', 'path_hooks', 'path_importer_cache', 'platform', 'prefix', 'ps1', 'ps2', 'ps3', 'pycache_prefix', 'set_asyncgen_hooks', 'set_coroutine_origin_tracking_depth', 'setcheckinterval', 'setprofile', 'setrecursionlimit', 'setswitchinterval', 'settrace', 'stderr', 'stdin', 'stdout', 'thread_info', 'unraisablehook', 'version', 'version_info', 'warnoptions', 'winver']\n"
     ]
    }
   ],
   "source": [
    "import sys\n",
    "print(dir(sys))"
   ]
  },
  {
   "cell_type": "markdown",
   "id": "20a7e4e8",
   "metadata": {},
   "source": [
    "```\n",
    "import A - A 모듈을 가져옴\n",
    "import A as B - A모듈을 B이름으로 가져옴\n",
    "from A import B - A모듈안에 B함수(A패키지안의 B모듈)을 가져옴\n",
    "from A import B as C -A모듈안에 B함수(A패키지 안의 B모듈)을 C이름으로 가져옴\n",
    "from A.B import C - A패키지 안에 B모듈의 C함수를 가져옴\n",
    "from A.B import C as D - A패키지 안에 B모듈의 C함수를 D이름으로 가져옴\n",
    "```"
   ]
  },
  {
   "cell_type": "markdown",
   "id": "f92cba93",
   "metadata": {},
   "source": [
    "# 2절. 사용자 정의 모듈\n",
    "- 함수나 클래스 등을 파이썬 파일에 저장해서 모듈을 만들고 재사용 할 수 있음\n",
    "- 모듈을 가져오는 순서 1)내장 모듈 2)sys.path변수에 저장된 경로"
   ]
  },
  {
   "cell_type": "code",
   "execution_count": 1,
   "id": "be343c25",
   "metadata": {
    "ExecuteTime": {
     "end_time": "2021-07-23T04:27:53.149934Z",
     "start_time": "2021-07-23T04:27:53.132978Z"
    }
   },
   "outputs": [
    {
     "data": {
      "text/plain": [
       "['C:\\\\bigdata\\\\src\\\\07_python',\n",
       " 'C:\\\\Users\\\\sangh\\\\anaconda3\\\\python38.zip',\n",
       " 'C:\\\\Users\\\\sangh\\\\anaconda3\\\\DLLs',\n",
       " 'C:\\\\Users\\\\sangh\\\\anaconda3\\\\lib',\n",
       " 'C:\\\\Users\\\\sangh\\\\anaconda3',\n",
       " '',\n",
       " 'C:\\\\Users\\\\sangh\\\\anaconda3\\\\lib\\\\site-packages',\n",
       " 'C:\\\\Users\\\\sangh\\\\anaconda3\\\\lib\\\\site-packages\\\\locket-0.2.1-py3.8.egg',\n",
       " 'C:\\\\Users\\\\sangh\\\\anaconda3\\\\lib\\\\site-packages\\\\win32',\n",
       " 'C:\\\\Users\\\\sangh\\\\anaconda3\\\\lib\\\\site-packages\\\\win32\\\\lib',\n",
       " 'C:\\\\Users\\\\sangh\\\\anaconda3\\\\lib\\\\site-packages\\\\Pythonwin',\n",
       " 'C:\\\\Users\\\\sangh\\\\anaconda3\\\\lib\\\\site-packages\\\\IPython\\\\extensions',\n",
       " 'C:\\\\Users\\\\sangh\\\\.ipython']"
      ]
     },
     "execution_count": 1,
     "metadata": {},
     "output_type": "execute_result"
    }
   ],
   "source": [
    "import sys\n",
    "sys.path   #라이브러리 들고오는 경로들 이중에 라이브러리가 저장되야 들고온다."
   ]
  },
  {
   "cell_type": "code",
   "execution_count": null,
   "id": "b73d9da3",
   "metadata": {},
   "outputs": [],
   "source": [
    "# 사용자 정의 모듈및 패키지를 저장할 C:\\bigdata\\src\\pylib 폴더 생성"
   ]
  },
  {
   "cell_type": "code",
   "execution_count": 2,
   "id": "6e51d9c8",
   "metadata": {
    "ExecuteTime": {
     "end_time": "2021-07-23T04:27:56.205369Z",
     "start_time": "2021-07-23T04:27:56.191359Z"
    }
   },
   "outputs": [
    {
     "data": {
      "text/plain": [
       "['C:\\\\bigdata\\\\src\\\\07_python',\n",
       " 'C:\\\\Users\\\\sangh\\\\anaconda3\\\\python38.zip',\n",
       " 'C:\\\\Users\\\\sangh\\\\anaconda3\\\\DLLs',\n",
       " 'C:\\\\Users\\\\sangh\\\\anaconda3\\\\lib',\n",
       " 'C:\\\\Users\\\\sangh\\\\anaconda3',\n",
       " '',\n",
       " 'C:\\\\Users\\\\sangh\\\\anaconda3\\\\lib\\\\site-packages',\n",
       " 'C:\\\\Users\\\\sangh\\\\anaconda3\\\\lib\\\\site-packages\\\\locket-0.2.1-py3.8.egg',\n",
       " 'C:\\\\Users\\\\sangh\\\\anaconda3\\\\lib\\\\site-packages\\\\win32',\n",
       " 'C:\\\\Users\\\\sangh\\\\anaconda3\\\\lib\\\\site-packages\\\\win32\\\\lib',\n",
       " 'C:\\\\Users\\\\sangh\\\\anaconda3\\\\lib\\\\site-packages\\\\Pythonwin',\n",
       " 'C:\\\\Users\\\\sangh\\\\anaconda3\\\\lib\\\\site-packages\\\\IPython\\\\extensions',\n",
       " 'C:\\\\Users\\\\sangh\\\\.ipython',\n",
       " 'C:\\\\bigdata\\\\src\\\\pylib']"
      ]
     },
     "execution_count": 2,
     "metadata": {},
     "output_type": "execute_result"
    }
   ],
   "source": [
    "import sys\n",
    "sys.path.append(r'C:\\bigdata\\src\\pylib')\n",
    "sys.path"
   ]
  },
  {
   "cell_type": "code",
   "execution_count": 3,
   "id": "2fbceb71",
   "metadata": {
    "ExecuteTime": {
     "end_time": "2021-07-23T04:27:58.312100Z",
     "start_time": "2021-07-23T04:27:58.300154Z"
    }
   },
   "outputs": [],
   "source": [
    "import fibonacci"
   ]
  },
  {
   "cell_type": "code",
   "execution_count": 4,
   "id": "bef4f252",
   "metadata": {
    "ExecuteTime": {
     "end_time": "2021-07-23T04:28:00.427286Z",
     "start_time": "2021-07-23T04:28:00.417313Z"
    }
   },
   "outputs": [
    {
     "name": "stdout",
     "output_type": "stream",
     "text": [
      "0 1 1 2 3 5 8 13 21 34 55 89 144 233 \n"
     ]
    }
   ],
   "source": [
    "fibonacci.fibo_print(300)"
   ]
  },
  {
   "cell_type": "code",
   "execution_count": 5,
   "id": "a34a6e91",
   "metadata": {
    "ExecuteTime": {
     "end_time": "2021-07-23T04:28:02.373081Z",
     "start_time": "2021-07-23T04:28:02.361430Z"
    }
   },
   "outputs": [
    {
     "data": {
      "text/plain": [
       "[0, 1, 1, 2, 3, 5, 8, 13, 21, 34, 55, 89]"
      ]
     },
     "execution_count": 5,
     "metadata": {},
     "output_type": "execute_result"
    }
   ],
   "source": [
    "fibonacci.fibo_return(100)"
   ]
  },
  {
   "cell_type": "code",
   "execution_count": 5,
   "id": "d83b5a4c",
   "metadata": {
    "ExecuteTime": {
     "end_time": "2021-07-23T03:50:23.807257Z",
     "start_time": "2021-07-23T03:50:23.756392Z"
    }
   },
   "outputs": [
    {
     "name": "stdout",
     "output_type": "stream",
     "text": [
      " C 드라이브의 볼륨에는 이름이 없습니다.\n",
      " 볼륨 일련 번호: 2878-60C8\n",
      "\n",
      " C:\\bigdata\\src\\07_python 디렉터리\n",
      "\n",
      "2021-07-23  오후 12:49    <DIR>          .\n",
      "2021-07-23  오후 12:49    <DIR>          ..\n",
      "2021-07-23  오전 10:47    <DIR>          .ipynb_checkpoints\n",
      "2021-07-21  오후 06:13               160 a.py\n",
      "2021-07-19  오후 11:37         4,177,958 ch01_파이썬 개요 및 환경 설정.ipynb\n",
      "2021-07-20  오후 12:23            44,648 ch02_1절변수_2절화면io_3절기본자료형.ipynb\n",
      "2021-07-21  오전 12:06            32,341 ch02_4절포맷팅_5절연산자.ipynb\n",
      "2021-07-20  오후 10:11            26,624 ch02_6절_문자열 다루기_8절_연습문제.ipynb\n",
      "2021-07-22  오후 10:42            93,032 ch03_데이터구조_1절 리스트 2절 듀플 3절 딕셔너리.ipynb\n",
      "2021-07-22  오후 05:27            18,795 ch04_제어문.ipynb\n",
      "2021-07-22  오후 11:51           149,077 ch05 함수.ipynb\n",
      "2021-07-23  오후 12:49            37,827 ch06. 모듈과 패키지.ipynb\n",
      "2021-07-20  오전 12:59    <DIR>          IDtest\n",
      "2021-07-21  오후 04:00    <DIR>          __pycache__\n",
      "2021-07-19  오후 11:21    <DIR>          과제\n",
      "               9개 파일           4,580,462 바이트\n",
      "               6개 디렉터리  361,538,555,904 바이트 남음\n"
     ]
    }
   ],
   "source": [
    "! dir"
   ]
  },
  {
   "cell_type": "code",
   "execution_count": 6,
   "id": "566ca73c",
   "metadata": {
    "ExecuteTime": {
     "end_time": "2021-07-23T04:28:05.598040Z",
     "start_time": "2021-07-23T04:28:05.495657Z"
    }
   },
   "outputs": [
    {
     "name": "stdout",
     "output_type": "stream",
     "text": [
      "0 1 1 2 3 5 8 13 21 34 55 89 144 233 \n"
     ]
    }
   ],
   "source": [
    "! python c:/bigdata/src/pylib/fibonacci.py 300"
   ]
  },
  {
   "cell_type": "code",
   "execution_count": 7,
   "id": "28b84bde",
   "metadata": {
    "ExecuteTime": {
     "end_time": "2021-07-23T04:28:07.234277Z",
     "start_time": "2021-07-23T04:28:07.226299Z"
    }
   },
   "outputs": [],
   "source": [
    "del fibonacci"
   ]
  },
  {
   "cell_type": "code",
   "execution_count": 8,
   "id": "ae2f3333",
   "metadata": {
    "ExecuteTime": {
     "end_time": "2021-07-23T04:28:09.107218Z",
     "start_time": "2021-07-23T04:28:09.096591Z"
    }
   },
   "outputs": [],
   "source": [
    "import fibonacci as f"
   ]
  },
  {
   "cell_type": "code",
   "execution_count": 9,
   "id": "09174b53",
   "metadata": {
    "ExecuteTime": {
     "end_time": "2021-07-23T04:28:10.985240Z",
     "start_time": "2021-07-23T04:28:10.968279Z"
    }
   },
   "outputs": [
    {
     "name": "stdout",
     "output_type": "stream",
     "text": [
      "0 1 1 2 3 5 8 13 \n"
     ]
    }
   ],
   "source": [
    "import fibonacci as f\n",
    "f.fibo_print(20)"
   ]
  },
  {
   "cell_type": "code",
   "execution_count": 10,
   "id": "c5b4bc44",
   "metadata": {
    "ExecuteTime": {
     "end_time": "2021-07-23T04:28:12.558938Z",
     "start_time": "2021-07-23T04:28:12.546970Z"
    }
   },
   "outputs": [
    {
     "data": {
      "text/plain": [
       "[0, 1, 1, 2, 3, 5, 8, 13, 21, 34, 55, 89, 144]"
      ]
     },
     "execution_count": 10,
     "metadata": {},
     "output_type": "execute_result"
    }
   ],
   "source": [
    "f.fibo_return(200)"
   ]
  },
  {
   "cell_type": "code",
   "execution_count": 11,
   "id": "c1593015",
   "metadata": {
    "ExecuteTime": {
     "end_time": "2021-07-23T04:28:14.716430Z",
     "start_time": "2021-07-23T04:28:14.704952Z"
    }
   },
   "outputs": [],
   "source": [
    "del f"
   ]
  },
  {
   "cell_type": "code",
   "execution_count": 12,
   "id": "40cad66e",
   "metadata": {
    "ExecuteTime": {
     "end_time": "2021-07-23T04:28:16.394744Z",
     "start_time": "2021-07-23T04:28:16.386766Z"
    }
   },
   "outputs": [
    {
     "name": "stdout",
     "output_type": "stream",
     "text": [
      "0 1 1 2 3 5 8 13 21 34 55 89 144 \n"
     ]
    }
   ],
   "source": [
    "from fibonacci import fibo_print, fibo_return\n",
    "fibo_print(200)"
   ]
  },
  {
   "cell_type": "code",
   "execution_count": 13,
   "id": "07ebcbbd",
   "metadata": {
    "ExecuteTime": {
     "end_time": "2021-07-23T04:28:18.196059Z",
     "start_time": "2021-07-23T04:28:18.189078Z"
    }
   },
   "outputs": [],
   "source": [
    "del fibo_print, fibo_return"
   ]
  },
  {
   "cell_type": "code",
   "execution_count": 14,
   "id": "129cb00b",
   "metadata": {
    "ExecuteTime": {
     "end_time": "2021-07-23T04:28:19.808838Z",
     "start_time": "2021-07-23T04:28:19.799861Z"
    }
   },
   "outputs": [
    {
     "name": "stdout",
     "output_type": "stream",
     "text": [
      "0 1 1 2 3 5 8 13 21 34 55 89 144 233 \n"
     ]
    }
   ],
   "source": [
    "from fibonacci import fibo_print as fibo_p\n",
    "fibo_p(300)"
   ]
  },
  {
   "cell_type": "markdown",
   "id": "811c493b",
   "metadata": {},
   "source": [
    "# 3절. 패키지"
   ]
  },
  {
   "cell_type": "markdown",
   "id": "65c1656a",
   "metadata": {},
   "source": [
    "- 다중 모듈 패키지 ex. 넘파이.."
   ]
  },
  {
   "cell_type": "code",
   "execution_count": 1,
   "id": "83324744",
   "metadata": {
    "ExecuteTime": {
     "end_time": "2021-07-24T05:48:09.829777Z",
     "start_time": "2021-07-24T05:48:09.819803Z"
    }
   },
   "outputs": [],
   "source": [
    "import sys\n",
    "sys.path.append('c:/bigdata/src/pylib')"
   ]
  },
  {
   "cell_type": "code",
   "execution_count": 2,
   "id": "f813f854",
   "metadata": {
    "ExecuteTime": {
     "end_time": "2021-07-23T04:41:45.869075Z",
     "start_time": "2021-07-23T04:41:45.862062Z"
    }
   },
   "outputs": [
    {
     "name": "stdout",
     "output_type": "stream",
     "text": [
      "sample_pac 패키지 로드합니다.\n"
     ]
    }
   ],
   "source": [
    "import sample_pac  # 상위 패키지 import 한다고 하위 패키지가 import되지 않습니다."
   ]
  },
  {
   "cell_type": "code",
   "execution_count": 2,
   "id": "fbcb7111",
   "metadata": {
    "ExecuteTime": {
     "end_time": "2021-07-23T05:33:57.980346Z",
     "start_time": "2021-07-23T05:33:57.957408Z"
    }
   },
   "outputs": [
    {
     "name": "stdout",
     "output_type": "stream",
     "text": [
      "sample_pac 패키지 로드합니다.\n",
      "sample_pac 패키지 안의 ab패키지 로드\n"
     ]
    }
   ],
   "source": [
    "import sample_pac.ab.a"
   ]
  },
  {
   "cell_type": "code",
   "execution_count": 3,
   "id": "7c07c2a5",
   "metadata": {
    "ExecuteTime": {
     "end_time": "2021-07-23T05:34:37.668231Z",
     "start_time": "2021-07-23T05:34:37.654835Z"
    }
   },
   "outputs": [
    {
     "name": "stdout",
     "output_type": "stream",
     "text": [
      "Hello - ab.a 모듈 안\n"
     ]
    }
   ],
   "source": [
    "sample_pac.ab.a.hello()"
   ]
  },
  {
   "cell_type": "code",
   "execution_count": 3,
   "id": "99962931",
   "metadata": {
    "ExecuteTime": {
     "end_time": "2021-07-23T05:39:51.525870Z",
     "start_time": "2021-07-23T05:39:51.506889Z"
    }
   },
   "outputs": [
    {
     "name": "stdout",
     "output_type": "stream",
     "text": [
      "sample_pac 패키지 로드합니다.\n",
      "sample_pac 패키지 안의 ab패키지 로드\n",
      "world - ab.b 모듈안\n"
     ]
    }
   ],
   "source": [
    "from sample_pac.ab import b\n",
    "b.world()"
   ]
  },
  {
   "cell_type": "code",
   "execution_count": null,
   "id": "50b8cb83",
   "metadata": {},
   "outputs": [],
   "source": [
    "from sample_pac.ab.b import world\n",
    "world()"
   ]
  },
  {
   "cell_type": "code",
   "execution_count": 1,
   "id": "b34b22c7",
   "metadata": {
    "ExecuteTime": {
     "end_time": "2021-07-23T05:53:33.806514Z",
     "start_time": "2021-07-23T05:53:33.789562Z"
    }
   },
   "outputs": [],
   "source": [
    "# 커널 재시작시 sys.path 추가\n",
    "import sys\n",
    "sys.path.append('c:/bigdata/src/pylib')"
   ]
  },
  {
   "cell_type": "code",
   "execution_count": 2,
   "id": "60d0e21e",
   "metadata": {
    "ExecuteTime": {
     "end_time": "2021-07-23T05:44:10.095775Z",
     "start_time": "2021-07-23T05:44:10.075828Z"
    }
   },
   "outputs": [
    {
     "name": "stdout",
     "output_type": "stream",
     "text": [
      "sample_pac 패키지 로드합니다.\n",
      "sample_pac 패키지 안의 ab패키지 로드\n"
     ]
    }
   ],
   "source": [
    "from sample_pac.ab import *"
   ]
  },
  {
   "cell_type": "code",
   "execution_count": 3,
   "id": "947f918e",
   "metadata": {
    "ExecuteTime": {
     "end_time": "2021-07-23T05:44:15.644431Z",
     "start_time": "2021-07-23T05:44:15.627475Z"
    }
   },
   "outputs": [
    {
     "name": "stdout",
     "output_type": "stream",
     "text": [
      "Hello - ab.a 모듈 안\n"
     ]
    }
   ],
   "source": [
    "a.hello()"
   ]
  },
  {
   "cell_type": "code",
   "execution_count": 4,
   "id": "aa35915d",
   "metadata": {
    "ExecuteTime": {
     "end_time": "2021-07-23T05:44:27.555762Z",
     "start_time": "2021-07-23T05:44:27.357753Z"
    }
   },
   "outputs": [
    {
     "ename": "NameError",
     "evalue": "name 'b' is not defined",
     "output_type": "error",
     "traceback": [
      "\u001b[1;31m---------------------------------------------------------------------------\u001b[0m",
      "\u001b[1;31mNameError\u001b[0m                                 Traceback (most recent call last)",
      "\u001b[1;32m<ipython-input-4-0c2420a3bc53>\u001b[0m in \u001b[0;36m<module>\u001b[1;34m\u001b[0m\n\u001b[1;32m----> 1\u001b[1;33m \u001b[0mb\u001b[0m\u001b[1;33m.\u001b[0m\u001b[0mworld\u001b[0m\u001b[1;33m(\u001b[0m\u001b[1;33m)\u001b[0m\u001b[1;33m\u001b[0m\u001b[1;33m\u001b[0m\u001b[0m\n\u001b[0m",
      "\u001b[1;31mNameError\u001b[0m: name 'b' is not defined"
     ]
    }
   ],
   "source": [
    "b.world()"
   ]
  },
  {
   "cell_type": "code",
   "execution_count": 2,
   "id": "65a75b93",
   "metadata": {
    "ExecuteTime": {
     "end_time": "2021-07-23T05:53:46.424215Z",
     "start_time": "2021-07-23T05:53:46.402274Z"
    }
   },
   "outputs": [
    {
     "name": "stdout",
     "output_type": "stream",
     "text": [
      "sample_pac 패키지 로드합니다.\n",
      "sample_pac 패키지 안의 ab패키지 로드\n"
     ]
    }
   ],
   "source": [
    "# cd 패키지는 ab패키지의 일부를 참조\n",
    "# import sample_pac.cd.c as c\n",
    "from sample_pac.cd import c"
   ]
  },
  {
   "cell_type": "code",
   "execution_count": 3,
   "id": "9c5da489",
   "metadata": {
    "ExecuteTime": {
     "end_time": "2021-07-23T05:54:24.082481Z",
     "start_time": "2021-07-23T05:54:24.076509Z"
    }
   },
   "outputs": [
    {
     "name": "stdout",
     "output_type": "stream",
     "text": [
      "nice - c모듈안\n",
      "Hello - ab.a 모듈 안\n"
     ]
    }
   ],
   "source": [
    "c.nice()"
   ]
  },
  {
   "cell_type": "markdown",
   "id": "f4af0f54",
   "metadata": {},
   "source": [
    "# 4절. 패키지 설치 및 삭제"
   ]
  },
  {
   "cell_type": "code",
   "execution_count": 12,
   "id": "0691039d",
   "metadata": {
    "ExecuteTime": {
     "end_time": "2021-07-23T06:12:55.823785Z",
     "start_time": "2021-07-23T06:12:55.736022Z"
    },
    "scrolled": true
   },
   "outputs": [
    {
     "name": "stdout",
     "output_type": "stream",
     "text": [
      "dict       23513\n",
      "list       16510\n",
      "function   16007\n",
      "Operator   10823\n",
      "tuple      9055\n",
      "Name       6787\n",
      "PythonNode 6298\n",
      "DFAPlan    5405\n",
      "weakref    3085\n",
      "NFAArc     2730\n"
     ]
    }
   ],
   "source": [
    "import objgraph\n",
    "objgraph.show_most_common_types() #메모리 사용량 출력"
   ]
  },
  {
   "cell_type": "code",
   "execution_count": 11,
   "id": "2ae98350",
   "metadata": {
    "ExecuteTime": {
     "end_time": "2021-07-23T06:12:53.808211Z",
     "start_time": "2021-07-23T06:12:53.798237Z"
    }
   },
   "outputs": [],
   "source": [
    "L = [2]\n",
    "for i in range(10000):\n",
    "    L.append('aaaaaaaaaa')\n",
    "    L.append('bbbbbbbbbb')\n"
   ]
  },
  {
   "cell_type": "code",
   "execution_count": null,
   "id": "1e6c4156",
   "metadata": {},
   "outputs": [],
   "source": [
    "\n",
    "# 연습문제 \n",
    "# 1(3)\n",
    "# 2(4)\n",
    "# 3 __init__.py\n",
    "# 4. __all__\n",
    "# 5. (1)"
   ]
  },
  {
   "cell_type": "code",
   "execution_count": null,
   "id": "f9e7e6b7",
   "metadata": {},
   "outputs": [],
   "source": []
  },
  {
   "cell_type": "code",
   "execution_count": null,
   "id": "d7b0b400",
   "metadata": {},
   "outputs": [],
   "source": []
  },
  {
   "cell_type": "code",
   "execution_count": null,
   "id": "ca8f5e34",
   "metadata": {},
   "outputs": [],
   "source": []
  },
  {
   "cell_type": "code",
   "execution_count": null,
   "id": "90b9f6c7",
   "metadata": {},
   "outputs": [],
   "source": []
  },
  {
   "cell_type": "code",
   "execution_count": null,
   "id": "8c37fb24",
   "metadata": {},
   "outputs": [],
   "source": []
  },
  {
   "cell_type": "code",
   "execution_count": null,
   "id": "84b30a76",
   "metadata": {},
   "outputs": [],
   "source": []
  }
 ],
 "metadata": {
  "kernelspec": {
   "display_name": "Python 3",
   "language": "python",
   "name": "python3"
  },
  "language_info": {
   "codemirror_mode": {
    "name": "ipython",
    "version": 3
   },
   "file_extension": ".py",
   "mimetype": "text/x-python",
   "name": "python",
   "nbconvert_exporter": "python",
   "pygments_lexer": "ipython3",
   "version": "3.8.8"
  },
  "toc": {
   "base_numbering": 1,
   "nav_menu": {},
   "number_sections": false,
   "sideBar": true,
   "skip_h1_title": false,
   "title_cell": "Table of Contents",
   "title_sidebar": "Contents",
   "toc_cell": false,
   "toc_position": {},
   "toc_section_display": true,
   "toc_window_display": false
  },
  "varInspector": {
   "cols": {
    "lenName": 16,
    "lenType": 16,
    "lenVar": 40
   },
   "kernels_config": {
    "python": {
     "delete_cmd_postfix": "",
     "delete_cmd_prefix": "del ",
     "library": "var_list.py",
     "varRefreshCmd": "print(var_dic_list())"
    },
    "r": {
     "delete_cmd_postfix": ") ",
     "delete_cmd_prefix": "rm(",
     "library": "var_list.r",
     "varRefreshCmd": "cat(var_dic_list()) "
    }
   },
   "types_to_exclude": [
    "module",
    "function",
    "builtin_function_or_method",
    "instance",
    "_Feature"
   ],
   "window_display": false
  }
 },
 "nbformat": 4,
 "nbformat_minor": 5
}
