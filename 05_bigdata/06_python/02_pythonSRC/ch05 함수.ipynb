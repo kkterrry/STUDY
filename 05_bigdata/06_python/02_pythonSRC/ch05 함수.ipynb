{
 "cells": [
  {
   "cell_type": "markdown",
   "id": "8afde019",
   "metadata": {},
   "source": [
    "<b><font size=\"6\" color=\"red\">ch05. 함수</font></b>\n",
    "- 반복해서 사용할 코드를 묶어 놓고 그것에 이름을 붙인 것.\n",
    "- 오버로딩이 불가\n",
    "- 반복해서 사용할 코드는 함수를 이용하면 훨씬 구조적이고 간결한 코드 작성\n",
    "- 함수의 정의\n",
    "```\n",
    "def 함수명([매개변수1, 매개변수2,....]):\n",
    "    명령어1\n",
    "    명령어2\n",
    "```"
   ]
  },
  {
   "cell_type": "markdown",
   "id": "e9aab74e",
   "metadata": {},
   "source": [
    "# 1절. 함수의 정의 및 사용"
   ]
  },
  {
   "cell_type": "code",
   "execution_count": 1,
   "id": "c23623b8",
   "metadata": {
    "ExecuteTime": {
     "end_time": "2021-07-21T06:46:17.021239Z",
     "start_time": "2021-07-21T06:46:17.015741Z"
    }
   },
   "outputs": [],
   "source": [
    "def my_hello(x):\n",
    "    for i in range(x):\n",
    "        print(i, 'Hello, Python')"
   ]
  },
  {
   "cell_type": "code",
   "execution_count": 2,
   "id": "c7508401",
   "metadata": {
    "ExecuteTime": {
     "end_time": "2021-07-21T06:46:38.725079Z",
     "start_time": "2021-07-21T06:46:38.714108Z"
    }
   },
   "outputs": [
    {
     "name": "stdout",
     "output_type": "stream",
     "text": [
      "0 Hello, Python\n",
      "1 Hello, Python\n",
      "2 Hello, Python\n",
      "3 Hello, Python\n",
      "4 Hello, Python\n"
     ]
    }
   ],
   "source": [
    "my_hello(5)"
   ]
  },
  {
   "cell_type": "code",
   "execution_count": 5,
   "id": "9137b593",
   "metadata": {
    "ExecuteTime": {
     "end_time": "2021-07-21T06:46:47.303744Z",
     "start_time": "2021-07-21T06:46:47.285800Z"
    }
   },
   "outputs": [],
   "source": [
    "my_hello=10"
   ]
  },
  {
   "cell_type": "code",
   "execution_count": 6,
   "id": "d0d148ef",
   "metadata": {
    "ExecuteTime": {
     "end_time": "2021-07-21T06:46:48.559068Z",
     "start_time": "2021-07-21T06:46:48.363374Z"
    },
    "scrolled": true
   },
   "outputs": [
    {
     "ename": "TypeError",
     "evalue": "'int' object is not callable",
     "output_type": "error",
     "traceback": [
      "\u001b[1;31m---------------------------------------------------------------------------\u001b[0m",
      "\u001b[1;31mTypeError\u001b[0m                                 Traceback (most recent call last)",
      "\u001b[1;32m<ipython-input-6-bb2495b19157>\u001b[0m in \u001b[0;36m<module>\u001b[1;34m\u001b[0m\n\u001b[1;32m----> 1\u001b[1;33m \u001b[0mmy_hello\u001b[0m\u001b[1;33m(\u001b[0m\u001b[1;36m5\u001b[0m\u001b[1;33m)\u001b[0m\u001b[1;33m\u001b[0m\u001b[1;33m\u001b[0m\u001b[0m\n\u001b[0m",
      "\u001b[1;31mTypeError\u001b[0m: 'int' object is not callable"
     ]
    }
   ],
   "source": [
    "my_hello(5)"
   ]
  },
  {
   "cell_type": "code",
   "execution_count": 2,
   "id": "be809ebc",
   "metadata": {
    "ExecuteTime": {
     "end_time": "2021-07-21T15:45:51.069560Z",
     "start_time": "2021-07-21T15:45:51.060584Z"
    }
   },
   "outputs": [],
   "source": [
    "def my_hello():\n",
    "    print('Hello, world')\n",
    "    print('Hello, Python')"
   ]
  },
  {
   "cell_type": "code",
   "execution_count": 3,
   "id": "69ce67fc",
   "metadata": {
    "ExecuteTime": {
     "end_time": "2021-07-21T15:45:52.805655Z",
     "start_time": "2021-07-21T15:45:52.798674Z"
    }
   },
   "outputs": [
    {
     "name": "stdout",
     "output_type": "stream",
     "text": [
      "Hello, world\n",
      "Hello, Python\n"
     ]
    }
   ],
   "source": [
    "my_hello()"
   ]
  },
  {
   "cell_type": "code",
   "execution_count": 4,
   "id": "d7127e58",
   "metadata": {
    "ExecuteTime": {
     "end_time": "2021-07-21T15:45:55.514276Z",
     "start_time": "2021-07-21T15:45:55.502306Z"
    }
   },
   "outputs": [
    {
     "data": {
      "text/plain": [
       "function"
      ]
     },
     "execution_count": 4,
     "metadata": {},
     "output_type": "execute_result"
    }
   ],
   "source": [
    "type(my_hello)"
   ]
  },
  {
   "cell_type": "code",
   "execution_count": 5,
   "id": "8d39f31c",
   "metadata": {
    "ExecuteTime": {
     "end_time": "2021-07-21T15:45:56.721983Z",
     "start_time": "2021-07-21T15:45:56.703035Z"
    }
   },
   "outputs": [
    {
     "data": {
      "text/plain": [
       "'__main__'"
      ]
     },
     "execution_count": 5,
     "metadata": {},
     "output_type": "execute_result"
    }
   ],
   "source": [
    "__name__"
   ]
  },
  {
   "cell_type": "markdown",
   "id": "ec82fef5",
   "metadata": {},
   "source": [
    "일단 __name__이라는 변수는 내가 변수로 만든 것이 아니라 원래부터 파이썬에서 정한 '이미 있는' 변수라고 한다.\n",
    "\n",
    "이 변수에는 해당 파이썬 파일의 이름 즉, 모듈의 이름(예: function1.py이면 function1이  __name__이 됨)을 담게 된다.\n",
    "\n",
    "그런데 \"그 파일 안에서\" 해당 함수를 실행시키면 __name__ 변수에 담기는 것은 그 파일 혹은, 모듈의 이름이 아니고 __main__이라는 값이 되도록 정해져 있다."
   ]
  },
  {
   "cell_type": "code",
   "execution_count": 6,
   "id": "061d6e1d",
   "metadata": {
    "ExecuteTime": {
     "end_time": "2021-07-21T15:45:57.639900Z",
     "start_time": "2021-07-21T15:45:57.634910Z"
    }
   },
   "outputs": [
    {
     "name": "stdout",
     "output_type": "stream",
     "text": [
      "Hello, world\n",
      "Hello, Python\n"
     ]
    }
   ],
   "source": [
    "if __name__=='__main__':\n",
    "    my_hello()"
   ]
  },
  {
   "cell_type": "markdown",
   "id": "5bbabcc7",
   "metadata": {},
   "source": [
    "\n",
    "이런 상황을 막기 위해 즉, import 했을 때 그 모듈안에 있는 모든 코드들이 그대로 실행되는 것을 막기 위해\n",
    "\n",
    "if __name__==\"__main__\": 으로 메인 함수 선언을 해주어야 한다고 이해하면 될 것 같다.\n",
    "\n",
    "https://lovelydiary.tistory.com/297(참고)\n"
   ]
  },
  {
   "cell_type": "code",
   "execution_count": 1,
   "id": "09b3f185",
   "metadata": {
    "ExecuteTime": {
     "end_time": "2021-07-21T07:00:49.337452Z",
     "start_time": "2021-07-21T07:00:49.319932Z"
    }
   },
   "outputs": [],
   "source": [
    "import a #a.py가 해석되서 메모리에 로드"
   ]
  },
  {
   "cell_type": "code",
   "execution_count": 2,
   "id": "e6d3b685",
   "metadata": {
    "ExecuteTime": {
     "end_time": "2021-07-21T07:00:49.916458Z",
     "start_time": "2021-07-21T07:00:49.910640Z"
    },
    "scrolled": true
   },
   "outputs": [
    {
     "name": "stdout",
     "output_type": "stream",
     "text": [
      "모듈 테스트입니다.\n",
      "더운 날씨 건강 조심하세요\n"
     ]
    }
   ],
   "source": [
    "a.test()"
   ]
  },
  {
   "cell_type": "code",
   "execution_count": 4,
   "id": "1cb8390f",
   "metadata": {
    "ExecuteTime": {
     "end_time": "2021-07-21T07:04:19.547937Z",
     "start_time": "2021-07-21T07:04:19.540023Z"
    }
   },
   "outputs": [
    {
     "name": "stdout",
     "output_type": "stream",
     "text": [
      "90\n",
      "50\n"
     ]
    }
   ],
   "source": [
    "def my_add(num1, num2, num3=0): #기본값을 갖는 매개변수(키워드 인수)는 뒤에\n",
    "    return num1+num2+num3\n",
    "print(my_add(20,30,40))\n",
    "print(my_add(20,30))"
   ]
  },
  {
   "cell_type": "markdown",
   "id": "b59902c2",
   "metadata": {},
   "source": [
    "## 1.1 docstring"
   ]
  },
  {
   "cell_type": "code",
   "execution_count": 7,
   "id": "0368cb26",
   "metadata": {
    "ExecuteTime": {
     "end_time": "2021-07-21T07:08:33.472061Z",
     "start_time": "2021-07-21T07:08:33.454109Z"
    }
   },
   "outputs": [],
   "source": [
    "def my_function():\n",
    "    \"\"\"\n",
    "    함수의 첫라인에 독스트링을 포함할 수 있습니다.\n",
    "    독스트링은 함수의 설명서를 달아주는 역할, 주석보다는 많은 기능\n",
    "    \"\"\"\n",
    "    pass"
   ]
  },
  {
   "cell_type": "code",
   "execution_count": 8,
   "id": "1d015011",
   "metadata": {
    "ExecuteTime": {
     "end_time": "2021-07-21T07:08:35.821513Z",
     "start_time": "2021-07-21T07:08:35.812408Z"
    }
   },
   "outputs": [
    {
     "name": "stdout",
     "output_type": "stream",
     "text": [
      "\n",
      "    함수의 첫라인에 독스트링을 포함할 수 있습니다.\n",
      "    독스트링은 함수의 설명서를 달아주는 역할, 주석보다는 많은 기능\n",
      "    \n"
     ]
    }
   ],
   "source": [
    "print(my_function.__doc__)"
   ]
  },
  {
   "cell_type": "code",
   "execution_count": null,
   "id": "403245d3",
   "metadata": {},
   "outputs": [],
   "source": [
    "my_function()"
   ]
  },
  {
   "cell_type": "code",
   "execution_count": 12,
   "id": "cbca7da2",
   "metadata": {
    "ExecuteTime": {
     "end_time": "2021-07-21T07:18:43.089193Z",
     "start_time": "2021-07-21T07:18:43.081241Z"
    }
   },
   "outputs": [],
   "source": [
    "def fibonacci(n):\n",
    "    \"\"\"\n",
    "    매개변수로 들어온 n값 미만의 피보나치 수열을 출력합니다.\n",
    "    ex. 매개변수로 10 : 0. 1. 1. 2. 3. 5. 8. 13. 21. 34,....\n",
    "    ex. 매개변수로 5  : 0.1.1.2.3\n",
    "    \"\"\"\n",
    "    a, b = 0, 1\n",
    "    while a < n:\n",
    "        print(a, end ='. ')\n",
    "        a, b = b, a+b\n",
    "    print()   "
   ]
  },
  {
   "cell_type": "code",
   "execution_count": 13,
   "id": "2b752b99",
   "metadata": {
    "ExecuteTime": {
     "end_time": "2021-07-21T07:18:43.616553Z",
     "start_time": "2021-07-21T07:18:43.598602Z"
    }
   },
   "outputs": [
    {
     "name": "stdout",
     "output_type": "stream",
     "text": [
      "0. 1. 1. 2. 3. \n",
      "TEST\n"
     ]
    }
   ],
   "source": [
    "if __name__=='__main__':    #__name__ == __main__은 인터프리터에서 직접 실행했을 경우에만 if문 내의 코드를 돌리라는 명령이 됩니다.\n",
    "    fibonacci(5)\n",
    "    print(\"TEST\")"
   ]
  },
  {
   "cell_type": "markdown",
   "id": "f87b9a21",
   "metadata": {},
   "source": [
    "## 1.2 지역변수(local var)와 전역변수(global var)"
   ]
  },
  {
   "cell_type": "code",
   "execution_count": 7,
   "id": "d5e01cb7",
   "metadata": {
    "ExecuteTime": {
     "end_time": "2021-07-21T15:58:32.949296Z",
     "start_time": "2021-07-21T15:58:32.934336Z"
    }
   },
   "outputs": [
    {
     "name": "stdout",
     "output_type": "stream",
     "text": [
      "100\n",
      "100\n"
     ]
    }
   ],
   "source": [
    "global_var = 100 #전역변수\n",
    "def func1():\n",
    "    print(global_var)\n",
    "func1()\n",
    "print(global_var)"
   ]
  },
  {
   "cell_type": "code",
   "execution_count": 18,
   "id": "9ed0e04a",
   "metadata": {
    "ExecuteTime": {
     "end_time": "2021-07-21T07:33:26.049195Z",
     "start_time": "2021-07-21T07:33:26.032241Z"
    }
   },
   "outputs": [
    {
     "name": "stdout",
     "output_type": "stream",
     "text": [
      "200\n"
     ]
    }
   ],
   "source": [
    "def func2():\n",
    "    local_var = 200  # 지역변수\n",
    "    print(local_var)\n",
    "func2()"
   ]
  },
  {
   "cell_type": "code",
   "execution_count": 19,
   "id": "97847689",
   "metadata": {
    "ExecuteTime": {
     "end_time": "2021-07-21T07:34:00.407674Z",
     "start_time": "2021-07-21T07:34:00.399696Z"
    }
   },
   "outputs": [
    {
     "ename": "NameError",
     "evalue": "name 'local_var' is not defined",
     "output_type": "error",
     "traceback": [
      "\u001b[1;31m---------------------------------------------------------------------------\u001b[0m",
      "\u001b[1;31mNameError\u001b[0m                                 Traceback (most recent call last)",
      "\u001b[1;32m<ipython-input-19-8852b4c53ffd>\u001b[0m in \u001b[0;36m<module>\u001b[1;34m\u001b[0m\n\u001b[1;32m----> 1\u001b[1;33m \u001b[0mlocal_var\u001b[0m\u001b[1;33m\u001b[0m\u001b[1;33m\u001b[0m\u001b[0m\n\u001b[0m",
      "\u001b[1;31mNameError\u001b[0m: name 'local_var' is not defined"
     ]
    }
   ],
   "source": [
    "local_var"
   ]
  },
  {
   "cell_type": "code",
   "execution_count": 20,
   "id": "5d34d968",
   "metadata": {
    "ExecuteTime": {
     "end_time": "2021-07-21T07:35:33.373424Z",
     "start_time": "2021-07-21T07:35:33.363451Z"
    }
   },
   "outputs": [
    {
     "name": "stdout",
     "output_type": "stream",
     "text": [
      "200\n",
      "전역변수: 100\n"
     ]
    }
   ],
   "source": [
    "g_var = 100 # 전역변수\n",
    "def func3():\n",
    "    g_var = 200 # 지역변수\n",
    "    print(g_var)\n",
    "func3()\n",
    "print('전역변수:',g_var)"
   ]
  },
  {
   "cell_type": "code",
   "execution_count": 23,
   "id": "cf5a30db",
   "metadata": {
    "ExecuteTime": {
     "end_time": "2021-07-21T07:38:46.412670Z",
     "start_time": "2021-07-21T07:38:46.392723Z"
    }
   },
   "outputs": [
    {
     "ename": "UnboundLocalError",
     "evalue": "local variable 'g_var' referenced before assignment",
     "output_type": "error",
     "traceback": [
      "\u001b[1;31m---------------------------------------------------------------------------\u001b[0m",
      "\u001b[1;31mUnboundLocalError\u001b[0m                         Traceback (most recent call last)",
      "\u001b[1;32m<ipython-input-23-41206c35a86e>\u001b[0m in \u001b[0;36m<module>\u001b[1;34m\u001b[0m\n\u001b[0;32m      5\u001b[0m     \u001b[0mg_var\u001b[0m \u001b[1;33m=\u001b[0m \u001b[1;36m200\u001b[0m  \u001b[1;31m# 지역변수\u001b[0m\u001b[1;33m\u001b[0m\u001b[1;33m\u001b[0m\u001b[0m\n\u001b[0;32m      6\u001b[0m     \u001b[0mprint\u001b[0m\u001b[1;33m(\u001b[0m\u001b[1;34m'after :'\u001b[0m\u001b[1;33m,\u001b[0m\u001b[0mg_var\u001b[0m\u001b[1;33m)\u001b[0m\u001b[1;33m\u001b[0m\u001b[1;33m\u001b[0m\u001b[0m\n\u001b[1;32m----> 7\u001b[1;33m \u001b[0mfunc3\u001b[0m\u001b[1;33m(\u001b[0m\u001b[1;33m)\u001b[0m\u001b[1;33m\u001b[0m\u001b[1;33m\u001b[0m\u001b[0m\n\u001b[0m",
      "\u001b[1;32m<ipython-input-23-41206c35a86e>\u001b[0m in \u001b[0;36mfunc3\u001b[1;34m()\u001b[0m\n\u001b[0;32m      2\u001b[0m \u001b[0mg_var\u001b[0m \u001b[1;33m=\u001b[0m \u001b[1;36m100\u001b[0m \u001b[1;31m# 전역변수\u001b[0m\u001b[1;33m\u001b[0m\u001b[1;33m\u001b[0m\u001b[0m\n\u001b[0;32m      3\u001b[0m \u001b[1;32mdef\u001b[0m \u001b[0mfunc3\u001b[0m\u001b[1;33m(\u001b[0m\u001b[1;33m)\u001b[0m\u001b[1;33m:\u001b[0m\u001b[1;33m\u001b[0m\u001b[1;33m\u001b[0m\u001b[0m\n\u001b[1;32m----> 4\u001b[1;33m     \u001b[0mprint\u001b[0m\u001b[1;33m(\u001b[0m\u001b[1;34m'before :'\u001b[0m\u001b[1;33m,\u001b[0m \u001b[0mg_var\u001b[0m\u001b[1;33m)\u001b[0m\u001b[1;33m\u001b[0m\u001b[1;33m\u001b[0m\u001b[0m\n\u001b[0m\u001b[0;32m      5\u001b[0m     \u001b[0mg_var\u001b[0m \u001b[1;33m=\u001b[0m \u001b[1;36m200\u001b[0m  \u001b[1;31m# 지역변수\u001b[0m\u001b[1;33m\u001b[0m\u001b[1;33m\u001b[0m\u001b[0m\n\u001b[0;32m      6\u001b[0m     \u001b[0mprint\u001b[0m\u001b[1;33m(\u001b[0m\u001b[1;34m'after :'\u001b[0m\u001b[1;33m,\u001b[0m\u001b[0mg_var\u001b[0m\u001b[1;33m)\u001b[0m\u001b[1;33m\u001b[0m\u001b[1;33m\u001b[0m\u001b[0m\n",
      "\u001b[1;31mUnboundLocalError\u001b[0m: local variable 'g_var' referenced before assignment"
     ]
    }
   ],
   "source": [
    "# 렉시컬 특성\n",
    "g_var = 100 # 전역변수\n",
    "def func3():\n",
    "    print('before :', g_var)\n",
    "    g_var = 200  # 지역변수\n",
    "    print('after :',g_var)\n",
    "func3()"
   ]
  },
  {
   "cell_type": "code",
   "execution_count": 24,
   "id": "722952d0",
   "metadata": {
    "ExecuteTime": {
     "end_time": "2021-07-21T07:45:52.062849Z",
     "start_time": "2021-07-21T07:45:52.045895Z"
    }
   },
   "outputs": [
    {
     "name": "stdout",
     "output_type": "stream",
     "text": [
      "before : 100\n",
      "after : 200\n",
      "200\n"
     ]
    }
   ],
   "source": [
    "g_var = 100 # 전역변수\n",
    "def func3():\n",
    "    global g_var # func3 함수 내에서의 g_var는 전역변수로 쓸거야\n",
    "    print('before :', g_var)  #fun3함수 내의 g_var는 전역변수\n",
    "    g_var = 200  #전역변수\n",
    "    print('after :',g_var)\n",
    "func3()\n",
    "print(g_var)"
   ]
  },
  {
   "cell_type": "markdown",
   "id": "04bb694a",
   "metadata": {},
   "source": [
    "## 1.3값에 의한 호출\n",
    "- 함수에 매개변수(인수)로 전달되는 변수가 스칼라 변수(숫자, 문자, 논리)일 경우"
   ]
  },
  {
   "cell_type": "code",
   "execution_count": 28,
   "id": "b10c5e10",
   "metadata": {
    "ExecuteTime": {
     "end_time": "2021-07-21T07:55:49.239630Z",
     "start_time": "2021-07-21T07:55:49.226637Z"
    }
   },
   "outputs": [
    {
     "data": {
      "text/plain": [
       "1529612877488"
      ]
     },
     "execution_count": 28,
     "metadata": {},
     "output_type": "execute_result"
    }
   ],
   "source": [
    "foo = 'a'  #전역변수\n",
    "id(foo)"
   ]
  },
  {
   "cell_type": "code",
   "execution_count": 41,
   "id": "249ed6d3",
   "metadata": {
    "ExecuteTime": {
     "end_time": "2021-07-21T08:09:14.954650Z",
     "start_time": "2021-07-21T08:09:14.946675Z"
    }
   },
   "outputs": [
    {
     "name": "stdout",
     "output_type": "stream",
     "text": [
      "Before :  a 의 주소는 1529612877488\n",
      "After :  aaa 의 주소는 1529691063600\n"
     ]
    }
   ],
   "source": [
    "def func1(f): #매개변수는 지역변수\n",
    "    print('Before : ', f, '의 주소는',id(f))\n",
    "    f = f*3\n",
    "    print('After : ', f, '의 주소는',id(f))\n",
    "func1(foo)"
   ]
  },
  {
   "cell_type": "code",
   "execution_count": 32,
   "id": "46dfa3b1",
   "metadata": {
    "ExecuteTime": {
     "end_time": "2021-07-21T08:00:09.065390Z",
     "start_time": "2021-07-21T08:00:09.058408Z"
    }
   },
   "outputs": [
    {
     "name": "stdout",
     "output_type": "stream",
     "text": [
      "a\n",
      "1529612877488\n"
     ]
    }
   ],
   "source": [
    "print(foo)\n",
    "print(id(foo))"
   ]
  },
  {
   "cell_type": "markdown",
   "id": "f59480e1",
   "metadata": {},
   "source": [
    "## 1.4 참조에 의한 호출\n",
    "- 함수에 인수로 전달되는 변수가 리스트, 딕셔너리, 셋, ....일 경우"
   ]
  },
  {
   "cell_type": "code",
   "execution_count": 33,
   "id": "a9a82677",
   "metadata": {
    "ExecuteTime": {
     "end_time": "2021-07-21T08:01:36.448063Z",
     "start_time": "2021-07-21T08:01:36.440110Z"
    }
   },
   "outputs": [
    {
     "data": {
      "text/plain": [
       "1529689945088"
      ]
     },
     "execution_count": 33,
     "metadata": {},
     "output_type": "execute_result"
    }
   ],
   "source": [
    "L = [1,2,3,4,5]\n",
    "id(L)"
   ]
  },
  {
   "cell_type": "code",
   "execution_count": 35,
   "id": "be0c3992",
   "metadata": {
    "ExecuteTime": {
     "end_time": "2021-07-21T08:03:51.349728Z",
     "start_time": "2021-07-21T08:03:51.339233Z"
    }
   },
   "outputs": [
    {
     "name": "stdout",
     "output_type": "stream",
     "text": [
      "before :  [1, 2, 3, 4, 5] 의 주소는  1529689945088\n",
      "after :  [1, 2, 3, 4, 5, 6] 의 주소는  1529689945088\n",
      "[1, 2, 3, 4, 5, 6]\n"
     ]
    }
   ],
   "source": [
    "def func2(f): #매개변수는 지역변수\n",
    "    print('before : ', f,'의 주소는 ', id(f))\n",
    "    f.append(6)\n",
    "    print('after : ', f, '의 주소는 ', id(f))\n",
    "func2(L)\n",
    "print(L)"
   ]
  },
  {
   "cell_type": "markdown",
   "id": "64edd498",
   "metadata": {},
   "source": [
    "## 1.5 함수의 이름 변경\n",
    "- python : 함수형 언어, 객체지향언어"
   ]
  },
  {
   "cell_type": "code",
   "execution_count": 37,
   "id": "0ea0da5a",
   "metadata": {
    "ExecuteTime": {
     "end_time": "2021-07-21T08:07:47.189688Z",
     "start_time": "2021-07-21T08:07:47.172734Z"
    }
   },
   "outputs": [],
   "source": [
    "def fibonacci(n):\n",
    "    \"\"\"\n",
    "    매개변수로 들어온 n값 미만의 피보나치 수열을 출력합니다.\n",
    "    ex. 매개변수로 10 : 0. 1. 1. 2. 3. 5. 8. 13. 21. 34,....\n",
    "    ex. 매개변수로 5  : 0.1.1.2.3\n",
    "    \"\"\"\n",
    "    a, b = 0, 1\n",
    "    while a < n:\n",
    "        print(a, end ='. ')\n",
    "        a, b = b, a+b\n",
    "    print()"
   ]
  },
  {
   "cell_type": "code",
   "execution_count": 38,
   "id": "1edad7ad",
   "metadata": {
    "ExecuteTime": {
     "end_time": "2021-07-21T08:08:00.437518Z",
     "start_time": "2021-07-21T08:08:00.418569Z"
    }
   },
   "outputs": [
    {
     "data": {
      "text/plain": [
       "function"
      ]
     },
     "execution_count": 38,
     "metadata": {},
     "output_type": "execute_result"
    }
   ],
   "source": [
    "type(fibonacci)"
   ]
  },
  {
   "cell_type": "code",
   "execution_count": 39,
   "id": "c6d36261",
   "metadata": {
    "ExecuteTime": {
     "end_time": "2021-07-21T08:08:21.322367Z",
     "start_time": "2021-07-21T08:08:21.315389Z"
    }
   },
   "outputs": [],
   "source": [
    "fibo = fibonacci"
   ]
  },
  {
   "cell_type": "code",
   "execution_count": 40,
   "id": "af9e9615",
   "metadata": {
    "ExecuteTime": {
     "end_time": "2021-07-21T08:08:38.079734Z",
     "start_time": "2021-07-21T08:08:38.066737Z"
    }
   },
   "outputs": [
    {
     "name": "stdout",
     "output_type": "stream",
     "text": [
      "0. 1. 1. 2. 3. 5. 8. \n"
     ]
    }
   ],
   "source": [
    "fibo(10)"
   ]
  },
  {
   "cell_type": "code",
   "execution_count": 42,
   "id": "a7671810",
   "metadata": {
    "ExecuteTime": {
     "end_time": "2021-07-21T08:09:36.972240Z",
     "start_time": "2021-07-21T08:09:36.955260Z"
    }
   },
   "outputs": [],
   "source": [
    "p = print"
   ]
  },
  {
   "cell_type": "code",
   "execution_count": 43,
   "id": "380f1454",
   "metadata": {
    "ExecuteTime": {
     "end_time": "2021-07-21T08:09:48.565752Z",
     "start_time": "2021-07-21T08:09:48.559769Z"
    }
   },
   "outputs": [
    {
     "name": "stdout",
     "output_type": "stream",
     "text": [
      "Hello, Python\n"
     ]
    }
   ],
   "source": [
    "p('Hello, Python')"
   ]
  },
  {
   "cell_type": "code",
   "execution_count": 44,
   "id": "1a98f47f",
   "metadata": {
    "ExecuteTime": {
     "end_time": "2021-07-21T08:09:55.531134Z",
     "start_time": "2021-07-21T08:09:55.526115Z"
    }
   },
   "outputs": [],
   "source": [
    "del(p)"
   ]
  },
  {
   "cell_type": "markdown",
   "id": "72c70a42",
   "metadata": {},
   "source": [
    "# 2절. 함수의 실행 결과를 반환하는 return"
   ]
  },
  {
   "cell_type": "code",
   "execution_count": 48,
   "id": "31c25d8f",
   "metadata": {
    "ExecuteTime": {
     "end_time": "2021-07-21T08:17:22.899945Z",
     "start_time": "2021-07-21T08:17:22.885983Z"
    }
   },
   "outputs": [],
   "source": [
    "def fibonacci_print(n):\n",
    "    \"\"\"\n",
    "    매개변수 n값 미만의 피보나치 수열을 출력\n",
    "    \"\"\"\n",
    "    a, b = 0,1\n",
    "    while a < n:\n",
    "        print(a, end=' ')\n",
    "        a, b = b, a+b\n",
    "    print()\n",
    "\n",
    "def fibonacci(n):\n",
    "    \"\"\"\n",
    "    n값 미만의 피보나치 수열(list)를 return\n",
    "    \"\"\"\n",
    "    result = []\n",
    "    a, b = 0, 1\n",
    "    while a < n:\n",
    "        result.append(a)\n",
    "        a, b = b, a+b\n",
    "    return result\n",
    "    "
   ]
  },
  {
   "cell_type": "code",
   "execution_count": 51,
   "id": "e8b40d24",
   "metadata": {
    "ExecuteTime": {
     "end_time": "2021-07-21T08:18:00.919928Z",
     "start_time": "2021-07-21T08:18:00.910949Z"
    }
   },
   "outputs": [
    {
     "name": "stdout",
     "output_type": "stream",
     "text": [
      "0 1 1 2 3 5 8 \n"
     ]
    }
   ],
   "source": [
    "x= fibonacci_print(10)"
   ]
  },
  {
   "cell_type": "code",
   "execution_count": 52,
   "id": "09eb2f99",
   "metadata": {
    "ExecuteTime": {
     "end_time": "2021-07-21T08:18:02.158509Z",
     "start_time": "2021-07-21T08:18:02.148568Z"
    }
   },
   "outputs": [
    {
     "name": "stdout",
     "output_type": "stream",
     "text": [
      "None\n"
     ]
    }
   ],
   "source": [
    "fibonacci(10)\n",
    "print(x)"
   ]
  },
  {
   "cell_type": "code",
   "execution_count": 53,
   "id": "eff9be7a",
   "metadata": {
    "ExecuteTime": {
     "end_time": "2021-07-21T08:18:16.904344Z",
     "start_time": "2021-07-21T08:18:16.894371Z"
    }
   },
   "outputs": [
    {
     "name": "stdout",
     "output_type": "stream",
     "text": [
      "[0, 1, 1, 2, 3, 5, 8]\n"
     ]
    }
   ],
   "source": [
    "x=fibonacci(10)\n",
    "print(x)"
   ]
  },
  {
   "cell_type": "markdown",
   "id": "c6307935",
   "metadata": {},
   "source": [
    " ## 2.1 여러개 값 반환"
   ]
  },
  {
   "cell_type": "code",
   "execution_count": 56,
   "id": "34dc4418",
   "metadata": {
    "ExecuteTime": {
     "end_time": "2021-07-21T08:37:48.480589Z",
     "start_time": "2021-07-21T08:37:48.467040Z"
    }
   },
   "outputs": [],
   "source": [
    "def swap(a,b):\n",
    "    return b,a"
   ]
  },
  {
   "cell_type": "code",
   "execution_count": 57,
   "id": "9e878f7e",
   "metadata": {
    "ExecuteTime": {
     "end_time": "2021-07-21T08:37:50.158078Z",
     "start_time": "2021-07-21T08:37:50.146074Z"
    }
   },
   "outputs": [
    {
     "name": "stdout",
     "output_type": "stream",
     "text": [
      "함수 실행전 5 10\n",
      "함수 실행전 10 5\n"
     ]
    }
   ],
   "source": [
    "x,y = 5, 10\n",
    "print('함수 실행전', x, y)\n",
    "x, y = swap(x, y)\n",
    "print('함수 실행후', x, y)"
   ]
  },
  {
   "cell_type": "code",
   "execution_count": 58,
   "id": "9a4882d9",
   "metadata": {
    "ExecuteTime": {
     "end_time": "2021-07-21T08:39:43.627173Z",
     "start_time": "2021-07-21T08:39:43.614206Z"
    }
   },
   "outputs": [
    {
     "name": "stdout",
     "output_type": "stream",
     "text": [
      "<class 'tuple'>\n",
      "(5, 10)\n"
     ]
    }
   ],
   "source": [
    "a= swap(x,y)\n",
    "print(type(a))\n",
    "print(a)"
   ]
  },
  {
   "cell_type": "markdown",
   "id": "f3b266c0",
   "metadata": {},
   "source": [
    "# 3절. 함수의 매개변수 ★"
   ]
  },
  {
   "cell_type": "markdown",
   "id": "459ee1d2",
   "metadata": {
    "ExecuteTime": {
     "end_time": "2021-07-21T08:49:27.423739Z",
     "start_time": "2021-07-21T08:49:27.415722Z"
    }
   },
   "source": [
    "## 3.1 기본값을 갖는 매개변수"
   ]
  },
  {
   "cell_type": "code",
   "execution_count": 60,
   "id": "1e287f99",
   "metadata": {
    "ExecuteTime": {
     "end_time": "2021-07-21T08:51:05.903675Z",
     "start_time": "2021-07-21T08:51:05.891707Z"
    }
   },
   "outputs": [],
   "source": [
    "def make_url(ip, port = 80):\n",
    "    return \"http://{}:{}\".format(ip, port)"
   ]
  },
  {
   "cell_type": "code",
   "execution_count": 62,
   "id": "3967f6b8",
   "metadata": {
    "ExecuteTime": {
     "end_time": "2021-07-21T08:53:08.619512Z",
     "start_time": "2021-07-21T08:53:08.606542Z"
    }
   },
   "outputs": [
    {
     "name": "stdout",
     "output_type": "stream",
     "text": [
      "http://localhost:9090\n",
      "http://www.naver.com:9090\n",
      "http://localhost:80\n"
     ]
    }
   ],
   "source": [
    "print(make_url('localhost', 9090))\n",
    "print(make_url(port=9090, ip=\"www.naver.com\"))\n",
    "print(make_url(\"localhost\"))"
   ]
  },
  {
   "cell_type": "markdown",
   "id": "bd0e7d82",
   "metadata": {},
   "source": [
    "## 3.2 기본 변수를 갖는 매개변수 "
   ]
  },
  {
   "cell_type": "code",
   "execution_count": 64,
   "id": "e7c510c0",
   "metadata": {
    "ExecuteTime": {
     "end_time": "2021-07-21T08:57:47.213391Z",
     "start_time": "2021-07-21T08:57:47.196438Z"
    }
   },
   "outputs": [],
   "source": [
    "i = 5\n",
    "#  기본 변수가 스칼라변수(문자,숫자,논리)일 때: arg의 기본값은 함수가 정의되는 시점에서 한번만 평가됩니다.\n",
    "def func2(arg = i):\n",
    "    print('arg =', arg)"
   ]
  },
  {
   "cell_type": "code",
   "execution_count": 66,
   "id": "eaa60eaf",
   "metadata": {
    "ExecuteTime": {
     "end_time": "2021-07-21T08:58:47.910098Z",
     "start_time": "2021-07-21T08:58:47.903118Z"
    }
   },
   "outputs": [
    {
     "name": "stdout",
     "output_type": "stream",
     "text": [
      "arg = 5\n"
     ]
    }
   ],
   "source": [
    "i = 6\n",
    "func2()"
   ]
  },
  {
   "cell_type": "code",
   "execution_count": 69,
   "id": "1a818c77",
   "metadata": {
    "ExecuteTime": {
     "end_time": "2021-07-21T09:05:25.924492Z",
     "start_time": "2021-07-21T09:05:25.906506Z"
    }
   },
   "outputs": [
    {
     "name": "stdout",
     "output_type": "stream",
     "text": [
      "[1]\n",
      "[1]\n"
     ]
    }
   ],
   "source": [
    "# 기본변수가 리스트, 셋, 딕셔너리 또는 객체일때\n",
    "list_ = []\n",
    "def func3(a, L = list_):\n",
    "    L.append(a)\n",
    "    return L\n",
    "\n",
    "print(func3(1))\n",
    "print(list_)"
   ]
  },
  {
   "cell_type": "code",
   "execution_count": 70,
   "id": "4b560377",
   "metadata": {
    "ExecuteTime": {
     "end_time": "2021-07-21T09:06:18.647978Z",
     "start_time": "2021-07-21T09:06:18.635502Z"
    }
   },
   "outputs": [
    {
     "name": "stdout",
     "output_type": "stream",
     "text": [
      "[1, 100]\n",
      "[1, 100]\n"
     ]
    }
   ],
   "source": [
    "print(func3(100))\n",
    "print(list_)"
   ]
  },
  {
   "cell_type": "code",
   "execution_count": 71,
   "id": "1f0894d4",
   "metadata": {
    "ExecuteTime": {
     "end_time": "2021-07-21T09:09:24.431613Z",
     "start_time": "2021-07-21T09:09:24.424434Z"
    }
   },
   "outputs": [
    {
     "name": "stdout",
     "output_type": "stream",
     "text": [
      "[1]\n"
     ]
    }
   ],
   "source": [
    "def func4(a, L = []):\n",
    "    L.append(a)\n",
    "    return L\n",
    "\n",
    "result = func4(1)\n",
    "print(result)"
   ]
  },
  {
   "cell_type": "code",
   "execution_count": 72,
   "id": "ce785e9c",
   "metadata": {
    "ExecuteTime": {
     "end_time": "2021-07-21T09:10:11.404708Z",
     "start_time": "2021-07-21T09:10:11.400685Z"
    }
   },
   "outputs": [
    {
     "name": "stdout",
     "output_type": "stream",
     "text": [
      "[1, 2]\n"
     ]
    }
   ],
   "source": [
    "result = func4(2)\n",
    "print(result)"
   ]
  },
  {
   "cell_type": "markdown",
   "id": "13f90ae1",
   "metadata": {},
   "source": [
    "## 3.3 순서인수, 키워드 인수\n",
    "- 순서인수와 키워드인수(기본값을 갖는 인수)가 같이 올때는 키워드 인수가 반드시 뒤에 온다.\n",
    "  (키워드인수가 앞에 오게 되면 정의할때 부터 애러)\n",
    "  ```\n",
    "  def function명(변수명1, 변수명2, 변수명3=기본값):\n",
    "                 순서인수             키워드인수\n",
    "  ```"
   ]
  },
  {
   "cell_type": "code",
   "execution_count": 1,
   "id": "ad23dc80",
   "metadata": {
    "ExecuteTime": {
     "end_time": "2021-07-22T00:47:45.698857Z",
     "start_time": "2021-07-22T00:47:45.674888Z"
    }
   },
   "outputs": [
    {
     "data": {
      "text/plain": [
       "[1]"
      ]
     },
     "execution_count": 1,
     "metadata": {},
     "output_type": "execute_result"
    }
   ],
   "source": [
    "def func5(a, L=None):\n",
    "    if L is None:\n",
    "        L = []\n",
    "    L.append(a)\n",
    "    return L\n",
    "\n",
    "func5(1)"
   ]
  },
  {
   "cell_type": "code",
   "execution_count": 2,
   "id": "cec13692",
   "metadata": {
    "ExecuteTime": {
     "end_time": "2021-07-22T00:47:55.813730Z",
     "start_time": "2021-07-22T00:47:55.800765Z"
    }
   },
   "outputs": [
    {
     "data": {
      "text/plain": [
       "[2]"
      ]
     },
     "execution_count": 2,
     "metadata": {},
     "output_type": "execute_result"
    }
   ],
   "source": [
    "func5(2)"
   ]
  },
  {
   "cell_type": "code",
   "execution_count": 3,
   "id": "028d1d87",
   "metadata": {
    "ExecuteTime": {
     "end_time": "2021-07-22T00:48:38.087985Z",
     "start_time": "2021-07-22T00:48:38.082001Z"
    }
   },
   "outputs": [
    {
     "data": {
      "text/plain": [
       "[3]"
      ]
     },
     "execution_count": 3,
     "metadata": {},
     "output_type": "execute_result"
    }
   ],
   "source": [
    "list_=[]\n",
    "func5(3, list_) #리스트 누적"
   ]
  },
  {
   "cell_type": "code",
   "execution_count": 4,
   "id": "69f0954d",
   "metadata": {
    "ExecuteTime": {
     "end_time": "2021-07-22T00:49:20.900413Z",
     "start_time": "2021-07-22T00:49:20.894466Z"
    }
   },
   "outputs": [
    {
     "data": {
      "text/plain": [
       "[3, 4]"
      ]
     },
     "execution_count": 4,
     "metadata": {},
     "output_type": "execute_result"
    }
   ],
   "source": [
    "func5(a=4, L=list_)"
   ]
  },
  {
   "cell_type": "code",
   "execution_count": 5,
   "id": "ca66467b",
   "metadata": {
    "ExecuteTime": {
     "end_time": "2021-07-22T00:49:35.936502Z",
     "start_time": "2021-07-22T00:49:35.926502Z"
    }
   },
   "outputs": [
    {
     "data": {
      "text/plain": [
       "[3, 4, 5]"
      ]
     },
     "execution_count": 5,
     "metadata": {},
     "output_type": "execute_result"
    }
   ],
   "source": [
    "func5(L=list_, a=5)"
   ]
  },
  {
   "cell_type": "code",
   "execution_count": 7,
   "id": "8a46f93f",
   "metadata": {
    "ExecuteTime": {
     "end_time": "2021-07-22T00:50:04.902120Z",
     "start_time": "2021-07-22T00:50:04.896166Z"
    }
   },
   "outputs": [
    {
     "data": {
      "text/plain": [
       "[6]"
      ]
     },
     "execution_count": 7,
     "metadata": {},
     "output_type": "execute_result"
    }
   ],
   "source": [
    "func5(a=6)"
   ]
  },
  {
   "cell_type": "code",
   "execution_count": 8,
   "id": "69f69bd1",
   "metadata": {
    "ExecuteTime": {
     "end_time": "2021-07-22T00:50:16.619587Z",
     "start_time": "2021-07-22T00:50:16.596648Z"
    }
   },
   "outputs": [
    {
     "ename": "NameError",
     "evalue": "name 'func' is not defined",
     "output_type": "error",
     "traceback": [
      "\u001b[1;31m---------------------------------------------------------------------------\u001b[0m",
      "\u001b[1;31mNameError\u001b[0m                                 Traceback (most recent call last)",
      "\u001b[1;32m<ipython-input-8-bd1982955a12>\u001b[0m in \u001b[0;36m<module>\u001b[1;34m\u001b[0m\n\u001b[1;32m----> 1\u001b[1;33m \u001b[0mfunc\u001b[0m\u001b[1;33m(\u001b[0m\u001b[1;33m)\u001b[0m\u001b[1;33m\u001b[0m\u001b[1;33m\u001b[0m\u001b[0m\n\u001b[0m",
      "\u001b[1;31mNameError\u001b[0m: name 'func' is not defined"
     ]
    }
   ],
   "source": [
    "func()"
   ]
  },
  {
   "cell_type": "code",
   "execution_count": 9,
   "id": "603c2b66",
   "metadata": {
    "ExecuteTime": {
     "end_time": "2021-07-22T00:50:31.887784Z",
     "start_time": "2021-07-22T00:50:31.880806Z"
    }
   },
   "outputs": [
    {
     "data": {
      "text/plain": [
       "[3, 4, 5, 50]"
      ]
     },
     "execution_count": 9,
     "metadata": {},
     "output_type": "execute_result"
    }
   ],
   "source": [
    "func5(50, L=list_)"
   ]
  },
  {
   "cell_type": "code",
   "execution_count": 10,
   "id": "186892b1",
   "metadata": {
    "ExecuteTime": {
     "end_time": "2021-07-22T00:50:49.187125Z",
     "start_time": "2021-07-22T00:50:49.176160Z"
    }
   },
   "outputs": [
    {
     "ename": "SyntaxError",
     "evalue": "positional argument follows keyword argument (<ipython-input-10-ea65d799b1c7>, line 1)",
     "output_type": "error",
     "traceback": [
      "\u001b[1;36m  File \u001b[1;32m\"<ipython-input-10-ea65d799b1c7>\"\u001b[1;36m, line \u001b[1;32m1\u001b[0m\n\u001b[1;33m    func(L=list_,50)\u001b[0m\n\u001b[1;37m                 ^\u001b[0m\n\u001b[1;31mSyntaxError\u001b[0m\u001b[1;31m:\u001b[0m positional argument follows keyword argument\n"
     ]
    }
   ],
   "source": [
    "func(L=list_,50)"
   ]
  },
  {
   "cell_type": "code",
   "execution_count": 11,
   "id": "c9bf8303",
   "metadata": {
    "ExecuteTime": {
     "end_time": "2021-07-22T00:51:49.822330Z",
     "start_time": "2021-07-22T00:51:49.814350Z"
    }
   },
   "outputs": [
    {
     "ename": "TypeError",
     "evalue": "func5() got multiple values for argument 'a'",
     "output_type": "error",
     "traceback": [
      "\u001b[1;31m---------------------------------------------------------------------------\u001b[0m",
      "\u001b[1;31mTypeError\u001b[0m                                 Traceback (most recent call last)",
      "\u001b[1;32m<ipython-input-11-db8f87b1efe5>\u001b[0m in \u001b[0;36m<module>\u001b[1;34m\u001b[0m\n\u001b[1;32m----> 1\u001b[1;33m \u001b[0mfunc5\u001b[0m\u001b[1;33m(\u001b[0m\u001b[0mlist_\u001b[0m\u001b[1;33m,\u001b[0m \u001b[0ma\u001b[0m\u001b[1;33m=\u001b[0m\u001b[1;36m50\u001b[0m\u001b[1;33m)\u001b[0m\u001b[1;33m\u001b[0m\u001b[1;33m\u001b[0m\u001b[0m\n\u001b[0m",
      "\u001b[1;31mTypeError\u001b[0m: func5() got multiple values for argument 'a'"
     ]
    }
   ],
   "source": [
    "func5(list_, a=50)"
   ]
  },
  {
   "cell_type": "code",
   "execution_count": 12,
   "id": "19a47c53",
   "metadata": {
    "ExecuteTime": {
     "end_time": "2021-07-22T00:52:54.435304Z",
     "start_time": "2021-07-22T00:52:54.420335Z"
    }
   },
   "outputs": [
    {
     "data": {
      "text/plain": [
       "[[1]]"
      ]
     },
     "execution_count": 12,
     "metadata": {},
     "output_type": "execute_result"
    }
   ],
   "source": [
    "func5([1])\n",
    "# func5(a=[1])"
   ]
  },
  {
   "cell_type": "markdown",
   "id": "0358e857",
   "metadata": {},
   "source": [
    "## 3.4 튜플 매개변수를 이용한 가변인수 설정"
   ]
  },
  {
   "cell_type": "code",
   "execution_count": null,
   "id": "a22abb4c",
   "metadata": {},
   "outputs": [],
   "source": [
    "add(1,2)\n",
    "add(1,2,3)\n",
    "add(1,2,3,4)"
   ]
  },
  {
   "cell_type": "code",
   "execution_count": 13,
   "id": "a3554bc1",
   "metadata": {
    "ExecuteTime": {
     "end_time": "2021-07-22T00:56:11.562837Z",
     "start_time": "2021-07-22T00:56:11.560604Z"
    }
   },
   "outputs": [],
   "source": [
    "def add(a,b):\n",
    "    return a+b"
   ]
  },
  {
   "cell_type": "code",
   "execution_count": 16,
   "id": "51ad4c0b",
   "metadata": {
    "ExecuteTime": {
     "end_time": "2021-07-22T00:57:11.998819Z",
     "start_time": "2021-07-22T00:57:11.990839Z"
    }
   },
   "outputs": [
    {
     "data": {
      "text/plain": [
       "6"
      ]
     },
     "execution_count": 16,
     "metadata": {},
     "output_type": "execute_result"
    }
   ],
   "source": [
    "def add(a,b,c):\n",
    "    return a+b+c  #함수의 오버로딩이 안된다 앞 2개 변수함수는 삭제된다.\n",
    "add(1,2,3)"
   ]
  },
  {
   "cell_type": "code",
   "execution_count": 17,
   "id": "fc362b96",
   "metadata": {
    "ExecuteTime": {
     "end_time": "2021-07-22T00:57:15.687790Z",
     "start_time": "2021-07-22T00:57:15.674827Z"
    }
   },
   "outputs": [
    {
     "ename": "TypeError",
     "evalue": "add() missing 1 required positional argument: 'c'",
     "output_type": "error",
     "traceback": [
      "\u001b[1;31m---------------------------------------------------------------------------\u001b[0m",
      "\u001b[1;31mTypeError\u001b[0m                                 Traceback (most recent call last)",
      "\u001b[1;32m<ipython-input-17-9cd3bc5fb6d1>\u001b[0m in \u001b[0;36m<module>\u001b[1;34m\u001b[0m\n\u001b[1;32m----> 1\u001b[1;33m \u001b[0madd\u001b[0m\u001b[1;33m(\u001b[0m\u001b[1;36m2\u001b[0m\u001b[1;33m,\u001b[0m\u001b[1;36m3\u001b[0m\u001b[1;33m)\u001b[0m\u001b[1;33m\u001b[0m\u001b[1;33m\u001b[0m\u001b[0m\n\u001b[0m",
      "\u001b[1;31mTypeError\u001b[0m: add() missing 1 required positional argument: 'c'"
     ]
    }
   ],
   "source": [
    "add(2,3)"
   ]
  },
  {
   "cell_type": "code",
   "execution_count": 1,
   "id": "be9b6bec",
   "metadata": {
    "ExecuteTime": {
     "end_time": "2021-07-22T14:51:10.631629Z",
     "start_time": "2021-07-22T14:51:10.625612Z"
    }
   },
   "outputs": [],
   "source": [
    "# args의 * : args가 튜플로 전달\n",
    "def add(*args):\n",
    "    #print(args)\n",
    "    sum =0\n",
    "    for num in args:\n",
    "        sum += num\n",
    "    return sum"
   ]
  },
  {
   "cell_type": "code",
   "execution_count": 21,
   "id": "385d13a7",
   "metadata": {
    "ExecuteTime": {
     "end_time": "2021-07-22T01:01:33.626717Z",
     "start_time": "2021-07-22T01:01:33.612754Z"
    }
   },
   "outputs": [
    {
     "name": "stdout",
     "output_type": "stream",
     "text": [
      "3\n",
      "6\n"
     ]
    }
   ],
   "source": [
    "print(add(1,2))\n",
    "print(add(1,2,3))"
   ]
  },
  {
   "cell_type": "code",
   "execution_count": 22,
   "id": "dd7451b2",
   "metadata": {
    "ExecuteTime": {
     "end_time": "2021-07-22T01:03:48.579401Z",
     "start_time": "2021-07-22T01:03:48.569428Z"
    }
   },
   "outputs": [
    {
     "data": {
      "text/plain": [
       "'서울-부산'"
      ]
     },
     "execution_count": 22,
     "metadata": {},
     "output_type": "execute_result"
    }
   ],
   "source": [
    "#cf\n",
    "city = ('서울', '부산')\n",
    "'-'.join(city)"
   ]
  },
  {
   "cell_type": "code",
   "execution_count": 23,
   "id": "3f629387",
   "metadata": {
    "ExecuteTime": {
     "end_time": "2021-07-22T01:04:55.250774Z",
     "start_time": "2021-07-22T01:04:55.244789Z"
    }
   },
   "outputs": [],
   "source": [
    "def concat(*args, sep):\n",
    "    return sep.join(args)"
   ]
  },
  {
   "cell_type": "code",
   "execution_count": 24,
   "id": "3bfa2023",
   "metadata": {
    "ExecuteTime": {
     "end_time": "2021-07-22T01:06:11.847219Z",
     "start_time": "2021-07-22T01:06:11.837246Z"
    }
   },
   "outputs": [
    {
     "ename": "TypeError",
     "evalue": "concat() missing 1 required keyword-only argument: 'sep'",
     "output_type": "error",
     "traceback": [
      "\u001b[1;31m---------------------------------------------------------------------------\u001b[0m",
      "\u001b[1;31mTypeError\u001b[0m                                 Traceback (most recent call last)",
      "\u001b[1;32m<ipython-input-24-aa760360bf55>\u001b[0m in \u001b[0;36m<module>\u001b[1;34m\u001b[0m\n\u001b[1;32m----> 1\u001b[1;33m \u001b[0mconcat\u001b[0m\u001b[1;33m(\u001b[0m\u001b[1;34m'Java'\u001b[0m\u001b[1;33m,\u001b[0m\u001b[1;34m'Oracle'\u001b[0m\u001b[1;33m,\u001b[0m\u001b[1;34m'Web'\u001b[0m\u001b[1;33m,\u001b[0m\u001b[1;34m'R'\u001b[0m\u001b[1;33m,\u001b[0m\u001b[1;34m'Python'\u001b[0m\u001b[1;33m,\u001b[0m\u001b[1;34m'-'\u001b[0m\u001b[1;33m)\u001b[0m\u001b[1;33m\u001b[0m\u001b[1;33m\u001b[0m\u001b[0m\n\u001b[0m",
      "\u001b[1;31mTypeError\u001b[0m: concat() missing 1 required keyword-only argument: 'sep'"
     ]
    }
   ],
   "source": [
    "concat('Java','Oracle','Web','R','Python','-')"
   ]
  },
  {
   "cell_type": "code",
   "execution_count": 25,
   "id": "15346289",
   "metadata": {
    "ExecuteTime": {
     "end_time": "2021-07-22T01:07:25.827023Z",
     "start_time": "2021-07-22T01:07:25.814065Z"
    }
   },
   "outputs": [
    {
     "data": {
      "text/plain": [
       "'Java-Oracle-Python'"
      ]
     },
     "execution_count": 25,
     "metadata": {},
     "output_type": "execute_result"
    }
   ],
   "source": [
    "# 해결책 1\n",
    "concat('Java', 'Oracle', 'Python', sep ='-')"
   ]
  },
  {
   "cell_type": "code",
   "execution_count": 26,
   "id": "a85b5344",
   "metadata": {
    "ExecuteTime": {
     "end_time": "2021-07-22T01:09:27.770699Z",
     "start_time": "2021-07-22T01:09:27.759727Z"
    }
   },
   "outputs": [],
   "source": [
    "# 해결책 2\n",
    "def concat(sep, *args):\n",
    "    return sep.join(args)"
   ]
  },
  {
   "cell_type": "code",
   "execution_count": 27,
   "id": "bdaab8f8",
   "metadata": {
    "ExecuteTime": {
     "end_time": "2021-07-22T01:09:55.721442Z",
     "start_time": "2021-07-22T01:09:55.706449Z"
    }
   },
   "outputs": [
    {
     "data": {
      "text/plain": [
       "'Java-Oracle-Python'"
      ]
     },
     "execution_count": 27,
     "metadata": {},
     "output_type": "execute_result"
    }
   ],
   "source": [
    "concat('-', 'Java','Oracle','Python')"
   ]
  },
  {
   "cell_type": "code",
   "execution_count": 28,
   "id": "9eb7182a",
   "metadata": {
    "ExecuteTime": {
     "end_time": "2021-07-22T01:11:32.460962Z",
     "start_time": "2021-07-22T01:11:32.447998Z"
    }
   },
   "outputs": [
    {
     "data": {
      "text/plain": [
       "'OracleJavaPython'"
      ]
     },
     "execution_count": 28,
     "metadata": {},
     "output_type": "execute_result"
    }
   ],
   "source": [
    "concat('Java','Oracle','Python')"
   ]
  },
  {
   "cell_type": "code",
   "execution_count": 31,
   "id": "244a7589",
   "metadata": {
    "ExecuteTime": {
     "end_time": "2021-07-22T01:13:13.653385Z",
     "start_time": "2021-07-22T01:13:13.647403Z"
    }
   },
   "outputs": [],
   "source": [
    "# 해결책3\n",
    "def concat(*args, sep='/'): #순서인수 > 튜플인수 > 키워드인수\n",
    "    return sep.join(args)"
   ]
  },
  {
   "cell_type": "code",
   "execution_count": 32,
   "id": "d35aa446",
   "metadata": {
    "ExecuteTime": {
     "end_time": "2021-07-22T01:13:15.637535Z",
     "start_time": "2021-07-22T01:13:15.624499Z"
    }
   },
   "outputs": [
    {
     "data": {
      "text/plain": [
       "'Java/Oracle/Python'"
      ]
     },
     "execution_count": 32,
     "metadata": {},
     "output_type": "execute_result"
    }
   ],
   "source": [
    "concat('Java','Oracle','Python')"
   ]
  },
  {
   "cell_type": "code",
   "execution_count": 35,
   "id": "711202d4",
   "metadata": {
    "ExecuteTime": {
     "end_time": "2021-07-22T01:17:44.682049Z",
     "start_time": "2021-07-22T01:17:44.670080Z"
    }
   },
   "outputs": [
    {
     "data": {
      "text/plain": [
       "'Java~Oracle~Python'"
      ]
     },
     "execution_count": 35,
     "metadata": {},
     "output_type": "execute_result"
    }
   ],
   "source": [
    "concat('Java', 'Oracle', 'Python', sep='~')"
   ]
  },
  {
   "cell_type": "markdown",
   "id": "a03c049d",
   "metadata": {},
   "source": [
    "## 3.5 딕셔너리 매개변수\n",
    "- 순서인수, 튜플인수, 키워드 인수, 딕셔너리 인수 등은 같이 사용될 수 있음. 순서를 유의해서"
   ]
  },
  {
   "cell_type": "code",
   "execution_count": 37,
   "id": "3a4b404d",
   "metadata": {
    "ExecuteTime": {
     "end_time": "2021-07-22T01:36:59.677497Z",
     "start_time": "2021-07-22T01:36:59.664573Z"
    }
   },
   "outputs": [
    {
     "name": "stdout",
     "output_type": "stream",
     "text": [
      "name : 홍길동\n",
      "age : 20\n",
      "address : 서울시\n"
     ]
    }
   ],
   "source": [
    "def func6(**args): # args가 딕셔너리로 전달\n",
    "    for key, value in args.items():\n",
    "        print(\"{} : {}\".format(key, value))\n",
    "func6(name=\"홍길동\", age=20, address=\"서울시\")\n"
   ]
  },
  {
   "cell_type": "code",
   "execution_count": 38,
   "id": "8e7392e7",
   "metadata": {
    "ExecuteTime": {
     "end_time": "2021-07-22T01:39:46.429860Z",
     "start_time": "2021-07-22T01:39:46.425900Z"
    }
   },
   "outputs": [],
   "source": [
    "# 순서인수, 튜플인수, 딕셔너리인수\n",
    "def func7(a, *b, **c):\n",
    "    print('a =', a)\n",
    "    print('b =', b)\n",
    "    print('c =', c)"
   ]
  },
  {
   "cell_type": "code",
   "execution_count": 39,
   "id": "864cbd9a",
   "metadata": {
    "ExecuteTime": {
     "end_time": "2021-07-22T01:40:42.291221Z",
     "start_time": "2021-07-22T01:40:42.273268Z"
    }
   },
   "outputs": [
    {
     "name": "stdout",
     "output_type": "stream",
     "text": [
      "a = 10\n",
      "b = (1, 2, 3, 4, 5, 6, 7, 8, 9, 0)\n",
      "c = {'name': 'kim', 'age': 30}\n"
     ]
    }
   ],
   "source": [
    "func7(10, 1,2,3,4,5,6,7,8,9,0, name='kim', age=30)"
   ]
  },
  {
   "cell_type": "markdown",
   "id": "6213c7f0",
   "metadata": {},
   "source": [
    "## 3.7 함수 정의 시 매개변수의 순서\n",
    "<b> 순서인수 > 튜플인수(*) > 키워드인수(기본값) > 딕셔너리인수(**)"
   ]
  },
  {
   "cell_type": "code",
   "execution_count": 40,
   "id": "64d76bc6",
   "metadata": {
    "ExecuteTime": {
     "end_time": "2021-07-22T01:47:40.904598Z",
     "start_time": "2021-07-22T01:47:40.887644Z"
    }
   },
   "outputs": [],
   "source": [
    "def func(a,b,c,*d,e=10,**f):\n",
    "    print('a =',a)\n",
    "    print('b =',b)\n",
    "    print('c =',c)\n",
    "    print('d =',d)\n",
    "    print('e =',e)\n",
    "    print('f =',f)"
   ]
  },
  {
   "cell_type": "code",
   "execution_count": 41,
   "id": "416092dc",
   "metadata": {
    "ExecuteTime": {
     "end_time": "2021-07-22T01:49:00.904921Z",
     "start_time": "2021-07-22T01:49:00.898937Z"
    }
   },
   "outputs": [
    {
     "name": "stdout",
     "output_type": "stream",
     "text": [
      "a = 10\n",
      "b = 20\n",
      "c = 30\n",
      "d = (1, 2, 3, 4, 5, 6, 7)\n",
      "e = 100\n",
      "f = {'name': 'kim', 'age': 30, 'address': '서울시'}\n"
     ]
    }
   ],
   "source": [
    "func(10,20,30, 1,2,3,4,5,6,7, e=100, name='kim', age=30, address='서울시')"
   ]
  },
  {
   "cell_type": "markdown",
   "id": "1424b1f5",
   "metadata": {},
   "source": [
    "## 3.7 인수의 언패킹"
   ]
  },
  {
   "cell_type": "markdown",
   "id": "2a754828",
   "metadata": {},
   "source": [
    "### 튜플 언패킹"
   ]
  },
  {
   "cell_type": "code",
   "execution_count": 42,
   "id": "e0934d34",
   "metadata": {
    "ExecuteTime": {
     "end_time": "2021-07-22T01:51:26.306043Z",
     "start_time": "2021-07-22T01:51:26.301085Z"
    }
   },
   "outputs": [],
   "source": [
    "def add(*args):\n",
    "    sum = 0;\n",
    "    for num in args:\n",
    "        sum += num\n",
    "    return sum"
   ]
  },
  {
   "cell_type": "code",
   "execution_count": 43,
   "id": "7f5ec51f",
   "metadata": {
    "ExecuteTime": {
     "end_time": "2021-07-22T01:51:51.882648Z",
     "start_time": "2021-07-22T01:51:51.873645Z"
    }
   },
   "outputs": [
    {
     "data": {
      "text/plain": [
       "45"
      ]
     },
     "execution_count": 43,
     "metadata": {},
     "output_type": "execute_result"
    }
   ],
   "source": [
    "numbers = (1,2,3,4,5,6,7,8,9)\n",
    "add(1,2,3,4,5,6,7,8,9)"
   ]
  },
  {
   "cell_type": "code",
   "execution_count": 45,
   "id": "81783ad1",
   "metadata": {
    "ExecuteTime": {
     "end_time": "2021-07-22T01:53:29.333816Z",
     "start_time": "2021-07-22T01:53:29.316818Z"
    }
   },
   "outputs": [
    {
     "data": {
      "text/plain": [
       "45"
      ]
     },
     "execution_count": 45,
     "metadata": {},
     "output_type": "execute_result"
    }
   ],
   "source": [
    "add(*numbers) # 튜플 언패킹"
   ]
  },
  {
   "cell_type": "code",
   "execution_count": 46,
   "id": "ba0c3a39",
   "metadata": {
    "ExecuteTime": {
     "end_time": "2021-07-22T01:54:34.459271Z",
     "start_time": "2021-07-22T01:54:34.449272Z"
    }
   },
   "outputs": [
    {
     "data": {
      "text/plain": [
       "range(0, 10)"
      ]
     },
     "execution_count": 46,
     "metadata": {},
     "output_type": "execute_result"
    }
   ],
   "source": [
    "# 예제 :\n",
    "range(10)"
   ]
  },
  {
   "cell_type": "code",
   "execution_count": 48,
   "id": "aa603dd3",
   "metadata": {
    "ExecuteTime": {
     "end_time": "2021-07-22T01:55:32.149721Z",
     "start_time": "2021-07-22T01:55:32.130772Z"
    }
   },
   "outputs": [
    {
     "name": "stdout",
     "output_type": "stream",
     "text": [
      "[0, 1, 2, 3, 4, 5, 6, 7, 8, 9]\n",
      "[4, 5, 6, 7, 8, 9]\n",
      "[4, 6, 8]\n"
     ]
    }
   ],
   "source": [
    "# 예제 : 다음과 같은 결과를 return하는 함수를 작성하고 stst하시오.\n",
    "# range2(10) => [0,1,2,3,4,5,6,7,8,9,10]\n",
    "# range2(4,10) => [4,5,6,7,8,9,10]\n",
    "# range2(4,10,2) => [4,6,8,10]"
   ]
  },
  {
   "cell_type": "code",
   "execution_count": 59,
   "id": "514705f0",
   "metadata": {
    "ExecuteTime": {
     "end_time": "2021-07-22T02:19:56.709308Z",
     "start_time": "2021-07-22T02:19:56.693352Z"
    }
   },
   "outputs": [],
   "source": [
    "def range2(*args):\n",
    "    result = []\n",
    "    length = len(args)\n",
    "    if length == 0:\n",
    "        raise Exception('매개변수가 하나이상 필요합니다.')\n",
    "    elif length == 1:\n",
    "        for i in range(args[0]+1):\n",
    "            result.append(i)\n",
    "    elif length ==2:\n",
    "        for i in range(args[0], args[1]+1):\n",
    "            result.append(i)\n",
    "    elif length ==3:\n",
    "        for i in range(args[0], args[1]+1, args[2]):\n",
    "            result.append(i)\n",
    "    else:\n",
    "        print('4개부터 안됨')\n",
    "        return ''\n",
    "    return result    \n"
   ]
  },
  {
   "cell_type": "code",
   "execution_count": 60,
   "id": "919cc3f3",
   "metadata": {
    "ExecuteTime": {
     "end_time": "2021-07-22T02:19:59.006023Z",
     "start_time": "2021-07-22T02:19:58.988072Z"
    }
   },
   "outputs": [
    {
     "name": "stdout",
     "output_type": "stream",
     "text": [
      "매개변수가 하나이상 필요합니다.\n"
     ]
    }
   ],
   "source": [
    "try:\n",
    "    range2()\n",
    "except Exception as e:\n",
    "    print(e)"
   ]
  },
  {
   "cell_type": "code",
   "execution_count": 61,
   "id": "c1f22d7f",
   "metadata": {
    "ExecuteTime": {
     "end_time": "2021-07-22T02:20:00.770831Z",
     "start_time": "2021-07-22T02:20:00.763851Z"
    }
   },
   "outputs": [
    {
     "name": "stdout",
     "output_type": "stream",
     "text": [
      "[0, 1, 2, 3, 4, 5, 6, 7, 8, 9, 10]\n",
      "[4, 5, 6, 7, 8, 9, 10]\n",
      "[4, 6, 8, 10]\n",
      "4개부터 안됨\n",
      "\n"
     ]
    }
   ],
   "source": [
    "print(range2(10))\n",
    "print(range2(4,10))\n",
    "print(range2(4,10,2))\n",
    "print(range2(4,10,2,2))"
   ]
  },
  {
   "cell_type": "markdown",
   "id": "bf8691a6",
   "metadata": {},
   "source": [
    "### 딕셔너리 인수 언패킹"
   ]
  },
  {
   "cell_type": "code",
   "execution_count": 62,
   "id": "e4b5f713",
   "metadata": {
    "ExecuteTime": {
     "end_time": "2021-07-22T02:37:10.724523Z",
     "start_time": "2021-07-22T02:37:10.716545Z"
    }
   },
   "outputs": [
    {
     "name": "stdout",
     "output_type": "stream",
     "text": [
      "('height', 100)\n",
      "('width', 200)\n",
      "('shape', 'rect')\n"
     ]
    }
   ],
   "source": [
    "def func(**data):\n",
    "    for item in data.items():\n",
    "        print(item)\n",
    "func(height=100, width=200, shape=\"rect\")"
   ]
  },
  {
   "cell_type": "code",
   "execution_count": 64,
   "id": "b2ab8e54",
   "metadata": {
    "ExecuteTime": {
     "end_time": "2021-07-22T02:39:20.145147Z",
     "start_time": "2021-07-22T02:39:20.141159Z"
    }
   },
   "outputs": [
    {
     "name": "stdout",
     "output_type": "stream",
     "text": [
      "('height', 100)\n",
      "('width', 200)\n",
      "('shape', 'rect')\n"
     ]
    }
   ],
   "source": [
    "info = {'height':100, 'width':200, 'shape':'rect'}\n",
    "# func(info)\n",
    "func(**info)  #딕셔너리 언패킹"
   ]
  },
  {
   "cell_type": "markdown",
   "id": "735e0c11",
   "metadata": {},
   "source": [
    "# 4절. 람다식\n",
    "- 람다식은 작은 익명함수를 의미한다\n",
    "- 실행할 문장을 한문장만 작성할 수 있다\n",
    "- return 구문이 없어도 statement 결과 반환한다\n",
    "- 리스트 컴프리헨션과 같이 참조해서 학습 추천\n",
    "- filter(), map()함수 같이 참조해서 학습 추천"
   ]
  },
  {
   "cell_type": "markdown",
   "id": "a4240471",
   "metadata": {},
   "source": [
    "## 4.1 람다식 ; return 한줄짜리 작은 익명함수"
   ]
  },
  {
   "cell_type": "code",
   "execution_count": 65,
   "id": "cf671971",
   "metadata": {
    "ExecuteTime": {
     "end_time": "2021-07-22T02:55:10.868240Z",
     "start_time": "2021-07-22T02:55:10.858267Z"
    }
   },
   "outputs": [
    {
     "data": {
      "text/plain": [
       "8"
      ]
     },
     "execution_count": 65,
     "metadata": {},
     "output_type": "execute_result"
    }
   ],
   "source": [
    "def add(a,b):\n",
    "    return a+b\n",
    "add(3,5)"
   ]
  },
  {
   "cell_type": "code",
   "execution_count": 72,
   "id": "a069ece1",
   "metadata": {
    "ExecuteTime": {
     "end_time": "2021-07-22T02:59:19.831958Z",
     "start_time": "2021-07-22T02:59:19.822984Z"
    }
   },
   "outputs": [],
   "source": [
    "add = lambda a, b : a+b"
   ]
  },
  {
   "cell_type": "code",
   "execution_count": 73,
   "id": "c5d03cd4",
   "metadata": {
    "ExecuteTime": {
     "end_time": "2021-07-22T02:59:34.898010Z",
     "start_time": "2021-07-22T02:59:34.884049Z"
    }
   },
   "outputs": [
    {
     "data": {
      "text/plain": [
       "8"
      ]
     },
     "execution_count": 73,
     "metadata": {},
     "output_type": "execute_result"
    }
   ],
   "source": [
    "add(3,5)"
   ]
  },
  {
   "cell_type": "code",
   "execution_count": 74,
   "id": "3cbeaab8",
   "metadata": {
    "ExecuteTime": {
     "end_time": "2021-07-22T03:00:01.839205Z",
     "start_time": "2021-07-22T03:00:01.823216Z"
    }
   },
   "outputs": [
    {
     "data": {
      "text/plain": [
       "function"
      ]
     },
     "execution_count": 74,
     "metadata": {},
     "output_type": "execute_result"
    }
   ],
   "source": [
    "type(add)"
   ]
  },
  {
   "cell_type": "code",
   "execution_count": 92,
   "id": "5a0ea37d",
   "metadata": {
    "ExecuteTime": {
     "end_time": "2021-07-22T03:47:47.459888Z",
     "start_time": "2021-07-22T03:47:47.452940Z"
    }
   },
   "outputs": [
    {
     "data": {
      "text/plain": [
       "12"
      ]
     },
     "execution_count": 92,
     "metadata": {},
     "output_type": "execute_result"
    }
   ],
   "source": [
    "(lambda a, b : a+b)(10,2)"
   ]
  },
  {
   "cell_type": "code",
   "execution_count": null,
   "id": "91991c73",
   "metadata": {},
   "outputs": [],
   "source": []
  },
  {
   "cell_type": "markdown",
   "id": "fedb02a6",
   "metadata": {},
   "source": [
    "# 4.2 함수의 매개변수(인수)에 람다식 사용"
   ]
  },
  {
   "cell_type": "code",
   "execution_count": 78,
   "id": "42af5afc",
   "metadata": {
    "ExecuteTime": {
     "end_time": "2021-07-22T03:10:16.271583Z",
     "start_time": "2021-07-22T03:10:16.257433Z"
    }
   },
   "outputs": [],
   "source": [
    "def map_template(func, L=[]):\n",
    "    result = []\n",
    "    for item in L:\n",
    "        result.append(func(item))\n",
    "    return result\n",
    "    "
   ]
  },
  {
   "cell_type": "code",
   "execution_count": 79,
   "id": "eb8735bf",
   "metadata": {
    "ExecuteTime": {
     "end_time": "2021-07-22T03:10:17.540163Z",
     "start_time": "2021-07-22T03:10:17.519187Z"
    }
   },
   "outputs": [
    {
     "data": {
      "text/plain": [
       "[2, 4, 6, 8, 10, 12, 14, 16, 18]"
      ]
     },
     "execution_count": 79,
     "metadata": {},
     "output_type": "execute_result"
    }
   ],
   "source": [
    "list_data = [1,2,3,4,5,6,7,8,9]\n",
    "def x_2(x):\n",
    "    return x*2\n",
    "\n",
    "map_template(x_2, list_data)"
   ]
  },
  {
   "cell_type": "code",
   "execution_count": 80,
   "id": "88d82ae4",
   "metadata": {
    "ExecuteTime": {
     "end_time": "2021-07-22T03:11:41.165496Z",
     "start_time": "2021-07-22T03:11:41.149550Z"
    }
   },
   "outputs": [
    {
     "data": {
      "text/plain": [
       "[2, 4, 6, 8, 10, 12, 14, 16, 18]"
      ]
     },
     "execution_count": 80,
     "metadata": {},
     "output_type": "execute_result"
    }
   ],
   "source": [
    "map_template(lambda x : x*2, list_data)"
   ]
  },
  {
   "cell_type": "code",
   "execution_count": 81,
   "id": "ea53263b",
   "metadata": {
    "ExecuteTime": {
     "end_time": "2021-07-22T03:13:55.037164Z",
     "start_time": "2021-07-22T03:13:55.031182Z"
    }
   },
   "outputs": [
    {
     "data": {
      "text/plain": [
       "[1, 4, 9, 16, 25, 36, 49, 64, 81]"
      ]
     },
     "execution_count": 81,
     "metadata": {},
     "output_type": "execute_result"
    }
   ],
   "source": [
    "# map() 함수 이용\n",
    "list(map(lambda x : x**2, list_data))"
   ]
  },
  {
   "cell_type": "code",
   "execution_count": 82,
   "id": "7d038953",
   "metadata": {
    "ExecuteTime": {
     "end_time": "2021-07-22T03:15:03.532671Z",
     "start_time": "2021-07-22T03:15:03.518716Z"
    }
   },
   "outputs": [
    {
     "data": {
      "text/plain": [
       "[2, 4, 6, 8, 10, 12, 14, 16, 18]"
      ]
     },
     "execution_count": 82,
     "metadata": {},
     "output_type": "execute_result"
    }
   ],
   "source": [
    "# 리스트 컴프리헨션 이용\n",
    "[x*2 for x in list_data]"
   ]
  },
  {
   "cell_type": "code",
   "execution_count": 84,
   "id": "d2d0ab6b",
   "metadata": {
    "ExecuteTime": {
     "end_time": "2021-07-22T03:39:07.191992Z",
     "start_time": "2021-07-22T03:39:07.173621Z"
    }
   },
   "outputs": [],
   "source": [
    "def filter_template(func, L=[]):\n",
    "    result = []\n",
    "    for item in L:\n",
    "        if func(item):\n",
    "            result.append(item)\n",
    "    return result"
   ]
  },
  {
   "cell_type": "code",
   "execution_count": 85,
   "id": "b542ae0e",
   "metadata": {
    "ExecuteTime": {
     "end_time": "2021-07-22T03:39:10.104679Z",
     "start_time": "2021-07-22T03:39:10.089685Z"
    }
   },
   "outputs": [
    {
     "data": {
      "text/plain": [
       "[2, 4]"
      ]
     },
     "execution_count": 85,
     "metadata": {},
     "output_type": "execute_result"
    }
   ],
   "source": [
    "list_data = [1,2,3,4,5]\n",
    "def evenChk(x):\n",
    "    return x%2==0\n",
    "\n",
    "filter_template(evenChk, list_data)"
   ]
  },
  {
   "cell_type": "code",
   "execution_count": 86,
   "id": "37dca4d9",
   "metadata": {
    "ExecuteTime": {
     "end_time": "2021-07-22T03:41:29.014298Z",
     "start_time": "2021-07-22T03:41:29.008306Z"
    }
   },
   "outputs": [
    {
     "data": {
      "text/plain": [
       "[2, 4]"
      ]
     },
     "execution_count": 86,
     "metadata": {},
     "output_type": "execute_result"
    }
   ],
   "source": [
    "filter_template(lambda x : x%2==0, list_data)"
   ]
  },
  {
   "cell_type": "code",
   "execution_count": 87,
   "id": "9edb4ecf",
   "metadata": {
    "ExecuteTime": {
     "end_time": "2021-07-22T03:42:34.103274Z",
     "start_time": "2021-07-22T03:42:34.086320Z"
    }
   },
   "outputs": [
    {
     "data": {
      "text/plain": [
       "[1, 3, 5]"
      ]
     },
     "execution_count": 87,
     "metadata": {},
     "output_type": "execute_result"
    }
   ],
   "source": [
    "# filter 함수\n",
    "list(filter(lambda x : x%2==1, list_data ))"
   ]
  },
  {
   "cell_type": "code",
   "execution_count": 88,
   "id": "46958941",
   "metadata": {
    "ExecuteTime": {
     "end_time": "2021-07-22T03:43:43.973823Z",
     "start_time": "2021-07-22T03:43:43.955844Z"
    }
   },
   "outputs": [
    {
     "data": {
      "text/plain": [
       "[1, 3, 5]"
      ]
     },
     "execution_count": 88,
     "metadata": {},
     "output_type": "execute_result"
    }
   ],
   "source": [
    "# 리스트 컴프리핸션\n",
    "[x for x in list_data if x%2==1]"
   ]
  },
  {
   "cell_type": "code",
   "execution_count": 91,
   "id": "a9dfe60f",
   "metadata": {
    "ExecuteTime": {
     "end_time": "2021-07-22T03:47:31.538593Z",
     "start_time": "2021-07-22T03:47:31.526603Z"
    }
   },
   "outputs": [
    {
     "name": "stdout",
     "output_type": "stream",
     "text": [
      "[1, 2, 3, 4, 5]\n",
      "[1, 2, 3, 4, 5]\n"
     ]
    }
   ],
   "source": [
    "# 문제 : 다음 리스트에서 정수만 추출하시오. (힌트. filter 함수, 람다식 이용. / 리스트 컴프리핸션)\n",
    "L = [1, 1.2, 1.5, 2, 3, 10.5, 100]\n",
    "\n",
    "print([x for x in list_data if round(x)==x])\n",
    "print(list(filter(lambda x :round(x)==x, list_data)))"
   ]
  },
  {
   "cell_type": "markdown",
   "id": "dac8323a",
   "metadata": {},
   "source": [
    "**람다식은 함수가 실행할 문장이 한 문장일 경우만 사용** <br>\n",
    "**람다식이 가장 많이 사용되는 곳은 함수의 인수로 전달할 때나 함수를 return 할 때**"
   ]
  },
  {
   "cell_type": "code",
   "execution_count": 93,
   "id": "b45e3335",
   "metadata": {
    "ExecuteTime": {
     "end_time": "2021-07-22T03:56:58.442510Z",
     "start_time": "2021-07-22T03:56:58.427996Z"
    }
   },
   "outputs": [
    {
     "data": {
      "text/plain": [
       "[0, 3, 5, 7, 10]"
      ]
     },
     "execution_count": 93,
     "metadata": {},
     "output_type": "execute_result"
    }
   ],
   "source": [
    "p = [10,3,5,7,0]\n",
    "p.sort()\n",
    "p"
   ]
  },
  {
   "cell_type": "code",
   "execution_count": 94,
   "id": "eafeda92",
   "metadata": {
    "ExecuteTime": {
     "end_time": "2021-07-22T03:59:29.724593Z",
     "start_time": "2021-07-22T03:59:29.709627Z"
    }
   },
   "outputs": [
    {
     "data": {
      "text/plain": [
       "[(1, 'one'), (2, 'two'), (3, 'three'), (4, 'four')]"
      ]
     },
     "execution_count": 94,
     "metadata": {},
     "output_type": "execute_result"
    }
   ],
   "source": [
    "pairs = [(1, 'one'),(4, 'four'), (2,'two'), (3,'three')]\n",
    "pairs.sort() # 첫번째 요소들만 비교해서 sort한다\n",
    "pairs"
   ]
  },
  {
   "cell_type": "code",
   "execution_count": 95,
   "id": "9c90b4af",
   "metadata": {
    "ExecuteTime": {
     "end_time": "2021-07-22T04:03:32.264180Z",
     "start_time": "2021-07-22T04:03:32.255205Z"
    }
   },
   "outputs": [
    {
     "data": {
      "text/plain": [
       "[(4, 'four'), (1, 'one'), (3, 'three'), (2, 'two')]"
      ]
     },
     "execution_count": 95,
     "metadata": {},
     "output_type": "execute_result"
    }
   ],
   "source": [
    "pairs.sort(key = lambda pair : pair[1])\n",
    "pairs"
   ]
  },
  {
   "cell_type": "code",
   "execution_count": 98,
   "id": "bab7b830",
   "metadata": {
    "ExecuteTime": {
     "end_time": "2021-07-22T04:08:00.350384Z",
     "start_time": "2021-07-22T04:08:00.331411Z"
    }
   },
   "outputs": [
    {
     "name": "stdout",
     "output_type": "stream",
     "text": [
      "100\n",
      "1000000\n"
     ]
    }
   ],
   "source": [
    "def apply(data, func=None):\n",
    "    if func is None:\n",
    "#   if func is None:\n",
    "        return data\n",
    "    else:\n",
    "        return func(data)\n",
    "print(apply(100))\n",
    "print(apply(100, lambda x : x**3))"
   ]
  },
  {
   "cell_type": "code",
   "execution_count": 97,
   "id": "7ffd8c39",
   "metadata": {
    "ExecuteTime": {
     "end_time": "2021-07-22T04:06:41.422915Z",
     "start_time": "2021-07-22T04:06:41.405959Z"
    }
   },
   "outputs": [
    {
     "data": {
      "text/plain": [
       "3"
      ]
     },
     "execution_count": 97,
     "metadata": {},
     "output_type": "execute_result"
    }
   ],
   "source": [
    "apply(3)"
   ]
  },
  {
   "cell_type": "markdown",
   "id": "7618adac",
   "metadata": {},
   "source": [
    "## 4.3 리턴문에 람다식 이용"
   ]
  },
  {
   "cell_type": "code",
   "execution_count": 99,
   "id": "7998cdce",
   "metadata": {
    "ExecuteTime": {
     "end_time": "2021-07-22T04:18:29.605766Z",
     "start_time": "2021-07-22T04:18:29.591807Z"
    }
   },
   "outputs": [],
   "source": [
    "# 함수를 return 하는 함수\n",
    "'''\n",
    "make_box((2,)) => 1차원 2열 list를 만드는 함수 return\n",
    "    fun = make_box((2,))\n",
    "    fun (10) => [10,10]\n",
    "make_box([3,4]) => 2차원 3행 4열 list를 만드는 함수를 리턴\n",
    "    fun = make_box((3,4))\n",
    "    fun(10) => [[10,10,10],[10,10,10],[10,10,10],[10,10,10]]\n",
    "'''\n",
    "def make_box(shape):\n",
    "    def box(init_value):\n",
    "        if len(shape) == 1:\n",
    "            return [init_value] * shape[0]\n",
    "        elif len(shape) ==2:\n",
    "            return [[init_value] * shape[1]]* shape[0]\n",
    "    return box\n"
   ]
  },
  {
   "cell_type": "code",
   "execution_count": 104,
   "id": "f6202679",
   "metadata": {
    "ExecuteTime": {
     "end_time": "2021-07-22T05:41:39.106228Z",
     "start_time": "2021-07-22T05:41:39.091235Z"
    }
   },
   "outputs": [
    {
     "data": {
      "text/plain": [
       "function"
      ]
     },
     "execution_count": 104,
     "metadata": {},
     "output_type": "execute_result"
    }
   ],
   "source": [
    "line = make_box((5,))\n",
    "type(line)"
   ]
  },
  {
   "cell_type": "code",
   "execution_count": 105,
   "id": "759a9810",
   "metadata": {
    "ExecuteTime": {
     "end_time": "2021-07-22T05:41:41.864380Z",
     "start_time": "2021-07-22T05:41:41.852383Z"
    }
   },
   "outputs": [
    {
     "data": {
      "text/plain": [
       "[7, 7, 7, 7, 7]"
      ]
     },
     "execution_count": 105,
     "metadata": {},
     "output_type": "execute_result"
    }
   ],
   "source": [
    "line(7)"
   ]
  },
  {
   "cell_type": "code",
   "execution_count": 106,
   "id": "0044ddda",
   "metadata": {
    "ExecuteTime": {
     "end_time": "2021-07-22T05:42:34.837875Z",
     "start_time": "2021-07-22T05:42:34.823887Z"
    }
   },
   "outputs": [
    {
     "data": {
      "text/plain": [
       "function"
      ]
     },
     "execution_count": 106,
     "metadata": {},
     "output_type": "execute_result"
    }
   ],
   "source": [
    "box2d = make_box([2,3])\n",
    "type(box2d)"
   ]
  },
  {
   "cell_type": "code",
   "execution_count": 107,
   "id": "2a4f6b1a",
   "metadata": {
    "ExecuteTime": {
     "end_time": "2021-07-22T05:42:45.333780Z",
     "start_time": "2021-07-22T05:42:45.328793Z"
    }
   },
   "outputs": [],
   "source": [
    "box2d(7)"
   ]
  },
  {
   "cell_type": "code",
   "execution_count": 109,
   "id": "fd7f1eea",
   "metadata": {
    "ExecuteTime": {
     "end_time": "2021-07-22T05:50:08.739963Z",
     "start_time": "2021-07-22T05:50:08.729978Z"
    }
   },
   "outputs": [],
   "source": [
    "# Lambda 식을 return\n",
    "def make_box1(shape):\n",
    "    if len (shape) == 1:\n",
    "        return lambda init_value : [init_value] * shape[0]\n",
    "    elif len(shape) == 2:\n",
    "        return lambda init_value : [[init_value] * shape[1]]*shape[0]"
   ]
  },
  {
   "cell_type": "code",
   "execution_count": 110,
   "id": "f860dbb7",
   "metadata": {
    "ExecuteTime": {
     "end_time": "2021-07-22T05:50:12.171491Z",
     "start_time": "2021-07-22T05:50:12.160522Z"
    }
   },
   "outputs": [
    {
     "data": {
      "text/plain": [
       "function"
      ]
     },
     "execution_count": 110,
     "metadata": {},
     "output_type": "execute_result"
    }
   ],
   "source": [
    "line = make_box1([3])\n",
    "type(line)"
   ]
  },
  {
   "cell_type": "code",
   "execution_count": 111,
   "id": "1aabb331",
   "metadata": {
    "ExecuteTime": {
     "end_time": "2021-07-22T05:50:20.278944Z",
     "start_time": "2021-07-22T05:50:20.270979Z"
    }
   },
   "outputs": [
    {
     "data": {
      "text/plain": [
       "[7, 7, 7]"
      ]
     },
     "execution_count": 111,
     "metadata": {},
     "output_type": "execute_result"
    }
   ],
   "source": [
    "line(7)"
   ]
  },
  {
   "cell_type": "code",
   "execution_count": 112,
   "id": "bbd2dd99",
   "metadata": {
    "ExecuteTime": {
     "end_time": "2021-07-22T05:50:47.495761Z",
     "start_time": "2021-07-22T05:50:47.486790Z"
    }
   },
   "outputs": [
    {
     "data": {
      "text/plain": [
       "function"
      ]
     },
     "execution_count": 112,
     "metadata": {},
     "output_type": "execute_result"
    }
   ],
   "source": [
    "box2d = make_box1([2,3])\n",
    "type(box2d)"
   ]
  },
  {
   "cell_type": "code",
   "execution_count": 113,
   "id": "d8bf9cc0",
   "metadata": {
    "ExecuteTime": {
     "end_time": "2021-07-22T05:50:58.382816Z",
     "start_time": "2021-07-22T05:50:58.372835Z"
    }
   },
   "outputs": [
    {
     "data": {
      "text/plain": [
       "[[4, 4, 4], [4, 4, 4]]"
      ]
     },
     "execution_count": 113,
     "metadata": {},
     "output_type": "execute_result"
    }
   ],
   "source": [
    "box2d(4)"
   ]
  },
  {
   "cell_type": "code",
   "execution_count": 119,
   "id": "e55421a2",
   "metadata": {
    "ExecuteTime": {
     "end_time": "2021-07-22T06:03:29.115544Z",
     "start_time": "2021-07-22T06:03:29.102585Z"
    }
   },
   "outputs": [
    {
     "data": {
      "text/plain": [
       "'유급'"
      ]
     },
     "execution_count": 119,
     "metadata": {},
     "output_type": "execute_result"
    }
   ],
   "source": [
    "def levelChk(score):\n",
    "    if score >= 80 :\n",
    "        return \"A등급\"\n",
    "    elif score >= 70:\n",
    "        return \"B등급\"\n",
    "    else :\n",
    "        return \"유급\"\n",
    "levelChk(7)\n"
   ]
  },
  {
   "cell_type": "code",
   "execution_count": 120,
   "id": "210bf3e0",
   "metadata": {
    "ExecuteTime": {
     "end_time": "2021-07-22T06:05:26.240380Z",
     "start_time": "2021-07-22T06:05:26.230407Z"
    }
   },
   "outputs": [],
   "source": [
    "levelChk = lambda score : \"A등급\" if score>=80 else \\\n",
    "            (\"B등급\" if score>=70 else \"유급\")"
   ]
  },
  {
   "cell_type": "code",
   "execution_count": 115,
   "id": "118c502b",
   "metadata": {
    "ExecuteTime": {
     "end_time": "2021-07-22T05:56:11.739432Z",
     "start_time": "2021-07-22T05:56:11.720495Z"
    }
   },
   "outputs": [
    {
     "data": {
      "text/plain": [
       "'짝수'"
      ]
     },
     "execution_count": 115,
     "metadata": {},
     "output_type": "execute_result"
    }
   ],
   "source": [
    "even_odd_chk = lambda num : \"짝수\" if num%2==0 else \"홀수\"\n",
    "even_odd_chk(8)"
   ]
  },
  {
   "cell_type": "code",
   "execution_count": null,
   "id": "ef958825",
   "metadata": {},
   "outputs": [],
   "source": [
    "def score_grade(score):\n",
    "    if 90 <= score <= 100:\n",
    "        return \"A\"\n",
    "    elif 80 <= score < 90:\n",
    "        return \"B\"\n",
    "    elif 70 <= score < 80:\n",
    "        return \"C\"\n",
    "    elif 60 <= score < 70:\n",
    "        return \"D\"\n",
    "    elif 0 <= score <= 60:\n",
    "        return \"F\"\n",
    "    else:\n",
    "        return \"유효하지 않는 점수\""
   ]
  },
  {
   "cell_type": "code",
   "execution_count": 121,
   "id": "1d6e75f9",
   "metadata": {
    "ExecuteTime": {
     "end_time": "2021-07-22T06:10:08.475523Z",
     "start_time": "2021-07-22T06:10:08.467538Z"
    }
   },
   "outputs": [],
   "source": [
    "levelchk = lambda score : \"A\" if 90 <= score <= 100 else \"B\" if 80 <= score < 90 else \"C\" if 70 <= score < 80 else \\\n",
    "                (\"D\" if 60 <= score < 70 else \"F\" if 0 <= score <= 60 else \"유효하지 않은 점수\")"
   ]
  },
  {
   "cell_type": "code",
   "execution_count": 122,
   "id": "11e890af",
   "metadata": {
    "ExecuteTime": {
     "end_time": "2021-07-22T06:10:20.298418Z",
     "start_time": "2021-07-22T06:10:20.289930Z"
    }
   },
   "outputs": [
    {
     "data": {
      "text/plain": [
       "'B'"
      ]
     },
     "execution_count": 122,
     "metadata": {},
     "output_type": "execute_result"
    }
   ],
   "source": [
    "levelchk(80)"
   ]
  },
  {
   "cell_type": "markdown",
   "id": "52f1a5f9",
   "metadata": {},
   "source": [
    "# 5절. 파이썬 내장함수\n",
    "- import하지 않고 사용 가능한 함수. 키워드처럼 간주됨으로 식별자로 사용하는 것을 피함"
   ]
  },
  {
   "cell_type": "code",
   "execution_count": 124,
   "id": "db41204e",
   "metadata": {
    "ExecuteTime": {
     "end_time": "2021-07-22T06:35:27.047809Z",
     "start_time": "2021-07-22T06:35:27.044849Z"
    }
   },
   "outputs": [],
   "source": [
    "def abc(n): #함수안에 있는 변수 = 지역변수\n",
    "    L=[]\n",
    "    for i in range(n):\n",
    "        L.append(i)\n",
    "    print(locals()) # 지역변수를 출력\n",
    "    return L"
   ]
  },
  {
   "cell_type": "code",
   "execution_count": 125,
   "id": "b694603f",
   "metadata": {
    "ExecuteTime": {
     "end_time": "2021-07-22T06:35:49.337245Z",
     "start_time": "2021-07-22T06:35:49.325277Z"
    }
   },
   "outputs": [
    {
     "name": "stdout",
     "output_type": "stream",
     "text": [
      "{'n': 5, 'L': [0, 1, 2, 3, 4], 'i': 4}\n"
     ]
    },
    {
     "data": {
      "text/plain": [
       "[0, 1, 2, 3, 4]"
      ]
     },
     "execution_count": 125,
     "metadata": {},
     "output_type": "execute_result"
    }
   ],
   "source": [
    "abc(5)"
   ]
  },
  {
   "cell_type": "code",
   "execution_count": null,
   "id": "ecc4009b",
   "metadata": {},
   "outputs": [],
   "source": []
  },
  {
   "cell_type": "code",
   "execution_count": 123,
   "id": "5eb16166",
   "metadata": {
    "ExecuteTime": {
     "end_time": "2021-07-22T06:34:57.391403Z",
     "start_time": "2021-07-22T06:34:57.362510Z"
    }
   },
   "outputs": [
    {
     "data": {
      "text/plain": [
       "{'__name__': '__main__',\n",
       " '__doc__': '\\nmake_box((2,)) => 1차원 2열 list를 만드는 함수 return\\n    fun = make_box((2,))\\n    fun (10) => [10,10]\\nmake_box([3,4]) => 2차원 3행 4열 list를 만드는 함수를 리턴\\n    fun = make_box((3,4))\\n    fun(10) => [[10,10,10],[10,10,10],[10,10,10],[10,10,10]]\\n',\n",
       " '__package__': None,\n",
       " '__loader__': None,\n",
       " '__spec__': None,\n",
       " '__builtin__': <module 'builtins' (built-in)>,\n",
       " '__builtins__': <module 'builtins' (built-in)>,\n",
       " '_ih': ['',\n",
       "  'def func5(a, L=None):\\n    if L is None:\\n        L = []\\n    L.append(a)\\n    return L\\n\\nfunc5(1)',\n",
       "  'func5(2)',\n",
       "  'list_=[]\\nfunc5(3, list_)',\n",
       "  'func5(a=4, L=list_)',\n",
       "  'func5(L=list_, a=5)',\n",
       "  'func(a=6)',\n",
       "  'func5(a=6)',\n",
       "  'func()',\n",
       "  'func5(50, L=list_)',\n",
       "  'func(L=list_,50)',\n",
       "  'func5(list_, a=50)',\n",
       "  'func5([1])',\n",
       "  'def add(a,b):\\n    return a+b',\n",
       "  'def add(a,b,c):\\n    return a+b+c',\n",
       "  'def add(a,b,c):\\n    return a+b+c  #함수의 오버로딩이 안된다 앞 2개 변수함수는 삭제된다.',\n",
       "  'def add(a,b,c):\\n    return a+b+c  #함수의 오버로딩이 안된다 앞 2개 변수함수는 삭제된다.\\nadd(1,2,3)',\n",
       "  'add(2,3)',\n",
       "  '# args아ㅠ의 * : args가 튜플로 전달\\ndef add(*args):\\n    print(args)',\n",
       "  'print(add(1,2))\\nprint(add(1,2,3))',\n",
       "  '# args아ㅠ의 * : args가 튜플로 전달\\ndef add(*args):\\n    #print(args)\\n    sum =0\\n    for num in args:\\n        sum += num\\n    return sum',\n",
       "  'print(add(1,2))\\nprint(add(1,2,3))',\n",
       "  \"#cf\\ncity = ('서울', '부산')\\n'-'.join(city)\",\n",
       "  'def concat(*args, sep):\\n    return sep.join(args)',\n",
       "  \"concat('Java','Oracle','Web','R','Python','-')\",\n",
       "  \"# 해결책 1\\nconcat('Java', 'Oracle', 'Python', sep ='-')\",\n",
       "  '# 해결책 2\\ndef concat(sep, *args):\\n    return sep.join(args)',\n",
       "  \"concat('-', 'Java','Oracle','Python')\",\n",
       "  \"concat('Java','Oracle','Python')\",\n",
       "  \"# 해결책3\\ndef concat(sep='/', *args):\\n    return sep.join(args)\",\n",
       "  \"concat('Java','Oracle','Python')\",\n",
       "  \"# 해결책3\\ndef concat(*args, sep='/'):\\n    return sep.join(args)\",\n",
       "  \"concat('Java','Oracle','Python')\",\n",
       "  'def add(a, b, c):\\n    return a+b+c\\na(1,2,3)',\n",
       "  \"concat('Java', 'Oracle', 'Python', '~')\",\n",
       "  \"concat('Java', 'Oracle', 'Python', sep='~')\",\n",
       "  'def func6(**args): # args가 딕셔너리로 전달\\n    for key, value in args.items():\\n        print(\"{} : {}\".format(key, value))\\nfunc6(name=\"홍길동\", age=20)',\n",
       "  'def func6(**args): # args가 딕셔너리로 전달\\n    for key, value in args.items():\\n        print(\"{} : {}\".format(key, value))\\nfunc6(name=\"홍길동\", age=20, address=\"서울시\")',\n",
       "  \"# 순서인수, 튜플인수, 딕셔너리인수\\ndef func7(a, *b, **c):\\n    print('a =', a)\\n    print('b =', b)\\n    print('c =', c)\",\n",
       "  \"func7(10, 1,2,3,4,5,6,7,8,9,0, name='kim', age=30)\",\n",
       "  \"def func(a,b,c,*d,e=10,**f):\\n    print('a =',a)\\n    print('b =',b)\\n    print('c =',c)\\n    print('d =',d)\\n    print('e =',e)\\n    print('f =',f)\",\n",
       "  \"func(10,20,30, 1,2,3,4,5,6,7, e=100, name='kim', age=30, address='서울시')\",\n",
       "  'def add(*args):\\n    sum = 0;\\n    for num in args:\\n        sum += num\\n    return sum',\n",
       "  'numbers = (1,2,3,4,5,6,7,8,9)\\nadd(1,2,3,4,5,6,7,8,9)',\n",
       "  'add(numbers)',\n",
       "  'add(*numbers) # 튜플 언패킹',\n",
       "  '# 예제 :\\nrange(10)',\n",
       "  'print(list(range(10)))',\n",
       "  'print(list(range(10)))\\nprint(list(range(4,10)))\\nprint(list(range(4,10,2)))',\n",
       "  'def range2(*args):\\n    length = len(args)\\n    if length == 1:\\n        return range(args[0]+1)\\n    if length == 2:\\n        return range(args[0],args[1]+1)\\n    if length == 3:\\n        return range(args[0],args[1]+1,args[2])',\n",
       "  'range2(10) => [0,1,2,3,4,5,6,7,8,9,10]\\nrange2(4,10) => [4,5,6,7,8,9,10]\\nrange2(4,10,2) => [4,6,8,10]',\n",
       "  \"def range2(*args):\\n    result = []\\n    length = len(args)\\n    if length == 0:\\n        raise Exception('매개변수가 하나이상 필요합니다.')\\n    elif length == 1:\\n        for i in range(args[0]+1):\\n            result.append(i)\\n    elif length ==2:\\n        for i in range(args[0], args[1]+1):\\n            result.append(i)\\n    elif length ==3:\\n        for i in range(args[0], args[1]+1, args[2]):\\n            result.append[i]\\n    elif length>3:\\n        print('4개부터 안됨')\\n        return ''\\n    return result    \",\n",
       "  'try:\\n    range2()\\nexcept Exception as e:\\n    print(e)',\n",
       "  'try:\\n    range2()\\nexcept Exception as e:\\n    print(e)\\n\\nrange2(10) => [0,1,2,3,4,5,6,7,8,9,10]\\nrange2(4,10) => [4,5,6,7,8,9,10]\\nrange2(4,10,2) => [4,6,8,10]',\n",
       "  'try:\\n    range2()\\nexcept Exception as e:\\n    print(e)\\n\\nrange2(10) \\nrange2(4,10) \\nrange2(4,10,2)',\n",
       "  \"def range2(*args):\\n    result = []\\n    length = len(args)\\n    if length == 0:\\n        raise Exception('매개변수가 하나이상 필요합니다.')\\n    elif length == 1:\\n        for i in range(args[0]+1):\\n            result.append(i)\\n    elif length ==2:\\n        for i in range(args[0], args[1]+1):\\n            result.append(i)\\n    elif length ==3:\\n        for i in range(args[0], args[1]+1, args[2]):\\n            result.append(i)\\n    elif length>3:\\n        print('4개부터 안됨')\\n        return ''\\n    return result    \",\n",
       "  'try:\\n    range2()\\nexcept Exception as e:\\n    print(e)\\n\\nrange2(10) \\nrange2(4,10)\\nrange2(4,10,2)',\n",
       "  'try:\\n    range2()\\nexcept Exception as e:\\n    print(e)',\n",
       "  'print(range2(10))\\nprint(range2(4,10))\\nprint(range2(4,10,2))\\nprint(range2(4,10,2,2))',\n",
       "  \"def range2(*args):\\n    result = []\\n    length = len(args)\\n    if length == 0:\\n        raise Exception('매개변수가 하나이상 필요합니다.')\\n    elif length == 1:\\n        for i in range(args[0]+1):\\n            result.append(i)\\n    elif length ==2:\\n        for i in range(args[0], args[1]+1):\\n            result.append(i)\\n    elif length ==3:\\n        for i in range(args[0], args[1]+1, args[2]):\\n            result.append(i)\\n    else:\\n        print('4개부터 안됨')\\n        return ''\\n    return result    \",\n",
       "  'try:\\n    range2()\\nexcept Exception as e:\\n    print(e)',\n",
       "  'print(range2(10))\\nprint(range2(4,10))\\nprint(range2(4,10,2))\\nprint(range2(4,10,2,2))',\n",
       "  'def func(**data):\\n    for item in data.items():\\n        print(item)\\nfunc(height=100, width=200, shape=\"rect\")',\n",
       "  \"info = {'height':100, 'width':200, 'shape':'rect'}\\nfunc(info)\",\n",
       "  \"info = {'height':100, 'width':200, 'shape':'rect'}\\n# func(info)\\nfunc(**info)\",\n",
       "  'def add(a,b):\\n    return a+b\\nadd(3,5)',\n",
       "  'ad(2,5)',\n",
       "  'ad = add',\n",
       "  'ad(2,5)',\n",
       "  'print(ad(2,5))\\nprint(type(ad), type(add))',\n",
       "  'add = lambda',\n",
       "  'add = lambda a, b : a+b',\n",
       "  'add = lambda a, b : a+b',\n",
       "  'add(3,5)',\n",
       "  'type(add)',\n",
       "  '(lambda a, b a+b)(10,2)',\n",
       "  '(lambda a, b : a+b)(10,2)',\n",
       "  'list_data = [1,2,3,4,5,6,7,8,9]\\ndef x_2(x):\\n    return x*2\\n\\nmap_template(x_2, list_data)',\n",
       "  'def map_template(func, L=[]):\\n    result = []\\n    for item in L:\\n        result.append(func(item))\\n    return result\\n    ',\n",
       "  'list_data = [1,2,3,4,5,6,7,8,9]\\ndef x_2(x):\\n    return x*2\\n\\nmap_template(x_2, list_data)',\n",
       "  'map_template(lambda x : x*2, list_data)',\n",
       "  '# map() 함수 이용\\nlist(map(lambda x : x**2, list_data))',\n",
       "  '# 리스트 컴프리헨션 이용\\n[x*2 for x in list_data]',\n",
       "  'def filter_template(func, L=[]):\\n    result = []\\n    for item in L:\\n        if func(items):\\n            result.append(item)\\n    return result',\n",
       "  'def filter_template(func, L=[]):\\n    result = []\\n    for item in L:\\n        if func(item):\\n            result.append(item)\\n    return result',\n",
       "  'list_data = [1,2,3,4,5]\\ndef evenChk(x):\\n#     if x%2 == 0 \\n#         return True\\n#     else:\\n    return x%2==0\\n\\nfilter_template(evenChk, list_data)',\n",
       "  'filter_template(lambda x : x%2==0, list_data)',\n",
       "  '# filter 함수\\nlist(filter(lambda x : x%2==1, list_data ))',\n",
       "  '# 리스트 컴프리핸션\\n[x for x in list_data if x%2==1]',\n",
       "  '# 문제 : 다음 리스트에서 정수만 추출하시오. (힌트. filter 함수, 람다식 이용. / 리스트 컴프리핸션)\\nL = [1, 1.2, 1.5, 2, 3, 10.5, 100]\\n\\n[x for x in list_data if round(x)==x]',\n",
       "  '# 문제 : 다음 리스트에서 정수만 추출하시오. (힌트. filter 함수, 람다식 이용. / 리스트 컴프리핸션)\\nL = [1, 1.2, 1.5, 2, 3, 10.5, 100]\\n\\n[x for x in list_data if round(x)==x]\\nlist(filter(lambda x :round(x)==x, list_data))',\n",
       "  '# 문제 : 다음 리스트에서 정수만 추출하시오. (힌트. filter 함수, 람다식 이용. / 리스트 컴프리핸션)\\nL = [1, 1.2, 1.5, 2, 3, 10.5, 100]\\n\\nprint([x for x in list_data if round(x)==x])\\nprint(list(filter(lambda x :round(x)==x, list_data)))',\n",
       "  '(lambda a, b : a+b)(10,2)',\n",
       "  'p = [10,3,5,7,0]\\np.sort()\\np',\n",
       "  \"pairs = [(1, 'one'),(4, 'four'), (2,'two'), (3,'three')]\\npairs.sort() # 첫번째 요소들만 비교해서 sort한다\\npairs\",\n",
       "  'pairs.sort(key = lambda pair : pair[1])\\npairs',\n",
       "  'def apply(data, func=None):\\n    if func is None:\\n        return data',\n",
       "  'apply(3)',\n",
       "  'def apply(data, func=None):\\n    if func is None:\\n#   if func is None:\\n        return data\\n    else:\\n        return func(data)\\nprint(apply(100))\\nprint(apply(100, lambda x : x**3))',\n",
       "  \"# 함수를 return 하는 함수\\n'''\\nmake_box((2,)) => 1차원 2열 list를 만드는 함수 return\\n    fun = make_box((2,))\\n    fun (10) => [10,10]\\nmake_box([3,4]) => 2차원 3행 4열 list를 만드는 함수를 리턴\\n    fun = make_box((3,4))\\n    fun(10) => [[10,10,10],[10,10,10],[10,10,10],[10,10,10]]\\n'''\\ndef make_box(shape):\\n    def box(init_value):\\n        if len(shape) == 1:\\n            return [init_value] * shape[0]\\n    return box\",\n",
       "  'fun = make_box((5,))',\n",
       "  'type(fun)',\n",
       "  'fun(10)',\n",
       "  'line(7)',\n",
       "  'line = make_box((5,))\\ntype(line)',\n",
       "  'line(7)',\n",
       "  'box2d = make_box([2,3])\\ntype(box2d)',\n",
       "  'box2d(7)',\n",
       "  'line = make_box1([3])\\ntype(line)',\n",
       "  '# Lambda 식을 return\\ndef make_box1(shape):\\n    if len (shape) == 1:\\n        return lambda init_value : [init_value] * shape[0]\\n    elif len(shape) == 2:\\n        return lambda init_value : [[init_value] * shape[1]]*shape[0]',\n",
       "  'line = make_box1([3])\\ntype(line)',\n",
       "  'line(7)',\n",
       "  'box2d = make_box1([2,3])\\ntype(box2d)',\n",
       "  'box2d(4)',\n",
       "  'def even_odd(num):\\n    if num%2==0 :\\n        return \"짝수\"\\n    else:\\n        return \"홀수\"\\neven_odd(7)',\n",
       "  'even_odd_chk = lambda num : \"짝수\" if num%2==0 else \"홀수\"\\neven_odd_chk(8)',\n",
       "  'def even_odd(num):\\n    if num%2==0 :\\n        return \"짝수\"\\n    elif num%2 ==-1:\\n        return \"음수홀수\"\\n    else :\\n        return \"양수홀수\"\\neven_odd(7)',\n",
       "  'def even_odd(num):\\n    if num%2==0 :\\n        return \"짝수\"\\n    elif num%2 ==-1:\\n        return \"음수홀수\"\\n    else :\\n        return \"양수홀수\"\\neven_odd(-7)',\n",
       "  'def levelChk(score):\\n    if score >= 80 :\\n        return \"A등급\"\\n    elif score >= 70:\\n        return \"B등급\"\\n    else :\\n        return \"유급\"\\neven_odd(7)',\n",
       "  'def levelChk(score):\\n    if score >= 80 :\\n        return \"A등급\"\\n    elif score >= 70:\\n        return \"B등급\"\\n    else :\\n        return \"유급\"\\nlevelChk(7)',\n",
       "  'levelChk = lambda score : \"A등급\" if score>=80 else \\\\\\n            (\"B등급\" if score>=70 else \"유급\")',\n",
       "  'levelchk = lambda score : \"A\" if 90 <= score <= 100 else \"B\" if 80 <= score < 90 else \"C\" if 70 <= score < 80 else \\\\\\n                (\"D\" if 60 <= score < 70 else \"F\" if 0 <= score <= 60 else \"유효하지 않은 점수\")',\n",
       "  'levelchk(80)',\n",
       "  'globals() #전역변수'],\n",
       " '_oh': {1: [1],\n",
       "  2: [2],\n",
       "  3: [3, 4, 5, 50],\n",
       "  4: [3, 4, 5, 50],\n",
       "  5: [3, 4, 5, 50],\n",
       "  7: [6],\n",
       "  9: [3, 4, 5, 50],\n",
       "  12: [[1]],\n",
       "  16: 6,\n",
       "  22: '서울-부산',\n",
       "  25: 'Java-Oracle-Python',\n",
       "  27: 'Java-Oracle-Python',\n",
       "  28: 'OracleJavaPython',\n",
       "  30: 'OracleJavaPython',\n",
       "  32: 'Java/Oracle/Python',\n",
       "  34: 'Java/Oracle/Python/~',\n",
       "  35: 'Java~Oracle~Python',\n",
       "  43: 45,\n",
       "  45: 45,\n",
       "  46: range(0, 10),\n",
       "  56: [4, 6, 8, 10],\n",
       "  65: 8,\n",
       "  68: 7,\n",
       "  73: 8,\n",
       "  74: function,\n",
       "  76: 12,\n",
       "  79: [2, 4, 6, 8, 10, 12, 14, 16, 18],\n",
       "  80: [2, 4, 6, 8, 10, 12, 14, 16, 18],\n",
       "  81: [1, 4, 9, 16, 25, 36, 49, 64, 81],\n",
       "  82: [2, 4, 6, 8, 10, 12, 14, 16, 18],\n",
       "  85: [2, 4],\n",
       "  86: [2, 4],\n",
       "  87: [1, 3, 5],\n",
       "  88: [1, 3, 5],\n",
       "  89: [1, 2, 3, 4, 5],\n",
       "  90: [1, 2, 3, 4, 5],\n",
       "  92: 12,\n",
       "  93: [0, 3, 5, 7, 10],\n",
       "  94: [(4, 'four'), (1, 'one'), (3, 'three'), (2, 'two')],\n",
       "  95: [(4, 'four'), (1, 'one'), (3, 'three'), (2, 'two')],\n",
       "  97: 3,\n",
       "  101: function,\n",
       "  102: [10, 10, 10, 10, 10],\n",
       "  104: function,\n",
       "  105: [7, 7, 7, 7, 7],\n",
       "  106: function,\n",
       "  110: function,\n",
       "  111: [7, 7, 7],\n",
       "  112: function,\n",
       "  113: [[4, 4, 4], [4, 4, 4]],\n",
       "  114: '홀수',\n",
       "  115: '짝수',\n",
       "  116: '양수홀수',\n",
       "  117: '양수홀수',\n",
       "  118: '양수홀수',\n",
       "  119: '유급',\n",
       "  122: 'B'},\n",
       " '_dh': ['C:\\\\bigdata\\\\src\\\\07_python'],\n",
       " 'In': ['',\n",
       "  'def func5(a, L=None):\\n    if L is None:\\n        L = []\\n    L.append(a)\\n    return L\\n\\nfunc5(1)',\n",
       "  'func5(2)',\n",
       "  'list_=[]\\nfunc5(3, list_)',\n",
       "  'func5(a=4, L=list_)',\n",
       "  'func5(L=list_, a=5)',\n",
       "  'func(a=6)',\n",
       "  'func5(a=6)',\n",
       "  'func()',\n",
       "  'func5(50, L=list_)',\n",
       "  'func(L=list_,50)',\n",
       "  'func5(list_, a=50)',\n",
       "  'func5([1])',\n",
       "  'def add(a,b):\\n    return a+b',\n",
       "  'def add(a,b,c):\\n    return a+b+c',\n",
       "  'def add(a,b,c):\\n    return a+b+c  #함수의 오버로딩이 안된다 앞 2개 변수함수는 삭제된다.',\n",
       "  'def add(a,b,c):\\n    return a+b+c  #함수의 오버로딩이 안된다 앞 2개 변수함수는 삭제된다.\\nadd(1,2,3)',\n",
       "  'add(2,3)',\n",
       "  '# args아ㅠ의 * : args가 튜플로 전달\\ndef add(*args):\\n    print(args)',\n",
       "  'print(add(1,2))\\nprint(add(1,2,3))',\n",
       "  '# args아ㅠ의 * : args가 튜플로 전달\\ndef add(*args):\\n    #print(args)\\n    sum =0\\n    for num in args:\\n        sum += num\\n    return sum',\n",
       "  'print(add(1,2))\\nprint(add(1,2,3))',\n",
       "  \"#cf\\ncity = ('서울', '부산')\\n'-'.join(city)\",\n",
       "  'def concat(*args, sep):\\n    return sep.join(args)',\n",
       "  \"concat('Java','Oracle','Web','R','Python','-')\",\n",
       "  \"# 해결책 1\\nconcat('Java', 'Oracle', 'Python', sep ='-')\",\n",
       "  '# 해결책 2\\ndef concat(sep, *args):\\n    return sep.join(args)',\n",
       "  \"concat('-', 'Java','Oracle','Python')\",\n",
       "  \"concat('Java','Oracle','Python')\",\n",
       "  \"# 해결책3\\ndef concat(sep='/', *args):\\n    return sep.join(args)\",\n",
       "  \"concat('Java','Oracle','Python')\",\n",
       "  \"# 해결책3\\ndef concat(*args, sep='/'):\\n    return sep.join(args)\",\n",
       "  \"concat('Java','Oracle','Python')\",\n",
       "  'def add(a, b, c):\\n    return a+b+c\\na(1,2,3)',\n",
       "  \"concat('Java', 'Oracle', 'Python', '~')\",\n",
       "  \"concat('Java', 'Oracle', 'Python', sep='~')\",\n",
       "  'def func6(**args): # args가 딕셔너리로 전달\\n    for key, value in args.items():\\n        print(\"{} : {}\".format(key, value))\\nfunc6(name=\"홍길동\", age=20)',\n",
       "  'def func6(**args): # args가 딕셔너리로 전달\\n    for key, value in args.items():\\n        print(\"{} : {}\".format(key, value))\\nfunc6(name=\"홍길동\", age=20, address=\"서울시\")',\n",
       "  \"# 순서인수, 튜플인수, 딕셔너리인수\\ndef func7(a, *b, **c):\\n    print('a =', a)\\n    print('b =', b)\\n    print('c =', c)\",\n",
       "  \"func7(10, 1,2,3,4,5,6,7,8,9,0, name='kim', age=30)\",\n",
       "  \"def func(a,b,c,*d,e=10,**f):\\n    print('a =',a)\\n    print('b =',b)\\n    print('c =',c)\\n    print('d =',d)\\n    print('e =',e)\\n    print('f =',f)\",\n",
       "  \"func(10,20,30, 1,2,3,4,5,6,7, e=100, name='kim', age=30, address='서울시')\",\n",
       "  'def add(*args):\\n    sum = 0;\\n    for num in args:\\n        sum += num\\n    return sum',\n",
       "  'numbers = (1,2,3,4,5,6,7,8,9)\\nadd(1,2,3,4,5,6,7,8,9)',\n",
       "  'add(numbers)',\n",
       "  'add(*numbers) # 튜플 언패킹',\n",
       "  '# 예제 :\\nrange(10)',\n",
       "  'print(list(range(10)))',\n",
       "  'print(list(range(10)))\\nprint(list(range(4,10)))\\nprint(list(range(4,10,2)))',\n",
       "  'def range2(*args):\\n    length = len(args)\\n    if length == 1:\\n        return range(args[0]+1)\\n    if length == 2:\\n        return range(args[0],args[1]+1)\\n    if length == 3:\\n        return range(args[0],args[1]+1,args[2])',\n",
       "  'range2(10) => [0,1,2,3,4,5,6,7,8,9,10]\\nrange2(4,10) => [4,5,6,7,8,9,10]\\nrange2(4,10,2) => [4,6,8,10]',\n",
       "  \"def range2(*args):\\n    result = []\\n    length = len(args)\\n    if length == 0:\\n        raise Exception('매개변수가 하나이상 필요합니다.')\\n    elif length == 1:\\n        for i in range(args[0]+1):\\n            result.append(i)\\n    elif length ==2:\\n        for i in range(args[0], args[1]+1):\\n            result.append(i)\\n    elif length ==3:\\n        for i in range(args[0], args[1]+1, args[2]):\\n            result.append[i]\\n    elif length>3:\\n        print('4개부터 안됨')\\n        return ''\\n    return result    \",\n",
       "  'try:\\n    range2()\\nexcept Exception as e:\\n    print(e)',\n",
       "  'try:\\n    range2()\\nexcept Exception as e:\\n    print(e)\\n\\nrange2(10) => [0,1,2,3,4,5,6,7,8,9,10]\\nrange2(4,10) => [4,5,6,7,8,9,10]\\nrange2(4,10,2) => [4,6,8,10]',\n",
       "  'try:\\n    range2()\\nexcept Exception as e:\\n    print(e)\\n\\nrange2(10) \\nrange2(4,10) \\nrange2(4,10,2)',\n",
       "  \"def range2(*args):\\n    result = []\\n    length = len(args)\\n    if length == 0:\\n        raise Exception('매개변수가 하나이상 필요합니다.')\\n    elif length == 1:\\n        for i in range(args[0]+1):\\n            result.append(i)\\n    elif length ==2:\\n        for i in range(args[0], args[1]+1):\\n            result.append(i)\\n    elif length ==3:\\n        for i in range(args[0], args[1]+1, args[2]):\\n            result.append(i)\\n    elif length>3:\\n        print('4개부터 안됨')\\n        return ''\\n    return result    \",\n",
       "  'try:\\n    range2()\\nexcept Exception as e:\\n    print(e)\\n\\nrange2(10) \\nrange2(4,10)\\nrange2(4,10,2)',\n",
       "  'try:\\n    range2()\\nexcept Exception as e:\\n    print(e)',\n",
       "  'print(range2(10))\\nprint(range2(4,10))\\nprint(range2(4,10,2))\\nprint(range2(4,10,2,2))',\n",
       "  \"def range2(*args):\\n    result = []\\n    length = len(args)\\n    if length == 0:\\n        raise Exception('매개변수가 하나이상 필요합니다.')\\n    elif length == 1:\\n        for i in range(args[0]+1):\\n            result.append(i)\\n    elif length ==2:\\n        for i in range(args[0], args[1]+1):\\n            result.append(i)\\n    elif length ==3:\\n        for i in range(args[0], args[1]+1, args[2]):\\n            result.append(i)\\n    else:\\n        print('4개부터 안됨')\\n        return ''\\n    return result    \",\n",
       "  'try:\\n    range2()\\nexcept Exception as e:\\n    print(e)',\n",
       "  'print(range2(10))\\nprint(range2(4,10))\\nprint(range2(4,10,2))\\nprint(range2(4,10,2,2))',\n",
       "  'def func(**data):\\n    for item in data.items():\\n        print(item)\\nfunc(height=100, width=200, shape=\"rect\")',\n",
       "  \"info = {'height':100, 'width':200, 'shape':'rect'}\\nfunc(info)\",\n",
       "  \"info = {'height':100, 'width':200, 'shape':'rect'}\\n# func(info)\\nfunc(**info)\",\n",
       "  'def add(a,b):\\n    return a+b\\nadd(3,5)',\n",
       "  'ad(2,5)',\n",
       "  'ad = add',\n",
       "  'ad(2,5)',\n",
       "  'print(ad(2,5))\\nprint(type(ad), type(add))',\n",
       "  'add = lambda',\n",
       "  'add = lambda a, b : a+b',\n",
       "  'add = lambda a, b : a+b',\n",
       "  'add(3,5)',\n",
       "  'type(add)',\n",
       "  '(lambda a, b a+b)(10,2)',\n",
       "  '(lambda a, b : a+b)(10,2)',\n",
       "  'list_data = [1,2,3,4,5,6,7,8,9]\\ndef x_2(x):\\n    return x*2\\n\\nmap_template(x_2, list_data)',\n",
       "  'def map_template(func, L=[]):\\n    result = []\\n    for item in L:\\n        result.append(func(item))\\n    return result\\n    ',\n",
       "  'list_data = [1,2,3,4,5,6,7,8,9]\\ndef x_2(x):\\n    return x*2\\n\\nmap_template(x_2, list_data)',\n",
       "  'map_template(lambda x : x*2, list_data)',\n",
       "  '# map() 함수 이용\\nlist(map(lambda x : x**2, list_data))',\n",
       "  '# 리스트 컴프리헨션 이용\\n[x*2 for x in list_data]',\n",
       "  'def filter_template(func, L=[]):\\n    result = []\\n    for item in L:\\n        if func(items):\\n            result.append(item)\\n    return result',\n",
       "  'def filter_template(func, L=[]):\\n    result = []\\n    for item in L:\\n        if func(item):\\n            result.append(item)\\n    return result',\n",
       "  'list_data = [1,2,3,4,5]\\ndef evenChk(x):\\n#     if x%2 == 0 \\n#         return True\\n#     else:\\n    return x%2==0\\n\\nfilter_template(evenChk, list_data)',\n",
       "  'filter_template(lambda x : x%2==0, list_data)',\n",
       "  '# filter 함수\\nlist(filter(lambda x : x%2==1, list_data ))',\n",
       "  '# 리스트 컴프리핸션\\n[x for x in list_data if x%2==1]',\n",
       "  '# 문제 : 다음 리스트에서 정수만 추출하시오. (힌트. filter 함수, 람다식 이용. / 리스트 컴프리핸션)\\nL = [1, 1.2, 1.5, 2, 3, 10.5, 100]\\n\\n[x for x in list_data if round(x)==x]',\n",
       "  '# 문제 : 다음 리스트에서 정수만 추출하시오. (힌트. filter 함수, 람다식 이용. / 리스트 컴프리핸션)\\nL = [1, 1.2, 1.5, 2, 3, 10.5, 100]\\n\\n[x for x in list_data if round(x)==x]\\nlist(filter(lambda x :round(x)==x, list_data))',\n",
       "  '# 문제 : 다음 리스트에서 정수만 추출하시오. (힌트. filter 함수, 람다식 이용. / 리스트 컴프리핸션)\\nL = [1, 1.2, 1.5, 2, 3, 10.5, 100]\\n\\nprint([x for x in list_data if round(x)==x])\\nprint(list(filter(lambda x :round(x)==x, list_data)))',\n",
       "  '(lambda a, b : a+b)(10,2)',\n",
       "  'p = [10,3,5,7,0]\\np.sort()\\np',\n",
       "  \"pairs = [(1, 'one'),(4, 'four'), (2,'two'), (3,'three')]\\npairs.sort() # 첫번째 요소들만 비교해서 sort한다\\npairs\",\n",
       "  'pairs.sort(key = lambda pair : pair[1])\\npairs',\n",
       "  'def apply(data, func=None):\\n    if func is None:\\n        return data',\n",
       "  'apply(3)',\n",
       "  'def apply(data, func=None):\\n    if func is None:\\n#   if func is None:\\n        return data\\n    else:\\n        return func(data)\\nprint(apply(100))\\nprint(apply(100, lambda x : x**3))',\n",
       "  \"# 함수를 return 하는 함수\\n'''\\nmake_box((2,)) => 1차원 2열 list를 만드는 함수 return\\n    fun = make_box((2,))\\n    fun (10) => [10,10]\\nmake_box([3,4]) => 2차원 3행 4열 list를 만드는 함수를 리턴\\n    fun = make_box((3,4))\\n    fun(10) => [[10,10,10],[10,10,10],[10,10,10],[10,10,10]]\\n'''\\ndef make_box(shape):\\n    def box(init_value):\\n        if len(shape) == 1:\\n            return [init_value] * shape[0]\\n    return box\",\n",
       "  'fun = make_box((5,))',\n",
       "  'type(fun)',\n",
       "  'fun(10)',\n",
       "  'line(7)',\n",
       "  'line = make_box((5,))\\ntype(line)',\n",
       "  'line(7)',\n",
       "  'box2d = make_box([2,3])\\ntype(box2d)',\n",
       "  'box2d(7)',\n",
       "  'line = make_box1([3])\\ntype(line)',\n",
       "  '# Lambda 식을 return\\ndef make_box1(shape):\\n    if len (shape) == 1:\\n        return lambda init_value : [init_value] * shape[0]\\n    elif len(shape) == 2:\\n        return lambda init_value : [[init_value] * shape[1]]*shape[0]',\n",
       "  'line = make_box1([3])\\ntype(line)',\n",
       "  'line(7)',\n",
       "  'box2d = make_box1([2,3])\\ntype(box2d)',\n",
       "  'box2d(4)',\n",
       "  'def even_odd(num):\\n    if num%2==0 :\\n        return \"짝수\"\\n    else:\\n        return \"홀수\"\\neven_odd(7)',\n",
       "  'even_odd_chk = lambda num : \"짝수\" if num%2==0 else \"홀수\"\\neven_odd_chk(8)',\n",
       "  'def even_odd(num):\\n    if num%2==0 :\\n        return \"짝수\"\\n    elif num%2 ==-1:\\n        return \"음수홀수\"\\n    else :\\n        return \"양수홀수\"\\neven_odd(7)',\n",
       "  'def even_odd(num):\\n    if num%2==0 :\\n        return \"짝수\"\\n    elif num%2 ==-1:\\n        return \"음수홀수\"\\n    else :\\n        return \"양수홀수\"\\neven_odd(-7)',\n",
       "  'def levelChk(score):\\n    if score >= 80 :\\n        return \"A등급\"\\n    elif score >= 70:\\n        return \"B등급\"\\n    else :\\n        return \"유급\"\\neven_odd(7)',\n",
       "  'def levelChk(score):\\n    if score >= 80 :\\n        return \"A등급\"\\n    elif score >= 70:\\n        return \"B등급\"\\n    else :\\n        return \"유급\"\\nlevelChk(7)',\n",
       "  'levelChk = lambda score : \"A등급\" if score>=80 else \\\\\\n            (\"B등급\" if score>=70 else \"유급\")',\n",
       "  'levelchk = lambda score : \"A\" if 90 <= score <= 100 else \"B\" if 80 <= score < 90 else \"C\" if 70 <= score < 80 else \\\\\\n                (\"D\" if 60 <= score < 70 else \"F\" if 0 <= score <= 60 else \"유효하지 않은 점수\")',\n",
       "  'levelchk(80)',\n",
       "  'globals() #전역변수'],\n",
       " 'Out': {1: [1],\n",
       "  2: [2],\n",
       "  3: [3, 4, 5, 50],\n",
       "  4: [3, 4, 5, 50],\n",
       "  5: [3, 4, 5, 50],\n",
       "  7: [6],\n",
       "  9: [3, 4, 5, 50],\n",
       "  12: [[1]],\n",
       "  16: 6,\n",
       "  22: '서울-부산',\n",
       "  25: 'Java-Oracle-Python',\n",
       "  27: 'Java-Oracle-Python',\n",
       "  28: 'OracleJavaPython',\n",
       "  30: 'OracleJavaPython',\n",
       "  32: 'Java/Oracle/Python',\n",
       "  34: 'Java/Oracle/Python/~',\n",
       "  35: 'Java~Oracle~Python',\n",
       "  43: 45,\n",
       "  45: 45,\n",
       "  46: range(0, 10),\n",
       "  56: [4, 6, 8, 10],\n",
       "  65: 8,\n",
       "  68: 7,\n",
       "  73: 8,\n",
       "  74: function,\n",
       "  76: 12,\n",
       "  79: [2, 4, 6, 8, 10, 12, 14, 16, 18],\n",
       "  80: [2, 4, 6, 8, 10, 12, 14, 16, 18],\n",
       "  81: [1, 4, 9, 16, 25, 36, 49, 64, 81],\n",
       "  82: [2, 4, 6, 8, 10, 12, 14, 16, 18],\n",
       "  85: [2, 4],\n",
       "  86: [2, 4],\n",
       "  87: [1, 3, 5],\n",
       "  88: [1, 3, 5],\n",
       "  89: [1, 2, 3, 4, 5],\n",
       "  90: [1, 2, 3, 4, 5],\n",
       "  92: 12,\n",
       "  93: [0, 3, 5, 7, 10],\n",
       "  94: [(4, 'four'), (1, 'one'), (3, 'three'), (2, 'two')],\n",
       "  95: [(4, 'four'), (1, 'one'), (3, 'three'), (2, 'two')],\n",
       "  97: 3,\n",
       "  101: function,\n",
       "  102: [10, 10, 10, 10, 10],\n",
       "  104: function,\n",
       "  105: [7, 7, 7, 7, 7],\n",
       "  106: function,\n",
       "  110: function,\n",
       "  111: [7, 7, 7],\n",
       "  112: function,\n",
       "  113: [[4, 4, 4], [4, 4, 4]],\n",
       "  114: '홀수',\n",
       "  115: '짝수',\n",
       "  116: '양수홀수',\n",
       "  117: '양수홀수',\n",
       "  118: '양수홀수',\n",
       "  119: '유급',\n",
       "  122: 'B'},\n",
       " 'get_ipython': <function IPython.core.getipython.get_ipython()>,\n",
       " 'exit': <IPython.core.autocall.ZMQExitAutocall at 0x1a21e973580>,\n",
       " 'quit': <IPython.core.autocall.ZMQExitAutocall at 0x1a21e973580>,\n",
       " '_': 'B',\n",
       " '__': '유급',\n",
       " '___': '양수홀수',\n",
       " 'json': <module 'json' from 'C:\\\\Users\\\\sangh\\\\anaconda3\\\\lib\\\\json\\\\__init__.py'>,\n",
       " 'yapf_reformat': <function __main__.yapf_reformat(cell_text)>,\n",
       " 'autopep8': <module 'autopep8' from 'C:\\\\Users\\\\sangh\\\\anaconda3\\\\lib\\\\site-packages\\\\autopep8.py'>,\n",
       " 'getsizeof': <function sys.getsizeof>,\n",
       " 'NamespaceMagics': IPython.core.magics.namespace.NamespaceMagics,\n",
       " '_nms': <IPython.core.magics.namespace.NamespaceMagics at 0x1a21ea80400>,\n",
       " '_Jupyter': <ipykernel.zmqshell.ZMQInteractiveShell at 0x1a21e901850>,\n",
       " 'np': <module 'numpy' from 'C:\\\\Users\\\\sangh\\\\anaconda3\\\\lib\\\\site-packages\\\\numpy\\\\__init__.py'>,\n",
       " '_getsizeof': <function __main__._getsizeof(x)>,\n",
       " '_getshapeof': <function __main__._getshapeof(x)>,\n",
       " 'var_dic_list': <function __main__.var_dic_list()>,\n",
       " '_i': 'levelchk(80)',\n",
       " '_ii': 'levelchk = lambda score : \"A\" if 90 <= score <= 100 else \"B\" if 80 <= score < 90 else \"C\" if 70 <= score < 80 else \\\\\\n                (\"D\" if 60 <= score < 70 else \"F\" if 0 <= score <= 60 else \"유효하지 않은 점수\")',\n",
       " '_iii': 'levelChk = lambda score : \"A등급\" if score>=80 else \\\\\\n            (\"B등급\" if score>=70 else \"유급\")',\n",
       " '_i1': 'def func5(a, L=None):\\n    if L is None:\\n        L = []\\n    L.append(a)\\n    return L\\n\\nfunc5(1)',\n",
       " 'func5': <function __main__.func5(a, L=None)>,\n",
       " '_1': [1],\n",
       " '_i2': 'func5(2)',\n",
       " '_2': [2],\n",
       " '_i3': 'list_=[]\\nfunc5(3, list_)',\n",
       " 'list_': [3, 4, 5, 50],\n",
       " '_3': [3, 4, 5, 50],\n",
       " '_i4': 'func5(a=4, L=list_)',\n",
       " '_4': [3, 4, 5, 50],\n",
       " '_i5': 'func5(L=list_, a=5)',\n",
       " '_5': [3, 4, 5, 50],\n",
       " '_i6': 'func(a=6)',\n",
       " '_i7': 'func5(a=6)',\n",
       " '_7': [6],\n",
       " '_i8': 'func()',\n",
       " '_i9': 'func5(50, L=list_)',\n",
       " '_9': [3, 4, 5, 50],\n",
       " '_i10': 'func(L=list_,50)',\n",
       " '_i11': 'func5(list_, a=50)',\n",
       " '_i12': 'func5([1])',\n",
       " '_12': [[1]],\n",
       " '_i13': 'def add(a,b):\\n    return a+b',\n",
       " 'add': <function __main__.<lambda>(a, b)>,\n",
       " '_i14': 'def add(a,b,c):\\n    return a+b+c',\n",
       " '_i15': 'def add(a,b,c):\\n    return a+b+c  #함수의 오버로딩이 안된다 앞 2개 변수함수는 삭제된다.',\n",
       " '_i16': 'def add(a,b,c):\\n    return a+b+c  #함수의 오버로딩이 안된다 앞 2개 변수함수는 삭제된다.\\nadd(1,2,3)',\n",
       " '_16': 6,\n",
       " '_i17': 'add(2,3)',\n",
       " '_i18': '# args아ㅠ의 * : args가 튜플로 전달\\ndef add(*args):\\n    print(args)',\n",
       " '_i19': 'print(add(1,2))\\nprint(add(1,2,3))',\n",
       " '_i20': '# args아ㅠ의 * : args가 튜플로 전달\\ndef add(*args):\\n    #print(args)\\n    sum =0\\n    for num in args:\\n        sum += num\\n    return sum',\n",
       " '_i21': 'print(add(1,2))\\nprint(add(1,2,3))',\n",
       " '_i22': \"#cf\\ncity = ('서울', '부산')\\n'-'.join(city)\",\n",
       " 'city': ('서울', '부산'),\n",
       " '_22': '서울-부산',\n",
       " '_i23': 'def concat(*args, sep):\\n    return sep.join(args)',\n",
       " 'concat': <function __main__.concat(*args, sep='/')>,\n",
       " '_i24': \"concat('Java','Oracle','Web','R','Python','-')\",\n",
       " '_i25': \"# 해결책 1\\nconcat('Java', 'Oracle', 'Python', sep ='-')\",\n",
       " '_25': 'Java-Oracle-Python',\n",
       " '_i26': '# 해결책 2\\ndef concat(sep, *args):\\n    return sep.join(args)',\n",
       " '_i27': \"concat('-', 'Java','Oracle','Python')\",\n",
       " '_27': 'Java-Oracle-Python',\n",
       " '_i28': \"concat('Java','Oracle','Python')\",\n",
       " '_28': 'OracleJavaPython',\n",
       " '_i29': \"# 해결책3\\ndef concat(sep='/', *args):\\n    return sep.join(args)\",\n",
       " '_i30': \"concat('Java','Oracle','Python')\",\n",
       " '_30': 'OracleJavaPython',\n",
       " '_i31': \"# 해결책3\\ndef concat(*args, sep='/'):\\n    return sep.join(args)\",\n",
       " '_i32': \"concat('Java','Oracle','Python')\",\n",
       " '_32': 'Java/Oracle/Python',\n",
       " '_i33': 'def add(a, b, c):\\n    return a+b+c\\na(1,2,3)',\n",
       " '_i34': \"concat('Java', 'Oracle', 'Python', '~')\",\n",
       " '_34': 'Java/Oracle/Python/~',\n",
       " '_i35': \"concat('Java', 'Oracle', 'Python', sep='~')\",\n",
       " '_35': 'Java~Oracle~Python',\n",
       " '_i36': 'def func6(**args): # args가 딕셔너리로 전달\\n    for key, value in args.items():\\n        print(\"{} : {}\".format(key, value))\\nfunc6(name=\"홍길동\", age=20)',\n",
       " 'func6': <function __main__.func6(**args)>,\n",
       " '_i37': 'def func6(**args): # args가 딕셔너리로 전달\\n    for key, value in args.items():\\n        print(\"{} : {}\".format(key, value))\\nfunc6(name=\"홍길동\", age=20, address=\"서울시\")',\n",
       " '_i38': \"# 순서인수, 튜플인수, 딕셔너리인수\\ndef func7(a, *b, **c):\\n    print('a =', a)\\n    print('b =', b)\\n    print('c =', c)\",\n",
       " 'func7': <function __main__.func7(a, *b, **c)>,\n",
       " '_i39': \"func7(10, 1,2,3,4,5,6,7,8,9,0, name='kim', age=30)\",\n",
       " '_i40': \"def func(a,b,c,*d,e=10,**f):\\n    print('a =',a)\\n    print('b =',b)\\n    print('c =',c)\\n    print('d =',d)\\n    print('e =',e)\\n    print('f =',f)\",\n",
       " 'func': <function __main__.func(**data)>,\n",
       " '_i41': \"func(10,20,30, 1,2,3,4,5,6,7, e=100, name='kim', age=30, address='서울시')\",\n",
       " '_i42': 'def add(*args):\\n    sum = 0;\\n    for num in args:\\n        sum += num\\n    return sum',\n",
       " '_i43': 'numbers = (1,2,3,4,5,6,7,8,9)\\nadd(1,2,3,4,5,6,7,8,9)',\n",
       " 'numbers': (1, 2, 3, 4, 5, 6, 7, 8, 9),\n",
       " '_43': 45,\n",
       " '_i44': 'add(numbers)',\n",
       " '_i45': 'add(*numbers) # 튜플 언패킹',\n",
       " '_45': 45,\n",
       " '_i46': '# 예제 :\\nrange(10)',\n",
       " '_46': range(0, 10),\n",
       " '_i47': 'print(list(range(10)))',\n",
       " '_i48': 'print(list(range(10)))\\nprint(list(range(4,10)))\\nprint(list(range(4,10,2)))',\n",
       " '_i49': 'def range2(*args):\\n    length = len(args)\\n    if length == 1:\\n        return range(args[0]+1)\\n    if length == 2:\\n        return range(args[0],args[1]+1)\\n    if length == 3:\\n        return range(args[0],args[1]+1,args[2])',\n",
       " 'range2': <function __main__.range2(*args)>,\n",
       " '_i50': 'range2(10) => [0,1,2,3,4,5,6,7,8,9,10]\\nrange2(4,10) => [4,5,6,7,8,9,10]\\nrange2(4,10,2) => [4,6,8,10]',\n",
       " '_i51': \"def range2(*args):\\n    result = []\\n    length = len(args)\\n    if length == 0:\\n        raise Exception('매개변수가 하나이상 필요합니다.')\\n    elif length == 1:\\n        for i in range(args[0]+1):\\n            result.append(i)\\n    elif length ==2:\\n        for i in range(args[0], args[1]+1):\\n            result.append(i)\\n    elif length ==3:\\n        for i in range(args[0], args[1]+1, args[2]):\\n            result.append[i]\\n    elif length>3:\\n        print('4개부터 안됨')\\n        return ''\\n    return result    \",\n",
       " '_i52': 'try:\\n    range2()\\nexcept Exception as e:\\n    print(e)',\n",
       " '_i53': 'try:\\n    range2()\\nexcept Exception as e:\\n    print(e)\\n\\nrange2(10) => [0,1,2,3,4,5,6,7,8,9,10]\\nrange2(4,10) => [4,5,6,7,8,9,10]\\nrange2(4,10,2) => [4,6,8,10]',\n",
       " '_i54': 'try:\\n    range2()\\nexcept Exception as e:\\n    print(e)\\n\\nrange2(10) \\nrange2(4,10) \\nrange2(4,10,2)',\n",
       " '_i55': \"def range2(*args):\\n    result = []\\n    length = len(args)\\n    if length == 0:\\n        raise Exception('매개변수가 하나이상 필요합니다.')\\n    elif length == 1:\\n        for i in range(args[0]+1):\\n            result.append(i)\\n    elif length ==2:\\n        for i in range(args[0], args[1]+1):\\n            result.append(i)\\n    elif length ==3:\\n        for i in range(args[0], args[1]+1, args[2]):\\n            result.append(i)\\n    elif length>3:\\n        print('4개부터 안됨')\\n        return ''\\n    return result    \",\n",
       " '_i56': 'try:\\n    range2()\\nexcept Exception as e:\\n    print(e)\\n\\nrange2(10) \\nrange2(4,10)\\nrange2(4,10,2)',\n",
       " '_56': [4, 6, 8, 10],\n",
       " '_i57': 'try:\\n    range2()\\nexcept Exception as e:\\n    print(e)',\n",
       " '_i58': 'print(range2(10))\\nprint(range2(4,10))\\nprint(range2(4,10,2))\\nprint(range2(4,10,2,2))',\n",
       " '_i59': \"def range2(*args):\\n    result = []\\n    length = len(args)\\n    if length == 0:\\n        raise Exception('매개변수가 하나이상 필요합니다.')\\n    elif length == 1:\\n        for i in range(args[0]+1):\\n            result.append(i)\\n    elif length ==2:\\n        for i in range(args[0], args[1]+1):\\n            result.append(i)\\n    elif length ==3:\\n        for i in range(args[0], args[1]+1, args[2]):\\n            result.append(i)\\n    else:\\n        print('4개부터 안됨')\\n        return ''\\n    return result    \",\n",
       " '_i60': 'try:\\n    range2()\\nexcept Exception as e:\\n    print(e)',\n",
       " '_i61': 'print(range2(10))\\nprint(range2(4,10))\\nprint(range2(4,10,2))\\nprint(range2(4,10,2,2))',\n",
       " '_i62': 'def func(**data):\\n    for item in data.items():\\n        print(item)\\nfunc(height=100, width=200, shape=\"rect\")',\n",
       " '_i63': \"info = {'height':100, 'width':200, 'shape':'rect'}\\nfunc(info)\",\n",
       " 'info': {'height': 100, 'width': 200, 'shape': 'rect'},\n",
       " '_i64': \"info = {'height':100, 'width':200, 'shape':'rect'}\\n# func(info)\\nfunc(**info)\",\n",
       " '_i65': 'def add(a,b):\\n    return a+b\\nadd(3,5)',\n",
       " '_65': 8,\n",
       " '_i66': 'ad(2,5)',\n",
       " '_i67': 'ad = add',\n",
       " 'ad': <function __main__.add(a, b)>,\n",
       " '_i68': 'ad(2,5)',\n",
       " '_68': 7,\n",
       " '_i69': 'print(ad(2,5))\\nprint(type(ad), type(add))',\n",
       " '_i70': 'add = lambda',\n",
       " '_i71': 'add = lambda a, b : a+b',\n",
       " '_i72': 'add = lambda a, b : a+b',\n",
       " '_i73': 'add(3,5)',\n",
       " '_73': 8,\n",
       " '_i74': 'type(add)',\n",
       " '_74': function,\n",
       " '_i75': '(lambda a, b a+b)(10,2)',\n",
       " '_i76': '(lambda a, b : a+b)(10,2)',\n",
       " '_76': 12,\n",
       " '_i77': 'list_data = [1,2,3,4,5,6,7,8,9]\\ndef x_2(x):\\n    return x*2\\n\\nmap_template(x_2, list_data)',\n",
       " 'list_data': [1, 2, 3, 4, 5],\n",
       " 'x_2': <function __main__.x_2(x)>,\n",
       " '_i78': 'def map_template(func, L=[]):\\n    result = []\\n    for item in L:\\n        result.append(func(item))\\n    return result\\n    ',\n",
       " 'map_template': <function __main__.map_template(func, L=[])>,\n",
       " '_i79': 'list_data = [1,2,3,4,5,6,7,8,9]\\ndef x_2(x):\\n    return x*2\\n\\nmap_template(x_2, list_data)',\n",
       " '_79': [2, 4, 6, 8, 10, 12, 14, 16, 18],\n",
       " '_i80': 'map_template(lambda x : x*2, list_data)',\n",
       " '_80': [2, 4, 6, 8, 10, 12, 14, 16, 18],\n",
       " '_i81': '# map() 함수 이용\\nlist(map(lambda x : x**2, list_data))',\n",
       " '_81': [1, 4, 9, 16, 25, 36, 49, 64, 81],\n",
       " '_i82': '# 리스트 컴프리헨션 이용\\n[x*2 for x in list_data]',\n",
       " '_82': [2, 4, 6, 8, 10, 12, 14, 16, 18],\n",
       " '_i83': 'def filter_template(func, L=[]):\\n    result = []\\n    for item in L:\\n        if func(items):\\n            result.append(item)\\n    return result',\n",
       " 'filter_template': <function __main__.filter_template(func, L=[])>,\n",
       " '_i84': 'def filter_template(func, L=[]):\\n    result = []\\n    for item in L:\\n        if func(item):\\n            result.append(item)\\n    return result',\n",
       " '_i85': 'list_data = [1,2,3,4,5]\\ndef evenChk(x):\\n#     if x%2 == 0 \\n#         return True\\n#     else:\\n    return x%2==0\\n\\nfilter_template(evenChk, list_data)',\n",
       " 'evenChk': <function __main__.evenChk(x)>,\n",
       " '_85': [2, 4],\n",
       " '_i86': 'filter_template(lambda x : x%2==0, list_data)',\n",
       " '_86': [2, 4],\n",
       " '_i87': '# filter 함수\\nlist(filter(lambda x : x%2==1, list_data ))',\n",
       " '_87': [1, 3, 5],\n",
       " '_i88': '# 리스트 컴프리핸션\\n[x for x in list_data if x%2==1]',\n",
       " '_88': [1, 3, 5],\n",
       " '_i89': '# 문제 : 다음 리스트에서 정수만 추출하시오. (힌트. filter 함수, 람다식 이용. / 리스트 컴프리핸션)\\nL = [1, 1.2, 1.5, 2, 3, 10.5, 100]\\n\\n[x for x in list_data if round(x)==x]',\n",
       " 'L': [1, 1.2, 1.5, 2, 3, 10.5, 100],\n",
       " '_89': [1, 2, 3, 4, 5],\n",
       " '_i90': '# 문제 : 다음 리스트에서 정수만 추출하시오. (힌트. filter 함수, 람다식 이용. / 리스트 컴프리핸션)\\nL = [1, 1.2, 1.5, 2, 3, 10.5, 100]\\n\\n[x for x in list_data if round(x)==x]\\nlist(filter(lambda x :round(x)==x, list_data))',\n",
       " '_90': [1, 2, 3, 4, 5],\n",
       " '_i91': '# 문제 : 다음 리스트에서 정수만 추출하시오. (힌트. filter 함수, 람다식 이용. / 리스트 컴프리핸션)\\nL = [1, 1.2, 1.5, 2, 3, 10.5, 100]\\n\\nprint([x for x in list_data if round(x)==x])\\nprint(list(filter(lambda x :round(x)==x, list_data)))',\n",
       " '_i92': '(lambda a, b : a+b)(10,2)',\n",
       " '_92': 12,\n",
       " '_i93': 'p = [10,3,5,7,0]\\np.sort()\\np',\n",
       " 'p': [0, 3, 5, 7, 10],\n",
       " '_93': [0, 3, 5, 7, 10],\n",
       " '_i94': \"pairs = [(1, 'one'),(4, 'four'), (2,'two'), (3,'three')]\\npairs.sort() # 첫번째 요소들만 비교해서 sort한다\\npairs\",\n",
       " 'pairs': [(4, 'four'), (1, 'one'), (3, 'three'), (2, 'two')],\n",
       " '_94': [(4, 'four'), (1, 'one'), (3, 'three'), (2, 'two')],\n",
       " '_i95': 'pairs.sort(key = lambda pair : pair[1])\\npairs',\n",
       " '_95': [(4, 'four'), (1, 'one'), (3, 'three'), (2, 'two')],\n",
       " '_i96': 'def apply(data, func=None):\\n    if func is None:\\n        return data',\n",
       " 'apply': <function __main__.apply(data, func=None)>,\n",
       " '_i97': 'apply(3)',\n",
       " '_97': 3,\n",
       " '_i98': 'def apply(data, func=None):\\n    if func is None:\\n#   if func is None:\\n        return data\\n    else:\\n        return func(data)\\nprint(apply(100))\\nprint(apply(100, lambda x : x**3))',\n",
       " '_i99': \"# 함수를 return 하는 함수\\n'''\\nmake_box((2,)) => 1차원 2열 list를 만드는 함수 return\\n    fun = make_box((2,))\\n    fun (10) => [10,10]\\nmake_box([3,4]) => 2차원 3행 4열 list를 만드는 함수를 리턴\\n    fun = make_box((3,4))\\n    fun(10) => [[10,10,10],[10,10,10],[10,10,10],[10,10,10]]\\n'''\\ndef make_box(shape):\\n    def box(init_value):\\n        if len(shape) == 1:\\n            return [init_value] * shape[0]\\n    return box\",\n",
       " 'make_box': <function __main__.make_box(shape)>,\n",
       " '_i100': 'fun = make_box((5,))',\n",
       " 'fun': <function __main__.make_box.<locals>.box(init_value)>,\n",
       " '_i101': 'type(fun)',\n",
       " '_101': function,\n",
       " '_i102': 'fun(10)',\n",
       " '_102': [10, 10, 10, 10, 10],\n",
       " '_i103': 'line(7)',\n",
       " '_i104': 'line = make_box((5,))\\ntype(line)',\n",
       " 'line': <function __main__.make_box1.<locals>.<lambda>(init_value)>,\n",
       " '_104': function,\n",
       " '_i105': 'line(7)',\n",
       " '_105': [7, 7, 7, 7, 7],\n",
       " '_i106': 'box2d = make_box([2,3])\\ntype(box2d)',\n",
       " 'box2d': <function __main__.make_box1.<locals>.<lambda>(init_value)>,\n",
       " '_106': function,\n",
       " '_i107': 'box2d(7)',\n",
       " '_i108': 'line = make_box1([3])\\ntype(line)',\n",
       " '_i109': '# Lambda 식을 return\\ndef make_box1(shape):\\n    if len (shape) == 1:\\n        return lambda init_value : [init_value] * shape[0]\\n    elif len(shape) == 2:\\n        return lambda init_value : [[init_value] * shape[1]]*shape[0]',\n",
       " 'make_box1': <function __main__.make_box1(shape)>,\n",
       " '_i110': 'line = make_box1([3])\\ntype(line)',\n",
       " '_110': function,\n",
       " '_i111': 'line(7)',\n",
       " '_111': [7, 7, 7],\n",
       " '_i112': 'box2d = make_box1([2,3])\\ntype(box2d)',\n",
       " '_112': function,\n",
       " '_i113': 'box2d(4)',\n",
       " '_113': [[4, 4, 4], [4, 4, 4]],\n",
       " '_i114': 'def even_odd(num):\\n    if num%2==0 :\\n        return \"짝수\"\\n    else:\\n        return \"홀수\"\\neven_odd(7)',\n",
       " 'even_odd': <function __main__.even_odd(num)>,\n",
       " '_114': '홀수',\n",
       " '_i115': 'even_odd_chk = lambda num : \"짝수\" if num%2==0 else \"홀수\"\\neven_odd_chk(8)',\n",
       " 'even_odd_chk': <function __main__.<lambda>(num)>,\n",
       " '_115': '짝수',\n",
       " '_i116': 'def even_odd(num):\\n    if num%2==0 :\\n        return \"짝수\"\\n    elif num%2 ==-1:\\n        return \"음수홀수\"\\n    else :\\n        return \"양수홀수\"\\neven_odd(7)',\n",
       " '_116': '양수홀수',\n",
       " '_i117': 'def even_odd(num):\\n    if num%2==0 :\\n        return \"짝수\"\\n    elif num%2 ==-1:\\n        return \"음수홀수\"\\n    else :\\n        return \"양수홀수\"\\neven_odd(-7)',\n",
       " '_117': '양수홀수',\n",
       " '_i118': 'def levelChk(score):\\n    if score >= 80 :\\n        return \"A등급\"\\n    elif score >= 70:\\n        return \"B등급\"\\n    else :\\n        return \"유급\"\\neven_odd(7)',\n",
       " 'levelChk': <function __main__.<lambda>(score)>,\n",
       " '_118': '양수홀수',\n",
       " '_i119': 'def levelChk(score):\\n    if score >= 80 :\\n        return \"A등급\"\\n    elif score >= 70:\\n        return \"B등급\"\\n    else :\\n        return \"유급\"\\nlevelChk(7)',\n",
       " '_119': '유급',\n",
       " '_i120': 'levelChk = lambda score : \"A등급\" if score>=80 else \\\\\\n            (\"B등급\" if score>=70 else \"유급\")',\n",
       " '_i121': 'levelchk = lambda score : \"A\" if 90 <= score <= 100 else \"B\" if 80 <= score < 90 else \"C\" if 70 <= score < 80 else \\\\\\n                (\"D\" if 60 <= score < 70 else \"F\" if 0 <= score <= 60 else \"유효하지 않은 점수\")',\n",
       " 'levelchk': <function __main__.<lambda>(score)>,\n",
       " '_i122': 'levelchk(80)',\n",
       " '_122': 'B',\n",
       " '_i123': 'globals() #전역변수'}"
      ]
     },
     "execution_count": 123,
     "metadata": {},
     "output_type": "execute_result"
    }
   ],
   "source": [
    "globals() #전역변수"
   ]
  },
  {
   "cell_type": "code",
   "execution_count": 126,
   "id": "93562898",
   "metadata": {
    "ExecuteTime": {
     "end_time": "2021-07-22T06:37:02.532541Z",
     "start_time": "2021-07-22T06:37:02.527526Z"
    }
   },
   "outputs": [
    {
     "data": {
      "text/plain": [
       "True"
      ]
     },
     "execution_count": 126,
     "metadata": {},
     "output_type": "execute_result"
    }
   ],
   "source": [
    "isinstance(3.5, float)"
   ]
  },
  {
   "cell_type": "code",
   "execution_count": 144,
   "id": "bd1b7a28",
   "metadata": {
    "ExecuteTime": {
     "end_time": "2021-07-22T06:49:08.614401Z",
     "start_time": "2021-07-22T06:49:08.602402Z"
    }
   },
   "outputs": [],
   "source": [
    "class Test:\n",
    "    def __init__(self, a, b):\n",
    "        self.a = a\n",
    "        self.b = b\n",
    "    def print_info(self):\n",
    "        print(\"a={}, b= {}\".format(self.a, self.b))"
   ]
  },
  {
   "cell_type": "code",
   "execution_count": 149,
   "id": "86429c6e",
   "metadata": {
    "ExecuteTime": {
     "end_time": "2021-07-22T06:53:17.230151Z",
     "start_time": "2021-07-22T06:53:17.223185Z"
    }
   },
   "outputs": [
    {
     "data": {
      "text/plain": [
       "(10, 20)"
      ]
     },
     "execution_count": 149,
     "metadata": {},
     "output_type": "execute_result"
    }
   ],
   "source": [
    "test = Test(10,20)\n",
    "test.a, test.b"
   ]
  },
  {
   "cell_type": "code",
   "execution_count": 150,
   "id": "da506b75",
   "metadata": {
    "ExecuteTime": {
     "end_time": "2021-07-22T06:53:18.705301Z",
     "start_time": "2021-07-22T06:53:18.687321Z"
    }
   },
   "outputs": [
    {
     "name": "stdout",
     "output_type": "stream",
     "text": [
      "a=10, b= 20\n"
     ]
    }
   ],
   "source": [
    "test.print_info()"
   ]
  },
  {
   "cell_type": "code",
   "execution_count": null,
   "id": "6f88396a",
   "metadata": {},
   "outputs": [],
   "source": [
    "dir(test)"
   ]
  },
  {
   "cell_type": "code",
   "execution_count": 136,
   "id": "d14127bf",
   "metadata": {
    "ExecuteTime": {
     "end_time": "2021-07-22T06:46:47.390726Z",
     "start_time": "2021-07-22T06:46:47.373739Z"
    }
   },
   "outputs": [
    {
     "data": {
      "text/plain": [
       "[0, 1, 2, 3]"
      ]
     },
     "execution_count": 136,
     "metadata": {},
     "output_type": "execute_result"
    }
   ],
   "source": [
    "list(range(4))"
   ]
  },
  {
   "cell_type": "code",
   "execution_count": 137,
   "id": "cc89a24d",
   "metadata": {
    "ExecuteTime": {
     "end_time": "2021-07-22T06:47:02.058296Z",
     "start_time": "2021-07-22T06:47:02.048310Z"
    }
   },
   "outputs": [
    {
     "data": {
      "text/plain": [
       "[(0, 10), (1, 20), (2, 30)]"
      ]
     },
     "execution_count": 137,
     "metadata": {},
     "output_type": "execute_result"
    }
   ],
   "source": [
    "list(enumerate([10,20,30]))"
   ]
  },
  {
   "cell_type": "code",
   "execution_count": 138,
   "id": "d0cc9256",
   "metadata": {
    "ExecuteTime": {
     "end_time": "2021-07-22T06:47:16.305728Z",
     "start_time": "2021-07-22T06:47:16.287746Z"
    }
   },
   "outputs": [
    {
     "data": {
      "text/plain": [
       "True"
      ]
     },
     "execution_count": 138,
     "metadata": {},
     "output_type": "execute_result"
    }
   ],
   "source": [
    "all([True,True])"
   ]
  },
  {
   "cell_type": "code",
   "execution_count": 142,
   "id": "3491fb69",
   "metadata": {
    "ExecuteTime": {
     "end_time": "2021-07-22T06:48:24.850940Z",
     "start_time": "2021-07-22T06:48:24.841965Z"
    }
   },
   "outputs": [
    {
     "data": {
      "text/plain": [
       "False"
      ]
     },
     "execution_count": 142,
     "metadata": {},
     "output_type": "execute_result"
    }
   ],
   "source": [
    "all([True, True, False, '']) #모든요소가 True인지 여부 반환"
   ]
  },
  {
   "cell_type": "code",
   "execution_count": 143,
   "id": "007be813",
   "metadata": {
    "ExecuteTime": {
     "end_time": "2021-07-22T06:48:51.168466Z",
     "start_time": "2021-07-22T06:48:51.157495Z"
    }
   },
   "outputs": [
    {
     "data": {
      "text/plain": [
       "True"
      ]
     },
     "execution_count": 143,
     "metadata": {},
     "output_type": "execute_result"
    }
   ],
   "source": [
    "any([-3,False,0]) #한 요소라도 True인지 여부 반환"
   ]
  },
  {
   "cell_type": "code",
   "execution_count": 147,
   "id": "6a67e8e9",
   "metadata": {
    "ExecuteTime": {
     "end_time": "2021-07-22T06:49:26.712452Z",
     "start_time": "2021-07-22T06:49:26.697512Z"
    }
   },
   "outputs": [
    {
     "data": {
      "text/plain": [
       "4"
      ]
     },
     "execution_count": 147,
     "metadata": {},
     "output_type": "execute_result"
    }
   ],
   "source": [
    "round(3.96)"
   ]
  },
  {
   "cell_type": "code",
   "execution_count": 148,
   "id": "f9efb52c",
   "metadata": {
    "ExecuteTime": {
     "end_time": "2021-07-22T06:50:24.319375Z",
     "start_time": "2021-07-22T06:50:24.304368Z"
    }
   },
   "outputs": [
    {
     "data": {
      "text/plain": [
       "(3.0, 4.0, 3.9)"
      ]
     },
     "execution_count": 148,
     "metadata": {},
     "output_type": "execute_result"
    }
   ],
   "source": [
    "import numpy\n",
    "numpy.floor(3.86), numpy.ceil(3.86), numpy.round(3.86,1)"
   ]
  },
  {
   "cell_type": "markdown",
   "id": "a7bba5f8",
   "metadata": {},
   "source": [
    "# 6절. 연습문제"
   ]
  },
  {
   "cell_type": "code",
   "execution_count": null,
   "id": "d0b31f05",
   "metadata": {},
   "outputs": [],
   "source": [
    "## 실습형 1"
   ]
  },
  {
   "cell_type": "code",
   "execution_count": 152,
   "id": "9c97ee9f",
   "metadata": {
    "ExecuteTime": {
     "end_time": "2021-07-22T06:57:18.349082Z",
     "start_time": "2021-07-22T06:57:18.336085Z"
    }
   },
   "outputs": [
    {
     "data": {
      "text/plain": [
       "[4, 1]"
      ]
     },
     "execution_count": 152,
     "metadata": {},
     "output_type": "execute_result"
    }
   ],
   "source": [
    "#1.\n",
    "def get_max_min(data_list):\n",
    "    L=[]\n",
    "    max_ = max(data_list)\n",
    "    min_ = min(data_list)\n",
    "    L=[max_, min_]\n",
    "    return L\n",
    "get_max_min([1,2,3,4])\n",
    "\n"
   ]
  },
  {
   "cell_type": "code",
   "execution_count": 158,
   "id": "9a1b1a03",
   "metadata": {
    "ExecuteTime": {
     "end_time": "2021-07-22T07:06:31.608909Z",
     "start_time": "2021-07-22T07:06:26.272413Z"
    }
   },
   "outputs": [
    {
     "name": "stdout",
     "output_type": "stream",
     "text": [
      "키입력 m기준1.8\n",
      "몸무게 입력 kg기준80\n",
      "24.691358024691358\n",
      "표준\n"
     ]
    }
   ],
   "source": [
    "#2.\n",
    "def chk_bmi():\n",
    "    H = float(input(\"키입력 m기준\"))\n",
    "    W = int(input(\"몸무게 입력 kg기준\"))\n",
    "    BMI = W/(H**2)\n",
    "    print(BMI)\n",
    "    if BMI>30.0:\n",
    "        print(\"고도비만\")\n",
    "    elif BMI >=25.0:\n",
    "        print(\"비만\")\n",
    "    elif BMI >=18.5:\n",
    "        print(\"표준\")\n",
    "    else:\n",
    "        print(\"마른체형\")\n",
    "\n",
    "chk_bmi()"
   ]
  },
  {
   "cell_type": "code",
   "execution_count": 159,
   "id": "92f61fec",
   "metadata": {
    "ExecuteTime": {
     "end_time": "2021-07-22T07:11:19.049384Z",
     "start_time": "2021-07-22T07:11:19.029405Z"
    }
   },
   "outputs": [
    {
     "data": {
      "text/plain": [
       "{'넓이': 6.0, '둘레': 12.0}"
      ]
     },
     "execution_count": 159,
     "metadata": {},
     "output_type": "execute_result"
    }
   ],
   "source": [
    "#3.\n",
    "import math\n",
    "def get_triangle(W, H):\n",
    "    area = W*H/2\n",
    "    sround = W+H+math.sqrt(W*W+H*H)\n",
    "    return {'넓이': area, '둘레': sround}\n",
    "get_triangle(3,4)"
   ]
  },
  {
   "cell_type": "code",
   "execution_count": 162,
   "id": "0d999a0c",
   "metadata": {
    "ExecuteTime": {
     "end_time": "2021-07-22T07:14:10.466066Z",
     "start_time": "2021-07-22T07:14:10.453105Z"
    }
   },
   "outputs": [
    {
     "data": {
      "text/plain": [
       "55"
      ]
     },
     "execution_count": 162,
     "metadata": {},
     "output_type": "execute_result"
    }
   ],
   "source": [
    "#4.\n",
    "def mysum(st, end):\n",
    "    L=range(st,end+1)\n",
    "    sum_=0\n",
    "    for i in L:\n",
    "        sum_ += i\n",
    "    return sum_\n",
    "\n",
    "mysum(1,10)\n"
   ]
  },
  {
   "cell_type": "code",
   "execution_count": 167,
   "id": "0c45a84c",
   "metadata": {
    "ExecuteTime": {
     "end_time": "2021-07-22T07:21:19.724959Z",
     "start_time": "2021-07-22T07:21:19.713954Z"
    }
   },
   "outputs": [
    {
     "data": {
      "text/plain": [
       "['Seo', 'Dae', 'Kwa', 'Jej']"
      ]
     },
     "execution_count": 167,
     "metadata": {},
     "output_type": "execute_result"
    }
   ],
   "source": [
    "#5.\n",
    "def get_abbrs(L=[]):\n",
    "    L1=[]\n",
    "    for i in L:\n",
    "        L1.append(i[:3])\n",
    "    return L1\n",
    "get_abbrs(['Seoul','Daegu','Kwangju','Jeju'])"
   ]
  },
  {
   "cell_type": "code",
   "execution_count": 170,
   "id": "f096ac24",
   "metadata": {
    "ExecuteTime": {
     "end_time": "2021-07-22T07:23:39.733419Z",
     "start_time": "2021-07-22T07:23:39.717457Z"
    }
   },
   "outputs": [
    {
     "data": {
      "text/plain": [
       "16"
      ]
     },
     "execution_count": 170,
     "metadata": {},
     "output_type": "execute_result"
    }
   ],
   "source": [
    "#6.\n",
    "f = lambda x, y : x**y\n",
    "f(4,2)"
   ]
  },
  {
   "cell_type": "code",
   "execution_count": 182,
   "id": "66b8b5c9",
   "metadata": {
    "ExecuteTime": {
     "end_time": "2021-07-22T07:44:29.920504Z",
     "start_time": "2021-07-22T07:44:18.603170Z"
    }
   },
   "outputs": [
    {
     "name": "stdout",
     "output_type": "stream",
     "text": [
      "리스트123\n",
      "[1, 2, 3]\n"
     ]
    },
    {
     "data": {
      "text/plain": [
       "[1, 4, 9]"
      ]
     },
     "execution_count": 182,
     "metadata": {},
     "output_type": "execute_result"
    }
   ],
   "source": [
    "#7.\n",
    "#ex = [1,2,3]\n",
    "ex = list(input('리스트'))\n",
    "ex = [int(x) for x in ex]\n",
    "\n",
    "print(ex)\n",
    "list(map(lambda x : x**2, ex))"
   ]
  },
  {
   "cell_type": "code",
   "execution_count": null,
   "id": "3e36b14e",
   "metadata": {},
   "outputs": [],
   "source": [
    "#8.\n",
    "*a는 튜플\n",
    "a는 리스트 자료구조가 달라서"
   ]
  },
  {
   "cell_type": "code",
   "execution_count": null,
   "id": "40e86db5",
   "metadata": {},
   "outputs": [],
   "source": [
    "#9.\n",
    "2019-9-6"
   ]
  },
  {
   "cell_type": "code",
   "execution_count": null,
   "id": "06de0289",
   "metadata": {},
   "outputs": [],
   "source": [
    "#10.\n",
    "[x for x in vector_var]"
   ]
  },
  {
   "cell_type": "code",
   "execution_count": 245,
   "id": "cb5e0337",
   "metadata": {
    "ExecuteTime": {
     "end_time": "2021-07-22T09:02:53.233291Z",
     "start_time": "2021-07-22T09:02:53.219289Z"
    }
   },
   "outputs": [
    {
     "ename": "TypeError",
     "evalue": "object of type 'int' has no len()",
     "output_type": "error",
     "traceback": [
      "\u001b[1;31m---------------------------------------------------------------------------\u001b[0m",
      "\u001b[1;31mTypeError\u001b[0m                                 Traceback (most recent call last)",
      "\u001b[1;32m<ipython-input-245-7ec847da08da>\u001b[0m in \u001b[0;36m<module>\u001b[1;34m\u001b[0m\n\u001b[0;32m      1\u001b[0m \u001b[1;31m# 리스트 컴프리헨션 이용\u001b[0m\u001b[1;33m\u001b[0m\u001b[1;33m\u001b[0m\u001b[1;33m\u001b[0m\u001b[0m\n\u001b[1;32m----> 2\u001b[1;33m \u001b[1;33m[\u001b[0m\u001b[0mx\u001b[0m \u001b[1;32mfor\u001b[0m \u001b[0mx\u001b[0m \u001b[1;32min\u001b[0m \u001b[0mlist_data\u001b[0m \u001b[1;32mif\u001b[0m \u001b[0mlen\u001b[0m\u001b[1;33m(\u001b[0m\u001b[0mlist_data\u001b[0m\u001b[1;33m[\u001b[0m\u001b[1;36m0\u001b[0m\u001b[1;33m]\u001b[0m\u001b[1;33m)\u001b[0m\u001b[1;33m==\u001b[0m\u001b[0mlen\u001b[0m\u001b[1;33m(\u001b[0m\u001b[0mx\u001b[0m\u001b[1;33m)\u001b[0m \u001b[1;33m]\u001b[0m\u001b[1;33m\u001b[0m\u001b[1;33m\u001b[0m\u001b[0m\n\u001b[0m",
      "\u001b[1;32m<ipython-input-245-7ec847da08da>\u001b[0m in \u001b[0;36m<listcomp>\u001b[1;34m(.0)\u001b[0m\n\u001b[0;32m      1\u001b[0m \u001b[1;31m# 리스트 컴프리헨션 이용\u001b[0m\u001b[1;33m\u001b[0m\u001b[1;33m\u001b[0m\u001b[1;33m\u001b[0m\u001b[0m\n\u001b[1;32m----> 2\u001b[1;33m \u001b[1;33m[\u001b[0m\u001b[0mx\u001b[0m \u001b[1;32mfor\u001b[0m \u001b[0mx\u001b[0m \u001b[1;32min\u001b[0m \u001b[0mlist_data\u001b[0m \u001b[1;32mif\u001b[0m \u001b[0mlen\u001b[0m\u001b[1;33m(\u001b[0m\u001b[0mlist_data\u001b[0m\u001b[1;33m[\u001b[0m\u001b[1;36m0\u001b[0m\u001b[1;33m]\u001b[0m\u001b[1;33m)\u001b[0m\u001b[1;33m==\u001b[0m\u001b[0mlen\u001b[0m\u001b[1;33m(\u001b[0m\u001b[0mx\u001b[0m\u001b[1;33m)\u001b[0m \u001b[1;33m]\u001b[0m\u001b[1;33m\u001b[0m\u001b[1;33m\u001b[0m\u001b[0m\n\u001b[0m",
      "\u001b[1;31mTypeError\u001b[0m: object of type 'int' has no len()"
     ]
    }
   ],
   "source": [
    "# 리스트 컴프리헨션 이용\n",
    "[x for x in list_data if len(list_data[0])==len(x) ]"
   ]
  },
  {
   "cell_type": "code",
   "execution_count": 193,
   "id": "199038ce",
   "metadata": {
    "ExecuteTime": {
     "end_time": "2021-07-22T08:07:01.038164Z",
     "start_time": "2021-07-22T08:07:01.029186Z"
    }
   },
   "outputs": [
    {
     "data": {
      "text/plain": [
       "[5, 10, 15, 20]"
      ]
     },
     "execution_count": 193,
     "metadata": {},
     "output_type": "execute_result"
    }
   ],
   "source": [
    "#11.\n",
    "def s_v_p(s,v):\n",
    "    L=[]\n",
    "    for i in v:\n",
    "        L.append(i*s)\n",
    "    return L\n",
    "s_v_p(5,[1,2,3,4])"
   ]
  },
  {
   "cell_type": "code",
   "execution_count": null,
   "id": "77d1f2aa",
   "metadata": {},
   "outputs": [],
   "source": [
    "#서술형"
   ]
  },
  {
   "cell_type": "code",
   "execution_count": null,
   "id": "d9444a66",
   "metadata": {},
   "outputs": [],
   "source": [
    "#1.\n",
    "9\n",
    "0\n",
    "2"
   ]
  },
  {
   "cell_type": "code",
   "execution_count": 224,
   "id": "e19314f9",
   "metadata": {
    "ExecuteTime": {
     "end_time": "2021-07-22T08:36:15.660797Z",
     "start_time": "2021-07-22T08:36:15.650824Z"
    }
   },
   "outputs": [],
   "source": [
    "#2."
   ]
  },
  {
   "cell_type": "code",
   "execution_count": 227,
   "id": "f998e055",
   "metadata": {
    "ExecuteTime": {
     "end_time": "2021-07-22T08:37:00.582269Z",
     "start_time": "2021-07-22T08:37:00.572297Z"
    }
   },
   "outputs": [
    {
     "data": {
      "text/plain": [
       "100"
      ]
     },
     "execution_count": 227,
     "metadata": {},
     "output_type": "execute_result"
    }
   ],
   "source": [
    "#3.\n",
    "100"
   ]
  },
  {
   "cell_type": "code",
   "execution_count": 238,
   "id": "a1fcc79d",
   "metadata": {
    "ExecuteTime": {
     "end_time": "2021-07-22T08:44:55.596338Z",
     "start_time": "2021-07-22T08:44:55.578381Z"
    }
   },
   "outputs": [
    {
     "data": {
      "text/plain": [
       "5"
      ]
     },
     "execution_count": 238,
     "metadata": {},
     "output_type": "execute_result"
    }
   ],
   "source": [
    "#4.\n",
    "5"
   ]
  },
  {
   "cell_type": "code",
   "execution_count": null,
   "id": "ae9dbe60",
   "metadata": {},
   "outputs": [],
   "source": [
    "#5.\n",
    "9"
   ]
  },
  {
   "cell_type": "code",
   "execution_count": null,
   "id": "977b32c1",
   "metadata": {},
   "outputs": [],
   "source": [
    "#6.\n",
    "1번, "
   ]
  },
  {
   "cell_type": "code",
   "execution_count": null,
   "id": "a3195212",
   "metadata": {},
   "outputs": [],
   "source": [
    "#7.\n",
    "4번"
   ]
  },
  {
   "cell_type": "code",
   "execution_count": null,
   "id": "cee240f8",
   "metadata": {},
   "outputs": [],
   "source": [
    "#8.\n",
    "lambda"
   ]
  },
  {
   "cell_type": "code",
   "execution_count": null,
   "id": "ad1cf636",
   "metadata": {},
   "outputs": [],
   "source": [
    "#9.\n",
    "2번"
   ]
  },
  {
   "cell_type": "code",
   "execution_count": null,
   "id": "bed82014",
   "metadata": {},
   "outputs": [],
   "source": []
  },
  {
   "cell_type": "code",
   "execution_count": null,
   "id": "a56b2431",
   "metadata": {},
   "outputs": [],
   "source": []
  },
  {
   "cell_type": "code",
   "execution_count": null,
   "id": "c0cd577f",
   "metadata": {},
   "outputs": [],
   "source": []
  },
  {
   "cell_type": "code",
   "execution_count": null,
   "id": "5f6a9dc5",
   "metadata": {},
   "outputs": [],
   "source": []
  },
  {
   "cell_type": "code",
   "execution_count": null,
   "id": "5a1fce71",
   "metadata": {},
   "outputs": [],
   "source": []
  },
  {
   "cell_type": "code",
   "execution_count": null,
   "id": "3303170e",
   "metadata": {},
   "outputs": [],
   "source": []
  },
  {
   "cell_type": "code",
   "execution_count": null,
   "id": "88671d7c",
   "metadata": {},
   "outputs": [],
   "source": []
  },
  {
   "cell_type": "code",
   "execution_count": null,
   "id": "427285de",
   "metadata": {},
   "outputs": [],
   "source": []
  },
  {
   "cell_type": "code",
   "execution_count": null,
   "id": "be65b457",
   "metadata": {},
   "outputs": [],
   "source": []
  },
  {
   "cell_type": "code",
   "execution_count": null,
   "id": "719a16a3",
   "metadata": {},
   "outputs": [],
   "source": []
  },
  {
   "cell_type": "code",
   "execution_count": null,
   "id": "08e3cdf6",
   "metadata": {},
   "outputs": [],
   "source": []
  },
  {
   "cell_type": "code",
   "execution_count": null,
   "id": "652b7720",
   "metadata": {},
   "outputs": [],
   "source": []
  },
  {
   "cell_type": "code",
   "execution_count": null,
   "id": "0b3444be",
   "metadata": {},
   "outputs": [],
   "source": []
  },
  {
   "cell_type": "code",
   "execution_count": null,
   "id": "d62cea65",
   "metadata": {},
   "outputs": [],
   "source": []
  },
  {
   "cell_type": "code",
   "execution_count": null,
   "id": "7a0b046f",
   "metadata": {},
   "outputs": [],
   "source": []
  },
  {
   "cell_type": "code",
   "execution_count": null,
   "id": "631d2123",
   "metadata": {},
   "outputs": [],
   "source": []
  },
  {
   "cell_type": "code",
   "execution_count": null,
   "id": "32f408ee",
   "metadata": {},
   "outputs": [],
   "source": []
  },
  {
   "cell_type": "code",
   "execution_count": null,
   "id": "e31e2e0c",
   "metadata": {},
   "outputs": [],
   "source": []
  },
  {
   "cell_type": "code",
   "execution_count": null,
   "id": "c2048007",
   "metadata": {},
   "outputs": [],
   "source": []
  },
  {
   "cell_type": "code",
   "execution_count": null,
   "id": "5a829f06",
   "metadata": {},
   "outputs": [],
   "source": []
  },
  {
   "cell_type": "code",
   "execution_count": null,
   "id": "737911e9",
   "metadata": {},
   "outputs": [],
   "source": []
  },
  {
   "cell_type": "code",
   "execution_count": null,
   "id": "df4a4946",
   "metadata": {},
   "outputs": [],
   "source": []
  },
  {
   "cell_type": "code",
   "execution_count": null,
   "id": "f93e7df6",
   "metadata": {},
   "outputs": [],
   "source": []
  },
  {
   "cell_type": "code",
   "execution_count": null,
   "id": "f904b925",
   "metadata": {},
   "outputs": [],
   "source": []
  }
 ],
 "metadata": {
  "kernelspec": {
   "display_name": "Python 3",
   "language": "python",
   "name": "python3"
  },
  "language_info": {
   "codemirror_mode": {
    "name": "ipython",
    "version": 3
   },
   "file_extension": ".py",
   "mimetype": "text/x-python",
   "name": "python",
   "nbconvert_exporter": "python",
   "pygments_lexer": "ipython3",
   "version": "3.8.8"
  },
  "toc": {
   "base_numbering": 1,
   "nav_menu": {},
   "number_sections": false,
   "sideBar": true,
   "skip_h1_title": false,
   "title_cell": "Table of Contents",
   "title_sidebar": "Contents",
   "toc_cell": false,
   "toc_position": {
    "height": "calc(100% - 180px)",
    "left": "10px",
    "top": "150px",
    "width": "165px"
   },
   "toc_section_display": true,
   "toc_window_display": true
  },
  "varInspector": {
   "cols": {
    "lenName": 16,
    "lenType": 16,
    "lenVar": 40
   },
   "kernels_config": {
    "python": {
     "delete_cmd_postfix": "",
     "delete_cmd_prefix": "del ",
     "library": "var_list.py",
     "varRefreshCmd": "print(var_dic_list())"
    },
    "r": {
     "delete_cmd_postfix": ") ",
     "delete_cmd_prefix": "rm(",
     "library": "var_list.r",
     "varRefreshCmd": "cat(var_dic_list()) "
    }
   },
   "oldHeight": 375.534,
   "position": {
    "height": "40px",
    "left": "1126.36px",
    "right": "20px",
    "top": "120px",
    "width": "250px"
   },
   "types_to_exclude": [
    "module",
    "function",
    "builtin_function_or_method",
    "instance",
    "_Feature"
   ],
   "varInspector_section_display": "none",
   "window_display": false
  }
 },
 "nbformat": 4,
 "nbformat_minor": 5
}
