{
 "cells": [
  {
   "cell_type": "markdown",
   "id": "8f269757",
   "metadata": {
    "ExecuteTime": {
     "end_time": "2021-07-26T03:13:32.724809Z",
     "start_time": "2021-07-26T03:13:32.707820Z"
    }
   },
   "source": [
    "<b><font size=\"6\" color=\"red\">ch08_예외처리</font></b>"
   ]
  },
  {
   "cell_type": "markdown",
   "id": "c0dcda4a",
   "metadata": {},
   "source": [
    "# 1절. 예외처리\n",
    "- 예외가 날 가능성이 있는 부분에 대해 미리 예상하고 그에 대한 처리를 프로그래밍하는 것.(이유:좀 더 안정적으로 실행될 수 있도록 함)\n",
    "```\n",
    "ex. 파일을 다룰 때, 파일이 없거나 쓰기 금지로 인한 오류\n",
    "ex. 데이터베이스 프로그래밍시 제약조건 등에 의한 데이터 베이스 서버 오류\n",
    "ex. 네트워크 프로그래밍 시 네트워크 연결 실패\n",
    "ex. 리스트 튜플의 인덱스를 벗어난 참조로 인한 오류\n",
    "```"
   ]
  },
  {
   "cell_type": "code",
   "execution_count": 5,
   "id": "581463ee",
   "metadata": {
    "ExecuteTime": {
     "end_time": "2021-07-26T03:41:08.810481Z",
     "start_time": "2021-07-26T03:41:08.800508Z"
    }
   },
   "outputs": [
    {
     "name": "stdout",
     "output_type": "stream",
     "text": [
      "['Hello\\n', 'World']\n"
     ]
    }
   ],
   "source": [
    "f = open('data/ch08_abc.txt','r')\n",
    "lines = f.readlines()\n",
    "print(lines)"
   ]
  },
  {
   "cell_type": "code",
   "execution_count": 7,
   "id": "60678c09",
   "metadata": {
    "ExecuteTime": {
     "end_time": "2021-07-26T03:44:08.650005Z",
     "start_time": "2021-07-26T03:44:06.729332Z"
    }
   },
   "outputs": [
    {
     "name": "stdout",
     "output_type": "stream",
     "text": [
      "파일명?d\n"
     ]
    },
    {
     "ename": "FileNotFoundError",
     "evalue": "[Errno 2] No such file or directory: 'data/d'",
     "output_type": "error",
     "traceback": [
      "\u001b[1;31m---------------------------------------------------------------------------\u001b[0m",
      "\u001b[1;31mFileNotFoundError\u001b[0m                         Traceback (most recent call last)",
      "\u001b[1;32m<ipython-input-7-8fdc5d43b703>\u001b[0m in \u001b[0;36m<module>\u001b[1;34m\u001b[0m\n\u001b[0;32m      1\u001b[0m \u001b[0mfilename\u001b[0m \u001b[1;33m=\u001b[0m \u001b[0minput\u001b[0m\u001b[1;33m(\u001b[0m\u001b[1;34m'파일명?'\u001b[0m\u001b[1;33m)\u001b[0m\u001b[1;33m\u001b[0m\u001b[1;33m\u001b[0m\u001b[0m\n\u001b[1;32m----> 2\u001b[1;33m \u001b[0mf\u001b[0m \u001b[1;33m=\u001b[0m \u001b[0mopen\u001b[0m\u001b[1;33m(\u001b[0m\u001b[1;34m'data/'\u001b[0m\u001b[1;33m+\u001b[0m\u001b[0mfilename\u001b[0m\u001b[1;33m,\u001b[0m\u001b[1;34m'r'\u001b[0m\u001b[1;33m)\u001b[0m\u001b[1;33m\u001b[0m\u001b[1;33m\u001b[0m\u001b[0m\n\u001b[0m",
      "\u001b[1;31mFileNotFoundError\u001b[0m: [Errno 2] No such file or directory: 'data/d'"
     ]
    }
   ],
   "source": [
    "filename = input('파일명?')\n",
    "f = open('data/'+filename,'r')"
   ]
  },
  {
   "cell_type": "code",
   "execution_count": 6,
   "id": "521be2cc",
   "metadata": {
    "ExecuteTime": {
     "end_time": "2021-07-26T03:44:03.424958Z",
     "start_time": "2021-07-26T03:44:03.209952Z"
    }
   },
   "outputs": [
    {
     "ename": "ZeroDivisionError",
     "evalue": "division by zero",
     "output_type": "error",
     "traceback": [
      "\u001b[1;31m---------------------------------------------------------------------------\u001b[0m",
      "\u001b[1;31mZeroDivisionError\u001b[0m                         Traceback (most recent call last)",
      "\u001b[1;32m<ipython-input-6-221068dc2815>\u001b[0m in \u001b[0;36m<module>\u001b[1;34m\u001b[0m\n\u001b[1;32m----> 1\u001b[1;33m \u001b[1;36m4\u001b[0m\u001b[1;33m/\u001b[0m\u001b[1;36m0\u001b[0m\u001b[1;33m\u001b[0m\u001b[1;33m\u001b[0m\u001b[0m\n\u001b[0m",
      "\u001b[1;31mZeroDivisionError\u001b[0m: division by zero"
     ]
    }
   ],
   "source": [
    "4/0"
   ]
  },
  {
   "cell_type": "code",
   "execution_count": 8,
   "id": "51cd066f",
   "metadata": {
    "ExecuteTime": {
     "end_time": "2021-07-26T03:44:24.283770Z",
     "start_time": "2021-07-26T03:44:24.263792Z"
    }
   },
   "outputs": [
    {
     "ename": "IndexError",
     "evalue": "list index out of range",
     "output_type": "error",
     "traceback": [
      "\u001b[1;31m---------------------------------------------------------------------------\u001b[0m",
      "\u001b[1;31mIndexError\u001b[0m                                Traceback (most recent call last)",
      "\u001b[1;32m<ipython-input-8-663846eeaec3>\u001b[0m in \u001b[0;36m<module>\u001b[1;34m\u001b[0m\n\u001b[0;32m      1\u001b[0m \u001b[0ma\u001b[0m\u001b[1;33m=\u001b[0m\u001b[1;33m[\u001b[0m\u001b[1;36m1\u001b[0m\u001b[1;33m,\u001b[0m\u001b[1;36m2\u001b[0m\u001b[1;33m,\u001b[0m\u001b[1;36m3\u001b[0m\u001b[1;33m]\u001b[0m\u001b[1;33m\u001b[0m\u001b[1;33m\u001b[0m\u001b[0m\n\u001b[1;32m----> 2\u001b[1;33m \u001b[0ma\u001b[0m\u001b[1;33m[\u001b[0m\u001b[1;36m3\u001b[0m\u001b[1;33m]\u001b[0m\u001b[1;33m\u001b[0m\u001b[1;33m\u001b[0m\u001b[0m\n\u001b[0m",
      "\u001b[1;31mIndexError\u001b[0m: list index out of range"
     ]
    }
   ],
   "source": [
    "a=[1,2,3]\n",
    "a[3]"
   ]
  },
  {
   "cell_type": "markdown",
   "id": "e4665063",
   "metadata": {},
   "source": [
    "# 2절. try ~ except로 예외처리"
   ]
  },
  {
   "cell_type": "markdown",
   "id": "1155b69f",
   "metadata": {},
   "source": [
    "## 2.1 try ~ except\n",
    "```\n",
    "try:\n",
    "    예외가 발생할 가능성이 있는 문장1\n",
    "    명령어....\n",
    "except Error1:\n",
    "    예외가 발생했을 경우 실행할 문장\n",
    "except Error2:\n",
    "    예외가 발생했을 경우 실행할 문장\n",
    "```\n",
    "**예외별로 명시시 상위 클래스의 예외는 하위예외클래스보다 아래에 나와야 함**"
   ]
  },
  {
   "cell_type": "code",
   "execution_count": 11,
   "id": "056db0ee",
   "metadata": {
    "ExecuteTime": {
     "end_time": "2021-07-26T03:50:02.077700Z",
     "start_time": "2021-07-26T03:50:00.068390Z"
    }
   },
   "outputs": [
    {
     "name": "stdout",
     "output_type": "stream",
     "text": [
      "정수를 입력하세요 :a\n"
     ]
    },
    {
     "ename": "ValueError",
     "evalue": "invalid literal for int() with base 10: 'a'",
     "output_type": "error",
     "traceback": [
      "\u001b[1;31m---------------------------------------------------------------------------\u001b[0m",
      "\u001b[1;31mValueError\u001b[0m                                Traceback (most recent call last)",
      "\u001b[1;32m<ipython-input-11-ea9cb5802afc>\u001b[0m in \u001b[0;36m<module>\u001b[1;34m\u001b[0m\n\u001b[0;32m      1\u001b[0m \u001b[1;31m# 100을 입력받은 정수값으로 나눠 출력한다\u001b[0m\u001b[1;33m\u001b[0m\u001b[1;33m\u001b[0m\u001b[1;33m\u001b[0m\u001b[0m\n\u001b[1;32m----> 2\u001b[1;33m \u001b[0mx\u001b[0m \u001b[1;33m=\u001b[0m \u001b[0mint\u001b[0m\u001b[1;33m(\u001b[0m\u001b[0minput\u001b[0m\u001b[1;33m(\u001b[0m\u001b[1;34m'정수를 입력하세요 :'\u001b[0m\u001b[1;33m)\u001b[0m\u001b[1;33m)\u001b[0m\u001b[1;33m\u001b[0m\u001b[1;33m\u001b[0m\u001b[0m\n\u001b[0m\u001b[0;32m      3\u001b[0m \u001b[0mprint\u001b[0m\u001b[1;33m(\u001b[0m\u001b[1;34m\"입력한 정수는 {}\"\u001b[0m\u001b[1;33m.\u001b[0m\u001b[0mformat\u001b[0m\u001b[1;33m(\u001b[0m\u001b[0mx\u001b[0m\u001b[1;33m)\u001b[0m\u001b[1;33m)\u001b[0m\u001b[1;33m\u001b[0m\u001b[1;33m\u001b[0m\u001b[0m\n\u001b[0;32m      4\u001b[0m \u001b[0mprint\u001b[0m\u001b[1;33m(\u001b[0m\u001b[1;34m\"100을 입력한 정수로 나누면 {:.2f}입니다.\"\u001b[0m\u001b[1;33m.\u001b[0m\u001b[0mformat\u001b[0m\u001b[1;33m(\u001b[0m\u001b[1;36m100\u001b[0m\u001b[1;33m/\u001b[0m\u001b[0mx\u001b[0m\u001b[1;33m)\u001b[0m\u001b[1;33m)\u001b[0m\u001b[1;33m\u001b[0m\u001b[1;33m\u001b[0m\u001b[0m\n\u001b[0;32m      5\u001b[0m \u001b[1;33m\u001b[0m\u001b[0m\n",
      "\u001b[1;31mValueError\u001b[0m: invalid literal for int() with base 10: 'a'"
     ]
    }
   ],
   "source": [
    "# 100을 입력받은 정수값으로 나눠 출력한다\n",
    "x = int(input('정수를 입력하세요 :'))\n",
    "print(\"입력한 정수는 {}\".format(x))\n",
    "print(\"100을 입력한 정수로 나누면 {:.2f}입니다.\".format(100/x))\n",
    "\n",
    "# ZeroDivisionError : 0을 입력했을 경우 예외\n",
    "# ValueError : 수를 입력하지 않을 경우 예외\n",
    "\n"
   ]
  },
  {
   "cell_type": "code",
   "execution_count": 12,
   "id": "cdf70c04",
   "metadata": {
    "ExecuteTime": {
     "end_time": "2021-07-26T03:52:39.381632Z",
     "start_time": "2021-07-26T03:52:36.063097Z"
    }
   },
   "outputs": [
    {
     "name": "stdout",
     "output_type": "stream",
     "text": [
      "정수를 입력하세요 :ㄴ\n",
      "유효한 정수가 아닙니다\n"
     ]
    }
   ],
   "source": [
    "try:\n",
    "    x = int(input('정수를 입력하세요 :'))\n",
    "    print(\"입력한 정수는 {}\".format(x))\n",
    "    print(\"100을 입력한 정수로 나누면 {:.2f}입니다.\".format(100/x))\n",
    "except:\n",
    "    print(\"유효한 정수가 아닙니다\")"
   ]
  },
  {
   "cell_type": "code",
   "execution_count": 13,
   "id": "1e149b57",
   "metadata": {
    "ExecuteTime": {
     "end_time": "2021-07-26T03:56:13.120762Z",
     "start_time": "2021-07-26T03:56:08.685716Z"
    }
   },
   "outputs": [
    {
     "name": "stdout",
     "output_type": "stream",
     "text": [
      "정수를 입력하세요 :ㅣ\n",
      "유효한 정수가 아닙니다. 다시 입력하세요\n",
      "정수를 입력하세요 :ㄴ\n",
      "유효한 정수가 아닙니다. 다시 입력하세요\n",
      "정수를 입력하세요 :ㅇ\n",
      "유효한 정수가 아닙니다. 다시 입력하세요\n",
      "정수를 입력하세요 :2\n",
      "입력한 수는 2\n",
      "100을 입력한 수로 나누면 50.000000\n"
     ]
    }
   ],
   "source": [
    "#유효한 정수를 입력할때 까지 입력받아 유효한 정수를 입력받을 경우 입력한 정수와 100을 입력한 수를 나눈 결과 출력\n",
    "while True:\n",
    "    try:\n",
    "        x = int(input('정수를 입력하세요 :'))\n",
    "        print('입력한 수는 {}'.format(x))\n",
    "        print('100을 입력한 수로 나누면 {:.2f}'.format(100/x))\n",
    "        break\n",
    "    except:\n",
    "        print('유효한 정수가 아닙니다. 다시 입력하세요')"
   ]
  },
  {
   "cell_type": "markdown",
   "id": "09b81fce",
   "metadata": {},
   "source": [
    "## 2.2 예외를 지정한 처리\n",
    "```\n",
    "try:\n",
    "    예외가 발생할 수도 있는 문장\n",
    "except Exception:\n",
    "    해당 예외가 발생할 경우 실행할 문장\n",
    "```"
   ]
  },
  {
   "cell_type": "code",
   "execution_count": 15,
   "id": "507037e9",
   "metadata": {
    "ExecuteTime": {
     "end_time": "2021-07-26T04:05:55.447467Z",
     "start_time": "2021-07-26T04:05:48.667200Z"
    }
   },
   "outputs": [
    {
     "name": "stdout",
     "output_type": "stream",
     "text": [
      "정수를 입력하세요 :2\n",
      "입력한 수는 2\n",
      "100을 입력한 수로 나누면 50.00\n"
     ]
    }
   ],
   "source": [
    "#유효한 정수를 입력할때 까지 입력받아 유효한 정수를 입력받을 경우 입력한 정수와 100을 입력한 수를 나눈 결과 출력\n",
    "# ZeroDivisionError : 0을 입력했을 경우 예외\n",
    "# ValueError : 수를 입력하지 않을 경우 예외\n",
    "while True:\n",
    "    try:\n",
    "        x = int(input('정수를 입력하세요 :'))\n",
    "        print('입력한 수는 {}'.format(x))\n",
    "        print('100을 입력한 수로 나누면 {:.2f}'.format(100/x))\n",
    "        break\n",
    "    except ZeroDivisionError:\n",
    "        print('0으로 나눌 수 없습니다. 다시 시도하세요')\n",
    "    except ValueError:\n",
    "        print(\"유효한 정수가 아닙니다. 다시 시도하세요\")\n",
    "    except Exception:\n",
    "        print('★ 다시 시도하세요')"
   ]
  },
  {
   "cell_type": "code",
   "execution_count": 16,
   "id": "8a8f3a83",
   "metadata": {
    "ExecuteTime": {
     "end_time": "2021-07-26T04:06:09.101781Z",
     "start_time": "2021-07-26T04:06:04.196506Z"
    }
   },
   "outputs": [
    {
     "name": "stdout",
     "output_type": "stream",
     "text": [
      "정수를 입력하세요 :ㅁ\n",
      "★ 다시 시도하세요\n",
      "정수를 입력하세요 :ㄴ\n",
      "★ 다시 시도하세요\n",
      "정수를 입력하세요 :3\n",
      "입력한 수는 3\n",
      "100을 입력한 수로 나누면 33.33\n"
     ]
    }
   ],
   "source": [
    "#유효한 정수를 입력할때 까지 입력받아 유효한 정수를 입력받을 경우 입력한 정수와 100을 입력한 수를 나눈 결과 출력\n",
    "# ZeroDivisionError : 0을 입력했을 경우 예외\n",
    "# ValueError : 수를 입력하지 않을 경우 예외\n",
    "# 예외별로 명시시 상위 클래스의 예외는 하위예외클래스보다 아래에 나와야 함\n",
    "while True:\n",
    "    try:\n",
    "        x = int(input('정수를 입력하세요 :'))\n",
    "        print('입력한 수는 {}'.format(x))\n",
    "        print('100을 입력한 수로 나누면 {:.2f}'.format(100/x))\n",
    "        break\n",
    "    except Exception:\n",
    "        print('★ 다시 시도하세요')        \n",
    "    except ZeroDivisionError:\n",
    "        print('0으로 나눌 수 없습니다. 다시 시도하세요')\n",
    "    except ValueError:\n",
    "        print(\"유효한 정수가 아닙니다. 다시 시도하세요\")\n"
   ]
  },
  {
   "cell_type": "code",
   "execution_count": null,
   "id": "0e88ff87",
   "metadata": {},
   "outputs": [],
   "source": [
    "while True:\n",
    "    try:\n",
    "        x = int(input('정수를 입력하세요 :'))\n",
    "        print('입력한 수는 {}'.format(x))\n",
    "        print('100을 입력한 수로 나누면 {:.2f}'.format(100/x))\n",
    "        break\n",
    "    except (ZeroDivisionError, ValueError):\n",
    "        print('유효한 정수 입력하세요. 다시 시도하세요')       \n",
    "    except Exception:\n",
    "        print('★ 다시 시도하세요')        \n"
   ]
  },
  {
   "cell_type": "markdown",
   "id": "cd59c474",
   "metadata": {},
   "source": [
    "## 2.3 예외인수(e)"
   ]
  },
  {
   "cell_type": "code",
   "execution_count": 17,
   "id": "feed10f4",
   "metadata": {
    "ExecuteTime": {
     "end_time": "2021-07-26T04:17:13.993831Z",
     "start_time": "2021-07-26T04:16:00.891385Z"
    }
   },
   "outputs": [
    {
     "name": "stdout",
     "output_type": "stream",
     "text": [
      "정수를 입력하세요 :0\n",
      "입력한 수는 0\n",
      "예외 유형 : <class 'ZeroDivisionError'>\n",
      "예외메세지 : division by zero\n",
      "예외메세지 : ('division by zero',)\n",
      "예외메세지 : division by zero\n",
      "e의 타입이 Exception타입 이기도 한지 : True\n",
      "정수를 입력하세요 :a\n",
      "예외 유형 : <class 'ValueError'>\n",
      "예외메세지 : invalid literal for int() with base 10: 'a'\n",
      "예외메세지 : (\"invalid literal for int() with base 10: 'a'\",)\n",
      "예외메세지 : invalid literal for int() with base 10: 'a'\n",
      "e의 타입이 Exception타입 이기도 한지 : True\n",
      "정수를 입력하세요 :2\n",
      "입력한 수는 2\n",
      "100을 입력한 수로 나누면 50.00\n"
     ]
    }
   ],
   "source": [
    "while True:\n",
    "    try:\n",
    "        x = int(input('정수를 입력하세요 :'))\n",
    "        print('입력한 수는 {}'.format(x))\n",
    "        print('100을 입력한 수로 나누면 {:.2f}'.format(100/x))\n",
    "        break\n",
    "    except (ZeroDivisionError, ValueError) as e:\n",
    "        print('예외 유형 :', type(e))\n",
    "        print('예외메세지 :',e)\n",
    "        print('예외메세지 :',e.args)\n",
    "        print('예외메세지 :',e.args[0])\n",
    "        print('e의 타입이 Exception타입 이기도 한지 :', isinstance(e, Exception))\n"
   ]
  },
  {
   "cell_type": "code",
   "execution_count": 19,
   "id": "9a1cc270",
   "metadata": {
    "ExecuteTime": {
     "end_time": "2021-07-26T04:19:07.835836Z",
     "start_time": "2021-07-26T04:19:07.817850Z"
    }
   },
   "outputs": [
    {
     "name": "stdout",
     "output_type": "stream",
     "text": [
      "list index out of range\n"
     ]
    }
   ],
   "source": [
    "try:\n",
    "    a=[1,2,3]\n",
    "    a[3]\n",
    "except IndexError as e:\n",
    "    print(e)"
   ]
  },
  {
   "cell_type": "code",
   "execution_count": null,
   "id": "76e595f6",
   "metadata": {},
   "outputs": [],
   "source": [
    "# try ~ except ~ (else ~) finally\n",
    "# try 블럭을 수행하다가 예외가 발생되면 except블럭을 실행하고,\n",
    "                        # 예외가 발생하지 않으면 else 블록실행합니다.\n",
    "                        # finally절은 예외 발생유무에 관계없이 무조건 실행"
   ]
  },
  {
   "cell_type": "code",
   "execution_count": 20,
   "id": "8c29ad2d",
   "metadata": {
    "ExecuteTime": {
     "end_time": "2021-07-26T05:38:13.532471Z",
     "start_time": "2021-07-26T05:38:13.526450Z"
    }
   },
   "outputs": [
    {
     "name": "stdout",
     "output_type": "stream",
     "text": [
      "Hello\n",
      "World\n"
     ]
    }
   ],
   "source": [
    "try:\n",
    "    f= open('data/ch08_abc.txt','r')\n",
    "except FileNotFoundError:\n",
    "    print('해당 파일이 없습니다.')\n",
    "else:\n",
    "    data = f.read()\n",
    "    print(data)\n",
    "finally:\n",
    "    f.close()"
   ]
  },
  {
   "cell_type": "code",
   "execution_count": 21,
   "id": "62ba3550",
   "metadata": {
    "ExecuteTime": {
     "end_time": "2021-07-26T05:39:24.170759Z",
     "start_time": "2021-07-26T05:39:24.163788Z"
    }
   },
   "outputs": [
    {
     "name": "stdout",
     "output_type": "stream",
     "text": [
      "Hello\n",
      "World\n"
     ]
    }
   ],
   "source": [
    "try:\n",
    "    f= open('data/ch08_abc.txt','r')\n",
    "    data = f.read()\n",
    "    print(data)\n",
    "except FileNotFoundError:\n",
    "    print('해당 파일이 없습니다.')\n",
    "finally:\n",
    "    f.close()"
   ]
  },
  {
   "cell_type": "markdown",
   "id": "0068a52c",
   "metadata": {},
   "source": [
    "# 3절. 인위적으로 예외발생하기(raise)"
   ]
  },
  {
   "cell_type": "code",
   "execution_count": 22,
   "id": "c4121bed",
   "metadata": {
    "ExecuteTime": {
     "end_time": "2021-07-26T05:41:51.714444Z",
     "start_time": "2021-07-26T05:41:51.693992Z"
    }
   },
   "outputs": [
    {
     "ename": "NameError",
     "evalue": "예외가 발생했어요",
     "output_type": "error",
     "traceback": [
      "\u001b[1;31m---------------------------------------------------------------------------\u001b[0m",
      "\u001b[1;31mNameError\u001b[0m                                 Traceback (most recent call last)",
      "\u001b[1;32m<ipython-input-22-eba1563807a6>\u001b[0m in \u001b[0;36m<module>\u001b[1;34m\u001b[0m\n\u001b[1;32m----> 1\u001b[1;33m \u001b[1;32mraise\u001b[0m \u001b[0mNameError\u001b[0m\u001b[1;33m(\u001b[0m\u001b[1;34m\"예외가 발생했어요\"\u001b[0m\u001b[1;33m)\u001b[0m\u001b[1;33m\u001b[0m\u001b[1;33m\u001b[0m\u001b[0m\n\u001b[0m",
      "\u001b[1;31mNameError\u001b[0m: 예외가 발생했어요"
     ]
    }
   ],
   "source": [
    "raise NameError(\"예외가 발생했어요\")"
   ]
  },
  {
   "cell_type": "code",
   "execution_count": 23,
   "id": "629cb8f9",
   "metadata": {
    "ExecuteTime": {
     "end_time": "2021-07-26T05:44:01.457126Z",
     "start_time": "2021-07-26T05:44:01.449178Z"
    }
   },
   "outputs": [],
   "source": [
    "class LengthZeroError(Exception):\n",
    "    \"길이가 0일때 발생하는 예외\"\n",
    "    pass"
   ]
  },
  {
   "cell_type": "code",
   "execution_count": 24,
   "id": "78b6d007",
   "metadata": {
    "ExecuteTime": {
     "end_time": "2021-07-26T05:45:59.126545Z",
     "start_time": "2021-07-26T05:45:59.107573Z"
    }
   },
   "outputs": [],
   "source": [
    "def insert(data):\n",
    "    if len(data) == 0:\n",
    "        raise LengthZeroError(\"매개변수의 길이가 0\")\n",
    "    for item in data:\n",
    "        print(item, end=' ')\n",
    "    print(\"등을 입력하였습니다\")"
   ]
  },
  {
   "cell_type": "code",
   "execution_count": 25,
   "id": "107a4293",
   "metadata": {
    "ExecuteTime": {
     "end_time": "2021-07-26T05:47:09.632258Z",
     "start_time": "2021-07-26T05:47:09.614287Z"
    }
   },
   "outputs": [
    {
     "name": "stdout",
     "output_type": "stream",
     "text": [
      "1 2 3 4 5 등을 입력하였습니다\n",
      "정상 실행\n",
      "무조건 실행 - DONE\n"
     ]
    }
   ],
   "source": [
    "data = []\n",
    "try:\n",
    "    insert([1,2,3,4,5])\n",
    "except LengthZeroError as e:\n",
    "    print(e)\n",
    "else:\n",
    "    print(\"정상 실행\")\n",
    "finally:\n",
    "    print(\"무조건 실행 - DONE\")"
   ]
  },
  {
   "cell_type": "code",
   "execution_count": 26,
   "id": "d7cba693",
   "metadata": {
    "ExecuteTime": {
     "end_time": "2021-07-26T05:47:34.021302Z",
     "start_time": "2021-07-26T05:47:34.004352Z"
    }
   },
   "outputs": [
    {
     "name": "stdout",
     "output_type": "stream",
     "text": [
      "매개변수의 길이가 0\n",
      "무조건 실행 - DONE\n"
     ]
    }
   ],
   "source": [
    "data = []\n",
    "try:\n",
    "    insert(data)\n",
    "except LengthZeroError as e:\n",
    "    print(e)\n",
    "else:\n",
    "    print(\"정상 실행\")\n",
    "finally:\n",
    "    print(\"무조건 실행 - DONE\")"
   ]
  },
  {
   "cell_type": "markdown",
   "id": "365cd57f",
   "metadata": {},
   "source": [
    "# 4절. 추상클래스(아웃라인 잡아줌)\n",
    "- python은 추상클래스를 생성할 수 없으나 raise를 이용해서 추상클래스를 흉내냄"
   ]
  },
  {
   "cell_type": "code",
   "execution_count": 42,
   "id": "434c0c3f",
   "metadata": {
    "ExecuteTime": {
     "end_time": "2021-07-26T08:24:43.093588Z",
     "start_time": "2021-07-26T08:24:43.070658Z"
    }
   },
   "outputs": [],
   "source": [
    "class Shape:\n",
    "    def __init__(self):\n",
    "        raise NotImplementedError(\"추상클래스 역할\")\n",
    "    def calc_area(self):\n",
    "        raise NotImplementedError"
   ]
  },
  {
   "cell_type": "code",
   "execution_count": 43,
   "id": "6e2b0159",
   "metadata": {
    "ExecuteTime": {
     "end_time": "2021-07-26T08:24:52.257360Z",
     "start_time": "2021-07-26T08:24:52.252379Z"
    }
   },
   "outputs": [],
   "source": [
    "import numpy as np\n",
    "class Circle(Shape):\n",
    "    def __init__(self, radius):\n",
    "        self.radius = radius\n",
    "    def calc_area(self):\n",
    "        return self.radius * self.radius * np.pi"
   ]
  },
  {
   "cell_type": "code",
   "execution_count": 45,
   "id": "8f50376e",
   "metadata": {
    "ExecuteTime": {
     "end_time": "2021-07-26T08:25:22.603974Z",
     "start_time": "2021-07-26T08:25:22.593986Z"
    }
   },
   "outputs": [
    {
     "data": {
      "text/plain": [
       "78.53981633974483"
      ]
     },
     "execution_count": 45,
     "metadata": {},
     "output_type": "execute_result"
    }
   ],
   "source": [
    "myCircle = Circle(5)\n",
    "myCircle.calc_area()"
   ]
  },
  {
   "cell_type": "markdown",
   "id": "4be35e53",
   "metadata": {},
   "source": [
    "# 5절. 파일 절리 작업(with 절 이용)"
   ]
  },
  {
   "cell_type": "code",
   "execution_count": 36,
   "id": "e15d938c",
   "metadata": {
    "ExecuteTime": {
     "end_time": "2021-07-26T06:00:33.471524Z",
     "start_time": "2021-07-26T06:00:33.463518Z"
    }
   },
   "outputs": [
    {
     "name": "stdout",
     "output_type": "stream",
     "text": [
      "['Hello\\n', 'World']\n"
     ]
    }
   ],
   "source": [
    "try:\n",
    "    f=open('data/ch08_abc.txt','r')\n",
    "    lines = f.readlines() #txt파일을 한줄한줄 모든줄을 한꺼번에 읽어 list로 담음\n",
    "    print(lines)\n",
    "except FileNotFoundError as e:\n",
    "    print(e)\n",
    "finally:\n",
    "    f.close() #제일 중요"
   ]
  },
  {
   "cell_type": "code",
   "execution_count": 41,
   "id": "6a42bd6e",
   "metadata": {
    "ExecuteTime": {
     "end_time": "2021-07-26T06:06:12.781832Z",
     "start_time": "2021-07-26T06:06:12.761897Z"
    }
   },
   "outputs": [
    {
     "name": "stdout",
     "output_type": "stream",
     "text": [
      "['Hello\\n', 'World']\n",
      "Done\n"
     ]
    },
    {
     "ename": "ValueError",
     "evalue": "I/O operation on closed file.",
     "output_type": "error",
     "traceback": [
      "\u001b[1;31m---------------------------------------------------------------------------\u001b[0m",
      "\u001b[1;31mValueError\u001b[0m                                Traceback (most recent call last)",
      "\u001b[1;32m<ipython-input-41-6fcec0f90a47>\u001b[0m in \u001b[0;36m<module>\u001b[1;34m\u001b[0m\n\u001b[0;32m      4\u001b[0m     \u001b[0mprint\u001b[0m\u001b[1;33m(\u001b[0m\u001b[0mlines\u001b[0m\u001b[1;33m)\u001b[0m\u001b[1;33m\u001b[0m\u001b[1;33m\u001b[0m\u001b[0m\n\u001b[0;32m      5\u001b[0m \u001b[0mprint\u001b[0m\u001b[1;33m(\u001b[0m\u001b[1;34m'Done'\u001b[0m\u001b[1;33m)\u001b[0m\u001b[1;33m\u001b[0m\u001b[1;33m\u001b[0m\u001b[0m\n\u001b[1;32m----> 6\u001b[1;33m \u001b[0mf\u001b[0m\u001b[1;33m.\u001b[0m\u001b[0mread\u001b[0m\u001b[1;33m(\u001b[0m\u001b[1;33m)\u001b[0m\u001b[1;33m\u001b[0m\u001b[1;33m\u001b[0m\u001b[0m\n\u001b[0m",
      "\u001b[1;31mValueError\u001b[0m: I/O operation on closed file."
     ]
    }
   ],
   "source": [
    "# with절 이후에는 자동적으로 파일 close()실행\n",
    "with open('data/ch08_abc.txt') as f:\n",
    "    lines = f.readlines()\n",
    "    print(lines)\n",
    "print('Done')\n",
    "f.read()"
   ]
  },
  {
   "cell_type": "code",
   "execution_count": 40,
   "id": "93dc8919",
   "metadata": {
    "ExecuteTime": {
     "end_time": "2021-07-26T06:05:39.811366Z",
     "start_time": "2021-07-26T06:05:39.802389Z"
    }
   },
   "outputs": [
    {
     "name": "stdout",
     "output_type": "stream",
     "text": [
      "['Hello\\n', 'World']\n"
     ]
    }
   ],
   "source": [
    "try:\n",
    "    with open('data/ch08_abc.txt','r') as f:\n",
    "        lines = f.readlines()\n",
    "    print(lines)\n",
    "except FileNotFoundError as e:\n",
    "    print(e)"
   ]
  },
  {
   "cell_type": "code",
   "execution_count": null,
   "id": "f73d75e5",
   "metadata": {},
   "outputs": [],
   "source": []
  },
  {
   "cell_type": "code",
   "execution_count": null,
   "id": "ecab6a30",
   "metadata": {},
   "outputs": [],
   "source": []
  },
  {
   "cell_type": "code",
   "execution_count": null,
   "id": "67140570",
   "metadata": {},
   "outputs": [],
   "source": []
  },
  {
   "cell_type": "code",
   "execution_count": null,
   "id": "03c3fe32",
   "metadata": {},
   "outputs": [],
   "source": []
  },
  {
   "cell_type": "code",
   "execution_count": null,
   "id": "3bc80245",
   "metadata": {},
   "outputs": [],
   "source": []
  },
  {
   "cell_type": "code",
   "execution_count": null,
   "id": "4be6c621",
   "metadata": {},
   "outputs": [],
   "source": []
  },
  {
   "cell_type": "code",
   "execution_count": null,
   "id": "d1b78290",
   "metadata": {},
   "outputs": [],
   "source": []
  },
  {
   "cell_type": "code",
   "execution_count": null,
   "id": "44b0bc60",
   "metadata": {},
   "outputs": [],
   "source": []
  },
  {
   "cell_type": "code",
   "execution_count": null,
   "id": "828e1191",
   "metadata": {},
   "outputs": [],
   "source": []
  }
 ],
 "metadata": {
  "kernelspec": {
   "display_name": "Python 3",
   "language": "python",
   "name": "python3"
  },
  "language_info": {
   "codemirror_mode": {
    "name": "ipython",
    "version": 3
   },
   "file_extension": ".py",
   "mimetype": "text/x-python",
   "name": "python",
   "nbconvert_exporter": "python",
   "pygments_lexer": "ipython3",
   "version": "3.8.8"
  },
  "toc": {
   "base_numbering": 1,
   "nav_menu": {},
   "number_sections": false,
   "sideBar": true,
   "skip_h1_title": false,
   "title_cell": "Table of Contents",
   "title_sidebar": "Contents",
   "toc_cell": false,
   "toc_position": {},
   "toc_section_display": true,
   "toc_window_display": true
  },
  "varInspector": {
   "cols": {
    "lenName": 16,
    "lenType": 16,
    "lenVar": 40
   },
   "kernels_config": {
    "python": {
     "delete_cmd_postfix": "",
     "delete_cmd_prefix": "del ",
     "library": "var_list.py",
     "varRefreshCmd": "print(var_dic_list())"
    },
    "r": {
     "delete_cmd_postfix": ") ",
     "delete_cmd_prefix": "rm(",
     "library": "var_list.r",
     "varRefreshCmd": "cat(var_dic_list()) "
    }
   },
   "types_to_exclude": [
    "module",
    "function",
    "builtin_function_or_method",
    "instance",
    "_Feature"
   ],
   "window_display": false
  }
 },
 "nbformat": 4,
 "nbformat_minor": 5
}
