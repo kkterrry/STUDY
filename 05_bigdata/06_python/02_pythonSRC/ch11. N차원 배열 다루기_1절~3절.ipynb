{
 "cells": [
  {
   "cell_type": "markdown",
   "id": "a7b9295d",
   "metadata": {
    "ExecuteTime": {
     "end_time": "2021-07-26T06:11:02.983433Z",
     "start_time": "2021-07-26T06:11:02.965481Z"
    }
   },
   "source": [
    "<b><font size=\"6\" color=\"red\">ch11. N차원 배열 다루기 </font></b>\n",
    "- N차원 배열 객체\n",
    "- 2차원 배열은 행렬개념으로 이해가능\n",
    "- 패키지 Numpy 이용(C언어로 구현된 고성능 수치계산 패키지)\n",
    "- c/c++,포트란 코드의 통합도구"
   ]
  },
  {
   "cell_type": "markdown",
   "id": "c5ff088f",
   "metadata": {},
   "source": [
    "# 1절 넘파이 패키지"
   ]
  },
  {
   "cell_type": "code",
   "execution_count": 1,
   "id": "3441daea",
   "metadata": {
    "ExecuteTime": {
     "end_time": "2021-07-29T05:53:07.854533Z",
     "start_time": "2021-07-29T05:53:07.835584Z"
    }
   },
   "outputs": [
    {
     "data": {
      "text/plain": [
       "'1.20.1'"
      ]
     },
     "execution_count": 1,
     "metadata": {},
     "output_type": "execute_result"
    }
   ],
   "source": [
    "import numpy as np\n",
    "np.__version__"
   ]
  },
  {
   "cell_type": "code",
   "execution_count": 3,
   "id": "f37b5c1a",
   "metadata": {
    "ExecuteTime": {
     "end_time": "2021-07-29T05:57:42.008699Z",
     "start_time": "2021-07-29T05:57:41.999723Z"
    }
   },
   "outputs": [
    {
     "data": {
      "text/plain": [
       "array([ 0,  1,  2,  3,  4,  5,  6,  7,  8,  9, 10, 11, 12, 13, 14])"
      ]
     },
     "execution_count": 3,
     "metadata": {},
     "output_type": "execute_result"
    }
   ],
   "source": [
    "a = np.arange(15) #0부터 15앞까지 1씩 증가하는 1차원 배열\n",
    "a"
   ]
  },
  {
   "cell_type": "code",
   "execution_count": 5,
   "id": "a5e18fae",
   "metadata": {
    "ExecuteTime": {
     "end_time": "2021-07-29T05:59:55.175720Z",
     "start_time": "2021-07-29T05:59:55.169737Z"
    }
   },
   "outputs": [
    {
     "data": {
      "text/plain": [
       "array([[ 0,  1,  2,  3,  4],\n",
       "       [ 5,  6,  7,  8,  9],\n",
       "       [10, 11, 12, 13, 14]])"
      ]
     },
     "execution_count": 5,
     "metadata": {},
     "output_type": "execute_result"
    }
   ],
   "source": [
    "from numpy import arange\n",
    "a = arange(15).reshape(3,5) #3행 5열짜리 2차원\n",
    "a"
   ]
  },
  {
   "cell_type": "code",
   "execution_count": 6,
   "id": "b50fe75c",
   "metadata": {
    "ExecuteTime": {
     "end_time": "2021-07-29T06:00:11.062680Z",
     "start_time": "2021-07-29T06:00:11.054736Z"
    },
    "scrolled": true
   },
   "outputs": [
    {
     "data": {
      "text/plain": [
       "numpy.ndarray"
      ]
     },
     "execution_count": 6,
     "metadata": {},
     "output_type": "execute_result"
    }
   ],
   "source": [
    "type(a) #a변수의 타입"
   ]
  },
  {
   "cell_type": "markdown",
   "id": "e5660c39",
   "metadata": {},
   "source": [
    "- NumPy ndarray\n",
    "\n",
    "- 동일 타입의 원소\n",
    "  - contiguous memory layout\n",
    "  - 메모리 최적화, 계산 속도 향상\n",
    "  - 벡터화 연산 가능\n",
    "\n",
    "- ndarray는 일반 파이썬 List의 구현방식(Linked List)와 다르게 C의 배열(array)의 특성인 연속적인 메모리에 배치된다는 점입니다.\n",
    "\n",
    "\n"
   ]
  },
  {
   "cell_type": "code",
   "execution_count": 7,
   "id": "d288abb6",
   "metadata": {
    "ExecuteTime": {
     "end_time": "2021-07-29T06:00:50.772328Z",
     "start_time": "2021-07-29T06:00:50.755407Z"
    }
   },
   "outputs": [
    {
     "data": {
      "text/plain": [
       "dtype('int32')"
      ]
     },
     "execution_count": 7,
     "metadata": {},
     "output_type": "execute_result"
    }
   ],
   "source": [
    "a.dtype #a변수의 요소들의 type"
   ]
  },
  {
   "cell_type": "code",
   "execution_count": 8,
   "id": "72b58890",
   "metadata": {
    "ExecuteTime": {
     "end_time": "2021-07-29T06:01:47.498418Z",
     "start_time": "2021-07-29T06:01:47.488444Z"
    }
   },
   "outputs": [
    {
     "data": {
      "text/plain": [
       "'int32'"
      ]
     },
     "execution_count": 8,
     "metadata": {},
     "output_type": "execute_result"
    }
   ],
   "source": [
    "a.dtype.name # a 배열변수의 요소들의 type"
   ]
  },
  {
   "cell_type": "code",
   "execution_count": 9,
   "id": "b1aa1dde",
   "metadata": {
    "ExecuteTime": {
     "end_time": "2021-07-29T06:03:09.193824Z",
     "start_time": "2021-07-29T06:03:09.188805Z"
    }
   },
   "outputs": [
    {
     "data": {
      "text/plain": [
       "4"
      ]
     },
     "execution_count": 9,
     "metadata": {},
     "output_type": "execute_result"
    }
   ],
   "source": [
    "a.itemsize #a배열변수의 한 요소의 byte size (int32의 경우 4byte)"
   ]
  },
  {
   "cell_type": "code",
   "execution_count": 10,
   "id": "9d2d2526",
   "metadata": {
    "ExecuteTime": {
     "end_time": "2021-07-29T06:03:23.643681Z",
     "start_time": "2021-07-29T06:03:23.637710Z"
    }
   },
   "outputs": [
    {
     "data": {
      "text/plain": [
       "2"
      ]
     },
     "execution_count": 10,
     "metadata": {},
     "output_type": "execute_result"
    }
   ],
   "source": [
    "a.ndim #축수"
   ]
  },
  {
   "cell_type": "code",
   "execution_count": 11,
   "id": "550235ed",
   "metadata": {
    "ExecuteTime": {
     "end_time": "2021-07-29T06:03:58.334584Z",
     "start_time": "2021-07-29T06:03:58.321642Z"
    }
   },
   "outputs": [
    {
     "data": {
      "text/plain": [
       "15"
      ]
     },
     "execution_count": 11,
     "metadata": {},
     "output_type": "execute_result"
    }
   ],
   "source": [
    "a.size # 배열의 요소 갯수"
   ]
  },
  {
   "cell_type": "code",
   "execution_count": 12,
   "id": "ce6af7c7",
   "metadata": {
    "ExecuteTime": {
     "end_time": "2021-07-29T06:04:20.633593Z",
     "start_time": "2021-07-29T06:04:20.620635Z"
    }
   },
   "outputs": [
    {
     "data": {
      "text/plain": [
       "(3, 5)"
      ]
     },
     "execution_count": 12,
     "metadata": {},
     "output_type": "execute_result"
    }
   ],
   "source": [
    "a.shape #배열의 구조(3행 5열)"
   ]
  },
  {
   "cell_type": "code",
   "execution_count": 14,
   "id": "b468785d",
   "metadata": {
    "ExecuteTime": {
     "end_time": "2021-07-29T06:05:03.950287Z",
     "start_time": "2021-07-29T06:05:03.942304Z"
    }
   },
   "outputs": [
    {
     "data": {
      "text/plain": [
       "array([[ 0,  1,  2],\n",
       "       [ 3,  4,  5],\n",
       "       [ 6,  7,  8],\n",
       "       [ 9, 10, 11],\n",
       "       [12, 13, 14]])"
      ]
     },
     "execution_count": 14,
     "metadata": {},
     "output_type": "execute_result"
    }
   ],
   "source": [
    "a.shape = (5,3)  # 구조 변경도 가능\n",
    "a"
   ]
  },
  {
   "cell_type": "code",
   "execution_count": 15,
   "id": "9b12a638",
   "metadata": {
    "ExecuteTime": {
     "end_time": "2021-07-29T06:05:35.278798Z",
     "start_time": "2021-07-29T06:05:35.270784Z"
    }
   },
   "outputs": [
    {
     "data": {
      "text/plain": [
       "array([[ 0,  1,  2],\n",
       "       [ 3,  4,  5],\n",
       "       [ 6,  7,  8],\n",
       "       [ 9, 10, 11],\n",
       "       [12, 13, 14]])"
      ]
     },
     "execution_count": 15,
     "metadata": {},
     "output_type": "execute_result"
    }
   ],
   "source": [
    "a.shape = (5,3)\n",
    "a"
   ]
  },
  {
   "cell_type": "code",
   "execution_count": 16,
   "id": "84765650",
   "metadata": {
    "ExecuteTime": {
     "end_time": "2021-07-29T06:11:51.198630Z",
     "start_time": "2021-07-29T06:11:51.185668Z"
    }
   },
   "outputs": [
    {
     "data": {
      "text/plain": [
       "array([[ 0,  1,  2,  3],\n",
       "       [ 4,  5,  6,  7],\n",
       "       [ 8,  9, 10, 11]])"
      ]
     },
     "execution_count": 16,
     "metadata": {},
     "output_type": "execute_result"
    }
   ],
   "source": [
    "# dtype 속성을 바꾸면\n",
    "a = np.arange(12).reshape(3,4)\n",
    "a"
   ]
  },
  {
   "cell_type": "code",
   "execution_count": 17,
   "id": "586522f1",
   "metadata": {
    "ExecuteTime": {
     "end_time": "2021-07-29T06:12:07.679198Z",
     "start_time": "2021-07-29T06:12:07.662223Z"
    }
   },
   "outputs": [
    {
     "data": {
      "text/plain": [
       "12"
      ]
     },
     "execution_count": 17,
     "metadata": {},
     "output_type": "execute_result"
    }
   ],
   "source": [
    "a.size"
   ]
  },
  {
   "cell_type": "code",
   "execution_count": 18,
   "id": "8a164f11",
   "metadata": {
    "ExecuteTime": {
     "end_time": "2021-07-29T06:12:16.884755Z",
     "start_time": "2021-07-29T06:12:16.878771Z"
    }
   },
   "outputs": [
    {
     "data": {
      "text/plain": [
       "dtype('int32')"
      ]
     },
     "execution_count": 18,
     "metadata": {},
     "output_type": "execute_result"
    }
   ],
   "source": [
    "a.dtype"
   ]
  },
  {
   "cell_type": "code",
   "execution_count": 20,
   "id": "d2cdae5a",
   "metadata": {
    "ExecuteTime": {
     "end_time": "2021-07-29T06:12:50.378971Z",
     "start_time": "2021-07-29T06:12:50.361986Z"
    }
   },
   "outputs": [
    {
     "data": {
      "text/plain": [
       "array([[ 0,  1,  2,  3,  4,  5,  6,  7,  8,  9, 10, 11]])"
      ]
     },
     "execution_count": 20,
     "metadata": {},
     "output_type": "execute_result"
    }
   ],
   "source": [
    "a.shape = (1,12)  #데이터의 변질 없다\n",
    "a"
   ]
  },
  {
   "cell_type": "code",
   "execution_count": 21,
   "id": "74dceaa1",
   "metadata": {
    "ExecuteTime": {
     "end_time": "2021-07-29T06:13:03.397043Z",
     "start_time": "2021-07-29T06:13:03.388069Z"
    }
   },
   "outputs": [
    {
     "data": {
      "text/plain": [
       "dtype('int32')"
      ]
     },
     "execution_count": 21,
     "metadata": {},
     "output_type": "execute_result"
    }
   ],
   "source": [
    "a.dtype"
   ]
  },
  {
   "cell_type": "code",
   "execution_count": 22,
   "id": "b0c37070",
   "metadata": {
    "ExecuteTime": {
     "end_time": "2021-07-29T06:13:29.124972Z",
     "start_time": "2021-07-29T06:13:29.117472Z"
    }
   },
   "outputs": [],
   "source": [
    "a.dtype = np.int64 #형변환이 되지 않음"
   ]
  },
  {
   "cell_type": "code",
   "execution_count": 23,
   "id": "28c26a6b",
   "metadata": {
    "ExecuteTime": {
     "end_time": "2021-07-29T06:13:45.172152Z",
     "start_time": "2021-07-29T06:13:45.164175Z"
    }
   },
   "outputs": [
    {
     "data": {
      "text/plain": [
       "dtype('int64')"
      ]
     },
     "execution_count": 23,
     "metadata": {},
     "output_type": "execute_result"
    }
   ],
   "source": [
    "a.dtype"
   ]
  },
  {
   "cell_type": "code",
   "execution_count": 24,
   "id": "6db2df58",
   "metadata": {
    "ExecuteTime": {
     "end_time": "2021-07-29T06:14:05.549648Z",
     "start_time": "2021-07-29T06:14:05.536682Z"
    }
   },
   "outputs": [
    {
     "data": {
      "text/plain": [
       "array([[ 4294967296, 12884901890, 21474836484, 30064771078, 38654705672,\n",
       "        47244640266]], dtype=int64)"
      ]
     },
     "execution_count": 24,
     "metadata": {},
     "output_type": "execute_result"
    }
   ],
   "source": [
    "a"
   ]
  },
  {
   "cell_type": "code",
   "execution_count": 25,
   "id": "f4dafb7f",
   "metadata": {
    "ExecuteTime": {
     "end_time": "2021-07-29T06:18:11.370287Z",
     "start_time": "2021-07-29T06:18:11.359317Z"
    }
   },
   "outputs": [
    {
     "data": {
      "text/plain": [
       "6"
      ]
     },
     "execution_count": 25,
     "metadata": {},
     "output_type": "execute_result"
    }
   ],
   "source": [
    "a.size"
   ]
  },
  {
   "cell_type": "markdown",
   "id": "da1e05a4",
   "metadata": {},
   "source": [
    "# 2절. 넘파이 배열\n",
    "- array()함수를 이용한 다른 파이썬 구조(백터구조)를 넘파이 배열로 변환\n",
    "- 넘파이 배열을 생성하는 기타 함수들 : arange, ones, zeros\n",
    "- 특수 라이브러리 함수 (ex.random)이용\n",
    "- [넘파이 doc](https://numpy.org/doc/stable/index.html)"
   ]
  },
  {
   "cell_type": "markdown",
   "id": "b6c3e2ff",
   "metadata": {},
   "source": [
    "## 2.1 array()함수로 넘파이 배열 만들기"
   ]
  },
  {
   "cell_type": "code",
   "execution_count": 30,
   "id": "10bafe11",
   "metadata": {
    "ExecuteTime": {
     "end_time": "2021-07-29T06:44:07.724586Z",
     "start_time": "2021-07-29T06:44:07.708630Z"
    }
   },
   "outputs": [
    {
     "data": {
      "text/plain": [
       "array([2, 4, 6], dtype=int16)"
      ]
     },
     "execution_count": 30,
     "metadata": {},
     "output_type": "execute_result"
    }
   ],
   "source": [
    "import numpy as np\n",
    "a = np.array([2,4,6], dtype=np.int16) #정수의 기본 타입은 int32\n",
    "a\n"
   ]
  },
  {
   "cell_type": "code",
   "execution_count": 27,
   "id": "5f677f55",
   "metadata": {
    "ExecuteTime": {
     "end_time": "2021-07-29T06:42:39.922442Z",
     "start_time": "2021-07-29T06:42:39.917455Z"
    }
   },
   "outputs": [
    {
     "data": {
      "text/plain": [
       "2"
      ]
     },
     "execution_count": 27,
     "metadata": {},
     "output_type": "execute_result"
    }
   ],
   "source": [
    "a[0]"
   ]
  },
  {
   "cell_type": "code",
   "execution_count": 28,
   "id": "f3a40b33",
   "metadata": {
    "ExecuteTime": {
     "end_time": "2021-07-29T06:43:00.932109Z",
     "start_time": "2021-07-29T06:43:00.924130Z"
    }
   },
   "outputs": [
    {
     "name": "stdout",
     "output_type": "stream",
     "text": [
      "2\t4\t6\t"
     ]
    }
   ],
   "source": [
    "for i in a:\n",
    "    print(i, end='\\t')"
   ]
  },
  {
   "cell_type": "code",
   "execution_count": 31,
   "id": "d42841e1",
   "metadata": {
    "ExecuteTime": {
     "end_time": "2021-07-29T06:44:24.010614Z",
     "start_time": "2021-07-29T06:44:23.994095Z"
    }
   },
   "outputs": [
    {
     "data": {
      "text/plain": [
       "dtype('int16')"
      ]
     },
     "execution_count": 31,
     "metadata": {},
     "output_type": "execute_result"
    }
   ],
   "source": [
    "a.dtype"
   ]
  },
  {
   "cell_type": "code",
   "execution_count": 32,
   "id": "750b2ec2",
   "metadata": {
    "ExecuteTime": {
     "end_time": "2021-07-29T06:46:03.472182Z",
     "start_time": "2021-07-29T06:46:03.452234Z"
    }
   },
   "outputs": [
    {
     "data": {
      "text/plain": [
       "array([[1.5, 2.3],\n",
       "       [4. , 5. ]])"
      ]
     },
     "execution_count": 32,
     "metadata": {},
     "output_type": "execute_result"
    }
   ],
   "source": [
    "b =np.array([(1.5, 2.3),(4,5)]) # 자동 dtype셋팅 (float64형)\n",
    "b"
   ]
  },
  {
   "cell_type": "code",
   "execution_count": 33,
   "id": "5de42eb1",
   "metadata": {
    "ExecuteTime": {
     "end_time": "2021-07-29T06:46:32.421157Z",
     "start_time": "2021-07-29T06:46:32.408192Z"
    }
   },
   "outputs": [
    {
     "data": {
      "text/plain": [
       "array([[1.5, 2.3, 4. , 5. ]])"
      ]
     },
     "execution_count": 33,
     "metadata": {},
     "output_type": "execute_result"
    }
   ],
   "source": [
    "b =np.array([(1.5, 2.3),(4,5)]).reshape(1,4) # 자동 dtype셋팅 (float64형)\n",
    "b"
   ]
  },
  {
   "cell_type": "code",
   "execution_count": 37,
   "id": "0b523d6b",
   "metadata": {
    "ExecuteTime": {
     "end_time": "2021-07-29T06:49:11.167711Z",
     "start_time": "2021-07-29T06:49:11.154746Z"
    }
   },
   "outputs": [
    {
     "data": {
      "text/plain": [
       "array([[1. , 2. ],\n",
       "       [3. , 4.1]], dtype=float32)"
      ]
     },
     "execution_count": 37,
     "metadata": {},
     "output_type": "execute_result"
    }
   ],
   "source": [
    "a = np.array([1,2,3,4.1], dtype=np.float32).reshape(2,2) #2행 2열짜리 2차원 배열\n",
    "a"
   ]
  },
  {
   "cell_type": "code",
   "execution_count": 38,
   "id": "c045a5d9",
   "metadata": {
    "ExecuteTime": {
     "end_time": "2021-07-29T06:49:37.389447Z",
     "start_time": "2021-07-29T06:49:37.375483Z"
    }
   },
   "outputs": [
    {
     "data": {
      "text/plain": [
       "dtype('float32')"
      ]
     },
     "execution_count": 38,
     "metadata": {},
     "output_type": "execute_result"
    }
   ],
   "source": [
    "a.dtype"
   ]
  },
  {
   "cell_type": "code",
   "execution_count": 39,
   "id": "2236a3a0",
   "metadata": {
    "ExecuteTime": {
     "end_time": "2021-07-29T06:50:32.924598Z",
     "start_time": "2021-07-29T06:50:32.917588Z"
    }
   },
   "outputs": [
    {
     "data": {
      "text/plain": [
       "array([[1, 2, 3],\n",
       "       [4, 5, 6]], dtype=int64)"
      ]
     },
     "execution_count": 39,
     "metadata": {},
     "output_type": "execute_result"
    }
   ],
   "source": [
    "b = np.array([[1,2,3],[4,5,6]], dtype=np.int64) # dtype 인수를 통해 타입 세팅\n",
    "b"
   ]
  },
  {
   "cell_type": "code",
   "execution_count": 40,
   "id": "a381d45a",
   "metadata": {
    "ExecuteTime": {
     "end_time": "2021-07-29T06:50:44.767071Z",
     "start_time": "2021-07-29T06:50:44.757122Z"
    }
   },
   "outputs": [
    {
     "data": {
      "text/plain": [
       "dtype('int64')"
      ]
     },
     "execution_count": 40,
     "metadata": {},
     "output_type": "execute_result"
    }
   ],
   "source": [
    "b.dtype"
   ]
  },
  {
   "cell_type": "code",
   "execution_count": 41,
   "id": "1078b966",
   "metadata": {
    "ExecuteTime": {
     "end_time": "2021-07-29T06:51:42.432104Z",
     "start_time": "2021-07-29T06:51:42.412158Z"
    }
   },
   "outputs": [
    {
     "data": {
      "text/plain": [
       "array([[1, 2, 3],\n",
       "       [4, 5, 6]])"
      ]
     },
     "execution_count": 41,
     "metadata": {},
     "output_type": "execute_result"
    }
   ],
   "source": [
    "#b.dtype = np.int32 안됨\n",
    "b = b.astype(np.int32) #dtype바꾸기\n",
    "b"
   ]
  },
  {
   "cell_type": "code",
   "execution_count": 42,
   "id": "40af4deb",
   "metadata": {
    "ExecuteTime": {
     "end_time": "2021-07-29T06:51:54.829539Z",
     "start_time": "2021-07-29T06:51:54.812552Z"
    }
   },
   "outputs": [
    {
     "data": {
      "text/plain": [
       "dtype('int32')"
      ]
     },
     "execution_count": 42,
     "metadata": {},
     "output_type": "execute_result"
    }
   ],
   "source": [
    "b.dtype"
   ]
  },
  {
   "cell_type": "code",
   "execution_count": 43,
   "id": "efaf651f",
   "metadata": {
    "ExecuteTime": {
     "end_time": "2021-07-29T06:52:35.664103Z",
     "start_time": "2021-07-29T06:52:35.648146Z"
    }
   },
   "outputs": [
    {
     "data": {
      "text/plain": [
       "[[1, 2, 3], [4, 5, 6]]"
      ]
     },
     "execution_count": 43,
     "metadata": {},
     "output_type": "execute_result"
    }
   ],
   "source": [
    "list_ = [[1,2,3,],[4,5,6]]\n",
    "list_"
   ]
  },
  {
   "cell_type": "code",
   "execution_count": 44,
   "id": "95708337",
   "metadata": {
    "ExecuteTime": {
     "end_time": "2021-07-29T06:53:08.865685Z",
     "start_time": "2021-07-29T06:53:08.851707Z"
    }
   },
   "outputs": [
    {
     "name": "stdout",
     "output_type": "stream",
     "text": [
      "1\t2\t3\t\n",
      "4\t5\t6\t\n"
     ]
    }
   ],
   "source": [
    "for row in list_:\n",
    "    for data in row:\n",
    "        print(data, end='\\t')\n",
    "    print()"
   ]
  },
  {
   "cell_type": "code",
   "execution_count": 45,
   "id": "2f52024e",
   "metadata": {
    "ExecuteTime": {
     "end_time": "2021-07-29T06:54:35.823729Z",
     "start_time": "2021-07-29T06:54:35.812759Z"
    }
   },
   "outputs": [
    {
     "name": "stdout",
     "output_type": "stream",
     "text": [
      "0행 0열 : 1\t0행 1열 : 2\t0행 2열 : 3\t1행 0열 : 4\t1행 1열 : 5\t1행 2열 : 6\t"
     ]
    }
   ],
   "source": [
    "for i, row in enumerate(list_):\n",
    "    for j, data in enumerate(row):\n",
    "        print(\"{}행 {}열 : {}\".format(i,j, data), end='\\t')"
   ]
  },
  {
   "cell_type": "code",
   "execution_count": 46,
   "id": "627dcc76",
   "metadata": {
    "ExecuteTime": {
     "end_time": "2021-07-29T06:54:54.211783Z",
     "start_time": "2021-07-29T06:54:54.203803Z"
    }
   },
   "outputs": [
    {
     "data": {
      "text/plain": [
       "2"
      ]
     },
     "execution_count": 46,
     "metadata": {},
     "output_type": "execute_result"
    }
   ],
   "source": [
    "list_[0][1] #리스트에서의 인덱싱"
   ]
  },
  {
   "cell_type": "code",
   "execution_count": 47,
   "id": "d564a287",
   "metadata": {
    "ExecuteTime": {
     "end_time": "2021-07-29T06:55:16.522429Z",
     "start_time": "2021-07-29T06:55:16.504477Z"
    }
   },
   "outputs": [
    {
     "data": {
      "text/plain": [
       "[1, 2, 3]"
      ]
     },
     "execution_count": 47,
     "metadata": {},
     "output_type": "execute_result"
    }
   ],
   "source": [
    "list_[0][0:3] #리스트에서의 인덱싱 슬라이싱"
   ]
  },
  {
   "cell_type": "code",
   "execution_count": 48,
   "id": "18d9b7e9",
   "metadata": {
    "ExecuteTime": {
     "end_time": "2021-07-29T06:57:31.215946Z",
     "start_time": "2021-07-29T06:57:31.196995Z"
    }
   },
   "outputs": [
    {
     "data": {
      "text/plain": [
       "array([[1, 2, 3],\n",
       "       [4, 5, 6]], dtype=int16)"
      ]
     },
     "execution_count": 48,
     "metadata": {},
     "output_type": "execute_result"
    }
   ],
   "source": [
    "# 2차원 배열\n",
    "b = np.array([[1,2,3],[4,5,6]], dtype=np.int16)\n",
    "b"
   ]
  },
  {
   "cell_type": "code",
   "execution_count": 50,
   "id": "a574e8ae",
   "metadata": {
    "ExecuteTime": {
     "end_time": "2021-07-29T06:58:16.302204Z",
     "start_time": "2021-07-29T06:58:16.285283Z"
    }
   },
   "outputs": [
    {
     "name": "stdout",
     "output_type": "stream",
     "text": [
      "1\t2\t3\t\n",
      "4\t5\t6\t\n"
     ]
    }
   ],
   "source": [
    "for row in b:\n",
    "    for item in row:\n",
    "        print(item, end='\\t')\n",
    "    print()"
   ]
  },
  {
   "cell_type": "code",
   "execution_count": 51,
   "id": "5ed524c1",
   "metadata": {
    "ExecuteTime": {
     "end_time": "2021-07-29T06:59:25.038287Z",
     "start_time": "2021-07-29T06:59:25.020331Z"
    }
   },
   "outputs": [
    {
     "name": "stdout",
     "output_type": "stream",
     "text": [
      "0행 0열 : 1\t0행 1열 : 2\t0행 2열 : 3\t\n",
      "1행 0열 : 4\t1행 1열 : 5\t1행 2열 : 6\t\n"
     ]
    }
   ],
   "source": [
    "for i, row in enumerate(b):\n",
    "    for j, item in enumerate(row):\n",
    "        print(\"{}행 {}열 : {}\".format(i,j,item), end ='\\t')\n",
    "    print()"
   ]
  },
  {
   "cell_type": "code",
   "execution_count": 53,
   "id": "be6c97ef",
   "metadata": {
    "ExecuteTime": {
     "end_time": "2021-07-29T07:00:58.540680Z",
     "start_time": "2021-07-29T07:00:58.525686Z"
    }
   },
   "outputs": [
    {
     "data": {
      "text/plain": [
       "(2, 2)"
      ]
     },
     "execution_count": 53,
     "metadata": {},
     "output_type": "execute_result"
    }
   ],
   "source": [
    "b[0][1], b[0,1] #넘파이 배열에서의 인덱싱"
   ]
  },
  {
   "cell_type": "code",
   "execution_count": 54,
   "id": "1dbe1a0a",
   "metadata": {
    "ExecuteTime": {
     "end_time": "2021-07-29T07:01:15.180556Z",
     "start_time": "2021-07-29T07:01:15.173612Z"
    }
   },
   "outputs": [
    {
     "data": {
      "text/plain": [
       "array([1, 2, 3], dtype=int16)"
      ]
     },
     "execution_count": 54,
     "metadata": {},
     "output_type": "execute_result"
    }
   ],
   "source": [
    "b[0, 0:3]"
   ]
  },
  {
   "cell_type": "code",
   "execution_count": 55,
   "id": "9de33ca7",
   "metadata": {
    "ExecuteTime": {
     "end_time": "2021-07-29T07:03:02.764989Z",
     "start_time": "2021-07-29T07:03:02.750030Z"
    }
   },
   "outputs": [
    {
     "data": {
      "text/plain": [
       "array([[1.+0.j, 2.+0.j],\n",
       "       [3.+0.j, 4.+0.j]])"
      ]
     },
     "execution_count": 55,
     "metadata": {},
     "output_type": "execute_result"
    }
   ],
   "source": [
    "c = np.array([[1,2],[3,4]],dtype=complex) #dtype이 복소수\n",
    "c"
   ]
  },
  {
   "cell_type": "code",
   "execution_count": 56,
   "id": "cdba90e6",
   "metadata": {
    "ExecuteTime": {
     "end_time": "2021-07-29T07:04:08.925466Z",
     "start_time": "2021-07-29T07:04:08.920790Z"
    }
   },
   "outputs": [
    {
     "name": "stdout",
     "output_type": "stream",
     "text": [
      "10\n"
     ]
    }
   ],
   "source": [
    "a=10\n",
    "b=a  # 스칼라 변수의 복수\n",
    "a=9\n",
    "print(b)"
   ]
  },
  {
   "cell_type": "code",
   "execution_count": 59,
   "id": "3669fa87",
   "metadata": {
    "ExecuteTime": {
     "end_time": "2021-07-29T07:10:10.494420Z",
     "start_time": "2021-07-29T07:10:10.482942Z"
    }
   },
   "outputs": [
    {
     "name": "stdout",
     "output_type": "stream",
     "text": [
      "c=\n",
      "[[1 2]\n",
      " [3 4]]\n",
      "d= \n",
      "[[1 2]\n",
      " [3 4]]\n",
      "두변수의 주소 : 2433220137104 2433220137104\n",
      "d[0,0]을 변경항 이후\n",
      "c=\n",
      "[[999   2]\n",
      " [  3   4]]\n",
      "d= \n",
      "[[999   2]\n",
      " [  3   4]]\n"
     ]
    }
   ],
   "source": [
    "# numpy 배열\n",
    "c = np.array([[1,2,],[3,4]])\n",
    "d = np.array(c, copy=False) #d=c\n",
    "print('c=',c, sep='\\n')\n",
    "print('d= ',d,sep='\\n')\n",
    "print('두변수의 주소 :',id(c), id(d))\n",
    "d[0,0] = 999\n",
    "print('d[0,0]을 변경항 이후')\n",
    "print('c=',c, sep='\\n')\n",
    "print('d= ',d,sep='\\n')"
   ]
  },
  {
   "cell_type": "code",
   "execution_count": 61,
   "id": "43092481",
   "metadata": {
    "ExecuteTime": {
     "end_time": "2021-07-29T07:13:34.157279Z",
     "start_time": "2021-07-29T07:13:34.147321Z"
    }
   },
   "outputs": [
    {
     "name": "stdout",
     "output_type": "stream",
     "text": [
      "c 요소의 dtype : int32\n",
      "d 요소의 dtype : int16\n",
      "c=\n",
      "[[1 2]\n",
      " [3 4]]\n",
      "d=\n",
      "[[999   2]\n",
      " [  3   4]]\n"
     ]
    }
   ],
   "source": [
    "# numpy 배열 변수 복사\n",
    "c = np.array([[1,2,],[3,4]], dtype = np.int32)\n",
    "d = np.array(c, copy=True, dtype = np.int16) # 깊은 복사\n",
    "print('c 요소의 dtype :', c.dtype)\n",
    "print('d 요소의 dtype :', d.dtype)\n",
    "d[0,0] =  999\n",
    "print('c=',c,sep='\\n')\n",
    "print('d=',d,sep='\\n')"
   ]
  },
  {
   "cell_type": "code",
   "execution_count": 62,
   "id": "f9db1b9e",
   "metadata": {
    "ExecuteTime": {
     "end_time": "2021-07-29T07:15:07.424834Z",
     "start_time": "2021-07-29T07:15:07.414861Z"
    }
   },
   "outputs": [
    {
     "name": "stdout",
     "output_type": "stream",
     "text": [
      "c 요소의 dtype : int32\n",
      "d 요소의 dtype : int16\n",
      "c=\n",
      "[[1 2]\n",
      " [3 4]]\n",
      "d=\n",
      "[[999   2]\n",
      " [  3   4]]\n"
     ]
    }
   ],
   "source": [
    "c = np.array([[1,2,],[3,4]], dtype = np.int32)\n",
    "d = np.array(c, copy=False, dtype = np.int16) # copy =False라도 dtype이 바뀌면 깊은 복사\n",
    "print('c 요소의 dtype :', c.dtype)\n",
    "print('d 요소의 dtype :', d.dtype)\n",
    "d[0,0] =  999\n",
    "print('c=',c,sep='\\n')\n",
    "print('d=',d,sep='\\n')"
   ]
  },
  {
   "cell_type": "markdown",
   "id": "25220fe2",
   "metadata": {},
   "source": [
    "## 2.2 기본값이 있는 배열 만들기\n",
    "    - np.zeros(tup) : 요소들이 다 0\n",
    "\t- np.ones(tup) : 요소들이 다 1\n",
    " \t- np.empty(tup) : 초기 내용은 임의값인 배열(메모리 상태에 따라 달라짐)\n",
    "\t연속된 값을 갖는 배열 생성\n",
    "    * 이렇게 생성된 배열은 기본 dtype이 float64.dtype속성을 통해 따로 지정할 수 있음"
   ]
  },
  {
   "cell_type": "code",
   "execution_count": 67,
   "id": "87165afe",
   "metadata": {
    "ExecuteTime": {
     "end_time": "2021-07-29T07:33:19.034644Z",
     "start_time": "2021-07-29T07:33:19.026662Z"
    }
   },
   "outputs": [
    {
     "data": {
      "text/plain": [
       "array([[0., 0., 0., 0., 0.],\n",
       "       [0., 0., 0., 0., 0.],\n",
       "       [0., 0., 0., 0., 0.]])"
      ]
     },
     "execution_count": 67,
     "metadata": {},
     "output_type": "execute_result"
    }
   ],
   "source": [
    "np.zeros((3,5))   #3행 4열짜리 2차원 배열(요소 값이 다 0.0)"
   ]
  },
  {
   "cell_type": "code",
   "execution_count": 69,
   "id": "b7500096",
   "metadata": {
    "ExecuteTime": {
     "end_time": "2021-07-29T07:34:35.474083Z",
     "start_time": "2021-07-29T07:34:35.462114Z"
    }
   },
   "outputs": [
    {
     "name": "stdout",
     "output_type": "stream",
     "text": [
      "[[0 0 0 0 0]\n",
      " [0 0 0 0 0]\n",
      " [0 0 0 0 0]]\n",
      "int16\n",
      "2 byte\n"
     ]
    }
   ],
   "source": [
    "x = np.zeros((3,5),dtype=np.int16)   #3행 4열짜리 2차원 배열(요소 값이 다 0.0)\n",
    "print(x)\n",
    "print(x.dtype)\n",
    "print(x.itemsize, 'byte')"
   ]
  },
  {
   "cell_type": "code",
   "execution_count": 70,
   "id": "597c417e",
   "metadata": {
    "ExecuteTime": {
     "end_time": "2021-07-29T07:34:58.052925Z",
     "start_time": "2021-07-29T07:34:58.040931Z"
    }
   },
   "outputs": [
    {
     "data": {
      "text/plain": [
       "array([[1, 1, 1, 1, 1],\n",
       "       [1, 1, 1, 1, 1]], dtype=int8)"
      ]
     },
     "execution_count": 70,
     "metadata": {},
     "output_type": "execute_result"
    }
   ],
   "source": [
    "np.ones((2,5), dtype=np.int8)"
   ]
  },
  {
   "cell_type": "code",
   "execution_count": 71,
   "id": "7f0ec11d",
   "metadata": {
    "ExecuteTime": {
     "end_time": "2021-07-29T07:35:12.061548Z",
     "start_time": "2021-07-29T07:35:12.053595Z"
    }
   },
   "outputs": [
    {
     "data": {
      "text/plain": [
       "array([[0., 0., 0.],\n",
       "       [0., 0., 0.]])"
      ]
     },
     "execution_count": 71,
     "metadata": {},
     "output_type": "execute_result"
    }
   ],
   "source": [
    "np.empty((2,3)) #초기값이 메모리 상태에 따른 임의의 값"
   ]
  },
  {
   "cell_type": "markdown",
   "id": "873553c3",
   "metadata": {},
   "source": [
    "## 2.3 연속된 값을 갖는 배열 만들기\n",
    "- np.arange(from, to, by, dtype=None) : from 부터 to앞까지 by씩 건너뛴 값(to 미포함)을 목록으로 n차원 배열을 만듭니다.\n",
    "  from생략시 0 by생략시 1\n",
    "- np.linspace(from, to, num) : from부터 to까지 num개 숫자들을 N차원 배열로 만듦\n",
    "- np.random.normal(0,1,100) #평균이 0이고 표준편차가 1인 수 100개로 배열을 만듬\n",
    "- np.random.random(tup) : 0-1사이의 난수 발생 tup"
   ]
  },
  {
   "cell_type": "code",
   "execution_count": 73,
   "id": "e89bdd1d",
   "metadata": {
    "ExecuteTime": {
     "end_time": "2021-07-29T07:41:49.598387Z",
     "start_time": "2021-07-29T07:41:49.590409Z"
    }
   },
   "outputs": [
    {
     "data": {
      "text/plain": [
       "array([10., 15., 20., 25.], dtype=float32)"
      ]
     },
     "execution_count": 73,
     "metadata": {},
     "output_type": "execute_result"
    }
   ],
   "source": [
    "np.arange(10,30,5, dtype=np.float32)"
   ]
  },
  {
   "cell_type": "code",
   "execution_count": 74,
   "id": "249fe632",
   "metadata": {
    "ExecuteTime": {
     "end_time": "2021-07-29T07:42:11.967514Z",
     "start_time": "2021-07-29T07:42:11.956543Z"
    }
   },
   "outputs": [
    {
     "data": {
      "text/plain": [
       "array([0. , 0.3, 0.6, 0.9, 1.2, 1.5, 1.8])"
      ]
     },
     "execution_count": 74,
     "metadata": {},
     "output_type": "execute_result"
    }
   ],
   "source": [
    "np.arange(0,2,0.3)"
   ]
  },
  {
   "cell_type": "code",
   "execution_count": 77,
   "id": "4108ea3c",
   "metadata": {
    "ExecuteTime": {
     "end_time": "2021-07-29T07:44:24.635548Z",
     "start_time": "2021-07-29T07:44:24.625574Z"
    }
   },
   "outputs": [
    {
     "data": {
      "text/plain": [
       "array([[0.        , 0.10526316, 0.21052632, 0.31578947, 0.42105263],\n",
       "       [0.52631579, 0.63157895, 0.73684211, 0.84210526, 0.94736842],\n",
       "       [1.05263158, 1.15789474, 1.26315789, 1.36842105, 1.47368421],\n",
       "       [1.57894737, 1.68421053, 1.78947368, 1.89473684, 2.        ]])"
      ]
     },
     "execution_count": 77,
     "metadata": {},
     "output_type": "execute_result"
    }
   ],
   "source": [
    "from numpy import linspace\n",
    "linspace(0,2,20) #1차원 백터\n",
    "linspace(0,2,20).reshape(4,5) #4행 5열"
   ]
  },
  {
   "cell_type": "code",
   "execution_count": 80,
   "id": "522d9c86",
   "metadata": {
    "ExecuteTime": {
     "end_time": "2021-07-29T07:46:10.450631Z",
     "start_time": "2021-07-29T07:46:10.439012Z"
    }
   },
   "outputs": [
    {
     "data": {
      "text/plain": [
       "array([ 0.00000000e+00,  6.34239197e-02,  1.26592454e-01,  1.89251244e-01,\n",
       "        2.51147987e-01,  3.12033446e-01,  3.71662456e-01,  4.29794912e-01,\n",
       "        4.86196736e-01,  5.40640817e-01,  5.92907929e-01,  6.42787610e-01,\n",
       "        6.90079011e-01,  7.34591709e-01,  7.76146464e-01,  8.14575952e-01,\n",
       "        8.49725430e-01,  8.81453363e-01,  9.09631995e-01,  9.34147860e-01,\n",
       "        9.54902241e-01,  9.71811568e-01,  9.84807753e-01,  9.93838464e-01,\n",
       "        9.98867339e-01,  9.99874128e-01,  9.96854776e-01,  9.89821442e-01,\n",
       "        9.78802446e-01,  9.63842159e-01,  9.45000819e-01,  9.22354294e-01,\n",
       "        8.95993774e-01,  8.66025404e-01,  8.32569855e-01,  7.95761841e-01,\n",
       "        7.55749574e-01,  7.12694171e-01,  6.66769001e-01,  6.18158986e-01,\n",
       "        5.67059864e-01,  5.13677392e-01,  4.58226522e-01,  4.00930535e-01,\n",
       "        3.42020143e-01,  2.81732557e-01,  2.20310533e-01,  1.58001396e-01,\n",
       "        9.50560433e-02,  3.17279335e-02, -3.17279335e-02, -9.50560433e-02,\n",
       "       -1.58001396e-01, -2.20310533e-01, -2.81732557e-01, -3.42020143e-01,\n",
       "       -4.00930535e-01, -4.58226522e-01, -5.13677392e-01, -5.67059864e-01,\n",
       "       -6.18158986e-01, -6.66769001e-01, -7.12694171e-01, -7.55749574e-01,\n",
       "       -7.95761841e-01, -8.32569855e-01, -8.66025404e-01, -8.95993774e-01,\n",
       "       -9.22354294e-01, -9.45000819e-01, -9.63842159e-01, -9.78802446e-01,\n",
       "       -9.89821442e-01, -9.96854776e-01, -9.99874128e-01, -9.98867339e-01,\n",
       "       -9.93838464e-01, -9.84807753e-01, -9.71811568e-01, -9.54902241e-01,\n",
       "       -9.34147860e-01, -9.09631995e-01, -8.81453363e-01, -8.49725430e-01,\n",
       "       -8.14575952e-01, -7.76146464e-01, -7.34591709e-01, -6.90079011e-01,\n",
       "       -6.42787610e-01, -5.92907929e-01, -5.40640817e-01, -4.86196736e-01,\n",
       "       -4.29794912e-01, -3.71662456e-01, -3.12033446e-01, -2.51147987e-01,\n",
       "       -1.89251244e-01, -1.26592454e-01, -6.34239197e-02, -2.44929360e-16])"
      ]
     },
     "execution_count": 80,
     "metadata": {},
     "output_type": "execute_result"
    }
   ],
   "source": [
    "# 많은 수의 점들을 생성할 때 유용 : linspace\n",
    "from numpy import pi\n",
    "x = linspace(0,2*pi,100)\n",
    "x\n",
    "f = np.sin(x)\n",
    "f"
   ]
  },
  {
   "cell_type": "code",
   "execution_count": 81,
   "id": "dab3f45a",
   "metadata": {
    "ExecuteTime": {
     "end_time": "2021-07-29T07:48:03.923068Z",
     "start_time": "2021-07-29T07:48:03.313604Z"
    }
   },
   "outputs": [
    {
     "data": {
      "image/png": "[encoded data removed]",
      "text/plain": [
       "<Figure size 432x288 with 1 Axes>"
      ]
     },
     "metadata": {
      "needs_background": "light"
     },
     "output_type": "display_data"
    }
   ],
   "source": [
    "import matplotlib.pyplot as plt\n",
    "plt.plot(x,f) #그래프 그림\n",
    "plt.show() # 매세지 없애줌"
   ]
  },
  {
   "cell_type": "code",
   "execution_count": 87,
   "id": "a433ea38",
   "metadata": {
    "ExecuteTime": {
     "end_time": "2021-07-29T07:53:56.230863Z",
     "start_time": "2021-07-29T07:53:56.114349Z"
    }
   },
   "outputs": [
    {
     "data": {
      "image/png": "[encoded data removed]",
      "text/plain": [
       "<Figure size 432x288 with 1 Axes>"
      ]
     },
     "metadata": {
      "needs_background": "light"
     },
     "output_type": "display_data"
    }
   ],
   "source": [
    "np.random.seed(12)\n",
    "x = np.random.normal(0,1,100) #평균이 0이고 표준편차가 1인 수 100개로 배열을 만듬\n",
    "plt.hist(x)\n",
    "plt.show()"
   ]
  },
  {
   "cell_type": "markdown",
   "id": "4ca99aac",
   "metadata": {},
   "source": [
    "## 2.4 배열의 차원 변경하기"
   ]
  },
  {
   "cell_type": "code",
   "execution_count": 88,
   "id": "6160b506",
   "metadata": {
    "ExecuteTime": {
     "end_time": "2021-07-29T07:55:43.050866Z",
     "start_time": "2021-07-29T07:55:43.031917Z"
    }
   },
   "outputs": [
    {
     "data": {
      "text/plain": [
       "array([[0.69646919, 0.28613933, 0.22685145],\n",
       "       [0.55131477, 0.71946897, 0.42310646]])"
      ]
     },
     "execution_count": 88,
     "metadata": {},
     "output_type": "execute_result"
    }
   ],
   "source": [
    "np.random.seed(123)\n",
    "t = np.random.random((2,3)) # 0부터 1미만인 실수 난수발생 (2행3열 배열)\n",
    "t"
   ]
  },
  {
   "cell_type": "code",
   "execution_count": 90,
   "id": "4cc21e7d",
   "metadata": {
    "ExecuteTime": {
     "end_time": "2021-07-29T07:57:17.034167Z",
     "start_time": "2021-07-29T07:57:17.026188Z"
    }
   },
   "outputs": [
    {
     "data": {
      "text/plain": [
       "array([[6., 2., 2.],\n",
       "       [5., 7., 4.]])"
      ]
     },
     "execution_count": 90,
     "metadata": {},
     "output_type": "execute_result"
    }
   ],
   "source": [
    "a = np.floor(t*10)\n",
    "a"
   ]
  },
  {
   "cell_type": "code",
   "execution_count": 91,
   "id": "b30bf34f",
   "metadata": {
    "ExecuteTime": {
     "end_time": "2021-07-29T07:57:26.784103Z",
     "start_time": "2021-07-29T07:57:26.779117Z"
    }
   },
   "outputs": [
    {
     "data": {
      "text/plain": [
       "(2, 3)"
      ]
     },
     "execution_count": 91,
     "metadata": {},
     "output_type": "execute_result"
    }
   ],
   "source": [
    "a.shape"
   ]
  },
  {
   "cell_type": "code",
   "execution_count": 92,
   "id": "0917d7f6",
   "metadata": {
    "ExecuteTime": {
     "end_time": "2021-07-29T07:58:09.157778Z",
     "start_time": "2021-07-29T07:58:09.153788Z"
    }
   },
   "outputs": [
    {
     "data": {
      "text/plain": [
       "array([6., 2., 2., 5., 7., 4.])"
      ]
     },
     "execution_count": 92,
     "metadata": {},
     "output_type": "execute_result"
    }
   ],
   "source": [
    "a.ravel() # 차원이 풀린 배열을 반환(a가 바뀌는 것은 아님)"
   ]
  },
  {
   "cell_type": "code",
   "execution_count": 93,
   "id": "679c1cbb",
   "metadata": {
    "ExecuteTime": {
     "end_time": "2021-07-29T07:58:21.094511Z",
     "start_time": "2021-07-29T07:58:21.077563Z"
    }
   },
   "outputs": [
    {
     "data": {
      "text/plain": [
       "array([[6., 2., 2.],\n",
       "       [5., 7., 4.]])"
      ]
     },
     "execution_count": 93,
     "metadata": {},
     "output_type": "execute_result"
    }
   ],
   "source": [
    "a"
   ]
  },
  {
   "cell_type": "code",
   "execution_count": 95,
   "id": "9a1d0147",
   "metadata": {
    "ExecuteTime": {
     "end_time": "2021-07-29T07:59:01.002533Z",
     "start_time": "2021-07-29T07:59:00.989536Z"
    }
   },
   "outputs": [
    {
     "data": {
      "text/plain": [
       "array([[6., 2.],\n",
       "       [2., 5.],\n",
       "       [7., 4.]])"
      ]
     },
     "execution_count": 95,
     "metadata": {},
     "output_type": "execute_result"
    }
   ],
   "source": [
    "a.reshape(3,2) # shape가 수정된 배열을 반환 (a는 그대로)"
   ]
  },
  {
   "cell_type": "code",
   "execution_count": 96,
   "id": "0e467245",
   "metadata": {
    "ExecuteTime": {
     "end_time": "2021-07-29T08:00:06.357419Z",
     "start_time": "2021-07-29T08:00:06.342461Z"
    }
   },
   "outputs": [
    {
     "data": {
      "text/plain": [
       "array([[6., 2., 2.],\n",
       "       [5., 7., 4.]])"
      ]
     },
     "execution_count": 96,
     "metadata": {},
     "output_type": "execute_result"
    }
   ],
   "source": [
    "a"
   ]
  },
  {
   "cell_type": "code",
   "execution_count": 97,
   "id": "dc16177d",
   "metadata": {
    "ExecuteTime": {
     "end_time": "2021-07-29T08:00:52.556018Z",
     "start_time": "2021-07-29T08:00:52.543047Z"
    }
   },
   "outputs": [
    {
     "data": {
      "text/plain": [
       "array([[6., 5.],\n",
       "       [2., 7.],\n",
       "       [2., 4.]])"
      ]
     },
     "execution_count": 97,
     "metadata": {},
     "output_type": "execute_result"
    }
   ],
   "source": [
    "# a는 2행 3열짜리 2차원 배열. 2차원 배열은 행렬(Matrix)이해\n",
    "a.T # 전치행렬(행과 열을 거꾸로)"
   ]
  },
  {
   "cell_type": "code",
   "execution_count": 98,
   "id": "ae8089ee",
   "metadata": {
    "ExecuteTime": {
     "end_time": "2021-07-29T08:01:52.412787Z",
     "start_time": "2021-07-29T08:01:52.402813Z"
    }
   },
   "outputs": [
    {
     "data": {
      "text/plain": [
       "array([[6., 5.],\n",
       "       [2., 7.],\n",
       "       [2., 4.]])"
      ]
     },
     "execution_count": 98,
     "metadata": {},
     "output_type": "execute_result"
    }
   ],
   "source": [
    "a.transpose() # 전치행렬 반환(a는 그대로)"
   ]
  },
  {
   "cell_type": "code",
   "execution_count": 100,
   "id": "4896d144",
   "metadata": {
    "ExecuteTime": {
     "end_time": "2021-07-29T08:02:44.481224Z",
     "start_time": "2021-07-29T08:02:44.467263Z"
    }
   },
   "outputs": [
    {
     "data": {
      "text/plain": [
       "array([[6., 2.],\n",
       "       [2., 5.],\n",
       "       [7., 4.]])"
      ]
     },
     "execution_count": 100,
     "metadata": {},
     "output_type": "execute_result"
    }
   ],
   "source": [
    "a.reshape(3,-1) #-1로 주어지면 해당 차원의 크기가 자동 계산"
   ]
  },
  {
   "cell_type": "code",
   "execution_count": 103,
   "id": "b20e4625",
   "metadata": {
    "ExecuteTime": {
     "end_time": "2021-07-29T08:03:42.144365Z",
     "start_time": "2021-07-29T08:03:42.140341Z"
    }
   },
   "outputs": [
    {
     "data": {
      "text/plain": [
       "array([[6., 2.],\n",
       "       [2., 5.],\n",
       "       [7., 4.]])"
      ]
     },
     "execution_count": 103,
     "metadata": {},
     "output_type": "execute_result"
    }
   ],
   "source": [
    "a.reshape(-1,2) #-1은 자동 계산(a는 그대로)"
   ]
  },
  {
   "cell_type": "code",
   "execution_count": 102,
   "id": "cb7b0228",
   "metadata": {
    "ExecuteTime": {
     "end_time": "2021-07-29T08:03:31.165324Z",
     "start_time": "2021-07-29T08:03:31.149342Z"
    }
   },
   "outputs": [
    {
     "data": {
      "text/plain": [
       "array([[6., 2., 2.],\n",
       "       [5., 7., 4.]])"
      ]
     },
     "execution_count": 102,
     "metadata": {},
     "output_type": "execute_result"
    }
   ],
   "source": [
    "a"
   ]
  },
  {
   "cell_type": "code",
   "execution_count": 104,
   "id": "d8032dea",
   "metadata": {
    "ExecuteTime": {
     "end_time": "2021-07-29T08:04:14.002713Z",
     "start_time": "2021-07-29T08:04:13.994699Z"
    }
   },
   "outputs": [
    {
     "data": {
      "text/plain": [
       "array([[6., 2., 2., 5., 7., 4.]])"
      ]
     },
     "execution_count": 104,
     "metadata": {},
     "output_type": "execute_result"
    }
   ],
   "source": [
    "# a.shape =(1,6)\n",
    "a.resize((1,6))\n",
    "a"
   ]
  },
  {
   "cell_type": "code",
   "execution_count": 105,
   "id": "c8abebd1",
   "metadata": {
    "ExecuteTime": {
     "end_time": "2021-07-29T08:04:53.158023Z",
     "start_time": "2021-07-29T08:04:53.104118Z"
    }
   },
   "outputs": [
    {
     "ename": "ValueError",
     "evalue": "negative dimensions not allowed",
     "output_type": "error",
     "traceback": [
      "\u001b[1;31m---------------------------------------------------------------------------\u001b[0m",
      "\u001b[1;31mValueError\u001b[0m                                Traceback (most recent call last)",
      "\u001b[1;32m<ipython-input-105-47b5feb933eb>\u001b[0m in \u001b[0;36m<module>\u001b[1;34m\u001b[0m\n\u001b[1;32m----> 1\u001b[1;33m \u001b[0ma\u001b[0m\u001b[1;33m.\u001b[0m\u001b[0mresize\u001b[0m\u001b[1;33m(\u001b[0m\u001b[1;33m-\u001b[0m\u001b[1;36m1\u001b[0m\u001b[1;33m,\u001b[0m\u001b[1;36m2\u001b[0m\u001b[1;33m)\u001b[0m\u001b[1;33m\u001b[0m\u001b[1;33m\u001b[0m\u001b[0m\n\u001b[0m",
      "\u001b[1;31mValueError\u001b[0m: negative dimensions not allowed"
     ]
    }
   ],
   "source": [
    "a.resize(-1,2)  #resize는 -1불가"
   ]
  },
  {
   "cell_type": "code",
   "execution_count": 107,
   "id": "3d053111",
   "metadata": {
    "ExecuteTime": {
     "end_time": "2021-07-29T08:05:37.875549Z",
     "start_time": "2021-07-29T08:05:37.863582Z"
    }
   },
   "outputs": [
    {
     "data": {
      "text/plain": [
       "array([[6., 2., 2.],\n",
       "       [5., 7., 4.]])"
      ]
     },
     "execution_count": 107,
     "metadata": {},
     "output_type": "execute_result"
    }
   ],
   "source": [
    "a = a.reshape(2,3)\n",
    "a"
   ]
  },
  {
   "cell_type": "code",
   "execution_count": 110,
   "id": "89b235a5",
   "metadata": {
    "ExecuteTime": {
     "end_time": "2021-07-29T08:07:43.695241Z",
     "start_time": "2021-07-29T08:07:43.676308Z"
    }
   },
   "outputs": [
    {
     "data": {
      "text/plain": [
       "array([24., 24., 29., 39., 33., 28.])"
      ]
     },
     "execution_count": 110,
     "metadata": {},
     "output_type": "execute_result"
    }
   ],
   "source": [
    "# 로또번호 6개(1-45)를 구해서 sort하여 1차원 배열에 넣고 출력하기\n",
    "a = np.floor(np.random.random(6)*45)+1\n",
    "    "
   ]
  },
  {
   "cell_type": "code",
   "execution_count": 111,
   "id": "0e221935",
   "metadata": {
    "ExecuteTime": {
     "end_time": "2021-07-29T08:16:52.904199Z",
     "start_time": "2021-07-29T08:16:52.888271Z"
    }
   },
   "outputs": [
    {
     "name": "stdout",
     "output_type": "stream",
     "text": [
      "[11, 14, 15, 17, 29, 33]\n"
     ]
    }
   ],
   "source": [
    "while True:\n",
    "    a = np.floor(np.random.random(6)*45)+1\n",
    "    a = [int(x) for x in a]\n",
    "    if len(set(a)) == 6:\n",
    "        a.sort()\n",
    "        print(a)\n",
    "        break;"
   ]
  },
  {
   "cell_type": "markdown",
   "id": "aac45379",
   "metadata": {},
   "source": [
    "## 2.5 배열 인쇄"
   ]
  },
  {
   "cell_type": "code",
   "execution_count": 113,
   "id": "1020177b",
   "metadata": {
    "ExecuteTime": {
     "end_time": "2021-07-29T08:18:42.548729Z",
     "start_time": "2021-07-29T08:18:42.530740Z"
    }
   },
   "outputs": [
    {
     "name": "stdout",
     "output_type": "stream",
     "text": [
      "[   0    1    2 ... 9997 9998 9999]\n"
     ]
    }
   ],
   "source": [
    "#배열이 너무 큰 경우 인쇄할 수 없는 경우\n",
    "print(np.arange(10000))"
   ]
  },
  {
   "cell_type": "code",
   "execution_count": 114,
   "id": "24c79e39",
   "metadata": {
    "ExecuteTime": {
     "end_time": "2021-07-29T08:19:28.342697Z",
     "start_time": "2021-07-29T08:19:28.328227Z"
    },
    "scrolled": true
   },
   "outputs": [
    {
     "name": "stdout",
     "output_type": "stream",
     "text": [
      "[[   0    1    2 ...  997  998  999]\n",
      " [1000 1001 1002 ... 1997 1998 1999]\n",
      " [2000 2001 2002 ... 2997 2998 2999]\n",
      " ...\n",
      " [7000 7001 7002 ... 7997 7998 7999]\n",
      " [8000 8001 8002 ... 8997 8998 8999]\n",
      " [9000 9001 9002 ... 9997 9998 9999]]\n"
     ]
    }
   ],
   "source": [
    "print(np.arange(10000).reshape(10,1000))"
   ]
  },
  {
   "cell_type": "code",
   "execution_count": 118,
   "id": "4222aaf5",
   "metadata": {
    "ExecuteTime": {
     "end_time": "2021-07-29T08:36:02.617263Z",
     "start_time": "2021-07-29T08:36:02.605320Z"
    }
   },
   "outputs": [],
   "source": [
    "# 배열이 너무 커서 인쇄할 수 없는 경우는 자동적으로 건너뛰고 모서리만 출력\n",
    "# 이동작을 비활성화하고 넘파이 배열 전체가 출력되도록 하려면\n",
    "# 인쇄 옵션을 변경 threshold값 큰값으로 조정\n",
    "import sys\n",
    "np.set_printoptions(threshold=10000)\n",
    "np.set_printoptions(threshold=sys.maxsize) #시스탬 최고 크기\n",
    "np.set_printoptions(threshold=np.inf) #np.inf=무한데\n",
    "# 커널 재시작시 다시 원상복귀\n"
   ]
  },
  {
   "cell_type": "code",
   "execution_count": 119,
   "id": "7a1ecc88",
   "metadata": {
    "ExecuteTime": {
     "end_time": "2021-07-29T08:36:03.551551Z",
     "start_time": "2021-07-29T08:36:03.523626Z"
    }
   },
   "outputs": [
    {
     "name": "stdout",
     "output_type": "stream",
     "text": [
      "[[   0    1    2    3    4    5    6    7    8    9   10   11   12   13\n",
      "    14   15   16   17   18   19   20   21   22   23   24   25   26   27\n",
      "    28   29   30   31   32   33   34   35   36   37   38   39   40   41\n",
      "    42   43   44   45   46   47   48   49   50   51   52   53   54   55\n",
      "    56   57   58   59   60   61   62   63   64   65   66   67   68   69\n",
      "    70   71   72   73   74   75   76   77   78   79   80   81   82   83\n",
      "    84   85   86   87   88   89   90   91   92   93   94   95   96   97\n",
      "    98   99  100  101  102  103  104  105  106  107  108  109  110  111\n",
      "   112  113  114  115  116  117  118  119  120  121  122  123  124  125\n",
      "   126  127  128  129  130  131  132  133  134  135  136  137  138  139\n",
      "   140  141  142  143  144  145  146  147  148  149  150  151  152  153\n",
      "   154  155  156  157  158  159  160  161  162  163  164  165  166  167\n",
      "   168  169  170  171  172  173  174  175  176  177  178  179  180  181\n",
      "   182  183  184  185  186  187  188  189  190  191  192  193  194  195\n",
      "   196  197  198  199  200  201  202  203  204  205  206  207  208  209\n",
      "   210  211  212  213  214  215  216  217  218  219  220  221  222  223\n",
      "   224  225  226  227  228  229  230  231  232  233  234  235  236  237\n",
      "   238  239  240  241  242  243  244  245  246  247  248  249  250  251\n",
      "   252  253  254  255  256  257  258  259  260  261  262  263  264  265\n",
      "   266  267  268  269  270  271  272  273  274  275  276  277  278  279\n",
      "   280  281  282  283  284  285  286  287  288  289  290  291  292  293\n",
      "   294  295  296  297  298  299  300  301  302  303  304  305  306  307\n",
      "   308  309  310  311  312  313  314  315  316  317  318  319  320  321\n",
      "   322  323  324  325  326  327  328  329  330  331  332  333  334  335\n",
      "   336  337  338  339  340  341  342  343  344  345  346  347  348  349\n",
      "   350  351  352  353  354  355  356  357  358  359  360  361  362  363\n",
      "   364  365  366  367  368  369  370  371  372  373  374  375  376  377\n",
      "   378  379  380  381  382  383  384  385  386  387  388  389  390  391\n",
      "   392  393  394  395  396  397  398  399  400  401  402  403  404  405\n",
      "   406  407  408  409  410  411  412  413  414  415  416  417  418  419\n",
      "   420  421  422  423  424  425  426  427  428  429  430  431  432  433\n",
      "   434  435  436  437  438  439  440  441  442  443  444  445  446  447\n",
      "   448  449  450  451  452  453  454  455  456  457  458  459  460  461\n",
      "   462  463  464  465  466  467  468  469  470  471  472  473  474  475\n",
      "   476  477  478  479  480  481  482  483  484  485  486  487  488  489\n",
      "   490  491  492  493  494  495  496  497  498  499  500  501  502  503\n",
      "   504  505  506  507  508  509  510  511  512  513  514  515  516  517\n",
      "   518  519  520  521  522  523  524  525  526  527  528  529  530  531\n",
      "   532  533  534  535  536  537  538  539  540  541  542  543  544  545\n",
      "   546  547  548  549  550  551  552  553  554  555  556  557  558  559\n",
      "   560  561  562  563  564  565  566  567  568  569  570  571  572  573\n",
      "   574  575  576  577  578  579  580  581  582  583  584  585  586  587\n",
      "   588  589  590  591  592  593  594  595  596  597  598  599  600  601\n",
      "   602  603  604  605  606  607  608  609  610  611  612  613  614  615\n",
      "   616  617  618  619  620  621  622  623  624  625  626  627  628  629\n",
      "   630  631  632  633  634  635  636  637  638  639  640  641  642  643\n",
      "   644  645  646  647  648  649  650  651  652  653  654  655  656  657\n",
      "   658  659  660  661  662  663  664  665  666  667  668  669  670  671\n",
      "   672  673  674  675  676  677  678  679  680  681  682  683  684  685\n",
      "   686  687  688  689  690  691  692  693  694  695  696  697  698  699\n",
      "   700  701  702  703  704  705  706  707  708  709  710  711  712  713\n",
      "   714  715  716  717  718  719  720  721  722  723  724  725  726  727\n",
      "   728  729  730  731  732  733  734  735  736  737  738  739  740  741\n",
      "   742  743  744  745  746  747  748  749  750  751  752  753  754  755\n",
      "   756  757  758  759  760  761  762  763  764  765  766  767  768  769\n",
      "   770  771  772  773  774  775  776  777  778  779  780  781  782  783\n",
      "   784  785  786  787  788  789  790  791  792  793  794  795  796  797\n",
      "   798  799  800  801  802  803  804  805  806  807  808  809  810  811\n",
      "   812  813  814  815  816  817  818  819  820  821  822  823  824  825\n",
      "   826  827  828  829  830  831  832  833  834  835  836  837  838  839\n",
      "   840  841  842  843  844  845  846  847  848  849  850  851  852  853\n",
      "   854  855  856  857  858  859  860  861  862  863  864  865  866  867\n",
      "   868  869  870  871  872  873  874  875  876  877  878  879  880  881\n",
      "   882  883  884  885  886  887  888  889  890  891  892  893  894  895\n",
      "   896  897  898  899  900  901  902  903  904  905  906  907  908  909\n",
      "   910  911  912  913  914  915  916  917  918  919  920  921  922  923\n",
      "   924  925  926  927  928  929  930  931  932  933  934  935  936  937\n",
      "   938  939  940  941  942  943  944  945  946  947  948  949  950  951\n",
      "   952  953  954  955  956  957  958  959  960  961  962  963  964  965\n",
      "   966  967  968  969  970  971  972  973  974  975  976  977  978  979\n",
      "   980  981  982  983  984  985  986  987  988  989  990  991  992  993\n",
      "   994  995  996  997  998  999]\n",
      " [1000 1001 1002 1003 1004 1005 1006 1007 1008 1009 1010 1011 1012 1013\n",
      "  1014 1015 1016 1017 1018 1019 1020 1021 1022 1023 1024 1025 1026 1027\n",
      "  1028 1029 1030 1031 1032 1033 1034 1035 1036 1037 1038 1039 1040 1041\n",
      "  1042 1043 1044 1045 1046 1047 1048 1049 1050 1051 1052 1053 1054 1055\n",
      "  1056 1057 1058 1059 1060 1061 1062 1063 1064 1065 1066 1067 1068 1069\n",
      "  1070 1071 1072 1073 1074 1075 1076 1077 1078 1079 1080 1081 1082 1083\n",
      "  1084 1085 1086 1087 1088 1089 1090 1091 1092 1093 1094 1095 1096 1097\n",
      "  1098 1099 1100 1101 1102 1103 1104 1105 1106 1107 1108 1109 1110 1111\n",
      "  1112 1113 1114 1115 1116 1117 1118 1119 1120 1121 1122 1123 1124 1125\n",
      "  1126 1127 1128 1129 1130 1131 1132 1133 1134 1135 1136 1137 1138 1139\n",
      "  1140 1141 1142 1143 1144 1145 1146 1147 1148 1149 1150 1151 1152 1153\n",
      "  1154 1155 1156 1157 1158 1159 1160 1161 1162 1163 1164 1165 1166 1167\n",
      "  1168 1169 1170 1171 1172 1173 1174 1175 1176 1177 1178 1179 1180 1181\n",
      "  1182 1183 1184 1185 1186 1187 1188 1189 1190 1191 1192 1193 1194 1195\n",
      "  1196 1197 1198 1199 1200 1201 1202 1203 1204 1205 1206 1207 1208 1209\n",
      "  1210 1211 1212 1213 1214 1215 1216 1217 1218 1219 1220 1221 1222 1223\n",
      "  1224 1225 1226 1227 1228 1229 1230 1231 1232 1233 1234 1235 1236 1237\n",
      "  1238 1239 1240 1241 1242 1243 1244 1245 1246 1247 1248 1249 1250 1251\n",
      "  1252 1253 1254 1255 1256 1257 1258 1259 1260 1261 1262 1263 1264 1265\n",
      "  1266 1267 1268 1269 1270 1271 1272 1273 1274 1275 1276 1277 1278 1279\n",
      "  1280 1281 1282 1283 1284 1285 1286 1287 1288 1289 1290 1291 1292 1293\n",
      "  1294 1295 1296 1297 1298 1299 1300 1301 1302 1303 1304 1305 1306 1307\n",
      "  1308 1309 1310 1311 1312 1313 1314 1315 1316 1317 1318 1319 1320 1321\n",
      "  1322 1323 1324 1325 1326 1327 1328 1329 1330 1331 1332 1333 1334 1335\n",
      "  1336 1337 1338 1339 1340 1341 1342 1343 1344 1345 1346 1347 1348 1349\n",
      "  1350 1351 1352 1353 1354 1355 1356 1357 1358 1359 1360 1361 1362 1363\n",
      "  1364 1365 1366 1367 1368 1369 1370 1371 1372 1373 1374 1375 1376 1377\n",
      "  1378 1379 1380 1381 1382 1383 1384 1385 1386 1387 1388 1389 1390 1391\n",
      "  1392 1393 1394 1395 1396 1397 1398 1399 1400 1401 1402 1403 1404 1405\n",
      "  1406 1407 1408 1409 1410 1411 1412 1413 1414 1415 1416 1417 1418 1419\n",
      "  1420 1421 1422 1423 1424 1425 1426 1427 1428 1429 1430 1431 1432 1433\n",
      "  1434 1435 1436 1437 1438 1439 1440 1441 1442 1443 1444 1445 1446 1447\n",
      "  1448 1449 1450 1451 1452 1453 1454 1455 1456 1457 1458 1459 1460 1461\n",
      "  1462 1463 1464 1465 1466 1467 1468 1469 1470 1471 1472 1473 1474 1475\n",
      "  1476 1477 1478 1479 1480 1481 1482 1483 1484 1485 1486 1487 1488 1489\n",
      "  1490 1491 1492 1493 1494 1495 1496 1497 1498 1499 1500 1501 1502 1503\n",
      "  1504 1505 1506 1507 1508 1509 1510 1511 1512 1513 1514 1515 1516 1517\n",
      "  1518 1519 1520 1521 1522 1523 1524 1525 1526 1527 1528 1529 1530 1531\n",
      "  1532 1533 1534 1535 1536 1537 1538 1539 1540 1541 1542 1543 1544 1545\n",
      "  1546 1547 1548 1549 1550 1551 1552 1553 1554 1555 1556 1557 1558 1559\n",
      "  1560 1561 1562 1563 1564 1565 1566 1567 1568 1569 1570 1571 1572 1573\n",
      "  1574 1575 1576 1577 1578 1579 1580 1581 1582 1583 1584 1585 1586 1587\n",
      "  1588 1589 1590 1591 1592 1593 1594 1595 1596 1597 1598 1599 1600 1601\n",
      "  1602 1603 1604 1605 1606 1607 1608 1609 1610 1611 1612 1613 1614 1615\n",
      "  1616 1617 1618 1619 1620 1621 1622 1623 1624 1625 1626 1627 1628 1629\n",
      "  1630 1631 1632 1633 1634 1635 1636 1637 1638 1639 1640 1641 1642 1643\n",
      "  1644 1645 1646 1647 1648 1649 1650 1651 1652 1653 1654 1655 1656 1657\n",
      "  1658 1659 1660 1661 1662 1663 1664 1665 1666 1667 1668 1669 1670 1671\n",
      "  1672 1673 1674 1675 1676 1677 1678 1679 1680 1681 1682 1683 1684 1685\n",
      "  1686 1687 1688 1689 1690 1691 1692 1693 1694 1695 1696 1697 1698 1699\n",
      "  1700 1701 1702 1703 1704 1705 1706 1707 1708 1709 1710 1711 1712 1713\n",
      "  1714 1715 1716 1717 1718 1719 1720 1721 1722 1723 1724 1725 1726 1727\n",
      "  1728 1729 1730 1731 1732 1733 1734 1735 1736 1737 1738 1739 1740 1741\n",
      "  1742 1743 1744 1745 1746 1747 1748 1749 1750 1751 1752 1753 1754 1755\n",
      "  1756 1757 1758 1759 1760 1761 1762 1763 1764 1765 1766 1767 1768 1769\n",
      "  1770 1771 1772 1773 1774 1775 1776 1777 1778 1779 1780 1781 1782 1783\n",
      "  1784 1785 1786 1787 1788 1789 1790 1791 1792 1793 1794 1795 1796 1797\n",
      "  1798 1799 1800 1801 1802 1803 1804 1805 1806 1807 1808 1809 1810 1811\n",
      "  1812 1813 1814 1815 1816 1817 1818 1819 1820 1821 1822 1823 1824 1825\n",
      "  1826 1827 1828 1829 1830 1831 1832 1833 1834 1835 1836 1837 1838 1839\n",
      "  1840 1841 1842 1843 1844 1845 1846 1847 1848 1849 1850 1851 1852 1853\n",
      "  1854 1855 1856 1857 1858 1859 1860 1861 1862 1863 1864 1865 1866 1867\n",
      "  1868 1869 1870 1871 1872 1873 1874 1875 1876 1877 1878 1879 1880 1881\n",
      "  1882 1883 1884 1885 1886 1887 1888 1889 1890 1891 1892 1893 1894 1895\n",
      "  1896 1897 1898 1899 1900 1901 1902 1903 1904 1905 1906 1907 1908 1909\n",
      "  1910 1911 1912 1913 1914 1915 1916 1917 1918 1919 1920 1921 1922 1923\n",
      "  1924 1925 1926 1927 1928 1929 1930 1931 1932 1933 1934 1935 1936 1937\n",
      "  1938 1939 1940 1941 1942 1943 1944 1945 1946 1947 1948 1949 1950 1951\n",
      "  1952 1953 1954 1955 1956 1957 1958 1959 1960 1961 1962 1963 1964 1965\n",
      "  1966 1967 1968 1969 1970 1971 1972 1973 1974 1975 1976 1977 1978 1979\n",
      "  1980 1981 1982 1983 1984 1985 1986 1987 1988 1989 1990 1991 1992 1993\n",
      "  1994 1995 1996 1997 1998 1999]\n",
      " [2000 2001 2002 2003 2004 2005 2006 2007 2008 2009 2010 2011 2012 2013\n",
      "  2014 2015 2016 2017 2018 2019 2020 2021 2022 2023 2024 2025 2026 2027\n",
      "  2028 2029 2030 2031 2032 2033 2034 2035 2036 2037 2038 2039 2040 2041\n",
      "  2042 2043 2044 2045 2046 2047 2048 2049 2050 2051 2052 2053 2054 2055\n",
      "  2056 2057 2058 2059 2060 2061 2062 2063 2064 2065 2066 2067 2068 2069\n",
      "  2070 2071 2072 2073 2074 2075 2076 2077 2078 2079 2080 2081 2082 2083\n",
      "  2084 2085 2086 2087 2088 2089 2090 2091 2092 2093 2094 2095 2096 2097\n",
      "  2098 2099 2100 2101 2102 2103 2104 2105 2106 2107 2108 2109 2110 2111\n",
      "  2112 2113 2114 2115 2116 2117 2118 2119 2120 2121 2122 2123 2124 2125\n",
      "  2126 2127 2128 2129 2130 2131 2132 2133 2134 2135 2136 2137 2138 2139\n",
      "  2140 2141 2142 2143 2144 2145 2146 2147 2148 2149 2150 2151 2152 2153\n",
      "  2154 2155 2156 2157 2158 2159 2160 2161 2162 2163 2164 2165 2166 2167\n",
      "  2168 2169 2170 2171 2172 2173 2174 2175 2176 2177 2178 2179 2180 2181\n",
      "  2182 2183 2184 2185 2186 2187 2188 2189 2190 2191 2192 2193 2194 2195\n",
      "  2196 2197 2198 2199 2200 2201 2202 2203 2204 2205 2206 2207 2208 2209\n",
      "  2210 2211 2212 2213 2214 2215 2216 2217 2218 2219 2220 2221 2222 2223\n",
      "  2224 2225 2226 2227 2228 2229 2230 2231 2232 2233 2234 2235 2236 2237\n",
      "  2238 2239 2240 2241 2242 2243 2244 2245 2246 2247 2248 2249 2250 2251\n",
      "  2252 2253 2254 2255 2256 2257 2258 2259 2260 2261 2262 2263 2264 2265\n",
      "  2266 2267 2268 2269 2270 2271 2272 2273 2274 2275 2276 2277 2278 2279\n",
      "  2280 2281 2282 2283 2284 2285 2286 2287 2288 2289 2290 2291 2292 2293\n",
      "  2294 2295 2296 2297 2298 2299 2300 2301 2302 2303 2304 2305 2306 2307\n",
      "  2308 2309 2310 2311 2312 2313 2314 2315 2316 2317 2318 2319 2320 2321\n",
      "  2322 2323 2324 2325 2326 2327 2328 2329 2330 2331 2332 2333 2334 2335\n",
      "  2336 2337 2338 2339 2340 2341 2342 2343 2344 2345 2346 2347 2348 2349\n",
      "  2350 2351 2352 2353 2354 2355 2356 2357 2358 2359 2360 2361 2362 2363\n",
      "  2364 2365 2366 2367 2368 2369 2370 2371 2372 2373 2374 2375 2376 2377\n",
      "  2378 2379 2380 2381 2382 2383 2384 2385 2386 2387 2388 2389 2390 2391\n",
      "  2392 2393 2394 2395 2396 2397 2398 2399 2400 2401 2402 2403 2404 2405\n",
      "  2406 2407 2408 2409 2410 2411 2412 2413 2414 2415 2416 2417 2418 2419\n",
      "  2420 2421 2422 2423 2424 2425 2426 2427 2428 2429 2430 2431 2432 2433\n",
      "  2434 2435 2436 2437 2438 2439 2440 2441 2442 2443 2444 2445 2446 2447\n",
      "  2448 2449 2450 2451 2452 2453 2454 2455 2456 2457 2458 2459 2460 2461\n",
      "  2462 2463 2464 2465 2466 2467 2468 2469 2470 2471 2472 2473 2474 2475\n",
      "  2476 2477 2478 2479 2480 2481 2482 2483 2484 2485 2486 2487 2488 2489\n",
      "  2490 2491 2492 2493 2494 2495 2496 2497 2498 2499 2500 2501 2502 2503\n",
      "  2504 2505 2506 2507 2508 2509 2510 2511 2512 2513 2514 2515 2516 2517\n",
      "  2518 2519 2520 2521 2522 2523 2524 2525 2526 2527 2528 2529 2530 2531\n",
      "  2532 2533 2534 2535 2536 2537 2538 2539 2540 2541 2542 2543 2544 2545\n",
      "  2546 2547 2548 2549 2550 2551 2552 2553 2554 2555 2556 2557 2558 2559\n",
      "  2560 2561 2562 2563 2564 2565 2566 2567 2568 2569 2570 2571 2572 2573\n",
      "  2574 2575 2576 2577 2578 2579 2580 2581 2582 2583 2584 2585 2586 2587\n",
      "  2588 2589 2590 2591 2592 2593 2594 2595 2596 2597 2598 2599 2600 2601\n",
      "  2602 2603 2604 2605 2606 2607 2608 2609 2610 2611 2612 2613 2614 2615\n",
      "  2616 2617 2618 2619 2620 2621 2622 2623 2624 2625 2626 2627 2628 2629\n",
      "  2630 2631 2632 2633 2634 2635 2636 2637 2638 2639 2640 2641 2642 2643\n",
      "  2644 2645 2646 2647 2648 2649 2650 2651 2652 2653 2654 2655 2656 2657\n",
      "  2658 2659 2660 2661 2662 2663 2664 2665 2666 2667 2668 2669 2670 2671\n",
      "  2672 2673 2674 2675 2676 2677 2678 2679 2680 2681 2682 2683 2684 2685\n",
      "  2686 2687 2688 2689 2690 2691 2692 2693 2694 2695 2696 2697 2698 2699\n",
      "  2700 2701 2702 2703 2704 2705 2706 2707 2708 2709 2710 2711 2712 2713\n",
      "  2714 2715 2716 2717 2718 2719 2720 2721 2722 2723 2724 2725 2726 2727\n",
      "  2728 2729 2730 2731 2732 2733 2734 2735 2736 2737 2738 2739 2740 2741\n",
      "  2742 2743 2744 2745 2746 2747 2748 2749 2750 2751 2752 2753 2754 2755\n",
      "  2756 2757 2758 2759 2760 2761 2762 2763 2764 2765 2766 2767 2768 2769\n",
      "  2770 2771 2772 2773 2774 2775 2776 2777 2778 2779 2780 2781 2782 2783\n",
      "  2784 2785 2786 2787 2788 2789 2790 2791 2792 2793 2794 2795 2796 2797\n",
      "  2798 2799 2800 2801 2802 2803 2804 2805 2806 2807 2808 2809 2810 2811\n",
      "  2812 2813 2814 2815 2816 2817 2818 2819 2820 2821 2822 2823 2824 2825\n",
      "  2826 2827 2828 2829 2830 2831 2832 2833 2834 2835 2836 2837 2838 2839\n",
      "  2840 2841 2842 2843 2844 2845 2846 2847 2848 2849 2850 2851 2852 2853\n",
      "  2854 2855 2856 2857 2858 2859 2860 2861 2862 2863 2864 2865 2866 2867\n",
      "  2868 2869 2870 2871 2872 2873 2874 2875 2876 2877 2878 2879 2880 2881\n",
      "  2882 2883 2884 2885 2886 2887 2888 2889 2890 2891 2892 2893 2894 2895\n",
      "  2896 2897 2898 2899 2900 2901 2902 2903 2904 2905 2906 2907 2908 2909\n",
      "  2910 2911 2912 2913 2914 2915 2916 2917 2918 2919 2920 2921 2922 2923\n",
      "  2924 2925 2926 2927 2928 2929 2930 2931 2932 2933 2934 2935 2936 2937\n",
      "  2938 2939 2940 2941 2942 2943 2944 2945 2946 2947 2948 2949 2950 2951\n",
      "  2952 2953 2954 2955 2956 2957 2958 2959 2960 2961 2962 2963 2964 2965\n",
      "  2966 2967 2968 2969 2970 2971 2972 2973 2974 2975 2976 2977 2978 2979\n",
      "  2980 2981 2982 2983 2984 2985 2986 2987 2988 2989 2990 2991 2992 2993\n",
      "  2994 2995 2996 2997 2998 2999]\n",
      " [3000 3001 3002 3003 3004 3005 3006 3007 3008 3009 3010 3011 3012 3013\n",
      "  3014 3015 3016 3017 3018 3019 3020 3021 3022 3023 3024 3025 3026 3027\n",
      "  3028 3029 3030 3031 3032 3033 3034 3035 3036 3037 3038 3039 3040 3041\n",
      "  3042 3043 3044 3045 3046 3047 3048 3049 3050 3051 3052 3053 3054 3055\n",
      "  3056 3057 3058 3059 3060 3061 3062 3063 3064 3065 3066 3067 3068 3069\n",
      "  3070 3071 3072 3073 3074 3075 3076 3077 3078 3079 3080 3081 3082 3083\n",
      "  3084 3085 3086 3087 3088 3089 3090 3091 3092 3093 3094 3095 3096 3097\n",
      "  3098 3099 3100 3101 3102 3103 3104 3105 3106 3107 3108 3109 3110 3111\n",
      "  3112 3113 3114 3115 3116 3117 3118 3119 3120 3121 3122 3123 3124 3125\n",
      "  3126 3127 3128 3129 3130 3131 3132 3133 3134 3135 3136 3137 3138 3139\n",
      "  3140 3141 3142 3143 3144 3145 3146 3147 3148 3149 3150 3151 3152 3153\n",
      "  3154 3155 3156 3157 3158 3159 3160 3161 3162 3163 3164 3165 3166 3167\n",
      "  3168 3169 3170 3171 3172 3173 3174 3175 3176 3177 3178 3179 3180 3181\n",
      "  3182 3183 3184 3185 3186 3187 3188 3189 3190 3191 3192 3193 3194 3195\n",
      "  3196 3197 3198 3199 3200 3201 3202 3203 3204 3205 3206 3207 3208 3209\n",
      "  3210 3211 3212 3213 3214 3215 3216 3217 3218 3219 3220 3221 3222 3223\n",
      "  3224 3225 3226 3227 3228 3229 3230 3231 3232 3233 3234 3235 3236 3237\n",
      "  3238 3239 3240 3241 3242 3243 3244 3245 3246 3247 3248 3249 3250 3251\n",
      "  3252 3253 3254 3255 3256 3257 3258 3259 3260 3261 3262 3263 3264 3265\n",
      "  3266 3267 3268 3269 3270 3271 3272 3273 3274 3275 3276 3277 3278 3279\n",
      "  3280 3281 3282 3283 3284 3285 3286 3287 3288 3289 3290 3291 3292 3293\n",
      "  3294 3295 3296 3297 3298 3299 3300 3301 3302 3303 3304 3305 3306 3307\n",
      "  3308 3309 3310 3311 3312 3313 3314 3315 3316 3317 3318 3319 3320 3321\n",
      "  3322 3323 3324 3325 3326 3327 3328 3329 3330 3331 3332 3333 3334 3335\n",
      "  3336 3337 3338 3339 3340 3341 3342 3343 3344 3345 3346 3347 3348 3349\n",
      "  3350 3351 3352 3353 3354 3355 3356 3357 3358 3359 3360 3361 3362 3363\n",
      "  3364 3365 3366 3367 3368 3369 3370 3371 3372 3373 3374 3375 3376 3377\n",
      "  3378 3379 3380 3381 3382 3383 3384 3385 3386 3387 3388 3389 3390 3391\n",
      "  3392 3393 3394 3395 3396 3397 3398 3399 3400 3401 3402 3403 3404 3405\n",
      "  3406 3407 3408 3409 3410 3411 3412 3413 3414 3415 3416 3417 3418 3419\n",
      "  3420 3421 3422 3423 3424 3425 3426 3427 3428 3429 3430 3431 3432 3433\n",
      "  3434 3435 3436 3437 3438 3439 3440 3441 3442 3443 3444 3445 3446 3447\n",
      "  3448 3449 3450 3451 3452 3453 3454 3455 3456 3457 3458 3459 3460 3461\n",
      "  3462 3463 3464 3465 3466 3467 3468 3469 3470 3471 3472 3473 3474 3475\n",
      "  3476 3477 3478 3479 3480 3481 3482 3483 3484 3485 3486 3487 3488 3489\n",
      "  3490 3491 3492 3493 3494 3495 3496 3497 3498 3499 3500 3501 3502 3503\n",
      "  3504 3505 3506 3507 3508 3509 3510 3511 3512 3513 3514 3515 3516 3517\n",
      "  3518 3519 3520 3521 3522 3523 3524 3525 3526 3527 3528 3529 3530 3531\n",
      "  3532 3533 3534 3535 3536 3537 3538 3539 3540 3541 3542 3543 3544 3545\n",
      "  3546 3547 3548 3549 3550 3551 3552 3553 3554 3555 3556 3557 3558 3559\n",
      "  3560 3561 3562 3563 3564 3565 3566 3567 3568 3569 3570 3571 3572 3573\n",
      "  3574 3575 3576 3577 3578 3579 3580 3581 3582 3583 3584 3585 3586 3587\n",
      "  3588 3589 3590 3591 3592 3593 3594 3595 3596 3597 3598 3599 3600 3601\n",
      "  3602 3603 3604 3605 3606 3607 3608 3609 3610 3611 3612 3613 3614 3615\n",
      "  3616 3617 3618 3619 3620 3621 3622 3623 3624 3625 3626 3627 3628 3629\n",
      "  3630 3631 3632 3633 3634 3635 3636 3637 3638 3639 3640 3641 3642 3643\n",
      "  3644 3645 3646 3647 3648 3649 3650 3651 3652 3653 3654 3655 3656 3657\n",
      "  3658 3659 3660 3661 3662 3663 3664 3665 3666 3667 3668 3669 3670 3671\n",
      "  3672 3673 3674 3675 3676 3677 3678 3679 3680 3681 3682 3683 3684 3685\n",
      "  3686 3687 3688 3689 3690 3691 3692 3693 3694 3695 3696 3697 3698 3699\n",
      "  3700 3701 3702 3703 3704 3705 3706 3707 3708 3709 3710 3711 3712 3713\n",
      "  3714 3715 3716 3717 3718 3719 3720 3721 3722 3723 3724 3725 3726 3727\n",
      "  3728 3729 3730 3731 3732 3733 3734 3735 3736 3737 3738 3739 3740 3741\n",
      "  3742 3743 3744 3745 3746 3747 3748 3749 3750 3751 3752 3753 3754 3755\n",
      "  3756 3757 3758 3759 3760 3761 3762 3763 3764 3765 3766 3767 3768 3769\n",
      "  3770 3771 3772 3773 3774 3775 3776 3777 3778 3779 3780 3781 3782 3783\n",
      "  3784 3785 3786 3787 3788 3789 3790 3791 3792 3793 3794 3795 3796 3797\n",
      "  3798 3799 3800 3801 3802 3803 3804 3805 3806 3807 3808 3809 3810 3811\n",
      "  3812 3813 3814 3815 3816 3817 3818 3819 3820 3821 3822 3823 3824 3825\n",
      "  3826 3827 3828 3829 3830 3831 3832 3833 3834 3835 3836 3837 3838 3839\n",
      "  3840 3841 3842 3843 3844 3845 3846 3847 3848 3849 3850 3851 3852 3853\n",
      "  3854 3855 3856 3857 3858 3859 3860 3861 3862 3863 3864 3865 3866 3867\n",
      "  3868 3869 3870 3871 3872 3873 3874 3875 3876 3877 3878 3879 3880 3881\n",
      "  3882 3883 3884 3885 3886 3887 3888 3889 3890 3891 3892 3893 3894 3895\n",
      "  3896 3897 3898 3899 3900 3901 3902 3903 3904 3905 3906 3907 3908 3909\n",
      "  3910 3911 3912 3913 3914 3915 3916 3917 3918 3919 3920 3921 3922 3923\n",
      "  3924 3925 3926 3927 3928 3929 3930 3931 3932 3933 3934 3935 3936 3937\n",
      "  3938 3939 3940 3941 3942 3943 3944 3945 3946 3947 3948 3949 3950 3951\n",
      "  3952 3953 3954 3955 3956 3957 3958 3959 3960 3961 3962 3963 3964 3965\n",
      "  3966 3967 3968 3969 3970 3971 3972 3973 3974 3975 3976 3977 3978 3979\n",
      "  3980 3981 3982 3983 3984 3985 3986 3987 3988 3989 3990 3991 3992 3993\n",
      "  3994 3995 3996 3997 3998 3999]\n",
      " [4000 4001 4002 4003 4004 4005 4006 4007 4008 4009 4010 4011 4012 4013\n",
      "  4014 4015 4016 4017 4018 4019 4020 4021 4022 4023 4024 4025 4026 4027\n",
      "  4028 4029 4030 4031 4032 4033 4034 4035 4036 4037 4038 4039 4040 4041\n",
      "  4042 4043 4044 4045 4046 4047 4048 4049 4050 4051 4052 4053 4054 4055\n",
      "  4056 4057 4058 4059 4060 4061 4062 4063 4064 4065 4066 4067 4068 4069\n",
      "  4070 4071 4072 4073 4074 4075 4076 4077 4078 4079 4080 4081 4082 4083\n",
      "  4084 4085 4086 4087 4088 4089 4090 4091 4092 4093 4094 4095 4096 4097\n",
      "  4098 4099 4100 4101 4102 4103 4104 4105 4106 4107 4108 4109 4110 4111\n",
      "  4112 4113 4114 4115 4116 4117 4118 4119 4120 4121 4122 4123 4124 4125\n",
      "  4126 4127 4128 4129 4130 4131 4132 4133 4134 4135 4136 4137 4138 4139\n",
      "  4140 4141 4142 4143 4144 4145 4146 4147 4148 4149 4150 4151 4152 4153\n",
      "  4154 4155 4156 4157 4158 4159 4160 4161 4162 4163 4164 4165 4166 4167\n",
      "  4168 4169 4170 4171 4172 4173 4174 4175 4176 4177 4178 4179 4180 4181\n",
      "  4182 4183 4184 4185 4186 4187 4188 4189 4190 4191 4192 4193 4194 4195\n",
      "  4196 4197 4198 4199 4200 4201 4202 4203 4204 4205 4206 4207 4208 4209\n",
      "  4210 4211 4212 4213 4214 4215 4216 4217 4218 4219 4220 4221 4222 4223\n",
      "  4224 4225 4226 4227 4228 4229 4230 4231 4232 4233 4234 4235 4236 4237\n",
      "  4238 4239 4240 4241 4242 4243 4244 4245 4246 4247 4248 4249 4250 4251\n",
      "  4252 4253 4254 4255 4256 4257 4258 4259 4260 4261 4262 4263 4264 4265\n",
      "  4266 4267 4268 4269 4270 4271 4272 4273 4274 4275 4276 4277 4278 4279\n",
      "  4280 4281 4282 4283 4284 4285 4286 4287 4288 4289 4290 4291 4292 4293\n",
      "  4294 4295 4296 4297 4298 4299 4300 4301 4302 4303 4304 4305 4306 4307\n",
      "  4308 4309 4310 4311 4312 4313 4314 4315 4316 4317 4318 4319 4320 4321\n",
      "  4322 4323 4324 4325 4326 4327 4328 4329 4330 4331 4332 4333 4334 4335\n",
      "  4336 4337 4338 4339 4340 4341 4342 4343 4344 4345 4346 4347 4348 4349\n",
      "  4350 4351 4352 4353 4354 4355 4356 4357 4358 4359 4360 4361 4362 4363\n",
      "  4364 4365 4366 4367 4368 4369 4370 4371 4372 4373 4374 4375 4376 4377\n",
      "  4378 4379 4380 4381 4382 4383 4384 4385 4386 4387 4388 4389 4390 4391\n",
      "  4392 4393 4394 4395 4396 4397 4398 4399 4400 4401 4402 4403 4404 4405\n",
      "  4406 4407 4408 4409 4410 4411 4412 4413 4414 4415 4416 4417 4418 4419\n",
      "  4420 4421 4422 4423 4424 4425 4426 4427 4428 4429 4430 4431 4432 4433\n",
      "  4434 4435 4436 4437 4438 4439 4440 4441 4442 4443 4444 4445 4446 4447\n",
      "  4448 4449 4450 4451 4452 4453 4454 4455 4456 4457 4458 4459 4460 4461\n",
      "  4462 4463 4464 4465 4466 4467 4468 4469 4470 4471 4472 4473 4474 4475\n",
      "  4476 4477 4478 4479 4480 4481 4482 4483 4484 4485 4486 4487 4488 4489\n",
      "  4490 4491 4492 4493 4494 4495 4496 4497 4498 4499 4500 4501 4502 4503\n",
      "  4504 4505 4506 4507 4508 4509 4510 4511 4512 4513 4514 4515 4516 4517\n",
      "  4518 4519 4520 4521 4522 4523 4524 4525 4526 4527 4528 4529 4530 4531\n",
      "  4532 4533 4534 4535 4536 4537 4538 4539 4540 4541 4542 4543 4544 4545\n",
      "  4546 4547 4548 4549 4550 4551 4552 4553 4554 4555 4556 4557 4558 4559\n",
      "  4560 4561 4562 4563 4564 4565 4566 4567 4568 4569 4570 4571 4572 4573\n",
      "  4574 4575 4576 4577 4578 4579 4580 4581 4582 4583 4584 4585 4586 4587\n",
      "  4588 4589 4590 4591 4592 4593 4594 4595 4596 4597 4598 4599 4600 4601\n",
      "  4602 4603 4604 4605 4606 4607 4608 4609 4610 4611 4612 4613 4614 4615\n",
      "  4616 4617 4618 4619 4620 4621 4622 4623 4624 4625 4626 4627 4628 4629\n",
      "  4630 4631 4632 4633 4634 4635 4636 4637 4638 4639 4640 4641 4642 4643\n",
      "  4644 4645 4646 4647 4648 4649 4650 4651 4652 4653 4654 4655 4656 4657\n",
      "  4658 4659 4660 4661 4662 4663 4664 4665 4666 4667 4668 4669 4670 4671\n",
      "  4672 4673 4674 4675 4676 4677 4678 4679 4680 4681 4682 4683 4684 4685\n",
      "  4686 4687 4688 4689 4690 4691 4692 4693 4694 4695 4696 4697 4698 4699\n",
      "  4700 4701 4702 4703 4704 4705 4706 4707 4708 4709 4710 4711 4712 4713\n",
      "  4714 4715 4716 4717 4718 4719 4720 4721 4722 4723 4724 4725 4726 4727\n",
      "  4728 4729 4730 4731 4732 4733 4734 4735 4736 4737 4738 4739 4740 4741\n",
      "  4742 4743 4744 4745 4746 4747 4748 4749 4750 4751 4752 4753 4754 4755\n",
      "  4756 4757 4758 4759 4760 4761 4762 4763 4764 4765 4766 4767 4768 4769\n",
      "  4770 4771 4772 4773 4774 4775 4776 4777 4778 4779 4780 4781 4782 4783\n",
      "  4784 4785 4786 4787 4788 4789 4790 4791 4792 4793 4794 4795 4796 4797\n",
      "  4798 4799 4800 4801 4802 4803 4804 4805 4806 4807 4808 4809 4810 4811\n",
      "  4812 4813 4814 4815 4816 4817 4818 4819 4820 4821 4822 4823 4824 4825\n",
      "  4826 4827 4828 4829 4830 4831 4832 4833 4834 4835 4836 4837 4838 4839\n",
      "  4840 4841 4842 4843 4844 4845 4846 4847 4848 4849 4850 4851 4852 4853\n",
      "  4854 4855 4856 4857 4858 4859 4860 4861 4862 4863 4864 4865 4866 4867\n",
      "  4868 4869 4870 4871 4872 4873 4874 4875 4876 4877 4878 4879 4880 4881\n",
      "  4882 4883 4884 4885 4886 4887 4888 4889 4890 4891 4892 4893 4894 4895\n",
      "  4896 4897 4898 4899 4900 4901 4902 4903 4904 4905 4906 4907 4908 4909\n",
      "  4910 4911 4912 4913 4914 4915 4916 4917 4918 4919 4920 4921 4922 4923\n",
      "  4924 4925 4926 4927 4928 4929 4930 4931 4932 4933 4934 4935 4936 4937\n",
      "  4938 4939 4940 4941 4942 4943 4944 4945 4946 4947 4948 4949 4950 4951\n",
      "  4952 4953 4954 4955 4956 4957 4958 4959 4960 4961 4962 4963 4964 4965\n",
      "  4966 4967 4968 4969 4970 4971 4972 4973 4974 4975 4976 4977 4978 4979\n",
      "  4980 4981 4982 4983 4984 4985 4986 4987 4988 4989 4990 4991 4992 4993\n",
      "  4994 4995 4996 4997 4998 4999]\n",
      " [5000 5001 5002 5003 5004 5005 5006 5007 5008 5009 5010 5011 5012 5013\n",
      "  5014 5015 5016 5017 5018 5019 5020 5021 5022 5023 5024 5025 5026 5027\n",
      "  5028 5029 5030 5031 5032 5033 5034 5035 5036 5037 5038 5039 5040 5041\n",
      "  5042 5043 5044 5045 5046 5047 5048 5049 5050 5051 5052 5053 5054 5055\n",
      "  5056 5057 5058 5059 5060 5061 5062 5063 5064 5065 5066 5067 5068 5069\n",
      "  5070 5071 5072 5073 5074 5075 5076 5077 5078 5079 5080 5081 5082 5083\n",
      "  5084 5085 5086 5087 5088 5089 5090 5091 5092 5093 5094 5095 5096 5097\n",
      "  5098 5099 5100 5101 5102 5103 5104 5105 5106 5107 5108 5109 5110 5111\n",
      "  5112 5113 5114 5115 5116 5117 5118 5119 5120 5121 5122 5123 5124 5125\n",
      "  5126 5127 5128 5129 5130 5131 5132 5133 5134 5135 5136 5137 5138 5139\n",
      "  5140 5141 5142 5143 5144 5145 5146 5147 5148 5149 5150 5151 5152 5153\n",
      "  5154 5155 5156 5157 5158 5159 5160 5161 5162 5163 5164 5165 5166 5167\n",
      "  5168 5169 5170 5171 5172 5173 5174 5175 5176 5177 5178 5179 5180 5181\n",
      "  5182 5183 5184 5185 5186 5187 5188 5189 5190 5191 5192 5193 5194 5195\n",
      "  5196 5197 5198 5199 5200 5201 5202 5203 5204 5205 5206 5207 5208 5209\n",
      "  5210 5211 5212 5213 5214 5215 5216 5217 5218 5219 5220 5221 5222 5223\n",
      "  5224 5225 5226 5227 5228 5229 5230 5231 5232 5233 5234 5235 5236 5237\n",
      "  5238 5239 5240 5241 5242 5243 5244 5245 5246 5247 5248 5249 5250 5251\n",
      "  5252 5253 5254 5255 5256 5257 5258 5259 5260 5261 5262 5263 5264 5265\n",
      "  5266 5267 5268 5269 5270 5271 5272 5273 5274 5275 5276 5277 5278 5279\n",
      "  5280 5281 5282 5283 5284 5285 5286 5287 5288 5289 5290 5291 5292 5293\n",
      "  5294 5295 5296 5297 5298 5299 5300 5301 5302 5303 5304 5305 5306 5307\n",
      "  5308 5309 5310 5311 5312 5313 5314 5315 5316 5317 5318 5319 5320 5321\n",
      "  5322 5323 5324 5325 5326 5327 5328 5329 5330 5331 5332 5333 5334 5335\n",
      "  5336 5337 5338 5339 5340 5341 5342 5343 5344 5345 5346 5347 5348 5349\n",
      "  5350 5351 5352 5353 5354 5355 5356 5357 5358 5359 5360 5361 5362 5363\n",
      "  5364 5365 5366 5367 5368 5369 5370 5371 5372 5373 5374 5375 5376 5377\n",
      "  5378 5379 5380 5381 5382 5383 5384 5385 5386 5387 5388 5389 5390 5391\n",
      "  5392 5393 5394 5395 5396 5397 5398 5399 5400 5401 5402 5403 5404 5405\n",
      "  5406 5407 5408 5409 5410 5411 5412 5413 5414 5415 5416 5417 5418 5419\n",
      "  5420 5421 5422 5423 5424 5425 5426 5427 5428 5429 5430 5431 5432 5433\n",
      "  5434 5435 5436 5437 5438 5439 5440 5441 5442 5443 5444 5445 5446 5447\n",
      "  5448 5449 5450 5451 5452 5453 5454 5455 5456 5457 5458 5459 5460 5461\n",
      "  5462 5463 5464 5465 5466 5467 5468 5469 5470 5471 5472 5473 5474 5475\n",
      "  5476 5477 5478 5479 5480 5481 5482 5483 5484 5485 5486 5487 5488 5489\n",
      "  5490 5491 5492 5493 5494 5495 5496 5497 5498 5499 5500 5501 5502 5503\n",
      "  5504 5505 5506 5507 5508 5509 5510 5511 5512 5513 5514 5515 5516 5517\n",
      "  5518 5519 5520 5521 5522 5523 5524 5525 5526 5527 5528 5529 5530 5531\n",
      "  5532 5533 5534 5535 5536 5537 5538 5539 5540 5541 5542 5543 5544 5545\n",
      "  5546 5547 5548 5549 5550 5551 5552 5553 5554 5555 5556 5557 5558 5559\n",
      "  5560 5561 5562 5563 5564 5565 5566 5567 5568 5569 5570 5571 5572 5573\n",
      "  5574 5575 5576 5577 5578 5579 5580 5581 5582 5583 5584 5585 5586 5587\n",
      "  5588 5589 5590 5591 5592 5593 5594 5595 5596 5597 5598 5599 5600 5601\n",
      "  5602 5603 5604 5605 5606 5607 5608 5609 5610 5611 5612 5613 5614 5615\n",
      "  5616 5617 5618 5619 5620 5621 5622 5623 5624 5625 5626 5627 5628 5629\n",
      "  5630 5631 5632 5633 5634 5635 5636 5637 5638 5639 5640 5641 5642 5643\n",
      "  5644 5645 5646 5647 5648 5649 5650 5651 5652 5653 5654 5655 5656 5657\n",
      "  5658 5659 5660 5661 5662 5663 5664 5665 5666 5667 5668 5669 5670 5671\n",
      "  5672 5673 5674 5675 5676 5677 5678 5679 5680 5681 5682 5683 5684 5685\n",
      "  5686 5687 5688 5689 5690 5691 5692 5693 5694 5695 5696 5697 5698 5699\n",
      "  5700 5701 5702 5703 5704 5705 5706 5707 5708 5709 5710 5711 5712 5713\n",
      "  5714 5715 5716 5717 5718 5719 5720 5721 5722 5723 5724 5725 5726 5727\n",
      "  5728 5729 5730 5731 5732 5733 5734 5735 5736 5737 5738 5739 5740 5741\n",
      "  5742 5743 5744 5745 5746 5747 5748 5749 5750 5751 5752 5753 5754 5755\n",
      "  5756 5757 5758 5759 5760 5761 5762 5763 5764 5765 5766 5767 5768 5769\n",
      "  5770 5771 5772 5773 5774 5775 5776 5777 5778 5779 5780 5781 5782 5783\n",
      "  5784 5785 5786 5787 5788 5789 5790 5791 5792 5793 5794 5795 5796 5797\n",
      "  5798 5799 5800 5801 5802 5803 5804 5805 5806 5807 5808 5809 5810 5811\n",
      "  5812 5813 5814 5815 5816 5817 5818 5819 5820 5821 5822 5823 5824 5825\n",
      "  5826 5827 5828 5829 5830 5831 5832 5833 5834 5835 5836 5837 5838 5839\n",
      "  5840 5841 5842 5843 5844 5845 5846 5847 5848 5849 5850 5851 5852 5853\n",
      "  5854 5855 5856 5857 5858 5859 5860 5861 5862 5863 5864 5865 5866 5867\n",
      "  5868 5869 5870 5871 5872 5873 5874 5875 5876 5877 5878 5879 5880 5881\n",
      "  5882 5883 5884 5885 5886 5887 5888 5889 5890 5891 5892 5893 5894 5895\n",
      "  5896 5897 5898 5899 5900 5901 5902 5903 5904 5905 5906 5907 5908 5909\n",
      "  5910 5911 5912 5913 5914 5915 5916 5917 5918 5919 5920 5921 5922 5923\n",
      "  5924 5925 5926 5927 5928 5929 5930 5931 5932 5933 5934 5935 5936 5937\n",
      "  5938 5939 5940 5941 5942 5943 5944 5945 5946 5947 5948 5949 5950 5951\n",
      "  5952 5953 5954 5955 5956 5957 5958 5959 5960 5961 5962 5963 5964 5965\n",
      "  5966 5967 5968 5969 5970 5971 5972 5973 5974 5975 5976 5977 5978 5979\n",
      "  5980 5981 5982 5983 5984 5985 5986 5987 5988 5989 5990 5991 5992 5993\n",
      "  5994 5995 5996 5997 5998 5999]\n",
      " [6000 6001 6002 6003 6004 6005 6006 6007 6008 6009 6010 6011 6012 6013\n",
      "  6014 6015 6016 6017 6018 6019 6020 6021 6022 6023 6024 6025 6026 6027\n",
      "  6028 6029 6030 6031 6032 6033 6034 6035 6036 6037 6038 6039 6040 6041\n",
      "  6042 6043 6044 6045 6046 6047 6048 6049 6050 6051 6052 6053 6054 6055\n",
      "  6056 6057 6058 6059 6060 6061 6062 6063 6064 6065 6066 6067 6068 6069\n",
      "  6070 6071 6072 6073 6074 6075 6076 6077 6078 6079 6080 6081 6082 6083\n",
      "  6084 6085 6086 6087 6088 6089 6090 6091 6092 6093 6094 6095 6096 6097\n",
      "  6098 6099 6100 6101 6102 6103 6104 6105 6106 6107 6108 6109 6110 6111\n",
      "  6112 6113 6114 6115 6116 6117 6118 6119 6120 6121 6122 6123 6124 6125\n",
      "  6126 6127 6128 6129 6130 6131 6132 6133 6134 6135 6136 6137 6138 6139\n",
      "  6140 6141 6142 6143 6144 6145 6146 6147 6148 6149 6150 6151 6152 6153\n",
      "  6154 6155 6156 6157 6158 6159 6160 6161 6162 6163 6164 6165 6166 6167\n",
      "  6168 6169 6170 6171 6172 6173 6174 6175 6176 6177 6178 6179 6180 6181\n",
      "  6182 6183 6184 6185 6186 6187 6188 6189 6190 6191 6192 6193 6194 6195\n",
      "  6196 6197 6198 6199 6200 6201 6202 6203 6204 6205 6206 6207 6208 6209\n",
      "  6210 6211 6212 6213 6214 6215 6216 6217 6218 6219 6220 6221 6222 6223\n",
      "  6224 6225 6226 6227 6228 6229 6230 6231 6232 6233 6234 6235 6236 6237\n",
      "  6238 6239 6240 6241 6242 6243 6244 6245 6246 6247 6248 6249 6250 6251\n",
      "  6252 6253 6254 6255 6256 6257 6258 6259 6260 6261 6262 6263 6264 6265\n",
      "  6266 6267 6268 6269 6270 6271 6272 6273 6274 6275 6276 6277 6278 6279\n",
      "  6280 6281 6282 6283 6284 6285 6286 6287 6288 6289 6290 6291 6292 6293\n",
      "  6294 6295 6296 6297 6298 6299 6300 6301 6302 6303 6304 6305 6306 6307\n",
      "  6308 6309 6310 6311 6312 6313 6314 6315 6316 6317 6318 6319 6320 6321\n",
      "  6322 6323 6324 6325 6326 6327 6328 6329 6330 6331 6332 6333 6334 6335\n",
      "  6336 6337 6338 6339 6340 6341 6342 6343 6344 6345 6346 6347 6348 6349\n",
      "  6350 6351 6352 6353 6354 6355 6356 6357 6358 6359 6360 6361 6362 6363\n",
      "  6364 6365 6366 6367 6368 6369 6370 6371 6372 6373 6374 6375 6376 6377\n",
      "  6378 6379 6380 6381 6382 6383 6384 6385 6386 6387 6388 6389 6390 6391\n",
      "  6392 6393 6394 6395 6396 6397 6398 6399 6400 6401 6402 6403 6404 6405\n",
      "  6406 6407 6408 6409 6410 6411 6412 6413 6414 6415 6416 6417 6418 6419\n",
      "  6420 6421 6422 6423 6424 6425 6426 6427 6428 6429 6430 6431 6432 6433\n",
      "  6434 6435 6436 6437 6438 6439 6440 6441 6442 6443 6444 6445 6446 6447\n",
      "  6448 6449 6450 6451 6452 6453 6454 6455 6456 6457 6458 6459 6460 6461\n",
      "  6462 6463 6464 6465 6466 6467 6468 6469 6470 6471 6472 6473 6474 6475\n",
      "  6476 6477 6478 6479 6480 6481 6482 6483 6484 6485 6486 6487 6488 6489\n",
      "  6490 6491 6492 6493 6494 6495 6496 6497 6498 6499 6500 6501 6502 6503\n",
      "  6504 6505 6506 6507 6508 6509 6510 6511 6512 6513 6514 6515 6516 6517\n",
      "  6518 6519 6520 6521 6522 6523 6524 6525 6526 6527 6528 6529 6530 6531\n",
      "  6532 6533 6534 6535 6536 6537 6538 6539 6540 6541 6542 6543 6544 6545\n",
      "  6546 6547 6548 6549 6550 6551 6552 6553 6554 6555 6556 6557 6558 6559\n",
      "  6560 6561 6562 6563 6564 6565 6566 6567 6568 6569 6570 6571 6572 6573\n",
      "  6574 6575 6576 6577 6578 6579 6580 6581 6582 6583 6584 6585 6586 6587\n",
      "  6588 6589 6590 6591 6592 6593 6594 6595 6596 6597 6598 6599 6600 6601\n",
      "  6602 6603 6604 6605 6606 6607 6608 6609 6610 6611 6612 6613 6614 6615\n",
      "  6616 6617 6618 6619 6620 6621 6622 6623 6624 6625 6626 6627 6628 6629\n",
      "  6630 6631 6632 6633 6634 6635 6636 6637 6638 6639 6640 6641 6642 6643\n",
      "  6644 6645 6646 6647 6648 6649 6650 6651 6652 6653 6654 6655 6656 6657\n",
      "  6658 6659 6660 6661 6662 6663 6664 6665 6666 6667 6668 6669 6670 6671\n",
      "  6672 6673 6674 6675 6676 6677 6678 6679 6680 6681 6682 6683 6684 6685\n",
      "  6686 6687 6688 6689 6690 6691 6692 6693 6694 6695 6696 6697 6698 6699\n",
      "  6700 6701 6702 6703 6704 6705 6706 6707 6708 6709 6710 6711 6712 6713\n",
      "  6714 6715 6716 6717 6718 6719 6720 6721 6722 6723 6724 6725 6726 6727\n",
      "  6728 6729 6730 6731 6732 6733 6734 6735 6736 6737 6738 6739 6740 6741\n",
      "  6742 6743 6744 6745 6746 6747 6748 6749 6750 6751 6752 6753 6754 6755\n",
      "  6756 6757 6758 6759 6760 6761 6762 6763 6764 6765 6766 6767 6768 6769\n",
      "  6770 6771 6772 6773 6774 6775 6776 6777 6778 6779 6780 6781 6782 6783\n",
      "  6784 6785 6786 6787 6788 6789 6790 6791 6792 6793 6794 6795 6796 6797\n",
      "  6798 6799 6800 6801 6802 6803 6804 6805 6806 6807 6808 6809 6810 6811\n",
      "  6812 6813 6814 6815 6816 6817 6818 6819 6820 6821 6822 6823 6824 6825\n",
      "  6826 6827 6828 6829 6830 6831 6832 6833 6834 6835 6836 6837 6838 6839\n",
      "  6840 6841 6842 6843 6844 6845 6846 6847 6848 6849 6850 6851 6852 6853\n",
      "  6854 6855 6856 6857 6858 6859 6860 6861 6862 6863 6864 6865 6866 6867\n",
      "  6868 6869 6870 6871 6872 6873 6874 6875 6876 6877 6878 6879 6880 6881\n",
      "  6882 6883 6884 6885 6886 6887 6888 6889 6890 6891 6892 6893 6894 6895\n",
      "  6896 6897 6898 6899 6900 6901 6902 6903 6904 6905 6906 6907 6908 6909\n",
      "  6910 6911 6912 6913 6914 6915 6916 6917 6918 6919 6920 6921 6922 6923\n",
      "  6924 6925 6926 6927 6928 6929 6930 6931 6932 6933 6934 6935 6936 6937\n",
      "  6938 6939 6940 6941 6942 6943 6944 6945 6946 6947 6948 6949 6950 6951\n",
      "  6952 6953 6954 6955 6956 6957 6958 6959 6960 6961 6962 6963 6964 6965\n",
      "  6966 6967 6968 6969 6970 6971 6972 6973 6974 6975 6976 6977 6978 6979\n",
      "  6980 6981 6982 6983 6984 6985 6986 6987 6988 6989 6990 6991 6992 6993\n",
      "  6994 6995 6996 6997 6998 6999]\n",
      " [7000 7001 7002 7003 7004 7005 7006 7007 7008 7009 7010 7011 7012 7013\n",
      "  7014 7015 7016 7017 7018 7019 7020 7021 7022 7023 7024 7025 7026 7027\n",
      "  7028 7029 7030 7031 7032 7033 7034 7035 7036 7037 7038 7039 7040 7041\n",
      "  7042 7043 7044 7045 7046 7047 7048 7049 7050 7051 7052 7053 7054 7055\n",
      "  7056 7057 7058 7059 7060 7061 7062 7063 7064 7065 7066 7067 7068 7069\n",
      "  7070 7071 7072 7073 7074 7075 7076 7077 7078 7079 7080 7081 7082 7083\n",
      "  7084 7085 7086 7087 7088 7089 7090 7091 7092 7093 7094 7095 7096 7097\n",
      "  7098 7099 7100 7101 7102 7103 7104 7105 7106 7107 7108 7109 7110 7111\n",
      "  7112 7113 7114 7115 7116 7117 7118 7119 7120 7121 7122 7123 7124 7125\n",
      "  7126 7127 7128 7129 7130 7131 7132 7133 7134 7135 7136 7137 7138 7139\n",
      "  7140 7141 7142 7143 7144 7145 7146 7147 7148 7149 7150 7151 7152 7153\n",
      "  7154 7155 7156 7157 7158 7159 7160 7161 7162 7163 7164 7165 7166 7167\n",
      "  7168 7169 7170 7171 7172 7173 7174 7175 7176 7177 7178 7179 7180 7181\n",
      "  7182 7183 7184 7185 7186 7187 7188 7189 7190 7191 7192 7193 7194 7195\n",
      "  7196 7197 7198 7199 7200 7201 7202 7203 7204 7205 7206 7207 7208 7209\n",
      "  7210 7211 7212 7213 7214 7215 7216 7217 7218 7219 7220 7221 7222 7223\n",
      "  7224 7225 7226 7227 7228 7229 7230 7231 7232 7233 7234 7235 7236 7237\n",
      "  7238 7239 7240 7241 7242 7243 7244 7245 7246 7247 7248 7249 7250 7251\n",
      "  7252 7253 7254 7255 7256 7257 7258 7259 7260 7261 7262 7263 7264 7265\n",
      "  7266 7267 7268 7269 7270 7271 7272 7273 7274 7275 7276 7277 7278 7279\n",
      "  7280 7281 7282 7283 7284 7285 7286 7287 7288 7289 7290 7291 7292 7293\n",
      "  7294 7295 7296 7297 7298 7299 7300 7301 7302 7303 7304 7305 7306 7307\n",
      "  7308 7309 7310 7311 7312 7313 7314 7315 7316 7317 7318 7319 7320 7321\n",
      "  7322 7323 7324 7325 7326 7327 7328 7329 7330 7331 7332 7333 7334 7335\n",
      "  7336 7337 7338 7339 7340 7341 7342 7343 7344 7345 7346 7347 7348 7349\n",
      "  7350 7351 7352 7353 7354 7355 7356 7357 7358 7359 7360 7361 7362 7363\n",
      "  7364 7365 7366 7367 7368 7369 7370 7371 7372 7373 7374 7375 7376 7377\n",
      "  7378 7379 7380 7381 7382 7383 7384 7385 7386 7387 7388 7389 7390 7391\n",
      "  7392 7393 7394 7395 7396 7397 7398 7399 7400 7401 7402 7403 7404 7405\n",
      "  7406 7407 7408 7409 7410 7411 7412 7413 7414 7415 7416 7417 7418 7419\n",
      "  7420 7421 7422 7423 7424 7425 7426 7427 7428 7429 7430 7431 7432 7433\n",
      "  7434 7435 7436 7437 7438 7439 7440 7441 7442 7443 7444 7445 7446 7447\n",
      "  7448 7449 7450 7451 7452 7453 7454 7455 7456 7457 7458 7459 7460 7461\n",
      "  7462 7463 7464 7465 7466 7467 7468 7469 7470 7471 7472 7473 7474 7475\n",
      "  7476 7477 7478 7479 7480 7481 7482 7483 7484 7485 7486 7487 7488 7489\n",
      "  7490 7491 7492 7493 7494 7495 7496 7497 7498 7499 7500 7501 7502 7503\n",
      "  7504 7505 7506 7507 7508 7509 7510 7511 7512 7513 7514 7515 7516 7517\n",
      "  7518 7519 7520 7521 7522 7523 7524 7525 7526 7527 7528 7529 7530 7531\n",
      "  7532 7533 7534 7535 7536 7537 7538 7539 7540 7541 7542 7543 7544 7545\n",
      "  7546 7547 7548 7549 7550 7551 7552 7553 7554 7555 7556 7557 7558 7559\n",
      "  7560 7561 7562 7563 7564 7565 7566 7567 7568 7569 7570 7571 7572 7573\n",
      "  7574 7575 7576 7577 7578 7579 7580 7581 7582 7583 7584 7585 7586 7587\n",
      "  7588 7589 7590 7591 7592 7593 7594 7595 7596 7597 7598 7599 7600 7601\n",
      "  7602 7603 7604 7605 7606 7607 7608 7609 7610 7611 7612 7613 7614 7615\n",
      "  7616 7617 7618 7619 7620 7621 7622 7623 7624 7625 7626 7627 7628 7629\n",
      "  7630 7631 7632 7633 7634 7635 7636 7637 7638 7639 7640 7641 7642 7643\n",
      "  7644 7645 7646 7647 7648 7649 7650 7651 7652 7653 7654 7655 7656 7657\n",
      "  7658 7659 7660 7661 7662 7663 7664 7665 7666 7667 7668 7669 7670 7671\n",
      "  7672 7673 7674 7675 7676 7677 7678 7679 7680 7681 7682 7683 7684 7685\n",
      "  7686 7687 7688 7689 7690 7691 7692 7693 7694 7695 7696 7697 7698 7699\n",
      "  7700 7701 7702 7703 7704 7705 7706 7707 7708 7709 7710 7711 7712 7713\n",
      "  7714 7715 7716 7717 7718 7719 7720 7721 7722 7723 7724 7725 7726 7727\n",
      "  7728 7729 7730 7731 7732 7733 7734 7735 7736 7737 7738 7739 7740 7741\n",
      "  7742 7743 7744 7745 7746 7747 7748 7749 7750 7751 7752 7753 7754 7755\n",
      "  7756 7757 7758 7759 7760 7761 7762 7763 7764 7765 7766 7767 7768 7769\n",
      "  7770 7771 7772 7773 7774 7775 7776 7777 7778 7779 7780 7781 7782 7783\n",
      "  7784 7785 7786 7787 7788 7789 7790 7791 7792 7793 7794 7795 7796 7797\n",
      "  7798 7799 7800 7801 7802 7803 7804 7805 7806 7807 7808 7809 7810 7811\n",
      "  7812 7813 7814 7815 7816 7817 7818 7819 7820 7821 7822 7823 7824 7825\n",
      "  7826 7827 7828 7829 7830 7831 7832 7833 7834 7835 7836 7837 7838 7839\n",
      "  7840 7841 7842 7843 7844 7845 7846 7847 7848 7849 7850 7851 7852 7853\n",
      "  7854 7855 7856 7857 7858 7859 7860 7861 7862 7863 7864 7865 7866 7867\n",
      "  7868 7869 7870 7871 7872 7873 7874 7875 7876 7877 7878 7879 7880 7881\n",
      "  7882 7883 7884 7885 7886 7887 7888 7889 7890 7891 7892 7893 7894 7895\n",
      "  7896 7897 7898 7899 7900 7901 7902 7903 7904 7905 7906 7907 7908 7909\n",
      "  7910 7911 7912 7913 7914 7915 7916 7917 7918 7919 7920 7921 7922 7923\n",
      "  7924 7925 7926 7927 7928 7929 7930 7931 7932 7933 7934 7935 7936 7937\n",
      "  7938 7939 7940 7941 7942 7943 7944 7945 7946 7947 7948 7949 7950 7951\n",
      "  7952 7953 7954 7955 7956 7957 7958 7959 7960 7961 7962 7963 7964 7965\n",
      "  7966 7967 7968 7969 7970 7971 7972 7973 7974 7975 7976 7977 7978 7979\n",
      "  7980 7981 7982 7983 7984 7985 7986 7987 7988 7989 7990 7991 7992 7993\n",
      "  7994 7995 7996 7997 7998 7999]\n",
      " [8000 8001 8002 8003 8004 8005 8006 8007 8008 8009 8010 8011 8012 8013\n",
      "  8014 8015 8016 8017 8018 8019 8020 8021 8022 8023 8024 8025 8026 8027\n",
      "  8028 8029 8030 8031 8032 8033 8034 8035 8036 8037 8038 8039 8040 8041\n",
      "  8042 8043 8044 8045 8046 8047 8048 8049 8050 8051 8052 8053 8054 8055\n",
      "  8056 8057 8058 8059 8060 8061 8062 8063 8064 8065 8066 8067 8068 8069\n",
      "  8070 8071 8072 8073 8074 8075 8076 8077 8078 8079 8080 8081 8082 8083\n",
      "  8084 8085 8086 8087 8088 8089 8090 8091 8092 8093 8094 8095 8096 8097\n",
      "  8098 8099 8100 8101 8102 8103 8104 8105 8106 8107 8108 8109 8110 8111\n",
      "  8112 8113 8114 8115 8116 8117 8118 8119 8120 8121 8122 8123 8124 8125\n",
      "  8126 8127 8128 8129 8130 8131 8132 8133 8134 8135 8136 8137 8138 8139\n",
      "  8140 8141 8142 8143 8144 8145 8146 8147 8148 8149 8150 8151 8152 8153\n",
      "  8154 8155 8156 8157 8158 8159 8160 8161 8162 8163 8164 8165 8166 8167\n",
      "  8168 8169 8170 8171 8172 8173 8174 8175 8176 8177 8178 8179 8180 8181\n",
      "  8182 8183 8184 8185 8186 8187 8188 8189 8190 8191 8192 8193 8194 8195\n",
      "  8196 8197 8198 8199 8200 8201 8202 8203 8204 8205 8206 8207 8208 8209\n",
      "  8210 8211 8212 8213 8214 8215 8216 8217 8218 8219 8220 8221 8222 8223\n",
      "  8224 8225 8226 8227 8228 8229 8230 8231 8232 8233 8234 8235 8236 8237\n",
      "  8238 8239 8240 8241 8242 8243 8244 8245 8246 8247 8248 8249 8250 8251\n",
      "  8252 8253 8254 8255 8256 8257 8258 8259 8260 8261 8262 8263 8264 8265\n",
      "  8266 8267 8268 8269 8270 8271 8272 8273 8274 8275 8276 8277 8278 8279\n",
      "  8280 8281 8282 8283 8284 8285 8286 8287 8288 8289 8290 8291 8292 8293\n",
      "  8294 8295 8296 8297 8298 8299 8300 8301 8302 8303 8304 8305 8306 8307\n",
      "  8308 8309 8310 8311 8312 8313 8314 8315 8316 8317 8318 8319 8320 8321\n",
      "  8322 8323 8324 8325 8326 8327 8328 8329 8330 8331 8332 8333 8334 8335\n",
      "  8336 8337 8338 8339 8340 8341 8342 8343 8344 8345 8346 8347 8348 8349\n",
      "  8350 8351 8352 8353 8354 8355 8356 8357 8358 8359 8360 8361 8362 8363\n",
      "  8364 8365 8366 8367 8368 8369 8370 8371 8372 8373 8374 8375 8376 8377\n",
      "  8378 8379 8380 8381 8382 8383 8384 8385 8386 8387 8388 8389 8390 8391\n",
      "  8392 8393 8394 8395 8396 8397 8398 8399 8400 8401 8402 8403 8404 8405\n",
      "  8406 8407 8408 8409 8410 8411 8412 8413 8414 8415 8416 8417 8418 8419\n",
      "  8420 8421 8422 8423 8424 8425 8426 8427 8428 8429 8430 8431 8432 8433\n",
      "  8434 8435 8436 8437 8438 8439 8440 8441 8442 8443 8444 8445 8446 8447\n",
      "  8448 8449 8450 8451 8452 8453 8454 8455 8456 8457 8458 8459 8460 8461\n",
      "  8462 8463 8464 8465 8466 8467 8468 8469 8470 8471 8472 8473 8474 8475\n",
      "  8476 8477 8478 8479 8480 8481 8482 8483 8484 8485 8486 8487 8488 8489\n",
      "  8490 8491 8492 8493 8494 8495 8496 8497 8498 8499 8500 8501 8502 8503\n",
      "  8504 8505 8506 8507 8508 8509 8510 8511 8512 8513 8514 8515 8516 8517\n",
      "  8518 8519 8520 8521 8522 8523 8524 8525 8526 8527 8528 8529 8530 8531\n",
      "  8532 8533 8534 8535 8536 8537 8538 8539 8540 8541 8542 8543 8544 8545\n",
      "  8546 8547 8548 8549 8550 8551 8552 8553 8554 8555 8556 8557 8558 8559\n",
      "  8560 8561 8562 8563 8564 8565 8566 8567 8568 8569 8570 8571 8572 8573\n",
      "  8574 8575 8576 8577 8578 8579 8580 8581 8582 8583 8584 8585 8586 8587\n",
      "  8588 8589 8590 8591 8592 8593 8594 8595 8596 8597 8598 8599 8600 8601\n",
      "  8602 8603 8604 8605 8606 8607 8608 8609 8610 8611 8612 8613 8614 8615\n",
      "  8616 8617 8618 8619 8620 8621 8622 8623 8624 8625 8626 8627 8628 8629\n",
      "  8630 8631 8632 8633 8634 8635 8636 8637 8638 8639 8640 8641 8642 8643\n",
      "  8644 8645 8646 8647 8648 8649 8650 8651 8652 8653 8654 8655 8656 8657\n",
      "  8658 8659 8660 8661 8662 8663 8664 8665 8666 8667 8668 8669 8670 8671\n",
      "  8672 8673 8674 8675 8676 8677 8678 8679 8680 8681 8682 8683 8684 8685\n",
      "  8686 8687 8688 8689 8690 8691 8692 8693 8694 8695 8696 8697 8698 8699\n",
      "  8700 8701 8702 8703 8704 8705 8706 8707 8708 8709 8710 8711 8712 8713\n",
      "  8714 8715 8716 8717 8718 8719 8720 8721 8722 8723 8724 8725 8726 8727\n",
      "  8728 8729 8730 8731 8732 8733 8734 8735 8736 8737 8738 8739 8740 8741\n",
      "  8742 8743 8744 8745 8746 8747 8748 8749 8750 8751 8752 8753 8754 8755\n",
      "  8756 8757 8758 8759 8760 8761 8762 8763 8764 8765 8766 8767 8768 8769\n",
      "  8770 8771 8772 8773 8774 8775 8776 8777 8778 8779 8780 8781 8782 8783\n",
      "  8784 8785 8786 8787 8788 8789 8790 8791 8792 8793 8794 8795 8796 8797\n",
      "  8798 8799 8800 8801 8802 8803 8804 8805 8806 8807 8808 8809 8810 8811\n",
      "  8812 8813 8814 8815 8816 8817 8818 8819 8820 8821 8822 8823 8824 8825\n",
      "  8826 8827 8828 8829 8830 8831 8832 8833 8834 8835 8836 8837 8838 8839\n",
      "  8840 8841 8842 8843 8844 8845 8846 8847 8848 8849 8850 8851 8852 8853\n",
      "  8854 8855 8856 8857 8858 8859 8860 8861 8862 8863 8864 8865 8866 8867\n",
      "  8868 8869 8870 8871 8872 8873 8874 8875 8876 8877 8878 8879 8880 8881\n",
      "  8882 8883 8884 8885 8886 8887 8888 8889 8890 8891 8892 8893 8894 8895\n",
      "  8896 8897 8898 8899 8900 8901 8902 8903 8904 8905 8906 8907 8908 8909\n",
      "  8910 8911 8912 8913 8914 8915 8916 8917 8918 8919 8920 8921 8922 8923\n",
      "  8924 8925 8926 8927 8928 8929 8930 8931 8932 8933 8934 8935 8936 8937\n",
      "  8938 8939 8940 8941 8942 8943 8944 8945 8946 8947 8948 8949 8950 8951\n",
      "  8952 8953 8954 8955 8956 8957 8958 8959 8960 8961 8962 8963 8964 8965\n",
      "  8966 8967 8968 8969 8970 8971 8972 8973 8974 8975 8976 8977 8978 8979\n",
      "  8980 8981 8982 8983 8984 8985 8986 8987 8988 8989 8990 8991 8992 8993\n",
      "  8994 8995 8996 8997 8998 8999]\n",
      " [9000 9001 9002 9003 9004 9005 9006 9007 9008 9009 9010 9011 9012 9013\n",
      "  9014 9015 9016 9017 9018 9019 9020 9021 9022 9023 9024 9025 9026 9027\n",
      "  9028 9029 9030 9031 9032 9033 9034 9035 9036 9037 9038 9039 9040 9041\n",
      "  9042 9043 9044 9045 9046 9047 9048 9049 9050 9051 9052 9053 9054 9055\n",
      "  9056 9057 9058 9059 9060 9061 9062 9063 9064 9065 9066 9067 9068 9069\n",
      "  9070 9071 9072 9073 9074 9075 9076 9077 9078 9079 9080 9081 9082 9083\n",
      "  9084 9085 9086 9087 9088 9089 9090 9091 9092 9093 9094 9095 9096 9097\n",
      "  9098 9099 9100 9101 9102 9103 9104 9105 9106 9107 9108 9109 9110 9111\n",
      "  9112 9113 9114 9115 9116 9117 9118 9119 9120 9121 9122 9123 9124 9125\n",
      "  9126 9127 9128 9129 9130 9131 9132 9133 9134 9135 9136 9137 9138 9139\n",
      "  9140 9141 9142 9143 9144 9145 9146 9147 9148 9149 9150 9151 9152 9153\n",
      "  9154 9155 9156 9157 9158 9159 9160 9161 9162 9163 9164 9165 9166 9167\n",
      "  9168 9169 9170 9171 9172 9173 9174 9175 9176 9177 9178 9179 9180 9181\n",
      "  9182 9183 9184 9185 9186 9187 9188 9189 9190 9191 9192 9193 9194 9195\n",
      "  9196 9197 9198 9199 9200 9201 9202 9203 9204 9205 9206 9207 9208 9209\n",
      "  9210 9211 9212 9213 9214 9215 9216 9217 9218 9219 9220 9221 9222 9223\n",
      "  9224 9225 9226 9227 9228 9229 9230 9231 9232 9233 9234 9235 9236 9237\n",
      "  9238 9239 9240 9241 9242 9243 9244 9245 9246 9247 9248 9249 9250 9251\n",
      "  9252 9253 9254 9255 9256 9257 9258 9259 9260 9261 9262 9263 9264 9265\n",
      "  9266 9267 9268 9269 9270 9271 9272 9273 9274 9275 9276 9277 9278 9279\n",
      "  9280 9281 9282 9283 9284 9285 9286 9287 9288 9289 9290 9291 9292 9293\n",
      "  9294 9295 9296 9297 9298 9299 9300 9301 9302 9303 9304 9305 9306 9307\n",
      "  9308 9309 9310 9311 9312 9313 9314 9315 9316 9317 9318 9319 9320 9321\n",
      "  9322 9323 9324 9325 9326 9327 9328 9329 9330 9331 9332 9333 9334 9335\n",
      "  9336 9337 9338 9339 9340 9341 9342 9343 9344 9345 9346 9347 9348 9349\n",
      "  9350 9351 9352 9353 9354 9355 9356 9357 9358 9359 9360 9361 9362 9363\n",
      "  9364 9365 9366 9367 9368 9369 9370 9371 9372 9373 9374 9375 9376 9377\n",
      "  9378 9379 9380 9381 9382 9383 9384 9385 9386 9387 9388 9389 9390 9391\n",
      "  9392 9393 9394 9395 9396 9397 9398 9399 9400 9401 9402 9403 9404 9405\n",
      "  9406 9407 9408 9409 9410 9411 9412 9413 9414 9415 9416 9417 9418 9419\n",
      "  9420 9421 9422 9423 9424 9425 9426 9427 9428 9429 9430 9431 9432 9433\n",
      "  9434 9435 9436 9437 9438 9439 9440 9441 9442 9443 9444 9445 9446 9447\n",
      "  9448 9449 9450 9451 9452 9453 9454 9455 9456 9457 9458 9459 9460 9461\n",
      "  9462 9463 9464 9465 9466 9467 9468 9469 9470 9471 9472 9473 9474 9475\n",
      "  9476 9477 9478 9479 9480 9481 9482 9483 9484 9485 9486 9487 9488 9489\n",
      "  9490 9491 9492 9493 9494 9495 9496 9497 9498 9499 9500 9501 9502 9503\n",
      "  9504 9505 9506 9507 9508 9509 9510 9511 9512 9513 9514 9515 9516 9517\n",
      "  9518 9519 9520 9521 9522 9523 9524 9525 9526 9527 9528 9529 9530 9531\n",
      "  9532 9533 9534 9535 9536 9537 9538 9539 9540 9541 9542 9543 9544 9545\n",
      "  9546 9547 9548 9549 9550 9551 9552 9553 9554 9555 9556 9557 9558 9559\n",
      "  9560 9561 9562 9563 9564 9565 9566 9567 9568 9569 9570 9571 9572 9573\n",
      "  9574 9575 9576 9577 9578 9579 9580 9581 9582 9583 9584 9585 9586 9587\n",
      "  9588 9589 9590 9591 9592 9593 9594 9595 9596 9597 9598 9599 9600 9601\n",
      "  9602 9603 9604 9605 9606 9607 9608 9609 9610 9611 9612 9613 9614 9615\n",
      "  9616 9617 9618 9619 9620 9621 9622 9623 9624 9625 9626 9627 9628 9629\n",
      "  9630 9631 9632 9633 9634 9635 9636 9637 9638 9639 9640 9641 9642 9643\n",
      "  9644 9645 9646 9647 9648 9649 9650 9651 9652 9653 9654 9655 9656 9657\n",
      "  9658 9659 9660 9661 9662 9663 9664 9665 9666 9667 9668 9669 9670 9671\n",
      "  9672 9673 9674 9675 9676 9677 9678 9679 9680 9681 9682 9683 9684 9685\n",
      "  9686 9687 9688 9689 9690 9691 9692 9693 9694 9695 9696 9697 9698 9699\n",
      "  9700 9701 9702 9703 9704 9705 9706 9707 9708 9709 9710 9711 9712 9713\n",
      "  9714 9715 9716 9717 9718 9719 9720 9721 9722 9723 9724 9725 9726 9727\n",
      "  9728 9729 9730 9731 9732 9733 9734 9735 9736 9737 9738 9739 9740 9741\n",
      "  9742 9743 9744 9745 9746 9747 9748 9749 9750 9751 9752 9753 9754 9755\n",
      "  9756 9757 9758 9759 9760 9761 9762 9763 9764 9765 9766 9767 9768 9769\n",
      "  9770 9771 9772 9773 9774 9775 9776 9777 9778 9779 9780 9781 9782 9783\n",
      "  9784 9785 9786 9787 9788 9789 9790 9791 9792 9793 9794 9795 9796 9797\n",
      "  9798 9799 9800 9801 9802 9803 9804 9805 9806 9807 9808 9809 9810 9811\n",
      "  9812 9813 9814 9815 9816 9817 9818 9819 9820 9821 9822 9823 9824 9825\n",
      "  9826 9827 9828 9829 9830 9831 9832 9833 9834 9835 9836 9837 9838 9839\n",
      "  9840 9841 9842 9843 9844 9845 9846 9847 9848 9849 9850 9851 9852 9853\n",
      "  9854 9855 9856 9857 9858 9859 9860 9861 9862 9863 9864 9865 9866 9867\n",
      "  9868 9869 9870 9871 9872 9873 9874 9875 9876 9877 9878 9879 9880 9881\n",
      "  9882 9883 9884 9885 9886 9887 9888 9889 9890 9891 9892 9893 9894 9895\n",
      "  9896 9897 9898 9899 9900 9901 9902 9903 9904 9905 9906 9907 9908 9909\n",
      "  9910 9911 9912 9913 9914 9915 9916 9917 9918 9919 9920 9921 9922 9923\n",
      "  9924 9925 9926 9927 9928 9929 9930 9931 9932 9933 9934 9935 9936 9937\n",
      "  9938 9939 9940 9941 9942 9943 9944 9945 9946 9947 9948 9949 9950 9951\n",
      "  9952 9953 9954 9955 9956 9957 9958 9959 9960 9961 9962 9963 9964 9965\n",
      "  9966 9967 9968 9969 9970 9971 9972 9973 9974 9975 9976 9977 9978 9979\n",
      "  9980 9981 9982 9983 9984 9985 9986 9987 9988 9989 9990 9991 9992 9993\n",
      "  9994 9995 9996 9997 9998 9999]]\n"
     ]
    }
   ],
   "source": [
    "print(np.arange(10000).reshape(10,1000))"
   ]
  },
  {
   "cell_type": "markdown",
   "id": "b7282844",
   "metadata": {},
   "source": [
    "## 2.6 기본 연산동작"
   ]
  },
  {
   "cell_type": "markdown",
   "id": "76ca7866",
   "metadata": {},
   "source": [
    "### 1) 배열의 요소별 연산"
   ]
  },
  {
   "cell_type": "code",
   "execution_count": 120,
   "id": "0d947b40",
   "metadata": {
    "ExecuteTime": {
     "end_time": "2021-07-29T08:39:07.884235Z",
     "start_time": "2021-07-29T08:39:07.876224Z"
    }
   },
   "outputs": [
    {
     "name": "stdout",
     "output_type": "stream",
     "text": [
      "[20 30 40 50]\n",
      "[0 1 2 3]\n"
     ]
    }
   ],
   "source": [
    "a = np.array([20,30,40,50])\n",
    "b = np.arange(4)\n",
    "print(a)\n",
    "print(b)"
   ]
  },
  {
   "cell_type": "code",
   "execution_count": 121,
   "id": "c0435ade",
   "metadata": {
    "ExecuteTime": {
     "end_time": "2021-07-29T08:39:17.355934Z",
     "start_time": "2021-07-29T08:39:17.346126Z"
    }
   },
   "outputs": [
    {
     "data": {
      "text/plain": [
       "array([20, 31, 42, 53])"
      ]
     },
     "execution_count": 121,
     "metadata": {},
     "output_type": "execute_result"
    }
   ],
   "source": [
    "a + b"
   ]
  },
  {
   "cell_type": "code",
   "execution_count": 122,
   "id": "9d197782",
   "metadata": {
    "ExecuteTime": {
     "end_time": "2021-07-29T08:39:27.938869Z",
     "start_time": "2021-07-29T08:39:27.930890Z"
    }
   },
   "outputs": [
    {
     "data": {
      "text/plain": [
       "array([20, 29, 38, 47])"
      ]
     },
     "execution_count": 122,
     "metadata": {},
     "output_type": "execute_result"
    }
   ],
   "source": [
    "a - b"
   ]
  },
  {
   "cell_type": "code",
   "execution_count": 123,
   "id": "6367b5db",
   "metadata": {
    "ExecuteTime": {
     "end_time": "2021-07-29T08:39:34.477982Z",
     "start_time": "2021-07-29T08:39:34.469987Z"
    }
   },
   "outputs": [
    {
     "data": {
      "text/plain": [
       "array([  0,  30,  80, 150])"
      ]
     },
     "execution_count": 123,
     "metadata": {},
     "output_type": "execute_result"
    }
   ],
   "source": [
    "a * b"
   ]
  },
  {
   "cell_type": "code",
   "execution_count": 124,
   "id": "53b181bb",
   "metadata": {
    "ExecuteTime": {
     "end_time": "2021-07-29T08:39:41.990520Z",
     "start_time": "2021-07-29T08:39:41.979551Z"
    }
   },
   "outputs": [
    {
     "data": {
      "text/plain": [
       "array([ True,  True, False, False])"
      ]
     },
     "execution_count": 124,
     "metadata": {},
     "output_type": "execute_result"
    }
   ],
   "source": [
    "a < 35 # 요소별 연산"
   ]
  },
  {
   "cell_type": "code",
   "execution_count": 125,
   "id": "9c14d668",
   "metadata": {
    "ExecuteTime": {
     "end_time": "2021-07-29T08:40:35.485297Z",
     "start_time": "2021-07-29T08:40:35.478372Z"
    }
   },
   "outputs": [
    {
     "data": {
      "text/plain": [
       "array([40, 50])"
      ]
     },
     "execution_count": 125,
     "metadata": {},
     "output_type": "execute_result"
    }
   ],
   "source": [
    "# a배열에서 35보다 큰 데이터만 추출\n",
    "a[a>35]"
   ]
  },
  {
   "cell_type": "markdown",
   "id": "2aa17268",
   "metadata": {},
   "source": [
    "### 2) 행렬의 곱(@, dot함수) cf. *(요소별 곱)"
   ]
  },
  {
   "cell_type": "code",
   "execution_count": 127,
   "id": "a7984854",
   "metadata": {
    "ExecuteTime": {
     "end_time": "2021-07-29T08:44:06.813062Z",
     "start_time": "2021-07-29T08:44:06.796106Z"
    }
   },
   "outputs": [],
   "source": [
    "A = np.array([[1,1],\n",
    "             [0,1]])"
   ]
  },
  {
   "cell_type": "code",
   "execution_count": 128,
   "id": "bc0fdff7",
   "metadata": {
    "ExecuteTime": {
     "end_time": "2021-07-29T08:44:28.838874Z",
     "start_time": "2021-07-29T08:44:28.829440Z"
    }
   },
   "outputs": [],
   "source": [
    "B = np.array([[2,0]\n",
    "             ,[3,4]])"
   ]
  },
  {
   "cell_type": "code",
   "execution_count": 129,
   "id": "89362345",
   "metadata": {
    "ExecuteTime": {
     "end_time": "2021-07-29T08:44:33.762755Z",
     "start_time": "2021-07-29T08:44:33.756771Z"
    }
   },
   "outputs": [
    {
     "data": {
      "text/plain": [
       "(array([[1, 1],\n",
       "        [0, 1]]),\n",
       " array([[2, 0],\n",
       "        [3, 4]]))"
      ]
     },
     "execution_count": 129,
     "metadata": {},
     "output_type": "execute_result"
    }
   ],
   "source": [
    "A,B"
   ]
  },
  {
   "cell_type": "code",
   "execution_count": 130,
   "id": "4da47336",
   "metadata": {
    "ExecuteTime": {
     "end_time": "2021-07-29T08:46:05.189549Z",
     "start_time": "2021-07-29T08:46:05.176587Z"
    }
   },
   "outputs": [
    {
     "name": "stdout",
     "output_type": "stream",
     "text": [
      "요소별 곱 A*B = \n",
      "[[2 0]\n",
      " [0 4]]\n",
      "행렬 곱 A@B = \n",
      "[[5 4]\n",
      " [3 4]]\n",
      "행렬 곱 A.dot(B) =\n",
      "[[5 4]\n",
      " [3 4]]\n"
     ]
    }
   ],
   "source": [
    "print(\"요소별 곱 A*B = \",A*B, sep='\\n')\n",
    "print('행렬 곱 A@B = ',A@B, sep='\\n')\n",
    "print('행렬 곱 A.dot(B) =',A.dot(B),sep='\\n')"
   ]
  },
  {
   "cell_type": "markdown",
   "id": "bfc9219f",
   "metadata": {},
   "source": [
    "### 3) 복합 대입 연산자 사용(+=,-=,*=,....)"
   ]
  },
  {
   "cell_type": "code",
   "execution_count": 131,
   "id": "130abd48",
   "metadata": {
    "ExecuteTime": {
     "end_time": "2021-07-29T08:48:07.701701Z",
     "start_time": "2021-07-29T08:48:07.685917Z"
    }
   },
   "outputs": [
    {
     "data": {
      "text/plain": [
       "array([[1, 1, 1],\n",
       "       [1, 1, 1]])"
      ]
     },
     "execution_count": 131,
     "metadata": {},
     "output_type": "execute_result"
    }
   ],
   "source": [
    "a = np.ones((2,3),dtype=int) #2차원 2행2열 배열(dtype=int32)\n",
    "a"
   ]
  },
  {
   "cell_type": "code",
   "execution_count": 133,
   "id": "cb22cfa5",
   "metadata": {
    "ExecuteTime": {
     "end_time": "2021-07-29T08:49:13.136542Z",
     "start_time": "2021-07-29T08:49:13.117561Z"
    }
   },
   "outputs": [
    {
     "data": {
      "text/plain": [
       "array([[0.42635131, 0.89338916, 0.94416002],\n",
       "       [0.50183668, 0.62395295, 0.1156184 ]])"
      ]
     },
     "execution_count": 133,
     "metadata": {},
     "output_type": "execute_result"
    }
   ],
   "source": [
    "b = np.random.random((2,3)) #2차원 2행 3열짜리 배열 (dtype = float64)\n",
    "b"
   ]
  },
  {
   "cell_type": "code",
   "execution_count": 134,
   "id": "ec67fe53",
   "metadata": {
    "ExecuteTime": {
     "end_time": "2021-07-29T08:49:21.661748Z",
     "start_time": "2021-07-29T08:49:21.652756Z"
    }
   },
   "outputs": [
    {
     "data": {
      "text/plain": [
       "array([[4, 4, 4],\n",
       "       [4, 4, 4]])"
      ]
     },
     "execution_count": 134,
     "metadata": {},
     "output_type": "execute_result"
    }
   ],
   "source": [
    "a +=3 # a = a+3\n",
    "a"
   ]
  },
  {
   "cell_type": "code",
   "execution_count": 135,
   "id": "3c73e8f5",
   "metadata": {
    "ExecuteTime": {
     "end_time": "2021-07-29T08:50:21.059069Z",
     "start_time": "2021-07-29T08:50:21.055049Z"
    }
   },
   "outputs": [
    {
     "data": {
      "text/plain": [
       "array([[4.42635131, 4.89338916, 4.94416002],\n",
       "       [4.50183668, 4.62395295, 4.1156184 ]])"
      ]
     },
     "execution_count": 135,
     "metadata": {},
     "output_type": "execute_result"
    }
   ],
   "source": [
    "b+=a # b = b+a\n",
    "b"
   ]
  },
  {
   "cell_type": "code",
   "execution_count": 136,
   "id": "63a8e790",
   "metadata": {
    "ExecuteTime": {
     "end_time": "2021-07-29T08:51:52.007037Z",
     "start_time": "2021-07-29T08:51:51.983520Z"
    }
   },
   "outputs": [
    {
     "ename": "UFuncTypeError",
     "evalue": "Cannot cast ufunc 'add' output from dtype('float64') to dtype('int32') with casting rule 'same_kind'",
     "output_type": "error",
     "traceback": [
      "\u001b[1;31m---------------------------------------------------------------------------\u001b[0m",
      "\u001b[1;31mUFuncTypeError\u001b[0m                            Traceback (most recent call last)",
      "\u001b[1;32m<ipython-input-136-ee877f8680be>\u001b[0m in \u001b[0;36m<module>\u001b[1;34m\u001b[0m\n\u001b[1;32m----> 1\u001b[1;33m \u001b[0ma\u001b[0m\u001b[1;33m+=\u001b[0m\u001b[0mb\u001b[0m \u001b[1;31m# a = a+b 에러 . b가 float64이여서 a+b가 float64이기 때문\u001b[0m\u001b[1;33m\u001b[0m\u001b[1;33m\u001b[0m\u001b[0m\n\u001b[0m",
      "\u001b[1;31mUFuncTypeError\u001b[0m: Cannot cast ufunc 'add' output from dtype('float64') to dtype('int32') with casting rule 'same_kind'"
     ]
    }
   ],
   "source": [
    "a+=b # a = a+b 에러 . b가 float64이여서 a+b가 float64이기 때문"
   ]
  },
  {
   "cell_type": "code",
   "execution_count": 137,
   "id": "282d3637",
   "metadata": {
    "ExecuteTime": {
     "end_time": "2021-07-29T08:53:59.339038Z",
     "start_time": "2021-07-29T08:53:59.332056Z"
    }
   },
   "outputs": [
    {
     "name": "stdout",
     "output_type": "stream",
     "text": [
      "[1 1 1]\n",
      "[0.         1.57079633 3.14159265]\n"
     ]
    }
   ],
   "source": [
    "a = np.ones(3, dtype=np.int16)\n",
    "b = np.linspace(0, np.pi, 3) # float64\n",
    "print(a)\n",
    "print(b)"
   ]
  },
  {
   "cell_type": "code",
   "execution_count": 138,
   "id": "2c34144b",
   "metadata": {
    "ExecuteTime": {
     "end_time": "2021-07-29T08:54:31.618451Z",
     "start_time": "2021-07-29T08:54:31.614462Z"
    }
   },
   "outputs": [
    {
     "name": "stdout",
     "output_type": "stream",
     "text": [
      "[1.         2.57079633 4.14159265]\n",
      "float64\n"
     ]
    }
   ],
   "source": [
    "c = a+b\n",
    "print(c)\n",
    "print(c.dtype)"
   ]
  },
  {
   "cell_type": "code",
   "execution_count": 139,
   "id": "3408d29c",
   "metadata": {
    "ExecuteTime": {
     "end_time": "2021-07-29T08:54:50.810832Z",
     "start_time": "2021-07-29T08:54:50.805769Z"
    }
   },
   "outputs": [
    {
     "data": {
      "text/plain": [
       "array([1.+0.j        , 1.+1.57079633j, 1.+3.14159265j])"
      ]
     },
     "execution_count": 139,
     "metadata": {},
     "output_type": "execute_result"
    }
   ],
   "source": [
    "c = a + b * 1j\n",
    "c"
   ]
  },
  {
   "cell_type": "code",
   "execution_count": 140,
   "id": "ef421e74",
   "metadata": {
    "ExecuteTime": {
     "end_time": "2021-07-29T08:54:59.789723Z",
     "start_time": "2021-07-29T08:54:59.780760Z"
    }
   },
   "outputs": [
    {
     "data": {
      "text/plain": [
       "dtype('complex128')"
      ]
     },
     "execution_count": 140,
     "metadata": {},
     "output_type": "execute_result"
    }
   ],
   "source": [
    "c.dtype"
   ]
  },
  {
   "cell_type": "markdown",
   "id": "3ac89a4e",
   "metadata": {},
   "source": [
    "### 4) 배열 요소별 집계 : 배열요소 전체의 sum, min, .... "
   ]
  },
  {
   "cell_type": "code",
   "execution_count": 141,
   "id": "3e066cbb",
   "metadata": {
    "ExecuteTime": {
     "end_time": "2021-07-29T08:57:34.865895Z",
     "start_time": "2021-07-29T08:57:34.854927Z"
    }
   },
   "outputs": [
    {
     "data": {
      "text/plain": [
       "array([[2, 2, 2, 4],\n",
       "       [4, 3, 2, 1]])"
      ]
     },
     "execution_count": 141,
     "metadata": {},
     "output_type": "execute_result"
    }
   ],
   "source": [
    "a = np.array([[2,2,2,4],[4,3,2,1]])\n",
    "a"
   ]
  },
  {
   "cell_type": "code",
   "execution_count": 144,
   "id": "4e8f213a",
   "metadata": {
    "ExecuteTime": {
     "end_time": "2021-07-29T08:59:10.278468Z",
     "start_time": "2021-07-29T08:59:10.263477Z"
    }
   },
   "outputs": [
    {
     "name": "stdout",
     "output_type": "stream",
     "text": [
      "전체 합 : 20\n",
      "전체 평균 : 2.5\n",
      "전체 최소값 : 1\n",
      "전체 최대값 : 4\n",
      "전체 분산 : 1.0\n",
      "전체 표준편차 : 1.0\n"
     ]
    }
   ],
   "source": [
    "print('전체 합 :',a.sum())\n",
    "print('전체 평균 :',a.mean())\n",
    "print('전체 최소값 :',a.min())\n",
    "print('전체 최대값 :',a.max())\n",
    "print('전체 분산 :',a.var())\n",
    "print('전체 표준편차 :',a.std())"
   ]
  },
  {
   "cell_type": "markdown",
   "id": "c6eb241b",
   "metadata": {},
   "source": [
    "### 5) 배열 축별 집계 : 행별 sum, min, ... 열별 sum, min,.... "
   ]
  },
  {
   "cell_type": "code",
   "execution_count": 145,
   "id": "d007effb",
   "metadata": {
    "ExecuteTime": {
     "end_time": "2021-07-29T09:00:27.975440Z",
     "start_time": "2021-07-29T09:00:27.956460Z"
    }
   },
   "outputs": [
    {
     "data": {
      "text/plain": [
       "array([[2, 2, 2, 4],\n",
       "       [4, 3, 2, 1]])"
      ]
     },
     "execution_count": 145,
     "metadata": {},
     "output_type": "execute_result"
    }
   ],
   "source": [
    "a = np.array([[2,2,2,4],[4,3,2,1]])\n",
    "a"
   ]
  },
  {
   "cell_type": "code",
   "execution_count": 146,
   "id": "1e9f93f3",
   "metadata": {
    "ExecuteTime": {
     "end_time": "2021-07-29T09:02:16.605290Z",
     "start_time": "2021-07-29T09:02:16.588336Z"
    }
   },
   "outputs": [
    {
     "name": "stdout",
     "output_type": "stream",
     "text": [
      "a배열의 행별 합(결과는 2열) :  [10 10]\n"
     ]
    }
   ],
   "source": [
    "print('a배열의 행별 합(결과는 2열) : ', a.sum(axis=1))"
   ]
  },
  {
   "cell_type": "code",
   "execution_count": 148,
   "id": "5e9e0cf8",
   "metadata": {
    "ExecuteTime": {
     "end_time": "2021-07-29T09:02:55.006529Z",
     "start_time": "2021-07-29T09:02:54.996562Z"
    }
   },
   "outputs": [
    {
     "name": "stdout",
     "output_type": "stream",
     "text": [
      "a배열의 열별 합(결과는 4열) :  [6 5 4 5]\n"
     ]
    }
   ],
   "source": [
    "print('a배열의 열별 합(결과는 4열) : ', a.sum(axis=0))"
   ]
  },
  {
   "cell_type": "code",
   "execution_count": 150,
   "id": "d2120d2c",
   "metadata": {
    "ExecuteTime": {
     "end_time": "2021-07-29T09:04:07.413542Z",
     "start_time": "2021-07-29T09:04:07.395460Z"
    }
   },
   "outputs": [
    {
     "name": "stdout",
     "output_type": "stream",
     "text": [
      "a배열의 행별 최소값 :  [2 1]\n",
      "a배열의 열별 최소값 :  [2 2 2 1]\n"
     ]
    }
   ],
   "source": [
    "print('a배열의 행별 최소값 : ',a.min(axis=1))\n",
    "print('a배열의 열별 최소값 : ',a.min(axis=0))"
   ]
  },
  {
   "cell_type": "code",
   "execution_count": 151,
   "id": "1ffb1d28",
   "metadata": {
    "ExecuteTime": {
     "end_time": "2021-07-29T09:04:43.770935Z",
     "start_time": "2021-07-29T09:04:43.761962Z"
    }
   },
   "outputs": [
    {
     "name": "stdout",
     "output_type": "stream",
     "text": [
      "a배열의 행별 최대값 :  [4 4]\n",
      "a배열의 열별 최대값 :  [4 3 2 4]\n"
     ]
    }
   ],
   "source": [
    "print('a배열의 행별 최대값 : ',a.max(axis=1))\n",
    "print('a배열의 열별 최대값 : ',a.max(axis=0))"
   ]
  },
  {
   "cell_type": "code",
   "execution_count": 152,
   "id": "8a287e02",
   "metadata": {
    "ExecuteTime": {
     "end_time": "2021-07-29T09:05:07.100109Z",
     "start_time": "2021-07-29T09:05:07.083154Z"
    }
   },
   "outputs": [
    {
     "name": "stdout",
     "output_type": "stream",
     "text": [
      "a배열의 행별 평균값 :  [2.5 2.5]\n",
      "a배열의 열별 평균값 :  [3.  2.5 2.  2.5]\n"
     ]
    }
   ],
   "source": [
    "print('a배열의 행별 평균값 : ',a.mean(axis=1))\n",
    "print('a배열의 열별 평균값 : ',a.mean(axis=0))"
   ]
  },
  {
   "cell_type": "code",
   "execution_count": 153,
   "id": "6605c664",
   "metadata": {
    "ExecuteTime": {
     "end_time": "2021-07-29T09:09:25.461657Z",
     "start_time": "2021-07-29T09:09:25.443706Z"
    }
   },
   "outputs": [
    {
     "name": "stdout",
     "output_type": "stream",
     "text": [
      "a배열의 행별 최대값이 있는 index :  [3 0]\n"
     ]
    }
   ],
   "source": [
    "'''\n",
    "    array([[2,2,2,4],[4,3,2,1]])\n",
    "'''\n",
    "print('a배열의 행별 최대값이 있는 index : ', a.argmax(axis=1))"
   ]
  },
  {
   "cell_type": "code",
   "execution_count": 154,
   "id": "a208be41",
   "metadata": {
    "ExecuteTime": {
     "end_time": "2021-07-29T09:10:54.101473Z",
     "start_time": "2021-07-29T09:10:54.091502Z"
    }
   },
   "outputs": [
    {
     "name": "stdout",
     "output_type": "stream",
     "text": [
      "[[2 2 2 4]\n",
      " [4 3 2 1]]\n",
      "[[ 2  4  6 10]\n",
      " [ 4  7  9 10]]\n"
     ]
    }
   ],
   "source": [
    "# 누적합\n",
    "print(a)\n",
    "print(a.cumsum(axis=1)) #행별로 누적합"
   ]
  },
  {
   "cell_type": "code",
   "execution_count": 155,
   "id": "c066b9e8",
   "metadata": {
    "ExecuteTime": {
     "end_time": "2021-07-29T09:11:39.993077Z",
     "start_time": "2021-07-29T09:11:39.977120Z"
    }
   },
   "outputs": [
    {
     "name": "stdout",
     "output_type": "stream",
     "text": [
      "[[2 2 2 4]\n",
      " [6 5 4 5]]\n"
     ]
    }
   ],
   "source": [
    "print(a.cumsum(axis=0)) #열별로 누적합"
   ]
  },
  {
   "cell_type": "code",
   "execution_count": 157,
   "id": "3e0248fe",
   "metadata": {
    "ExecuteTime": {
     "end_time": "2021-07-29T09:13:07.604563Z",
     "start_time": "2021-07-29T09:13:07.584584Z"
    }
   },
   "outputs": [
    {
     "data": {
      "text/plain": [
       "array([[[ 0,  1,  2,  3],\n",
       "        [ 4,  5,  6,  7],\n",
       "        [ 8,  9, 10, 11]],\n",
       "\n",
       "       [[12, 13, 14, 15],\n",
       "        [16, 17, 18, 19],\n",
       "        [20, 21, 22, 23]]])"
      ]
     },
     "execution_count": 157,
     "metadata": {},
     "output_type": "execute_result"
    }
   ],
   "source": [
    "b = np.arange(24).reshape(2,3,4) # 2면 3행 4열 짜리 3차원 배열\n",
    "b"
   ]
  },
  {
   "cell_type": "code",
   "execution_count": 158,
   "id": "b4913ae1",
   "metadata": {
    "ExecuteTime": {
     "end_time": "2021-07-29T09:14:04.544042Z",
     "start_time": "2021-07-29T09:14:04.531468Z"
    }
   },
   "outputs": [
    {
     "data": {
      "text/plain": [
       "(276, 0, 23, 11.5, 6.922186552431729, 47.916666666666664)"
      ]
     },
     "execution_count": 158,
     "metadata": {},
     "output_type": "execute_result"
    }
   ],
   "source": [
    "b.sum(), b.min(), b.max(), b.mean(), b.std(), b.var() #배열 전체에 대한 집계값"
   ]
  },
  {
   "cell_type": "code",
   "execution_count": 159,
   "id": "702f1b8f",
   "metadata": {
    "ExecuteTime": {
     "end_time": "2021-07-29T09:14:47.449078Z",
     "start_time": "2021-07-29T09:14:47.433097Z"
    }
   },
   "outputs": [
    {
     "data": {
      "text/plain": [
       "6.922186552431729"
      ]
     },
     "execution_count": 159,
     "metadata": {},
     "output_type": "execute_result"
    }
   ],
   "source": [
    "# 분산에 루트 씌우면 표준편차\n",
    "import math\n",
    "math.sqrt(b.var()) #math.sqrt()매개변수에 스칼라 값"
   ]
  },
  {
   "cell_type": "code",
   "execution_count": 161,
   "id": "c5fab7ba",
   "metadata": {
    "ExecuteTime": {
     "end_time": "2021-07-29T09:15:43.268347Z",
     "start_time": "2021-07-29T09:15:43.255348Z"
    }
   },
   "outputs": [
    {
     "data": {
      "text/plain": [
       "6.922186552431729"
      ]
     },
     "execution_count": 161,
     "metadata": {},
     "output_type": "execute_result"
    }
   ],
   "source": [
    "np.sqrt(b.var()) #math.sqrt() 매개변수에 스칼라값, 배열 가능"
   ]
  },
  {
   "cell_type": "code",
   "execution_count": 162,
   "id": "e334d2d0",
   "metadata": {
    "ExecuteTime": {
     "end_time": "2021-07-29T09:18:16.672235Z",
     "start_time": "2021-07-29T09:18:16.657766Z"
    }
   },
   "outputs": [
    {
     "data": {
      "text/plain": [
       "array([[12, 14, 16, 18],\n",
       "       [20, 22, 24, 26],\n",
       "       [28, 30, 32, 34]])"
      ]
     },
     "execution_count": 162,
     "metadata": {},
     "output_type": "execute_result"
    }
   ],
   "source": [
    "b.sum(axis=0) #면은 빼고, 같은 행 같은열끼리 sum\n",
    "# 12 0면의 0행 0열 +1면 0행 0열(같은 행렬끼리)"
   ]
  },
  {
   "cell_type": "code",
   "execution_count": 164,
   "id": "f66c80fd",
   "metadata": {
    "ExecuteTime": {
     "end_time": "2021-07-29T09:21:07.250551Z",
     "start_time": "2021-07-29T09:21:07.235559Z"
    }
   },
   "outputs": [
    {
     "name": "stdout",
     "output_type": "stream",
     "text": [
      "[[[ 0  1  2  3]\n",
      "  [ 4  5  6  7]\n",
      "  [ 8  9 10 11]]\n",
      "\n",
      " [[12 13 14 15]\n",
      "  [16 17 18 19]\n",
      "  [20 21 22 23]]]\n"
     ]
    },
    {
     "data": {
      "text/plain": [
       "array([[12, 15, 18, 21],\n",
       "       [48, 51, 54, 57]])"
      ]
     },
     "execution_count": 164,
     "metadata": {},
     "output_type": "execute_result"
    }
   ],
   "source": [
    "print(b)\n",
    "b.sum(axis=1) #행은 빼고 같은 면 같은 열끼리 합"
   ]
  },
  {
   "cell_type": "code",
   "execution_count": 165,
   "id": "6618c78d",
   "metadata": {
    "ExecuteTime": {
     "end_time": "2021-07-29T09:21:53.323045Z",
     "start_time": "2021-07-29T09:21:53.312069Z"
    }
   },
   "outputs": [
    {
     "name": "stdout",
     "output_type": "stream",
     "text": [
      "[[[ 0  1  2  3]\n",
      "  [ 4  5  6  7]\n",
      "  [ 8  9 10 11]]\n",
      "\n",
      " [[12 13 14 15]\n",
      "  [16 17 18 19]\n",
      "  [20 21 22 23]]]\n"
     ]
    },
    {
     "data": {
      "text/plain": [
       "array([[ 6, 22, 38],\n",
       "       [54, 70, 86]])"
      ]
     },
     "execution_count": 165,
     "metadata": {},
     "output_type": "execute_result"
    }
   ],
   "source": [
    "print(b)\n",
    "b.sum(axis=2) #열은 빼고 같은 면 같은 행끼리 합"
   ]
  },
  {
   "cell_type": "markdown",
   "id": "c4e9e2c1",
   "metadata": {},
   "source": [
    "## 2.7 그외 함수들(난수발생: 1차원 배열, 요소연산)"
   ]
  },
  {
   "cell_type": "code",
   "execution_count": 4,
   "id": "66f18d39",
   "metadata": {
    "ExecuteTime": {
     "end_time": "2021-07-30T00:43:36.140131Z",
     "start_time": "2021-07-30T00:43:36.128159Z"
    }
   },
   "outputs": [
    {
     "name": "stdout",
     "output_type": "stream",
     "text": [
      "a = [0.         1.         1.41421356]\n"
     ]
    }
   ],
   "source": [
    "import numpy as np\n",
    "a = np.arange(3)\n",
    "print('a =', np.sqrt(a))\n",
    "import math\n",
    "# math.sqrt(a) #매개변수에 스칼라만 가능\n"
   ]
  },
  {
   "cell_type": "code",
   "execution_count": 6,
   "id": "cf013e5c",
   "metadata": {
    "ExecuteTime": {
     "end_time": "2021-07-30T00:44:14.679082Z",
     "start_time": "2021-07-30T00:44:14.658508Z"
    }
   },
   "outputs": [
    {
     "data": {
      "text/plain": [
       "array([10, 12, 14])"
      ]
     },
     "execution_count": 6,
     "metadata": {},
     "output_type": "execute_result"
    }
   ],
   "source": [
    "b= np.array([10,11,12])\n",
    "a+b"
   ]
  },
  {
   "cell_type": "code",
   "execution_count": 7,
   "id": "e52d0a6d",
   "metadata": {
    "ExecuteTime": {
     "end_time": "2021-07-30T00:46:17.853345Z",
     "start_time": "2021-07-30T00:46:17.844336Z"
    }
   },
   "outputs": [
    {
     "data": {
      "text/plain": [
       "array([10, 12, 14])"
      ]
     },
     "execution_count": 7,
     "metadata": {},
     "output_type": "execute_result"
    }
   ],
   "source": [
    "np.add(a,b)"
   ]
  },
  {
   "cell_type": "code",
   "execution_count": 8,
   "id": "ee6873c5",
   "metadata": {
    "ExecuteTime": {
     "end_time": "2021-07-30T00:48:52.427208Z",
     "start_time": "2021-07-30T00:48:52.422222Z"
    }
   },
   "outputs": [
    {
     "data": {
      "text/plain": [
       "array([0.91141891, 0.33914711, 0.75804805, 0.8366698 , 0.9981538 ])"
      ]
     },
     "execution_count": 8,
     "metadata": {},
     "output_type": "execute_result"
    }
   ],
   "source": [
    "np.random.rand(5) # 0 -1 미만의 난수를 5개 발생(균일분포에서 난수)(1차원만 가능)"
   ]
  },
  {
   "cell_type": "code",
   "execution_count": 9,
   "id": "e5a1f74f",
   "metadata": {
    "ExecuteTime": {
     "end_time": "2021-07-30T00:50:32.868016Z",
     "start_time": "2021-07-30T00:50:32.858044Z"
    }
   },
   "outputs": [
    {
     "data": {
      "text/plain": [
       "array([ 0.44333302,  0.41688365,  1.86410158, -0.32903668, -2.41489155])"
      ]
     },
     "execution_count": 9,
     "metadata": {},
     "output_type": "execute_result"
    }
   ],
   "source": [
    "np.random.randn(5) # 평균0이고 표준편차가 1인 정규분포(표준정규분포)에서 난수5개 발생"
   ]
  },
  {
   "cell_type": "code",
   "execution_count": 10,
   "id": "49732726",
   "metadata": {
    "ExecuteTime": {
     "end_time": "2021-07-30T00:51:15.293153Z",
     "start_time": "2021-07-30T00:51:15.282184Z"
    }
   },
   "outputs": [
    {
     "data": {
      "text/plain": [
       "3"
      ]
     },
     "execution_count": 10,
     "metadata": {},
     "output_type": "execute_result"
    }
   ],
   "source": [
    "np.random.randint(5) #0부터 5미만의 정수 난수 발생"
   ]
  },
  {
   "cell_type": "code",
   "execution_count": 14,
   "id": "6b84cc93",
   "metadata": {
    "ExecuteTime": {
     "end_time": "2021-07-30T00:57:21.607316Z",
     "start_time": "2021-07-30T00:57:21.482679Z"
    }
   },
   "outputs": [
    {
     "data": {
      "image/png": "[encoded data removed]",
      "text/plain": [
       "<Figure size 432x288 with 1 Axes>"
      ]
     },
     "metadata": {
      "needs_background": "light"
     },
     "output_type": "display_data"
    }
   ],
   "source": [
    "# randn()가 균일분포에서 난수 발생하는지 확인\n",
    "import matplotlib.pyplot as plt\n",
    "x = np.random.rand(1000)\n",
    "plt.hist(x)\n",
    "plt.show()"
   ]
  },
  {
   "cell_type": "code",
   "execution_count": 20,
   "id": "d5f5df10",
   "metadata": {
    "ExecuteTime": {
     "end_time": "2021-07-30T00:59:58.676004Z",
     "start_time": "2021-07-30T00:59:58.452566Z"
    }
   },
   "outputs": [
    {
     "data": {
      "image/png": "[encoded data removed]",
      "text/plain": [
       "<Figure size 432x288 with 1 Axes>"
      ]
     },
     "metadata": {
      "needs_background": "light"
     },
     "output_type": "display_data"
    }
   ],
   "source": [
    "#randn() : 표준정규분포내 난수 발생\n",
    "x = np.random.randn(100000)\n",
    "plt.hist(x, bins=100) #bins=10 x축구간이 10개\n",
    "plt.show()"
   ]
  },
  {
   "cell_type": "code",
   "execution_count": 22,
   "id": "04cd2518",
   "metadata": {
    "ExecuteTime": {
     "end_time": "2021-07-30T01:07:46.721035Z",
     "start_time": "2021-07-30T01:07:40.101170Z"
    }
   },
   "outputs": [
    {
     "name": "stdout",
     "output_type": "stream",
     "text": [
      "The memory_profiler extension is already loaded. To reload it, use:\n",
      "  %reload_ext memory_profiler\n"
     ]
    }
   ],
   "source": [
    "# 메모리 사용량과 속도 측정(메모리 프로파일러)를 로드하고 \n",
    "#       임의의 데이터 생성후 +, np.add 비교\n",
    "# 아나콘다 프롬프트 memory_profiler 패키지 install\n",
    "%load_ext memory_profiler\n",
    "A = np.random.randn(100000000)\n",
    "B = np.random.randn(100000000)\n",
    "C = np.random.randn(100000000)"
   ]
  },
  {
   "cell_type": "code",
   "execution_count": null,
   "id": "e885674f",
   "metadata": {},
   "outputs": [],
   "source": [
    "# %%time : 셀을 실행할 때 소요 시간 출력\n",
    "# %memit : 메모리 사용량 출력"
   ]
  },
  {
   "cell_type": "code",
   "execution_count": 23,
   "id": "20f3a878",
   "metadata": {
    "ExecuteTime": {
     "end_time": "2021-07-30T01:09:39.910777Z",
     "start_time": "2021-07-30T01:09:38.616229Z"
    }
   },
   "outputs": [
    {
     "name": "stdout",
     "output_type": "stream",
     "text": [
      "peak memory: 3752.82 MiB, increment: 1350.02 MiB\n",
      "[ 2.84762059e-01 -1.85929440e+00 -5.34490708e-04 ...  9.30722654e-01\n",
      " -6.85903199e-01 -4.51712978e-01]\n",
      "Wall time: 1.28 s\n"
     ]
    }
   ],
   "source": [
    "%%time\n",
    "%memit G = A*B+C\n",
    "print(G)"
   ]
  },
  {
   "cell_type": "code",
   "execution_count": 24,
   "id": "26717174",
   "metadata": {
    "ExecuteTime": {
     "end_time": "2021-07-30T01:15:57.310167Z",
     "start_time": "2021-07-30T01:15:55.965826Z"
    }
   },
   "outputs": [
    {
     "name": "stdout",
     "output_type": "stream",
     "text": [
      "peak memory: 3928.76 MiB, increment: 762.94 MiB\n",
      "[ 2.84762059e-01 -1.85929440e+00 -5.34490708e-04 ...  9.30722654e-01\n",
      " -6.85903199e-01 -4.51712978e-01]\n",
      "Wall time: 1.33 s\n"
     ]
    }
   ],
   "source": [
    "%%time\n",
    "%memit T = A*B;\n",
    "G = T+C;\n",
    "del T\n",
    "print(G)"
   ]
  },
  {
   "cell_type": "code",
   "execution_count": 25,
   "id": "830344ca",
   "metadata": {
    "ExecuteTime": {
     "end_time": "2021-07-30T01:17:03.665350Z",
     "start_time": "2021-07-30T01:17:02.548267Z"
    }
   },
   "outputs": [
    {
     "name": "stdout",
     "output_type": "stream",
     "text": [
      "peak memory: 3618.58 MiB, increment: 452.76 MiB\n",
      "[ 2.84762059e-01 -1.85929440e+00 -5.34490708e-04 ...  9.30722654e-01\n",
      " -6.85903199e-01 -4.51712978e-01]\n",
      "Wall time: 1.1 s\n"
     ]
    }
   ],
   "source": [
    "%%time\n",
    "%memit G = A*B; G+=C\n",
    "print(G)"
   ]
  },
  {
   "cell_type": "code",
   "execution_count": null,
   "id": "ccf44c23",
   "metadata": {},
   "outputs": [],
   "source": [
    "# np.add()경우 배열 요소별 연산을 할 경우 메모리 절약"
   ]
  },
  {
   "cell_type": "code",
   "execution_count": 27,
   "id": "aab270f8",
   "metadata": {
    "ExecuteTime": {
     "end_time": "2021-07-30T01:20:44.389907Z",
     "start_time": "2021-07-30T01:20:43.107267Z"
    }
   },
   "outputs": [
    {
     "name": "stdout",
     "output_type": "stream",
     "text": [
      "peak memory: 4608.95 MiB, increment: 683.98 MiB\n",
      "[ 1.01825092 -5.29463697  0.05477546 ...  2.198037    0.93843021\n",
      " -2.86361837]\n",
      "Wall time: 1.27 s\n"
     ]
    }
   ],
   "source": [
    "%%time\n",
    "%memit T = A*B; G = np.add(C,G)\n",
    "print(G)"
   ]
  },
  {
   "cell_type": "markdown",
   "id": "a0273605",
   "metadata": {},
   "source": [
    "## 2.8 브로드 캐스팅"
   ]
  },
  {
   "cell_type": "code",
   "execution_count": 28,
   "id": "0f835da7",
   "metadata": {
    "ExecuteTime": {
     "end_time": "2021-07-30T01:40:08.284453Z",
     "start_time": "2021-07-30T01:40:08.276507Z"
    }
   },
   "outputs": [
    {
     "data": {
      "text/plain": [
       "array([11, 12, 13])"
      ]
     },
     "execution_count": 28,
     "metadata": {},
     "output_type": "execute_result"
    }
   ],
   "source": [
    "# 1차원 배열인 경우\n",
    "a = np.array([1,2,3])\n",
    "b = 10\n",
    "np.add(a,b)"
   ]
  },
  {
   "cell_type": "code",
   "execution_count": 29,
   "id": "af67dc9a",
   "metadata": {
    "ExecuteTime": {
     "end_time": "2021-07-30T01:43:15.876333Z",
     "start_time": "2021-07-30T01:43:15.868354Z"
    }
   },
   "outputs": [
    {
     "data": {
      "text/plain": [
       "array([[  0.,   0.,   0.],\n",
       "       [ 50.,  50.,  50.],\n",
       "       [100., 100., 100.],\n",
       "       [150., 150., 150.]])"
      ]
     },
     "execution_count": 29,
     "metadata": {},
     "output_type": "execute_result"
    }
   ],
   "source": [
    "# 2차원 배열인 경우\n",
    "a = np.array([[0,0,0.,],\n",
    "             [10,10,10],\n",
    "             [20,20,20],\n",
    "             [30,30,30]])\n",
    "b = np.array([5,5,5])\n",
    "np.multiply(a,b)"
   ]
  },
  {
   "cell_type": "code",
   "execution_count": 30,
   "id": "d1f4ceb6",
   "metadata": {
    "ExecuteTime": {
     "end_time": "2021-07-30T01:44:30.645885Z",
     "start_time": "2021-07-30T01:44:30.633918Z"
    }
   },
   "outputs": [
    {
     "data": {
      "text/plain": [
       "array([[  0.,   0.,   0.],\n",
       "       [ 50.,  50.,  50.],\n",
       "       [100., 100., 100.],\n",
       "       [150., 150., 150.]])"
      ]
     },
     "execution_count": 30,
     "metadata": {},
     "output_type": "execute_result"
    }
   ],
   "source": [
    "# 2차원 배열인 경우\n",
    "a = np.array([[0,0,0.,],\n",
    "             [10,10,10],\n",
    "             [20,20,20],\n",
    "             [30,30,30]])\n",
    "b = np.array([[5],[5],[5],[5]])\n",
    "np.multiply(a,b)"
   ]
  },
  {
   "cell_type": "code",
   "execution_count": 31,
   "id": "d53405dc",
   "metadata": {
    "ExecuteTime": {
     "end_time": "2021-07-30T01:46:14.228479Z",
     "start_time": "2021-07-30T01:46:14.211525Z"
    }
   },
   "outputs": [],
   "source": [
    "a = np.array([0,10,20,30]) #1행4열\n",
    "# newwaxis 연산자를 이용하여 배열에 새로운 축을 추가해서 2차원인 4행 1열로 변환"
   ]
  },
  {
   "cell_type": "code",
   "execution_count": 35,
   "id": "f14f998d",
   "metadata": {
    "ExecuteTime": {
     "end_time": "2021-07-30T01:46:58.474848Z",
     "start_time": "2021-07-30T01:46:58.460919Z"
    }
   },
   "outputs": [
    {
     "data": {
      "text/plain": [
       "array([[ 0],\n",
       "       [10],\n",
       "       [20],\n",
       "       [30]])"
      ]
     },
     "execution_count": 35,
     "metadata": {},
     "output_type": "execute_result"
    }
   ],
   "source": [
    "x = a[:, np.newaxis]\n",
    "x"
   ]
  },
  {
   "cell_type": "code",
   "execution_count": 37,
   "id": "96ec1080",
   "metadata": {
    "ExecuteTime": {
     "end_time": "2021-07-30T01:47:26.377381Z",
     "start_time": "2021-07-30T01:47:26.361386Z"
    }
   },
   "outputs": [
    {
     "data": {
      "text/plain": [
       "array([1, 2, 3])"
      ]
     },
     "execution_count": 37,
     "metadata": {},
     "output_type": "execute_result"
    }
   ],
   "source": [
    "b = np.array([1,2,3])\n",
    "b"
   ]
  },
  {
   "cell_type": "code",
   "execution_count": 39,
   "id": "cc39dca0",
   "metadata": {
    "ExecuteTime": {
     "end_time": "2021-07-30T01:51:30.123570Z",
     "start_time": "2021-07-30T01:51:30.106615Z"
    }
   },
   "outputs": [
    {
     "data": {
      "text/plain": [
       "array([[ 1,  2,  3],\n",
       "       [11, 12, 13],\n",
       "       [21, 22, 23],\n",
       "       [31, 32, 33]])"
      ]
     },
     "execution_count": 39,
     "metadata": {},
     "output_type": "execute_result"
    }
   ],
   "source": [
    "result = np.add(x,b)\n",
    "result"
   ]
  },
  {
   "cell_type": "code",
   "execution_count": 41,
   "id": "000635d8",
   "metadata": {
    "ExecuteTime": {
     "end_time": "2021-07-30T01:51:59.025786Z",
     "start_time": "2021-07-30T01:51:59.012821Z"
    }
   },
   "outputs": [
    {
     "data": {
      "text/plain": [
       "True"
      ]
     },
     "execution_count": 41,
     "metadata": {},
     "output_type": "execute_result"
    }
   ],
   "source": [
    "result[1,2] == a[1]+b[2]"
   ]
  },
  {
   "cell_type": "markdown",
   "id": "6779658c",
   "metadata": {},
   "source": [
    "# 3절. 배열합치기/ 분할하기"
   ]
  },
  {
   "cell_type": "code",
   "execution_count": 42,
   "id": "82c4c692",
   "metadata": {
    "ExecuteTime": {
     "end_time": "2021-07-30T01:56:20.466781Z",
     "start_time": "2021-07-30T01:56:20.459800Z"
    }
   },
   "outputs": [
    {
     "data": {
      "text/plain": [
       "array([ 0,  3,  6,  9, 12, 15, 18, 21, 24, 27])"
      ]
     },
     "execution_count": 42,
     "metadata": {},
     "output_type": "execute_result"
    }
   ],
   "source": [
    "a = np.arange(10) * 3\n",
    "a"
   ]
  },
  {
   "cell_type": "markdown",
   "id": "bf4a52cc",
   "metadata": {},
   "source": [
    "## 3.1 인덱싱과 슬라이싱"
   ]
  },
  {
   "cell_type": "code",
   "execution_count": 43,
   "id": "5289cd3a",
   "metadata": {
    "ExecuteTime": {
     "end_time": "2021-07-30T01:57:06.630257Z",
     "start_time": "2021-07-30T01:57:06.617258Z"
    }
   },
   "outputs": [
    {
     "data": {
      "text/plain": [
       "6"
      ]
     },
     "execution_count": 43,
     "metadata": {},
     "output_type": "execute_result"
    }
   ],
   "source": [
    "# 1) 인덱싱\n",
    "a[2]"
   ]
  },
  {
   "cell_type": "code",
   "execution_count": 44,
   "id": "7e6ddfeb",
   "metadata": {
    "ExecuteTime": {
     "end_time": "2021-07-30T01:57:37.686969Z",
     "start_time": "2021-07-30T01:57:37.673972Z"
    }
   },
   "outputs": [
    {
     "data": {
      "text/plain": [
       "27"
      ]
     },
     "execution_count": 44,
     "metadata": {},
     "output_type": "execute_result"
    }
   ],
   "source": [
    "a[-1]"
   ]
  },
  {
   "cell_type": "code",
   "execution_count": 45,
   "id": "c5859f0c",
   "metadata": {
    "ExecuteTime": {
     "end_time": "2021-07-30T01:57:42.174700Z",
     "start_time": "2021-07-30T01:57:42.164728Z"
    }
   },
   "outputs": [
    {
     "ename": "IndexError",
     "evalue": "index 10 is out of bounds for axis 0 with size 10",
     "output_type": "error",
     "traceback": [
      "\u001b[1;31m---------------------------------------------------------------------------\u001b[0m",
      "\u001b[1;31mIndexError\u001b[0m                                Traceback (most recent call last)",
      "\u001b[1;32m<ipython-input-45-7c7cb9812849>\u001b[0m in \u001b[0;36m<module>\u001b[1;34m\u001b[0m\n\u001b[1;32m----> 1\u001b[1;33m \u001b[0ma\u001b[0m\u001b[1;33m[\u001b[0m\u001b[1;36m10\u001b[0m\u001b[1;33m]\u001b[0m\u001b[1;33m\u001b[0m\u001b[1;33m\u001b[0m\u001b[0m\n\u001b[0m",
      "\u001b[1;31mIndexError\u001b[0m: index 10 is out of bounds for axis 0 with size 10"
     ]
    }
   ],
   "source": [
    "a[10]"
   ]
  },
  {
   "cell_type": "code",
   "execution_count": 46,
   "id": "89e57eb6",
   "metadata": {
    "ExecuteTime": {
     "end_time": "2021-07-30T01:58:54.832790Z",
     "start_time": "2021-07-30T01:58:54.815800Z"
    }
   },
   "outputs": [
    {
     "data": {
      "text/plain": [
       "array([ 6,  9, 12])"
      ]
     },
     "execution_count": 46,
     "metadata": {},
     "output_type": "execute_result"
    }
   ],
   "source": [
    "# 슬라이싱\n",
    "a[2:5] #2번쩨부터 5번째 앞까지\n",
    "a[2:5]"
   ]
  },
  {
   "cell_type": "code",
   "execution_count": 47,
   "id": "7247cf2a",
   "metadata": {
    "ExecuteTime": {
     "end_time": "2021-07-30T01:59:21.932772Z",
     "start_time": "2021-07-30T01:59:21.915816Z"
    }
   },
   "outputs": [
    {
     "data": {
      "text/plain": [
       "array([ 0,  6, 12, 18, 24])"
      ]
     },
     "execution_count": 47,
     "metadata": {},
     "output_type": "execute_result"
    }
   ],
   "source": [
    "a[0:100:2] #슬라이싱은 벗어난 인덱스 값도 가능"
   ]
  },
  {
   "cell_type": "code",
   "execution_count": 48,
   "id": "9c740751",
   "metadata": {
    "ExecuteTime": {
     "end_time": "2021-07-30T01:59:39.305350Z",
     "start_time": "2021-07-30T01:59:39.300364Z"
    }
   },
   "outputs": [
    {
     "data": {
      "text/plain": [
       "array([-99,   3, -99,   9, -99,  15,  18,  21,  24,  27])"
      ]
     },
     "execution_count": 48,
     "metadata": {},
     "output_type": "execute_result"
    }
   ],
   "source": [
    "a[:6:2] = -99\n",
    "a"
   ]
  },
  {
   "cell_type": "markdown",
   "id": "7fde4e27",
   "metadata": {},
   "source": [
    "도움말 문서들\n",
    "- 인덱싱 : https://docs.scipy.org/doc/numpy/user/basics.indexing.html\n",
    "- 배열 인덱싱 : https://docs.scipy.org/doc/numpy/reference/arrays.indexing.html\n",
    "- newaxis : https://docs.scipy.org/doc/numpy/reference/constants.html#numpy.newaxis"
   ]
  },
  {
   "cell_type": "code",
   "execution_count": 49,
   "id": "549278c4",
   "metadata": {
    "ExecuteTime": {
     "end_time": "2021-07-30T02:02:59.533706Z",
     "start_time": "2021-07-30T02:02:59.524763Z"
    }
   },
   "outputs": [
    {
     "data": {
      "text/plain": [
       "array([[ 0,  1,  2,  3],\n",
       "       [ 4,  5,  6,  7],\n",
       "       [ 8,  9, 10, 11],\n",
       "       [12, 13, 14, 15],\n",
       "       [16, 17, 18, 19]])"
      ]
     },
     "execution_count": 49,
     "metadata": {},
     "output_type": "execute_result"
    }
   ],
   "source": [
    "# 3) 다차원 배열의 인덱싱 & 슬라이싱\n",
    "a = np.arange(20).reshape(5,4)\n",
    "a"
   ]
  },
  {
   "cell_type": "code",
   "execution_count": 50,
   "id": "de7237f9",
   "metadata": {
    "ExecuteTime": {
     "end_time": "2021-07-30T02:03:20.538591Z",
     "start_time": "2021-07-30T02:03:20.533633Z"
    }
   },
   "outputs": [
    {
     "data": {
      "text/plain": [
       "10"
      ]
     },
     "execution_count": 50,
     "metadata": {},
     "output_type": "execute_result"
    }
   ],
   "source": [
    "a[2,2]"
   ]
  },
  {
   "cell_type": "code",
   "execution_count": 51,
   "id": "b2d10f8d",
   "metadata": {
    "ExecuteTime": {
     "end_time": "2021-07-30T02:04:57.668059Z",
     "start_time": "2021-07-30T02:04:57.657089Z"
    }
   },
   "outputs": [
    {
     "data": {
      "text/plain": [
       "array([ 3,  7, 11, 15, 19])"
      ]
     },
     "execution_count": 51,
     "metadata": {},
     "output_type": "execute_result"
    }
   ],
   "source": [
    "# 마지막 열들만\n",
    "a[:,-1]"
   ]
  },
  {
   "cell_type": "code",
   "execution_count": 52,
   "id": "00f8e235",
   "metadata": {
    "ExecuteTime": {
     "end_time": "2021-07-30T02:05:37.176585Z",
     "start_time": "2021-07-30T02:05:37.159630Z"
    }
   },
   "outputs": [
    {
     "data": {
      "text/plain": [
       "array([ 3,  7, 11])"
      ]
     },
     "execution_count": 52,
     "metadata": {},
     "output_type": "execute_result"
    }
   ],
   "source": [
    "# 0~2행까지의 마지막 열들만 추출\n",
    "a[0:3,-1]"
   ]
  },
  {
   "cell_type": "code",
   "execution_count": 53,
   "id": "df2906ef",
   "metadata": {
    "ExecuteTime": {
     "end_time": "2021-07-30T02:07:16.005539Z",
     "start_time": "2021-07-30T02:07:15.999591Z"
    }
   },
   "outputs": [
    {
     "data": {
      "text/plain": [
       "array([[ 0,  1,  2],\n",
       "       [ 4,  5,  6],\n",
       "       [ 8,  9, 10],\n",
       "       [12, 13, 14],\n",
       "       [16, 17, 18]])"
      ]
     },
     "execution_count": 53,
     "metadata": {},
     "output_type": "execute_result"
    }
   ],
   "source": [
    "# 모든행의 마지막 열을 제외한 데이터 추출\n",
    "a[:,:-1]"
   ]
  },
  {
   "cell_type": "code",
   "execution_count": 55,
   "id": "97b6f197",
   "metadata": {
    "ExecuteTime": {
     "end_time": "2021-07-30T02:08:37.632935Z",
     "start_time": "2021-07-30T02:08:37.617976Z"
    }
   },
   "outputs": [
    {
     "data": {
      "text/plain": [
       "array([[ 0,  1,  2,  3],\n",
       "       [ 4,  5,  6,  7],\n",
       "       [ 8,  9, 10, 11],\n",
       "       [12, 13, 14, 15],\n",
       "       [16, 17, 18, 19]])"
      ]
     },
     "execution_count": 55,
     "metadata": {},
     "output_type": "execute_result"
    }
   ],
   "source": [
    "# 0~4행까지 모든 열\n",
    "a[0:5, ] #열을 생략하면 모든 열"
   ]
  },
  {
   "cell_type": "code",
   "execution_count": 56,
   "id": "11814b05",
   "metadata": {
    "ExecuteTime": {
     "end_time": "2021-07-30T02:08:46.730050Z",
     "start_time": "2021-07-30T02:08:46.719080Z"
    }
   },
   "outputs": [
    {
     "data": {
      "text/plain": [
       "array([[ 0,  1,  2,  3],\n",
       "       [ 4,  5,  6,  7],\n",
       "       [ 8,  9, 10, 11],\n",
       "       [12, 13, 14, 15],\n",
       "       [16, 17, 18, 19]])"
      ]
     },
     "execution_count": 56,
     "metadata": {},
     "output_type": "execute_result"
    }
   ],
   "source": [
    "a[0:5]"
   ]
  },
  {
   "cell_type": "code",
   "execution_count": 57,
   "id": "dac4208f",
   "metadata": {
    "ExecuteTime": {
     "end_time": "2021-07-30T02:09:46.344186Z",
     "start_time": "2021-07-30T02:09:46.326231Z"
    }
   },
   "outputs": [
    {
     "data": {
      "text/plain": [
       "array([[ 0,  1,  2,  3],\n",
       "       [ 4,  5,  6,  7],\n",
       "       [ 8,  9, 10, 11]])"
      ]
     },
     "execution_count": 57,
     "metadata": {},
     "output_type": "execute_result"
    }
   ],
   "source": [
    "a[0:3, ...] # ...누락된 인덱스 전부"
   ]
  },
  {
   "cell_type": "code",
   "execution_count": 58,
   "id": "a3d3cd87",
   "metadata": {
    "ExecuteTime": {
     "end_time": "2021-07-30T02:10:21.412467Z",
     "start_time": "2021-07-30T02:10:21.405485Z"
    }
   },
   "outputs": [
    {
     "data": {
      "text/plain": [
       "array([ 3,  7, 11, 15, 19])"
      ]
     },
     "execution_count": 58,
     "metadata": {},
     "output_type": "execute_result"
    }
   ],
   "source": [
    "a[...,-1] #전체행 마지막 열"
   ]
  },
  {
   "cell_type": "code",
   "execution_count": 62,
   "id": "dce2ef17",
   "metadata": {
    "ExecuteTime": {
     "end_time": "2021-07-30T02:12:11.067370Z",
     "start_time": "2021-07-30T02:12:11.059867Z"
    }
   },
   "outputs": [
    {
     "data": {
      "text/plain": [
       "array([[ 3,  2],\n",
       "       [ 7,  6],\n",
       "       [11, 10],\n",
       "       [15, 14],\n",
       "       [19, 18]])"
      ]
     },
     "execution_count": 62,
     "metadata": {},
     "output_type": "execute_result"
    }
   ],
   "source": [
    "# 모든 행에 마지막열, 마지막 전열\n",
    "a[...,-1:-3:-1]"
   ]
  },
  {
   "cell_type": "code",
   "execution_count": 63,
   "id": "e4d67dc6",
   "metadata": {
    "ExecuteTime": {
     "end_time": "2021-07-30T02:13:23.645824Z",
     "start_time": "2021-07-30T02:13:23.631863Z"
    }
   },
   "outputs": [
    {
     "data": {
      "text/plain": [
       "array([[ 2,  3],\n",
       "       [ 6,  7],\n",
       "       [10, 11],\n",
       "       [14, 15],\n",
       "       [18, 19]])"
      ]
     },
     "execution_count": 63,
     "metadata": {},
     "output_type": "execute_result"
    }
   ],
   "source": [
    "# 모든 행에 마지막 전열, 마지막 열\n",
    "a[..., -2::]"
   ]
  },
  {
   "cell_type": "code",
   "execution_count": 64,
   "id": "fecfa81e",
   "metadata": {
    "ExecuteTime": {
     "end_time": "2021-07-30T02:14:11.552468Z",
     "start_time": "2021-07-30T02:14:11.546485Z"
    }
   },
   "outputs": [
    {
     "data": {
      "text/plain": [
       "array([[ 4,  5],\n",
       "       [ 8,  9],\n",
       "       [12, 13]])"
      ]
     },
     "execution_count": 64,
     "metadata": {},
     "output_type": "execute_result"
    }
   ],
   "source": [
    "# 1~3행, 0~1열\n",
    "a[1:4,0:2]"
   ]
  },
  {
   "cell_type": "markdown",
   "id": "dd2cfcd6",
   "metadata": {},
   "source": [
    "## 3.2 두 배열을 쌓아 합치는 함수\n",
    "**- vstack(tup) : 아래에 추가하는 방식으로 쌓아 합침** <br>\n",
    "**- hstack(tup) : 옆으로 추가하는 방식으로 합침** <br>\n",
    "**- dstack(tup) : 마지막 축(열)을 쌓아 합침.0열들낄 쌓고 1열들 끼리 쌓고** "
   ]
  },
  {
   "cell_type": "code",
   "execution_count": 65,
   "id": "20ed6983",
   "metadata": {
    "ExecuteTime": {
     "end_time": "2021-07-30T02:31:50.611126Z",
     "start_time": "2021-07-30T02:31:50.600124Z"
    }
   },
   "outputs": [
    {
     "data": {
      "text/plain": [
       "array([[[ 0,  1,  2,  3],\n",
       "        [ 4,  5,  6,  7],\n",
       "        [ 8,  9, 10, 11]],\n",
       "\n",
       "       [[12, 13, 14, 15],\n",
       "        [16, 17, 18, 19],\n",
       "        [20, 21, 22, 23]]])"
      ]
     },
     "execution_count": 65,
     "metadata": {},
     "output_type": "execute_result"
    }
   ],
   "source": [
    "c = np.arange(24).reshape(2,3,4)\n",
    "c"
   ]
  },
  {
   "cell_type": "code",
   "execution_count": 66,
   "id": "aa94dd37",
   "metadata": {
    "ExecuteTime": {
     "end_time": "2021-07-30T02:32:49.179853Z",
     "start_time": "2021-07-30T02:32:49.167846Z"
    }
   },
   "outputs": [
    {
     "name": "stdout",
     "output_type": "stream",
     "text": [
      "[[ 0  1  2  3]\n",
      " [ 4  5  6  7]\n",
      " [ 8  9 10 11]]\n",
      "[[12 13 14 15]\n",
      " [16 17 18 19]\n",
      " [20 21 22 23]]\n"
     ]
    }
   ],
   "source": [
    "a,b = c[0,:,:],c[1]\n",
    "print(a)\n",
    "print(b)"
   ]
  },
  {
   "cell_type": "code",
   "execution_count": 67,
   "id": "e24ea1fa",
   "metadata": {
    "ExecuteTime": {
     "end_time": "2021-07-30T02:33:53.158409Z",
     "start_time": "2021-07-30T02:33:53.148432Z"
    }
   },
   "outputs": [
    {
     "data": {
      "text/plain": [
       "array([[ 0,  1,  2,  3],\n",
       "       [ 4,  5,  6,  7],\n",
       "       [ 8,  9, 10, 11],\n",
       "       [12, 13, 14, 15],\n",
       "       [16, 17, 18, 19],\n",
       "       [20, 21, 22, 23]])"
      ]
     },
     "execution_count": 67,
     "metadata": {},
     "output_type": "execute_result"
    }
   ],
   "source": [
    "np.vstack((a,b)) #수직으로 합치기"
   ]
  },
  {
   "cell_type": "code",
   "execution_count": 68,
   "id": "f3b6f8be",
   "metadata": {
    "ExecuteTime": {
     "end_time": "2021-07-30T02:34:12.294627Z",
     "start_time": "2021-07-30T02:34:12.277708Z"
    }
   },
   "outputs": [
    {
     "data": {
      "text/plain": [
       "array([[12, 13, 14, 15,  0,  1,  2,  3],\n",
       "       [16, 17, 18, 19,  4,  5,  6,  7],\n",
       "       [20, 21, 22, 23,  8,  9, 10, 11]])"
      ]
     },
     "execution_count": 68,
     "metadata": {},
     "output_type": "execute_result"
    }
   ],
   "source": [
    "np.hstack((b,a)) #수평으로 합치기"
   ]
  },
  {
   "cell_type": "code",
   "execution_count": 69,
   "id": "72d14ff2",
   "metadata": {
    "ExecuteTime": {
     "end_time": "2021-07-30T02:35:19.103206Z",
     "start_time": "2021-07-30T02:35:19.092871Z"
    }
   },
   "outputs": [
    {
     "data": {
      "text/plain": [
       "array([[[ 0, 12],\n",
       "        [ 1, 13],\n",
       "        [ 2, 14],\n",
       "        [ 3, 15]],\n",
       "\n",
       "       [[ 4, 16],\n",
       "        [ 5, 17],\n",
       "        [ 6, 18],\n",
       "        [ 7, 19]],\n",
       "\n",
       "       [[ 8, 20],\n",
       "        [ 9, 21],\n",
       "        [10, 22],\n",
       "        [11, 23]]])"
      ]
     },
     "execution_count": 69,
     "metadata": {},
     "output_type": "execute_result"
    }
   ],
   "source": [
    "np.dstack((a,b)) #열들끼리 쌓아 면을 이룸"
   ]
  },
  {
   "cell_type": "markdown",
   "id": "3203da0f",
   "metadata": {},
   "source": [
    "- column_stack(tup) : 1차원 배열을 열단위로 배열하여 2차원 배열로 합침"
   ]
  },
  {
   "cell_type": "code",
   "execution_count": 70,
   "id": "1bc193b2",
   "metadata": {
    "ExecuteTime": {
     "end_time": "2021-07-30T02:41:54.399171Z",
     "start_time": "2021-07-30T02:41:54.393187Z"
    }
   },
   "outputs": [],
   "source": [
    "a = np.array([1,2,3,4])\n",
    "b = np.array([5,6,7,8])\n",
    "c = np.array([9,10,11,12])"
   ]
  },
  {
   "cell_type": "code",
   "execution_count": 71,
   "id": "e6ba7554",
   "metadata": {
    "ExecuteTime": {
     "end_time": "2021-07-30T02:41:54.791651Z",
     "start_time": "2021-07-30T02:41:54.774576Z"
    }
   },
   "outputs": [
    {
     "data": {
      "text/plain": [
       "array([[ 1,  5,  9],\n",
       "       [ 2,  6, 10],\n",
       "       [ 3,  7, 11],\n",
       "       [ 4,  8, 12]])"
      ]
     },
     "execution_count": 71,
     "metadata": {},
     "output_type": "execute_result"
    }
   ],
   "source": [
    "np.column_stack((a,b,c))"
   ]
  },
  {
   "cell_type": "code",
   "execution_count": 72,
   "id": "901325eb",
   "metadata": {
    "ExecuteTime": {
     "end_time": "2021-07-30T02:43:25.970161Z",
     "start_time": "2021-07-30T02:43:25.955201Z"
    }
   },
   "outputs": [
    {
     "data": {
      "text/plain": [
       "(array([[1],\n",
       "        [2],\n",
       "        [3],\n",
       "        [4]]),\n",
       " array([[5],\n",
       "        [6],\n",
       "        [7],\n",
       "        [8]]),\n",
       " array([[ 9],\n",
       "        [10],\n",
       "        [11],\n",
       "        [12]]))"
      ]
     },
     "execution_count": 72,
     "metadata": {},
     "output_type": "execute_result"
    }
   ],
   "source": [
    "a[:,np.newaxis],b[:,np.newaxis],c[:,np.newaxis]"
   ]
  },
  {
   "cell_type": "code",
   "execution_count": 73,
   "id": "1677530c",
   "metadata": {
    "ExecuteTime": {
     "end_time": "2021-07-30T02:43:55.742251Z",
     "start_time": "2021-07-30T02:43:55.729255Z"
    }
   },
   "outputs": [
    {
     "data": {
      "text/plain": [
       "array([[ 1,  5,  9],\n",
       "       [ 2,  6, 10],\n",
       "       [ 3,  7, 11],\n",
       "       [ 4,  8, 12]])"
      ]
     },
     "execution_count": 73,
     "metadata": {},
     "output_type": "execute_result"
    }
   ],
   "source": [
    "np.hstack((a[:,np.newaxis],b[:,np.newaxis],c[:,np.newaxis]))"
   ]
  },
  {
   "cell_type": "markdown",
   "id": "79eeb8f8",
   "metadata": {},
   "source": [
    "- row_stack((tup)) : 행단위로 쌓아줌 == vstack()"
   ]
  },
  {
   "cell_type": "code",
   "execution_count": 74,
   "id": "9ee331a7",
   "metadata": {
    "ExecuteTime": {
     "end_time": "2021-07-30T02:46:31.776146Z",
     "start_time": "2021-07-30T02:46:31.768168Z"
    }
   },
   "outputs": [
    {
     "data": {
      "text/plain": [
       "array([[ 1,  2,  3,  4],\n",
       "       [ 5,  6,  7,  8],\n",
       "       [ 9, 10, 11, 12]])"
      ]
     },
     "execution_count": 74,
     "metadata": {},
     "output_type": "execute_result"
    }
   ],
   "source": [
    "np.row_stack((a,b,c))"
   ]
  },
  {
   "cell_type": "code",
   "execution_count": 75,
   "id": "425fa5f9",
   "metadata": {
    "ExecuteTime": {
     "end_time": "2021-07-30T02:46:48.895893Z",
     "start_time": "2021-07-30T02:46:48.890906Z"
    }
   },
   "outputs": [
    {
     "data": {
      "text/plain": [
       "array([[ 1,  2,  3,  4],\n",
       "       [ 5,  6,  7,  8],\n",
       "       [ 9, 10, 11, 12]])"
      ]
     },
     "execution_count": 75,
     "metadata": {},
     "output_type": "execute_result"
    }
   ],
   "source": [
    "np.vstack((a,b,c))"
   ]
  },
  {
   "cell_type": "markdown",
   "id": "56efc739",
   "metadata": {
    "ExecuteTime": {
     "end_time": "2021-07-30T02:47:27.399083Z",
     "start_time": "2021-07-30T02:47:27.378108Z"
    }
   },
   "source": [
    "- stack(tup, axis=n) : axis 속성에 따라 배열을 합침\n",
    "    * axis = 0: 첫번째 차원, axis=-1이면 마지막 차원"
   ]
  },
  {
   "cell_type": "code",
   "execution_count": 80,
   "id": "b55a92ff",
   "metadata": {
    "ExecuteTime": {
     "end_time": "2021-07-30T02:51:15.263092Z",
     "start_time": "2021-07-30T02:51:15.254114Z"
    }
   },
   "outputs": [
    {
     "name": "stdout",
     "output_type": "stream",
     "text": [
      "[[ 0  1  2  3]\n",
      " [ 4  5  6  7]\n",
      " [ 8  9 10 11]]\n",
      "[[12 13 14 15]\n",
      " [16 17 18 19]\n",
      " [20 21 22 23]]\n"
     ]
    }
   ],
   "source": [
    "a = np.arange(12).reshape(3,4)\n",
    "print(a)\n",
    "b = np.arange(12,24).reshape(3,4)\n",
    "print(b)"
   ]
  },
  {
   "cell_type": "code",
   "execution_count": 79,
   "id": "0fdf1faf",
   "metadata": {
    "ExecuteTime": {
     "end_time": "2021-07-30T02:50:22.070729Z",
     "start_time": "2021-07-30T02:50:22.051748Z"
    }
   },
   "outputs": [
    {
     "data": {
      "text/plain": [
       "array([[[ 0,  1,  2,  3],\n",
       "        [ 4,  5,  6,  7],\n",
       "        [ 8,  9, 10, 11]],\n",
       "\n",
       "       [[12, 13, 14, 15],\n",
       "        [16, 17, 18, 19],\n",
       "        [20, 21, 22, 23]]])"
      ]
     },
     "execution_count": 79,
     "metadata": {},
     "output_type": "execute_result"
    }
   ],
   "source": [
    "np.stack((a,b), axis=0)"
   ]
  },
  {
   "cell_type": "code",
   "execution_count": 81,
   "id": "ff993b48",
   "metadata": {
    "ExecuteTime": {
     "end_time": "2021-07-30T02:51:32.054231Z",
     "start_time": "2021-07-30T02:51:32.042231Z"
    }
   },
   "outputs": [
    {
     "data": {
      "text/plain": [
       "array([[[ 0,  1,  2,  3],\n",
       "        [12, 13, 14, 15]],\n",
       "\n",
       "       [[ 4,  5,  6,  7],\n",
       "        [16, 17, 18, 19]],\n",
       "\n",
       "       [[ 8,  9, 10, 11],\n",
       "        [20, 21, 22, 23]]])"
      ]
     },
     "execution_count": 81,
     "metadata": {},
     "output_type": "execute_result"
    }
   ],
   "source": [
    "np.stack((a,b), axis=1) #행끼리 합쳐 면을 이룸"
   ]
  },
  {
   "cell_type": "code",
   "execution_count": 84,
   "id": "73633f8e",
   "metadata": {
    "ExecuteTime": {
     "end_time": "2021-07-30T02:54:34.471467Z",
     "start_time": "2021-07-30T02:54:34.459499Z"
    }
   },
   "outputs": [
    {
     "data": {
      "text/plain": [
       "array([[[ 0, 12],\n",
       "        [ 1, 13],\n",
       "        [ 2, 14],\n",
       "        [ 3, 15]],\n",
       "\n",
       "       [[ 4, 16],\n",
       "        [ 5, 17],\n",
       "        [ 6, 18],\n",
       "        [ 7, 19]],\n",
       "\n",
       "       [[ 8, 20],\n",
       "        [ 9, 21],\n",
       "        [10, 22],\n",
       "        [11, 23]]])"
      ]
     },
     "execution_count": 84,
     "metadata": {},
     "output_type": "execute_result"
    }
   ],
   "source": [
    "np.stack((a,b), axis=2) #열끼리 합쳐 면을 이룸"
   ]
  },
  {
   "cell_type": "markdown",
   "id": "01d64124",
   "metadata": {},
   "source": [
    "## 3.3 r_, c_"
   ]
  },
  {
   "cell_type": "code",
   "execution_count": 85,
   "id": "dd3a365e",
   "metadata": {
    "ExecuteTime": {
     "end_time": "2021-07-30T02:56:55.068687Z",
     "start_time": "2021-07-30T02:56:55.056719Z"
    }
   },
   "outputs": [],
   "source": [
    "a = np.array([1,2,3,4,])\n",
    "b = np.array([5,6,7,8,])\n",
    "c = np.array([9,10,11,12,])"
   ]
  },
  {
   "cell_type": "code",
   "execution_count": 86,
   "id": "e90da1bb",
   "metadata": {
    "ExecuteTime": {
     "end_time": "2021-07-30T02:57:04.271241Z",
     "start_time": "2021-07-30T02:57:04.262701Z"
    }
   },
   "outputs": [
    {
     "data": {
      "text/plain": [
       "array([ 1,  2,  3,  4,  5,  6,  7,  8,  9, 10, 11, 12])"
      ]
     },
     "execution_count": 86,
     "metadata": {},
     "output_type": "execute_result"
    }
   ],
   "source": [
    "np.r_[a,b,c] #한행으로 쌓는 것"
   ]
  },
  {
   "cell_type": "code",
   "execution_count": 87,
   "id": "a2e5478a",
   "metadata": {
    "ExecuteTime": {
     "end_time": "2021-07-30T02:57:41.095028Z",
     "start_time": "2021-07-30T02:57:41.078066Z"
    }
   },
   "outputs": [
    {
     "data": {
      "text/plain": [
       "array([[ 1,  2,  3,  4],\n",
       "       [ 5,  6,  7,  8],\n",
       "       [ 9, 10, 11, 12]])"
      ]
     },
     "execution_count": 87,
     "metadata": {},
     "output_type": "execute_result"
    }
   ],
   "source": [
    "np.r_[[a],[b],[c]]"
   ]
  },
  {
   "cell_type": "code",
   "execution_count": 88,
   "id": "ac2278c5",
   "metadata": {
    "ExecuteTime": {
     "end_time": "2021-07-30T02:57:52.277306Z",
     "start_time": "2021-07-30T02:57:52.258806Z"
    }
   },
   "outputs": [
    {
     "data": {
      "text/plain": [
       "array([1, 2, 3, 4])"
      ]
     },
     "execution_count": 88,
     "metadata": {},
     "output_type": "execute_result"
    }
   ],
   "source": [
    "a"
   ]
  },
  {
   "cell_type": "code",
   "execution_count": 89,
   "id": "301bd8b4",
   "metadata": {
    "ExecuteTime": {
     "end_time": "2021-07-30T02:58:00.528140Z",
     "start_time": "2021-07-30T02:58:00.514178Z"
    }
   },
   "outputs": [
    {
     "data": {
      "text/plain": [
       "[array([1, 2, 3, 4])]"
      ]
     },
     "execution_count": 89,
     "metadata": {},
     "output_type": "execute_result"
    }
   ],
   "source": [
    "[a]"
   ]
  },
  {
   "cell_type": "code",
   "execution_count": 90,
   "id": "936b18da",
   "metadata": {
    "ExecuteTime": {
     "end_time": "2021-07-30T02:58:59.345924Z",
     "start_time": "2021-07-30T02:58:59.326976Z"
    }
   },
   "outputs": [
    {
     "data": {
      "text/plain": [
       "array([[ 1,  5,  9],\n",
       "       [ 2,  6, 10],\n",
       "       [ 3,  7, 11],\n",
       "       [ 4,  8, 12]])"
      ]
     },
     "execution_count": 90,
     "metadata": {},
     "output_type": "execute_result"
    }
   ],
   "source": [
    "np.c_[a,b,c]"
   ]
  },
  {
   "cell_type": "code",
   "execution_count": 91,
   "id": "3ec44a22",
   "metadata": {
    "ExecuteTime": {
     "end_time": "2021-07-30T02:59:17.648736Z",
     "start_time": "2021-07-30T02:59:17.642747Z"
    }
   },
   "outputs": [
    {
     "data": {
      "text/plain": [
       "array([[ 1,  5,  9],\n",
       "       [ 2,  6, 10],\n",
       "       [ 3,  7, 11],\n",
       "       [ 4,  8, 12]])"
      ]
     },
     "execution_count": 91,
     "metadata": {},
     "output_type": "execute_result"
    }
   ],
   "source": [
    "np.column_stack((a,b,c,))"
   ]
  },
  {
   "cell_type": "markdown",
   "id": "635a1961",
   "metadata": {},
   "source": [
    "## 3.4하나의 배열을 여러개 작은 배열로 분할하기\n",
    "**-vsplit(ary, indecies_or_section): 첫번째 축(2차원의 경우 가로축)을 따라 분할** <br>\n",
    "**-hsplit(ary, indecies_or_section): 두번째 축(2차원의 경우 새로추)을 따라 분할** <br>\n",
    "**-dsplit(ary, indecies_or seciton): 3번째 차원을 나눔** <br>\n",
    "    * indeces_or_sections : 정수n (n개의 seciton으로 나눔) <br>\n",
    "                            [3,6] (3번과 5번 인덱스 기점으로 나눔)"
   ]
  },
  {
   "cell_type": "code",
   "execution_count": 93,
   "id": "25a3808c",
   "metadata": {
    "ExecuteTime": {
     "end_time": "2021-07-30T03:10:14.568426Z",
     "start_time": "2021-07-30T03:10:14.552436Z"
    }
   },
   "outputs": [
    {
     "data": {
      "text/plain": [
       "array([[ 0,  1,  2,  3],\n",
       "       [ 4,  5,  6,  7],\n",
       "       [ 8,  9, 10, 11]])"
      ]
     },
     "execution_count": 93,
     "metadata": {},
     "output_type": "execute_result"
    }
   ],
   "source": [
    "a = np.arange(12).reshape(3,4)\n",
    "a"
   ]
  },
  {
   "cell_type": "code",
   "execution_count": 94,
   "id": "45c72cd6",
   "metadata": {
    "ExecuteTime": {
     "end_time": "2021-07-30T03:11:38.638623Z",
     "start_time": "2021-07-30T03:11:38.620705Z"
    }
   },
   "outputs": [
    {
     "data": {
      "text/plain": [
       "[array([[0, 1, 2, 3]]), array([[4, 5, 6, 7]]), array([[ 8,  9, 10, 11]])]"
      ]
     },
     "execution_count": 94,
     "metadata": {},
     "output_type": "execute_result"
    }
   ],
   "source": [
    "a_vsplit = np.vsplit(a, 3) #가로축을 따라 3개의 배열로 분할\n",
    "a_vsplit #첫번째 축을 분할한다"
   ]
  },
  {
   "cell_type": "code",
   "execution_count": 97,
   "id": "354e82dd",
   "metadata": {
    "ExecuteTime": {
     "end_time": "2021-07-30T03:15:00.500845Z",
     "start_time": "2021-07-30T03:15:00.492867Z"
    }
   },
   "outputs": [
    {
     "data": {
      "text/plain": [
       "list"
      ]
     },
     "execution_count": 97,
     "metadata": {},
     "output_type": "execute_result"
    }
   ],
   "source": [
    "type(a_vsplit)"
   ]
  },
  {
   "cell_type": "code",
   "execution_count": 95,
   "id": "080e89cc",
   "metadata": {
    "ExecuteTime": {
     "end_time": "2021-07-30T03:12:55.913552Z",
     "start_time": "2021-07-30T03:12:55.906001Z"
    }
   },
   "outputs": [
    {
     "data": {
      "text/plain": [
       "[array([[0, 1, 2, 3],\n",
       "        [4, 5, 6, 7]]),\n",
       " array([[ 8,  9, 10, 11]])]"
      ]
     },
     "execution_count": 95,
     "metadata": {},
     "output_type": "execute_result"
    }
   ],
   "source": [
    "np.vsplit(a,[2]) #인덱스"
   ]
  },
  {
   "cell_type": "code",
   "execution_count": 96,
   "id": "71c3ed33",
   "metadata": {
    "ExecuteTime": {
     "end_time": "2021-07-30T03:14:00.364035Z",
     "start_time": "2021-07-30T03:14:00.348078Z"
    }
   },
   "outputs": [
    {
     "data": {
      "text/plain": [
       "[array([[0, 1, 2, 3]]), array([[4, 5, 6, 7]]), array([[ 8,  9, 10, 11]])]"
      ]
     },
     "execution_count": 96,
     "metadata": {},
     "output_type": "execute_result"
    }
   ],
   "source": [
    "np.vsplit(a,[1,2]) #1,2번 인덱스 기준으로 3개 배열로 분할"
   ]
  },
  {
   "cell_type": "code",
   "execution_count": 99,
   "id": "320b8e1a",
   "metadata": {
    "ExecuteTime": {
     "end_time": "2021-07-30T03:15:22.221956Z",
     "start_time": "2021-07-30T03:15:22.210986Z"
    }
   },
   "outputs": [
    {
     "data": {
      "text/plain": [
       "[array([[0, 1],\n",
       "        [4, 5],\n",
       "        [8, 9]]),\n",
       " array([[ 2,  3],\n",
       "        [ 6,  7],\n",
       "        [10, 11]])]"
      ]
     },
     "execution_count": 99,
     "metadata": {},
     "output_type": "execute_result"
    }
   ],
   "source": [
    "np.hsplit(a,2) #세로축을 나눠 2개의 배열로 분할, 2번째 차원을 분할"
   ]
  },
  {
   "cell_type": "code",
   "execution_count": 101,
   "id": "920d3a55",
   "metadata": {
    "ExecuteTime": {
     "end_time": "2021-07-30T03:18:37.185833Z",
     "start_time": "2021-07-30T03:18:37.174840Z"
    }
   },
   "outputs": [
    {
     "data": {
      "text/plain": [
       "array([[[ 0,  1,  2,  3],\n",
       "        [ 4,  5,  6,  7],\n",
       "        [ 8,  9, 10, 11]],\n",
       "\n",
       "       [[12, 13, 14, 15],\n",
       "        [16, 17, 18, 19],\n",
       "        [20, 21, 22, 23]]])"
      ]
     },
     "execution_count": 101,
     "metadata": {},
     "output_type": "execute_result"
    }
   ],
   "source": [
    "b = np.arange(24).reshape(2,3,4)\n",
    "b"
   ]
  },
  {
   "cell_type": "code",
   "execution_count": 103,
   "id": "77e4811c",
   "metadata": {
    "ExecuteTime": {
     "end_time": "2021-07-30T03:19:15.765972Z",
     "start_time": "2021-07-30T03:19:15.753007Z"
    }
   },
   "outputs": [
    {
     "data": {
      "text/plain": [
       "[array([[[ 0,  1,  2,  3],\n",
       "         [ 4,  5,  6,  7],\n",
       "         [ 8,  9, 10, 11]]]),\n",
       " array([[[12, 13, 14, 15],\n",
       "         [16, 17, 18, 19],\n",
       "         [20, 21, 22, 23]]])]"
      ]
     },
     "execution_count": 103,
     "metadata": {},
     "output_type": "execute_result"
    }
   ],
   "source": [
    "np.vsplit(b,2) #첫번째 축(면)을 분할"
   ]
  },
  {
   "cell_type": "code",
   "execution_count": 105,
   "id": "960361b7",
   "metadata": {
    "ExecuteTime": {
     "end_time": "2021-07-30T03:20:28.786211Z",
     "start_time": "2021-07-30T03:20:28.768258Z"
    }
   },
   "outputs": [
    {
     "data": {
      "text/plain": [
       "[array([[[ 0,  1,  2,  3]],\n",
       " \n",
       "        [[12, 13, 14, 15]]]),\n",
       " array([[[ 4,  5,  6,  7]],\n",
       " \n",
       "        [[16, 17, 18, 19]]]),\n",
       " array([[[ 8,  9, 10, 11]],\n",
       " \n",
       "        [[20, 21, 22, 23]]])]"
      ]
     },
     "execution_count": 105,
     "metadata": {},
     "output_type": "execute_result"
    }
   ],
   "source": [
    "b_split = np.hsplit(b,3)\n",
    "b_split"
   ]
  },
  {
   "cell_type": "code",
   "execution_count": 106,
   "id": "4866c873",
   "metadata": {
    "ExecuteTime": {
     "end_time": "2021-07-30T03:20:49.004406Z",
     "start_time": "2021-07-30T03:20:48.999829Z"
    }
   },
   "outputs": [
    {
     "data": {
      "text/plain": [
       "(2, 1, 4)"
      ]
     },
     "execution_count": 106,
     "metadata": {},
     "output_type": "execute_result"
    }
   ],
   "source": [
    "b_split[0].shape"
   ]
  },
  {
   "cell_type": "code",
   "execution_count": 109,
   "id": "a528acba",
   "metadata": {
    "ExecuteTime": {
     "end_time": "2021-07-30T03:35:39.077314Z",
     "start_time": "2021-07-30T03:35:39.072295Z"
    }
   },
   "outputs": [
    {
     "data": {
      "text/plain": [
       "[array([[[ 0,  1],\n",
       "         [ 4,  5],\n",
       "         [ 8,  9]],\n",
       " \n",
       "        [[12, 13],\n",
       "         [16, 17],\n",
       "         [20, 21]]]),\n",
       " array([[[ 2,  3],\n",
       "         [ 6,  7],\n",
       "         [10, 11]],\n",
       " \n",
       "        [[14, 15],\n",
       "         [18, 19],\n",
       "         [22, 23]]])]"
      ]
     },
     "execution_count": 109,
     "metadata": {},
     "output_type": "execute_result"
    }
   ],
   "source": [
    "b_split = np.dsplit(b,2) #3번째 축(열)을 기준으로 2개를 분할\n",
    "b_split"
   ]
  },
  {
   "cell_type": "code",
   "execution_count": 110,
   "id": "0e58b4fc",
   "metadata": {
    "ExecuteTime": {
     "end_time": "2021-07-30T03:35:48.184063Z",
     "start_time": "2021-07-30T03:35:48.177077Z"
    }
   },
   "outputs": [
    {
     "data": {
      "text/plain": [
       "(2, 3, 2)"
      ]
     },
     "execution_count": 110,
     "metadata": {},
     "output_type": "execute_result"
    }
   ],
   "source": [
    "b_split[0].shape"
   ]
  },
  {
   "cell_type": "markdown",
   "id": "7d7b6d83",
   "metadata": {},
   "source": [
    "**- split(ary, indecies_or seciton, axis=?)**\n",
    "\n",
    "        * axis가 0이면 vsplit \n",
    "        * 1이면 hsplit\n",
    "        * 2이면 dsplit 3차원 이상에서 동작하며 dsplit()과 동일"
   ]
  },
  {
   "cell_type": "code",
   "execution_count": 111,
   "id": "0d187cff",
   "metadata": {
    "ExecuteTime": {
     "end_time": "2021-07-30T03:42:41.508365Z",
     "start_time": "2021-07-30T03:42:41.500387Z"
    }
   },
   "outputs": [
    {
     "data": {
      "text/plain": [
       "array([[ 0,  1,  2,  3,  4,  5,  6,  7,  8,  9],\n",
       "       [10, 11, 12, 13, 14, 15, 16, 17, 18, 19]])"
      ]
     },
     "execution_count": 111,
     "metadata": {},
     "output_type": "execute_result"
    }
   ],
   "source": [
    "a = np.arange(20).reshape(2,10)\n",
    "a"
   ]
  },
  {
   "cell_type": "code",
   "execution_count": 113,
   "id": "625b7e4c",
   "metadata": {
    "ExecuteTime": {
     "end_time": "2021-07-30T03:43:13.153965Z",
     "start_time": "2021-07-30T03:43:13.142977Z"
    }
   },
   "outputs": [
    {
     "data": {
      "text/plain": [
       "[array([[0, 1, 2, 3, 4, 5, 6, 7, 8, 9]]),\n",
       " array([[10, 11, 12, 13, 14, 15, 16, 17, 18, 19]])]"
      ]
     },
     "execution_count": 113,
     "metadata": {},
     "output_type": "execute_result"
    }
   ],
   "source": [
    "np.split(a, 2, axis=0) #vsplit과 동일"
   ]
  },
  {
   "cell_type": "code",
   "execution_count": 114,
   "id": "8f07766b",
   "metadata": {
    "ExecuteTime": {
     "end_time": "2021-07-30T03:43:39.845052Z",
     "start_time": "2021-07-30T03:43:39.830090Z"
    }
   },
   "outputs": [
    {
     "data": {
      "text/plain": [
       "[array([[ 0,  1,  2,  3,  4],\n",
       "        [10, 11, 12, 13, 14]]),\n",
       " array([[ 5,  6,  7,  8,  9],\n",
       "        [15, 16, 17, 18, 19]])]"
      ]
     },
     "execution_count": 114,
     "metadata": {},
     "output_type": "execute_result"
    }
   ],
   "source": [
    "np.split(a, 2, axis=1) #hsplit과 동일"
   ]
  },
  {
   "cell_type": "markdown",
   "id": "8cb304c1",
   "metadata": {},
   "source": [
    "**- array_split(ary, indecies_or seciton, axis=?)**\n",
    "\n",
    "    * split()과 차이점은 나눠지지 않는 정수로도 사용 가능"
   ]
  },
  {
   "cell_type": "code",
   "execution_count": 115,
   "id": "c8015874",
   "metadata": {
    "ExecuteTime": {
     "end_time": "2021-07-30T03:45:41.795138Z",
     "start_time": "2021-07-30T03:45:41.788139Z"
    }
   },
   "outputs": [
    {
     "data": {
      "text/plain": [
       "[array([[ 0,  1,  2,  3],\n",
       "        [10, 11, 12, 13]]),\n",
       " array([[ 4,  5,  6],\n",
       "        [14, 15, 16]]),\n",
       " array([[ 7,  8,  9],\n",
       "        [17, 18, 19]])]"
      ]
     },
     "execution_count": 115,
     "metadata": {},
     "output_type": "execute_result"
    }
   ],
   "source": [
    "np.array_split(a,3,axis=1)"
   ]
  },
  {
   "cell_type": "code",
   "execution_count": null,
   "id": "3f965d19",
   "metadata": {},
   "outputs": [],
   "source": []
  },
  {
   "cell_type": "code",
   "execution_count": null,
   "id": "5ac2859e",
   "metadata": {},
   "outputs": [],
   "source": []
  },
  {
   "cell_type": "code",
   "execution_count": null,
   "id": "cb475f74",
   "metadata": {},
   "outputs": [],
   "source": []
  },
  {
   "cell_type": "code",
   "execution_count": null,
   "id": "9e458d42",
   "metadata": {},
   "outputs": [],
   "source": []
  },
  {
   "cell_type": "code",
   "execution_count": null,
   "id": "2c2c3a14",
   "metadata": {},
   "outputs": [],
   "source": []
  },
  {
   "cell_type": "code",
   "execution_count": null,
   "id": "32f78c56",
   "metadata": {},
   "outputs": [],
   "source": []
  },
  {
   "cell_type": "code",
   "execution_count": null,
   "id": "fdd37529",
   "metadata": {},
   "outputs": [],
   "source": []
  },
  {
   "cell_type": "code",
   "execution_count": null,
   "id": "fae0250e",
   "metadata": {},
   "outputs": [],
   "source": []
  },
  {
   "cell_type": "code",
   "execution_count": null,
   "id": "28e46ab6",
   "metadata": {},
   "outputs": [],
   "source": []
  },
  {
   "cell_type": "code",
   "execution_count": null,
   "id": "69507476",
   "metadata": {},
   "outputs": [],
   "source": []
  }
 ],
 "metadata": {
  "kernelspec": {
   "display_name": "Python 3",
   "language": "python",
   "name": "python3"
  },
  "language_info": {
   "codemirror_mode": {
    "name": "ipython",
    "version": 3
   },
   "file_extension": ".py",
   "mimetype": "text/x-python",
   "name": "python",
   "nbconvert_exporter": "python",
   "pygments_lexer": "ipython3",
   "version": "3.8.8"
  },
  "toc": {
   "base_numbering": 1,
   "nav_menu": {},
   "number_sections": false,
   "sideBar": true,
   "skip_h1_title": false,
   "title_cell": "Table of Contents",
   "title_sidebar": "Contents",
   "toc_cell": false,
   "toc_position": {
    "height": "657.319px",
    "left": "41px",
    "top": "198.778px",
    "width": "380.667px"
   },
   "toc_section_display": true,
   "toc_window_display": true
  },
  "varInspector": {
   "cols": {
    "lenName": 16,
    "lenType": 16,
    "lenVar": 40
   },
   "kernels_config": {
    "python": {
     "delete_cmd_postfix": "",
     "delete_cmd_prefix": "del ",
     "library": "var_list.py",
     "varRefreshCmd": "print(var_dic_list())"
    },
    "r": {
     "delete_cmd_postfix": ") ",
     "delete_cmd_prefix": "rm(",
     "library": "var_list.r",
     "varRefreshCmd": "cat(var_dic_list()) "
    }
   },
   "types_to_exclude": [
    "module",
    "function",
    "builtin_function_or_method",
    "instance",
    "_Feature"
   ],
   "window_display": false
  }
 },
 "nbformat": 4,
 "nbformat_minor": 5
}
