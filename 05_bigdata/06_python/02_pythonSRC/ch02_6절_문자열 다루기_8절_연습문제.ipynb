{
 "cells": [
  {
   "cell_type": "markdown",
   "id": "aab17857",
   "metadata": {
    "ExecuteTime": {
     "end_time": "2021-07-20T03:21:40.843989Z",
     "start_time": "2021-07-20T03:21:40.825044Z"
    }
   },
   "source": [
    "<b><font size=\"6\" color=\"red\">ch02. 자료형과 연산자</font></b>"
   ]
  },
  {
   "cell_type": "markdown",
   "id": "dd4c80ed",
   "metadata": {},
   "source": [
    "## 6절 문자열 다루기"
   ]
  },
  {
   "cell_type": "markdown",
   "id": "bddf3a1b",
   "metadata": {},
   "source": [
    "- 문자열 슬라이싱 문자변수.[from:to:by]\n",
    "- len(문자열)\n",
    "- upper() 대문자로\n",
    "- lower() 소문자로\n",
    "- title() 각 단어의 앞글자만 대문자로\n",
    "- capitalize() 첫문자만 대문자로. 그외는 소문자로\n",
    "- count('찾을 문자열') '찾을 문자열'이 몇개 들어있는지 갯수 반환\n",
    "- find('찾을 문자열') '찾을 문자열'이 왼쪽부터 시작하여 몇번째 indexm에 있는지 index를 반환\n",
    "- rfind('찾을 문자열') '찾을 문자열'이 오른쪽부터 시작하여 몇번째 있는지 index를 반환 ('찾을 문자열'이 없으면 -1을 반환)\n",
    "- startswith('특정문자열') '특정문자열'로 시작하는지 여부 반환\n",
    "- endswith('특정문자열') '특정문자열'로 끝나는지 여부 반환\n",
    "- strip() 좌우 공백 제거(trim)\n",
    "- rstrip() 오른쪽 공백 제거\n",
    "- lstrip() 왼쪽 공백 제거\n",
    "- split() 문자열을 공백이나 다른 문자 기준으로 나누어 리스트로 반환\n",
    "- isdigit() 문자열이 숫자 문자열인지 반환\n",
    "- islower() 문자열이 소문자인지\n",
    "- isupper() 문자열이 대문자인지 여부 반환\n",
    "- replace(oldStr, newStr) 처음 나오는 oldStr을 newStr\n"
   ]
  },
  {
   "cell_type": "code",
   "execution_count": 1,
   "id": "fde72969",
   "metadata": {
    "ExecuteTime": {
     "end_time": "2021-07-20T02:57:06.106950Z",
     "start_time": "2021-07-20T02:57:06.096976Z"
    }
   },
   "outputs": [
    {
     "data": {
      "text/plain": [
       "('Python is eay. Python is smart. python', 38)"
      ]
     },
     "execution_count": 1,
     "metadata": {},
     "output_type": "execute_result"
    }
   ],
   "source": [
    "temp = 'Python is eay. Python is smart. python'\n",
    "#       12345678901234567890123456789012345678\n",
    "temp, len(temp)"
   ]
  },
  {
   "cell_type": "code",
   "execution_count": 3,
   "id": "a7111d32",
   "metadata": {
    "ExecuteTime": {
     "end_time": "2021-07-20T02:57:58.776588Z",
     "start_time": "2021-07-20T02:57:58.765626Z"
    }
   },
   "outputs": [
    {
     "name": "stdout",
     "output_type": "stream",
     "text": [
      "첫번째 글자는 P, 마지막 글자는 n\n"
     ]
    }
   ],
   "source": [
    "print('첫번째 글자는 {}, 마지막 글자는 {}'.format(temp[0],temp[-1]))"
   ]
  },
  {
   "cell_type": "code",
   "execution_count": 13,
   "id": "bfc5d129",
   "metadata": {
    "ExecuteTime": {
     "end_time": "2021-07-20T03:11:37.723296Z",
     "start_time": "2021-07-20T03:11:37.705338Z"
    }
   },
   "outputs": [
    {
     "name": "stdout",
     "output_type": "stream",
     "text": [
      "대문자로 : PYTHON IS EAY. PYTHON IS SMART. PYTHON\n",
      "소문자로 : python is eay. python is smart. python\n",
      "title() : Python Is Eay. Python Is Smart. Python\n",
      "capitalize() : Python is eay. python is smart. python\n",
      "python이 몇번 나오는지 : 1\n",
      "대소문자 구분없이 python이 몇번 나오는지 : 3\n",
      "Python이 첫index위치 : 0\n",
      "Python이 마지막 index위치 : 15\n",
      "Python이 시작하는 문자열인지 : True\n",
      "Python이 끝나는 문자열인지 : False\n",
      "Python대신 R로 변경 : R is eay. R is smart. python\n"
     ]
    }
   ],
   "source": [
    "temp = 'Python is eay. Python is smart. python'\n",
    "#       01234567890123456789012345678901234567\n",
    "print('대문자로 :', temp.upper())\n",
    "print('소문자로 :', temp.lower())\n",
    "print('title() :', temp.title())\n",
    "print('capitalize() :', temp.capitalize())\n",
    "print('python이 몇번 나오는지 :', temp.count('python'))\n",
    "print('대소문자 구분없이 python이 몇번 나오는지 :',temp.lower().count('python'))\n",
    "print('Python이 첫index위치 :', temp.find('Python'))\n",
    "print('Python이 마지막 index위치 :', temp.rfind('Python'))\n",
    "print('Python이 시작하는 문자열인지 :', temp.startswith('Python'))\n",
    "print('Python이 끝나는 문자열인지 :', temp.endswith('Python'))\n",
    "print('Python대신 R로 변경 :', temp.replace('Python','R'))\n"
   ]
  },
  {
   "cell_type": "code",
   "execution_count": 16,
   "id": "7f66e169",
   "metadata": {
    "ExecuteTime": {
     "end_time": "2021-07-20T03:15:03.212944Z",
     "start_time": "2021-07-20T03:15:03.193028Z"
    }
   },
   "outputs": [
    {
     "name": "stdout",
     "output_type": "stream",
     "text": [
      "strip() : [Python is easy]\n",
      "strip() : [Python is easy           ]\n",
      "strip() : [        Python is easy]\n"
     ]
    }
   ],
   "source": [
    "temp = \"        Python is easy           \"\n",
    "print(\"strip() : [{}]\".format(temp.strip()))\n",
    "print(\"strip() : [{}]\".format(temp.lstrip()))\n",
    "print(\"strip() : [{}]\".format(temp.rstrip()))"
   ]
  },
  {
   "cell_type": "code",
   "execution_count": 17,
   "id": "14963cbb",
   "metadata": {
    "ExecuteTime": {
     "end_time": "2021-07-20T03:17:09.462548Z",
     "start_time": "2021-07-20T03:17:09.458560Z"
    }
   },
   "outputs": [
    {
     "name": "stdout",
     "output_type": "stream",
     "text": [
      "space 단위로 temp를 분리(list로 반환) :  ['Python', 'is', 'easy']\n"
     ]
    }
   ],
   "source": [
    "print('space 단위로 temp를 분리(list로 반환) : ', temp.split())"
   ]
  },
  {
   "cell_type": "code",
   "execution_count": 18,
   "id": "3e6671cb",
   "metadata": {
    "ExecuteTime": {
     "end_time": "2021-07-20T03:18:21.642731Z",
     "start_time": "2021-07-20T03:18:21.633758Z"
    }
   },
   "outputs": [
    {
     "name": "stdout",
     "output_type": "stream",
     "text": [
      "- 단위로 date를 분리 : ['2021', '07', '20']\n"
     ]
    }
   ],
   "source": [
    "date = '2021-07-20'\n",
    "print('- 단위로 date를 분리 :', date.split('-'))"
   ]
  },
  {
   "cell_type": "code",
   "execution_count": 22,
   "id": "26167ccb",
   "metadata": {
    "ExecuteTime": {
     "end_time": "2021-07-20T03:40:08.110598Z",
     "start_time": "2021-07-20T03:40:08.103623Z"
    }
   },
   "outputs": [
    {
     "name": "stdout",
     "output_type": "stream",
     "text": [
      "분리된 temp : ['Python', 'Java -R -C']\n",
      "다시 join한 temp:  Python/Java -R -C\n"
     ]
    }
   ],
   "source": [
    "temp = \"Python - Java -R -C\"\n",
    "splited_temp = temp.split(' - ')\n",
    "print('분리된 temp :', splited_temp) # [python, java, R, C]\n",
    "join_temp = '/'.join(splited_temp)\n",
    "print('다시 join한 temp: ', join_temp)"
   ]
  },
  {
   "cell_type": "code",
   "execution_count": 26,
   "id": "2470c672",
   "metadata": {
    "ExecuteTime": {
     "end_time": "2021-07-20T03:42:49.152235Z",
     "start_time": "2021-07-20T03:42:49.138273Z"
    }
   },
   "outputs": [
    {
     "name": "stdout",
     "output_type": "stream",
     "text": [
      "num이 숫자문자인지 : True\n",
      "temp가 대문자인지 : True\n",
      "temp가 소문자인지 : False\n"
     ]
    }
   ],
   "source": [
    "num = '100'\n",
    "print('num이 숫자문자인지 :', num.isdigit())\n",
    "temp = 'PYTHON'\n",
    "print('temp가 대문자인지 :', temp.isupper())\n",
    "print('temp가 소문자인지 :', temp.islower())"
   ]
  },
  {
   "cell_type": "code",
   "execution_count": 27,
   "id": "2cab2fdd",
   "metadata": {
    "ExecuteTime": {
     "end_time": "2021-07-20T03:43:35.895106Z",
     "start_time": "2021-07-20T03:43:35.892114Z"
    }
   },
   "outputs": [
    {
     "name": "stdout",
     "output_type": "stream",
     "text": [
      "2\n",
      "2\n"
     ]
    }
   ],
   "source": [
    "print('ABCD'.find('C'))\n",
    "print('ABCD'.index('C'))"
   ]
  },
  {
   "cell_type": "code",
   "execution_count": 28,
   "id": "3044a49d",
   "metadata": {
    "ExecuteTime": {
     "end_time": "2021-07-20T03:43:52.701055Z",
     "start_time": "2021-07-20T03:43:52.687092Z"
    }
   },
   "outputs": [
    {
     "name": "stdout",
     "output_type": "stream",
     "text": [
      "-1\n"
     ]
    },
    {
     "ename": "ValueError",
     "evalue": "substring not found",
     "output_type": "error",
     "traceback": [
      "\u001b[1;31m---------------------------------------------------------------------------\u001b[0m",
      "\u001b[1;31mValueError\u001b[0m                                Traceback (most recent call last)",
      "\u001b[1;32m<ipython-input-28-97b3972b18bd>\u001b[0m in \u001b[0;36m<module>\u001b[1;34m\u001b[0m\n\u001b[0;32m      1\u001b[0m \u001b[0mprint\u001b[0m\u001b[1;33m(\u001b[0m\u001b[1;34m'ABCD'\u001b[0m\u001b[1;33m.\u001b[0m\u001b[0mfind\u001b[0m\u001b[1;33m(\u001b[0m\u001b[1;34m'Z'\u001b[0m\u001b[1;33m)\u001b[0m\u001b[1;33m)\u001b[0m\u001b[1;33m\u001b[0m\u001b[1;33m\u001b[0m\u001b[0m\n\u001b[1;32m----> 2\u001b[1;33m \u001b[0mprint\u001b[0m\u001b[1;33m(\u001b[0m\u001b[1;34m'ABCD'\u001b[0m\u001b[1;33m.\u001b[0m\u001b[0mindex\u001b[0m\u001b[1;33m(\u001b[0m\u001b[1;34m'Z'\u001b[0m\u001b[1;33m)\u001b[0m\u001b[1;33m)\u001b[0m\u001b[1;33m\u001b[0m\u001b[1;33m\u001b[0m\u001b[0m\n\u001b[0m",
      "\u001b[1;31mValueError\u001b[0m: substring not found"
     ]
    }
   ],
   "source": [
    "print('ABCD'.find('Z'))\n",
    "print('ABCD'.index('Z')) # 에러남"
   ]
  },
  {
   "cell_type": "code",
   "execution_count": 30,
   "id": "5ed8104a",
   "metadata": {
    "ExecuteTime": {
     "end_time": "2021-07-20T03:47:04.462011Z",
     "start_time": "2021-07-20T03:47:04.445014Z"
    }
   },
   "outputs": [
    {
     "name": "stdout",
     "output_type": "stream",
     "text": [
      "A\n",
      "B\n",
      "C\n"
     ]
    }
   ],
   "source": [
    "str_='ABC'\n",
    "for s in str_list:\n",
    "    print(s)"
   ]
  },
  {
   "cell_type": "code",
   "execution_count": 29,
   "id": "f50267db",
   "metadata": {
    "ExecuteTime": {
     "end_time": "2021-07-20T03:46:12.352929Z",
     "start_time": "2021-07-20T03:46:12.343953Z"
    }
   },
   "outputs": [
    {
     "name": "stdout",
     "output_type": "stream",
     "text": [
      "A\n",
      "B\n",
      "C\n"
     ]
    }
   ],
   "source": [
    "str_list = ['A','B','C']\n",
    "for s in str_list:\n",
    "    print(s)"
   ]
  },
  {
   "cell_type": "code",
   "execution_count": 31,
   "id": "dd122cf7",
   "metadata": {
    "ExecuteTime": {
     "end_time": "2021-07-20T03:48:00.985558Z",
     "start_time": "2021-07-20T03:48:00.970598Z"
    }
   },
   "outputs": [
    {
     "data": {
      "text/plain": [
       "['__add__',\n",
       " '__class__',\n",
       " '__contains__',\n",
       " '__delattr__',\n",
       " '__dir__',\n",
       " '__doc__',\n",
       " '__eq__',\n",
       " '__format__',\n",
       " '__ge__',\n",
       " '__getattribute__',\n",
       " '__getitem__',\n",
       " '__getnewargs__',\n",
       " '__gt__',\n",
       " '__hash__',\n",
       " '__init__',\n",
       " '__init_subclass__',\n",
       " '__iter__',\n",
       " '__le__',\n",
       " '__len__',\n",
       " '__lt__',\n",
       " '__mod__',\n",
       " '__mul__',\n",
       " '__ne__',\n",
       " '__new__',\n",
       " '__reduce__',\n",
       " '__reduce_ex__',\n",
       " '__repr__',\n",
       " '__rmod__',\n",
       " '__rmul__',\n",
       " '__setattr__',\n",
       " '__sizeof__',\n",
       " '__str__',\n",
       " '__subclasshook__',\n",
       " 'capitalize',\n",
       " 'casefold',\n",
       " 'center',\n",
       " 'count',\n",
       " 'encode',\n",
       " 'endswith',\n",
       " 'expandtabs',\n",
       " 'find',\n",
       " 'format',\n",
       " 'format_map',\n",
       " 'index',\n",
       " 'isalnum',\n",
       " 'isalpha',\n",
       " 'isascii',\n",
       " 'isdecimal',\n",
       " 'isdigit',\n",
       " 'isidentifier',\n",
       " 'islower',\n",
       " 'isnumeric',\n",
       " 'isprintable',\n",
       " 'isspace',\n",
       " 'istitle',\n",
       " 'isupper',\n",
       " 'join',\n",
       " 'ljust',\n",
       " 'lower',\n",
       " 'lstrip',\n",
       " 'maketrans',\n",
       " 'partition',\n",
       " 'replace',\n",
       " 'rfind',\n",
       " 'rindex',\n",
       " 'rjust',\n",
       " 'rpartition',\n",
       " 'rsplit',\n",
       " 'rstrip',\n",
       " 'split',\n",
       " 'splitlines',\n",
       " 'startswith',\n",
       " 'strip',\n",
       " 'swapcase',\n",
       " 'title',\n",
       " 'translate',\n",
       " 'upper',\n",
       " 'zfill']"
      ]
     },
     "execution_count": 31,
     "metadata": {},
     "output_type": "execute_result"
    }
   ],
   "source": [
    "# 문자열을 다룰 수 있는 함수들의 목록\n",
    "dir(str)"
   ]
  },
  {
   "cell_type": "markdown",
   "id": "7d99322b",
   "metadata": {},
   "source": [
    "# 7절 날짜 다루기"
   ]
  },
  {
   "cell_type": "markdown",
   "id": "aede71c6",
   "metadata": {},
   "source": [
    "## 7.1 날짜"
   ]
  },
  {
   "cell_type": "code",
   "execution_count": 33,
   "id": "053c71fb",
   "metadata": {
    "ExecuteTime": {
     "end_time": "2021-07-20T03:52:04.010017Z",
     "start_time": "2021-07-20T03:52:04.001975Z"
    }
   },
   "outputs": [
    {
     "data": {
      "text/plain": [
       "datetime.date(2021, 7, 20)"
      ]
     },
     "execution_count": 33,
     "metadata": {},
     "output_type": "execute_result"
    }
   ],
   "source": [
    "from datetime import date\n",
    "someday = date(2021, 7,20)\n",
    "someday"
   ]
  },
  {
   "cell_type": "code",
   "execution_count": 36,
   "id": "61d89648",
   "metadata": {
    "ExecuteTime": {
     "end_time": "2021-07-20T03:53:30.010918Z",
     "start_time": "2021-07-20T03:53:30.000933Z"
    }
   },
   "outputs": [
    {
     "name": "stdout",
     "output_type": "stream",
     "text": [
      "2021년 07월 20일 00시 00분\n"
     ]
    }
   ],
   "source": [
    "print(\"{:%Y년 %m월 %d일 %H시 %M분}\".format(someday))"
   ]
  },
  {
   "cell_type": "code",
   "execution_count": 37,
   "id": "279a371f",
   "metadata": {
    "ExecuteTime": {
     "end_time": "2021-07-20T03:54:17.244882Z",
     "start_time": "2021-07-20T03:54:17.232873Z"
    }
   },
   "outputs": [
    {
     "data": {
      "text/plain": [
       "datetime.date(2021, 7, 20)"
      ]
     },
     "execution_count": 37,
     "metadata": {},
     "output_type": "execute_result"
    }
   ],
   "source": [
    "today = date.today() # 오늘\n",
    "today"
   ]
  },
  {
   "cell_type": "markdown",
   "id": "bcfe18ac",
   "metadata": {},
   "source": [
    "## 7.2 시간"
   ]
  },
  {
   "cell_type": "code",
   "execution_count": 96,
   "id": "98c509fe",
   "metadata": {
    "ExecuteTime": {
     "end_time": "2021-07-20T05:38:21.223832Z",
     "start_time": "2021-07-20T05:38:21.212836Z"
    }
   },
   "outputs": [
    {
     "name": "stdout",
     "output_type": "stream",
     "text": [
      "13:00:00\n",
      "1900년01월01일 13:01:00\n"
     ]
    }
   ],
   "source": [
    "from datetime import time\n",
    "t = time(13)\n",
    "print(t)\n",
    "print(\"{:%Y년%m월%d일 %H:%m:%S}\".format(t))"
   ]
  },
  {
   "cell_type": "code",
   "execution_count": 40,
   "id": "3260abeb",
   "metadata": {
    "ExecuteTime": {
     "end_time": "2021-07-20T03:59:54.050811Z",
     "start_time": "2021-07-20T03:59:54.038811Z"
    }
   },
   "outputs": [
    {
     "data": {
      "text/plain": [
       "datetime.time(13, 20, 5)"
      ]
     },
     "execution_count": 40,
     "metadata": {},
     "output_type": "execute_result"
    }
   ],
   "source": [
    "t2= time(13,20,5)\n",
    "t2"
   ]
  },
  {
   "cell_type": "code",
   "execution_count": 41,
   "id": "d4c46570",
   "metadata": {
    "ExecuteTime": {
     "end_time": "2021-07-20T04:00:11.263799Z",
     "start_time": "2021-07-20T04:00:11.256818Z"
    }
   },
   "outputs": [
    {
     "name": "stdout",
     "output_type": "stream",
     "text": [
      "18:20:01.000100\n"
     ]
    }
   ],
   "source": [
    "t3 = time(18,20,1,100)\n",
    "print(t3)"
   ]
  },
  {
   "cell_type": "markdown",
   "id": "754f3a9f",
   "metadata": {},
   "source": [
    "# 7절 연습문제"
   ]
  },
  {
   "cell_type": "code",
   "execution_count": 49,
   "id": "970c480b",
   "metadata": {
    "ExecuteTime": {
     "end_time": "2021-07-20T04:11:44.506362Z",
     "start_time": "2021-07-20T04:11:44.498751Z"
    }
   },
   "outputs": [
    {
     "name": "stdout",
     "output_type": "stream",
     "text": [
      "홍길동님의 나이는 23살입니다.\n"
     ]
    }
   ],
   "source": [
    "#1. 이름과 나이 변수를 다음 형식으로 출력하도록 format() 함수를 이용해 형식화하세요\n",
    "#[출력형식 : 홍길동님의 나이는 23살입니다]\n",
    "name = \"홍길동\"\n",
    "age = 23\n",
    "print(\"{}님의 나이는 {}살입니다.\".format(name,age))\n"
   ]
  },
  {
   "cell_type": "code",
   "execution_count": 51,
   "id": "54e252b6",
   "metadata": {
    "ExecuteTime": {
     "end_time": "2021-07-20T04:16:20.483482Z",
     "start_time": "2021-07-20T04:16:17.188521Z"
    }
   },
   "outputs": [
    {
     "name": "stdout",
     "output_type": "stream",
     "text": [
      "숫자입력5\n",
      "숫자입력3\n",
      "덧샘:8, 뺄샘:2, 곱샘:15, 나눗셈:1.6666666666666667, 몫:1, 나머지:2\n"
     ]
    }
   ],
   "source": [
    "#2. 두 정수를 입력받아 두 수의 덧셈, 뺄셈, 곱셈, 나눗셈, 몫, 나머지를 출력하세요\n",
    "a = int(input(\"숫자입력\"))\n",
    "b= int(input(\"숫자입력\"))\n",
    "print(\"덧샘:{}, 뺄샘:{}, 곱샘:{}, 나눗셈:{}, 몫:{}, 나머지:{}\".format(a+b, a-b, a*b, a/b, a//b, a%b))"
   ]
  },
  {
   "cell_type": "code",
   "execution_count": 65,
   "id": "88fbee39",
   "metadata": {
    "ExecuteTime": {
     "end_time": "2021-07-20T04:31:00.870597Z",
     "start_time": "2021-07-20T04:31:00.862586Z"
    }
   },
   "outputs": [
    {
     "name": "stdout",
     "output_type": "stream",
     "text": [
      "World Hello\n"
     ]
    }
   ],
   "source": [
    "#3. 문자열의 분리하기와 합치기 기능을 이용하여 ‘Hello World’를 ‘World Hello’로 출력하세요\n",
    "a = \"Hello World\"\n",
    "print(a.split()[1]+\" \"+a.split()[0])"
   ]
  },
  {
   "cell_type": "code",
   "execution_count": 70,
   "id": "60b21612",
   "metadata": {
    "ExecuteTime": {
     "end_time": "2021-07-20T04:33:08.662852Z",
     "start_time": "2021-07-20T04:33:08.651882Z"
    }
   },
   "outputs": [
    {
     "name": "stdout",
     "output_type": "stream",
     "text": [
      "bcdefa\n"
     ]
    }
   ],
   "source": [
    "# 4. x = 'abcdef＇를 이용하여 ‘bcdefa’로 출력하세요(문자 슬라이싱이용).\n",
    "x= 'abcdef'\n",
    "print(x[1:]+x[0])"
   ]
  },
  {
   "cell_type": "code",
   "execution_count": 73,
   "id": "fde8676b",
   "metadata": {
    "ExecuteTime": {
     "end_time": "2021-07-20T04:38:09.705642Z",
     "start_time": "2021-07-20T04:38:09.687691Z"
    }
   },
   "outputs": [
    {
     "name": "stdout",
     "output_type": "stream",
     "text": [
      "fedcba\n"
     ]
    }
   ],
   "source": [
    "# 5. x = ‘abcdef’를 이용하여 ‘fedcba’로 출력하세요\n",
    "x = 'abcdef'\n",
    "print(x[6::-1])"
   ]
  },
  {
   "cell_type": "code",
   "execution_count": 76,
   "id": "48bb34cf",
   "metadata": {
    "ExecuteTime": {
     "end_time": "2021-07-20T04:42:55.712272Z",
     "start_time": "2021-07-20T04:42:53.895596Z"
    }
   },
   "outputs": [
    {
     "name": "stdout",
     "output_type": "stream",
     "text": [
      "온도를 입력하세요29\n",
      "화씨:84.20\n"
     ]
    }
   ],
   "source": [
    "#6. 오늘의 온도를 섭씨온도로 입력받아 화씨 온도로 변환하는 프로그램을 작성하세요.\n",
    "#화씨 온도는 소수점 두번째 자리까지 출려되어야 합니다(다음은 섭씨와 화씨의 변환 공식입니다. C는 섭씨, F는 화씨)\n",
    "#C = (F-32) / 1.8\n",
    "#F = (C*1.8) + 32\n",
    "\n",
    "C=int(input(\"온도를 입력하세요\"))\n",
    "F = (C*1.8) + 32\n",
    "print(\"화씨:{:5.2f}\".format(F))\n"
   ]
  },
  {
   "cell_type": "markdown",
   "id": "e032ead3",
   "metadata": {},
   "source": [
    "## 7. 다음 중 변수 선언으로 잘못된 것은?\n",
    "- ① for\n",
    "- ② 10th\n",
    "- ③ Student.name\n",
    "- ④ _1234\n",
    "\n",
    "## 답: 1,2,3"
   ]
  },
  {
   "cell_type": "markdown",
   "id": "e2687f3c",
   "metadata": {},
   "source": [
    "## 8. 다음의 코드를 실행는?\n",
    "- text = “Seoul A001 – programming with python\"\n",
    "- Print(text[:4]+text[-1] +text.split()[0] )\n",
    "\n",
    "## 답: SeoulnSeoul\n"
   ]
  },
  {
   "cell_type": "markdown",
   "id": "007b3532",
   "metadata": {},
   "source": [
    "## 9. 다음 중 파이썬 3.x 버전에서 연산식과 그 결과의 출력이 잘못된 것은?\n",
    "- ① 수식 8//2 결과 4\n",
    "- ② 수식 8/2 결과 4\n",
    "- ③ 수식 8 **2 결과 64\n",
    "\n",
    "## 답: 2"
   ]
  },
  {
   "cell_type": "code",
   "execution_count": null,
   "id": "e7451cad",
   "metadata": {},
   "outputs": [],
   "source": []
  },
  {
   "cell_type": "code",
   "execution_count": null,
   "id": "a3679a7f",
   "metadata": {},
   "outputs": [],
   "source": []
  },
  {
   "cell_type": "code",
   "execution_count": null,
   "id": "af2b9249",
   "metadata": {},
   "outputs": [],
   "source": []
  },
  {
   "cell_type": "code",
   "execution_count": null,
   "id": "65b79720",
   "metadata": {},
   "outputs": [],
   "source": []
  },
  {
   "cell_type": "code",
   "execution_count": null,
   "id": "b3a46094",
   "metadata": {},
   "outputs": [],
   "source": []
  },
  {
   "cell_type": "code",
   "execution_count": null,
   "id": "10607df3",
   "metadata": {},
   "outputs": [],
   "source": []
  },
  {
   "cell_type": "code",
   "execution_count": null,
   "id": "0fccf455",
   "metadata": {},
   "outputs": [],
   "source": []
  },
  {
   "cell_type": "code",
   "execution_count": null,
   "id": "19cb4496",
   "metadata": {},
   "outputs": [],
   "source": []
  },
  {
   "cell_type": "code",
   "execution_count": null,
   "id": "da672efa",
   "metadata": {},
   "outputs": [],
   "source": []
  },
  {
   "cell_type": "code",
   "execution_count": null,
   "id": "42e75b62",
   "metadata": {},
   "outputs": [],
   "source": []
  },
  {
   "cell_type": "code",
   "execution_count": null,
   "id": "faa96c80",
   "metadata": {},
   "outputs": [],
   "source": []
  },
  {
   "cell_type": "code",
   "execution_count": null,
   "id": "092b439a",
   "metadata": {},
   "outputs": [],
   "source": []
  },
  {
   "cell_type": "code",
   "execution_count": null,
   "id": "4714f6f9",
   "metadata": {},
   "outputs": [],
   "source": []
  },
  {
   "cell_type": "code",
   "execution_count": null,
   "id": "a88581a6",
   "metadata": {},
   "outputs": [],
   "source": []
  },
  {
   "cell_type": "code",
   "execution_count": null,
   "id": "9a8eafb8",
   "metadata": {},
   "outputs": [],
   "source": []
  },
  {
   "cell_type": "code",
   "execution_count": null,
   "id": "b20c840e",
   "metadata": {},
   "outputs": [],
   "source": []
  },
  {
   "cell_type": "code",
   "execution_count": null,
   "id": "88718caa",
   "metadata": {},
   "outputs": [],
   "source": []
  },
  {
   "cell_type": "code",
   "execution_count": null,
   "id": "8848f90e",
   "metadata": {},
   "outputs": [],
   "source": []
  },
  {
   "cell_type": "code",
   "execution_count": null,
   "id": "bd00191d",
   "metadata": {},
   "outputs": [],
   "source": []
  },
  {
   "cell_type": "code",
   "execution_count": null,
   "id": "841f5291",
   "metadata": {},
   "outputs": [],
   "source": []
  },
  {
   "cell_type": "code",
   "execution_count": null,
   "id": "a81d8f63",
   "metadata": {},
   "outputs": [],
   "source": []
  },
  {
   "cell_type": "code",
   "execution_count": null,
   "id": "a05620ac",
   "metadata": {},
   "outputs": [],
   "source": []
  },
  {
   "cell_type": "code",
   "execution_count": null,
   "id": "22d8ac7e",
   "metadata": {},
   "outputs": [],
   "source": []
  },
  {
   "cell_type": "code",
   "execution_count": null,
   "id": "bf0f577f",
   "metadata": {},
   "outputs": [],
   "source": []
  },
  {
   "cell_type": "code",
   "execution_count": null,
   "id": "c505eab1",
   "metadata": {},
   "outputs": [],
   "source": []
  }
 ],
 "metadata": {
  "kernelspec": {
   "display_name": "Python 3",
   "language": "python",
   "name": "python3"
  },
  "language_info": {
   "codemirror_mode": {
    "name": "ipython",
    "version": 3
   },
   "file_extension": ".py",
   "mimetype": "text/x-python",
   "name": "python",
   "nbconvert_exporter": "python",
   "pygments_lexer": "ipython3",
   "version": "3.8.8"
  },
  "toc": {
   "base_numbering": 1,
   "nav_menu": {},
   "number_sections": false,
   "sideBar": true,
   "skip_h1_title": false,
   "title_cell": "Table of Contents",
   "title_sidebar": "Contents",
   "toc_cell": false,
   "toc_position": {},
   "toc_section_display": true,
   "toc_window_display": true
  },
  "varInspector": {
   "cols": {
    "lenName": 16,
    "lenType": 16,
    "lenVar": 40
   },
   "kernels_config": {
    "python": {
     "delete_cmd_postfix": "",
     "delete_cmd_prefix": "del ",
     "library": "var_list.py",
     "varRefreshCmd": "print(var_dic_list())"
    },
    "r": {
     "delete_cmd_postfix": ") ",
     "delete_cmd_prefix": "rm(",
     "library": "var_list.r",
     "varRefreshCmd": "cat(var_dic_list()) "
    }
   },
   "position": {
    "height": "479px",
    "left": "1550px",
    "right": "20px",
    "top": "120px",
    "width": "350px"
   },
   "types_to_exclude": [
    "module",
    "function",
    "builtin_function_or_method",
    "instance",
    "_Feature"
   ],
   "window_display": true
  }
 },
 "nbformat": 4,
 "nbformat_minor": 5
}
