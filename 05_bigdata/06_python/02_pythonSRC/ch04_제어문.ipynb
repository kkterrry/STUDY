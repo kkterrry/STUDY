{
 "cells": [
  {
   "cell_type": "markdown",
   "id": "459565dd",
   "metadata": {},
   "source": [
    "<b><font size=\"6\" color=\"red\">ch04. 제어문</font></b>\n",
    "- if문, for-in문, while문, 중첩가능 중첩루프 탈출"
   ]
  },
  {
   "cell_type": "markdown",
   "id": "a33a9a90",
   "metadata": {},
   "source": [
    "# 1절. 조건문(if)"
   ]
  },
  {
   "cell_type": "code",
   "execution_count": null,
   "id": "c5f54d2a",
   "metadata": {},
   "outputs": [],
   "source": []
  },
  {
   "cell_type": "code",
   "execution_count": 3,
   "id": "a74392cd",
   "metadata": {
    "ExecuteTime": {
     "end_time": "2021-07-21T03:16:18.052555Z",
     "start_time": "2021-07-21T03:14:53.715324Z"
    }
   },
   "outputs": [
    {
     "name": "stdout",
     "output_type": "stream",
     "text": [
      "Enter your score >80\n",
      "분발하세요\n",
      "점수를 입력받아 잘한 사람에게 메세지 출력\n"
     ]
    }
   ],
   "source": [
    "score = int(input('Enter your score >'))\n",
    "if score >= 90 :\n",
    "    print('참 잘했어요')\n",
    "    print('다음에도 기대할께요')\n",
    "else:\n",
    "    print('분발하세요')\n",
    "print('점수를 입력받아 잘한 사람에게 메세지 출력')"
   ]
  },
  {
   "cell_type": "code",
   "execution_count": 4,
   "id": "090a7764",
   "metadata": {
    "ExecuteTime": {
     "end_time": "2021-07-21T03:34:29.177723Z",
     "start_time": "2021-07-21T03:34:27.296795Z"
    }
   },
   "outputs": [
    {
     "name": "stdout",
     "output_type": "stream",
     "text": [
      "Enter your score >95\n",
      "입력하신 점수는 95점이고, A등급\n"
     ]
    }
   ],
   "source": [
    "# 점수를 입력받아 학점 출력(ABCDF, 유요하지 않은 점수)\n",
    "score = int(input('Enter your score >'))\n",
    "if 90 <= score <= 100:\n",
    "    grade = 'A'\n",
    "elif 80 <= score < 90:\n",
    "    grade ='B'\n",
    "elif 70 <= score < 80:\n",
    "    grade ='C'\n",
    "elif 60 <= score < 70:\n",
    "    grade ='D'\n",
    "elif 0 <= score < 60:\n",
    "    grade = 'F'\n",
    "else:\n",
    "    grade = '유효하지 않은 점수'\n",
    "    \n",
    "print(\"입력하신 점수는 {}점이고, {}등급\".format(score, grade))"
   ]
  },
  {
   "cell_type": "markdown",
   "id": "0d23c46f",
   "metadata": {},
   "source": [
    "# 2절. 반복문"
   ]
  },
  {
   "cell_type": "markdown",
   "id": "79e942da",
   "metadata": {},
   "source": [
    "## 2.1 for - in문\n",
    "```\n",
    "for 변수 in 나열가능한 자료:\n",
    "    반복할 문장1\n",
    "    반복할 문장2\n",
    "else:\n",
    "    변수에 값이 할당되지 않은 경우 한번 실행할 문장(else구문은 선택사항)\n",
    "```"
   ]
  },
  {
   "cell_type": "code",
   "execution_count": 5,
   "id": "f6534392",
   "metadata": {
    "ExecuteTime": {
     "end_time": "2021-07-21T03:41:39.889607Z",
     "start_time": "2021-07-21T03:41:39.878635Z"
    }
   },
   "outputs": [
    {
     "name": "stdout",
     "output_type": "stream",
     "text": [
      "1\t3\t5\t7\t9\t\n",
      "DONE\n",
      "END\n"
     ]
    }
   ],
   "source": [
    "for i in range(1, 10, 2):\n",
    "    print(i, end='\\t')\n",
    "else:\n",
    "    print(\"\\nDONE\")\n",
    "print('END')"
   ]
  },
  {
   "cell_type": "markdown",
   "id": "fa8c1d92",
   "metadata": {},
   "source": [
    "## 2.2 while문\n",
    "```\n",
    "while 조건:\n",
    "    반복할 문장1\n",
    "    반복할 문장2\n",
    "else:\n",
    "    조건이 거짓일 경우 한번 실행할 문장(else구문 선택사항)\n",
    "```"
   ]
  },
  {
   "cell_type": "code",
   "execution_count": 8,
   "id": "ce097dbb",
   "metadata": {
    "ExecuteTime": {
     "end_time": "2021-07-21T03:48:11.502060Z",
     "start_time": "2021-07-21T03:48:11.487586Z"
    }
   },
   "outputs": [
    {
     "name": "stdout",
     "output_type": "stream",
     "text": [
      "1~100까지 짝수의 합은 2550\n"
     ]
    }
   ],
   "source": [
    "# 1~100까지 짝수의 합을 계산하고 출력하시오\n",
    "sum = 0; # 누적\n",
    "i = 1\n",
    "while i <= 100:\n",
    "    if i%2 == 0:\n",
    "        sum += i\n",
    "    i += 1\n",
    "else:\n",
    "    # print(\"i값이 {}\".format(i))\n",
    "    pass #아무것도 하지말고 넘어가라는 명령어\n",
    "print(\"1~100까지 짝수의 합은\", sum)"
   ]
  },
  {
   "cell_type": "markdown",
   "id": "0309b12a",
   "metadata": {},
   "source": [
    "## 2.3 break, continue"
   ]
  },
  {
   "cell_type": "code",
   "execution_count": 16,
   "id": "64a92870",
   "metadata": {
    "ExecuteTime": {
     "end_time": "2021-07-21T04:06:46.483294Z",
     "start_time": "2021-07-21T04:06:40.892366Z"
    }
   },
   "outputs": [
    {
     "name": "stdout",
     "output_type": "stream",
     "text": [
      "숫자입력10\n",
      "10과 89사이 수입니다.\n",
      "숫자입력89\n",
      "정답: 89\n"
     ]
    }
   ],
   "source": [
    "# 숫자 찾기 게임\n",
    "'''\n",
    "1~100 사이의 정수를 맞추는 프로그램 구현하시오\n",
    "(프로그램 안에서 임의의 숫자가 만들어지고, 그 숫자를 맞추도록 합니다.)\n",
    "방법 1. 숫자가 틀리면 up, down을 알려주고 숫자를 맞추면 종료합니다.\n",
    "방법 2. 숫자가 틀리면 min ~ max 사이의 수라고 알려주고 숫자를 맞추면 종료합니다.\n",
    "'''\n",
    "import random\n",
    "#random.seed(21)\n",
    "a = random.randint(1,100)\n",
    "\n",
    "# while 1:\n",
    "#     b=int(input(\"숫자입력\"))\n",
    "#     if(a>b):\n",
    "#         print(\"up\")\n",
    "#     elif(a<b):\n",
    "#         print(\"down\")\n",
    "#     else:\n",
    "#         print(\"정답: {}\".format(b))\n",
    "#         break\n",
    "\n",
    "while 1:\n",
    "    b=int(input(\"숫자입력\"))\n",
    "    if a<b:\n",
    "        print(\"{}과 {}사이 수입니다.\".format(a,b))\n",
    "    elif a>b:\n",
    "        print(\"{}과 {}사이 수입니다.\".format(b,a))\n",
    "    else:\n",
    "        print(\"정답: {}\".format(b))\n",
    "        break\n",
    "        \n"
   ]
  },
  {
   "cell_type": "code",
   "execution_count": 17,
   "id": "02496eb3",
   "metadata": {
    "ExecuteTime": {
     "end_time": "2021-07-21T04:14:42.063847Z",
     "start_time": "2021-07-21T04:14:26.189962Z"
    }
   },
   "outputs": [
    {
     "name": "stdout",
     "output_type": "stream",
     "text": [
      "54\n",
      "1-100사이의 수를 입력하세요50\n",
      "up\n",
      "1-100사이의 수를 입력하세요61\n",
      "down\n",
      "1-100사이의 수를 입력하세요54\n",
      "축하축하\n"
     ]
    }
   ],
   "source": [
    "#방법 1\n",
    "import random\n",
    "randomNum = random.randint(1,100) # 컴퓨터 임의수\n",
    "inputNum = 0 # 사용자 선택수\n",
    "print(randomNum)\n",
    "while randomNum != inputNum:\n",
    "    inputNum = int(input(\"1-100사이의 수를 입력하세요\"))\n",
    "    if randomNum < inputNum:\n",
    "        print(\"down\")\n",
    "    elif randomNum > inputNum:\n",
    "        print(\"up\")\n",
    "    else:\n",
    "        print(\"축하축하\")\n",
    "        "
   ]
  },
  {
   "cell_type": "code",
   "execution_count": 19,
   "id": "f22b526e",
   "metadata": {
    "ExecuteTime": {
     "end_time": "2021-07-21T04:20:48.351509Z",
     "start_time": "2021-07-21T04:20:29.386997Z"
    }
   },
   "outputs": [
    {
     "name": "stdout",
     "output_type": "stream",
     "text": [
      "37\n",
      "1~100사이의 수를 맞춰봐 : 50\n",
      "1와 49사이\n",
      "1~49사이의 수를 맞춰봐 : 10\n",
      "9와 49사이\n",
      "9~49사이의 수를 맞춰봐 : 37\n",
      "축하축하\n"
     ]
    }
   ],
   "source": [
    "#방법 2\n",
    "import random\n",
    "randomNum = random.randint(1,100) # 컴퓨터 임의수\n",
    "inputNum = 0 # 사용자 선택수\n",
    "min=1\n",
    "max=100\n",
    "print(randomNum)\n",
    "while randomNum != inputNum:\n",
    "    print(\"{}~{}사이의 수를 맞춰봐\".format(min, max), end=' : ')\n",
    "    inputNum = int(input())\n",
    "    if randomNum < inputNum:\n",
    "        max=inputNum-1\n",
    "        print(\"{}와 {}사이\".format(min,max))\n",
    "    elif randomNum > inputNum:\n",
    "        min=inputNum+1\n",
    "        print(\"{}와 {}사이\".format(min,max))\n",
    "    else:\n",
    "        print(\"축하축하\")"
   ]
  },
  {
   "cell_type": "markdown",
   "id": "b6af7307",
   "metadata": {},
   "source": [
    "# 3절. 중첩루프: 반복문 안에 반복문"
   ]
  },
  {
   "cell_type": "markdown",
   "id": "05d3aa36",
   "metadata": {},
   "source": [
    "# 4절. 중첩루프 탈출"
   ]
  },
  {
   "cell_type": "code",
   "execution_count": 21,
   "id": "8ee75e81",
   "metadata": {
    "ExecuteTime": {
     "end_time": "2021-07-21T05:38:35.272860Z",
     "start_time": "2021-07-21T05:38:35.267873Z"
    }
   },
   "outputs": [
    {
     "name": "stdout",
     "output_type": "stream",
     "text": [
      "0 1\n",
      "0 2\n",
      "2 1\n"
     ]
    }
   ],
   "source": [
    "# 이 예제에서의 break는 안쪽 반복문을 빠져나옴\n",
    "for a in range(0,3,1):       #a <= 0,1,2\n",
    "    for b in range(1,3):     #b <= 1,2\n",
    "        if a==b:\n",
    "            break;\n",
    "        print(a, b)"
   ]
  },
  {
   "cell_type": "code",
   "execution_count": 22,
   "id": "c89c8e9a",
   "metadata": {
    "ExecuteTime": {
     "end_time": "2021-07-21T05:46:31.710213Z",
     "start_time": "2021-07-21T05:46:31.696252Z"
    }
   },
   "outputs": [
    {
     "name": "stdout",
     "output_type": "stream",
     "text": [
      "0 1\n",
      "0 2\n"
     ]
    }
   ],
   "source": [
    "# break를 만나면 바깥쪽 반복문을 탈출 : 방법1. 플래그 변수 이용\n",
    "break_out_flag = False\n",
    "for a in range(3): # a <= 0,1,2\n",
    "    for b in range(1,3): # b <= 1,2\n",
    "        if a==b:\n",
    "            break_out_flag = True\n",
    "            break\n",
    "        print(a,b)\n",
    "    if break_out_flag:\n",
    "        break;\n"
   ]
  },
  {
   "cell_type": "code",
   "execution_count": 23,
   "id": "0d057970",
   "metadata": {
    "ExecuteTime": {
     "end_time": "2021-07-21T05:49:02.124614Z",
     "start_time": "2021-07-21T05:49:02.110620Z"
    }
   },
   "outputs": [],
   "source": [
    "# break를 만나면 바깥쪽 반복문을 탈출 : 방법2. Exception 이용\n",
    "class BreakOutLoop(Exception):\n",
    "    pass # 아무 것도 추가하지 않겠다."
   ]
  },
  {
   "cell_type": "code",
   "execution_count": 26,
   "id": "f2f4b9cb",
   "metadata": {
    "ExecuteTime": {
     "end_time": "2021-07-21T05:54:15.029398Z",
     "start_time": "2021-07-21T05:54:15.020674Z"
    }
   },
   "outputs": [
    {
     "name": "stdout",
     "output_type": "stream",
     "text": [
      "0 1\n",
      "0 2\n",
      "a와 b가 같아지면 예외를 발생하고 이 메세지 뿌리고 끝\n"
     ]
    }
   ],
   "source": [
    "try:\n",
    "    for a in range(3):  # a<= 0,1,2\n",
    "        for b in range(1,3): # b<=1,2\n",
    "            if a==b:\n",
    "                raise BreakOutLoop\n",
    "            print(a, b)\n",
    "except BreakOutLoop:\n",
    "    print('a와 b가 같아지면 예외를 발생하고 이 메세지 뿌리고 끝')"
   ]
  },
  {
   "cell_type": "code",
   "execution_count": null,
   "id": "4f3eb9e3",
   "metadata": {},
   "outputs": [],
   "source": [
    "# 1. 다음 코드는 1부터 30까지(30포함) 자연수 중에서 3의 배수의 총 합\n",
    "# 을 출력하는 프로그램입니다. 빈칸의 코드를 완성하시오.\n",
    "# sum = 0\n",
    "# for i in ___________:\n",
    "# if _____________:\n",
    "# sum = sum + i\n",
    "# else:\n",
    "# pass\n",
    "# print(sum)\n",
    "\n",
    "#답\n",
    "# range(1,31)\n",
    "# i%3==0\n",
    "\n",
    "\n",
    "# 2. 다음 코드의 실행결과가 “1 3 5 7 9”가 되도록 빈칸을 완성하시오\n",
    "# num = 0\n",
    "# ________ num <= 10:\n",
    "# if num%2 == 1:\n",
    "# print(num, end=‘ ’)\n",
    "# num += 1\n",
    "\n",
    "#답: while\n",
    "\n",
    "\n",
    "# 3. 다음 2차원 리스트의 모든 값을 출력하는 코드입니다. 빈칸을 완성하시오.\n",
    "# list2d = [ [1,2,3],[4,5,6,7],[8,9]]\n",
    "# for row in list2d:\n",
    "# _______________:\n",
    "# print(data, end=‘ ’)\n",
    "# print()\n",
    "# 결과 :\n",
    "# 1 2 3\n",
    "# 4 5 6 7\n",
    "# 8 9\n",
    "\n",
    "#답: for data in list2d[row]\n",
    "\n",
    "\n",
    "# 4. 다음 빈칸에 들어갈 함수 이름은?\n",
    "# colors = {\"red\":'apple', \"yellow\":'banana'}\n",
    "# for i, v in __________colors.values():\n",
    "# print(i, v)\n",
    "# 0 apple\n",
    "# 1 banana\n",
    "\n",
    "#답: enumerate()\n",
    "\n",
    "# 5. 다음 코드의 실행결과는?\n",
    "# for i in range(0, 2):\n",
    "# for j in range(0,2):\n",
    "# if i==j:\n",
    "# break\n",
    "# print(I, j)\n",
    "\n",
    "#답: 1,0\n",
    "\n",
    "\n",
    "# 6. 다음 코드의 실행 결과로 출력될 수 없는 것은?\n",
    "# for i in range(0, 2):\n",
    "# for j in range(0,2):\n",
    "# print(I, j)\n",
    "# if i==j:\n",
    "# break\n",
    "# ① 0 0 ② 0 1 ③ 1 0 ④ 1 1\n",
    "\n",
    "# 답:2\n",
    "\n",
    "# 7. 다음 코드의 실행결과는?\n",
    "# L = [3, 4, 5, 6, 7, 8, 9, 10]\n",
    "# for i, data in enumerate(L):\n",
    "# if (i%2 == 0):\n",
    "# print(data, end=‘ ’)\n",
    "\n",
    "# 답:3 5 7 9\n",
    "\n",
    "# 리스트 L의 짝수번째 인덱스의 값만 출력하시오\n",
    "# L[::2]\n",
    "\n",
    "# 리스트 L에서 짝수 데이터만 출력(리스트 컴프리헨션)\n",
    "# [x for x in L if x%2==0]\n"
   ]
  },
  {
   "cell_type": "code",
   "execution_count": 28,
   "id": "cf36c413",
   "metadata": {
    "ExecuteTime": {
     "end_time": "2021-07-21T06:05:50.533779Z",
     "start_time": "2021-07-21T06:05:50.517844Z"
    }
   },
   "outputs": [
    {
     "name": "stdout",
     "output_type": "stream",
     "text": [
      "red apple\n",
      "yellow banana\n"
     ]
    }
   ],
   "source": [
    "colors = {\"red\":'apple', \"yellow\":'banana'}\n",
    "for i, v in colors.items ():\n",
    "    print(i, v)"
   ]
  },
  {
   "cell_type": "code",
   "execution_count": null,
   "id": "2ca72a59",
   "metadata": {},
   "outputs": [],
   "source": []
  },
  {
   "cell_type": "code",
   "execution_count": null,
   "id": "7107c64f",
   "metadata": {},
   "outputs": [],
   "source": []
  },
  {
   "cell_type": "code",
   "execution_count": null,
   "id": "48c844ae",
   "metadata": {},
   "outputs": [],
   "source": []
  },
  {
   "cell_type": "code",
   "execution_count": null,
   "id": "2f101379",
   "metadata": {},
   "outputs": [],
   "source": []
  },
  {
   "cell_type": "code",
   "execution_count": null,
   "id": "9564bc47",
   "metadata": {},
   "outputs": [],
   "source": []
  },
  {
   "cell_type": "code",
   "execution_count": null,
   "id": "3fdf1494",
   "metadata": {},
   "outputs": [],
   "source": []
  },
  {
   "cell_type": "code",
   "execution_count": null,
   "id": "3e537c0b",
   "metadata": {},
   "outputs": [],
   "source": []
  },
  {
   "cell_type": "code",
   "execution_count": null,
   "id": "868c122b",
   "metadata": {},
   "outputs": [],
   "source": []
  },
  {
   "cell_type": "code",
   "execution_count": null,
   "id": "7969253d",
   "metadata": {},
   "outputs": [],
   "source": []
  },
  {
   "cell_type": "code",
   "execution_count": null,
   "id": "57eccb12",
   "metadata": {},
   "outputs": [],
   "source": []
  },
  {
   "cell_type": "code",
   "execution_count": null,
   "id": "24bd8340",
   "metadata": {},
   "outputs": [],
   "source": []
  },
  {
   "cell_type": "code",
   "execution_count": null,
   "id": "f721c26c",
   "metadata": {},
   "outputs": [],
   "source": []
  },
  {
   "cell_type": "code",
   "execution_count": null,
   "id": "b8634428",
   "metadata": {},
   "outputs": [],
   "source": []
  },
  {
   "cell_type": "code",
   "execution_count": null,
   "id": "5c56f531",
   "metadata": {},
   "outputs": [],
   "source": []
  },
  {
   "cell_type": "code",
   "execution_count": null,
   "id": "1aef7878",
   "metadata": {},
   "outputs": [],
   "source": []
  },
  {
   "cell_type": "code",
   "execution_count": null,
   "id": "c75ab0f8",
   "metadata": {},
   "outputs": [],
   "source": []
  },
  {
   "cell_type": "code",
   "execution_count": null,
   "id": "6de40733",
   "metadata": {},
   "outputs": [],
   "source": []
  },
  {
   "cell_type": "code",
   "execution_count": null,
   "id": "d425f47c",
   "metadata": {},
   "outputs": [],
   "source": []
  },
  {
   "cell_type": "code",
   "execution_count": null,
   "id": "363192fb",
   "metadata": {},
   "outputs": [],
   "source": []
  },
  {
   "cell_type": "code",
   "execution_count": null,
   "id": "3b7d5a16",
   "metadata": {},
   "outputs": [],
   "source": []
  },
  {
   "cell_type": "code",
   "execution_count": null,
   "id": "8c788d12",
   "metadata": {},
   "outputs": [],
   "source": []
  }
 ],
 "metadata": {
  "kernelspec": {
   "display_name": "Python 3",
   "language": "python",
   "name": "python3"
  },
  "language_info": {
   "codemirror_mode": {
    "name": "ipython",
    "version": 3
   },
   "file_extension": ".py",
   "mimetype": "text/x-python",
   "name": "python",
   "nbconvert_exporter": "python",
   "pygments_lexer": "ipython3",
   "version": "3.8.8"
  },
  "toc": {
   "base_numbering": 1,
   "nav_menu": {},
   "number_sections": false,
   "sideBar": true,
   "skip_h1_title": false,
   "title_cell": "Table of Contents",
   "title_sidebar": "Contents",
   "toc_cell": false,
   "toc_position": {},
   "toc_section_display": true,
   "toc_window_display": true
  },
  "varInspector": {
   "cols": {
    "lenName": 16,
    "lenType": 16,
    "lenVar": 40
   },
   "kernels_config": {
    "python": {
     "delete_cmd_postfix": "",
     "delete_cmd_prefix": "del ",
     "library": "var_list.py",
     "varRefreshCmd": "print(var_dic_list())"
    },
    "r": {
     "delete_cmd_postfix": ") ",
     "delete_cmd_prefix": "rm(",
     "library": "var_list.r",
     "varRefreshCmd": "cat(var_dic_list()) "
    }
   },
   "types_to_exclude": [
    "module",
    "function",
    "builtin_function_or_method",
    "instance",
    "_Feature"
   ],
   "window_display": false
  }
 },
 "nbformat": 4,
 "nbformat_minor": 5
}
