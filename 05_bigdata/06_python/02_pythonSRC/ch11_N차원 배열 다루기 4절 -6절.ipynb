{
 "cells": [
  {
   "cell_type": "markdown",
   "id": "a7b9295d",
   "metadata": {
    "ExecuteTime": {
     "end_time": "2021-07-26T06:11:02.983433Z",
     "start_time": "2021-07-26T06:11:02.965481Z"
    }
   },
   "source": [
    "<b><font size=\"6\" color=\"red\">ch11. N차원 배열 다루기 </font></b>"
   ]
  },
  {
   "cell_type": "markdown",
   "id": "b354bee2",
   "metadata": {},
   "source": [
    "# 4절. 복사와 뷰"
   ]
  },
  {
   "cell_type": "markdown",
   "id": "ce8cc045",
   "metadata": {},
   "source": [
    "## 4.1 할당시 복사 안 함(스칼라 변수만 제외)"
   ]
  },
  {
   "cell_type": "code",
   "execution_count": 1,
   "id": "c763de4a",
   "metadata": {
    "ExecuteTime": {
     "end_time": "2021-07-30T03:53:18.366596Z",
     "start_time": "2021-07-30T03:53:18.353631Z"
    }
   },
   "outputs": [],
   "source": [
    "# 스칼라 변수\n",
    "a = 10\n",
    "b = 'Hello'\n",
    "c = 1.2"
   ]
  },
  {
   "cell_type": "code",
   "execution_count": 2,
   "id": "c4acd6dd",
   "metadata": {
    "ExecuteTime": {
     "end_time": "2021-07-30T03:54:10.016181Z",
     "start_time": "2021-07-30T03:54:10.001221Z"
    }
   },
   "outputs": [
    {
     "name": "stdout",
     "output_type": "stream",
     "text": [
      "a= 10 이고 a1= 10\n",
      "140722143832144 140722143832144\n",
      "수정후\n",
      "a= 90 이고 a1= 10\n",
      "140722143832144 140722143834704\n"
     ]
    }
   ],
   "source": [
    "a1 = a\n",
    "print('a=',a,'이고 a1=',a1)\n",
    "print(id(a1), id(a))\n",
    "a=90\n",
    "print('수정후')\n",
    "print('a=',a,'이고 a1=',a1)\n",
    "print(id(a1), id(a))"
   ]
  },
  {
   "cell_type": "code",
   "execution_count": 3,
   "id": "9ca513ad",
   "metadata": {
    "ExecuteTime": {
     "end_time": "2021-07-30T03:55:44.636194Z",
     "start_time": "2021-07-30T03:55:44.617255Z"
    }
   },
   "outputs": [
    {
     "data": {
      "text/plain": [
       "array([ 0,  1,  2,  3,  4,  5,  6,  7,  8,  9, 10, 11])"
      ]
     },
     "execution_count": 3,
     "metadata": {},
     "output_type": "execute_result"
    }
   ],
   "source": [
    "# 배열일 경우\n",
    "a = np.arange(12)\n",
    "a"
   ]
  },
  {
   "cell_type": "code",
   "execution_count": 4,
   "id": "399e618a",
   "metadata": {
    "ExecuteTime": {
     "end_time": "2021-07-30T03:56:34.807828Z",
     "start_time": "2021-07-30T03:56:34.787849Z"
    }
   },
   "outputs": [
    {
     "data": {
      "text/plain": [
       "((12,), numpy.ndarray, 1)"
      ]
     },
     "execution_count": 4,
     "metadata": {},
     "output_type": "execute_result"
    }
   ],
   "source": [
    "a.shape, type(a), a.ndim"
   ]
  },
  {
   "cell_type": "code",
   "execution_count": 5,
   "id": "77480525",
   "metadata": {
    "ExecuteTime": {
     "end_time": "2021-07-30T03:57:35.561550Z",
     "start_time": "2021-07-30T03:57:35.543597Z"
    }
   },
   "outputs": [],
   "source": [
    "b = a # a 변수 안의 주소가 할당"
   ]
  },
  {
   "cell_type": "code",
   "execution_count": 6,
   "id": "5d16dbea",
   "metadata": {
    "ExecuteTime": {
     "end_time": "2021-07-30T03:57:36.595645Z",
     "start_time": "2021-07-30T03:57:36.586703Z"
    }
   },
   "outputs": [
    {
     "data": {
      "text/plain": [
       "True"
      ]
     },
     "execution_count": 6,
     "metadata": {},
     "output_type": "execute_result"
    }
   ],
   "source": [
    "b is a #아에 같은거인가?"
   ]
  },
  {
   "cell_type": "code",
   "execution_count": null,
   "id": "e409c326",
   "metadata": {},
   "outputs": [],
   "source": [
    "b == a #값이 같은지를 확인"
   ]
  },
  {
   "cell_type": "code",
   "execution_count": 7,
   "id": "866f9a7c",
   "metadata": {
    "ExecuteTime": {
     "end_time": "2021-07-30T03:58:45.060818Z",
     "start_time": "2021-07-30T03:58:45.048817Z"
    }
   },
   "outputs": [
    {
     "data": {
      "text/plain": [
       "True"
      ]
     },
     "execution_count": 7,
     "metadata": {},
     "output_type": "execute_result"
    }
   ],
   "source": [
    "np.all(b==a) # 전부 True인지 여부 확인"
   ]
  },
  {
   "cell_type": "code",
   "execution_count": 8,
   "id": "1c57fd4a",
   "metadata": {
    "ExecuteTime": {
     "end_time": "2021-07-30T03:59:16.478440Z",
     "start_time": "2021-07-30T03:59:16.472456Z"
    }
   },
   "outputs": [
    {
     "data": {
      "text/plain": [
       "((12,), 1)"
      ]
     },
     "execution_count": 8,
     "metadata": {},
     "output_type": "execute_result"
    }
   ],
   "source": [
    "b.shape, b.ndim"
   ]
  },
  {
   "cell_type": "code",
   "execution_count": 9,
   "id": "e8681640",
   "metadata": {
    "ExecuteTime": {
     "end_time": "2021-07-30T03:59:49.634155Z",
     "start_time": "2021-07-30T03:59:49.625203Z"
    }
   },
   "outputs": [
    {
     "data": {
      "text/plain": [
       "((3, 4), 2)"
      ]
     },
     "execution_count": 9,
     "metadata": {},
     "output_type": "execute_result"
    }
   ],
   "source": [
    "b.shape = (3,4)\n",
    "b.shape, b.ndim"
   ]
  },
  {
   "cell_type": "code",
   "execution_count": 10,
   "id": "9eb235f3",
   "metadata": {
    "ExecuteTime": {
     "end_time": "2021-07-30T03:59:53.869123Z",
     "start_time": "2021-07-30T03:59:53.860182Z"
    }
   },
   "outputs": [
    {
     "data": {
      "text/plain": [
       "array([[ 0,  1,  2,  3],\n",
       "       [ 4,  5,  6,  7],\n",
       "       [ 8,  9, 10, 11]])"
      ]
     },
     "execution_count": 10,
     "metadata": {},
     "output_type": "execute_result"
    }
   ],
   "source": [
    "b"
   ]
  },
  {
   "cell_type": "code",
   "execution_count": 11,
   "id": "0084815c",
   "metadata": {
    "ExecuteTime": {
     "end_time": "2021-07-30T03:59:57.339995Z",
     "start_time": "2021-07-30T03:59:57.330020Z"
    }
   },
   "outputs": [
    {
     "data": {
      "text/plain": [
       "array([[ 0,  1,  2,  3],\n",
       "       [ 4,  5,  6,  7],\n",
       "       [ 8,  9, 10, 11]])"
      ]
     },
     "execution_count": 11,
     "metadata": {},
     "output_type": "execute_result"
    }
   ],
   "source": [
    "a"
   ]
  },
  {
   "cell_type": "code",
   "execution_count": 12,
   "id": "b741aa89",
   "metadata": {
    "ExecuteTime": {
     "end_time": "2021-07-30T04:00:39.930530Z",
     "start_time": "2021-07-30T04:00:39.926540Z"
    }
   },
   "outputs": [
    {
     "data": {
      "text/plain": [
       "(2604510762352, 2604510762352)"
      ]
     },
     "execution_count": 12,
     "metadata": {},
     "output_type": "execute_result"
    }
   ],
   "source": [
    "id(a), id(b)"
   ]
  },
  {
   "cell_type": "markdown",
   "id": "3be3a1a9",
   "metadata": {},
   "source": [
    "## 4.2 앝은 복사: 뷰(view)"
   ]
  },
  {
   "cell_type": "code",
   "execution_count": 13,
   "id": "8bc0d7c7",
   "metadata": {
    "ExecuteTime": {
     "end_time": "2021-07-30T04:02:35.202606Z",
     "start_time": "2021-07-30T04:02:35.194606Z"
    }
   },
   "outputs": [
    {
     "data": {
      "text/plain": [
       "array([[ 0,  1,  2,  3],\n",
       "       [ 4,  5,  6,  7],\n",
       "       [ 8,  9, 10, 11]])"
      ]
     },
     "execution_count": 13,
     "metadata": {},
     "output_type": "execute_result"
    }
   ],
   "source": [
    "a"
   ]
  },
  {
   "cell_type": "code",
   "execution_count": 16,
   "id": "51a659a0",
   "metadata": {
    "ExecuteTime": {
     "end_time": "2021-07-30T04:03:09.091072Z",
     "start_time": "2021-07-30T04:03:09.073628Z"
    }
   },
   "outputs": [
    {
     "data": {
      "text/plain": [
       "False"
      ]
     },
     "execution_count": 16,
     "metadata": {},
     "output_type": "execute_result"
    }
   ],
   "source": [
    "c = a.view() # 얕은 복사\n",
    "c is a"
   ]
  },
  {
   "cell_type": "code",
   "execution_count": 21,
   "id": "e8f18edd",
   "metadata": {
    "ExecuteTime": {
     "end_time": "2021-07-30T04:05:37.902483Z",
     "start_time": "2021-07-30T04:05:37.897497Z"
    }
   },
   "outputs": [
    {
     "data": {
      "text/plain": [
       "array([[ True,  True,  True,  True],\n",
       "       [ True,  True,  True,  True],\n",
       "       [ True,  True,  True,  True]])"
      ]
     },
     "execution_count": 21,
     "metadata": {},
     "output_type": "execute_result"
    }
   ],
   "source": [
    "c == a"
   ]
  },
  {
   "cell_type": "code",
   "execution_count": 18,
   "id": "c40659eb",
   "metadata": {
    "ExecuteTime": {
     "end_time": "2021-07-30T04:03:49.455728Z",
     "start_time": "2021-07-30T04:03:49.442764Z"
    }
   },
   "outputs": [
    {
     "data": {
      "text/plain": [
       "True"
      ]
     },
     "execution_count": 18,
     "metadata": {},
     "output_type": "execute_result"
    }
   ],
   "source": [
    "np.all(c==a)"
   ]
  },
  {
   "cell_type": "code",
   "execution_count": null,
   "id": "8f91cd68",
   "metadata": {},
   "outputs": [],
   "source": [
    "#데이터는 같으나 메모리는 다르다"
   ]
  },
  {
   "cell_type": "code",
   "execution_count": 24,
   "id": "542d3b9b",
   "metadata": {
    "ExecuteTime": {
     "end_time": "2021-07-30T04:09:16.771677Z",
     "start_time": "2021-07-30T04:09:16.753725Z"
    }
   },
   "outputs": [
    {
     "data": {
      "text/plain": [
       "False"
      ]
     },
     "execution_count": 24,
     "metadata": {},
     "output_type": "execute_result"
    }
   ],
   "source": [
    "c.flags.owndata #c가 매모리를 독자적으로 직접 소유하지는 않음"
   ]
  },
  {
   "cell_type": "code",
   "execution_count": 25,
   "id": "9a9e5485",
   "metadata": {
    "ExecuteTime": {
     "end_time": "2021-07-30T04:09:17.330403Z",
     "start_time": "2021-07-30T04:09:17.313448Z"
    }
   },
   "outputs": [
    {
     "data": {
      "text/plain": [
       "True"
      ]
     },
     "execution_count": 25,
     "metadata": {},
     "output_type": "execute_result"
    }
   ],
   "source": [
    "a.flags.owndata #a가 메모리를 독자적으로 직접 소유함"
   ]
  },
  {
   "cell_type": "code",
   "execution_count": 22,
   "id": "0cd2eeab",
   "metadata": {
    "ExecuteTime": {
     "end_time": "2021-07-30T04:07:27.308461Z",
     "start_time": "2021-07-30T04:07:27.293477Z"
    }
   },
   "outputs": [
    {
     "data": {
      "text/plain": [
       "array([[ 0,  1,  2,  3],\n",
       "       [ 4,  5,  6,  7],\n",
       "       [ 8,  9, 10, 11]])"
      ]
     },
     "execution_count": 22,
     "metadata": {},
     "output_type": "execute_result"
    }
   ],
   "source": [
    "c"
   ]
  },
  {
   "cell_type": "code",
   "execution_count": 23,
   "id": "001871d1",
   "metadata": {
    "ExecuteTime": {
     "end_time": "2021-07-30T04:07:35.992250Z",
     "start_time": "2021-07-30T04:07:35.985269Z"
    }
   },
   "outputs": [
    {
     "data": {
      "text/plain": [
       "((3, 4), 2)"
      ]
     },
     "execution_count": 23,
     "metadata": {},
     "output_type": "execute_result"
    }
   ],
   "source": [
    "c.shape, c.ndim"
   ]
  },
  {
   "cell_type": "code",
   "execution_count": 26,
   "id": "d8c71018",
   "metadata": {
    "ExecuteTime": {
     "end_time": "2021-07-30T04:10:04.214135Z",
     "start_time": "2021-07-30T04:10:04.204160Z"
    }
   },
   "outputs": [
    {
     "data": {
      "text/plain": [
       "((3, 4), 2)"
      ]
     },
     "execution_count": 26,
     "metadata": {},
     "output_type": "execute_result"
    }
   ],
   "source": [
    "a.shape, a.ndim"
   ]
  },
  {
   "cell_type": "code",
   "execution_count": 28,
   "id": "c1115fbc",
   "metadata": {
    "ExecuteTime": {
     "end_time": "2021-07-30T04:10:20.858462Z",
     "start_time": "2021-07-30T04:10:20.842539Z"
    }
   },
   "outputs": [
    {
     "data": {
      "text/plain": [
       "array([[ 0,  1,  2,  3,  4,  5],\n",
       "       [ 6,  7,  8,  9, 10, 11]])"
      ]
     },
     "execution_count": 28,
     "metadata": {},
     "output_type": "execute_result"
    }
   ],
   "source": [
    "c.shape = (2,6)\n",
    "c"
   ]
  },
  {
   "cell_type": "code",
   "execution_count": 29,
   "id": "46fb1783",
   "metadata": {
    "ExecuteTime": {
     "end_time": "2021-07-30T04:10:24.664038Z",
     "start_time": "2021-07-30T04:10:24.654065Z"
    }
   },
   "outputs": [
    {
     "data": {
      "text/plain": [
       "array([[ 0,  1,  2,  3],\n",
       "       [ 4,  5,  6,  7],\n",
       "       [ 8,  9, 10, 11]])"
      ]
     },
     "execution_count": 29,
     "metadata": {},
     "output_type": "execute_result"
    }
   ],
   "source": [
    "a"
   ]
  },
  {
   "cell_type": "code",
   "execution_count": 30,
   "id": "4b3678dc",
   "metadata": {
    "ExecuteTime": {
     "end_time": "2021-07-30T04:11:10.399592Z",
     "start_time": "2021-07-30T04:11:10.394608Z"
    }
   },
   "outputs": [],
   "source": [
    "c[:,2] = 999"
   ]
  },
  {
   "cell_type": "code",
   "execution_count": 31,
   "id": "1716fc0b",
   "metadata": {
    "ExecuteTime": {
     "end_time": "2021-07-30T04:11:19.579601Z",
     "start_time": "2021-07-30T04:11:19.563644Z"
    }
   },
   "outputs": [
    {
     "data": {
      "text/plain": [
       "array([[  0,   1, 999,   3,   4,   5],\n",
       "       [  6,   7, 999,   9,  10,  11]])"
      ]
     },
     "execution_count": 31,
     "metadata": {},
     "output_type": "execute_result"
    }
   ],
   "source": [
    "c"
   ]
  },
  {
   "cell_type": "code",
   "execution_count": 32,
   "id": "c0786272",
   "metadata": {
    "ExecuteTime": {
     "end_time": "2021-07-30T04:11:22.708095Z",
     "start_time": "2021-07-30T04:11:22.699120Z"
    }
   },
   "outputs": [
    {
     "data": {
      "text/plain": [
       "array([[  0,   1, 999,   3],\n",
       "       [  4,   5,   6,   7],\n",
       "       [999,   9,  10,  11]])"
      ]
     },
     "execution_count": 32,
     "metadata": {},
     "output_type": "execute_result"
    }
   ],
   "source": [
    "a"
   ]
  },
  {
   "cell_type": "code",
   "execution_count": 36,
   "id": "85c8a040",
   "metadata": {
    "ExecuteTime": {
     "end_time": "2021-07-30T04:16:49.932394Z",
     "start_time": "2021-07-30T04:16:49.918431Z"
    }
   },
   "outputs": [
    {
     "name": "stdout",
     "output_type": "stream",
     "text": [
      "[[ 2  1  9 50]\n",
      " [ 7  5  7 80]\n",
      " [17  6  7 90]]\n",
      "[[ 2  1  9]\n",
      " [ 7  5  7]\n",
      " [17  6  7]]\n"
     ]
    }
   ],
   "source": [
    "# 슬라이싱이 될때 뷰가 반환됨\n",
    "a = np.array([[2,1,9,50],\n",
    "             [7,5,7,80],\n",
    "             [17,6,7,90]])\n",
    "x = a[:, :-1] # 슬라이싱 될때 뷰가 반환\n",
    "print(a)\n",
    "print(x)"
   ]
  },
  {
   "cell_type": "code",
   "execution_count": 37,
   "id": "5f175e40",
   "metadata": {
    "ExecuteTime": {
     "end_time": "2021-07-30T04:17:22.862635Z",
     "start_time": "2021-07-30T04:17:22.852661Z"
    }
   },
   "outputs": [
    {
     "data": {
      "text/plain": [
       "array([[99,  1,  9, 50],\n",
       "       [99,  5,  7, 80],\n",
       "       [99,  6,  7, 90]])"
      ]
     },
     "execution_count": 37,
     "metadata": {},
     "output_type": "execute_result"
    }
   ],
   "source": [
    "x[:,0]=99\n",
    "a"
   ]
  },
  {
   "cell_type": "markdown",
   "id": "db9b608c",
   "metadata": {},
   "source": [
    "## 4.3깊은 복사: copy()"
   ]
  },
  {
   "cell_type": "code",
   "execution_count": 38,
   "id": "07920ea1",
   "metadata": {
    "ExecuteTime": {
     "end_time": "2021-07-30T05:37:43.189191Z",
     "start_time": "2021-07-30T05:37:43.166198Z"
    }
   },
   "outputs": [
    {
     "data": {
      "text/plain": [
       "array([[ 0,  1,  2,  3],\n",
       "       [ 4,  5,  6,  7],\n",
       "       [ 8,  9, 10, 11]])"
      ]
     },
     "execution_count": 38,
     "metadata": {},
     "output_type": "execute_result"
    }
   ],
   "source": [
    "a = np.arange(12).reshape(3,4)\n",
    "d = a.copy()\n",
    "a"
   ]
  },
  {
   "cell_type": "code",
   "execution_count": 39,
   "id": "b103dc20",
   "metadata": {
    "ExecuteTime": {
     "end_time": "2021-07-30T05:38:03.754474Z",
     "start_time": "2021-07-30T05:38:03.735547Z"
    }
   },
   "outputs": [
    {
     "data": {
      "text/plain": [
       "False"
      ]
     },
     "execution_count": 39,
     "metadata": {},
     "output_type": "execute_result"
    }
   ],
   "source": [
    "d is a"
   ]
  },
  {
   "cell_type": "code",
   "execution_count": 40,
   "id": "5dae5103",
   "metadata": {
    "ExecuteTime": {
     "end_time": "2021-07-30T05:38:25.988540Z",
     "start_time": "2021-07-30T05:38:25.969581Z"
    }
   },
   "outputs": [
    {
     "data": {
      "text/plain": [
       "True"
      ]
     },
     "execution_count": 40,
     "metadata": {},
     "output_type": "execute_result"
    }
   ],
   "source": [
    "np.all(d==a)"
   ]
  },
  {
   "cell_type": "code",
   "execution_count": 41,
   "id": "a790bf55",
   "metadata": {
    "ExecuteTime": {
     "end_time": "2021-07-30T05:38:54.120417Z",
     "start_time": "2021-07-30T05:38:54.107451Z"
    }
   },
   "outputs": [
    {
     "data": {
      "text/plain": [
       "array([[ 0,  1,  2,  3],\n",
       "       [ 4,  5,  6,  7],\n",
       "       [ 8,  9, 10, 11]])"
      ]
     },
     "execution_count": 41,
     "metadata": {},
     "output_type": "execute_result"
    }
   ],
   "source": [
    "d"
   ]
  },
  {
   "cell_type": "code",
   "execution_count": 43,
   "id": "c90de9ae",
   "metadata": {
    "ExecuteTime": {
     "end_time": "2021-07-30T05:40:35.255296Z",
     "start_time": "2021-07-30T05:40:35.245318Z"
    }
   },
   "outputs": [
    {
     "name": "stdout",
     "output_type": "stream",
     "text": [
      "[[ 2  1  9 50]\n",
      " [ 7  5  7 80]\n",
      " [17  6  7 90]]\n",
      "[[ 2  1  9]\n",
      " [ 7  5  7]\n",
      " [17  6  7]]\n"
     ]
    }
   ],
   "source": [
    "# 슬라이싱이 될때 뷰가 반환됨으로 copy()이용\n",
    "a = np.array([[2,1,9,50],\n",
    "             [7,5,7,80],\n",
    "             [17,6,7,90]])\n",
    "x = a[:, :-1].copy() # 슬라이싱 될때 뷰가 반환\n",
    "print(a)\n",
    "print(x)"
   ]
  },
  {
   "cell_type": "code",
   "execution_count": 44,
   "id": "894ad8d0",
   "metadata": {
    "ExecuteTime": {
     "end_time": "2021-07-30T05:41:26.081987Z",
     "start_time": "2021-07-30T05:41:26.076003Z"
    }
   },
   "outputs": [
    {
     "data": {
      "text/plain": [
       "array([[999, 999, 999],\n",
       "       [  7,   5,   7],\n",
       "       [ 17,   6,   7]])"
      ]
     },
     "execution_count": 44,
     "metadata": {},
     "output_type": "execute_result"
    }
   ],
   "source": [
    "x[0] =[999,999,999]\n",
    "x"
   ]
  },
  {
   "cell_type": "code",
   "execution_count": 45,
   "id": "800d2a31",
   "metadata": {
    "ExecuteTime": {
     "end_time": "2021-07-30T05:41:26.578526Z",
     "start_time": "2021-07-30T05:41:26.568527Z"
    }
   },
   "outputs": [
    {
     "data": {
      "text/plain": [
       "array([[ 2,  1,  9, 50],\n",
       "       [ 7,  5,  7, 80],\n",
       "       [17,  6,  7, 90]])"
      ]
     },
     "execution_count": 45,
     "metadata": {},
     "output_type": "execute_result"
    }
   ],
   "source": [
    "a"
   ]
  },
  {
   "cell_type": "markdown",
   "id": "c69715d8",
   "metadata": {
    "ExecuteTime": {
     "end_time": "2021-07-30T05:42:17.474604Z",
     "start_time": "2021-07-30T05:42:17.464632Z"
    }
   },
   "source": [
    "# 5절 고급인덱싱"
   ]
  },
  {
   "cell_type": "markdown",
   "id": "d47f5771",
   "metadata": {},
   "source": [
    "## 5.1 인덱스 배열로 인덱싱"
   ]
  },
  {
   "cell_type": "code",
   "execution_count": 47,
   "id": "85f82f3e",
   "metadata": {
    "ExecuteTime": {
     "end_time": "2021-07-30T05:42:58.723773Z",
     "start_time": "2021-07-30T05:42:58.711175Z"
    }
   },
   "outputs": [
    {
     "data": {
      "text/plain": [
       "array([  0,   1,   4,   9,  16,  25,  36,  49,  64,  81, 100, 121],\n",
       "      dtype=int32)"
      ]
     },
     "execution_count": 47,
     "metadata": {},
     "output_type": "execute_result"
    }
   ],
   "source": [
    "a = np.arange(12)**2\n",
    "a"
   ]
  },
  {
   "cell_type": "code",
   "execution_count": 48,
   "id": "9a85196e",
   "metadata": {
    "ExecuteTime": {
     "end_time": "2021-07-30T05:43:49.784954Z",
     "start_time": "2021-07-30T05:43:49.777612Z"
    }
   },
   "outputs": [],
   "source": [
    "i = np.array([1,1,3,8,5])"
   ]
  },
  {
   "cell_type": "code",
   "execution_count": 49,
   "id": "0936b4a4",
   "metadata": {
    "ExecuteTime": {
     "end_time": "2021-07-30T05:43:59.213351Z",
     "start_time": "2021-07-30T05:43:59.198375Z"
    }
   },
   "outputs": [
    {
     "data": {
      "text/plain": [
       "array([ 1,  1,  9, 64, 25], dtype=int32)"
      ]
     },
     "execution_count": 49,
     "metadata": {},
     "output_type": "execute_result"
    }
   ],
   "source": [
    "a[i]"
   ]
  },
  {
   "cell_type": "code",
   "execution_count": 50,
   "id": "ec486e8c",
   "metadata": {
    "ExecuteTime": {
     "end_time": "2021-07-30T05:46:43.611407Z",
     "start_time": "2021-07-30T05:46:43.596148Z"
    }
   },
   "outputs": [],
   "source": [
    "j = np.array([[3,4],\n",
    "               [9,7]])"
   ]
  },
  {
   "cell_type": "code",
   "execution_count": 51,
   "id": "54d2911b",
   "metadata": {
    "ExecuteTime": {
     "end_time": "2021-07-30T05:46:55.477097Z",
     "start_time": "2021-07-30T05:46:55.470089Z"
    }
   },
   "outputs": [
    {
     "data": {
      "text/plain": [
       "array([[ 9, 16],\n",
       "       [81, 49]], dtype=int32)"
      ]
     },
     "execution_count": 51,
     "metadata": {},
     "output_type": "execute_result"
    }
   ],
   "source": [
    "a[j]"
   ]
  },
  {
   "cell_type": "code",
   "execution_count": 52,
   "id": "168e6b48",
   "metadata": {
    "ExecuteTime": {
     "end_time": "2021-07-30T05:52:39.012800Z",
     "start_time": "2021-07-30T05:52:38.994849Z"
    }
   },
   "outputs": [
    {
     "data": {
      "text/plain": [
       "array([[  0,   0,   0],\n",
       "       [255,   0,   0],\n",
       "       [  0, 255,   0],\n",
       "       [  0,   0, 225],\n",
       "       [255, 255, 255]])"
      ]
     },
     "execution_count": 52,
     "metadata": {},
     "output_type": "execute_result"
    }
   ],
   "source": [
    "                    # R G B\n",
    "palette = np.array([[0,0,0], #검정색\n",
    "                    [255,0,0], #빨\n",
    "                    [0,255,0], #초\n",
    "                    [0,0,225], #파\n",
    "                    [255,255,255] #흰\n",
    "                   ])  \n",
    "palette"
   ]
  },
  {
   "cell_type": "code",
   "execution_count": 191,
   "id": "d6b3e45a",
   "metadata": {
    "ExecuteTime": {
     "end_time": "2021-07-31T03:30:08.162886Z",
     "start_time": "2021-07-31T03:30:08.132314Z"
    }
   },
   "outputs": [
    {
     "name": "stdout",
     "output_type": "stream",
     "text": [
      "[[4 4 4 0 0 0 0 4 4 4]\n",
      " [4 0 0 4 4 4 4 0 0 4]\n",
      " [0 0 4 4 4 4 4 4 0 0]\n",
      " [0 4 4 1 4 4 3 4 4 0]\n",
      " [0 4 4 1 4 4 3 4 4 0]\n",
      " [0 4 4 4 4 4 4 4 4 0]\n",
      " [0 4 4 2 4 4 2 4 4 0]\n",
      " [4 0 4 4 2 2 4 4 0 4]\n",
      " [4 4 0 4 4 4 4 0 4 4]\n",
      " [4 4 4 0 0 0 0 4 4 4]]\n"
     ]
    },
    {
     "data": {
      "text/plain": [
       "((10, 10, 3),\n",
       " array([[[255, 255, 255],\n",
       "         [255, 255, 255],\n",
       "         [255, 255, 255],\n",
       "         [  0,   0,   0],\n",
       "         [  0,   0,   0],\n",
       "         [  0,   0,   0],\n",
       "         [  0,   0,   0],\n",
       "         [255, 255, 255],\n",
       "         [255, 255, 255],\n",
       "         [255, 255, 255]],\n",
       " \n",
       "        [[255, 255, 255],\n",
       "         [  0,   0,   0],\n",
       "         [  0,   0,   0],\n",
       "         [255, 255, 255],\n",
       "         [255, 255, 255],\n",
       "         [255, 255, 255],\n",
       "         [255, 255, 255],\n",
       "         [  0,   0,   0],\n",
       "         [  0,   0,   0],\n",
       "         [255, 255, 255]],\n",
       " \n",
       "        [[  0,   0,   0],\n",
       "         [  0,   0,   0],\n",
       "         [255, 255, 255],\n",
       "         [255, 255, 255],\n",
       "         [255, 255, 255],\n",
       "         [255, 255, 255],\n",
       "         [255, 255, 255],\n",
       "         [255, 255, 255],\n",
       "         [  0,   0,   0],\n",
       "         [  0,   0,   0]],\n",
       " \n",
       "        [[  0,   0,   0],\n",
       "         [255, 255, 255],\n",
       "         [255, 255, 255],\n",
       "         [255,   0,   0],\n",
       "         [255, 255, 255],\n",
       "         [255, 255, 255],\n",
       "         [  0,   0, 225],\n",
       "         [255, 255, 255],\n",
       "         [255, 255, 255],\n",
       "         [  0,   0,   0]],\n",
       " \n",
       "        [[  0,   0,   0],\n",
       "         [255, 255, 255],\n",
       "         [255, 255, 255],\n",
       "         [255,   0,   0],\n",
       "         [255, 255, 255],\n",
       "         [255, 255, 255],\n",
       "         [  0,   0, 225],\n",
       "         [255, 255, 255],\n",
       "         [255, 255, 255],\n",
       "         [  0,   0,   0]],\n",
       " \n",
       "        [[  0,   0,   0],\n",
       "         [255, 255, 255],\n",
       "         [255, 255, 255],\n",
       "         [255, 255, 255],\n",
       "         [255, 255, 255],\n",
       "         [255, 255, 255],\n",
       "         [255, 255, 255],\n",
       "         [255, 255, 255],\n",
       "         [255, 255, 255],\n",
       "         [  0,   0,   0]],\n",
       " \n",
       "        [[  0,   0,   0],\n",
       "         [255, 255, 255],\n",
       "         [255, 255, 255],\n",
       "         [  0, 255,   0],\n",
       "         [255, 255, 255],\n",
       "         [255, 255, 255],\n",
       "         [  0, 255,   0],\n",
       "         [255, 255, 255],\n",
       "         [255, 255, 255],\n",
       "         [  0,   0,   0]],\n",
       " \n",
       "        [[255, 255, 255],\n",
       "         [  0,   0,   0],\n",
       "         [255, 255, 255],\n",
       "         [255, 255, 255],\n",
       "         [  0, 255,   0],\n",
       "         [  0, 255,   0],\n",
       "         [255, 255, 255],\n",
       "         [255, 255, 255],\n",
       "         [  0,   0,   0],\n",
       "         [255, 255, 255]],\n",
       " \n",
       "        [[255, 255, 255],\n",
       "         [255, 255, 255],\n",
       "         [  0,   0,   0],\n",
       "         [255, 255, 255],\n",
       "         [255, 255, 255],\n",
       "         [255, 255, 255],\n",
       "         [255, 255, 255],\n",
       "         [  0,   0,   0],\n",
       "         [255, 255, 255],\n",
       "         [255, 255, 255]],\n",
       " \n",
       "        [[255, 255, 255],\n",
       "         [255, 255, 255],\n",
       "         [255, 255, 255],\n",
       "         [  0,   0,   0],\n",
       "         [  0,   0,   0],\n",
       "         [  0,   0,   0],\n",
       "         [  0,   0,   0],\n",
       "         [255, 255, 255],\n",
       "         [255, 255, 255],\n",
       "         [255, 255, 255]]]))"
      ]
     },
     "execution_count": 191,
     "metadata": {},
     "output_type": "execute_result"
    }
   ],
   "source": [
    "image_index = np.array([[4,4,4,0,0,0,0,4,4,4],\n",
    "                        [4,0,0,4,4,4,4,0,0,4],\n",
    "                        [0,0,4,4,4,4,4,4,0,0],\n",
    "                        [0,4,4,1,4,4,3,4,4,0],\n",
    "                        [0,4,4,1,4,4,3,4,4,0],\n",
    "                        [0,4,4,4,4,4,4,4,4,0],\n",
    "                        [0,4,4,2,4,4,2,4,4,0],\n",
    "                        [4,0,4,4,2,2,4,4,0,4],\n",
    "                        [4,4,0,4,4,4,4,0,4,4],\n",
    "                        [4,4,4,0,0,0,0,4,4,4]])\n",
    "print(image_index)\n",
    "image_data = palette[image_index]\n",
    "image_data.shape, image_data"
   ]
  },
  {
   "cell_type": "code",
   "execution_count": 56,
   "id": "ab763cc1",
   "metadata": {
    "ExecuteTime": {
     "end_time": "2021-07-30T06:05:23.875345Z",
     "start_time": "2021-07-30T06:05:23.861386Z"
    }
   },
   "outputs": [],
   "source": [
    "#%matplotlib inline 예전 버전의 주피터 노트북에서 실행한 브라우저에 시각화를 바로 볼 수 있게"
   ]
  },
  {
   "cell_type": "code",
   "execution_count": 61,
   "id": "544f01f3",
   "metadata": {
    "ExecuteTime": {
     "end_time": "2021-07-30T06:07:07.393188Z",
     "start_time": "2021-07-30T06:07:07.269692Z"
    }
   },
   "outputs": [
    {
     "data": {
      "image/png": "[encoded data removed]",
      "text/plain": [
       "<Figure size 432x288 with 1 Axes>"
      ]
     },
     "metadata": {
      "needs_background": "light"
     },
     "output_type": "display_data"
    }
   ],
   "source": [
    "from matplotlib import pyplot as plt\n",
    "%matplotlib inline\n",
    "plt.imshow(image_data, interpolation='nearest')\n",
    "plt.show()"
   ]
  },
  {
   "cell_type": "code",
   "execution_count": null,
   "id": "b7a5738e",
   "metadata": {},
   "outputs": [],
   "source": [
    "# 아나콘다 프롬프트에서 tensorflow 패키지 인스톨"
   ]
  },
  {
   "cell_type": "code",
   "execution_count": 62,
   "id": "f28a64ba",
   "metadata": {
    "ExecuteTime": {
     "end_time": "2021-07-30T06:34:05.352327Z",
     "start_time": "2021-07-30T06:34:02.667145Z"
    }
   },
   "outputs": [
    {
     "data": {
      "text/plain": [
       "'2.5.0'"
      ]
     },
     "execution_count": 62,
     "metadata": {},
     "output_type": "execute_result"
    }
   ],
   "source": [
    "import tensorflow as tf\n",
    "tf.__version__"
   ]
  },
  {
   "cell_type": "code",
   "execution_count": 64,
   "id": "932c20cc",
   "metadata": {
    "ExecuteTime": {
     "end_time": "2021-07-30T06:36:16.876205Z",
     "start_time": "2021-07-30T06:36:16.659750Z"
    }
   },
   "outputs": [
    {
     "data": {
      "text/plain": [
       "(60000, 28, 28)"
      ]
     },
     "execution_count": 64,
     "metadata": {},
     "output_type": "execute_result"
    }
   ],
   "source": [
    "import tensorflow.keras.datasets.mnist as mnist\n",
    "mnist = mnist.load_data()\n",
    "mnist[0][0].shape # 독립변수(학습셋 = 훈련셋)"
   ]
  },
  {
   "cell_type": "code",
   "execution_count": 66,
   "id": "c6aa6300",
   "metadata": {
    "ExecuteTime": {
     "end_time": "2021-07-30T06:39:45.488314Z",
     "start_time": "2021-07-30T06:39:45.477343Z"
    }
   },
   "outputs": [
    {
     "data": {
      "text/plain": [
       "array([[[0, 0, 0, ..., 0, 0, 0],\n",
       "        [0, 0, 0, ..., 0, 0, 0],\n",
       "        [0, 0, 0, ..., 0, 0, 0],\n",
       "        ...,\n",
       "        [0, 0, 0, ..., 0, 0, 0],\n",
       "        [0, 0, 0, ..., 0, 0, 0],\n",
       "        [0, 0, 0, ..., 0, 0, 0]],\n",
       "\n",
       "       [[0, 0, 0, ..., 0, 0, 0],\n",
       "        [0, 0, 0, ..., 0, 0, 0],\n",
       "        [0, 0, 0, ..., 0, 0, 0],\n",
       "        ...,\n",
       "        [0, 0, 0, ..., 0, 0, 0],\n",
       "        [0, 0, 0, ..., 0, 0, 0],\n",
       "        [0, 0, 0, ..., 0, 0, 0]],\n",
       "\n",
       "       [[0, 0, 0, ..., 0, 0, 0],\n",
       "        [0, 0, 0, ..., 0, 0, 0],\n",
       "        [0, 0, 0, ..., 0, 0, 0],\n",
       "        ...,\n",
       "        [0, 0, 0, ..., 0, 0, 0],\n",
       "        [0, 0, 0, ..., 0, 0, 0],\n",
       "        [0, 0, 0, ..., 0, 0, 0]],\n",
       "\n",
       "       ...,\n",
       "\n",
       "       [[0, 0, 0, ..., 0, 0, 0],\n",
       "        [0, 0, 0, ..., 0, 0, 0],\n",
       "        [0, 0, 0, ..., 0, 0, 0],\n",
       "        ...,\n",
       "        [0, 0, 0, ..., 0, 0, 0],\n",
       "        [0, 0, 0, ..., 0, 0, 0],\n",
       "        [0, 0, 0, ..., 0, 0, 0]],\n",
       "\n",
       "       [[0, 0, 0, ..., 0, 0, 0],\n",
       "        [0, 0, 0, ..., 0, 0, 0],\n",
       "        [0, 0, 0, ..., 0, 0, 0],\n",
       "        ...,\n",
       "        [0, 0, 0, ..., 0, 0, 0],\n",
       "        [0, 0, 0, ..., 0, 0, 0],\n",
       "        [0, 0, 0, ..., 0, 0, 0]],\n",
       "\n",
       "       [[0, 0, 0, ..., 0, 0, 0],\n",
       "        [0, 0, 0, ..., 0, 0, 0],\n",
       "        [0, 0, 0, ..., 0, 0, 0],\n",
       "        ...,\n",
       "        [0, 0, 0, ..., 0, 0, 0],\n",
       "        [0, 0, 0, ..., 0, 0, 0],\n",
       "        [0, 0, 0, ..., 0, 0, 0]]], dtype=uint8)"
      ]
     },
     "execution_count": 66,
     "metadata": {},
     "output_type": "execute_result"
    }
   ],
   "source": [
    "mnist[0][0]"
   ]
  },
  {
   "cell_type": "code",
   "execution_count": 68,
   "id": "11fd7187",
   "metadata": {
    "ExecuteTime": {
     "end_time": "2021-07-30T06:40:07.981823Z",
     "start_time": "2021-07-30T06:40:07.967851Z"
    }
   },
   "outputs": [
    {
     "data": {
      "text/plain": [
       "(60000,)"
      ]
     },
     "execution_count": 68,
     "metadata": {},
     "output_type": "execute_result"
    }
   ],
   "source": [
    "mnist[0][1].shape # 종속변수(학습셋 = 훈련셋)"
   ]
  },
  {
   "cell_type": "code",
   "execution_count": 69,
   "id": "4ddb95c0",
   "metadata": {
    "ExecuteTime": {
     "end_time": "2021-07-30T06:40:44.725537Z",
     "start_time": "2021-07-30T06:40:44.712571Z"
    }
   },
   "outputs": [
    {
     "data": {
      "text/plain": [
       "array([5, 0, 4, ..., 5, 6, 8], dtype=uint8)"
      ]
     },
     "execution_count": 69,
     "metadata": {},
     "output_type": "execute_result"
    }
   ],
   "source": [
    "mnist[0][1]"
   ]
  },
  {
   "cell_type": "code",
   "execution_count": 70,
   "id": "f4f922a0",
   "metadata": {
    "ExecuteTime": {
     "end_time": "2021-07-30T06:41:59.085587Z",
     "start_time": "2021-07-30T06:41:59.075639Z"
    }
   },
   "outputs": [
    {
     "data": {
      "text/plain": [
       "(10000, 28, 28)"
      ]
     },
     "execution_count": 70,
     "metadata": {},
     "output_type": "execute_result"
    }
   ],
   "source": [
    "mnist[1][0].shape # 독립변수 (테스트셋)"
   ]
  },
  {
   "cell_type": "code",
   "execution_count": 71,
   "id": "1b9b64d2",
   "metadata": {
    "ExecuteTime": {
     "end_time": "2021-07-30T06:43:30.709587Z",
     "start_time": "2021-07-30T06:43:30.693659Z"
    }
   },
   "outputs": [
    {
     "data": {
      "text/plain": [
       "(10000,)"
      ]
     },
     "execution_count": 71,
     "metadata": {},
     "output_type": "execute_result"
    }
   ],
   "source": [
    "mnist[1][1].shape # 종속변수(테스트셋)"
   ]
  },
  {
   "cell_type": "code",
   "execution_count": 72,
   "id": "f4021fa4",
   "metadata": {
    "ExecuteTime": {
     "end_time": "2021-07-30T06:45:34.019689Z",
     "start_time": "2021-07-30T06:45:34.002736Z"
    }
   },
   "outputs": [],
   "source": [
    "x = mnist[0][0]\n",
    "y = mnist[0][1]"
   ]
  },
  {
   "cell_type": "code",
   "execution_count": 75,
   "id": "e43cd5bb",
   "metadata": {
    "ExecuteTime": {
     "end_time": "2021-07-30T06:46:52.551012Z",
     "start_time": "2021-07-30T06:46:52.427302Z"
    }
   },
   "outputs": [
    {
     "data": {
      "image/png": "[encoded data removed]",
      "text/plain": [
       "<Figure size 432x288 with 1 Axes>"
      ]
     },
     "metadata": {
      "needs_background": "light"
     },
     "output_type": "display_data"
    }
   ],
   "source": [
    "import matplotlib.pyplot as plt\n",
    "plt.imshow(x[1])\n",
    "plt.show()"
   ]
  },
  {
   "cell_type": "code",
   "execution_count": 76,
   "id": "05472021",
   "metadata": {
    "ExecuteTime": {
     "end_time": "2021-07-30T06:46:56.933207Z",
     "start_time": "2021-07-30T06:46:56.925197Z"
    }
   },
   "outputs": [
    {
     "data": {
      "text/plain": [
       "0"
      ]
     },
     "execution_count": 76,
     "metadata": {},
     "output_type": "execute_result"
    }
   ],
   "source": [
    "y[1]"
   ]
  },
  {
   "cell_type": "code",
   "execution_count": 78,
   "id": "742ac5dd",
   "metadata": {
    "ExecuteTime": {
     "end_time": "2021-07-30T06:47:36.369889Z",
     "start_time": "2021-07-30T06:47:36.348924Z"
    }
   },
   "outputs": [
    {
     "data": {
      "text/plain": [
       "[0,\n",
       " 0,\n",
       " 0,\n",
       " 0,\n",
       " 0,\n",
       " 0,\n",
       " 0,\n",
       " 0,\n",
       " 0,\n",
       " 0,\n",
       " 0,\n",
       " 0,\n",
       " 0,\n",
       " 0,\n",
       " 0,\n",
       " 0,\n",
       " 0,\n",
       " 0,\n",
       " 0,\n",
       " 0,\n",
       " 0,\n",
       " 0,\n",
       " 0,\n",
       " 0,\n",
       " 0,\n",
       " 0,\n",
       " 0,\n",
       " 0,\n",
       " 0,\n",
       " 0,\n",
       " 0,\n",
       " 0,\n",
       " 0,\n",
       " 0,\n",
       " 0,\n",
       " 0,\n",
       " 0,\n",
       " 0,\n",
       " 0,\n",
       " 0,\n",
       " 0,\n",
       " 0,\n",
       " 0,\n",
       " 0,\n",
       " 0,\n",
       " 0,\n",
       " 0,\n",
       " 0,\n",
       " 0,\n",
       " 0,\n",
       " 0,\n",
       " 0,\n",
       " 0,\n",
       " 0,\n",
       " 0,\n",
       " 0,\n",
       " 0,\n",
       " 0,\n",
       " 0,\n",
       " 0,\n",
       " 0,\n",
       " 0,\n",
       " 0,\n",
       " 0,\n",
       " 0,\n",
       " 0,\n",
       " 0,\n",
       " 0,\n",
       " 0,\n",
       " 0,\n",
       " 0,\n",
       " 0,\n",
       " 0,\n",
       " 0,\n",
       " 0,\n",
       " 0,\n",
       " 0,\n",
       " 0,\n",
       " 0,\n",
       " 0,\n",
       " 0,\n",
       " 0,\n",
       " 0,\n",
       " 0,\n",
       " 0,\n",
       " 0,\n",
       " 0,\n",
       " 0,\n",
       " 0,\n",
       " 0,\n",
       " 0,\n",
       " 0,\n",
       " 0,\n",
       " 0,\n",
       " 0,\n",
       " 0,\n",
       " 0,\n",
       " 0,\n",
       " 0,\n",
       " 0,\n",
       " 0,\n",
       " 0,\n",
       " 0,\n",
       " 0,\n",
       " 0,\n",
       " 0,\n",
       " 0,\n",
       " 0,\n",
       " 0,\n",
       " 0,\n",
       " 0,\n",
       " 0,\n",
       " 0,\n",
       " 0,\n",
       " 0,\n",
       " 0,\n",
       " 0,\n",
       " 0,\n",
       " 0,\n",
       " 0,\n",
       " 0,\n",
       " 0,\n",
       " 0,\n",
       " 0,\n",
       " 0,\n",
       " 0,\n",
       " 0,\n",
       " 51,\n",
       " 159,\n",
       " 253,\n",
       " 159,\n",
       " 50,\n",
       " 0,\n",
       " 0,\n",
       " 0,\n",
       " 0,\n",
       " 0,\n",
       " 0,\n",
       " 0,\n",
       " 0,\n",
       " 0,\n",
       " 0,\n",
       " 0,\n",
       " 0,\n",
       " 0,\n",
       " 0,\n",
       " 0,\n",
       " 0,\n",
       " 0,\n",
       " 0,\n",
       " 0,\n",
       " 0,\n",
       " 0,\n",
       " 0,\n",
       " 48,\n",
       " 238,\n",
       " 252,\n",
       " 252,\n",
       " 252,\n",
       " 237,\n",
       " 0,\n",
       " 0,\n",
       " 0,\n",
       " 0,\n",
       " 0,\n",
       " 0,\n",
       " 0,\n",
       " 0,\n",
       " 0,\n",
       " 0,\n",
       " 0,\n",
       " 0,\n",
       " 0,\n",
       " 0,\n",
       " 0,\n",
       " 0,\n",
       " 0,\n",
       " 0,\n",
       " 0,\n",
       " 0,\n",
       " 0,\n",
       " 54,\n",
       " 227,\n",
       " 253,\n",
       " 252,\n",
       " 239,\n",
       " 233,\n",
       " 252,\n",
       " 57,\n",
       " 6,\n",
       " 0,\n",
       " 0,\n",
       " 0,\n",
       " 0,\n",
       " 0,\n",
       " 0,\n",
       " 0,\n",
       " 0,\n",
       " 0,\n",
       " 0,\n",
       " 0,\n",
       " 0,\n",
       " 0,\n",
       " 0,\n",
       " 0,\n",
       " 0,\n",
       " 0,\n",
       " 10,\n",
       " 60,\n",
       " 224,\n",
       " 252,\n",
       " 253,\n",
       " 252,\n",
       " 202,\n",
       " 84,\n",
       " 252,\n",
       " 253,\n",
       " 122,\n",
       " 0,\n",
       " 0,\n",
       " 0,\n",
       " 0,\n",
       " 0,\n",
       " 0,\n",
       " 0,\n",
       " 0,\n",
       " 0,\n",
       " 0,\n",
       " 0,\n",
       " 0,\n",
       " 0,\n",
       " 0,\n",
       " 0,\n",
       " 0,\n",
       " 0,\n",
       " 163,\n",
       " 252,\n",
       " 252,\n",
       " 252,\n",
       " 253,\n",
       " 252,\n",
       " 252,\n",
       " 96,\n",
       " 189,\n",
       " 253,\n",
       " 167,\n",
       " 0,\n",
       " 0,\n",
       " 0,\n",
       " 0,\n",
       " 0,\n",
       " 0,\n",
       " 0,\n",
       " 0,\n",
       " 0,\n",
       " 0,\n",
       " 0,\n",
       " 0,\n",
       " 0,\n",
       " 0,\n",
       " 0,\n",
       " 0,\n",
       " 51,\n",
       " 238,\n",
       " 253,\n",
       " 253,\n",
       " 190,\n",
       " 114,\n",
       " 253,\n",
       " 228,\n",
       " 47,\n",
       " 79,\n",
       " 255,\n",
       " 168,\n",
       " 0,\n",
       " 0,\n",
       " 0,\n",
       " 0,\n",
       " 0,\n",
       " 0,\n",
       " 0,\n",
       " 0,\n",
       " 0,\n",
       " 0,\n",
       " 0,\n",
       " 0,\n",
       " 0,\n",
       " 0,\n",
       " 0,\n",
       " 48,\n",
       " 238,\n",
       " 252,\n",
       " 252,\n",
       " 179,\n",
       " 12,\n",
       " 75,\n",
       " 121,\n",
       " 21,\n",
       " 0,\n",
       " 0,\n",
       " 253,\n",
       " 243,\n",
       " 50,\n",
       " 0,\n",
       " 0,\n",
       " 0,\n",
       " 0,\n",
       " 0,\n",
       " 0,\n",
       " 0,\n",
       " 0,\n",
       " 0,\n",
       " 0,\n",
       " 0,\n",
       " 0,\n",
       " 0,\n",
       " 38,\n",
       " 165,\n",
       " 253,\n",
       " 233,\n",
       " 208,\n",
       " 84,\n",
       " 0,\n",
       " 0,\n",
       " 0,\n",
       " 0,\n",
       " 0,\n",
       " 0,\n",
       " 253,\n",
       " 252,\n",
       " 165,\n",
       " 0,\n",
       " 0,\n",
       " 0,\n",
       " 0,\n",
       " 0,\n",
       " 0,\n",
       " 0,\n",
       " 0,\n",
       " 0,\n",
       " 0,\n",
       " 0,\n",
       " 0,\n",
       " 7,\n",
       " 178,\n",
       " 252,\n",
       " 240,\n",
       " 71,\n",
       " 19,\n",
       " 28,\n",
       " 0,\n",
       " 0,\n",
       " 0,\n",
       " 0,\n",
       " 0,\n",
       " 0,\n",
       " 253,\n",
       " 252,\n",
       " 195,\n",
       " 0,\n",
       " 0,\n",
       " 0,\n",
       " 0,\n",
       " 0,\n",
       " 0,\n",
       " 0,\n",
       " 0,\n",
       " 0,\n",
       " 0,\n",
       " 0,\n",
       " 0,\n",
       " 57,\n",
       " 252,\n",
       " 252,\n",
       " 63,\n",
       " 0,\n",
       " 0,\n",
       " 0,\n",
       " 0,\n",
       " 0,\n",
       " 0,\n",
       " 0,\n",
       " 0,\n",
       " 0,\n",
       " 253,\n",
       " 252,\n",
       " 195,\n",
       " 0,\n",
       " 0,\n",
       " 0,\n",
       " 0,\n",
       " 0,\n",
       " 0,\n",
       " 0,\n",
       " 0,\n",
       " 0,\n",
       " 0,\n",
       " 0,\n",
       " 0,\n",
       " 198,\n",
       " 253,\n",
       " 190,\n",
       " 0,\n",
       " 0,\n",
       " 0,\n",
       " 0,\n",
       " 0,\n",
       " 0,\n",
       " 0,\n",
       " 0,\n",
       " 0,\n",
       " 0,\n",
       " 255,\n",
       " 253,\n",
       " 196,\n",
       " 0,\n",
       " 0,\n",
       " 0,\n",
       " 0,\n",
       " 0,\n",
       " 0,\n",
       " 0,\n",
       " 0,\n",
       " 0,\n",
       " 0,\n",
       " 0,\n",
       " 76,\n",
       " 246,\n",
       " 252,\n",
       " 112,\n",
       " 0,\n",
       " 0,\n",
       " 0,\n",
       " 0,\n",
       " 0,\n",
       " 0,\n",
       " 0,\n",
       " 0,\n",
       " 0,\n",
       " 0,\n",
       " 253,\n",
       " 252,\n",
       " 148,\n",
       " 0,\n",
       " 0,\n",
       " 0,\n",
       " 0,\n",
       " 0,\n",
       " 0,\n",
       " 0,\n",
       " 0,\n",
       " 0,\n",
       " 0,\n",
       " 0,\n",
       " 85,\n",
       " 252,\n",
       " 230,\n",
       " 25,\n",
       " 0,\n",
       " 0,\n",
       " 0,\n",
       " 0,\n",
       " 0,\n",
       " 0,\n",
       " 0,\n",
       " 0,\n",
       " 7,\n",
       " 135,\n",
       " 253,\n",
       " 186,\n",
       " 12,\n",
       " 0,\n",
       " 0,\n",
       " 0,\n",
       " 0,\n",
       " 0,\n",
       " 0,\n",
       " 0,\n",
       " 0,\n",
       " 0,\n",
       " 0,\n",
       " 0,\n",
       " 85,\n",
       " 252,\n",
       " 223,\n",
       " 0,\n",
       " 0,\n",
       " 0,\n",
       " 0,\n",
       " 0,\n",
       " 0,\n",
       " 0,\n",
       " 0,\n",
       " 7,\n",
       " 131,\n",
       " 252,\n",
       " 225,\n",
       " 71,\n",
       " 0,\n",
       " 0,\n",
       " 0,\n",
       " 0,\n",
       " 0,\n",
       " 0,\n",
       " 0,\n",
       " 0,\n",
       " 0,\n",
       " 0,\n",
       " 0,\n",
       " 0,\n",
       " 85,\n",
       " 252,\n",
       " 145,\n",
       " 0,\n",
       " 0,\n",
       " 0,\n",
       " 0,\n",
       " 0,\n",
       " 0,\n",
       " 0,\n",
       " 48,\n",
       " 165,\n",
       " 252,\n",
       " 173,\n",
       " 0,\n",
       " 0,\n",
       " 0,\n",
       " 0,\n",
       " 0,\n",
       " 0,\n",
       " 0,\n",
       " 0,\n",
       " 0,\n",
       " 0,\n",
       " 0,\n",
       " 0,\n",
       " 0,\n",
       " 0,\n",
       " 86,\n",
       " 253,\n",
       " 225,\n",
       " 0,\n",
       " 0,\n",
       " 0,\n",
       " 0,\n",
       " 0,\n",
       " 0,\n",
       " 114,\n",
       " 238,\n",
       " 253,\n",
       " 162,\n",
       " 0,\n",
       " 0,\n",
       " 0,\n",
       " 0,\n",
       " 0,\n",
       " 0,\n",
       " 0,\n",
       " 0,\n",
       " 0,\n",
       " 0,\n",
       " 0,\n",
       " 0,\n",
       " 0,\n",
       " 0,\n",
       " 0,\n",
       " 85,\n",
       " 252,\n",
       " 249,\n",
       " 146,\n",
       " 48,\n",
       " 29,\n",
       " 85,\n",
       " 178,\n",
       " 225,\n",
       " 253,\n",
       " 223,\n",
       " 167,\n",
       " 56,\n",
       " 0,\n",
       " 0,\n",
       " 0,\n",
       " 0,\n",
       " 0,\n",
       " 0,\n",
       " 0,\n",
       " 0,\n",
       " 0,\n",
       " 0,\n",
       " 0,\n",
       " 0,\n",
       " 0,\n",
       " 0,\n",
       " 0,\n",
       " 85,\n",
       " 252,\n",
       " 252,\n",
       " 252,\n",
       " 229,\n",
       " 215,\n",
       " 252,\n",
       " 252,\n",
       " 252,\n",
       " 196,\n",
       " 130,\n",
       " 0,\n",
       " 0,\n",
       " 0,\n",
       " 0,\n",
       " 0,\n",
       " 0,\n",
       " 0,\n",
       " 0,\n",
       " 0,\n",
       " 0,\n",
       " 0,\n",
       " 0,\n",
       " 0,\n",
       " 0,\n",
       " 0,\n",
       " 0,\n",
       " 0,\n",
       " 28,\n",
       " 199,\n",
       " 252,\n",
       " 252,\n",
       " 253,\n",
       " 252,\n",
       " 252,\n",
       " 233,\n",
       " 145,\n",
       " 0,\n",
       " 0,\n",
       " 0,\n",
       " 0,\n",
       " 0,\n",
       " 0,\n",
       " 0,\n",
       " 0,\n",
       " 0,\n",
       " 0,\n",
       " 0,\n",
       " 0,\n",
       " 0,\n",
       " 0,\n",
       " 0,\n",
       " 0,\n",
       " 0,\n",
       " 0,\n",
       " 0,\n",
       " 0,\n",
       " 25,\n",
       " 128,\n",
       " 252,\n",
       " 253,\n",
       " 252,\n",
       " 141,\n",
       " 37,\n",
       " 0,\n",
       " 0,\n",
       " 0,\n",
       " 0,\n",
       " 0,\n",
       " 0,\n",
       " 0,\n",
       " 0,\n",
       " 0,\n",
       " 0,\n",
       " 0,\n",
       " 0,\n",
       " 0,\n",
       " 0,\n",
       " 0,\n",
       " 0,\n",
       " 0,\n",
       " 0,\n",
       " 0,\n",
       " 0,\n",
       " 0,\n",
       " 0,\n",
       " 0,\n",
       " 0,\n",
       " 0,\n",
       " 0,\n",
       " 0,\n",
       " 0,\n",
       " 0,\n",
       " 0,\n",
       " 0,\n",
       " 0,\n",
       " 0,\n",
       " 0,\n",
       " 0,\n",
       " 0,\n",
       " 0,\n",
       " 0,\n",
       " 0,\n",
       " 0,\n",
       " 0,\n",
       " 0,\n",
       " 0,\n",
       " 0,\n",
       " 0,\n",
       " 0,\n",
       " 0,\n",
       " 0,\n",
       " 0,\n",
       " 0,\n",
       " 0,\n",
       " 0,\n",
       " 0,\n",
       " 0,\n",
       " 0,\n",
       " 0,\n",
       " 0,\n",
       " 0,\n",
       " 0,\n",
       " 0,\n",
       " 0,\n",
       " 0,\n",
       " 0,\n",
       " 0,\n",
       " 0,\n",
       " 0,\n",
       " 0,\n",
       " 0,\n",
       " 0,\n",
       " 0,\n",
       " 0,\n",
       " 0,\n",
       " 0,\n",
       " 0,\n",
       " 0,\n",
       " 0,\n",
       " 0,\n",
       " 0,\n",
       " 0,\n",
       " 0,\n",
       " 0,\n",
       " 0,\n",
       " 0,\n",
       " 0,\n",
       " 0,\n",
       " 0,\n",
       " 0,\n",
       " 0,\n",
       " 0,\n",
       " 0,\n",
       " 0,\n",
       " 0,\n",
       " 0,\n",
       " 0,\n",
       " 0,\n",
       " 0,\n",
       " 0,\n",
       " 0,\n",
       " 0,\n",
       " 0,\n",
       " 0,\n",
       " 0,\n",
       " 0,\n",
       " 0,\n",
       " 0,\n",
       " 0,\n",
       " 0,\n",
       " 0,\n",
       " 0,\n",
       " 0,\n",
       " 0,\n",
       " 0,\n",
       " 0,\n",
       " 0,\n",
       " 0,\n",
       " 0,\n",
       " 0,\n",
       " 0,\n",
       " 0,\n",
       " 0,\n",
       " 0,\n",
       " 0,\n",
       " 0,\n",
       " 0,\n",
       " 0,\n",
       " 0]"
      ]
     },
     "execution_count": 78,
     "metadata": {},
     "output_type": "execute_result"
    }
   ],
   "source": [
    "list(x[1].flat)"
   ]
  },
  {
   "cell_type": "markdown",
   "id": "048cfdff",
   "metadata": {},
   "source": [
    "## 5.2 다차원 인덱싱"
   ]
  },
  {
   "cell_type": "code",
   "execution_count": 80,
   "id": "c858d94f",
   "metadata": {
    "ExecuteTime": {
     "end_time": "2021-07-30T06:50:34.545139Z",
     "start_time": "2021-07-30T06:50:34.535139Z"
    }
   },
   "outputs": [
    {
     "data": {
      "text/plain": [
       "array([[ 0,  1,  2,  3],\n",
       "       [ 4,  5,  6,  7],\n",
       "       [ 8,  9, 10, 11]])"
      ]
     },
     "execution_count": 80,
     "metadata": {},
     "output_type": "execute_result"
    }
   ],
   "source": [
    "a = np.arange(12).reshape(3,4)\n",
    "a"
   ]
  },
  {
   "cell_type": "code",
   "execution_count": 81,
   "id": "09934c82",
   "metadata": {
    "ExecuteTime": {
     "end_time": "2021-07-30T06:52:34.549464Z",
     "start_time": "2021-07-30T06:52:34.540513Z"
    }
   },
   "outputs": [
    {
     "data": {
      "text/plain": [
       "array([[ 2,  5],\n",
       "       [ 7, 11]])"
      ]
     },
     "execution_count": 81,
     "metadata": {},
     "output_type": "execute_result"
    }
   ],
   "source": [
    "i = np.array([[0,1],\n",
    "               [1,2]]) #행\n",
    "j = np.array([[2,1],\n",
    "              [3,3]]) #열\n",
    "a[i, j]"
   ]
  },
  {
   "cell_type": "code",
   "execution_count": 82,
   "id": "41aebd53",
   "metadata": {
    "ExecuteTime": {
     "end_time": "2021-07-30T06:54:00.213242Z",
     "start_time": "2021-07-30T06:54:00.193296Z"
    }
   },
   "outputs": [
    {
     "data": {
      "text/plain": [
       "array([2, 7])"
      ]
     },
     "execution_count": 82,
     "metadata": {},
     "output_type": "execute_result"
    }
   ],
   "source": [
    "i = np.array([0,1])\n",
    "j = np.array([2,3])\n",
    "a[i, j]"
   ]
  },
  {
   "cell_type": "markdown",
   "id": "7fd1b3ab",
   "metadata": {},
   "source": [
    "## 5.3 argmax : 최대값이 있는 곳의 인덱스"
   ]
  },
  {
   "cell_type": "code",
   "execution_count": 83,
   "id": "49221a1e",
   "metadata": {
    "ExecuteTime": {
     "end_time": "2021-07-30T06:58:39.709400Z",
     "start_time": "2021-07-30T06:58:39.700424Z"
    }
   },
   "outputs": [
    {
     "data": {
      "text/plain": [
       "array([[ 0.        ,  0.84147098,  0.90929743,  0.14112001],\n",
       "       [-0.7568025 , -0.95892427, -0.2794155 ,  0.6569866 ],\n",
       "       [ 0.98935825,  0.41211849, -0.54402111, -0.99999021],\n",
       "       [-0.53657292,  0.42016704,  0.99060736,  0.65028784],\n",
       "       [-0.28790332, -0.96139749, -0.75098725,  0.14987721]])"
      ]
     },
     "execution_count": 83,
     "metadata": {},
     "output_type": "execute_result"
    }
   ],
   "source": [
    "data = np.sin(np.arange(20).reshape(5,4))\n",
    "data"
   ]
  },
  {
   "cell_type": "code",
   "execution_count": 85,
   "id": "a8dbea6b",
   "metadata": {
    "ExecuteTime": {
     "end_time": "2021-07-30T07:02:30.934406Z",
     "start_time": "2021-07-30T07:02:30.919446Z"
    }
   },
   "outputs": [
    {
     "data": {
      "text/plain": [
       "array([2, 0, 3, 1], dtype=int64)"
      ]
     },
     "execution_count": 85,
     "metadata": {},
     "output_type": "execute_result"
    }
   ],
   "source": [
    "ind = data.argmax(axis = 0)  # 각 열별 큰 값이 있는 index\n",
    "ind"
   ]
  },
  {
   "cell_type": "code",
   "execution_count": 87,
   "id": "0b02396c",
   "metadata": {
    "ExecuteTime": {
     "end_time": "2021-07-30T07:03:14.254147Z",
     "start_time": "2021-07-30T07:03:14.240154Z"
    }
   },
   "outputs": [
    {
     "data": {
      "text/plain": [
       "(0.9893582466233818, 0.8414709848078965)"
      ]
     },
     "execution_count": 87,
     "metadata": {},
     "output_type": "execute_result"
    }
   ],
   "source": [
    "# 0열에서 최대값, 1열에서 최대값\n",
    "data[ind[0],0], data[ind[1],1]"
   ]
  },
  {
   "cell_type": "code",
   "execution_count": 88,
   "id": "fc9b907d",
   "metadata": {
    "ExecuteTime": {
     "end_time": "2021-07-30T07:05:06.180642Z",
     "start_time": "2021-07-30T07:05:06.166676Z"
    }
   },
   "outputs": [
    {
     "data": {
      "text/plain": [
       "(5, 4)"
      ]
     },
     "execution_count": 88,
     "metadata": {},
     "output_type": "execute_result"
    }
   ],
   "source": [
    "data.shape"
   ]
  },
  {
   "cell_type": "code",
   "execution_count": 89,
   "id": "b776b3c5",
   "metadata": {
    "ExecuteTime": {
     "end_time": "2021-07-30T07:05:34.620775Z",
     "start_time": "2021-07-30T07:05:34.604310Z"
    }
   },
   "outputs": [
    {
     "data": {
      "text/plain": [
       "array([0.98935825, 0.84147098, 0.99060736, 0.6569866 ])"
      ]
     },
     "execution_count": 89,
     "metadata": {},
     "output_type": "execute_result"
    }
   ],
   "source": [
    "data_col_max = data[ind, range(data.shape[1])]\n",
    "data_col_max"
   ]
  },
  {
   "cell_type": "code",
   "execution_count": 90,
   "id": "0616c96c",
   "metadata": {
    "ExecuteTime": {
     "end_time": "2021-07-30T07:06:45.173335Z",
     "start_time": "2021-07-30T07:06:45.169345Z"
    }
   },
   "outputs": [
    {
     "name": "stdout",
     "output_type": "stream",
     "text": [
      "0열의 최대값은 0.9893582466233818\n",
      "1열의 최대값은 0.8414709848078965\n",
      "2열의 최대값은 0.9906073556948704\n",
      "3열의 최대값은 0.6569865987187891\n"
     ]
    }
   ],
   "source": [
    "for i, item in enumerate(data_col_max):\n",
    "    print(\"{}열의 최대값은 {}\".format(i, item))"
   ]
  },
  {
   "cell_type": "code",
   "execution_count": 92,
   "id": "0fc904a8",
   "metadata": {
    "ExecuteTime": {
     "end_time": "2021-07-30T07:07:42.093290Z",
     "start_time": "2021-07-30T07:07:42.086308Z"
    }
   },
   "outputs": [
    {
     "data": {
      "text/plain": [
       "True"
      ]
     },
     "execution_count": 92,
     "metadata": {},
     "output_type": "execute_result"
    }
   ],
   "source": [
    "np.all(data.max(axis=0) == data_col_max)"
   ]
  },
  {
   "cell_type": "code",
   "execution_count": null,
   "id": "2a352029",
   "metadata": {},
   "outputs": [],
   "source": [
    "# 행별 최대값을 출력하기(argmax함수를 이용한 최대값 출력, np.all을 이용하여 max()결과와 비교)"
   ]
  },
  {
   "cell_type": "code",
   "execution_count": 93,
   "id": "a907604e",
   "metadata": {
    "ExecuteTime": {
     "end_time": "2021-07-30T07:09:58.129525Z",
     "start_time": "2021-07-30T07:09:58.122548Z"
    }
   },
   "outputs": [
    {
     "data": {
      "text/plain": [
       "array([2, 3, 0, 2, 3], dtype=int64)"
      ]
     },
     "execution_count": 93,
     "metadata": {},
     "output_type": "execute_result"
    }
   ],
   "source": [
    "ind = data.argmax(axis =1)\n",
    "ind"
   ]
  },
  {
   "cell_type": "code",
   "execution_count": 94,
   "id": "e05da8e4",
   "metadata": {
    "ExecuteTime": {
     "end_time": "2021-07-30T07:11:29.763288Z",
     "start_time": "2021-07-30T07:11:29.755309Z"
    }
   },
   "outputs": [
    {
     "data": {
      "text/plain": [
       "array([0.98935825, 0.84147098, 0.99060736, 0.6569866 ])"
      ]
     },
     "execution_count": 94,
     "metadata": {},
     "output_type": "execute_result"
    }
   ],
   "source": [
    "data_row_max = data[range(data.shape[0]),ind]\n",
    "data_col_max"
   ]
  },
  {
   "cell_type": "code",
   "execution_count": 95,
   "id": "b01900ab",
   "metadata": {
    "ExecuteTime": {
     "end_time": "2021-07-30T07:12:13.504696Z",
     "start_time": "2021-07-30T07:12:13.498680Z"
    }
   },
   "outputs": [
    {
     "name": "stdout",
     "output_type": "stream",
     "text": [
      "0행의 최대값은 0.9092974268256817\n",
      "1행의 최대값은 0.6569865987187891\n",
      "2행의 최대값은 0.9893582466233818\n",
      "3행의 최대값은 0.9906073556948704\n",
      "4행의 최대값은 0.14987720966295234\n"
     ]
    }
   ],
   "source": [
    "for i, item in enumerate(data_row_max):\n",
    "    print(\"{}행의 최대값은 {}\".format(i, item))"
   ]
  },
  {
   "cell_type": "code",
   "execution_count": 96,
   "id": "6d04b6de",
   "metadata": {
    "ExecuteTime": {
     "end_time": "2021-07-30T07:12:41.349984Z",
     "start_time": "2021-07-30T07:12:41.338007Z"
    }
   },
   "outputs": [
    {
     "data": {
      "text/plain": [
       "True"
      ]
     },
     "execution_count": 96,
     "metadata": {},
     "output_type": "execute_result"
    }
   ],
   "source": [
    "np.all(data.max(axis=1) == data_row_max)"
   ]
  },
  {
   "cell_type": "markdown",
   "id": "1061d677",
   "metadata": {},
   "source": [
    "## 5.4 인덱싱을 이용한 값변경"
   ]
  },
  {
   "cell_type": "code",
   "execution_count": 100,
   "id": "7a76296e",
   "metadata": {
    "ExecuteTime": {
     "end_time": "2021-07-30T07:17:40.983991Z",
     "start_time": "2021-07-30T07:17:40.971027Z"
    }
   },
   "outputs": [
    {
     "data": {
      "text/plain": [
       "array([0, 1, 2, 3, 4])"
      ]
     },
     "execution_count": 100,
     "metadata": {},
     "output_type": "execute_result"
    }
   ],
   "source": [
    "a = np.arange(5)\n",
    "a"
   ]
  },
  {
   "cell_type": "code",
   "execution_count": 101,
   "id": "61df3885",
   "metadata": {
    "ExecuteTime": {
     "end_time": "2021-07-30T07:17:41.507003Z",
     "start_time": "2021-07-30T07:17:41.501023Z"
    }
   },
   "outputs": [
    {
     "data": {
      "text/plain": [
       "array([99,  1, 99,  3, 99])"
      ]
     },
     "execution_count": 101,
     "metadata": {},
     "output_type": "execute_result"
    }
   ],
   "source": [
    "a[::2]= 99\n",
    "a"
   ]
  },
  {
   "cell_type": "markdown",
   "id": "58069a23",
   "metadata": {},
   "source": [
    "## 5.5 논리 배열을 이용한 인덱싱"
   ]
  },
  {
   "cell_type": "code",
   "execution_count": 103,
   "id": "c665d70a",
   "metadata": {
    "ExecuteTime": {
     "end_time": "2021-07-30T07:18:57.140967Z",
     "start_time": "2021-07-30T07:18:57.133961Z"
    }
   },
   "outputs": [
    {
     "data": {
      "text/plain": [
       "array([[ 0,  1,  2,  3,  4,  5,  6,  7,  8,  9],\n",
       "       [10, 11, 12, 13, 14, 15, 16, 17, 18, 19]])"
      ]
     },
     "execution_count": 103,
     "metadata": {},
     "output_type": "execute_result"
    }
   ],
   "source": [
    "a = np.arange(20).reshape(2,10)\n",
    "a"
   ]
  },
  {
   "cell_type": "code",
   "execution_count": 104,
   "id": "1dadf25f",
   "metadata": {
    "ExecuteTime": {
     "end_time": "2021-07-30T07:19:10.636080Z",
     "start_time": "2021-07-30T07:19:10.620343Z"
    }
   },
   "outputs": [
    {
     "data": {
      "text/plain": [
       "array([[ True, False,  True, False,  True, False,  True, False,  True,\n",
       "        False],\n",
       "       [ True, False,  True, False,  True, False,  True, False,  True,\n",
       "        False]])"
      ]
     },
     "execution_count": 104,
     "metadata": {},
     "output_type": "execute_result"
    }
   ],
   "source": [
    "b = a%2 ==0\n",
    "b"
   ]
  },
  {
   "cell_type": "code",
   "execution_count": 105,
   "id": "546a047d",
   "metadata": {
    "ExecuteTime": {
     "end_time": "2021-07-30T07:19:41.394440Z",
     "start_time": "2021-07-30T07:19:41.378481Z"
    }
   },
   "outputs": [
    {
     "data": {
      "text/plain": [
       "array([ 0,  2,  4,  6,  8, 10, 12, 14, 16, 18])"
      ]
     },
     "execution_count": 105,
     "metadata": {},
     "output_type": "execute_result"
    }
   ],
   "source": [
    "a[b]"
   ]
  },
  {
   "cell_type": "code",
   "execution_count": 107,
   "id": "c09b3264",
   "metadata": {
    "ExecuteTime": {
     "end_time": "2021-07-30T07:20:15.066667Z",
     "start_time": "2021-07-30T07:20:15.053646Z"
    }
   },
   "outputs": [
    {
     "data": {
      "text/plain": [
       "array([ 0,  3,  6,  9, 12, 15, 18])"
      ]
     },
     "execution_count": 107,
     "metadata": {},
     "output_type": "execute_result"
    }
   ],
   "source": [
    "a[a%3==0]"
   ]
  },
  {
   "cell_type": "markdown",
   "id": "0d5dafe9",
   "metadata": {},
   "source": [
    "# 6절 선형대수\n",
    "- 2차원 넘파일 배열을 행렬\n",
    "   - 행렬곱 : @ 또는 np.dot()\n",
    "   - 역행렬 : np.linalg.inv(x)\n",
    "   - 전치행렬 : x.T, x.transpose()\n",
    "   - 단위행렬 : np.eye(n) : n행 n열 단위행렬\n",
    "   - 연립방정식 해 풀기 : np.linalg.inv(x,y) 단 x가 정방행렬인 경우"
   ]
  },
  {
   "cell_type": "markdown",
   "id": "1c2e9040",
   "metadata": {},
   "source": [
    "## 6.1 선형 연립 방정식 풀기(회귀도출): 독립변수 2개, 데이터 2개"
   ]
  },
  {
   "cell_type": "code",
   "execution_count": 111,
   "id": "93d526ae",
   "metadata": {
    "ExecuteTime": {
     "end_time": "2021-07-30T07:46:56.152110Z",
     "start_time": "2021-07-30T07:46:56.135156Z"
    }
   },
   "outputs": [
    {
     "data": {
      "text/plain": [
       "array([[1.0000000e+00, 4.4408921e-16],\n",
       "       [0.0000000e+00, 1.0000000e+00]])"
      ]
     },
     "execution_count": 111,
     "metadata": {},
     "output_type": "execute_result"
    }
   ],
   "source": [
    "#a의 역행렬@ a는 단위행렬\n",
    "a = np.array([[1,2],[3,4]])\n",
    "np.linalg.inv(a) @ a"
   ]
  },
  {
   "cell_type": "code",
   "execution_count": 113,
   "id": "9ade0887",
   "metadata": {
    "ExecuteTime": {
     "end_time": "2021-07-30T07:47:53.485410Z",
     "start_time": "2021-07-30T07:47:53.481002Z"
    }
   },
   "outputs": [
    {
     "data": {
      "text/plain": [
       "array([[1., 0.],\n",
       "       [0., 1.]])"
      ]
     },
     "execution_count": 113,
     "metadata": {},
     "output_type": "execute_result"
    }
   ],
   "source": [
    "np.eye(2)"
   ]
  },
  {
   "cell_type": "code",
   "execution_count": 115,
   "id": "65c1f55b",
   "metadata": {
    "ExecuteTime": {
     "end_time": "2021-07-30T07:49:03.593950Z",
     "start_time": "2021-07-30T07:49:03.581496Z"
    }
   },
   "outputs": [
    {
     "data": {
      "text/plain": [
       "True"
      ]
     },
     "execution_count": 115,
     "metadata": {},
     "output_type": "execute_result"
    }
   ],
   "source": [
    "np.all(np.eye(2) @ a == a)"
   ]
  },
  {
   "cell_type": "code",
   "execution_count": 116,
   "id": "cb4c621d",
   "metadata": {
    "ExecuteTime": {
     "end_time": "2021-07-30T07:49:38.415425Z",
     "start_time": "2021-07-30T07:49:38.395481Z"
    }
   },
   "outputs": [
    {
     "data": {
      "text/plain": [
       "array([[1, 3],\n",
       "       [2, 4]])"
      ]
     },
     "execution_count": 116,
     "metadata": {},
     "output_type": "execute_result"
    }
   ],
   "source": [
    "a.T"
   ]
  },
  {
   "cell_type": "code",
   "execution_count": 117,
   "id": "c042a604",
   "metadata": {
    "ExecuteTime": {
     "end_time": "2021-07-30T07:50:18.371470Z",
     "start_time": "2021-07-30T07:50:18.362494Z"
    }
   },
   "outputs": [
    {
     "data": {
      "text/plain": [
       "array([[2, 2, 2],\n",
       "       [3, 3, 3]])"
      ]
     },
     "execution_count": 117,
     "metadata": {},
     "output_type": "execute_result"
    }
   ],
   "source": [
    "a = np.array([[2,2,2],[3,3,3]])\n",
    "a"
   ]
  },
  {
   "cell_type": "code",
   "execution_count": 118,
   "id": "943e09b4",
   "metadata": {
    "ExecuteTime": {
     "end_time": "2021-07-30T07:50:31.342445Z",
     "start_time": "2021-07-30T07:50:31.319541Z"
    }
   },
   "outputs": [
    {
     "ename": "LinAlgError",
     "evalue": "Last 2 dimensions of the array must be square",
     "output_type": "error",
     "traceback": [
      "\u001b[1;31m---------------------------------------------------------------------------\u001b[0m",
      "\u001b[1;31mLinAlgError\u001b[0m                               Traceback (most recent call last)",
      "\u001b[1;32m<ipython-input-118-b24b020fe220>\u001b[0m in \u001b[0;36m<module>\u001b[1;34m\u001b[0m\n\u001b[1;32m----> 1\u001b[1;33m \u001b[0mnp\u001b[0m\u001b[1;33m.\u001b[0m\u001b[0mlinalg\u001b[0m\u001b[1;33m.\u001b[0m\u001b[0minv\u001b[0m\u001b[1;33m(\u001b[0m\u001b[0ma\u001b[0m\u001b[1;33m)\u001b[0m\u001b[1;33m\u001b[0m\u001b[1;33m\u001b[0m\u001b[0m\n\u001b[0m",
      "\u001b[1;32m<__array_function__ internals>\u001b[0m in \u001b[0;36minv\u001b[1;34m(*args, **kwargs)\u001b[0m\n",
      "\u001b[1;32m~\\anaconda3\\lib\\site-packages\\numpy\\linalg\\linalg.py\u001b[0m in \u001b[0;36minv\u001b[1;34m(a)\u001b[0m\n\u001b[0;32m    538\u001b[0m     \"\"\"\n\u001b[0;32m    539\u001b[0m     \u001b[0ma\u001b[0m\u001b[1;33m,\u001b[0m \u001b[0mwrap\u001b[0m \u001b[1;33m=\u001b[0m \u001b[0m_makearray\u001b[0m\u001b[1;33m(\u001b[0m\u001b[0ma\u001b[0m\u001b[1;33m)\u001b[0m\u001b[1;33m\u001b[0m\u001b[1;33m\u001b[0m\u001b[0m\n\u001b[1;32m--> 540\u001b[1;33m     \u001b[0m_assert_stacked_2d\u001b[0m\u001b[1;33m(\u001b[0m\u001b[0ma\u001b[0m\u001b[1;33m)\u001b[0m\u001b[1;33m\u001b[0m\u001b[1;33m\u001b[0m\u001b[0m\n\u001b[0m\u001b[0;32m    541\u001b[0m     \u001b[0m_assert_stacked_square\u001b[0m\u001b[1;33m(\u001b[0m\u001b[0ma\u001b[0m\u001b[1;33m)\u001b[0m\u001b[1;33m\u001b[0m\u001b[1;33m\u001b[0m\u001b[0m\n\u001b[0;32m    542\u001b[0m     \u001b[0mt\u001b[0m\u001b[1;33m,\u001b[0m \u001b[0mresult_t\u001b[0m \u001b[1;33m=\u001b[0m \u001b[0m_commonType\u001b[0m\u001b[1;33m(\u001b[0m\u001b[0ma\u001b[0m\u001b[1;33m)\u001b[0m\u001b[1;33m\u001b[0m\u001b[1;33m\u001b[0m\u001b[0m\n",
      "\u001b[1;32m~\\anaconda3\\lib\\site-packages\\numpy\\linalg\\linalg.py\u001b[0m in \u001b[0;36m_assert_stacked_square\u001b[1;34m(*arrays)\u001b[0m\n\u001b[0;32m    201\u001b[0m     \u001b[1;32mfor\u001b[0m \u001b[0ma\u001b[0m \u001b[1;32min\u001b[0m \u001b[0marrays\u001b[0m\u001b[1;33m:\u001b[0m\u001b[1;33m\u001b[0m\u001b[1;33m\u001b[0m\u001b[0m\n\u001b[0;32m    202\u001b[0m         \u001b[0mm\u001b[0m\u001b[1;33m,\u001b[0m \u001b[0mn\u001b[0m \u001b[1;33m=\u001b[0m \u001b[0ma\u001b[0m\u001b[1;33m.\u001b[0m\u001b[0mshape\u001b[0m\u001b[1;33m[\u001b[0m\u001b[1;33m-\u001b[0m\u001b[1;36m2\u001b[0m\u001b[1;33m:\u001b[0m\u001b[1;33m]\u001b[0m\u001b[1;33m\u001b[0m\u001b[1;33m\u001b[0m\u001b[0m\n\u001b[1;32m--> 203\u001b[1;33m         \u001b[1;32mif\u001b[0m \u001b[0mm\u001b[0m \u001b[1;33m!=\u001b[0m \u001b[0mn\u001b[0m\u001b[1;33m:\u001b[0m\u001b[1;33m\u001b[0m\u001b[1;33m\u001b[0m\u001b[0m\n\u001b[0m\u001b[0;32m    204\u001b[0m             \u001b[1;32mraise\u001b[0m \u001b[0mLinAlgError\u001b[0m\u001b[1;33m(\u001b[0m\u001b[1;34m'Last 2 dimensions of the array must be square'\u001b[0m\u001b[1;33m)\u001b[0m\u001b[1;33m\u001b[0m\u001b[1;33m\u001b[0m\u001b[0m\n\u001b[0;32m    205\u001b[0m \u001b[1;33m\u001b[0m\u001b[0m\n",
      "\u001b[1;31mLinAlgError\u001b[0m: Last 2 dimensions of the array must be square"
     ]
    }
   ],
   "source": [
    "np.linalg.inv(a) #정방행렬이 아니면 오류뜸"
   ]
  },
  {
   "cell_type": "code",
   "execution_count": 120,
   "id": "4c490549",
   "metadata": {
    "ExecuteTime": {
     "end_time": "2021-07-30T07:51:31.049216Z",
     "start_time": "2021-07-30T07:51:31.034258Z"
    }
   },
   "outputs": [
    {
     "data": {
      "text/plain": [
       "array([[2, 2, 2],\n",
       "       [3, 3, 3]])"
      ]
     },
     "execution_count": 120,
     "metadata": {},
     "output_type": "execute_result"
    }
   ],
   "source": [
    "a=np.array([[2,2,2],[3,3,3]])\n",
    "a"
   ]
  },
  {
   "cell_type": "code",
   "execution_count": 122,
   "id": "70db9149",
   "metadata": {
    "ExecuteTime": {
     "end_time": "2021-07-30T07:52:30.512963Z",
     "start_time": "2021-07-30T07:52:30.494015Z"
    }
   },
   "outputs": [
    {
     "data": {
      "text/plain": [
       "array([[13, 13, 13],\n",
       "       [13, 13, 13],\n",
       "       [13, 13, 13]])"
      ]
     },
     "execution_count": 122,
     "metadata": {},
     "output_type": "execute_result"
    }
   ],
   "source": [
    "a.T @ a #정방행렬을 만들고자 할때 전치행렬 사용"
   ]
  },
  {
   "cell_type": "markdown",
   "id": "829fc539",
   "metadata": {
    "ExecuteTime": {
     "end_time": "2021-07-30T07:53:04.459583Z",
     "start_time": "2021-07-30T07:53:04.445590Z"
    }
   },
   "source": [
    "**독립변수 2개, 데이터 2개**"
   ]
  },
  {
   "cell_type": "code",
   "execution_count": 124,
   "id": "4e89fa53",
   "metadata": {
    "ExecuteTime": {
     "end_time": "2021-07-30T07:53:56.786188Z",
     "start_time": "2021-07-30T07:53:56.768671Z"
    }
   },
   "outputs": [],
   "source": [
    "x = np.array([[1,2],\n",
    "              [3,4]]) #독립변수"
   ]
  },
  {
   "cell_type": "code",
   "execution_count": 125,
   "id": "ec956762",
   "metadata": {
    "ExecuteTime": {
     "end_time": "2021-07-30T07:54:43.500656Z",
     "start_time": "2021-07-30T07:54:43.491679Z"
    }
   },
   "outputs": [],
   "source": [
    "y = np.array([[5],\n",
    "              [7]]) #종속변수"
   ]
  },
  {
   "cell_type": "markdown",
   "id": "016d937f",
   "metadata": {},
   "source": [
    "\n",
    "x @ w =y <br>\n",
    "x 의 역행렬 @ x @ w = x의 역행렬 @ y <br>\n",
    "w = x의 역행렬 @ y <br>"
   ]
  },
  {
   "cell_type": "code",
   "execution_count": 128,
   "id": "46c194d5",
   "metadata": {
    "ExecuteTime": {
     "end_time": "2021-07-30T07:59:09.705081Z",
     "start_time": "2021-07-30T07:59:09.699608Z"
    }
   },
   "outputs": [
    {
     "data": {
      "text/plain": [
       "array([[-3.],\n",
       "       [ 4.]])"
      ]
     },
     "execution_count": 128,
     "metadata": {},
     "output_type": "execute_result"
    }
   ],
   "source": [
    "W = np.linalg.inv(x) @ y\n",
    "W"
   ]
  },
  {
   "cell_type": "code",
   "execution_count": 129,
   "id": "698476ff",
   "metadata": {
    "ExecuteTime": {
     "end_time": "2021-07-30T07:59:59.375889Z",
     "start_time": "2021-07-30T07:59:59.369905Z"
    }
   },
   "outputs": [
    {
     "data": {
      "text/plain": [
       "array([6.])"
      ]
     },
     "execution_count": 129,
     "metadata": {},
     "output_type": "execute_result"
    }
   ],
   "source": [
    "# 독립변수가 2,3 일 경우 종속변수는?\n",
    "2*W[0] +3*W[1]"
   ]
  },
  {
   "cell_type": "markdown",
   "id": "b886e9ee",
   "metadata": {},
   "source": [
    "## 6.2 선형 연립방정식(회귀도출)과 그래프 : 독립변수1"
   ]
  },
  {
   "cell_type": "markdown",
   "id": "c0e442d1",
   "metadata": {},
   "source": [
    "**정방행렬을 위해 데이터 2**"
   ]
  },
  {
   "cell_type": "code",
   "execution_count": 130,
   "id": "cea64dfa",
   "metadata": {
    "ExecuteTime": {
     "end_time": "2021-07-30T08:02:33.846817Z",
     "start_time": "2021-07-30T08:02:33.832835Z"
    }
   },
   "outputs": [],
   "source": [
    "x=np.array([2,3])\n",
    "y=[6.8, 7.3]"
   ]
  },
  {
   "cell_type": "code",
   "execution_count": 132,
   "id": "d1bbe0a4",
   "metadata": {
    "ExecuteTime": {
     "end_time": "2021-07-30T08:08:14.347711Z",
     "start_time": "2021-07-30T08:08:14.328729Z"
    }
   },
   "outputs": [
    {
     "data": {
      "text/plain": [
       "array([1., 1.])"
      ]
     },
     "execution_count": 132,
     "metadata": {},
     "output_type": "execute_result"
    }
   ],
   "source": [
    "np.ones(len(x))"
   ]
  },
  {
   "cell_type": "code",
   "execution_count": 143,
   "id": "89e627cc",
   "metadata": {
    "ExecuteTime": {
     "end_time": "2021-07-30T08:13:09.308025Z",
     "start_time": "2021-07-30T08:13:09.296052Z"
    }
   },
   "outputs": [
    {
     "data": {
      "text/plain": [
       "array([[2., 1.],\n",
       "       [3., 1.]])"
      ]
     },
     "execution_count": 143,
     "metadata": {},
     "output_type": "execute_result"
    }
   ],
   "source": [
    "# 2 1\n",
    "# 3 1\n",
    "X = np.column_stack((x, np.ones(len(x)))) #독립변수\n",
    "X"
   ]
  },
  {
   "cell_type": "code",
   "execution_count": 134,
   "id": "91a0bc88",
   "metadata": {
    "ExecuteTime": {
     "end_time": "2021-07-30T08:09:19.732704Z",
     "start_time": "2021-07-30T08:09:19.712721Z"
    }
   },
   "outputs": [
    {
     "data": {
      "text/plain": [
       "array([[6.8],\n",
       "       [7.3]])"
      ]
     },
     "execution_count": 134,
     "metadata": {},
     "output_type": "execute_result"
    }
   ],
   "source": [
    "Y = np.array(y).reshape(2,1)\n",
    "Y"
   ]
  },
  {
   "cell_type": "markdown",
   "id": "173f40a8",
   "metadata": {},
   "source": [
    "**X@W = Y** <br>\n",
    "**X의 역행렬 @ X @ W = X의 역행렬 @ Y ** <br>\n",
    "**W = X의 역행렬 @ Y** <br>"
   ]
  },
  {
   "cell_type": "code",
   "execution_count": 140,
   "id": "9e43d14a",
   "metadata": {
    "ExecuteTime": {
     "end_time": "2021-07-30T08:12:22.070814Z",
     "start_time": "2021-07-30T08:12:22.055855Z"
    }
   },
   "outputs": [
    {
     "data": {
      "text/plain": [
       "array([[0.5],\n",
       "       [5.8]])"
      ]
     },
     "execution_count": 140,
     "metadata": {},
     "output_type": "execute_result"
    }
   ],
   "source": [
    "W = np.linalg.inv(X) @ Y\n",
    "W"
   ]
  },
  {
   "cell_type": "code",
   "execution_count": 141,
   "id": "5348a4cd",
   "metadata": {
    "ExecuteTime": {
     "end_time": "2021-07-30T08:12:48.584441Z",
     "start_time": "2021-07-30T08:12:48.564984Z"
    }
   },
   "outputs": [
    {
     "data": {
      "text/plain": [
       "array([6.8, 7.3])"
      ]
     },
     "execution_count": 141,
     "metadata": {},
     "output_type": "execute_result"
    }
   ],
   "source": [
    "f = X[:,0] * W[0] +W[1]\n",
    "f"
   ]
  },
  {
   "cell_type": "code",
   "execution_count": 145,
   "id": "bf6006c5",
   "metadata": {
    "ExecuteTime": {
     "end_time": "2021-07-30T08:15:07.324158Z",
     "start_time": "2021-07-30T08:15:07.195995Z"
    }
   },
   "outputs": [
    {
     "data": {
      "image/png": "[encoded data removed]",
      "text/plain": [
       "<Figure size 432x288 with 1 Axes>"
      ]
     },
     "metadata": {
      "needs_background": "light"
     },
     "output_type": "display_data"
    }
   ],
   "source": [
    "import matplotlib.pyplot as plt\n",
    "plt.scatter(x,y)\n",
    "plt.plot(x, f, '')\n",
    "plt.show()"
   ]
  },
  {
   "cell_type": "markdown",
   "id": "853b295e",
   "metadata": {},
   "source": [
    "**데이터를 n개**"
   ]
  },
  {
   "cell_type": "code",
   "execution_count": 146,
   "id": "b274e65d",
   "metadata": {
    "ExecuteTime": {
     "end_time": "2021-07-30T08:42:27.224574Z",
     "start_time": "2021-07-30T08:42:27.207619Z"
    }
   },
   "outputs": [],
   "source": [
    "x = [32,64,96,118,126,144,152.5,158] #독립변수\n",
    "y = [18, 24, 61.5, 49, 52,105, 130.3, 125] #독립변수"
   ]
  },
  {
   "cell_type": "code",
   "execution_count": 148,
   "id": "5fd81f61",
   "metadata": {
    "ExecuteTime": {
     "end_time": "2021-07-30T08:44:35.857246Z",
     "start_time": "2021-07-30T08:44:35.840284Z"
    }
   },
   "outputs": [
    {
     "name": "stdout",
     "output_type": "stream",
     "text": [
      "[[ 32.    1. ]\n",
      " [ 64.    1. ]\n",
      " [ 96.    1. ]\n",
      " [118.    1. ]\n",
      " [126.    1. ]\n",
      " [144.    1. ]\n",
      " [152.5   1. ]\n",
      " [158.    1. ]]\n",
      "[[ 18. ]\n",
      " [ 24. ]\n",
      " [ 61.5]\n",
      " [ 49. ]\n",
      " [ 52. ]\n",
      " [105. ]\n",
      " [130.3]\n",
      " [125. ]]\n"
     ]
    }
   ],
   "source": [
    "X=np.column_stack((x, np.ones(len(x))))\n",
    "print(X) #독립변수 행렬\n",
    "Y=np.array(y).reshape(len(y),1)\n",
    "print(Y) #종속변수 행렬"
   ]
  },
  {
   "cell_type": "markdown",
   "id": "f1fdf38a",
   "metadata": {},
   "source": [
    "X @ W = Y <br>\n",
    "X.T@ X @ W = X.T @ Y <br>\n",
    "(X.T @ X)의 역행렬 @ X.T @ X @ W = (X.T @ X)의 역행렬 @ X.T @ Y <br>\n",
    "W = (X.T @ X)의 역행렬 @ X.T @ Y <br>"
   ]
  },
  {
   "cell_type": "code",
   "execution_count": 150,
   "id": "fbc25b2f",
   "metadata": {
    "ExecuteTime": {
     "end_time": "2021-07-30T08:48:55.619982Z",
     "start_time": "2021-07-30T08:48:55.612994Z"
    }
   },
   "outputs": [
    {
     "data": {
      "text/plain": [
       "array([[  0.87493126],\n",
       "       [-26.79078617]])"
      ]
     },
     "execution_count": 150,
     "metadata": {},
     "output_type": "execute_result"
    }
   ],
   "source": [
    "W = np.linalg.inv(X.T @ X) @ X.T @ Y\n",
    "W"
   ]
  },
  {
   "cell_type": "code",
   "execution_count": 154,
   "id": "f5f6d748",
   "metadata": {
    "ExecuteTime": {
     "end_time": "2021-07-30T08:52:54.994180Z",
     "start_time": "2021-07-30T08:52:54.983178Z"
    }
   },
   "outputs": [
    {
     "data": {
      "text/plain": [
       "array([  1.20701424,  29.20481464,  57.20261504,  76.45110282,\n",
       "        83.45055292,  99.19931565, 106.63623138, 111.44835332])"
      ]
     },
     "execution_count": 154,
     "metadata": {},
     "output_type": "execute_result"
    }
   ],
   "source": [
    "f = X[:, 0] * W[0] + W[1] # 예측치\n",
    "f"
   ]
  },
  {
   "cell_type": "code",
   "execution_count": 156,
   "id": "3f1dda38",
   "metadata": {
    "ExecuteTime": {
     "end_time": "2021-07-30T08:53:31.494721Z",
     "start_time": "2021-07-30T08:53:31.367063Z"
    }
   },
   "outputs": [
    {
     "data": {
      "image/png": "[encoded data removed]",
      "text/plain": [
       "<Figure size 432x288 with 1 Axes>"
      ]
     },
     "metadata": {
      "needs_background": "light"
     },
     "output_type": "display_data"
    }
   ],
   "source": [
    "plt.scatter(x,y)\n",
    "plt.plot(X[:,0],f,'-')\n",
    "plt.show()"
   ]
  },
  {
   "cell_type": "markdown",
   "id": "b1aa3cd5",
   "metadata": {},
   "source": [
    "# 7절. 연습문제"
   ]
  },
  {
   "cell_type": "markdown",
   "id": "fb6012b7",
   "metadata": {},
   "source": [
    "## 7.1 실습형"
   ]
  },
  {
   "cell_type": "code",
   "execution_count": 159,
   "id": "6b0870b3",
   "metadata": {
    "ExecuteTime": {
     "end_time": "2021-07-30T09:00:55.602674Z",
     "start_time": "2021-07-30T09:00:55.585720Z"
    }
   },
   "outputs": [
    {
     "name": "stdout",
     "output_type": "stream",
     "text": [
      "[[5.1 3.5 1.4 0.2]\n",
      " [4.9 3.  1.4 0.2]\n",
      " [4.7 3.2 1.3 0.2]\n",
      " [4.6 3.1 1.5 0.2]\n",
      " [5.  3.6 1.4 0.2]\n",
      " [5.4 3.9 1.7 0.4]\n",
      " [4.6 3.4 1.4 0.3]\n",
      " [5.  3.4 1.5 0.2]\n",
      " [4.4 2.9 1.4 0.2]\n",
      " [4.9 3.1 1.5 0.1]\n",
      " [5.4 3.7 1.5 0.2]\n",
      " [4.8 3.4 1.6 0.2]\n",
      " [4.8 3.  1.4 0.1]\n",
      " [4.3 3.  1.1 0.1]\n",
      " [5.8 4.  1.2 0.2]\n",
      " [5.7 4.4 1.5 0.4]\n",
      " [5.4 3.9 1.3 0.4]\n",
      " [5.1 3.5 1.4 0.3]\n",
      " [5.7 3.8 1.7 0.3]\n",
      " [5.1 3.8 1.5 0.3]\n",
      " [5.4 3.4 1.7 0.2]\n",
      " [5.1 3.7 1.5 0.4]\n",
      " [4.6 3.6 1.  0.2]\n",
      " [5.1 3.3 1.7 0.5]\n",
      " [4.8 3.4 1.9 0.2]\n",
      " [5.  3.  1.6 0.2]\n",
      " [5.  3.4 1.6 0.4]\n",
      " [5.2 3.5 1.5 0.2]\n",
      " [5.2 3.4 1.4 0.2]\n",
      " [4.7 3.2 1.6 0.2]\n",
      " [4.8 3.1 1.6 0.2]\n",
      " [5.4 3.4 1.5 0.4]\n",
      " [5.2 4.1 1.5 0.1]\n",
      " [5.5 4.2 1.4 0.2]\n",
      " [4.9 3.1 1.5 0.2]\n",
      " [5.  3.2 1.2 0.2]\n",
      " [5.5 3.5 1.3 0.2]\n",
      " [4.9 3.6 1.4 0.1]\n",
      " [4.4 3.  1.3 0.2]\n",
      " [5.1 3.4 1.5 0.2]\n",
      " [5.  3.5 1.3 0.3]\n",
      " [4.5 2.3 1.3 0.3]\n",
      " [4.4 3.2 1.3 0.2]\n",
      " [5.  3.5 1.6 0.6]\n",
      " [5.1 3.8 1.9 0.4]\n",
      " [4.8 3.  1.4 0.3]\n",
      " [5.1 3.8 1.6 0.2]\n",
      " [4.6 3.2 1.4 0.2]\n",
      " [5.3 3.7 1.5 0.2]\n",
      " [5.  3.3 1.4 0.2]\n",
      " [7.  3.2 4.7 1.4]\n",
      " [6.4 3.2 4.5 1.5]\n",
      " [6.9 3.1 4.9 1.5]\n",
      " [5.5 2.3 4.  1.3]\n",
      " [6.5 2.8 4.6 1.5]\n",
      " [5.7 2.8 4.5 1.3]\n",
      " [6.3 3.3 4.7 1.6]\n",
      " [4.9 2.4 3.3 1. ]\n",
      " [6.6 2.9 4.6 1.3]\n",
      " [5.2 2.7 3.9 1.4]\n",
      " [5.  2.  3.5 1. ]\n",
      " [5.9 3.  4.2 1.5]\n",
      " [6.  2.2 4.  1. ]\n",
      " [6.1 2.9 4.7 1.4]\n",
      " [5.6 2.9 3.6 1.3]\n",
      " [6.7 3.1 4.4 1.4]\n",
      " [5.6 3.  4.5 1.5]\n",
      " [5.8 2.7 4.1 1. ]\n",
      " [6.2 2.2 4.5 1.5]\n",
      " [5.6 2.5 3.9 1.1]\n",
      " [5.9 3.2 4.8 1.8]\n",
      " [6.1 2.8 4.  1.3]\n",
      " [6.3 2.5 4.9 1.5]\n",
      " [6.1 2.8 4.7 1.2]\n",
      " [6.4 2.9 4.3 1.3]\n",
      " [6.6 3.  4.4 1.4]\n",
      " [6.8 2.8 4.8 1.4]\n",
      " [6.7 3.  5.  1.7]\n",
      " [6.  2.9 4.5 1.5]\n",
      " [5.7 2.6 3.5 1. ]\n",
      " [5.5 2.4 3.8 1.1]\n",
      " [5.5 2.4 3.7 1. ]\n",
      " [5.8 2.7 3.9 1.2]\n",
      " [6.  2.7 5.1 1.6]\n",
      " [5.4 3.  4.5 1.5]\n",
      " [6.  3.4 4.5 1.6]\n",
      " [6.7 3.1 4.7 1.5]\n",
      " [6.3 2.3 4.4 1.3]\n",
      " [5.6 3.  4.1 1.3]\n",
      " [5.5 2.5 4.  1.3]\n",
      " [5.5 2.6 4.4 1.2]\n",
      " [6.1 3.  4.6 1.4]\n",
      " [5.8 2.6 4.  1.2]\n",
      " [5.  2.3 3.3 1. ]\n",
      " [5.6 2.7 4.2 1.3]\n",
      " [5.7 3.  4.2 1.2]\n",
      " [5.7 2.9 4.2 1.3]\n",
      " [6.2 2.9 4.3 1.3]\n",
      " [5.1 2.5 3.  1.1]\n",
      " [5.7 2.8 4.1 1.3]\n",
      " [6.3 3.3 6.  2.5]\n",
      " [5.8 2.7 5.1 1.9]\n",
      " [7.1 3.  5.9 2.1]\n",
      " [6.3 2.9 5.6 1.8]\n",
      " [6.5 3.  5.8 2.2]\n",
      " [7.6 3.  6.6 2.1]\n",
      " [4.9 2.5 4.5 1.7]\n",
      " [7.3 2.9 6.3 1.8]\n",
      " [6.7 2.5 5.8 1.8]\n",
      " [7.2 3.6 6.1 2.5]\n",
      " [6.5 3.2 5.1 2. ]\n",
      " [6.4 2.7 5.3 1.9]\n",
      " [6.8 3.  5.5 2.1]\n",
      " [5.7 2.5 5.  2. ]\n",
      " [5.8 2.8 5.1 2.4]\n",
      " [6.4 3.2 5.3 2.3]\n",
      " [6.5 3.  5.5 1.8]\n",
      " [7.7 3.8 6.7 2.2]\n",
      " [7.7 2.6 6.9 2.3]\n",
      " [6.  2.2 5.  1.5]\n",
      " [6.9 3.2 5.7 2.3]\n",
      " [5.6 2.8 4.9 2. ]\n",
      " [7.7 2.8 6.7 2. ]\n",
      " [6.3 2.7 4.9 1.8]\n",
      " [6.7 3.3 5.7 2.1]\n",
      " [7.2 3.2 6.  1.8]\n",
      " [6.2 2.8 4.8 1.8]\n",
      " [6.1 3.  4.9 1.8]\n",
      " [6.4 2.8 5.6 2.1]\n",
      " [7.2 3.  5.8 1.6]\n",
      " [7.4 2.8 6.1 1.9]\n",
      " [7.9 3.8 6.4 2. ]\n",
      " [6.4 2.8 5.6 2.2]\n",
      " [6.3 2.8 5.1 1.5]\n",
      " [6.1 2.6 5.6 1.4]\n",
      " [7.7 3.  6.1 2.3]\n",
      " [6.3 3.4 5.6 2.4]\n",
      " [6.4 3.1 5.5 1.8]\n",
      " [6.  3.  4.8 1.8]\n",
      " [6.9 3.1 5.4 2.1]\n",
      " [6.7 3.1 5.6 2.4]\n",
      " [6.9 3.1 5.1 2.3]\n",
      " [5.8 2.7 5.1 1.9]\n",
      " [6.8 3.2 5.9 2.3]\n",
      " [6.7 3.3 5.7 2.5]\n",
      " [6.7 3.  5.2 2.3]\n",
      " [6.3 2.5 5.  1.9]\n",
      " [6.5 3.  5.2 2. ]\n",
      " [6.2 3.4 5.4 2.3]\n",
      " [5.9 3.  5.1 1.8]]\n",
      "[0 0 0 0 0 0 0 0 0 0 0 0 0 0 0 0 0 0 0 0 0 0 0 0 0 0 0 0 0 0 0 0 0 0 0 0 0\n",
      " 0 0 0 0 0 0 0 0 0 0 0 0 0 1 1 1 1 1 1 1 1 1 1 1 1 1 1 1 1 1 1 1 1 1 1 1 1\n",
      " 1 1 1 1 1 1 1 1 1 1 1 1 1 1 1 1 1 1 1 1 1 1 1 1 1 1 2 2 2 2 2 2 2 2 2 2 2\n",
      " 2 2 2 2 2 2 2 2 2 2 2 2 2 2 2 2 2 2 2 2 2 2 2 2 2 2 2 2 2 2 2 2 2 2 2 2 2\n",
      " 2 2]\n"
     ]
    }
   ],
   "source": [
    "#1\n",
    "import numpy as np\n",
    "from sklearn import datasets\n",
    "iris = datasets.load_iris()\n",
    "iris\n",
    "print(iris.data) # 독립변수\n",
    "print(iris.target) # 종속변수"
   ]
  },
  {
   "cell_type": "code",
   "execution_count": null,
   "id": "276858f9",
   "metadata": {},
   "outputs": [],
   "source": [
    "iris_data = iris.data # 독립변수\n",
    "iris_target = iris.target # 종속변수"
   ]
  },
  {
   "cell_type": "code",
   "execution_count": 162,
   "id": "9381da4b",
   "metadata": {
    "ExecuteTime": {
     "end_time": "2021-07-30T09:03:45.921581Z",
     "start_time": "2021-07-30T09:03:45.914597Z"
    }
   },
   "outputs": [
    {
     "data": {
      "text/plain": [
       "array(['setosa', 'setosa', 'setosa', 'setosa', 'setosa', 'setosa',\n",
       "       'setosa', 'setosa', 'setosa', 'setosa', 'setosa', 'setosa',\n",
       "       'setosa', 'setosa', 'setosa', 'setosa', 'setosa', 'setosa',\n",
       "       'setosa', 'setosa', 'setosa', 'setosa', 'setosa', 'setosa',\n",
       "       'setosa', 'setosa', 'setosa', 'setosa', 'setosa', 'setosa',\n",
       "       'setosa', 'setosa', 'setosa', 'setosa', 'setosa', 'setosa',\n",
       "       'setosa', 'setosa', 'setosa', 'setosa', 'setosa', 'setosa',\n",
       "       'setosa', 'setosa', 'setosa', 'setosa', 'setosa', 'setosa',\n",
       "       'setosa', 'setosa', 'versicolor', 'versicolor', 'versicolor',\n",
       "       'versicolor', 'versicolor', 'versicolor', 'versicolor',\n",
       "       'versicolor', 'versicolor', 'versicolor', 'versicolor',\n",
       "       'versicolor', 'versicolor', 'versicolor', 'versicolor',\n",
       "       'versicolor', 'versicolor', 'versicolor', 'versicolor',\n",
       "       'versicolor', 'versicolor', 'versicolor', 'versicolor',\n",
       "       'versicolor', 'versicolor', 'versicolor', 'versicolor',\n",
       "       'versicolor', 'versicolor', 'versicolor', 'versicolor',\n",
       "       'versicolor', 'versicolor', 'versicolor', 'versicolor',\n",
       "       'versicolor', 'versicolor', 'versicolor', 'versicolor',\n",
       "       'versicolor', 'versicolor', 'versicolor', 'versicolor',\n",
       "       'versicolor', 'versicolor', 'versicolor', 'versicolor',\n",
       "       'versicolor', 'versicolor', 'versicolor', 'virginica', 'virginica',\n",
       "       'virginica', 'virginica', 'virginica', 'virginica', 'virginica',\n",
       "       'virginica', 'virginica', 'virginica', 'virginica', 'virginica',\n",
       "       'virginica', 'virginica', 'virginica', 'virginica', 'virginica',\n",
       "       'virginica', 'virginica', 'virginica', 'virginica', 'virginica',\n",
       "       'virginica', 'virginica', 'virginica', 'virginica', 'virginica',\n",
       "       'virginica', 'virginica', 'virginica', 'virginica', 'virginica',\n",
       "       'virginica', 'virginica', 'virginica', 'virginica', 'virginica',\n",
       "       'virginica', 'virginica', 'virginica', 'virginica', 'virginica',\n",
       "       'virginica', 'virginica', 'virginica', 'virginica', 'virginica',\n",
       "       'virginica', 'virginica', 'virginica'], dtype='<U10')"
      ]
     },
     "execution_count": 162,
     "metadata": {},
     "output_type": "execute_result"
    }
   ],
   "source": [
    "iris.target_names[iris.target]"
   ]
  },
  {
   "cell_type": "code",
   "execution_count": 163,
   "id": "953c3c04",
   "metadata": {
    "ExecuteTime": {
     "end_time": "2021-07-30T09:05:55.882448Z",
     "start_time": "2021-07-30T09:05:55.865472Z"
    }
   },
   "outputs": [
    {
     "data": {
      "text/plain": [
       "array([5.84333333, 3.05733333, 3.758     , 1.19933333])"
      ]
     },
     "execution_count": 163,
     "metadata": {},
     "output_type": "execute_result"
    }
   ],
   "source": [
    "iris.data.mean(axis=0)"
   ]
  },
  {
   "cell_type": "code",
   "execution_count": 181,
   "id": "f1529724",
   "metadata": {
    "ExecuteTime": {
     "end_time": "2021-07-30T09:14:20.755448Z",
     "start_time": "2021-07-30T09:14:20.738493Z"
    }
   },
   "outputs": [
    {
     "data": {
      "text/plain": [
       "array([[5.1, 3.5, 1.4, 0.2],\n",
       "       [4.9, 3. , 1.4, 0.2],\n",
       "       [4.7, 3.2, 1.3, 0.2],\n",
       "       [4.6, 3.1, 1.5, 0.2],\n",
       "       [5. , 3.6, 1.4, 0.2]])"
      ]
     },
     "execution_count": 181,
     "metadata": {},
     "output_type": "execute_result"
    }
   ],
   "source": [
    "#2\n",
    "Data = iris.data[0:5,].copy()\n",
    "Data"
   ]
  },
  {
   "cell_type": "code",
   "execution_count": 186,
   "id": "7fffb45c",
   "metadata": {
    "ExecuteTime": {
     "end_time": "2021-07-30T09:17:27.373768Z",
     "start_time": "2021-07-30T09:17:27.364764Z"
    }
   },
   "outputs": [
    {
     "data": {
      "text/plain": [
       "array([[5.1, 3.5, 1.4],\n",
       "       [4.9, 3. , 1.4],\n",
       "       [4.7, 3.2, 1.3],\n",
       "       [4.6, 3.1, 1.5],\n",
       "       [5. , 3.6, 1.4]])"
      ]
     },
     "execution_count": 186,
     "metadata": {},
     "output_type": "execute_result"
    }
   ],
   "source": [
    "#3\n",
    "Data[:,:-1]"
   ]
  },
  {
   "cell_type": "code",
   "execution_count": 187,
   "id": "ac60e718",
   "metadata": {
    "ExecuteTime": {
     "end_time": "2021-07-30T09:17:42.577860Z",
     "start_time": "2021-07-30T09:17:42.564896Z"
    }
   },
   "outputs": [
    {
     "data": {
      "text/plain": [
       "array([0.2, 0.2, 0.2, 0.2, 0.2])"
      ]
     },
     "execution_count": 187,
     "metadata": {},
     "output_type": "execute_result"
    }
   ],
   "source": [
    "#4\n",
    "Data[:,-1]"
   ]
  },
  {
   "cell_type": "code",
   "execution_count": 190,
   "id": "ccda6f31",
   "metadata": {
    "ExecuteTime": {
     "end_time": "2021-07-30T09:20:14.695613Z",
     "start_time": "2021-07-30T09:20:14.671678Z"
    }
   },
   "outputs": [
    {
     "ename": "NameError",
     "evalue": "name 'hstack' is not defined",
     "output_type": "error",
     "traceback": [
      "\u001b[1;31m---------------------------------------------------------------------------\u001b[0m",
      "\u001b[1;31mNameError\u001b[0m                                 Traceback (most recent call last)",
      "\u001b[1;32m<ipython-input-190-b5ce2a7ebb26>\u001b[0m in \u001b[0;36m<module>\u001b[1;34m\u001b[0m\n\u001b[0;32m      1\u001b[0m \u001b[1;31m#5\u001b[0m\u001b[1;33m\u001b[0m\u001b[1;33m\u001b[0m\u001b[1;33m\u001b[0m\u001b[0m\n\u001b[0;32m      2\u001b[0m \u001b[1;32mimport\u001b[0m \u001b[0mnumpy\u001b[0m \u001b[1;32mas\u001b[0m \u001b[0mnp\u001b[0m\u001b[1;33m\u001b[0m\u001b[1;33m\u001b[0m\u001b[0m\n\u001b[1;32m----> 3\u001b[1;33m \u001b[0mhstack\u001b[0m\u001b[1;33m(\u001b[0m\u001b[1;33m(\u001b[0m\u001b[0mData\u001b[0m\u001b[1;33m[\u001b[0m\u001b[1;33m:\u001b[0m\u001b[1;33m,\u001b[0m\u001b[1;33m:\u001b[0m\u001b[1;33m-\u001b[0m\u001b[1;36m1\u001b[0m\u001b[1;33m]\u001b[0m\u001b[1;33m,\u001b[0m\u001b[0mData\u001b[0m\u001b[1;33m[\u001b[0m\u001b[1;33m:\u001b[0m\u001b[1;33m,\u001b[0m\u001b[1;33m-\u001b[0m\u001b[1;36m1\u001b[0m\u001b[1;33m]\u001b[0m\u001b[1;33m)\u001b[0m\u001b[1;33m)\u001b[0m\u001b[1;33m\u001b[0m\u001b[1;33m\u001b[0m\u001b[0m\n\u001b[0m",
      "\u001b[1;31mNameError\u001b[0m: name 'hstack' is not defined"
     ]
    }
   ],
   "source": [
    "#5\n",
    "import numpy as np\n",
    "hstack((Data[:,:-1],Data[:,-1]))"
   ]
  },
  {
   "cell_type": "code",
   "execution_count": null,
   "id": "8584b9b8",
   "metadata": {},
   "outputs": [],
   "source": []
  },
  {
   "cell_type": "code",
   "execution_count": null,
   "id": "f0572f9f",
   "metadata": {},
   "outputs": [],
   "source": []
  },
  {
   "cell_type": "code",
   "execution_count": null,
   "id": "545c4d86",
   "metadata": {},
   "outputs": [],
   "source": []
  },
  {
   "cell_type": "code",
   "execution_count": null,
   "id": "234fe1dd",
   "metadata": {},
   "outputs": [],
   "source": []
  },
  {
   "cell_type": "code",
   "execution_count": null,
   "id": "63c4b597",
   "metadata": {},
   "outputs": [],
   "source": []
  },
  {
   "cell_type": "code",
   "execution_count": null,
   "id": "79f80506",
   "metadata": {},
   "outputs": [],
   "source": []
  }
 ],
 "metadata": {
  "kernelspec": {
   "display_name": "Python 3",
   "language": "python",
   "name": "python3"
  },
  "language_info": {
   "codemirror_mode": {
    "name": "ipython",
    "version": 3
   },
   "file_extension": ".py",
   "mimetype": "text/x-python",
   "name": "python",
   "nbconvert_exporter": "python",
   "pygments_lexer": "ipython3",
   "version": "3.8.8"
  },
  "toc": {
   "base_numbering": 1,
   "nav_menu": {},
   "number_sections": false,
   "sideBar": true,
   "skip_h1_title": false,
   "title_cell": "Table of Contents",
   "title_sidebar": "Contents",
   "toc_cell": false,
   "toc_position": {
    "height": "calc(100% - 180px)",
    "left": "10px",
    "top": "150px",
    "width": "341.333px"
   },
   "toc_section_display": true,
   "toc_window_display": true
  },
  "varInspector": {
   "cols": {
    "lenName": 16,
    "lenType": 16,
    "lenVar": 40
   },
   "kernels_config": {
    "python": {
     "delete_cmd_postfix": "",
     "delete_cmd_prefix": "del ",
     "library": "var_list.py",
     "varRefreshCmd": "print(var_dic_list())"
    },
    "r": {
     "delete_cmd_postfix": ") ",
     "delete_cmd_prefix": "rm(",
     "library": "var_list.r",
     "varRefreshCmd": "cat(var_dic_list()) "
    }
   },
   "types_to_exclude": [
    "module",
    "function",
    "builtin_function_or_method",
    "instance",
    "_Feature"
   ],
   "window_display": false
  }
 },
 "nbformat": 4,
 "nbformat_minor": 5
}
