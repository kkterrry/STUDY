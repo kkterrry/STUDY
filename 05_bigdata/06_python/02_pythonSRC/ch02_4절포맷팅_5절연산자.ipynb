{
 "cells": [
  {
   "cell_type": "markdown",
   "id": "31ebd4ff",
   "metadata": {
    "ExecuteTime": {
     "end_time": "2021-07-20T03:21:40.843989Z",
     "start_time": "2021-07-20T03:21:40.825044Z"
    }
   },
   "source": [
    "<b><font size=\"6\" color=\"red\">ch02. 자료형과 연산자</font></b>"
   ]
  },
  {
   "cell_type": "markdown",
   "id": "1002b21a",
   "metadata": {},
   "source": [
    "# 4절. 포맷팅\n",
    "- 포맷팅이란, 출력할 문자, 숫자, 날짜 데이터에 형식을 지정하는 것.\n",
    "- 변수와 텍스를 결합해서 보기 좋은 형식의 새로운 텍스트를 만들때 사용"
   ]
  },
  {
   "cell_type": "markdown",
   "id": "5633a742",
   "metadata": {},
   "source": [
    "## 4.1 문자열에 형식 지정"
   ]
  },
  {
   "cell_type": "code",
   "execution_count": 1,
   "id": "57c877af",
   "metadata": {
    "ExecuteTime": {
     "end_time": "2021-07-19T15:41:35.358012Z",
     "start_time": "2021-07-19T15:41:35.342333Z"
    }
   },
   "outputs": [
    {
     "name": "stdout",
     "output_type": "stream",
     "text": [
      "홍길동님의 나이는 30살입니다\n"
     ]
    }
   ],
   "source": [
    "name = \"홍길동\"\n",
    "age  = 30\n",
    "print(name, '님의 나이는 ', age , '살입니다', sep='')\n",
    "# 변수와 텍스트를 번갈아 사용해서 가독성 떨어져서 포맷팅 사용"
   ]
  },
  {
   "cell_type": "code",
   "execution_count": 2,
   "id": "d9213d72",
   "metadata": {
    "ExecuteTime": {
     "end_time": "2021-07-19T15:41:45.923224Z",
     "start_time": "2021-07-19T15:41:45.908270Z"
    }
   },
   "outputs": [
    {
     "data": {
      "text/plain": [
       "'홍길동님의 나이는 30살입니다'"
      ]
     },
     "execution_count": 2,
     "metadata": {},
     "output_type": "execute_result"
    }
   ],
   "source": [
    "# 이전 스타일\n",
    "# %s문자, %d:숫자(10진수정수), %f:실수\n",
    "\"%s님의 나이는 %d살입니다\" % (name, age)"
   ]
  },
  {
   "cell_type": "code",
   "execution_count": 3,
   "id": "c18d42cf",
   "metadata": {
    "ExecuteTime": {
     "end_time": "2021-07-19T15:41:54.763855Z",
     "start_time": "2021-07-19T15:41:54.751886Z"
    }
   },
   "outputs": [
    {
     "data": {
      "text/plain": [
       "'홍길동님의 나이는 30살입니다'"
      ]
     },
     "execution_count": 3,
     "metadata": {},
     "output_type": "execute_result"
    }
   ],
   "source": [
    "# 새로운 스타일\n",
    "\"{}님의 나이는 {}살입니다\".format(name, age)"
   ]
  },
  {
   "cell_type": "code",
   "execution_count": 4,
   "id": "b73362c5",
   "metadata": {
    "ExecuteTime": {
     "end_time": "2021-07-19T15:42:00.361960Z",
     "start_time": "2021-07-19T15:42:00.347001Z"
    }
   },
   "outputs": [
    {
     "data": {
      "text/plain": [
       "'홍길동님의 나이는 30살입니다'"
      ]
     },
     "execution_count": 4,
     "metadata": {},
     "output_type": "execute_result"
    }
   ],
   "source": [
    "\"{1}님의 나이는 {0}살입니다\".format(age, name)"
   ]
  },
  {
   "cell_type": "markdown",
   "id": "c1c32909",
   "metadata": {},
   "source": [
    "## 4.2 format()함수 문법"
   ]
  },
  {
   "cell_type": "code",
   "execution_count": 5,
   "id": "deb5125e",
   "metadata": {
    "ExecuteTime": {
     "end_time": "2021-07-19T15:42:39.125850Z",
     "start_time": "2021-07-19T15:42:39.107872Z"
    }
   },
   "outputs": [],
   "source": [
    "#\"{[인덱스]:[공백대체문자][정렬방법][자릿수][타입]}\".format(변수명,...)"
   ]
  },
  {
   "cell_type": "code",
   "execution_count": 6,
   "id": "1e6f7197",
   "metadata": {
    "ExecuteTime": {
     "end_time": "2021-07-19T15:42:51.411472Z",
     "start_time": "2021-07-19T15:42:51.399528Z"
    }
   },
   "outputs": [],
   "source": [
    "# 인덱스 : format함수안 인수의 순서\n",
    "# 정렬방법 : <기호:왼쪽 정렬, >기호:오른쪽정렬, ^기호:가운데정렬\n",
    "# 자릿수 : 출력할 자릿수 지정. 변수보다 적은 자릿수가 지정되면 자리수 무시\n",
    "# 타입 : d(10진수정수), o(8진수), b(3진수) f(실수) s(문자) x(16진수)"
   ]
  },
  {
   "cell_type": "code",
   "execution_count": 7,
   "id": "5e72fe79",
   "metadata": {
    "ExecuteTime": {
     "end_time": "2021-07-19T15:43:10.136969Z",
     "start_time": "2021-07-19T15:43:02.502206Z"
    }
   },
   "outputs": [
    {
     "name": "stdout",
     "output_type": "stream",
     "text": [
      "이름은 ?홍길동\n",
      "나이는 ?30\n",
      "30살 홍길동님은 30살이 참 좋은 나이라는 걸 알려나\n"
     ]
    }
   ],
   "source": [
    "name = input(\"이름은 ?\")\n",
    "age = int(input(\"나이는 ?\"))\n",
    "print(\"{1}살 {0}님은 {1}살이 참 좋은 나이라는 걸 알려나\".format(name, age))"
   ]
  },
  {
   "cell_type": "code",
   "execution_count": 8,
   "id": "de570e1c",
   "metadata": {
    "ExecuteTime": {
     "end_time": "2021-07-19T15:43:20.694746Z",
     "start_time": "2021-07-19T15:43:20.683776Z"
    }
   },
   "outputs": [
    {
     "name": "stdout",
     "output_type": "stream",
     "text": [
      "출력 : [12345], [     12345], [12345]\n",
      "출력 : [Hello], [Hello     ], [Hello]\n"
     ]
    }
   ],
   "source": [
    "# 숫자의 경우 출력할 변수보다 큰 자릿수를 지정하면 오른쪽 정렬(기본값)\n",
    "# 문자의 경우 출력할 변수보다 큰 자릿수를 지정하면 왼쪽 정렬(기본값)\n",
    "# 변수보다 작은 자리수를 지정하면 자리수 지정 무시되고 다 출력\n",
    "a = 12345\n",
    "s = \"Hello\"\n",
    "print(\"출력 : [{0}], [{0:10}], [{0:3}]\".format(a))\n",
    "print(\"출력 : [{0}], [{0:10}], [{0:3}]\".format(s))"
   ]
  },
  {
   "cell_type": "code",
   "execution_count": 9,
   "id": "b99d0174",
   "metadata": {
    "ExecuteTime": {
     "end_time": "2021-07-19T15:46:17.233594Z",
     "start_time": "2021-07-19T15:46:17.225614Z"
    }
   },
   "outputs": [
    {
     "name": "stdout",
     "output_type": "stream",
     "text": [
      "출력 : [a     ], [    20], [  3   ]\n"
     ]
    }
   ],
   "source": [
    "# 정렬방법 > < ^\n",
    "a, b, c = 10, 20, 3 \n",
    "print(\"출력 : [{:<6x}], [{:>6d}], [{:^6d}]\".format(a, b, c))"
   ]
  },
  {
   "cell_type": "code",
   "execution_count": 10,
   "id": "d7e55dfa",
   "metadata": {
    "ExecuteTime": {
     "end_time": "2021-07-19T15:46:43.139577Z",
     "start_time": "2021-07-19T15:46:43.128607Z"
    }
   },
   "outputs": [
    {
     "name": "stdout",
     "output_type": "stream",
     "text": [
      "출력 : [$$$$$$$$10], [Hello***************], [Hel_______]\n"
     ]
    }
   ],
   "source": [
    "# \"인덱스:공백대체문자 정렬방법 자릿수 타입\".format()\n",
    "a = 10\n",
    "s = \"Hello\"\n",
    "print(\"출력 : [{0:$>10}], [{1:*<20}], [{1:_<10.3}]\".format(a, s))\n",
    "                              # 10.3 전체 10자리확보 변수중 3자리만 출력"
   ]
  },
  {
   "cell_type": "code",
   "execution_count": 11,
   "id": "0563747e",
   "metadata": {
    "ExecuteTime": {
     "end_time": "2021-07-19T15:48:40.076318Z",
     "start_time": "2021-07-19T15:48:40.061358Z"
    }
   },
   "outputs": [
    {
     "name": "stdout",
     "output_type": "stream",
     "text": [
      "$$$$10$$$$ / ***************Hello\n"
     ]
    }
   ],
   "source": [
    "# 공백대체문자를 지정할 때는 반드시 정렬방법을 표현해야 합니다(주의점)\n",
    "print(\"{:$^10} / {:*>20}\".format(a, s))\n",
    "# print(\"{:$10} / {:*20}\".format(a, s)) 에러 남"
   ]
  },
  {
   "cell_type": "code",
   "execution_count": 12,
   "id": "6a7a2e5a",
   "metadata": {
    "ExecuteTime": {
     "end_time": "2021-07-19T15:49:05.921904Z",
     "start_time": "2021-07-19T15:49:05.902954Z"
    }
   },
   "outputs": [
    {
     "name": "stdout",
     "output_type": "stream",
     "text": [
      "출력 ㅣ [      -123], [      +123], [       123]\n",
      "출력 ㅣ [-      123], [       123], [       123]\n",
      "출력 ㅣ [-      123], [+      123], [       123]\n",
      "출력 ㅣ [-      123], [+      123], [+000000123]\n",
      "출력 ㅣ [$$$$$$-123], [+______123], [+★★★★★★123]\n"
     ]
    }
   ],
   "source": [
    "# 자리수 앞에 +를 붙이면 양수의 경우도 부호를 붙여줌\n",
    "# 자리수 앞에 =를 붙이면 부호가 자릿수의 맨앞에 표시됨(음수의 경우만)\n",
    "# 자릿수 앞에 =+를 붙이면 부호가 자릿수의 맨앞에 표시됨(양수, 음수 모두)\n",
    "# 자릿수 앞에 0을 채우면 빈자리에 0을 채움\n",
    "# 공백대체문자는 =앞에\n",
    "# 공백대체문자와 자릿앞의 0을 모두 쓰면 자리수앞의 0은 무시\n",
    "a, b = 123, -123\n",
    "print(\"출력 ㅣ [{:+10}], [{:+10}], [{:10}]\".format(b, a, a))\n",
    "print(\"출력 ㅣ [{:=10}], [{:=10}], [{:10}]\".format(b, a, a))\n",
    "print(\"출력 ㅣ [{:=10}], [{:=+10}], [{:10}]\".format(b, a, a))\n",
    "print(\"출력 ㅣ [{:=10}], [{:=+10}], [{:=+010}]\".format(b, a, a))\n",
    "print(\"출력 ㅣ [{:$>10}], [{:_=+10}], [{:★=+010}]\".format(b, a, a))"
   ]
  },
  {
   "cell_type": "code",
   "execution_count": 2,
   "id": "2c0d1335",
   "metadata": {
    "ExecuteTime": {
     "end_time": "2021-07-20T00:49:43.730997Z",
     "start_time": "2021-07-20T00:49:43.715039Z"
    }
   },
   "outputs": [
    {
     "name": "stdout",
     "output_type": "stream",
     "text": [
      "a = [       2.8]\n"
     ]
    }
   ],
   "source": [
    "# 전체자리수.표현될자리수\n",
    "a = 2.785\n",
    "s = \"Hello\"\n",
    "print(\"a = [{:>10.2}]\".format(a)) #전체자리는 10자리를 확보하고 a는 2자리만 출력"
   ]
  },
  {
   "cell_type": "code",
   "execution_count": 3,
   "id": "be0d1af4",
   "metadata": {
    "ExecuteTime": {
     "end_time": "2021-07-20T00:51:46.591705Z",
     "start_time": "2021-07-20T00:51:46.587692Z"
    }
   },
   "outputs": [
    {
     "name": "stdout",
     "output_type": "stream",
     "text": [
      "a = [      2.79]\n"
     ]
    }
   ],
   "source": [
    "# 전체자리수.표현될자리수f\n",
    "print(\"a = [{:>10.2f}]\".format(a)) #전체자리는 10자리를 확보하고 소수점은 2자리만 출력"
   ]
  },
  {
   "cell_type": "code",
   "execution_count": 7,
   "id": "d046abda",
   "metadata": {
    "ExecuteTime": {
     "end_time": "2021-07-20T00:54:38.763793Z",
     "start_time": "2021-07-20T00:54:38.755266Z"
    }
   },
   "outputs": [
    {
     "name": "stdout",
     "output_type": "stream",
     "text": [
      "10진수 : [      15]\n",
      "8진수 : [      17]\n",
      "2진수 : [    1111]\n",
      "16진수 : [       f]\n"
     ]
    }
   ],
   "source": [
    "a = 15\n",
    "print(\"10진수 : [{:8d}]\".format(a))\n",
    "print(\"8진수 : [{:8o}]\".format(a))\n",
    "print(\"2진수 : [{:8b}]\".format(a))\n",
    "print(\"16진수 : [{:8x}]\".format(a))"
   ]
  },
  {
   "cell_type": "code",
   "execution_count": 11,
   "id": "bd639e05",
   "metadata": {
    "ExecuteTime": {
     "end_time": "2021-07-20T01:00:27.854692Z",
     "start_time": "2021-07-20T01:00:27.846755Z"
    }
   },
   "outputs": [
    {
     "name": "stdout",
     "output_type": "stream",
     "text": [
      "출력 : [     +2.79]\n",
      "출력 : [     +2.79]\n",
      "출력 : [     +2.79]\n"
     ]
    }
   ],
   "source": [
    "a = 2.785\n",
    "print(\"출력 : [{:>+10.3}]\".format(a))\n",
    "print(\"출력 : [{:{}{}{}.{}}]\".format(a, '>', '+',10,3))\n",
    "print(\"출력 : [{:{dir}{sign}{width}.{precision}}]\".format(a,dir='>',sign='+',width=10, precision=3))"
   ]
  },
  {
   "cell_type": "markdown",
   "id": "77e947a8",
   "metadata": {},
   "source": [
    "## 4.3 날짜 출력"
   ]
  },
  {
   "cell_type": "code",
   "execution_count": 14,
   "id": "88bb2d30",
   "metadata": {
    "ExecuteTime": {
     "end_time": "2021-07-20T01:06:14.883092Z",
     "start_time": "2021-07-20T01:06:14.873118Z"
    }
   },
   "outputs": [
    {
     "data": {
      "text/plain": [
       "datetime.datetime(2021, 7, 20, 13, 4)"
      ]
     },
     "execution_count": 14,
     "metadata": {},
     "output_type": "execute_result"
    }
   ],
   "source": [
    "# format 함수 이용\n",
    "from datetime import datetime # datetime이라는 모듈안에 datetime이라는 함수 적용\n",
    "thatday = datetime(2021,7,20,13,4,0)\n",
    "thatday"
   ]
  },
  {
   "cell_type": "code",
   "execution_count": 16,
   "id": "134ae2bf",
   "metadata": {
    "ExecuteTime": {
     "end_time": "2021-07-20T01:07:33.191421Z",
     "start_time": "2021-07-20T01:07:33.182446Z"
    }
   },
   "outputs": [
    {
     "name": "stdout",
     "output_type": "stream",
     "text": [
      "2021년 07월 20일 13시 04분 00초\n",
      "2021년 07월 20일 PM 01시 04분 00초\n"
     ]
    }
   ],
   "source": [
    "print(\"{:%Y년 %m월 %d일 %H시 %M분 %S초}\".format(thatday))\n",
    "print(\"{:%Y년 %m월 %d일 %p %I시 %M분 %S초}\".format(thatday))"
   ]
  },
  {
   "cell_type": "code",
   "execution_count": 17,
   "id": "d906087f",
   "metadata": {
    "ExecuteTime": {
     "end_time": "2021-07-20T01:11:14.776413Z",
     "start_time": "2021-07-20T01:11:14.770430Z"
    }
   },
   "outputs": [
    {
     "data": {
      "text/plain": [
       "'2021년 07월 20일 AM 10시 11분 14초'"
      ]
     },
     "execution_count": 17,
     "metadata": {},
     "output_type": "execute_result"
    }
   ],
   "source": [
    "#날짜를 문자열로 출력하기 위해 format보다 strftime()함수 이용\n",
    "from time import strftime # time모듈안에 strftime함수 적용\n",
    "strftime(\"%Y년 %m월 %d일 %p %I시 %M분 %S초\".format(thatday))"
   ]
  },
  {
   "cell_type": "code",
   "execution_count": 19,
   "id": "9093bc77",
   "metadata": {
    "ExecuteTime": {
     "end_time": "2021-07-20T01:17:25.326389Z",
     "start_time": "2021-07-20T01:17:25.313456Z"
    }
   },
   "outputs": [
    {
     "data": {
      "text/plain": [
       "time.struct_time(tm_year=2021, tm_mon=7, tm_mday=20, tm_hour=10, tm_min=17, tm_sec=25, tm_wday=1, tm_yday=201, tm_isdst=0)"
      ]
     },
     "execution_count": 19,
     "metadata": {},
     "output_type": "execute_result"
    }
   ],
   "source": [
    "from time import localtime\n",
    "now = localtime() # 현재의 날짜와 시간\n",
    "now"
   ]
  },
  {
   "cell_type": "code",
   "execution_count": 21,
   "id": "cc27f86c",
   "metadata": {
    "ExecuteTime": {
     "end_time": "2021-07-20T01:19:18.924432Z",
     "start_time": "2021-07-20T01:19:18.906478Z"
    }
   },
   "outputs": [
    {
     "data": {
      "text/plain": [
       "'2021년 07월 20일 10시 19분 18초'"
      ]
     },
     "execution_count": 21,
     "metadata": {},
     "output_type": "execute_result"
    }
   ],
   "source": [
    "#print(\"{:%Y년 %m월 %d일 %H시 %M분 %S초}\".format(now)) 에러 남 : 모든 데이터 타입이 format형식 되는건 아님\n",
    "strftime(\"%Y년 %m월 %d일 %H시 %M분 %S초\".format(now))"
   ]
  },
  {
   "cell_type": "code",
   "execution_count": 1,
   "id": "052485ae",
   "metadata": {
    "ExecuteTime": {
     "end_time": "2021-07-20T01:34:45.057704Z",
     "start_time": "2021-07-20T01:34:45.041787Z"
    }
   },
   "outputs": [
    {
     "name": "stdout",
     "output_type": "stream",
     "text": [
      "Hello, $$$$$$$$$$$$$$$$$홍길동. You are 30 years old\n",
      "Hello, 홍길동. You are 30 years old\n",
      "Hello, 홍길동. you are 30 years old\n"
     ]
    }
   ],
   "source": [
    "name = \"홍길동\"\n",
    "age = 30\n",
    "print(\"Hello, {:$>20s}. You are {} years old\". format(name, age))\n",
    "print(\"Hello, %s. You are %d years old\" % (name, age))\n",
    "print(f'Hello, {name}. you are {age} years old')"
   ]
  },
  {
   "cell_type": "markdown",
   "id": "c69c92fe",
   "metadata": {},
   "source": [
    "# 5절. 연산자"
   ]
  },
  {
   "cell_type": "markdown",
   "id": "2f354376",
   "metadata": {},
   "source": [
    "## 5.1 산술연산자; +-*/ //(몫) % **(제곱)"
   ]
  },
  {
   "cell_type": "markdown",
   "id": "3ef4ebf6",
   "metadata": {},
   "source": [
    "## 5.2 할당연산자 : = += -= //=, ......"
   ]
  },
  {
   "cell_type": "code",
   "execution_count": 2,
   "id": "ad611059",
   "metadata": {
    "ExecuteTime": {
     "end_time": "2021-07-20T01:40:26.461640Z",
     "start_time": "2021-07-20T01:40:26.442657Z"
    }
   },
   "outputs": [
    {
     "data": {
      "text/plain": [
       "5"
      ]
     },
     "execution_count": 2,
     "metadata": {},
     "output_type": "execute_result"
    }
   ],
   "source": [
    "a=10\n",
    "a//=2\n",
    "a"
   ]
  },
  {
   "cell_type": "markdown",
   "id": "72870bcc",
   "metadata": {},
   "source": [
    "## 5.3 논리연산자\n",
    "* &, |, and, or, not"
   ]
  },
  {
   "cell_type": "code",
   "execution_count": 6,
   "id": "ecb4d981",
   "metadata": {
    "ExecuteTime": {
     "end_time": "2021-07-20T01:45:04.149181Z",
     "start_time": "2021-07-20T01:45:04.133192Z"
    }
   },
   "outputs": [
    {
     "name": "stdout",
     "output_type": "stream",
     "text": [
      "True\n",
      "0\n",
      "True\n"
     ]
    }
   ],
   "source": [
    "print((10>3) & (10>5)) # 논리연산자 T & T -> T\n",
    "print(12 & 1) # 비트 연산자 1100 & 0001 -> 0000\n",
    "print(5<8<10<1000) # 논리연산자는 삼항, 사항, .... 가능"
   ]
  },
  {
   "cell_type": "code",
   "execution_count": 7,
   "id": "9e8d10be",
   "metadata": {
    "ExecuteTime": {
     "end_time": "2021-07-20T01:49:30.988878Z",
     "start_time": "2021-07-20T01:49:30.979902Z"
    }
   },
   "outputs": [
    {
     "name": "stdout",
     "output_type": "stream",
     "text": [
      "10\n",
      "0\n"
     ]
    }
   ],
   "source": [
    "# and 연산자 : 거짓으로 판별되는 첫번째 항의 결과 반환\n",
    "#              모든 항이 참이면 마지막 항의 결과 반환\n",
    "0print(True and 3 and 10)\n",
    "print(True & 3 & 10)   # 1 & 10 -> 0001 & 1010  -> 0"
   ]
  },
  {
   "cell_type": "code",
   "execution_count": 8,
   "id": "7a90c81e",
   "metadata": {
    "ExecuteTime": {
     "end_time": "2021-07-20T01:51:03.946755Z",
     "start_time": "2021-07-20T01:51:03.937273Z"
    }
   },
   "outputs": [
    {
     "name": "stdout",
     "output_type": "stream",
     "text": [
      "0.0\n"
     ]
    }
   ],
   "source": [
    "# or 연산자 : 참으로 판별되는 첫번째 항의 결과 반환\n",
    "#             모든 항이 거짓이면 마지막 항의 결과 반환\n",
    "result = False or 0 or \"\" or 0.0\n",
    "print(result)"
   ]
  },
  {
   "cell_type": "code",
   "execution_count": 33,
   "id": "651500ea",
   "metadata": {
    "ExecuteTime": {
     "end_time": "2021-07-20T02:25:48.061808Z",
     "start_time": "2021-07-20T02:25:48.044854Z"
    }
   },
   "outputs": [
    {
     "name": "stdout",
     "output_type": "stream",
     "text": [
      "3\n",
      "11\n"
     ]
    }
   ],
   "source": [
    "result  = False or 3 or 10\n",
    "print(result)\n",
    "result  = False | 3 | 10  # -> 3 | 10 (비트연산)  -> 0011 | 1010 -> 1011\n",
    "print(result)"
   ]
  },
  {
   "cell_type": "code",
   "execution_count": 13,
   "id": "0c54b1b9",
   "metadata": {
    "ExecuteTime": {
     "end_time": "2021-07-20T01:57:06.079012Z",
     "start_time": "2021-07-20T01:57:06.066472Z"
    }
   },
   "outputs": [
    {
     "name": "stdout",
     "output_type": "stream",
     "text": [
      "True\n",
      "False\n"
     ]
    }
   ],
   "source": [
    "print((10>3) & (10>5))\n",
    "print(10>3 & 10>5)           # 비교연산자보다 논리연산자가 우선순위가 높음.\n",
    "#      0011 & 1010 -> 0010(2)\n",
    "# print(10 > 2 > 5)"
   ]
  },
  {
   "cell_type": "code",
   "execution_count": 14,
   "id": "c8286541",
   "metadata": {
    "ExecuteTime": {
     "end_time": "2021-07-20T02:00:11.709339Z",
     "start_time": "2021-07-20T02:00:11.691388Z"
    }
   },
   "outputs": [
    {
     "name": "stdout",
     "output_type": "stream",
     "text": [
      "빈스트링은 False\n"
     ]
    }
   ],
   "source": [
    "if '':\n",
    "    print('빈스트링은 True')\n",
    "else:\n",
    "    print('빈스트링은 False')"
   ]
  },
  {
   "cell_type": "code",
   "execution_count": 15,
   "id": "973045c4",
   "metadata": {
    "ExecuteTime": {
     "end_time": "2021-07-20T02:00:36.329977Z",
     "start_time": "2021-07-20T02:00:36.132959Z"
    }
   },
   "outputs": [
    {
     "ename": "TypeError",
     "evalue": "unsupported operand type(s) for |: 'bool' and 'str'",
     "output_type": "error",
     "traceback": [
      "\u001b[1;31m---------------------------------------------------------------------------\u001b[0m",
      "\u001b[1;31mTypeError\u001b[0m                                 Traceback (most recent call last)",
      "\u001b[1;32m<ipython-input-15-720a0f9399ef>\u001b[0m in \u001b[0;36m<module>\u001b[1;34m\u001b[0m\n\u001b[0;32m      1\u001b[0m \u001b[1;31m# 논리연산자에 문자열이 오면 에러\u001b[0m\u001b[1;33m\u001b[0m\u001b[1;33m\u001b[0m\u001b[1;33m\u001b[0m\u001b[0m\n\u001b[1;32m----> 2\u001b[1;33m \u001b[1;32mTrue\u001b[0m \u001b[1;33m|\u001b[0m \u001b[1;34m''\u001b[0m\u001b[1;33m\u001b[0m\u001b[1;33m\u001b[0m\u001b[0m\n\u001b[0m",
      "\u001b[1;31mTypeError\u001b[0m: unsupported operand type(s) for |: 'bool' and 'str'"
     ]
    }
   ],
   "source": [
    "# 논리연산자에 문자열이 오면 에러\n",
    "True | ''"
   ]
  },
  {
   "cell_type": "code",
   "execution_count": 16,
   "id": "6bc7603a",
   "metadata": {
    "ExecuteTime": {
     "end_time": "2021-07-20T02:01:03.605370Z",
     "start_time": "2021-07-20T02:01:03.599387Z"
    }
   },
   "outputs": [
    {
     "data": {
      "text/plain": [
       "True"
      ]
     },
     "execution_count": 16,
     "metadata": {},
     "output_type": "execute_result"
    }
   ],
   "source": [
    "True | bool('')"
   ]
  },
  {
   "cell_type": "code",
   "execution_count": 17,
   "id": "e3ff75ce",
   "metadata": {
    "ExecuteTime": {
     "end_time": "2021-07-20T02:03:41.385305Z",
     "start_time": "2021-07-20T02:03:41.338431Z"
    }
   },
   "outputs": [
    {
     "name": "stdout",
     "output_type": "stream",
     "text": [
      " C 드라이브의 볼륨에는 이름이 없습니다.\n",
      " 볼륨 일련 번호: 2878-60C8\n",
      "\n",
      " C:\\bigdata\\src\\07_python 디렉터리\n",
      "\n",
      "2021-07-20  오전 11:02    <DIR>          .\n",
      "2021-07-20  오전 11:02    <DIR>          ..\n",
      "2021-07-20  오전 12:40    <DIR>          .ipynb_checkpoints\n",
      "2021-07-19  오후 11:37         4,177,958 ch01_파이썬 개요 및 환경 설정.ipynb\n",
      "2021-07-20  오전 12:18            44,343 ch02_1절변수_2절화면io_3절기본자료형.ipynb\n",
      "2021-07-20  오전 11:02            25,386 ch02_4절포맷팅_5절연산자.ipynb\n",
      "2021-07-20  오전 12:59    <DIR>          IDtest\n",
      "2021-07-19  오후 11:21    <DIR>          과제\n",
      "               3개 파일           4,247,687 바이트\n",
      "               5개 디렉터리  358,168,338,432 바이트 남음\n"
     ]
    }
   ],
   "source": [
    "# 주피터 노트북에서 !는 명령행을 실행 시킬수 있습니다.\n",
    "!dir"
   ]
  },
  {
   "cell_type": "code",
   "execution_count": 18,
   "id": "d2777be6",
   "metadata": {
    "ExecuteTime": {
     "end_time": "2021-07-20T02:04:00.988355Z",
     "start_time": "2021-07-20T02:04:00.981378Z"
    }
   },
   "outputs": [
    {
     "data": {
      "text/plain": [
       "False"
      ]
     },
     "execution_count": 18,
     "metadata": {},
     "output_type": "execute_result"
    }
   ],
   "source": [
    "# 논리반전은 ! 아니고 not\n",
    "not True"
   ]
  },
  {
   "cell_type": "code",
   "execution_count": 19,
   "id": "158784b6",
   "metadata": {
    "ExecuteTime": {
     "end_time": "2021-07-20T02:04:08.588620Z",
     "start_time": "2021-07-20T02:04:08.581642Z"
    }
   },
   "outputs": [
    {
     "data": {
      "text/plain": [
       "True"
      ]
     },
     "execution_count": 19,
     "metadata": {},
     "output_type": "execute_result"
    }
   ],
   "source": [
    "not False"
   ]
  },
  {
   "cell_type": "code",
   "execution_count": 22,
   "id": "3119e68a",
   "metadata": {
    "ExecuteTime": {
     "end_time": "2021-07-20T02:04:50.291620Z",
     "start_time": "2021-07-20T02:04:50.273669Z"
    }
   },
   "outputs": [
    {
     "name": "stdout",
     "output_type": "stream",
     "text": [
      "a와 b는 다르다\n"
     ]
    }
   ],
   "source": [
    "a,b = 15, 16\n",
    "if a!=b:\n",
    "    print('a와 b는 다르다')"
   ]
  },
  {
   "cell_type": "markdown",
   "id": "e13f7a07",
   "metadata": {},
   "source": [
    "## 5.4 비교연산자 ; ==, !=, >="
   ]
  },
  {
   "cell_type": "code",
   "execution_count": 23,
   "id": "589dd8fd",
   "metadata": {
    "ExecuteTime": {
     "end_time": "2021-07-20T02:07:46.462737Z",
     "start_time": "2021-07-20T02:07:46.448807Z"
    }
   },
   "outputs": [
    {
     "data": {
      "text/plain": [
       "True"
      ]
     },
     "execution_count": 23,
     "metadata": {},
     "output_type": "execute_result"
    }
   ],
   "source": [
    "# 문자는 ASCII코드 순으로 비교 : 특수문자 < 숫자문자 < 대문자 < 소문자\n",
    "'아' < '하'"
   ]
  },
  {
   "cell_type": "code",
   "execution_count": 24,
   "id": "1b086ba1",
   "metadata": {
    "ExecuteTime": {
     "end_time": "2021-07-20T02:08:10.534539Z",
     "start_time": "2021-07-20T02:08:10.525317Z"
    }
   },
   "outputs": [
    {
     "data": {
      "text/plain": [
       "True"
      ]
     },
     "execution_count": 24,
     "metadata": {},
     "output_type": "execute_result"
    }
   ],
   "source": [
    "'*' < '1' < 'A' < 'a'"
   ]
  },
  {
   "cell_type": "markdown",
   "id": "6b5711e6",
   "metadata": {},
   "source": [
    "## 5.5 비트 연산자"
   ]
  },
  {
   "cell_type": "code",
   "execution_count": 26,
   "id": "e269a9f5",
   "metadata": {
    "ExecuteTime": {
     "end_time": "2021-07-20T02:21:23.709962Z",
     "start_time": "2021-07-20T02:21:23.699963Z"
    }
   },
   "outputs": [],
   "source": [
    "a = '''\n",
    "x y x&y x|y x^y(XOR)\n",
    "0 0  0   0    1\n",
    "0 1  0   1    0\n",
    "1 0  0   1    0\n",
    "1 1  1   1    0\n",
    "'''"
   ]
  },
  {
   "cell_type": "code",
   "execution_count": 38,
   "id": "a4f1edd2",
   "metadata": {
    "ExecuteTime": {
     "end_time": "2021-07-20T02:37:49.585112Z",
     "start_time": "2021-07-20T02:37:49.578157Z"
    }
   },
   "outputs": [
    {
     "name": "stdout",
     "output_type": "stream",
     "text": [
      "00001111, 15\n",
      "00000010, 2\n",
      "00001111, 15\n",
      "00000010, 2\n",
      "00001101, 13\n"
     ]
    }
   ],
   "source": [
    "a = 15\n",
    "b = 2\n",
    "print(\"{0:08b}, {0}\".format(a)) # 0000 1111, 15\n",
    "print(\"{0:08b}, {0}\".format(b))      # 0000 0010, 2\n",
    "print(\"{0:08b}, {0}\".format(a|b))    # 0000 1111, 15\n",
    "print(\"{0:08b}, {0}\".format(a&b))    # 0000 1111, 2\n",
    "print(\"{0:08b}, {0}\".format(a^b))    # 0000 1101, 13"
   ]
  },
  {
   "cell_type": "code",
   "execution_count": 39,
   "id": "1f623253",
   "metadata": {
    "ExecuteTime": {
     "end_time": "2021-07-20T02:39:13.366673Z",
     "start_time": "2021-07-20T02:39:13.362649Z"
    }
   },
   "outputs": [
    {
     "name": "stdout",
     "output_type": "stream",
     "text": [
      "-16\n"
     ]
    }
   ],
   "source": [
    "# not의 비트 연산자 : ~\n",
    "a = 15        # 00000000 00001111\n",
    "print(~a)     # 11111111 11110000"
   ]
  },
  {
   "cell_type": "markdown",
   "id": "e1bb52dc",
   "metadata": {},
   "source": [
    "## 5.6 isinstance"
   ]
  },
  {
   "cell_type": "code",
   "execution_count": 40,
   "id": "fc109f41",
   "metadata": {
    "ExecuteTime": {
     "end_time": "2021-07-20T02:40:28.462737Z",
     "start_time": "2021-07-20T02:40:28.448776Z"
    }
   },
   "outputs": [
    {
     "data": {
      "text/plain": [
       "False"
      ]
     },
     "execution_count": 40,
     "metadata": {},
     "output_type": "execute_result"
    }
   ],
   "source": [
    "isinstance(a, float) # a변수가 float형인지 여부 반환"
   ]
  },
  {
   "cell_type": "code",
   "execution_count": null,
   "id": "674f76cb",
   "metadata": {},
   "outputs": [],
   "source": []
  },
  {
   "cell_type": "code",
   "execution_count": null,
   "id": "f8ce7970",
   "metadata": {},
   "outputs": [],
   "source": []
  },
  {
   "cell_type": "code",
   "execution_count": null,
   "id": "17e28caf",
   "metadata": {},
   "outputs": [],
   "source": []
  },
  {
   "cell_type": "code",
   "execution_count": null,
   "id": "4af63dfd",
   "metadata": {},
   "outputs": [],
   "source": []
  },
  {
   "cell_type": "code",
   "execution_count": null,
   "id": "6221771e",
   "metadata": {},
   "outputs": [],
   "source": []
  },
  {
   "cell_type": "code",
   "execution_count": null,
   "id": "b4cee289",
   "metadata": {},
   "outputs": [],
   "source": []
  },
  {
   "cell_type": "code",
   "execution_count": null,
   "id": "c2db194b",
   "metadata": {},
   "outputs": [],
   "source": []
  },
  {
   "cell_type": "code",
   "execution_count": null,
   "id": "fcb80904",
   "metadata": {},
   "outputs": [],
   "source": []
  },
  {
   "cell_type": "code",
   "execution_count": null,
   "id": "80941d58",
   "metadata": {},
   "outputs": [],
   "source": []
  },
  {
   "cell_type": "code",
   "execution_count": null,
   "id": "a8d7ca28",
   "metadata": {},
   "outputs": [],
   "source": []
  },
  {
   "cell_type": "code",
   "execution_count": null,
   "id": "660b5aa6",
   "metadata": {},
   "outputs": [],
   "source": []
  },
  {
   "cell_type": "code",
   "execution_count": null,
   "id": "822a2428",
   "metadata": {},
   "outputs": [],
   "source": []
  },
  {
   "cell_type": "code",
   "execution_count": null,
   "id": "05e9a0c7",
   "metadata": {},
   "outputs": [],
   "source": []
  },
  {
   "cell_type": "code",
   "execution_count": null,
   "id": "6fe28670",
   "metadata": {},
   "outputs": [],
   "source": []
  },
  {
   "cell_type": "code",
   "execution_count": null,
   "id": "6ddaccb7",
   "metadata": {},
   "outputs": [],
   "source": []
  },
  {
   "cell_type": "code",
   "execution_count": null,
   "id": "8b558ead",
   "metadata": {},
   "outputs": [],
   "source": []
  }
 ],
 "metadata": {
  "kernelspec": {
   "display_name": "Python 3",
   "language": "python",
   "name": "python3"
  },
  "language_info": {
   "codemirror_mode": {
    "name": "ipython",
    "version": 3
   },
   "file_extension": ".py",
   "mimetype": "text/x-python",
   "name": "python",
   "nbconvert_exporter": "python",
   "pygments_lexer": "ipython3",
   "version": "3.8.8"
  },
  "toc": {
   "base_numbering": 1,
   "nav_menu": {},
   "number_sections": false,
   "sideBar": true,
   "skip_h1_title": false,
   "title_cell": "Table of Contents",
   "title_sidebar": "Contents",
   "toc_cell": false,
   "toc_position": {},
   "toc_section_display": true,
   "toc_window_display": true
  },
  "varInspector": {
   "cols": {
    "lenName": 16,
    "lenType": 16,
    "lenVar": 40
   },
   "kernels_config": {
    "python": {
     "delete_cmd_postfix": "",
     "delete_cmd_prefix": "del ",
     "library": "var_list.py",
     "varRefreshCmd": "print(var_dic_list())"
    },
    "r": {
     "delete_cmd_postfix": ") ",
     "delete_cmd_prefix": "rm(",
     "library": "var_list.r",
     "varRefreshCmd": "cat(var_dic_list()) "
    }
   },
   "position": {
    "height": "385px",
    "left": "1550px",
    "right": "20px",
    "top": "120px",
    "width": "350px"
   },
   "types_to_exclude": [
    "module",
    "function",
    "builtin_function_or_method",
    "instance",
    "_Feature"
   ],
   "window_display": true
  }
 },
 "nbformat": 4,
 "nbformat_minor": 5
}
