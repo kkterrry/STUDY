{
 "cells": [
  {
   "cell_type": "markdown",
   "id": "459565dd",
   "metadata": {},
   "source": [
    "<b><font size=\"6\" color=\"red\">ch03. 데이터구조</font></b>\n",
    "- 리스트.[.], 튜플(), 딕셔너리(hashmap과 유사), 셋(집합)"
   ]
  },
  {
   "cell_type": "markdown",
   "id": "ed6cde50",
   "metadata": {},
   "source": [
    "# 1절. 리스트"
   ]
  },
  {
   "cell_type": "markdown",
   "id": "e28877f9",
   "metadata": {},
   "source": [
    "## 1.1 리스트 만들기\n",
    "- .[.].를 이용해서 만들며, 여러개 값을 하나의 변수에 저장/관리할 수 있다. list()함수 이용도 가능\n",
    "- 인덱스: 각요소의 위치. 인덱스 0부터 시작, 맨 마지막 인덱스 -1\n",
    "- 슬라이싱(.[from:to:by]) : 부분 데이터 셋을 뽑아 내는 것. 인덱스를 이용해 쓰기와 읽기도 지원\n"
   ]
  },
  {
   "cell_type": "code",
   "execution_count": 1,
   "id": "4c4c97ed",
   "metadata": {
    "ExecuteTime": {
     "end_time": "2021-07-20T06:18:43.244353Z",
     "start_time": "2021-07-20T06:18:43.224084Z"
    }
   },
   "outputs": [
    {
     "data": {
      "text/plain": [
       "list"
      ]
     },
     "execution_count": 1,
     "metadata": {},
     "output_type": "execute_result"
    }
   ],
   "source": [
    "fruits = ['banana', 'apple', 'orange', 'grape']\n",
    "type(fruits)"
   ]
  },
  {
   "cell_type": "code",
   "execution_count": 2,
   "id": "8fd1a061",
   "metadata": {
    "ExecuteTime": {
     "end_time": "2021-07-20T06:20:00.322225Z",
     "start_time": "2021-07-20T06:20:00.306270Z"
    }
   },
   "outputs": [
    {
     "name": "stdout",
     "output_type": "stream",
     "text": [
      "['banana', 'apple', 'orange', 'grape']\n"
     ]
    }
   ],
   "source": [
    "print(fruits)"
   ]
  },
  {
   "cell_type": "code",
   "execution_count": 3,
   "id": "0b7e8316",
   "metadata": {
    "ExecuteTime": {
     "end_time": "2021-07-20T06:33:15.826817Z",
     "start_time": "2021-07-20T06:33:15.807865Z"
    }
   },
   "outputs": [
    {
     "name": "stdout",
     "output_type": "stream",
     "text": [
      "banana\n"
     ]
    }
   ],
   "source": [
    "print(fruits[0])"
   ]
  },
  {
   "cell_type": "code",
   "execution_count": 4,
   "id": "784db0a2",
   "metadata": {
    "ExecuteTime": {
     "end_time": "2021-07-20T06:35:17.759090Z",
     "start_time": "2021-07-20T06:35:17.746371Z"
    }
   },
   "outputs": [
    {
     "data": {
      "text/plain": [
       "range(0, 6)"
      ]
     },
     "execution_count": 4,
     "metadata": {},
     "output_type": "execute_result"
    }
   ],
   "source": [
    "# range(from, to, by): from부터 to바로 앞까지 by 씩 증가하면서 만들어진 리스트\n",
    "      # from 생략 0, by 생략시 1\n",
    "range(6)"
   ]
  },
  {
   "cell_type": "code",
   "execution_count": 5,
   "id": "efd67436",
   "metadata": {
    "ExecuteTime": {
     "end_time": "2021-07-20T06:35:31.914663Z",
     "start_time": "2021-07-20T06:35:31.901284Z"
    }
   },
   "outputs": [
    {
     "data": {
      "text/plain": [
       "[0, 1, 2, 3, 4, 5]"
      ]
     },
     "execution_count": 5,
     "metadata": {},
     "output_type": "execute_result"
    }
   ],
   "source": [
    "list(range(6))"
   ]
  },
  {
   "cell_type": "code",
   "execution_count": 6,
   "id": "715a55f1",
   "metadata": {
    "ExecuteTime": {
     "end_time": "2021-07-20T06:35:54.023662Z",
     "start_time": "2021-07-20T06:35:54.006737Z"
    }
   },
   "outputs": [
    {
     "data": {
      "text/plain": [
       "[0, 2, 4, 6, 8]"
      ]
     },
     "execution_count": 6,
     "metadata": {},
     "output_type": "execute_result"
    }
   ],
   "source": [
    "list(range(0,10,2))"
   ]
  },
  {
   "cell_type": "code",
   "execution_count": 7,
   "id": "e77af0e5",
   "metadata": {
    "ExecuteTime": {
     "end_time": "2021-07-20T06:36:20.176851Z",
     "start_time": "2021-07-20T06:36:20.162893Z"
    }
   },
   "outputs": [
    {
     "data": {
      "text/plain": [
       "[10, 8, 6, 4, 2, 0]"
      ]
     },
     "execution_count": 7,
     "metadata": {},
     "output_type": "execute_result"
    }
   ],
   "source": [
    "list(range(10,-1,-2))"
   ]
  },
  {
   "cell_type": "code",
   "execution_count": 10,
   "id": "7d423618",
   "metadata": {
    "ExecuteTime": {
     "end_time": "2021-07-20T06:40:01.925086Z",
     "start_time": "2021-07-20T06:40:01.914116Z"
    }
   },
   "outputs": [
    {
     "name": "stdout",
     "output_type": "stream",
     "text": [
      "1\t2\t3\t4\t"
     ]
    }
   ],
   "source": [
    "for i in [1,2,3,4]:\n",
    "    print(i, end='\\t')"
   ]
  },
  {
   "cell_type": "code",
   "execution_count": 11,
   "id": "43d0e133",
   "metadata": {
    "ExecuteTime": {
     "end_time": "2021-07-20T06:40:32.788601Z",
     "start_time": "2021-07-20T06:40:32.780623Z"
    }
   },
   "outputs": [
    {
     "name": "stdout",
     "output_type": "stream",
     "text": [
      "banana\n",
      "apple\n",
      "orange\n",
      "grape\n"
     ]
    }
   ],
   "source": [
    "for fruit in fruits:\n",
    "    print(fruit)"
   ]
  },
  {
   "cell_type": "code",
   "execution_count": 14,
   "id": "3f8a542a",
   "metadata": {
    "ExecuteTime": {
     "end_time": "2021-07-20T06:43:08.080956Z",
     "start_time": "2021-07-20T06:43:08.067991Z"
    }
   },
   "outputs": [
    {
     "name": "stdout",
     "output_type": "stream",
     "text": [
      "0번째 과일은 banana\n",
      "1번째 과일은 apple\n",
      "2번째 과일은 orange\n",
      "3번째 과일은 grape\n"
     ]
    }
   ],
   "source": [
    "for i in list(range(len(fruits))):\n",
    "    print(\"{}번째 과일은 {}\".format(i, fruits[i]))"
   ]
  },
  {
   "cell_type": "code",
   "execution_count": 16,
   "id": "0370a7d5",
   "metadata": {
    "ExecuteTime": {
     "end_time": "2021-07-20T06:43:47.200566Z",
     "start_time": "2021-07-20T06:43:47.191592Z"
    }
   },
   "outputs": [
    {
     "data": {
      "text/plain": [
       "[1, 2, '3', [1, 2]]"
      ]
     },
     "execution_count": 16,
     "metadata": {},
     "output_type": "execute_result"
    }
   ],
   "source": [
    "numbers = [1,2,'3',[1,2]]\n",
    "numbers"
   ]
  },
  {
   "cell_type": "code",
   "execution_count": 20,
   "id": "d0f5d1d9",
   "metadata": {
    "ExecuteTime": {
     "end_time": "2021-07-20T06:46:44.381091Z",
     "start_time": "2021-07-20T06:46:44.362500Z"
    }
   },
   "outputs": [
    {
     "name": "stdout",
     "output_type": "stream",
     "text": [
      "[[1, 2, 3, 4, 5], [10, 20, 30, 40, 50], [1, 3, 5, 7, 9]]\n"
     ]
    }
   ],
   "source": [
    "# 2차원리스트\n",
    "numbers_2d = [[1,2,3,4,5],\n",
    "              [10,20,30,40,50],\n",
    "              [1,3,5,7,9]]\n",
    "print(numbers_2d)"
   ]
  },
  {
   "cell_type": "code",
   "execution_count": 21,
   "id": "82f3c044",
   "metadata": {
    "ExecuteTime": {
     "end_time": "2021-07-20T06:47:03.567892Z",
     "start_time": "2021-07-20T06:47:03.553928Z"
    }
   },
   "outputs": [
    {
     "data": {
      "text/plain": [
       "(3, 5)"
      ]
     },
     "execution_count": 21,
     "metadata": {},
     "output_type": "execute_result"
    }
   ],
   "source": [
    "len(numbers_2d), len(numbers_2d[0])"
   ]
  },
  {
   "cell_type": "code",
   "execution_count": 23,
   "id": "830c0ef5",
   "metadata": {
    "ExecuteTime": {
     "end_time": "2021-07-20T06:47:36.889241Z",
     "start_time": "2021-07-20T06:47:36.870290Z"
    }
   },
   "outputs": [
    {
     "data": {
      "text/plain": [
       "30"
      ]
     },
     "execution_count": 23,
     "metadata": {},
     "output_type": "execute_result"
    }
   ],
   "source": [
    "numbers_2d[1][2]"
   ]
  },
  {
   "cell_type": "code",
   "execution_count": 25,
   "id": "adeae794",
   "metadata": {
    "ExecuteTime": {
     "end_time": "2021-07-20T06:50:07.501629Z",
     "start_time": "2021-07-20T06:50:07.493687Z"
    }
   },
   "outputs": [
    {
     "name": "stdout",
     "output_type": "stream",
     "text": [
      "1\t2\t3\t4\t5\t\n",
      "10\t20\t30\t40\t50\t\n",
      "1\t3\t5\t7\t9\t\n"
     ]
    }
   ],
   "source": [
    "for row in numbers_2d:\n",
    "    for data in row:\n",
    "        print(data, end='\\t')\n",
    "    print() #개행"
   ]
  },
  {
   "cell_type": "code",
   "execution_count": 26,
   "id": "87a62a95",
   "metadata": {
    "ExecuteTime": {
     "end_time": "2021-07-20T06:53:23.057177Z",
     "start_time": "2021-07-20T06:53:23.038261Z"
    }
   },
   "outputs": [
    {
     "name": "stdout",
     "output_type": "stream",
     "text": [
      "0행0열:1\t0행1열:2\t0행2열:3\t0행3열:4\t0행4열:5\t\n",
      "1행0열:10\t1행1열:20\t1행2열:30\t1행3열:40\t1행4열:50\t\n",
      "2행0열:1\t2행1열:3\t2행2열:5\t2행3열:7\t2행4열:9\t\n"
     ]
    }
   ],
   "source": [
    "for i in range(len(numbers_2d)):\n",
    "    for j in range(len(numbers_2d[i])):\n",
    "        print(\"{}행{}열:{}\".format(i, j, numbers_2d[i][j]), end='\\t')\n",
    "    print() #개행"
   ]
  },
  {
   "cell_type": "markdown",
   "id": "de0a6b5f",
   "metadata": {},
   "source": [
    "## 1.2 기본 정보 조회"
   ]
  },
  {
   "cell_type": "code",
   "execution_count": 27,
   "id": "b496b7d4",
   "metadata": {
    "ExecuteTime": {
     "end_time": "2021-07-20T06:55:42.162404Z",
     "start_time": "2021-07-20T06:55:42.146454Z"
    }
   },
   "outputs": [],
   "source": [
    "numbers = [1,2,3,4,5]\n",
    "numbers_2d = [[100,0,0,0,0],\n",
    "              [90,90,90,90,90]]"
   ]
  },
  {
   "cell_type": "code",
   "execution_count": 29,
   "id": "4769fb5e",
   "metadata": {
    "ExecuteTime": {
     "end_time": "2021-07-20T06:56:23.301330Z",
     "start_time": "2021-07-20T06:56:23.289363Z"
    }
   },
   "outputs": [
    {
     "name": "stdout",
     "output_type": "stream",
     "text": [
      "5\n",
      "2\n"
     ]
    }
   ],
   "source": [
    "#요소의 수\n",
    "print(len(numbers))\n",
    "print(len(numbers_2d))"
   ]
  },
  {
   "cell_type": "code",
   "execution_count": 30,
   "id": "e848abbd",
   "metadata": {
    "ExecuteTime": {
     "end_time": "2021-07-20T06:57:35.998523Z",
     "start_time": "2021-07-20T06:57:35.986555Z"
    }
   },
   "outputs": [
    {
     "data": {
      "text/plain": [
       "(1, 5)"
      ]
     },
     "execution_count": 30,
     "metadata": {},
     "output_type": "execute_result"
    }
   ],
   "source": [
    "#최소값min, 최대값max\n",
    "min(numbers), max(numbers)"
   ]
  },
  {
   "cell_type": "code",
   "execution_count": 31,
   "id": "3fa1284e",
   "metadata": {
    "ExecuteTime": {
     "end_time": "2021-07-20T06:59:00.322352Z",
     "start_time": "2021-07-20T06:59:00.310384Z"
    }
   },
   "outputs": [
    {
     "data": {
      "text/plain": [
       "([90, 90, 90, 90, 90], [100, 0, 0, 0, 0])"
      ]
     },
     "execution_count": 31,
     "metadata": {},
     "output_type": "execute_result"
    }
   ],
   "source": [
    "# 2차원 리스트의 max()함수는 부분리스트 중 첫요소가 가장 큰 값\n",
    "#                min()함수는 부분 리스트 중 첫요소가 가장 작은 값\n",
    "min(numbers_2d), max(numbers_2d)"
   ]
  },
  {
   "cell_type": "markdown",
   "id": "b57e46db",
   "metadata": {},
   "source": [
    "## 1.3 요소 추가"
   ]
  },
  {
   "cell_type": "code",
   "execution_count": 32,
   "id": "0768a6b3",
   "metadata": {
    "ExecuteTime": {
     "end_time": "2021-07-20T07:00:59.651676Z",
     "start_time": "2021-07-20T07:00:59.643707Z"
    }
   },
   "outputs": [],
   "source": [
    "# + 두 리스트 연결\n",
    "# * 리스트 * n 리스트를 곱한 수만큼 반복\n",
    "# append() 요소 맨 뒤에 추가\n",
    "# extend() 리스트를 요소별로 맨 뒤에 추가\n",
    "# insert(idx, 값) : idx번째 인덱스에 값 추가"
   ]
  },
  {
   "cell_type": "code",
   "execution_count": 33,
   "id": "c0b8eb63",
   "metadata": {
    "ExecuteTime": {
     "end_time": "2021-07-20T07:01:43.304464Z",
     "start_time": "2021-07-20T07:01:43.285513Z"
    }
   },
   "outputs": [
    {
     "data": {
      "text/plain": [
       "[1, 2, 3, 4, 5, 1, 2, 3, 4, 5]"
      ]
     },
     "execution_count": 33,
     "metadata": {},
     "output_type": "execute_result"
    }
   ],
   "source": [
    "numbers = [1,2,3,4,5]\n",
    "numbers = numbers + numbers # 리스트 연결\n",
    "numbers"
   ]
  },
  {
   "cell_type": "code",
   "execution_count": 34,
   "id": "71e6a630",
   "metadata": {
    "ExecuteTime": {
     "end_time": "2021-07-20T07:02:18.351404Z",
     "start_time": "2021-07-20T07:02:18.334501Z"
    }
   },
   "outputs": [
    {
     "name": "stdout",
     "output_type": "stream",
     "text": [
      "[1, 2, 3, 1, 2, 3, 1, 2, 3]\n",
      "[1, 2, 3, 1, 2, 3, 1, 2, 3]\n"
     ]
    }
   ],
   "source": [
    "numbers = [1,2,3]\n",
    "print(numbers*3)\n",
    "print(3*numbers)"
   ]
  },
  {
   "cell_type": "code",
   "execution_count": 35,
   "id": "28ff7822",
   "metadata": {
    "ExecuteTime": {
     "end_time": "2021-07-20T07:02:50.709499Z",
     "start_time": "2021-07-20T07:02:50.694537Z"
    }
   },
   "outputs": [
    {
     "data": {
      "text/plain": [
       "[1, 2, 3, 4]"
      ]
     },
     "execution_count": 35,
     "metadata": {},
     "output_type": "execute_result"
    }
   ],
   "source": [
    "numbers.append(4)\n",
    "numbers"
   ]
  },
  {
   "cell_type": "code",
   "execution_count": 37,
   "id": "ab5b2780",
   "metadata": {
    "ExecuteTime": {
     "end_time": "2021-07-20T07:03:52.946830Z",
     "start_time": "2021-07-20T07:03:52.939849Z"
    }
   },
   "outputs": [
    {
     "data": {
      "text/plain": [
       "[1, 2, 3, 4, [5, 6, 7], [5, 6, 7]]"
      ]
     },
     "execution_count": 37,
     "metadata": {},
     "output_type": "execute_result"
    }
   ],
   "source": [
    "num = [5,6,7]\n",
    "numbers.append(num)\n",
    "numbers"
   ]
  },
  {
   "cell_type": "code",
   "execution_count": 39,
   "id": "d88c5110",
   "metadata": {
    "ExecuteTime": {
     "end_time": "2021-07-20T07:04:29.463762Z",
     "start_time": "2021-07-20T07:04:29.453755Z"
    }
   },
   "outputs": [
    {
     "data": {
      "text/plain": [
       "[1, 2, 3, 4, [5, 6, 7], [5, 6, 7], 5, 6, 7, 5, 6, 7]"
      ]
     },
     "execution_count": 39,
     "metadata": {},
     "output_type": "execute_result"
    }
   ],
   "source": [
    "numbers.extend(num)\n",
    "numbers"
   ]
  },
  {
   "cell_type": "code",
   "execution_count": 40,
   "id": "354d46e4",
   "metadata": {
    "ExecuteTime": {
     "end_time": "2021-07-20T07:05:08.061310Z",
     "start_time": "2021-07-20T07:05:08.048344Z"
    }
   },
   "outputs": [],
   "source": [
    "numbers.extend('Hello')"
   ]
  },
  {
   "cell_type": "code",
   "execution_count": 41,
   "id": "041ebe5e",
   "metadata": {
    "ExecuteTime": {
     "end_time": "2021-07-20T07:05:24.372278Z",
     "start_time": "2021-07-20T07:05:24.364326Z"
    }
   },
   "outputs": [
    {
     "data": {
      "text/plain": [
       "[1, 2, 3, 4, [5, 6, 7], [5, 6, 7], 5, 6, 7, 5, 6, 7, 'H', 'e', 'l', 'l', 'o']"
      ]
     },
     "execution_count": 41,
     "metadata": {},
     "output_type": "execute_result"
    }
   ],
   "source": [
    "numbers"
   ]
  },
  {
   "cell_type": "code",
   "execution_count": 42,
   "id": "61cafa04",
   "metadata": {
    "ExecuteTime": {
     "end_time": "2021-07-20T07:06:44.876082Z",
     "start_time": "2021-07-20T07:06:44.867130Z"
    }
   },
   "outputs": [
    {
     "data": {
      "text/plain": [
       "[1, 'xx', 2, 3, 4, 5]"
      ]
     },
     "execution_count": 42,
     "metadata": {},
     "output_type": "execute_result"
    }
   ],
   "source": [
    "numbers = [1,2,3,4,5]\n",
    "numbers.insert(1, 'xx')\n",
    "numbers"
   ]
  },
  {
   "cell_type": "markdown",
   "id": "7cba4e17",
   "metadata": {},
   "source": [
    "## 1.4 인덱싱"
   ]
  },
  {
   "cell_type": "code",
   "execution_count": 43,
   "id": "97aadf7a",
   "metadata": {
    "ExecuteTime": {
     "end_time": "2021-07-20T07:09:06.203830Z",
     "start_time": "2021-07-20T07:09:06.195852Z"
    }
   },
   "outputs": [
    {
     "ename": "SyntaxError",
     "evalue": "invalid syntax (<ipython-input-43-25dc5ccb57ac>, line 1)",
     "output_type": "error",
     "traceback": [
      "\u001b[1;36m  File \u001b[1;32m\"<ipython-input-43-25dc5ccb57ac>\"\u001b[1;36m, line \u001b[1;32m1\u001b[0m\n\u001b[1;33m    - [index] : 인덱스를 이용한 접근\u001b[0m\n\u001b[1;37m                     ^\u001b[0m\n\u001b[1;31mSyntaxError\u001b[0m\u001b[1;31m:\u001b[0m invalid syntax\n"
     ]
    }
   ],
   "source": [
    "- [index] : 인덱스를 이용한 접근\n",
    "- index() : 해당 요소의 위치 반환\n",
    "- count() : 리스트에서 데이터의 갯수 반환"
   ]
  },
  {
   "cell_type": "code",
   "execution_count": 44,
   "id": "d12ef229",
   "metadata": {
    "ExecuteTime": {
     "end_time": "2021-07-20T07:10:12.486626Z",
     "start_time": "2021-07-20T07:10:12.475657Z"
    }
   },
   "outputs": [],
   "source": [
    "numbers = [1,2,3, [1,2,3], 1,2,3]\n",
    "numbers_2d = [[1,2,3],[1,2,3]]"
   ]
  },
  {
   "cell_type": "code",
   "execution_count": 45,
   "id": "2b7a67e9",
   "metadata": {
    "ExecuteTime": {
     "end_time": "2021-07-20T07:10:37.892052Z",
     "start_time": "2021-07-20T07:10:37.887047Z"
    }
   },
   "outputs": [
    {
     "data": {
      "text/plain": [
       "2"
      ]
     },
     "execution_count": 45,
     "metadata": {},
     "output_type": "execute_result"
    }
   ],
   "source": [
    "numbers.count(2) # 2가 몇개인지"
   ]
  },
  {
   "cell_type": "code",
   "execution_count": 47,
   "id": "91116f55",
   "metadata": {
    "ExecuteTime": {
     "end_time": "2021-07-20T07:11:14.462145Z",
     "start_time": "2021-07-20T07:11:14.444224Z"
    }
   },
   "outputs": [
    {
     "data": {
      "text/plain": [
       "2"
      ]
     },
     "execution_count": 47,
     "metadata": {},
     "output_type": "execute_result"
    }
   ],
   "source": [
    "numbers_2d.count(2)\n",
    "numbers_2d.count([1,2,3])"
   ]
  },
  {
   "cell_type": "code",
   "execution_count": 48,
   "id": "00a296d7",
   "metadata": {
    "ExecuteTime": {
     "end_time": "2021-07-20T07:11:28.654335Z",
     "start_time": "2021-07-20T07:11:28.649350Z"
    }
   },
   "outputs": [
    {
     "data": {
      "text/plain": [
       "0"
      ]
     },
     "execution_count": 48,
     "metadata": {},
     "output_type": "execute_result"
    }
   ],
   "source": [
    "numbers.count(9)"
   ]
  },
  {
   "cell_type": "code",
   "execution_count": 49,
   "id": "80f4a5c6",
   "metadata": {
    "ExecuteTime": {
     "end_time": "2021-07-20T07:11:50.135929Z",
     "start_time": "2021-07-20T07:11:50.131918Z"
    }
   },
   "outputs": [
    {
     "data": {
      "text/plain": [
       "True"
      ]
     },
     "execution_count": 49,
     "metadata": {},
     "output_type": "execute_result"
    }
   ],
   "source": [
    "2 in numbers #2가 numbers 요소에 있는지 여부"
   ]
  },
  {
   "cell_type": "code",
   "execution_count": 50,
   "id": "be99f46b",
   "metadata": {
    "ExecuteTime": {
     "end_time": "2021-07-20T07:12:58.688376Z",
     "start_time": "2021-07-20T07:12:58.675412Z"
    }
   },
   "outputs": [
    {
     "data": {
      "text/plain": [
       "1"
      ]
     },
     "execution_count": 50,
     "metadata": {},
     "output_type": "execute_result"
    }
   ],
   "source": [
    "numbers.index(2)    # 처음(0인덱스부터) 나오는 2의 인덱스"
   ]
  },
  {
   "cell_type": "code",
   "execution_count": 52,
   "id": "a634a11b",
   "metadata": {
    "ExecuteTime": {
     "end_time": "2021-07-20T07:15:06.771499Z",
     "start_time": "2021-07-20T07:15:06.754030Z"
    }
   },
   "outputs": [
    {
     "data": {
      "text/plain": [
       "5"
      ]
     },
     "execution_count": 52,
     "metadata": {},
     "output_type": "execute_result"
    }
   ],
   "source": [
    "numbers.index(2,3)  #3번 인덱스부터 나오는 2의 인덱스"
   ]
  },
  {
   "cell_type": "code",
   "execution_count": 53,
   "id": "91783219",
   "metadata": {
    "ExecuteTime": {
     "end_time": "2021-07-20T07:15:55.780631Z",
     "start_time": "2021-07-20T07:15:55.573639Z"
    }
   },
   "outputs": [
    {
     "name": "stdout",
     "output_type": "stream",
     "text": [
      "0 개\n"
     ]
    },
    {
     "ename": "ValueError",
     "evalue": "9 is not in list",
     "output_type": "error",
     "traceback": [
      "\u001b[1;31m---------------------------------------------------------------------------\u001b[0m",
      "\u001b[1;31mValueError\u001b[0m                                Traceback (most recent call last)",
      "\u001b[1;32m<ipython-input-53-aa1f6e059ec3>\u001b[0m in \u001b[0;36m<module>\u001b[1;34m\u001b[0m\n\u001b[0;32m      1\u001b[0m \u001b[0mprint\u001b[0m\u001b[1;33m(\u001b[0m\u001b[0mnumbers\u001b[0m\u001b[1;33m.\u001b[0m\u001b[0mcount\u001b[0m\u001b[1;33m(\u001b[0m\u001b[1;36m9\u001b[0m\u001b[1;33m)\u001b[0m\u001b[1;33m,\u001b[0m\u001b[1;34m'개'\u001b[0m\u001b[1;33m)\u001b[0m\u001b[1;33m\u001b[0m\u001b[1;33m\u001b[0m\u001b[0m\n\u001b[1;32m----> 2\u001b[1;33m \u001b[0mprint\u001b[0m\u001b[1;33m(\u001b[0m\u001b[0mnumbers\u001b[0m\u001b[1;33m.\u001b[0m\u001b[0mindex\u001b[0m\u001b[1;33m(\u001b[0m\u001b[1;36m9\u001b[0m\u001b[1;33m)\u001b[0m\u001b[1;33m)\u001b[0m   \u001b[1;31m#index함수는 없는 값을 쓰면 에러\u001b[0m\u001b[1;33m\u001b[0m\u001b[1;33m\u001b[0m\u001b[0m\n\u001b[0m",
      "\u001b[1;31mValueError\u001b[0m: 9 is not in list"
     ]
    }
   ],
   "source": [
    "print(numbers.count(9),'개')\n",
    "print(numbers.index(9))   #index함수는 없는 값을 쓰면 에러"
   ]
  },
  {
   "cell_type": "code",
   "execution_count": 54,
   "id": "a8b99887",
   "metadata": {
    "ExecuteTime": {
     "end_time": "2021-07-20T07:16:34.851850Z",
     "start_time": "2021-07-20T07:16:34.830874Z"
    }
   },
   "outputs": [
    {
     "ename": "IndexError",
     "evalue": "list index out of range",
     "output_type": "error",
     "traceback": [
      "\u001b[1;31m---------------------------------------------------------------------------\u001b[0m",
      "\u001b[1;31mIndexError\u001b[0m                                Traceback (most recent call last)",
      "\u001b[1;32m<ipython-input-54-b1ec47e4456e>\u001b[0m in \u001b[0;36m<module>\u001b[1;34m\u001b[0m\n\u001b[1;32m----> 1\u001b[1;33m \u001b[0mnumbers\u001b[0m\u001b[1;33m[\u001b[0m\u001b[1;36m20\u001b[0m\u001b[1;33m]\u001b[0m  \u001b[1;31m#인덱스의 범위를 벗어나면 에러남\u001b[0m\u001b[1;33m\u001b[0m\u001b[1;33m\u001b[0m\u001b[0m\n\u001b[0m",
      "\u001b[1;31mIndexError\u001b[0m: list index out of range"
     ]
    }
   ],
   "source": [
    "numbers[20]  #인덱스의 범위를 벗어나면 에러남"
   ]
  },
  {
   "cell_type": "markdown",
   "id": "bfe6a51f",
   "metadata": {},
   "source": [
    "## 1.5 원하는 리스트 내용만 추출 ; 리스트 슬라이싱\n",
    "- 인덱스보다 많은 값을 써도 에러나지 않음\n",
    "- .[from:to:by]. : from부터 to 바로 앞까지 증가하는 index 추출\n",
    "- 인덱스는 음수 가능"
   ]
  },
  {
   "cell_type": "code",
   "execution_count": 55,
   "id": "1d564980",
   "metadata": {
    "ExecuteTime": {
     "end_time": "2021-07-20T07:19:59.637114Z",
     "start_time": "2021-07-20T07:19:59.621030Z"
    }
   },
   "outputs": [
    {
     "data": {
      "text/plain": [
       "[9, 7, 5, 3, 1]"
      ]
     },
     "execution_count": 55,
     "metadata": {},
     "output_type": "execute_result"
    }
   ],
   "source": [
    "numbers = [1,3,5,7,9]\n",
    "numbers[::-1]"
   ]
  },
  {
   "cell_type": "markdown",
   "id": "1bbddd4c",
   "metadata": {},
   "source": [
    "## 리스트 컴프리헨션을 이용해서 list의 원하는 데이터 엑세스"
   ]
  },
  {
   "cell_type": "code",
   "execution_count": 57,
   "id": "d3718dbf",
   "metadata": {
    "ExecuteTime": {
     "end_time": "2021-07-20T07:38:03.194305Z",
     "start_time": "2021-07-20T07:38:03.180310Z"
    }
   },
   "outputs": [
    {
     "data": {
      "text/plain": [
       "[1, 3, 5, 9, 10, 12, 13, 18, 19, 20]"
      ]
     },
     "execution_count": 57,
     "metadata": {},
     "output_type": "execute_result"
    }
   ],
   "source": [
    "numbers = [1,3,5,9,10,12,13,18,19,20]\n",
    "# 모든 데이터를 다 가져오기\n",
    "# for data in numbers:\n",
    "#     print(data, end = '\\t')\n",
    "[data for data in numbers]"
   ]
  },
  {
   "cell_type": "code",
   "execution_count": 58,
   "id": "1613d2c8",
   "metadata": {
    "ExecuteTime": {
     "end_time": "2021-07-20T07:40:10.450869Z",
     "start_time": "2021-07-20T07:40:10.439890Z"
    }
   },
   "outputs": [
    {
     "data": {
      "text/plain": [
       "[10, 12, 18, 20]"
      ]
     },
     "execution_count": 58,
     "metadata": {},
     "output_type": "execute_result"
    }
   ],
   "source": [
    "# 짝수 데이터만 가져오기\n",
    "# for data in numbers:\n",
    "#     if data%2==0:\n",
    "#         print(data, end = '\\t')\n",
    "[data for data in numbers if data%2==0]"
   ]
  },
  {
   "cell_type": "code",
   "execution_count": 60,
   "id": "f099b5a8",
   "metadata": {
    "ExecuteTime": {
     "end_time": "2021-07-20T07:41:08.435085Z",
     "start_time": "2021-07-20T07:41:08.426588Z"
    }
   },
   "outputs": [
    {
     "data": {
      "text/plain": [
       "[10, 12, 13, 18, 19, 20]"
      ]
     },
     "execution_count": 60,
     "metadata": {},
     "output_type": "execute_result"
    }
   ],
   "source": [
    "# 10 이상의 데이터만 가져오기\n",
    "[x for x in numbers if x>=10]"
   ]
  },
  {
   "cell_type": "code",
   "execution_count": 65,
   "id": "c3601980",
   "metadata": {
    "ExecuteTime": {
     "end_time": "2021-07-20T07:43:55.113295Z",
     "start_time": "2021-07-20T07:43:55.099330Z"
    }
   },
   "outputs": [
    {
     "name": "stdout",
     "output_type": "stream",
     "text": [
      "orange\n",
      "apple\n",
      "mange\n"
     ]
    }
   ],
   "source": [
    "# 과일의 글씨가 5글자 이상인 과일 추출하세요\n",
    "fruits = ['orange', 'apple', 'mange', 'kiwi']\n",
    "[x for x in fruits if len(x)>=5]\n",
    "\n",
    "for x in fruits:\n",
    "    if len(x)>=5:\n",
    "        print(x)"
   ]
  },
  {
   "cell_type": "code",
   "execution_count": 66,
   "id": "cf94ba8f",
   "metadata": {
    "ExecuteTime": {
     "end_time": "2021-07-20T07:46:36.168861Z",
     "start_time": "2021-07-20T07:46:36.163842Z"
    }
   },
   "outputs": [
    {
     "data": {
      "text/plain": [
       "[6, 5, 5, 4]"
      ]
     },
     "execution_count": 66,
     "metadata": {},
     "output_type": "execute_result"
    }
   ],
   "source": [
    "# 과일의 글자수를 추출하세요\n",
    "[len(fruit) for fruit in fruits]"
   ]
  },
  {
   "cell_type": "code",
   "execution_count": 67,
   "id": "9726de0a",
   "metadata": {
    "ExecuteTime": {
     "end_time": "2021-07-20T07:47:47.087009Z",
     "start_time": "2021-07-20T07:47:47.072025Z"
    }
   },
   "outputs": [
    {
     "data": {
      "text/plain": [
       "[1, 4, 9, 16, 25]"
      ]
     },
     "execution_count": 67,
     "metadata": {},
     "output_type": "execute_result"
    }
   ],
   "source": [
    "# 리스트 값의 제곱을 추출하여라\n",
    "L = [1,2,3,4,5]\n",
    "[i**2 for i in L]"
   ]
  },
  {
   "cell_type": "code",
   "execution_count": 69,
   "id": "63e572c9",
   "metadata": {
    "ExecuteTime": {
     "end_time": "2021-07-20T07:48:31.332250Z",
     "start_time": "2021-07-20T07:48:31.324274Z"
    }
   },
   "outputs": [
    {
     "data": {
      "text/plain": [
       "[2, 4, 6, 8, 10]"
      ]
     },
     "execution_count": 69,
     "metadata": {},
     "output_type": "execute_result"
    }
   ],
   "source": [
    "# 리스트 값의 2배를 추출하여라\n",
    "[i*2 for i in L]"
   ]
  },
  {
   "cell_type": "markdown",
   "id": "dfdcc3b4",
   "metadata": {},
   "source": [
    "## 1.6 요소 수정하기"
   ]
  },
  {
   "cell_type": "code",
   "execution_count": 1,
   "id": "2c76651f",
   "metadata": {
    "ExecuteTime": {
     "end_time": "2021-07-21T15:02:07.583448Z",
     "start_time": "2021-07-21T15:02:07.572448Z"
    }
   },
   "outputs": [
    {
     "data": {
      "text/plain": [
       "[0, 1, 2222, 3, 4, 5, 6, 7, 8, 9]"
      ]
     },
     "execution_count": 1,
     "metadata": {},
     "output_type": "execute_result"
    }
   ],
   "source": [
    "numbers = [0,1,2,3,4,5,6,7,8,9]\n",
    "numbers[2] = 2222\n",
    "numbers"
   ]
  },
  {
   "cell_type": "code",
   "execution_count": 2,
   "id": "dcaac815",
   "metadata": {
    "ExecuteTime": {
     "end_time": "2021-07-21T15:02:10.134325Z",
     "start_time": "2021-07-21T15:02:10.116341Z"
    }
   },
   "outputs": [
    {
     "data": {
      "text/plain": [
       "[1111, 1111, 1111, 1111, 1111, 1111, 1111, 2222, 3, 4, 5, 6, 7, 8, 9]"
      ]
     },
     "execution_count": 2,
     "metadata": {},
     "output_type": "execute_result"
    }
   ],
   "source": [
    "# 부분리스트를 통째로 바꾸고 싶을때(by 없이 슬라이싱일 경우)\n",
    "numbers[0:2] =[1111,1111,1111,1111,1111,1111,1111]\n",
    "numbers"
   ]
  },
  {
   "cell_type": "code",
   "execution_count": 77,
   "id": "be46cb19",
   "metadata": {
    "ExecuteTime": {
     "end_time": "2021-07-20T07:55:36.963777Z",
     "start_time": "2021-07-20T07:55:36.945826Z"
    }
   },
   "outputs": [
    {
     "name": "stdout",
     "output_type": "stream",
     "text": [
      "수정 전 : [0, 0, 0, 0, 0, 0, 0, 0, 0, 0]\n",
      "수정 후 : [11, 0, 11, 0, 11, 0, 11, 0, 11, 0]\n"
     ]
    }
   ],
   "source": [
    "# 슬라이싱에서 by가 포함된 경우 바꾸려는 값의 수가 맞아야한다.\n",
    "numbers = [0]*10\n",
    "print(\"수정 전 :\", numbers)\n",
    "numbers[::2] = [11,11,11,11,11]# 0,2,4,6,8\n",
    "print(\"수정 후 :\",numbers)"
   ]
  },
  {
   "cell_type": "markdown",
   "id": "4c262aba",
   "metadata": {},
   "source": [
    "## 1.7 삭제하기\n",
    "- pop() : 가장 마지막 인덱스가 요소가 반환되고 삭제\n",
    "- pop(n) : n번째 idx요소가 반환되고 삭제\n",
    "- remove(data) : 해당 data가 삭제\n",
    "- del 리스트 변수.[n]. : n번째 index 요소가 삭제"
   ]
  },
  {
   "cell_type": "code",
   "execution_count": 79,
   "id": "41dd6d60",
   "metadata": {
    "ExecuteTime": {
     "end_time": "2021-07-20T07:59:43.670822Z",
     "start_time": "2021-07-20T07:59:43.661847Z"
    }
   },
   "outputs": [
    {
     "name": "stdout",
     "output_type": "stream",
     "text": [
      "[0, 1, 2, 3, 4, 5]\n",
      "1\n",
      "[0, 2, 3, 4, 5]\n"
     ]
    }
   ],
   "source": [
    "numbers = [0,1,2,3,4,5]\n",
    "print(numbers)\n",
    "print(numbers.pop(1))\n",
    "print(numbers)"
   ]
  },
  {
   "cell_type": "code",
   "execution_count": 80,
   "id": "59ff6246",
   "metadata": {
    "ExecuteTime": {
     "end_time": "2021-07-20T08:01:21.312085Z",
     "start_time": "2021-07-20T08:01:21.302113Z"
    }
   },
   "outputs": [
    {
     "name": "stdout",
     "output_type": "stream",
     "text": [
      "None\n",
      "[0, 2, 4, 5]\n"
     ]
    }
   ],
   "source": [
    "print(numbers.remove(3)) # remove()는 반환값이 없음\n",
    "print(numbers)"
   ]
  },
  {
   "cell_type": "code",
   "execution_count": 81,
   "id": "4fd126db",
   "metadata": {
    "ExecuteTime": {
     "end_time": "2021-07-20T08:02:19.322273Z",
     "start_time": "2021-07-20T08:02:19.303327Z"
    }
   },
   "outputs": [
    {
     "ename": "ValueError",
     "evalue": "list.remove(x): x not in list",
     "output_type": "error",
     "traceback": [
      "\u001b[1;31m---------------------------------------------------------------------------\u001b[0m",
      "\u001b[1;31mValueError\u001b[0m                                Traceback (most recent call last)",
      "\u001b[1;32m<ipython-input-81-fab8fee677e7>\u001b[0m in \u001b[0;36m<module>\u001b[1;34m\u001b[0m\n\u001b[1;32m----> 1\u001b[1;33m \u001b[0mnumbers\u001b[0m\u001b[1;33m.\u001b[0m\u001b[0mremove\u001b[0m\u001b[1;33m(\u001b[0m\u001b[1;36m9\u001b[0m\u001b[1;33m)\u001b[0m \u001b[1;31m# 없는거 없애면 오류\u001b[0m\u001b[1;33m\u001b[0m\u001b[1;33m\u001b[0m\u001b[0m\n\u001b[0m",
      "\u001b[1;31mValueError\u001b[0m: list.remove(x): x not in list"
     ]
    }
   ],
   "source": [
    "numbers.remove(9) # 없는거 없애면 오류"
   ]
  },
  {
   "cell_type": "code",
   "execution_count": 82,
   "id": "d8f46369",
   "metadata": {
    "ExecuteTime": {
     "end_time": "2021-07-20T08:02:54.435219Z",
     "start_time": "2021-07-20T08:02:54.422243Z"
    }
   },
   "outputs": [
    {
     "data": {
      "text/plain": [
       "[0, 4, 5]"
      ]
     },
     "execution_count": 82,
     "metadata": {},
     "output_type": "execute_result"
    }
   ],
   "source": [
    "del numbers[1]\n",
    "numbers"
   ]
  },
  {
   "cell_type": "code",
   "execution_count": 83,
   "id": "78329892",
   "metadata": {
    "ExecuteTime": {
     "end_time": "2021-07-20T08:03:15.897274Z",
     "start_time": "2021-07-20T08:03:15.885273Z"
    }
   },
   "outputs": [],
   "source": [
    "del numbers"
   ]
  },
  {
   "cell_type": "code",
   "execution_count": 84,
   "id": "bef679e3",
   "metadata": {
    "ExecuteTime": {
     "end_time": "2021-07-20T08:03:21.531776Z",
     "start_time": "2021-07-20T08:03:21.520807Z"
    }
   },
   "outputs": [
    {
     "ename": "NameError",
     "evalue": "name 'numbers' is not defined",
     "output_type": "error",
     "traceback": [
      "\u001b[1;31m---------------------------------------------------------------------------\u001b[0m",
      "\u001b[1;31mNameError\u001b[0m                                 Traceback (most recent call last)",
      "\u001b[1;32m<ipython-input-84-6a54518a0c2c>\u001b[0m in \u001b[0;36m<module>\u001b[1;34m\u001b[0m\n\u001b[1;32m----> 1\u001b[1;33m \u001b[0mnumbers\u001b[0m\u001b[1;33m\u001b[0m\u001b[1;33m\u001b[0m\u001b[0m\n\u001b[0m",
      "\u001b[1;31mNameError\u001b[0m: name 'numbers' is not defined"
     ]
    }
   ],
   "source": [
    "numbers"
   ]
  },
  {
   "cell_type": "markdown",
   "id": "069d50e5",
   "metadata": {},
   "source": [
    "## 1.8 정렬하기"
   ]
  },
  {
   "cell_type": "code",
   "execution_count": 89,
   "id": "a36af08a",
   "metadata": {
    "ExecuteTime": {
     "end_time": "2021-07-20T08:05:22.290185Z",
     "start_time": "2021-07-20T08:05:22.271214Z"
    }
   },
   "outputs": [
    {
     "data": {
      "text/plain": [
       "[2, 5, 6, 9, 10]"
      ]
     },
     "execution_count": 89,
     "metadata": {},
     "output_type": "execute_result"
    }
   ],
   "source": [
    "numbers = [9,5,2,6,10]\n",
    "numbers.sort()  #numbers 자체가 정렬한 결과로 바뀜. 기본정렬은 오름차순\n",
    "numbers"
   ]
  },
  {
   "cell_type": "code",
   "execution_count": 90,
   "id": "2d33c8c1",
   "metadata": {
    "ExecuteTime": {
     "end_time": "2021-07-20T08:05:52.668751Z",
     "start_time": "2021-07-20T08:05:52.663732Z"
    }
   },
   "outputs": [
    {
     "data": {
      "text/plain": [
       "[10, 9, 6, 5, 2]"
      ]
     },
     "execution_count": 90,
     "metadata": {},
     "output_type": "execute_result"
    }
   ],
   "source": [
    "numbers = numbers[::-1]  #오름차순 결과를 내림차순으로 변경\n",
    "numbers"
   ]
  },
  {
   "cell_type": "code",
   "execution_count": 91,
   "id": "7ba1079e",
   "metadata": {
    "ExecuteTime": {
     "end_time": "2021-07-20T08:06:45.719589Z",
     "start_time": "2021-07-20T08:06:45.709656Z"
    }
   },
   "outputs": [
    {
     "data": {
      "text/plain": [
       "[10, 9, 6, 5, 2]"
      ]
     },
     "execution_count": 91,
     "metadata": {},
     "output_type": "execute_result"
    }
   ],
   "source": [
    "numbers.sort(reverse=True)  #내림차순 정렬. 리스트 내용에 적용\n",
    "numbers"
   ]
  },
  {
   "cell_type": "code",
   "execution_count": 93,
   "id": "e50862d6",
   "metadata": {
    "ExecuteTime": {
     "end_time": "2021-07-20T08:07:14.054157Z",
     "start_time": "2021-07-20T08:07:14.046169Z"
    }
   },
   "outputs": [
    {
     "data": {
      "text/plain": [
       "[2, 5, 6, 9, 10]"
      ]
     },
     "execution_count": 93,
     "metadata": {},
     "output_type": "execute_result"
    }
   ],
   "source": [
    "numbers.reverse() # 리스트를 역순으로 변경\n",
    "numbers"
   ]
  },
  {
   "cell_type": "code",
   "execution_count": 94,
   "id": "3cbd51ea",
   "metadata": {
    "ExecuteTime": {
     "end_time": "2021-07-20T08:07:57.978182Z",
     "start_time": "2021-07-20T08:07:57.960230Z"
    }
   },
   "outputs": [
    {
     "data": {
      "text/plain": [
       "[10, 9, 6, 5, 2]"
      ]
     },
     "execution_count": 94,
     "metadata": {},
     "output_type": "execute_result"
    }
   ],
   "source": [
    "numbers = numbers[::-1]  # 리스트를 역순으로 변경\n",
    "numbers"
   ]
  },
  {
   "cell_type": "markdown",
   "id": "8261df9c",
   "metadata": {},
   "source": [
    "## 1.9 리스트 복제"
   ]
  },
  {
   "cell_type": "code",
   "execution_count": 99,
   "id": "e710c1d2",
   "metadata": {
    "ExecuteTime": {
     "end_time": "2021-07-20T08:12:31.229920Z",
     "start_time": "2021-07-20T08:12:31.223937Z"
    }
   },
   "outputs": [
    {
     "name": "stdout",
     "output_type": "stream",
     "text": [
      "정렬전 데이터 : [2, 4, 6, 7, 10]\n",
      "정렬한 데이터 : [2, 4, 6, 7, 10]\n",
      "new_numbers 주소 : 1469605499712\n",
      "numbers 주소 : 1469605499712\n"
     ]
    }
   ],
   "source": [
    "numbers = [6,2,7,4,10]\n",
    "new_numbers = numbers    #numbers의 주소가 new_numbers로 전달된다.\n",
    "numbers.sort()\n",
    "print('정렬전 데이터 :', new_numbers)\n",
    "print('정렬한 데이터 :', numbers)\n",
    "print('new_numbers 주소 :', id(new_numbers))\n",
    "print('numbers 주소 :', id(numbers))"
   ]
  },
  {
   "cell_type": "code",
   "execution_count": 101,
   "id": "4af888dd",
   "metadata": {
    "ExecuteTime": {
     "end_time": "2021-07-20T08:16:14.209541Z",
     "start_time": "2021-07-20T08:16:14.190590Z"
    }
   },
   "outputs": [
    {
     "name": "stdout",
     "output_type": "stream",
     "text": [
      "정렬전 데이터 : [6, 2, 7, 4, 10]\n",
      "정렬한 데이터 : [2, 4, 6, 7, 10]\n",
      "new_numbers 주소 : 1469605626176\n",
      "numbers 주소 : 1469605627776\n"
     ]
    }
   ],
   "source": [
    "#복제\n",
    "numbers = [6,2,7,4,10]\n",
    "new_numbers = numbers.copy()    #numbers를 복제\n",
    "numbers.sort()\n",
    "print('정렬전 데이터 :', new_numbers)\n",
    "print('정렬한 데이터 :', numbers)\n",
    "print('new_numbers 주소 :', id(new_numbers))\n",
    "print('numbers 주소 :', id(numbers))"
   ]
  },
  {
   "cell_type": "code",
   "execution_count": 105,
   "id": "341a350f",
   "metadata": {
    "ExecuteTime": {
     "end_time": "2021-07-20T08:19:19.658021Z",
     "start_time": "2021-07-20T08:19:19.646086Z"
    }
   },
   "outputs": [
    {
     "name": "stdout",
     "output_type": "stream",
     "text": [
      "원데이터 : 서울 부산 대구 인천\n",
      "정렬후 : 대구 부산 서울 인천\n"
     ]
    }
   ],
   "source": [
    "city = ['서울','부산','대구','인천']\n",
    "temp = city.copy()\n",
    "city.sort()\n",
    "print('원데이터 :', ' '.join(temp))\n",
    "print('정렬후 :', ' '.join(city))"
   ]
  },
  {
   "cell_type": "markdown",
   "id": "4e9aff33",
   "metadata": {},
   "source": [
    "# 2절 튜플\n",
    "- 리스트와 유사하지만 읽기전용. 수정이 필요없는 데이터타입에서 사용\n",
    "- 수정이 불가함으로 튜플에 데이터 추가, 수정, 삭제가 불가능하다.\n",
    "- 제공되는 함수도 많지 않음\n",
    "- () 이용해서 생성"
   ]
  },
  {
   "cell_type": "code",
   "execution_count": 110,
   "id": "cc223a4c",
   "metadata": {
    "ExecuteTime": {
     "end_time": "2021-07-20T08:40:18.487225Z",
     "start_time": "2021-07-20T08:40:18.470270Z"
    }
   },
   "outputs": [
    {
     "name": "stdout",
     "output_type": "stream",
     "text": [
      "<class 'tuple'>\n",
      "('서울', '부산', '인천', '대구')\n"
     ]
    }
   ],
   "source": [
    "city = ('서울','부산','인천','대구')\n",
    "print(type(city))\n",
    "print(city)"
   ]
  },
  {
   "cell_type": "code",
   "execution_count": 107,
   "id": "822c1a87",
   "metadata": {
    "ExecuteTime": {
     "end_time": "2021-07-20T08:38:24.796828Z",
     "start_time": "2021-07-20T08:38:24.791816Z"
    }
   },
   "outputs": [
    {
     "data": {
      "text/plain": [
       "'서울-부산-인천-대구'"
      ]
     },
     "execution_count": 107,
     "metadata": {},
     "output_type": "execute_result"
    }
   ],
   "source": [
    "'-'.join(city)"
   ]
  },
  {
   "cell_type": "code",
   "execution_count": 108,
   "id": "b46124ab",
   "metadata": {
    "ExecuteTime": {
     "end_time": "2021-07-20T08:39:15.785327Z",
     "start_time": "2021-07-20T08:39:15.769665Z"
    }
   },
   "outputs": [
    {
     "name": "stdout",
     "output_type": "stream",
     "text": [
      "<class 'list'>\n",
      "['서울']\n"
     ]
    }
   ],
   "source": [
    "I = ['서울']   # 요소가 하나 있는 리스트\n",
    "print(type(I))\n",
    "print(I)"
   ]
  },
  {
   "cell_type": "code",
   "execution_count": 109,
   "id": "e738b095",
   "metadata": {
    "ExecuteTime": {
     "end_time": "2021-07-20T08:39:39.828204Z",
     "start_time": "2021-07-20T08:39:39.813244Z"
    }
   },
   "outputs": [
    {
     "name": "stdout",
     "output_type": "stream",
     "text": [
      "<class 'str'>\n"
     ]
    }
   ],
   "source": [
    "city =('서울') # 요소가 하나 있는 튜플(X)\n",
    "print(type(city))"
   ]
  },
  {
   "cell_type": "code",
   "execution_count": 112,
   "id": "88249951",
   "metadata": {
    "ExecuteTime": {
     "end_time": "2021-07-20T08:43:03.612858Z",
     "start_time": "2021-07-20T08:43:03.600422Z"
    }
   },
   "outputs": [
    {
     "name": "stdout",
     "output_type": "stream",
     "text": [
      "<class 'tuple'>\n",
      "('서울',)\n"
     ]
    }
   ],
   "source": [
    "city = ('서울', )  #요소가 하나있는 튜플(o)\n",
    "print(type(city))\n",
    "print(city)"
   ]
  },
  {
   "cell_type": "code",
   "execution_count": 115,
   "id": "89d6a07d",
   "metadata": {
    "ExecuteTime": {
     "end_time": "2021-07-20T08:46:08.085357Z",
     "start_time": "2021-07-20T08:46:08.080370Z"
    }
   },
   "outputs": [
    {
     "name": "stdout",
     "output_type": "stream",
     "text": [
      "<class 'tuple'>\n",
      "(1, 2, 3)\n"
     ]
    }
   ],
   "source": [
    "numbers = 1,2,3 # 여러개 값을 나열할 때는 자동적으로 튜플로 처리\n",
    "print(type(numbers))\n",
    "print(numbers)"
   ]
  },
  {
   "cell_type": "code",
   "execution_count": 116,
   "id": "ad098f83",
   "metadata": {
    "ExecuteTime": {
     "end_time": "2021-07-20T08:46:45.725272Z",
     "start_time": "2021-07-20T08:46:45.705358Z"
    }
   },
   "outputs": [
    {
     "ename": "AttributeError",
     "evalue": "'tuple' object has no attribute 'append'",
     "output_type": "error",
     "traceback": [
      "\u001b[1;31m---------------------------------------------------------------------------\u001b[0m",
      "\u001b[1;31mAttributeError\u001b[0m                            Traceback (most recent call last)",
      "\u001b[1;32m<ipython-input-116-5e8c6a75c2e9>\u001b[0m in \u001b[0;36m<module>\u001b[1;34m\u001b[0m\n\u001b[1;32m----> 1\u001b[1;33m \u001b[0mnumbers\u001b[0m\u001b[1;33m.\u001b[0m\u001b[0mappend\u001b[0m\u001b[1;33m(\u001b[0m\u001b[1;36m4\u001b[0m\u001b[1;33m)\u001b[0m\u001b[1;33m\u001b[0m\u001b[1;33m\u001b[0m\u001b[0m\n\u001b[0m",
      "\u001b[1;31mAttributeError\u001b[0m: 'tuple' object has no attribute 'append'"
     ]
    }
   ],
   "source": [
    "numbers.append(4)"
   ]
  },
  {
   "cell_type": "code",
   "execution_count": 118,
   "id": "cd283d19",
   "metadata": {
    "ExecuteTime": {
     "end_time": "2021-07-20T08:47:08.314008Z",
     "start_time": "2021-07-20T08:47:08.290574Z"
    }
   },
   "outputs": [
    {
     "ename": "AttributeError",
     "evalue": "'tuple' object has no attribute 'remove'",
     "output_type": "error",
     "traceback": [
      "\u001b[1;31m---------------------------------------------------------------------------\u001b[0m",
      "\u001b[1;31mAttributeError\u001b[0m                            Traceback (most recent call last)",
      "\u001b[1;32m<ipython-input-118-225a36c02b9b>\u001b[0m in \u001b[0;36m<module>\u001b[1;34m\u001b[0m\n\u001b[1;32m----> 1\u001b[1;33m \u001b[0mnumbers\u001b[0m\u001b[1;33m.\u001b[0m\u001b[0mremove\u001b[0m\u001b[1;33m(\u001b[0m\u001b[1;36m4\u001b[0m\u001b[1;33m)\u001b[0m      \u001b[1;31m# 수정하기 위한 함수들은 모두 적용 불가\u001b[0m\u001b[1;33m\u001b[0m\u001b[1;33m\u001b[0m\u001b[0m\n\u001b[0m",
      "\u001b[1;31mAttributeError\u001b[0m: 'tuple' object has no attribute 'remove'"
     ]
    }
   ],
   "source": [
    "numbers.remove(4)      # 수정하기 위한 함수들은 모두 적용 불가"
   ]
  },
  {
   "cell_type": "code",
   "execution_count": 119,
   "id": "52545530",
   "metadata": {
    "ExecuteTime": {
     "end_time": "2021-07-20T08:47:39.891520Z",
     "start_time": "2021-07-20T08:47:39.879527Z"
    }
   },
   "outputs": [
    {
     "data": {
      "text/plain": [
       "(3, 1, 3)"
      ]
     },
     "execution_count": 119,
     "metadata": {},
     "output_type": "execute_result"
    }
   ],
   "source": [
    "len(numbers), min(numbers), max(numbers)"
   ]
  },
  {
   "cell_type": "code",
   "execution_count": 120,
   "id": "c7cdda4e",
   "metadata": {
    "ExecuteTime": {
     "end_time": "2021-07-20T08:47:53.646844Z",
     "start_time": "2021-07-20T08:47:53.636871Z"
    }
   },
   "outputs": [
    {
     "data": {
      "text/plain": [
       "1"
      ]
     },
     "execution_count": 120,
     "metadata": {},
     "output_type": "execute_result"
    }
   ],
   "source": [
    "numbers.count(2)"
   ]
  },
  {
   "cell_type": "code",
   "execution_count": 121,
   "id": "67289d60",
   "metadata": {
    "ExecuteTime": {
     "end_time": "2021-07-20T08:48:30.355355Z",
     "start_time": "2021-07-20T08:48:30.339400Z"
    }
   },
   "outputs": [
    {
     "data": {
      "text/plain": [
       "(2, 3, 4)"
      ]
     },
     "execution_count": 121,
     "metadata": {},
     "output_type": "execute_result"
    }
   ],
   "source": [
    "data = (0,1,2,3,4, (5,6))\n",
    "data[2:5]"
   ]
  },
  {
   "cell_type": "code",
   "execution_count": 123,
   "id": "0cc203a7",
   "metadata": {
    "ExecuteTime": {
     "end_time": "2021-07-20T08:48:54.056229Z",
     "start_time": "2021-07-20T08:48:54.051242Z"
    }
   },
   "outputs": [
    {
     "data": {
      "text/plain": [
       "2"
      ]
     },
     "execution_count": 123,
     "metadata": {},
     "output_type": "execute_result"
    }
   ],
   "source": [
    "data.index(2)  # 2가 있는 곳의 index"
   ]
  },
  {
   "cell_type": "code",
   "execution_count": 124,
   "id": "c2fb91d0",
   "metadata": {
    "ExecuteTime": {
     "end_time": "2021-07-20T08:49:49.360291Z",
     "start_time": "2021-07-20T08:49:49.351329Z"
    }
   },
   "outputs": [
    {
     "data": {
      "text/plain": [
       "(0, 1, 2, 0, 1, 2, 0, 1, 2)"
      ]
     },
     "execution_count": 124,
     "metadata": {},
     "output_type": "execute_result"
    }
   ],
   "source": [
    "data = (0,1,2,)\n",
    "data*3"
   ]
  },
  {
   "cell_type": "markdown",
   "id": "caac077a",
   "metadata": {},
   "source": [
    "# 3절. 딕셔너리\n",
    "cf. 자바에서의 hashMap\n",
    "    * 중괄호({})를 이용해서 딕셔너리 생성. 키(key)-값(value)의 쌍으로 구성된 자료구조\n",
    "    * 키는 유일한 값(중복허용안함). 키에 리스트는 사용불가. 키에 투플은 사용가능\n",
    "    * 값은 중복 가능. 모든 데이터 타입이 가능\n",
    "    * 없는 키의 값을 참조하면 에러 발생\n",
    "    * 인덱스를 이용한 참조는 지원 안함"
   ]
  },
  {
   "cell_type": "code",
   "execution_count": 125,
   "id": "af1fbde9",
   "metadata": {
    "ExecuteTime": {
     "end_time": "2021-07-20T08:56:11.542432Z",
     "start_time": "2021-07-20T08:56:11.528869Z"
    }
   },
   "outputs": [
    {
     "name": "stdout",
     "output_type": "stream",
     "text": [
      "<class 'dict'>\n",
      "{'key1': 'value', 'key2': 'value'}\n"
     ]
    }
   ],
   "source": [
    "dic = {'key1':'value', 'key2':'value'}\n",
    "print(type(dic))\n",
    "print(dic)"
   ]
  },
  {
   "cell_type": "code",
   "execution_count": 126,
   "id": "998b7474",
   "metadata": {
    "ExecuteTime": {
     "end_time": "2021-07-20T09:01:03.589696Z",
     "start_time": "2021-07-20T09:01:03.584711Z"
    }
   },
   "outputs": [
    {
     "data": {
      "text/plain": [
       "2"
      ]
     },
     "execution_count": 126,
     "metadata": {},
     "output_type": "execute_result"
    }
   ],
   "source": [
    "len(dic)   # 데이터 요소의 갯수"
   ]
  },
  {
   "cell_type": "code",
   "execution_count": 127,
   "id": "b6a51a33",
   "metadata": {
    "ExecuteTime": {
     "end_time": "2021-07-20T09:02:13.206719Z",
     "start_time": "2021-07-20T09:02:13.193755Z"
    }
   },
   "outputs": [
    {
     "data": {
      "text/plain": [
       "{'fruit': 'apple', 'number': 12, 'sport': 'golf'}"
      ]
     },
     "execution_count": 127,
     "metadata": {},
     "output_type": "execute_result"
    }
   ],
   "source": [
    "my_favorite = {'fruit':'apple', 'number':12, 'sport':'golf'}\n",
    "my_favorite"
   ]
  },
  {
   "cell_type": "code",
   "execution_count": 128,
   "id": "837635b3",
   "metadata": {
    "ExecuteTime": {
     "end_time": "2021-07-20T09:02:33.187746Z",
     "start_time": "2021-07-20T09:02:33.175778Z"
    }
   },
   "outputs": [
    {
     "ename": "KeyError",
     "evalue": "1",
     "output_type": "error",
     "traceback": [
      "\u001b[1;31m---------------------------------------------------------------------------\u001b[0m",
      "\u001b[1;31mKeyError\u001b[0m                                  Traceback (most recent call last)",
      "\u001b[1;32m<ipython-input-128-946b7964c78c>\u001b[0m in \u001b[0;36m<module>\u001b[1;34m\u001b[0m\n\u001b[1;32m----> 1\u001b[1;33m \u001b[0mmy_favorite\u001b[0m\u001b[1;33m[\u001b[0m\u001b[1;36m1\u001b[0m\u001b[1;33m]\u001b[0m\u001b[1;33m\u001b[0m\u001b[1;33m\u001b[0m\u001b[0m\n\u001b[0m",
      "\u001b[1;31mKeyError\u001b[0m: 1"
     ]
    }
   ],
   "source": [
    "my_favorite[1]"
   ]
  },
  {
   "cell_type": "code",
   "execution_count": 129,
   "id": "6f1bd28b",
   "metadata": {
    "ExecuteTime": {
     "end_time": "2021-07-20T09:02:43.332313Z",
     "start_time": "2021-07-20T09:02:43.321353Z"
    }
   },
   "outputs": [
    {
     "data": {
      "text/plain": [
       "'apple'"
      ]
     },
     "execution_count": 129,
     "metadata": {},
     "output_type": "execute_result"
    }
   ],
   "source": [
    "my_favorite['fruit']"
   ]
  },
  {
   "cell_type": "code",
   "execution_count": 130,
   "id": "5d84b616",
   "metadata": {
    "ExecuteTime": {
     "end_time": "2021-07-20T09:03:10.242996Z",
     "start_time": "2021-07-20T09:03:10.224015Z"
    }
   },
   "outputs": [
    {
     "data": {
      "text/plain": [
       "'apple'"
      ]
     },
     "execution_count": 130,
     "metadata": {},
     "output_type": "execute_result"
    }
   ],
   "source": [
    "my_favorite.get('fruit')"
   ]
  },
  {
   "cell_type": "code",
   "execution_count": 132,
   "id": "9ee497da",
   "metadata": {
    "ExecuteTime": {
     "end_time": "2021-07-20T09:04:32.200053Z",
     "start_time": "2021-07-20T09:04:32.192075Z"
    }
   },
   "outputs": [
    {
     "name": "stdout",
     "output_type": "stream",
     "text": [
      "None\n"
     ]
    }
   ],
   "source": [
    "#print(my_favorite['people']) # 키목록에 없는 데이터를 인덱스로 참조시  에러\n",
    "print(my_favorite.get('people'))"
   ]
  },
  {
   "cell_type": "code",
   "execution_count": 136,
   "id": "a6ab5789",
   "metadata": {
    "ExecuteTime": {
     "end_time": "2021-07-20T09:09:33.021751Z",
     "start_time": "2021-07-20T09:09:33.007787Z"
    }
   },
   "outputs": [
    {
     "name": "stdout",
     "output_type": "stream",
     "text": [
      "fruit 수정후 : {'fruit': 'banana', 'number': 12, 'sport': 'golf'}\n",
      "people 추가후 : {'fruit': 'banana', 'number': 12, 'sport': 'golf', 'people': 'KIM'}\n",
      "sport 삭제후 : {'fruit': 'banana', 'number': 12, 'people': 'KIM'}\n"
     ]
    }
   ],
   "source": [
    "#  수정\n",
    "my_favorite = {'fruit':'apple', 'number':12, 'sport':'golf'}\n",
    "my_favorite['fruit']='banana'\n",
    "print('fruit 수정후 :', my_favorite)\n",
    "my_favorite['people']='KIM'\n",
    "print('people 추가후 :', my_favorite)\n",
    "del(my_favorite['sport'])\n",
    "print('sport 삭제후 :',my_favorite)\n"
   ]
  },
  {
   "cell_type": "code",
   "execution_count": 138,
   "id": "889c9757",
   "metadata": {
    "ExecuteTime": {
     "end_time": "2021-07-20T09:13:48.437418Z",
     "start_time": "2021-07-20T09:13:48.426447Z"
    }
   },
   "outputs": [
    {
     "name": "stdout",
     "output_type": "stream",
     "text": [
      "홍길동\t25\t010-9999-9999\t0번째 데이터 : 홍길동\n",
      "1번째 데이터 : 25\n",
      "2번째 데이터 : 010-9999-9999\n"
     ]
    }
   ],
   "source": [
    "# for을 이용한 딕셔너리 출력\n",
    "my_dic = {'name':'홍길동', 'age':25, 'tel':'010-9999-9999'}\n",
    "my_tuple = ('홍길동', 25, '010-9999-9999')\n",
    "for data in my_tuple:\n",
    "    print(data, end='\\t')\n",
    "\n",
    "for idx in range(len(my_tuple)):\n",
    "    print(\"{}번째 데이터 : {}\".format(idx, my_tuple[idx]))"
   ]
  },
  {
   "cell_type": "code",
   "execution_count": 139,
   "id": "e24ff5ae",
   "metadata": {
    "ExecuteTime": {
     "end_time": "2021-07-20T09:15:41.768977Z",
     "start_time": "2021-07-20T09:15:41.760972Z"
    }
   },
   "outputs": [
    {
     "name": "stdout",
     "output_type": "stream",
     "text": [
      "name\tage\ttel\t"
     ]
    }
   ],
   "source": [
    "# for을 이용한 딕셔너리 출력\n",
    "my_dic = {'name':'홍길동', 'age':25, 'tel':'010-9999-9999'}\n",
    "for data in my_dic:\n",
    "    print(data, end='\\t')"
   ]
  },
  {
   "cell_type": "code",
   "execution_count": 140,
   "id": "e189ef7b",
   "metadata": {
    "ExecuteTime": {
     "end_time": "2021-07-20T09:16:00.362735Z",
     "start_time": "2021-07-20T09:16:00.349770Z"
    }
   },
   "outputs": [
    {
     "data": {
      "text/plain": [
       "dict_keys(['name', 'age', 'tel'])"
      ]
     },
     "execution_count": 140,
     "metadata": {},
     "output_type": "execute_result"
    }
   ],
   "source": [
    "my_dic.keys() # 키목록"
   ]
  },
  {
   "cell_type": "code",
   "execution_count": 141,
   "id": "b4230684",
   "metadata": {
    "ExecuteTime": {
     "end_time": "2021-07-20T09:16:21.375248Z",
     "start_time": "2021-07-20T09:16:21.370288Z"
    }
   },
   "outputs": [
    {
     "data": {
      "text/plain": [
       "dict_values(['홍길동', 25, '010-9999-9999'])"
      ]
     },
     "execution_count": 141,
     "metadata": {},
     "output_type": "execute_result"
    }
   ],
   "source": [
    "my_dic.values() # 값들만"
   ]
  },
  {
   "cell_type": "code",
   "execution_count": 142,
   "id": "1180f9c9",
   "metadata": {
    "ExecuteTime": {
     "end_time": "2021-07-20T09:16:50.385568Z",
     "start_time": "2021-07-20T09:16:50.378587Z"
    }
   },
   "outputs": [
    {
     "data": {
      "text/plain": [
       "dict_items([('name', '홍길동'), ('age', 25), ('tel', '010-9999-9999')])"
      ]
     },
     "execution_count": 142,
     "metadata": {},
     "output_type": "execute_result"
    }
   ],
   "source": [
    "my_dic.items() # 튜플로 이루어진 (키, 값)"
   ]
  },
  {
   "cell_type": "code",
   "execution_count": 144,
   "id": "53ff0eff",
   "metadata": {
    "ExecuteTime": {
     "end_time": "2021-07-20T09:18:27.324921Z",
     "start_time": "2021-07-20T09:18:27.315945Z"
    }
   },
   "outputs": [
    {
     "name": "stdout",
     "output_type": "stream",
     "text": [
      "name\tage\ttel\t홍길동\t25\t010-9999-9999\t"
     ]
    }
   ],
   "source": [
    "for key in my_dic.keys():\n",
    "    print(key, end='\\t')"
   ]
  },
  {
   "cell_type": "code",
   "execution_count": 145,
   "id": "63a33c06",
   "metadata": {
    "ExecuteTime": {
     "end_time": "2021-07-20T09:18:34.547507Z",
     "start_time": "2021-07-20T09:18:34.529592Z"
    }
   },
   "outputs": [
    {
     "name": "stdout",
     "output_type": "stream",
     "text": [
      "홍길동\t25\t010-9999-9999\t"
     ]
    }
   ],
   "source": [
    "for key in my_dic.values():\n",
    "    print(key, end='\\t')"
   ]
  },
  {
   "cell_type": "code",
   "execution_count": 146,
   "id": "6d86aa65",
   "metadata": {
    "ExecuteTime": {
     "end_time": "2021-07-20T09:20:03.667027Z",
     "start_time": "2021-07-20T09:20:03.660046Z"
    }
   },
   "outputs": [
    {
     "name": "stdout",
     "output_type": "stream",
     "text": [
      "name은 홍길동\n",
      "age은 25\n",
      "tel은 010-9999-9999\n"
     ]
    }
   ],
   "source": [
    "for item in my_dic.items():\n",
    "    print(\"{}은 {}\".format(item[0],item[1]))"
   ]
  },
  {
   "cell_type": "code",
   "execution_count": 147,
   "id": "de90703d",
   "metadata": {
    "ExecuteTime": {
     "end_time": "2021-07-20T09:21:02.106944Z",
     "start_time": "2021-07-20T09:21:02.095790Z"
    }
   },
   "outputs": [
    {
     "name": "stdout",
     "output_type": "stream",
     "text": [
      "name은 홍길동\n",
      "age은 25\n",
      "tel은 010-9999-9999\n"
     ]
    }
   ],
   "source": [
    "for key, value in my_dic.items():\n",
    "    print(\"{}은 {}\".format(key,value))"
   ]
  },
  {
   "cell_type": "code",
   "execution_count": null,
   "id": "37d1c75d",
   "metadata": {},
   "outputs": [],
   "source": [
    "#in 연산자"
   ]
  },
  {
   "cell_type": "code",
   "execution_count": 1,
   "id": "e48bc0b3",
   "metadata": {
    "ExecuteTime": {
     "end_time": "2021-07-21T00:44:44.332767Z",
     "start_time": "2021-07-21T00:44:44.313851Z"
    }
   },
   "outputs": [
    {
     "data": {
      "text/plain": [
       "True"
      ]
     },
     "execution_count": 1,
     "metadata": {},
     "output_type": "execute_result"
    }
   ],
   "source": [
    "L = (1,2,3)\n",
    "2 in L"
   ]
  },
  {
   "cell_type": "code",
   "execution_count": 2,
   "id": "6ddfeeab",
   "metadata": {
    "ExecuteTime": {
     "end_time": "2021-07-21T00:45:27.653227Z",
     "start_time": "2021-07-21T00:45:27.638295Z"
    }
   },
   "outputs": [
    {
     "data": {
      "text/plain": [
       "False"
      ]
     },
     "execution_count": 2,
     "metadata": {},
     "output_type": "execute_result"
    }
   ],
   "source": [
    "my_dic = {'name':'홍길동', 'age':25, 'tel':'010-9999-9999'}\n",
    "'홍길동' in my_dic"
   ]
  },
  {
   "cell_type": "code",
   "execution_count": 4,
   "id": "68f1810e",
   "metadata": {
    "ExecuteTime": {
     "end_time": "2021-07-21T00:46:31.985725Z",
     "start_time": "2021-07-21T00:46:31.971763Z"
    }
   },
   "outputs": [
    {
     "data": {
      "text/plain": [
       "True"
      ]
     },
     "execution_count": 4,
     "metadata": {},
     "output_type": "execute_result"
    }
   ],
   "source": [
    "# 딕셔너리에서의 in연산자는 키가 있는지 여부 반환\n",
    "'name' in my_dic"
   ]
  },
  {
   "cell_type": "code",
   "execution_count": 5,
   "id": "32966fdd",
   "metadata": {
    "ExecuteTime": {
     "end_time": "2021-07-21T00:49:18.075105Z",
     "start_time": "2021-07-21T00:49:18.066129Z"
    }
   },
   "outputs": [
    {
     "name": "stdout",
     "output_type": "stream",
     "text": [
      "{'fruit': 'apple', 'number': 1}\n",
      "{'fruit': 'apple', 'number': 1}\n"
     ]
    }
   ],
   "source": [
    "my_favorite = {'fruit':'apple', 'number':1}\n",
    "new_my_favorite = my_favorite  # 할당\n",
    "print(my_favorite)\n",
    "print(new_my_favorite)"
   ]
  },
  {
   "cell_type": "code",
   "execution_count": 6,
   "id": "634d285d",
   "metadata": {
    "ExecuteTime": {
     "end_time": "2021-07-21T00:51:42.854294Z",
     "start_time": "2021-07-21T00:51:42.841328Z"
    }
   },
   "outputs": [
    {
     "name": "stdout",
     "output_type": "stream",
     "text": [
      "{'fruit': '과일은 다 좋아', 'number': 1}\n",
      "{'fruit': '과일은 다 좋아', 'number': 1}\n",
      "주소 : 1813460815104\n",
      "주소 : 1813460815104\n"
     ]
    }
   ],
   "source": [
    "my_favorite['fruit'] = '과일은 다 좋아'\n",
    "print(my_favorite)\n",
    "print(new_my_favorite)\n",
    "print('주소 :',id(my_favorite))\n",
    "print('주소 :',id(new_my_favorite))"
   ]
  },
  {
   "cell_type": "code",
   "execution_count": 7,
   "id": "8bdfb8bb",
   "metadata": {
    "ExecuteTime": {
     "end_time": "2021-07-21T00:53:37.502009Z",
     "start_time": "2021-07-21T00:53:37.492042Z"
    }
   },
   "outputs": [
    {
     "name": "stdout",
     "output_type": "stream",
     "text": [
      "{'fruit': '과일은 다 좋아', 'number': 1}\n",
      "{'fruit': 'apple', 'number': 1}\n",
      "주소 : 1813460831232\n",
      "주소 : 1813460836416\n"
     ]
    }
   ],
   "source": [
    "my_favorite = {'fruit':'apple', 'number':1}\n",
    "new_my_favorite = my_favorite.copy()   #복제\n",
    "my_favorite['fruit'] = '과일은 다 좋아'\n",
    "print(my_favorite)\n",
    "print(new_my_favorite)\n",
    "print('주소 :',id(my_favorite))\n",
    "print('주소 :',id(new_my_favorite))\n"
   ]
  },
  {
   "cell_type": "markdown",
   "id": "822d297e",
   "metadata": {},
   "source": [
    "# 4절. 셋\n",
    "    * 중복 허용하지 않는 집합(순서x)\n",
    "    * 중괄호({})나 set()함수를 이용해서 셋 생성 : set([1,2]) set({딕셔너리}) set(튜플)\n",
    "    * 집합연산자 (&교집합, |합집합, -차집합)"
   ]
  },
  {
   "cell_type": "code",
   "execution_count": 8,
   "id": "c4ce6183",
   "metadata": {
    "ExecuteTime": {
     "end_time": "2021-07-21T00:59:24.198185Z",
     "start_time": "2021-07-21T00:59:24.193235Z"
    }
   },
   "outputs": [
    {
     "data": {
      "text/plain": [
       "{'apple', 'banana', 'orange'}"
      ]
     },
     "execution_count": 8,
     "metadata": {},
     "output_type": "execute_result"
    }
   ],
   "source": [
    "fruits = {'apple', 'orange', 'banana', 'banana'}\n",
    "fruits"
   ]
  },
  {
   "cell_type": "code",
   "execution_count": 12,
   "id": "bc6a7bbe",
   "metadata": {
    "ExecuteTime": {
     "end_time": "2021-07-21T01:00:19.269654Z",
     "start_time": "2021-07-21T01:00:19.254662Z"
    }
   },
   "outputs": [
    {
     "data": {
      "text/plain": [
       "{1, 2, 3}"
      ]
     },
     "execution_count": 12,
     "metadata": {},
     "output_type": "execute_result"
    }
   ],
   "source": [
    "s1 = set([1,2,3,1])\n",
    "s1"
   ]
  },
  {
   "cell_type": "code",
   "execution_count": 11,
   "id": "34a114dd",
   "metadata": {
    "ExecuteTime": {
     "end_time": "2021-07-21T01:00:09.745542Z",
     "start_time": "2021-07-21T01:00:09.738560Z"
    }
   },
   "outputs": [
    {
     "data": {
      "text/plain": [
       "[1, 2, 3, 1]"
      ]
     },
     "execution_count": 11,
     "metadata": {},
     "output_type": "execute_result"
    }
   ],
   "source": [
    "[1,2,3,1]"
   ]
  },
  {
   "cell_type": "code",
   "execution_count": 14,
   "id": "b973fce9",
   "metadata": {
    "ExecuteTime": {
     "end_time": "2021-07-21T01:00:55.246952Z",
     "start_time": "2021-07-21T01:00:55.237012Z"
    }
   },
   "outputs": [
    {
     "data": {
      "text/plain": [
       "{1, 2, 3}"
      ]
     },
     "execution_count": 14,
     "metadata": {},
     "output_type": "execute_result"
    }
   ],
   "source": [
    "s2 = set((1,2,3,1))\n",
    "s2"
   ]
  },
  {
   "cell_type": "code",
   "execution_count": 15,
   "id": "98039670",
   "metadata": {
    "ExecuteTime": {
     "end_time": "2021-07-21T01:01:25.337997Z",
     "start_time": "2021-07-21T01:01:25.330476Z"
    }
   },
   "outputs": [
    {
     "data": {
      "text/plain": [
       "{'age', 'name'}"
      ]
     },
     "execution_count": 15,
     "metadata": {},
     "output_type": "execute_result"
    }
   ],
   "source": [
    "s3 = set({'name':'홍길동','age':30}) #set 함수를 이용하면 키 값만 적용\n",
    "s3"
   ]
  },
  {
   "cell_type": "code",
   "execution_count": 18,
   "id": "1d369d48",
   "metadata": {
    "ExecuteTime": {
     "end_time": "2021-07-21T01:03:28.524025Z",
     "start_time": "2021-07-21T01:03:28.510037Z"
    }
   },
   "outputs": [
    {
     "data": {
      "text/plain": [
       "{1, 2, 3, 4, 5, 6}"
      ]
     },
     "execution_count": 18,
     "metadata": {},
     "output_type": "execute_result"
    }
   ],
   "source": [
    "s2.add(5)  # 2,3번 실행도 4는 한번 추가\n",
    "s2.add(6)\n",
    "s2"
   ]
  },
  {
   "cell_type": "code",
   "execution_count": 19,
   "id": "65d1ca34",
   "metadata": {
    "ExecuteTime": {
     "end_time": "2021-07-21T01:03:45.428044Z",
     "start_time": "2021-07-21T01:03:45.423021Z"
    }
   },
   "outputs": [
    {
     "data": {
      "text/plain": [
       "{(7, 8, 9), 1, 2, 3, 4, 5, 6}"
      ]
     },
     "execution_count": 19,
     "metadata": {},
     "output_type": "execute_result"
    }
   ],
   "source": [
    "s2.add((7,8,9))    # add 함수는 인수로 기본자료형, 튜플 가능\n",
    "s2"
   ]
  },
  {
   "cell_type": "code",
   "execution_count": 20,
   "id": "4dfaab0c",
   "metadata": {
    "ExecuteTime": {
     "end_time": "2021-07-21T01:04:32.333362Z",
     "start_time": "2021-07-21T01:04:32.129839Z"
    }
   },
   "outputs": [
    {
     "ename": "TypeError",
     "evalue": "unhashable type: 'list'",
     "output_type": "error",
     "traceback": [
      "\u001b[1;31m---------------------------------------------------------------------------\u001b[0m",
      "\u001b[1;31mTypeError\u001b[0m                                 Traceback (most recent call last)",
      "\u001b[1;32m<ipython-input-20-10cf7eeb5cdb>\u001b[0m in \u001b[0;36m<module>\u001b[1;34m\u001b[0m\n\u001b[1;32m----> 1\u001b[1;33m \u001b[0ms2\u001b[0m\u001b[1;33m.\u001b[0m\u001b[0madd\u001b[0m\u001b[1;33m(\u001b[0m\u001b[1;33m[\u001b[0m\u001b[1;36m10\u001b[0m\u001b[1;33m,\u001b[0m\u001b[1;36m11\u001b[0m\u001b[1;33m,\u001b[0m\u001b[1;36m12\u001b[0m\u001b[1;33m]\u001b[0m\u001b[1;33m)\u001b[0m  \u001b[1;31m# add함수는 list인수 불가\u001b[0m\u001b[1;33m\u001b[0m\u001b[1;33m\u001b[0m\u001b[0m\n\u001b[0m\u001b[0;32m      2\u001b[0m \u001b[0ms2\u001b[0m\u001b[1;33m\u001b[0m\u001b[1;33m\u001b[0m\u001b[0m\n",
      "\u001b[1;31mTypeError\u001b[0m: unhashable type: 'list'"
     ]
    }
   ],
   "source": [
    "s2.add([10,11,12])  # add함수는 list인수 불가\n",
    "s2"
   ]
  },
  {
   "cell_type": "code",
   "execution_count": 21,
   "id": "3c087a11",
   "metadata": {
    "ExecuteTime": {
     "end_time": "2021-07-21T01:05:20.290953Z",
     "start_time": "2021-07-21T01:05:20.273328Z"
    }
   },
   "outputs": [
    {
     "data": {
      "text/plain": [
       "{(7, 8, 9), 1, 2, 3, 4, 5, 6, False}"
      ]
     },
     "execution_count": 21,
     "metadata": {},
     "output_type": "execute_result"
    }
   ],
   "source": [
    "s2.add(False)\n",
    "s2"
   ]
  },
  {
   "cell_type": "code",
   "execution_count": null,
   "id": "2a39d29f",
   "metadata": {},
   "outputs": [],
   "source": [
    "s2.add(0) \n",
    "s2"
   ]
  },
  {
   "cell_type": "code",
   "execution_count": 22,
   "id": "cea8d4b9",
   "metadata": {
    "ExecuteTime": {
     "end_time": "2021-07-21T01:06:32.486250Z",
     "start_time": "2021-07-21T01:06:32.465305Z"
    }
   },
   "outputs": [
    {
     "ename": "TypeError",
     "evalue": "unhashable type: 'dict'",
     "output_type": "error",
     "traceback": [
      "\u001b[1;31m---------------------------------------------------------------------------\u001b[0m",
      "\u001b[1;31mTypeError\u001b[0m                                 Traceback (most recent call last)",
      "\u001b[1;32m<ipython-input-22-acba403e0739>\u001b[0m in \u001b[0;36m<module>\u001b[1;34m\u001b[0m\n\u001b[1;32m----> 1\u001b[1;33m \u001b[0ms2\u001b[0m\u001b[1;33m.\u001b[0m\u001b[0madd\u001b[0m\u001b[1;33m(\u001b[0m\u001b[1;33m{\u001b[0m\u001b[1;34m'name'\u001b[0m\u001b[1;33m:\u001b[0m\u001b[1;34m'kim'\u001b[0m\u001b[1;33m,\u001b[0m \u001b[1;34m'age'\u001b[0m\u001b[1;33m:\u001b[0m\u001b[1;36m22\u001b[0m\u001b[1;33m}\u001b[0m\u001b[1;33m)\u001b[0m\u001b[1;33m\u001b[0m\u001b[1;33m\u001b[0m\u001b[0m\n\u001b[0m",
      "\u001b[1;31mTypeError\u001b[0m: unhashable type: 'dict'"
     ]
    }
   ],
   "source": [
    "s2.add({'name':'kim', 'age':22})  # add함수는 dictionary 인수 불가"
   ]
  },
  {
   "cell_type": "code",
   "execution_count": 24,
   "id": "15d8cdb4",
   "metadata": {
    "ExecuteTime": {
     "end_time": "2021-07-21T01:07:41.659265Z",
     "start_time": "2021-07-21T01:07:41.639289Z"
    }
   },
   "outputs": [
    {
     "data": {
      "text/plain": [
       "{1, 2, 3, 4, 5, 6}"
      ]
     },
     "execution_count": 24,
     "metadata": {},
     "output_type": "execute_result"
    }
   ],
   "source": [
    "s1 = {1,2,3}\n",
    "s1.update([4,5,6,1])\n",
    "s1"
   ]
  },
  {
   "cell_type": "code",
   "execution_count": 25,
   "id": "01c6fd26",
   "metadata": {
    "ExecuteTime": {
     "end_time": "2021-07-21T01:08:23.612149Z",
     "start_time": "2021-07-21T01:08:23.607131Z"
    }
   },
   "outputs": [
    {
     "data": {
      "text/plain": [
       "{1, 2, 3, 4, 5, 6, 'age', 'name'}"
      ]
     },
     "execution_count": 25,
     "metadata": {},
     "output_type": "execute_result"
    }
   ],
   "source": [
    "s1.update({'name':'kim','age':30})     # 딕셔너리는 키값만 추가\n",
    "s1"
   ]
  },
  {
   "cell_type": "code",
   "execution_count": 26,
   "id": "aa41e4d6",
   "metadata": {
    "ExecuteTime": {
     "end_time": "2021-07-21T01:08:37.674856Z",
     "start_time": "2021-07-21T01:08:37.670867Z"
    }
   },
   "outputs": [],
   "source": [
    "s1.remove('name')"
   ]
  },
  {
   "cell_type": "code",
   "execution_count": 27,
   "id": "e26c13d2",
   "metadata": {
    "ExecuteTime": {
     "end_time": "2021-07-21T01:08:56.068026Z",
     "start_time": "2021-07-21T01:08:56.052102Z"
    }
   },
   "outputs": [
    {
     "ename": "KeyError",
     "evalue": "'kim'",
     "output_type": "error",
     "traceback": [
      "\u001b[1;31m---------------------------------------------------------------------------\u001b[0m",
      "\u001b[1;31mKeyError\u001b[0m                                  Traceback (most recent call last)",
      "\u001b[1;32m<ipython-input-27-b4cb872c00dc>\u001b[0m in \u001b[0;36m<module>\u001b[1;34m\u001b[0m\n\u001b[1;32m----> 1\u001b[1;33m \u001b[0ms1\u001b[0m\u001b[1;33m.\u001b[0m\u001b[0mremove\u001b[0m\u001b[1;33m(\u001b[0m\u001b[1;34m'kim'\u001b[0m\u001b[1;33m)\u001b[0m\u001b[1;33m\u001b[0m\u001b[1;33m\u001b[0m\u001b[0m\n\u001b[0m",
      "\u001b[1;31mKeyError\u001b[0m: 'kim'"
     ]
    }
   ],
   "source": [
    "s1.remove('kim')  # 없는 데이터를 remove할 경우 에러"
   ]
  },
  {
   "cell_type": "code",
   "execution_count": 29,
   "id": "6cd447e7",
   "metadata": {
    "ExecuteTime": {
     "end_time": "2021-07-21T01:12:04.196378Z",
     "start_time": "2021-07-21T01:12:04.191391Z"
    }
   },
   "outputs": [
    {
     "name": "stdout",
     "output_type": "stream",
     "text": [
      "s1 =  {1, 2, 3, 4, 5, 6}\n",
      "s2 =  {4, 5, 6, 7, 8, 9}\n",
      "교집합 =  {4, 5, 6}\n",
      "교집합 =  {1, 2, 3, 4, 5, 6, 7, 8, 9}\n",
      "차집합 =  {1, 2, 3}\n"
     ]
    }
   ],
   "source": [
    "s1 = {1,2,3,4,5,6}\n",
    "s2 = {4,5,6,7,8,9}\n",
    "print('s1 = ', s1)\n",
    "print('s2 = ', s2)\n",
    "print('교집합 = ', s1 & s2) # &:교집합, 논리연산자(and), 비트연산자\n",
    "print('교집합 = ', s1 | s2)\n",
    "print('차집합 = ', s1 - s2)"
   ]
  },
  {
   "cell_type": "code",
   "execution_count": 30,
   "id": "a90d4797",
   "metadata": {
    "ExecuteTime": {
     "end_time": "2021-07-21T01:13:40.699088Z",
     "start_time": "2021-07-21T01:13:40.689115Z"
    }
   },
   "outputs": [
    {
     "name": "stdout",
     "output_type": "stream",
     "text": [
      "{'kildong', 'kilja', 'sunja'}\n"
     ]
    }
   ],
   "source": [
    "name = {'kildong', 'kilja', 'sunja'}\n",
    "print(name)"
   ]
  },
  {
   "cell_type": "code",
   "execution_count": 31,
   "id": "a97728e2",
   "metadata": {
    "ExecuteTime": {
     "end_time": "2021-07-21T01:13:56.171949Z",
     "start_time": "2021-07-21T01:13:56.155984Z"
    }
   },
   "outputs": [
    {
     "ename": "TypeError",
     "evalue": "'set' object is not subscriptable",
     "output_type": "error",
     "traceback": [
      "\u001b[1;31m---------------------------------------------------------------------------\u001b[0m",
      "\u001b[1;31mTypeError\u001b[0m                                 Traceback (most recent call last)",
      "\u001b[1;32m<ipython-input-31-d548003a69dd>\u001b[0m in \u001b[0;36m<module>\u001b[1;34m\u001b[0m\n\u001b[1;32m----> 1\u001b[1;33m \u001b[0mname\u001b[0m\u001b[1;33m[\u001b[0m\u001b[1;36m0\u001b[0m\u001b[1;33m]\u001b[0m\u001b[1;33m\u001b[0m\u001b[1;33m\u001b[0m\u001b[0m\n\u001b[0m",
      "\u001b[1;31mTypeError\u001b[0m: 'set' object is not subscriptable"
     ]
    }
   ],
   "source": [
    "name[0]"
   ]
  },
  {
   "cell_type": "code",
   "execution_count": 32,
   "id": "ac00ab99",
   "metadata": {
    "ExecuteTime": {
     "end_time": "2021-07-21T01:14:32.993157Z",
     "start_time": "2021-07-21T01:14:32.979684Z"
    }
   },
   "outputs": [
    {
     "name": "stdout",
     "output_type": "stream",
     "text": [
      "kildong\t\tkilja\t\tsunja\t\t"
     ]
    }
   ],
   "source": [
    "for n in name:\n",
    "    print(n, end='\\t\\t')"
   ]
  },
  {
   "cell_type": "markdown",
   "id": "108fe333",
   "metadata": {},
   "source": [
    "# 5절 enumerate\n",
    "   - 반복자 또는 순서 객체로 반복문을 처리할 때 인덱스 처리를 해결하는 함수"
   ]
  },
  {
   "cell_type": "code",
   "execution_count": 33,
   "id": "51083d83",
   "metadata": {
    "ExecuteTime": {
     "end_time": "2021-07-21T01:16:50.777069Z",
     "start_time": "2021-07-21T01:16:50.764071Z"
    }
   },
   "outputs": [
    {
     "data": {
      "text/plain": [
       "[(0, 'kildong'), (1, 'kilja'), (2, 'sunja')]"
      ]
     },
     "execution_count": 33,
     "metadata": {},
     "output_type": "execute_result"
    }
   ],
   "source": [
    "list(enumerate(name))"
   ]
  },
  {
   "cell_type": "code",
   "execution_count": 35,
   "id": "157be762",
   "metadata": {
    "ExecuteTime": {
     "end_time": "2021-07-21T01:19:45.442462Z",
     "start_time": "2021-07-21T01:19:45.437475Z"
    }
   },
   "outputs": [
    {
     "name": "stdout",
     "output_type": "stream",
     "text": [
      "0번째 : kildong\n",
      "1번째 : kilja\n",
      "2번째 : sunja\n"
     ]
    }
   ],
   "source": [
    "for idx, data in enumerate(name):\n",
    "    print(\"{}번째 : {}\".format(idx, data))"
   ]
  },
  {
   "cell_type": "code",
   "execution_count": 34,
   "id": "146963cc",
   "metadata": {
    "ExecuteTime": {
     "end_time": "2021-07-21T01:18:50.232168Z",
     "start_time": "2021-07-21T01:18:50.221198Z"
    }
   },
   "outputs": [
    {
     "name": "stdout",
     "output_type": "stream",
     "text": [
      "0\n",
      "1\n",
      "2\n"
     ]
    }
   ],
   "source": [
    "for l in [0,1,2]:\n",
    "    print(l)"
   ]
  },
  {
   "cell_type": "code",
   "execution_count": 36,
   "id": "89dbd9b0",
   "metadata": {
    "ExecuteTime": {
     "end_time": "2021-07-21T01:40:16.666931Z",
     "start_time": "2021-07-21T01:40:16.655959Z"
    }
   },
   "outputs": [
    {
     "name": "stdout",
     "output_type": "stream",
     "text": [
      "0번째 : 길자\n",
      "1번째 : 순자\n",
      "2번째 : 길동\n"
     ]
    }
   ],
   "source": [
    "L = ['길자','순자','길동']\n",
    "for idx in range(len(L)):\n",
    "    print(\"{}번째 : {}\".format(idx,L[idx]))"
   ]
  },
  {
   "cell_type": "code",
   "execution_count": 37,
   "id": "c954a056",
   "metadata": {
    "ExecuteTime": {
     "end_time": "2021-07-21T01:41:17.705387Z",
     "start_time": "2021-07-21T01:41:17.697408Z"
    }
   },
   "outputs": [
    {
     "data": {
      "text/plain": [
       "[(0, '길자'), (1, '순자'), (2, '길동')]"
      ]
     },
     "execution_count": 37,
     "metadata": {},
     "output_type": "execute_result"
    }
   ],
   "source": [
    "list(enumerate(L))"
   ]
  },
  {
   "cell_type": "code",
   "execution_count": 39,
   "id": "f869d19e",
   "metadata": {
    "ExecuteTime": {
     "end_time": "2021-07-21T01:43:15.419823Z",
     "start_time": "2021-07-21T01:43:15.402146Z"
    }
   },
   "outputs": [
    {
     "name": "stdout",
     "output_type": "stream",
     "text": [
      "0 : 길자\n",
      "1 : 순자\n",
      "2 : 길동\n"
     ]
    }
   ],
   "source": [
    "for idx, name in enumerate(L):\n",
    "    print(\"{} : {}\".format(idx,name))"
   ]
  },
  {
   "cell_type": "code",
   "execution_count": 44,
   "id": "0f31d961",
   "metadata": {
    "ExecuteTime": {
     "end_time": "2021-07-21T01:46:25.071782Z",
     "start_time": "2021-07-21T01:46:25.058848Z"
    }
   },
   "outputs": [],
   "source": [
    "dic = {'name':'홍길동', 'age':35, 'address':'서울시 마포구'}\n"
   ]
  },
  {
   "cell_type": "code",
   "execution_count": 45,
   "id": "1b35af6c",
   "metadata": {
    "ExecuteTime": {
     "end_time": "2021-07-21T01:46:26.533491Z",
     "start_time": "2021-07-21T01:46:26.528550Z"
    }
   },
   "outputs": [
    {
     "name": "stdout",
     "output_type": "stream",
     "text": [
      "name : 홍길동\n",
      "age : 35\n",
      "address : 서울시 마포구\n"
     ]
    }
   ],
   "source": [
    "for key, value in dic.items():\n",
    "    print(\"{} : {}\".format(key,value))"
   ]
  },
  {
   "cell_type": "code",
   "execution_count": 46,
   "id": "fd51eadf",
   "metadata": {
    "ExecuteTime": {
     "end_time": "2021-07-21T01:46:43.372035Z",
     "start_time": "2021-07-21T01:46:43.365053Z"
    }
   },
   "outputs": [
    {
     "data": {
      "text/plain": [
       "dict_items([('name', '홍길동'), ('age', 35), ('address', '서울시 마포구')])"
      ]
     },
     "execution_count": 46,
     "metadata": {},
     "output_type": "execute_result"
    }
   ],
   "source": [
    "dic.items()"
   ]
  },
  {
   "cell_type": "code",
   "execution_count": 47,
   "id": "145000f1",
   "metadata": {
    "ExecuteTime": {
     "end_time": "2021-07-21T01:47:04.999163Z",
     "start_time": "2021-07-21T01:47:04.982186Z"
    }
   },
   "outputs": [
    {
     "data": {
      "text/plain": [
       "[(0, ('name', '홍길동')), (1, ('age', 35)), (2, ('address', '서울시 마포구'))]"
      ]
     },
     "execution_count": 47,
     "metadata": {},
     "output_type": "execute_result"
    }
   ],
   "source": [
    "list(enumerate(dic.items()))"
   ]
  },
  {
   "cell_type": "code",
   "execution_count": 48,
   "id": "32c80a22",
   "metadata": {
    "ExecuteTime": {
     "end_time": "2021-07-21T01:48:46.012807Z",
     "start_time": "2021-07-21T01:48:46.005823Z"
    }
   },
   "outputs": [
    {
     "name": "stdout",
     "output_type": "stream",
     "text": [
      "0번째 name키 값은 홍길동\n",
      "1번째 age키 값은 35\n",
      "2번째 address키 값은 서울시 마포구\n"
     ]
    }
   ],
   "source": [
    "for idx, (key, value) in enumerate(dic.items()):\n",
    "    print(\"{}번째 {}키 값은 {}\".format(idx, key, value))"
   ]
  },
  {
   "cell_type": "markdown",
   "id": "5daae775",
   "metadata": {},
   "source": [
    "# 6절. 연습문제(실습형 1-10, 서술형 1-10)"
   ]
  },
  {
   "cell_type": "code",
   "execution_count": null,
   "id": "531b7f53",
   "metadata": {},
   "outputs": [],
   "source": [
    "# 다음 리스트가 주어졌을 경우 요구사항대로 코드를 작성하시오\n",
    "# numbers = [1,2,,4,5,6,7,8,9,10]"
   ]
  },
  {
   "cell_type": "code",
   "execution_count": 50,
   "id": "302481c6",
   "metadata": {
    "ExecuteTime": {
     "end_time": "2021-07-21T02:02:31.263858Z",
     "start_time": "2021-07-21T02:02:31.255913Z"
    }
   },
   "outputs": [],
   "source": [
    "numbers = [1,2,3,4,5,6,7,8,9,10]"
   ]
  },
  {
   "cell_type": "code",
   "execution_count": 51,
   "id": "d7aa090c",
   "metadata": {
    "ExecuteTime": {
     "end_time": "2021-07-21T02:02:59.678745Z",
     "start_time": "2021-07-21T02:02:59.664782Z"
    }
   },
   "outputs": [
    {
     "data": {
      "text/plain": [
       "[1, 2, 3, 4, 5, 6, 7, 8, 9, 10, 100]"
      ]
     },
     "execution_count": 51,
     "metadata": {},
     "output_type": "execute_result"
    }
   ],
   "source": [
    "#1. 숫자 100을 맨 뒤에 추가하세요\n",
    "numbers.append(100)\n",
    "numbers"
   ]
  },
  {
   "cell_type": "code",
   "execution_count": 52,
   "id": "26e25302",
   "metadata": {
    "ExecuteTime": {
     "end_time": "2021-07-21T02:04:20.062297Z",
     "start_time": "2021-07-21T02:04:20.044833Z"
    }
   },
   "outputs": [
    {
     "data": {
      "text/plain": [
       "[1, 2, 3, 4, 5, 6, 7, 8, 9, 10, 100, 200, 300, 400, 500]"
      ]
     },
     "execution_count": 52,
     "metadata": {},
     "output_type": "execute_result"
    }
   ],
   "source": [
    "# 2. 다음 리스트를 numbers리스트 맨 뒤에 추가하세요\n",
    "# data = [200, 300, 400, 500]\n",
    "data = [200, 300, 400, 500]\n",
    "numbers.extend(data)\n",
    "numbers"
   ]
  },
  {
   "cell_type": "code",
   "execution_count": 53,
   "id": "b61b6993",
   "metadata": {
    "ExecuteTime": {
     "end_time": "2021-07-21T02:04:48.627976Z",
     "start_time": "2021-07-21T02:04:48.619998Z"
    }
   },
   "outputs": [
    {
     "data": {
      "text/plain": [
       "[1, 2, 3, 4, 5]"
      ]
     },
     "execution_count": 53,
     "metadata": {},
     "output_type": "execute_result"
    }
   ],
   "source": [
    "#3. 처음 다섯 개 숫자만 출력하세요\n",
    "numbers[0:5]"
   ]
  },
  {
   "cell_type": "code",
   "execution_count": 59,
   "id": "1197890b",
   "metadata": {
    "ExecuteTime": {
     "end_time": "2021-07-21T02:08:54.956265Z",
     "start_time": "2021-07-21T02:08:54.946258Z"
    }
   },
   "outputs": [
    {
     "data": {
      "text/plain": [
       "[2, 4, 6, 8, 10, 200, 400]"
      ]
     },
     "execution_count": 59,
     "metadata": {},
     "output_type": "execute_result"
    }
   ],
   "source": [
    "#4. 리스트에서 짝수 번째 데이터만 출력하세요\n",
    "numbers[1::2]"
   ]
  },
  {
   "cell_type": "code",
   "execution_count": 61,
   "id": "3f1feeac",
   "metadata": {
    "ExecuteTime": {
     "end_time": "2021-07-21T02:10:07.367923Z",
     "start_time": "2021-07-21T02:10:07.360977Z"
    }
   },
   "outputs": [
    {
     "data": {
      "text/plain": [
       "[1, 0, 3, 0, 5, 0, 7, 0, 9, 0, 100, 0, 300, 0, 500]"
      ]
     },
     "execution_count": 61,
     "metadata": {},
     "output_type": "execute_result"
    }
   ],
   "source": [
    "#5. 짝수번째 데이터를 모두 0으로 바꾸세요\n",
    "numbers[1::2]=[0,0,0,0,0,0,0]\n",
    "numbers"
   ]
  },
  {
   "cell_type": "code",
   "execution_count": 62,
   "id": "ee21b970",
   "metadata": {
    "ExecuteTime": {
     "end_time": "2021-07-21T02:10:53.409179Z",
     "start_time": "2021-07-21T02:10:53.401483Z"
    }
   },
   "outputs": [
    {
     "data": {
      "text/plain": [
       "[500, 0, 300, 0, 100, 0, 9, 0, 7, 0, 5, 0, 3, 0, 1]"
      ]
     },
     "execution_count": 62,
     "metadata": {},
     "output_type": "execute_result"
    }
   ],
   "source": [
    "#6. 데이터를 역순으로 나열하세요(내림차순 정렬이 아닙니다)\n",
    "numbers[::-1]"
   ]
  },
  {
   "cell_type": "code",
   "execution_count": 86,
   "id": "9d694426",
   "metadata": {
    "ExecuteTime": {
     "end_time": "2021-07-21T02:18:35.770573Z",
     "start_time": "2021-07-21T02:18:35.753876Z"
    }
   },
   "outputs": [],
   "source": [
    "#  다음 딕셔너리 데이터가 주어졌을 경우 요구사항대로 코드를 작성하세요.\n",
    "# member_info = {“name”:”홍길동”, “age”:20”, address”:”서울시 마포구“,“score”:90}\n",
    "member_info = {\"name\":\"홍길동\", \"age\":20, \"address\":\"서울시 마포구\",\"score\":90}"
   ]
  },
  {
   "cell_type": "code",
   "execution_count": null,
   "id": "6a982015",
   "metadata": {},
   "outputs": [],
   "source": []
  },
  {
   "cell_type": "code",
   "execution_count": 84,
   "id": "49a2b882",
   "metadata": {
    "ExecuteTime": {
     "end_time": "2021-07-21T02:17:57.700420Z",
     "start_time": "2021-07-21T02:17:57.681437Z"
    }
   },
   "outputs": [
    {
     "data": {
      "text/plain": [
       "'서울시 마포구'"
      ]
     },
     "execution_count": 84,
     "metadata": {},
     "output_type": "execute_result"
    }
   ],
   "source": [
    "#7. address값을 출력하세요\n",
    "member_info['address']"
   ]
  },
  {
   "cell_type": "code",
   "execution_count": 87,
   "id": "6d1931af",
   "metadata": {
    "ExecuteTime": {
     "end_time": "2021-07-21T02:18:37.867428Z",
     "start_time": "2021-07-21T02:18:37.862473Z"
    }
   },
   "outputs": [
    {
     "name": "stdout",
     "output_type": "stream",
     "text": [
      "90\n"
     ]
    },
    {
     "data": {
      "text/plain": [
       "{'name': '홍길동', 'age': 20, 'address': '서울시 마포구'}"
      ]
     },
     "execution_count": 87,
     "metadata": {},
     "output_type": "execute_result"
    }
   ],
   "source": [
    "#8. score 를 출력하고 member_info 딕셔너리에서 삭제하세요.\n",
    "print(member_info['score'])\n",
    "del(member_info['score'])\n",
    "member_info"
   ]
  },
  {
   "cell_type": "code",
   "execution_count": 88,
   "id": "1ae62733",
   "metadata": {
    "ExecuteTime": {
     "end_time": "2021-07-21T02:19:15.659105Z",
     "start_time": "2021-07-21T02:19:15.654120Z"
    }
   },
   "outputs": [
    {
     "data": {
      "text/plain": [
       "{'name': '홍길동', 'age': 20, 'address': '서울시 서대문구'}"
      ]
     },
     "execution_count": 88,
     "metadata": {},
     "output_type": "execute_result"
    }
   ],
   "source": [
    "#9. Address를 “서울시 서대문구”로 변경하세요.\n",
    "member_info['address']=\"서울시 서대문구\"\n",
    "member_info"
   ]
  },
  {
   "cell_type": "code",
   "execution_count": 101,
   "id": "9e4a5079",
   "metadata": {
    "ExecuteTime": {
     "end_time": "2021-07-21T02:25:12.904131Z",
     "start_time": "2021-07-21T02:25:12.887924Z"
    }
   },
   "outputs": [
    {
     "data": {
      "text/plain": [
       "[('name', '홍길동'), ('age', 20), ('address', '서울시 서대문구')]"
      ]
     },
     "execution_count": 101,
     "metadata": {},
     "output_type": "execute_result"
    }
   ],
   "source": [
    "#10. member_info 딕셔너리 데이터의 값을 리스트로 출력하세요\n",
    "[data for data in member_info.values()]\n",
    "[data for data in member_info.items()]"
   ]
  },
  {
   "cell_type": "code",
   "execution_count": 112,
   "id": "d9789016",
   "metadata": {
    "ExecuteTime": {
     "end_time": "2021-07-21T02:41:04.129952Z",
     "start_time": "2021-07-21T02:41:04.122945Z"
    }
   },
   "outputs": [],
   "source": [
    "# 1. 다음 코드를 실행했을 때 출력되는 것은?\n",
    "# L1 = (“orange”,”apple”,”banana”,”kiwi”)\n",
    "# new_list = [i for i in L1 if len(i)>5]\n",
    "# print(new_list)\n",
    "\n",
    "# 답: [“orange”,”apple”,”banana”]\n",
    "\n",
    "# 2. 다음 코드와 실행결과가 잘못 짝지어진 것은?\n",
    "# ① print(list(range(10))) - [0,1,2,3,4,5,6,7,8,9]\n",
    "# ② print(list(range(5,10))) - [5,6,7,8,9]\n",
    "# ③ print(list(range(10,0,-1))) - [9,8,7,6,5,4,3,2,1,0]\n",
    "# ④ print(list(range(10,20,2))) – [10,12,14,16,18]\n",
    "\n",
    "# 답: 3번\n",
    "\n",
    "# 3. 다음 구문에 의해 출력되는 것은?\n",
    "# numbers_2d = [ [1,2,3,4,5], [10,20,30,40],[1,3,5],[2,] ]\n",
    "# len(numbers_2d[3])\n",
    "\n",
    "# 답: 1\n",
    "\n",
    "# 4. 다음 코드의 실행결과가 나올 수 있는 빈칸에 들어갈 함수 이름은?\n",
    "# numbers = [1,2,3,4,5]\n",
    "# numbers.__________([10,20,30,40,50])\n",
    "# numbers\n",
    "# 결과 : [1,2,3,4,510,20,30,40,50]\n",
    "\n",
    "# 답: extend    \n",
    "\n",
    "# 5. 다음 구문을 실행할 때 결과는 ?\n",
    "# numbers = list(range(10))\n",
    "# numbers[ : : 2]= [0] * len(numbers[ : : 2])\n",
    "# print(numbers)\n",
    "\n",
    "# 답: [0, 1, 0, 3, 0, 5, 0, 7, 0, 9]\n",
    "\n",
    "# 6. 다음 구문을 실행할 때 결과는 ?\n",
    "# numbers = [0,1,2,3,4,5,6,7,8,9]\n",
    "# numbers[ : : 2]= numbers[5:]\n",
    "\n",
    "# 답: [5, 1, 6, 3, 7, 5, 8, 7, 9, 9]\n",
    "\n",
    "# 7. 다음 구문을 실행할 때 결과는 ?\n",
    "# numbers = [0, 1, 2, 3, 4, 5, 6, 7, 8, 9]\n",
    "# numbers[ : : 2]= numbers[:5]\n",
    "# print(numbers)\n",
    "\n",
    "# 답: [0, 1, 1, 3, 2, 5, 3, 7, 4, 9]\n",
    "\n",
    "# 8. 다음 데이터에서 10을 출력할 수 없는 구문은?\n",
    "# my_dic = {“a”:10, “b”:20, “c”:30}\n",
    "# ① my_dic[0]\n",
    "# ② my_dic[‘a’]\n",
    "# ③ list(my_dic.items())[0][1]\n",
    "# ④ list(my_dic.values())[0]\n",
    "# ⑤ my_dic.get(‘a’)\n",
    "\n",
    "# 답: 2번"
   ]
  },
  {
   "cell_type": "code",
   "execution_count": null,
   "id": "443710cf",
   "metadata": {},
   "outputs": [],
   "source": []
  },
  {
   "cell_type": "code",
   "execution_count": null,
   "id": "dfef509d",
   "metadata": {},
   "outputs": [],
   "source": []
  },
  {
   "cell_type": "code",
   "execution_count": null,
   "id": "3caa165d",
   "metadata": {},
   "outputs": [],
   "source": []
  },
  {
   "cell_type": "code",
   "execution_count": null,
   "id": "437d81e9",
   "metadata": {},
   "outputs": [],
   "source": []
  },
  {
   "cell_type": "code",
   "execution_count": null,
   "id": "213dbec9",
   "metadata": {},
   "outputs": [],
   "source": []
  }
 ],
 "metadata": {
  "kernelspec": {
   "display_name": "Python 3",
   "language": "python",
   "name": "python3"
  },
  "language_info": {
   "codemirror_mode": {
    "name": "ipython",
    "version": 3
   },
   "file_extension": ".py",
   "mimetype": "text/x-python",
   "name": "python",
   "nbconvert_exporter": "python",
   "pygments_lexer": "ipython3",
   "version": "3.8.8"
  },
  "toc": {
   "base_numbering": 1,
   "nav_menu": {},
   "number_sections": false,
   "sideBar": true,
   "skip_h1_title": false,
   "title_cell": "Table of Contents",
   "title_sidebar": "Contents",
   "toc_cell": false,
   "toc_position": {},
   "toc_section_display": true,
   "toc_window_display": true
  },
  "varInspector": {
   "cols": {
    "lenName": 16,
    "lenType": 16,
    "lenVar": 40
   },
   "kernels_config": {
    "python": {
     "delete_cmd_postfix": "",
     "delete_cmd_prefix": "del ",
     "library": "var_list.py",
     "varRefreshCmd": "print(var_dic_list())"
    },
    "r": {
     "delete_cmd_postfix": ") ",
     "delete_cmd_prefix": "rm(",
     "library": "var_list.r",
     "varRefreshCmd": "cat(var_dic_list()) "
    }
   },
   "position": {
    "height": "559px",
    "left": "1550px",
    "right": "20px",
    "top": "120px",
    "width": "350px"
   },
   "types_to_exclude": [
    "module",
    "function",
    "builtin_function_or_method",
    "instance",
    "_Feature"
   ],
   "window_display": true
  }
 },
 "nbformat": 4,
 "nbformat_minor": 5
}
