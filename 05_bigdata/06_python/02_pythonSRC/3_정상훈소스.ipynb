{
 "cells": [
  {
   "cell_type": "code",
   "execution_count": 6,
   "id": "f7697eb7",
   "metadata": {
    "ExecuteTime": {
     "end_time": "2021-08-11T08:07:29.585379Z",
     "start_time": "2021-08-11T08:07:29.351300Z"
    }
   },
   "outputs": [],
   "source": [
    "from selenium import webdriver\n",
    "from selenium.webdriver.common.keys import Keys\n",
    "from bs4 import BeautifulSoup\n",
    "import time"
   ]
  },
  {
   "cell_type": "code",
   "execution_count": 11,
   "id": "dbfa4f7c",
   "metadata": {
    "ExecuteTime": {
     "end_time": "2021-08-11T08:13:03.644922Z",
     "start_time": "2021-08-11T08:12:48.969411Z"
    }
   },
   "outputs": [],
   "source": [
    "# 데이터 틀고 오기\n",
    "with open('data/2_한글원본_맞춤법 검사.txt','r',encoding='utf-8') as f:\n",
    "    text = f.read()\n",
    "ready_list = []\n",
    "\n",
    "while len(text)> 500:\n",
    "    temp_str = text[:500]\n",
    "    last_space_idx = temp_str.rfind('.')\n",
    "    ready_list.append(text[:last_space_idx])\n",
    "    text = text[last_space_idx:]\n",
    "ready_list.append(text)\n",
    "\n",
    "driver = webdriver.Chrome()\n",
    "driver.get('http://www.naver.com')\n",
    "elem = driver.find_element_by_name('query')\n",
    "elem.send_keys('맞춤법 검사기')\n",
    "elem.send_keys(Keys.RETURN)\n",
    "\n",
    "time.sleep(2)\n",
    "\n",
    "textarea = driver.find_element_by_class_name('txt_gray')\n",
    "results = \"\"\n",
    "\n",
    "for ready in ready_list:\n",
    "    textarea.send_keys(Keys.CONTROL, \"a\")\n",
    "    textarea.send_keys(ready)\n",
    "    button = driver.find_element_by_class_name('btn_check')\n",
    "    button.click()\n",
    "\n",
    "    time.sleep(1)\n",
    "\n",
    "    soup = BeautifulSoup(driver.page_source,\"html.parser\")\n",
    "    result = soup.select_one('p._result_text.stand_txt').text\n",
    "    results +=result.replace('.','.\\n')\n",
    "    #results +=result\n",
    "    \n",
    "#print(results)\n",
    "with open('data/2_한글원본.txt','w',encoding='utf-8') as f:\n",
    "    f.write(results)\n",
    "driver.close()"
   ]
  },
  {
   "cell_type": "code",
   "execution_count": 21,
   "id": "80a11cdd",
   "metadata": {
    "ExecuteTime": {
     "end_time": "2021-08-11T08:53:43.545910Z",
     "start_time": "2021-08-11T08:53:38.145504Z"
    }
   },
   "outputs": [],
   "source": [
    "with open('data/2_한글원본.txt','r',encoding='utf-8') as f:\n",
    "    text = f.read()\n",
    "ready_list_2 = []\n",
    "\n",
    "while len(text)> 5000:\n",
    "    temp_str = text[:5000]\n",
    "    last_space_idx = temp_str.rfind('.')\n",
    "    ready_list_2.append(text[:last_space_idx])\n",
    "    text = text[last_space_idx:]\n",
    "ready_list_2.append(text)\n",
    "\n",
    "driver = webdriver.Chrome()\n",
    "driver.get('https://translate.kakao.com/')\n",
    "\n",
    "button = driver.find_element_by_css_selector('a.btn_close')\n",
    "button.click()\n",
    "\n",
    "textarea = driver.find_element_by_id('query')\n",
    "results = \"\"\n",
    "\n",
    "for ready in ready_list_2:\n",
    "    textarea.send_keys(Keys.CONTROL, \"a\")\n",
    "    textarea.send_keys(ready)\n",
    "    button = driver.find_element_by_class_name('btn_translation')\n",
    "    button.click()\n",
    "\n",
    "    time.sleep(1)\n",
    "\n",
    "    soup = BeautifulSoup(driver.page_source,\"html.parser\")\n",
    "    result = soup.select_one('p.desc_translation').text\n",
    "    results +=result.replace('.','.\\n')\n",
    "    #results +=result\n",
    "    \n",
    "#print(results)\n",
    "with open('data/2_자동화영어번역본.txt','w',encoding='utf-8') as f:\n",
    "    f.write(results)\n",
    "driver.close()"
   ]
  },
  {
   "cell_type": "code",
   "execution_count": null,
   "id": "7f0dee41",
   "metadata": {},
   "outputs": [],
   "source": []
  }
 ],
 "metadata": {
  "kernelspec": {
   "display_name": "Python 3",
   "language": "python",
   "name": "python3"
  },
  "language_info": {
   "codemirror_mode": {
    "name": "ipython",
    "version": 3
   },
   "file_extension": ".py",
   "mimetype": "text/x-python",
   "name": "python",
   "nbconvert_exporter": "python",
   "pygments_lexer": "ipython3",
   "version": "3.8.8"
  },
  "toc": {
   "base_numbering": 1,
   "nav_menu": {},
   "number_sections": true,
   "sideBar": true,
   "skip_h1_title": false,
   "title_cell": "Table of Contents",
   "title_sidebar": "Contents",
   "toc_cell": false,
   "toc_position": {},
   "toc_section_display": true,
   "toc_window_display": false
  },
  "varInspector": {
   "cols": {
    "lenName": 16,
    "lenType": 16,
    "lenVar": 40
   },
   "kernels_config": {
    "python": {
     "delete_cmd_postfix": "",
     "delete_cmd_prefix": "del ",
     "library": "var_list.py",
     "varRefreshCmd": "print(var_dic_list())"
    },
    "r": {
     "delete_cmd_postfix": ") ",
     "delete_cmd_prefix": "rm(",
     "library": "var_list.r",
     "varRefreshCmd": "cat(var_dic_list()) "
    }
   },
   "types_to_exclude": [
    "module",
    "function",
    "builtin_function_or_method",
    "instance",
    "_Feature"
   ],
   "window_display": false
  }
 },
 "nbformat": 4,
 "nbformat_minor": 5
}
