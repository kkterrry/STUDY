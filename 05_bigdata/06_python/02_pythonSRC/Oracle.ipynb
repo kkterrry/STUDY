{
 "cells": [
  {
   "cell_type": "code",
   "execution_count": 1,
   "id": "c2a62214",
   "metadata": {
    "ExecuteTime": {
     "end_time": "2021-07-28T11:59:56.367568Z",
     "start_time": "2021-07-28T11:59:56.056013Z"
    }
   },
   "outputs": [],
   "source": [
    "import pandas as pd\n",
    "import cx_Oracle\n",
    "oracle_dsn = cx_Oracle.makedsn(host=\"localhost\",port=1521,sid='xe')\n",
    "global conn\n",
    "conn = cx_Oracle.connect(\"scott\", \"tiger\", dsn=oracle_dsn)\n",
    "cursor = conn.cursor()                 #이게 없으면 오류가 나는데 이유가 뭔가요???"
   ]
  },
  {
   "cell_type": "code",
   "execution_count": 5,
   "id": "e55d4621",
   "metadata": {
    "ExecuteTime": {
     "end_time": "2021-07-29T00:43:43.016914Z",
     "start_time": "2021-07-29T00:43:43.005908Z"
    }
   },
   "outputs": [],
   "source": [
    "# 클래스 생성은 선택사항\n",
    "class Member:\n",
    "    '맴버 테이터 저장'\n",
    "    def __init__(self, name, phone, email, age, grade, etc):\n",
    "        self.name = name\n",
    "        self.phone = phone\n",
    "        self.email = email\n",
    "        self.age = age\n",
    "        self.grade = grade\n",
    "        self.etc = etc\n",
    "        \n",
    "    def as_dict(self):  #객체를 딕셔너리 테이터로 반환(csv파일 저장시)\n",
    "        return {\"name\":self.name, \"phone\":self.phone, \"email\":self.email, \"age\":self.age, \"grade\":self.grade, \"etc\":self.etc}\n",
    "    \n",
    "    def to_list_style(self):  #객체를 \"홍길동 010-8999-9999 e@e.com 20 3 까칠해\" \n",
    "        temp = [self.name, self.phone, self.email, str(self.age), str(self.grade), self.etc]\n",
    "        return ' '.join(temp)\n",
    "    \n",
    "    def __str__(self): #   *** 홍길동 010-8999-9999 e@e.com 20 3 까칠해\n",
    "        return \"{:3}\\t{:15}\\t{:15}\\t{:3}\\t{:}\\t{}\".format( self.name, self.phone,\n",
    "                                                            self.email, self.age, self.grade, self.etc)"
   ]
  },
  {
   "cell_type": "code",
   "execution_count": 2,
   "id": "c5c22053",
   "metadata": {
    "ExecuteTime": {
     "end_time": "2021-07-29T00:42:39.439401Z",
     "start_time": "2021-07-29T00:42:39.425446Z"
    }
   },
   "outputs": [],
   "source": [
    "# 1. 입력\n",
    "def insert_member():\n",
    "    # 사용자로 부터 이름, 전화번호, 이메일, 나이, 등급(1-5), 기타특징 입력받아 DB에 추가한다.\n",
    "    member_list=[]\n",
    "    global conn\n",
    "    curosr =conn.cursor()\n",
    "    while True:\n",
    "        try:\n",
    "            name = input(\"이름 : (종료를 원하면 0)\")\n",
    "            if name == '0':\n",
    "                break;\n",
    "            phone = input(\"전화번호 :\")\n",
    "            email = input(\"이메일 :\")\n",
    "            age = int(input(\"나이 :\"))\n",
    "            if age<0:\n",
    "                age=0\n",
    "        except ValueError as e:\n",
    "            print(\"유효하지 않는 나이는 입력시 0으로 초기화\")\n",
    "            age=0\n",
    "        try:\n",
    "            grade = int(input(\"등급(1-5) :\"))\n",
    "            if grade < 1:\n",
    "                grade = 1\n",
    "            if grade >5:\n",
    "                grade =5\n",
    "        except ValueError as e:\n",
    "            print('유효하지 않은 등급을 입력시 등급은 1로 초기화')\n",
    "            grade = 1\n",
    "        etc = input(\"기타정보 :\")\n",
    "        member = Member(name, phone, email, age, grade, etc)\n",
    "        member_list.append(member)\n",
    "    for member in member_list:    \n",
    "        cursor.execute(\"INSERT INTO MEMBER VALUES (:name, :phone, :email, :age, :grade, :etc)\", member.as_dict())\n",
    "    conn.commit()"
   ]
  },
  {
   "cell_type": "code",
   "execution_count": 3,
   "id": "5195cc24",
   "metadata": {
    "ExecuteTime": {
     "end_time": "2021-07-29T00:42:40.920831Z",
     "start_time": "2021-07-29T00:42:40.725961Z"
    }
   },
   "outputs": [
    {
     "ename": "NameError",
     "evalue": "name 'conn' is not defined",
     "output_type": "error",
     "traceback": [
      "\u001b[1;31m---------------------------------------------------------------------------\u001b[0m",
      "\u001b[1;31mNameError\u001b[0m                                 Traceback (most recent call last)",
      "\u001b[1;32m<ipython-input-3-6c4b07af3987>\u001b[0m in \u001b[0;36m<module>\u001b[1;34m\u001b[0m\n\u001b[0;32m      1\u001b[0m \u001b[1;31m#위의 메소드 test\u001b[0m\u001b[1;33m\u001b[0m\u001b[1;33m\u001b[0m\u001b[1;33m\u001b[0m\u001b[0m\n\u001b[1;32m----> 2\u001b[1;33m \u001b[0minsert_member\u001b[0m\u001b[1;33m(\u001b[0m\u001b[1;33m)\u001b[0m\u001b[1;33m\u001b[0m\u001b[1;33m\u001b[0m\u001b[0m\n\u001b[0m",
      "\u001b[1;32m<ipython-input-2-9ecf81919206>\u001b[0m in \u001b[0;36minsert_member\u001b[1;34m()\u001b[0m\n\u001b[0;32m      4\u001b[0m     \u001b[0mmember_list\u001b[0m\u001b[1;33m=\u001b[0m\u001b[1;33m[\u001b[0m\u001b[1;33m]\u001b[0m\u001b[1;33m\u001b[0m\u001b[1;33m\u001b[0m\u001b[0m\n\u001b[0;32m      5\u001b[0m     \u001b[1;32mglobal\u001b[0m \u001b[0mconn\u001b[0m\u001b[1;33m\u001b[0m\u001b[1;33m\u001b[0m\u001b[0m\n\u001b[1;32m----> 6\u001b[1;33m     \u001b[0mcurosr\u001b[0m \u001b[1;33m=\u001b[0m\u001b[0mconn\u001b[0m\u001b[1;33m.\u001b[0m\u001b[0mcursor\u001b[0m\u001b[1;33m(\u001b[0m\u001b[1;33m)\u001b[0m\u001b[1;33m\u001b[0m\u001b[1;33m\u001b[0m\u001b[0m\n\u001b[0m\u001b[0;32m      7\u001b[0m     \u001b[1;32mwhile\u001b[0m \u001b[1;32mTrue\u001b[0m\u001b[1;33m:\u001b[0m\u001b[1;33m\u001b[0m\u001b[1;33m\u001b[0m\u001b[0m\n\u001b[0;32m      8\u001b[0m         \u001b[1;32mtry\u001b[0m\u001b[1;33m:\u001b[0m\u001b[1;33m\u001b[0m\u001b[1;33m\u001b[0m\u001b[0m\n",
      "\u001b[1;31mNameError\u001b[0m: name 'conn' is not defined"
     ]
    }
   ],
   "source": [
    "#위의 메소드 test\n",
    "insert_member()"
   ]
  },
  {
   "cell_type": "code",
   "execution_count": 6,
   "id": "32b169e8",
   "metadata": {
    "ExecuteTime": {
     "end_time": "2021-07-29T00:43:47.438186Z",
     "start_time": "2021-07-29T00:43:47.432203Z"
    }
   },
   "outputs": [],
   "source": [
    "# 2. 전체 출력 pandas는 위에서 임포트 함\n",
    "def select_all():\n",
    "    global conn\n",
    "    curosr =conn.cursor()\n",
    "    #\"SELECT * FROM MEMBER\"의 결과를 출력(DataFrame형태 / 리스트형태)\n",
    "    cursor.execute('SELECT * FROM MEMBER')\n",
    "    data = cursor.fetchall()\n",
    "    data_df = pd.DataFrame(data)\n",
    "    data_df.columns =  [ row[0] for row in cursor.description]\n",
    "    print(data_df)\n",
    "    return data_df"
   ]
  },
  {
   "cell_type": "code",
   "execution_count": 42,
   "id": "22457983",
   "metadata": {
    "ExecuteTime": {
     "end_time": "2021-07-28T11:50:09.228144Z",
     "start_time": "2021-07-28T11:50:09.204208Z"
    },
    "scrolled": true
   },
   "outputs": [
    {
     "data": {
      "text/html": [
       "<div>\n",
       "<style scoped>\n",
       "    .dataframe tbody tr th:only-of-type {\n",
       "        vertical-align: middle;\n",
       "    }\n",
       "\n",
       "    .dataframe tbody tr th {\n",
       "        vertical-align: top;\n",
       "    }\n",
       "\n",
       "    .dataframe thead th {\n",
       "        text-align: right;\n",
       "    }\n",
       "</style>\n",
       "<table border=\"1\" class=\"dataframe\">\n",
       "  <thead>\n",
       "    <tr style=\"text-align: right;\">\n",
       "      <th></th>\n",
       "      <th>NAME</th>\n",
       "      <th>PHONE</th>\n",
       "      <th>EMAIL</th>\n",
       "      <th>AGE</th>\n",
       "      <th>GRADE</th>\n",
       "      <th>ETC</th>\n",
       "    </tr>\n",
       "  </thead>\n",
       "  <tbody>\n",
       "    <tr>\n",
       "      <th>0</th>\n",
       "      <td>홍</td>\n",
       "      <td>1</td>\n",
       "      <td>2</td>\n",
       "      <td>3</td>\n",
       "      <td>4</td>\n",
       "      <td>5</td>\n",
       "    </tr>\n",
       "    <tr>\n",
       "      <th>1</th>\n",
       "      <td>길</td>\n",
       "      <td>1</td>\n",
       "      <td>2</td>\n",
       "      <td>3</td>\n",
       "      <td>4</td>\n",
       "      <td>5</td>\n",
       "    </tr>\n",
       "    <tr>\n",
       "      <th>2</th>\n",
       "      <td>동</td>\n",
       "      <td>1</td>\n",
       "      <td>2</td>\n",
       "      <td>3</td>\n",
       "      <td>4</td>\n",
       "      <td>5</td>\n",
       "    </tr>\n",
       "    <tr>\n",
       "      <th>3</th>\n",
       "      <td>이</td>\n",
       "      <td>1</td>\n",
       "      <td>6</td>\n",
       "      <td>3</td>\n",
       "      <td>4</td>\n",
       "      <td></td>\n",
       "    </tr>\n",
       "    <tr>\n",
       "      <th>4</th>\n",
       "      <td>홍</td>\n",
       "      <td>길</td>\n",
       "      <td>동</td>\n",
       "      <td>1</td>\n",
       "      <td>2</td>\n",
       "      <td>3</td>\n",
       "    </tr>\n",
       "  </tbody>\n",
       "</table>\n",
       "</div>"
      ],
      "text/plain": [
       "  NAME PHONE EMAIL  AGE  GRADE ETC\n",
       "0    홍     1     2    3      4   5\n",
       "1    길     1     2    3      4   5\n",
       "2    동     1     2    3      4   5\n",
       "3    이     1     6    3      4    \n",
       "4    홍     길     동    1      2   3"
      ]
     },
     "execution_count": 42,
     "metadata": {},
     "output_type": "execute_result"
    }
   ],
   "source": [
    "# 위의 메소드 test\n",
    "select_all()"
   ]
  },
  {
   "cell_type": "code",
   "execution_count": 7,
   "id": "10537391",
   "metadata": {
    "ExecuteTime": {
     "end_time": "2021-07-29T00:43:49.554289Z",
     "start_time": "2021-07-29T00:43:49.543275Z"
    }
   },
   "outputs": [],
   "source": [
    "# 3. 이름 검색\n",
    "def select_name():\n",
    "    #사용자로부터 검색하고자 하는 이름을 받아 결과 출력(DataFrame형태 / 리스트형태)\n",
    "    global conn\n",
    "    curosr =conn.cursor()\n",
    "    name = input('검색할 이름은?')\n",
    "    search_result = []\n",
    "    cursor.execute('SELECT * FROM MEMBER')\n",
    "    member_list = cursor.fetchall()\n",
    "    for member in member_list:\n",
    "        if member[0] == name:\n",
    "            search_result.append(member)\n",
    "    if len(search_result)==0:\n",
    "        print('검색한 고객이 데이터에 존재하지 않습니다.')\n",
    "    else:\n",
    "        for member in search_result:\n",
    "            print(member)"
   ]
  },
  {
   "cell_type": "code",
   "execution_count": 37,
   "id": "8455efbb",
   "metadata": {
    "ExecuteTime": {
     "end_time": "2021-07-28T11:49:34.254916Z",
     "start_time": "2021-07-28T11:49:32.653225Z"
    }
   },
   "outputs": [
    {
     "name": "stdout",
     "output_type": "stream",
     "text": [
      "검색할 이름은?a\n",
      "('a', 'a', 'a', 0, 1, 'a')\n"
     ]
    }
   ],
   "source": [
    "# 위의 메소드 test\n",
    "select_name()"
   ]
  },
  {
   "cell_type": "code",
   "execution_count": 8,
   "id": "e496f822",
   "metadata": {
    "ExecuteTime": {
     "end_time": "2021-07-29T00:43:51.521109Z",
     "start_time": "2021-07-29T00:43:51.505575Z"
    }
   },
   "outputs": [],
   "source": [
    "#4. 메일 삭제\n",
    "def delete_email():\n",
    "    # 사용자로부터 삭제할 메일을 입력받아 해당 메일이 있는지 확인하고\n",
    "    # 해당 이메일이 없으면 없다 출력. 있으면 삭제하고 삭제했다 출력\n",
    "    global conn\n",
    "    curosr =conn.cursor()\n",
    "    email = input('삭제할 이메일')\n",
    "    cursor.execute('SELECT * FROM MEMBER where email = :email', {'email':email})\n",
    "    member_list = cursor.fetchall()\n",
    "    if(len(member_list))==0:\n",
    "        print('메일 데이터가 존재하지 않아요')\n",
    "    else:\n",
    "        cursor.execute(\"DELETE FROM MEMBER WHERE EMAIL = :email\", {'email':email})\n",
    "        print(email,'을 삭제하였습니다')"
   ]
  },
  {
   "cell_type": "code",
   "execution_count": 41,
   "id": "bfa8c3d2",
   "metadata": {
    "ExecuteTime": {
     "end_time": "2021-07-28T11:50:05.738511Z",
     "start_time": "2021-07-28T11:49:58.414657Z"
    },
    "scrolled": true
   },
   "outputs": [
    {
     "name": "stdout",
     "output_type": "stream",
     "text": [
      "삭제할 이메일hong@\n",
      "hong@ 을 삭제하였습니다\n"
     ]
    }
   ],
   "source": [
    "delete_email()"
   ]
  },
  {
   "cell_type": "code",
   "execution_count": 9,
   "id": "a1f39de1",
   "metadata": {
    "ExecuteTime": {
     "end_time": "2021-07-29T00:43:53.072757Z",
     "start_time": "2021-07-29T00:43:53.064788Z"
    }
   },
   "outputs": [],
   "source": [
    "# 5. CSV 내보내기\n",
    "def save_csv():\n",
    "    # 'SELECT * FROM MEMBER의 결과를 CSV로 내보내기(HEADER 포함)'\n",
    "    import csv\n",
    "    global conn\n",
    "    curosr = conn.cursor()\n",
    "    cursor.execute('SELECT * FROM MEMBER')\n",
    "    member_list = cursor.fetchall()\n",
    "    member_dict_list=[]\n",
    "    \n",
    "    for members in member_list:\n",
    "        M_csv =Member(members[0],members[1],members[2],members[3],members[4],members[5])\n",
    "        member_dict_list.append(M_csv.as_dict())\n",
    "    \n",
    "    fieldnames = [\"name\",\"phone\",\"email\",\"age\",\"grade\",\"etc\"]\n",
    "    filename = input('저장할 CSV 파일 이름은 ?')\n",
    "    \n",
    "    try :\n",
    "        with open('data/'+filename+'.csv', 'w', newline='', encoding='cp949') as f:\n",
    "            dict_writer = csv.DictWriter(f, fieldnames=fieldnames)\n",
    "            dict_writer.writeheader()\n",
    "            dict_writer.writerows(member_dict_list)\n",
    "    except Exception as e:\n",
    "        print('데이터 내보내기 예외 :', e)"
   ]
  },
  {
   "cell_type": "code",
   "execution_count": 52,
   "id": "0766ac7c",
   "metadata": {
    "ExecuteTime": {
     "end_time": "2021-07-28T11:57:31.136237Z",
     "start_time": "2021-07-28T11:57:29.653303Z"
    }
   },
   "outputs": [
    {
     "name": "stdout",
     "output_type": "stream",
     "text": [
      "저장할 CSV 파일 이름은 ?t\n"
     ]
    }
   ],
   "source": [
    "#위의 메소드 test\n",
    "save_csv()"
   ]
  },
  {
   "cell_type": "code",
   "execution_count": 10,
   "id": "7f7c7903",
   "metadata": {
    "ExecuteTime": {
     "end_time": "2021-07-29T00:43:55.331841Z",
     "start_time": "2021-07-29T00:43:55.319873Z"
    }
   },
   "outputs": [],
   "source": [
    "#0. 종료\n",
    "def close_sql():\n",
    "    global conn\n",
    "    conn.close()\n",
    "    print(\"종료합니다.\")"
   ]
  },
  {
   "cell_type": "code",
   "execution_count": 11,
   "id": "7c1dd94c",
   "metadata": {
    "ExecuteTime": {
     "end_time": "2021-07-29T00:43:56.276971Z",
     "start_time": "2021-07-29T00:43:56.261017Z"
    }
   },
   "outputs": [],
   "source": [
    "def main():\n",
    "    global conn\n",
    "    while True:\n",
    "        print(\"0:시작 | 1:입력 | 2:전체출력 | 3:이름찾기 | 4:삭제 | 5.내보내기(csv) | 9.종료\", end=' ')\n",
    "        fn = int(input(\"메뉴선택 : \"))\n",
    "        if fn == 1:\n",
    "            insert_member()\n",
    "        elif fn == 2:\n",
    "            select_all()\n",
    "        elif fn == 3:\n",
    "            select_name()\n",
    "        elif fn == 4:\n",
    "            delete_email()\n",
    "        elif fn == 5:\n",
    "            save_csv()\n",
    "        elif fn == 9:\n",
    "            close_sql()\n",
    "            break"
   ]
  },
  {
   "cell_type": "code",
   "execution_count": 15,
   "id": "8c73e25d",
   "metadata": {
    "ExecuteTime": {
     "end_time": "2021-07-29T00:55:04.167672Z",
     "start_time": "2021-07-29T00:53:24.831736Z"
    },
    "scrolled": true
   },
   "outputs": [
    {
     "name": "stdout",
     "output_type": "stream",
     "text": [
      "0:시작 | 1:입력 | 2:전체출력 | 3:이름찾기 | 4:삭제 | 5.내보내기(csv) | 9.종료 메뉴선택 : 1\n",
      "이름 : (종료를 원하면 0)홍길동\n",
      "전화번호 :010-9999-9999\n",
      "이메일 :HONG@HONG.com\n",
      "나이 :23\n",
      "등급(1-5) :3\n",
      "기타정보 :까칠\n",
      "이름 : (종료를 원하면 0)이순신\n",
      "전화번호 :010-8888-8888\n",
      "이메일 :yi@yi.com\n",
      "나이 :25\n",
      "등급(1-5) :4\n",
      "기타정보 :까칠\n",
      "이름 : (종료를 원하면 0)0\n",
      "0:시작 | 1:입력 | 2:전체출력 | 3:이름찾기 | 4:삭제 | 5.내보내기(csv) | 9.종료 메뉴선택 : 2\n",
      "  NAME          PHONE          EMAIL  AGE  GRADE ETC\n",
      "0  홍길동  010-9999-9999  HONG@HONG.com   23      3  까칠\n",
      "1  이순신  010-8888-8888      yi@yi.com   25      4  까칠\n",
      "0:시작 | 1:입력 | 2:전체출력 | 3:이름찾기 | 4:삭제 | 5.내보내기(csv) | 9.종료 메뉴선택 : 3\n",
      "검색할 이름은?홍길동\n",
      "('홍길동', '010-9999-9999', 'HONG@HONG.com', 23, 3, '까칠')\n",
      "0:시작 | 1:입력 | 2:전체출력 | 3:이름찾기 | 4:삭제 | 5.내보내기(csv) | 9.종료 메뉴선택 : 4\n",
      "삭제할 이메일HONG@HONG.com\n",
      "HONG@HONG.com 을 삭제하였습니다\n",
      "0:시작 | 1:입력 | 2:전체출력 | 3:이름찾기 | 4:삭제 | 5.내보내기(csv) | 9.종료 메뉴선택 : 2\n",
      "  NAME          PHONE      EMAIL  AGE  GRADE ETC\n",
      "0  이순신  010-8888-8888  yi@yi.com   25      4  까칠\n",
      "0:시작 | 1:입력 | 2:전체출력 | 3:이름찾기 | 4:삭제 | 5.내보내기(csv) | 9.종료 메뉴선택 : 5\n",
      "저장할 CSV 파일 이름은 ?test_f_o\n",
      "0:시작 | 1:입력 | 2:전체출력 | 3:이름찾기 | 4:삭제 | 5.내보내기(csv) | 9.종료 메뉴선택 : 9\n",
      "종료합니다.\n"
     ]
    }
   ],
   "source": [
    "if __name__=='__main__':\n",
    "    import cx_Oracle\n",
    "    import pandas as pd\n",
    "    oracle_dsn = cx_Oracle.makedsn(host=\"localhost\",port=1521,sid='xe')\n",
    "    global conn\n",
    "    conn = cx_Oracle.connect(\"scott\", \"tiger\", dsn=oracle_dsn)\n",
    "    cursor = conn.cursor()                 #이게 없으면 오류가 나는데 이유가 뭔가요???\n",
    "    main()"
   ]
  },
  {
   "cell_type": "code",
   "execution_count": null,
   "id": "3ca4f07f",
   "metadata": {},
   "outputs": [],
   "source": []
  },
  {
   "cell_type": "code",
   "execution_count": null,
   "id": "5d1b83ca",
   "metadata": {},
   "outputs": [],
   "source": []
  },
  {
   "cell_type": "code",
   "execution_count": null,
   "id": "f6d65c92",
   "metadata": {},
   "outputs": [],
   "source": []
  },
  {
   "cell_type": "code",
   "execution_count": null,
   "id": "57b990e3",
   "metadata": {},
   "outputs": [],
   "source": []
  },
  {
   "cell_type": "code",
   "execution_count": null,
   "id": "ea27b11d",
   "metadata": {},
   "outputs": [],
   "source": []
  },
  {
   "cell_type": "code",
   "execution_count": null,
   "id": "50fcd418",
   "metadata": {},
   "outputs": [],
   "source": []
  },
  {
   "cell_type": "code",
   "execution_count": null,
   "id": "af4947e1",
   "metadata": {},
   "outputs": [],
   "source": []
  },
  {
   "cell_type": "code",
   "execution_count": null,
   "id": "1e071034",
   "metadata": {},
   "outputs": [],
   "source": []
  },
  {
   "cell_type": "code",
   "execution_count": null,
   "id": "4e33b119",
   "metadata": {},
   "outputs": [],
   "source": []
  },
  {
   "cell_type": "code",
   "execution_count": null,
   "id": "9561cd81",
   "metadata": {},
   "outputs": [],
   "source": []
  },
  {
   "cell_type": "code",
   "execution_count": null,
   "id": "dc33c2af",
   "metadata": {},
   "outputs": [],
   "source": []
  },
  {
   "cell_type": "code",
   "execution_count": null,
   "id": "02da3f1b",
   "metadata": {},
   "outputs": [],
   "source": []
  },
  {
   "cell_type": "code",
   "execution_count": null,
   "id": "6b1ceb7c",
   "metadata": {},
   "outputs": [],
   "source": []
  },
  {
   "cell_type": "code",
   "execution_count": null,
   "id": "cd09ebbd",
   "metadata": {},
   "outputs": [],
   "source": []
  },
  {
   "cell_type": "code",
   "execution_count": null,
   "id": "5a65e69d",
   "metadata": {},
   "outputs": [],
   "source": []
  },
  {
   "cell_type": "code",
   "execution_count": null,
   "id": "19699864",
   "metadata": {},
   "outputs": [],
   "source": []
  },
  {
   "cell_type": "code",
   "execution_count": null,
   "id": "a85bd0bc",
   "metadata": {},
   "outputs": [],
   "source": []
  },
  {
   "cell_type": "code",
   "execution_count": null,
   "id": "817de4df",
   "metadata": {},
   "outputs": [],
   "source": []
  },
  {
   "cell_type": "code",
   "execution_count": null,
   "id": "d6863349",
   "metadata": {},
   "outputs": [],
   "source": []
  }
 ],
 "metadata": {
  "kernelspec": {
   "display_name": "Python 3",
   "language": "python",
   "name": "python3"
  },
  "language_info": {
   "codemirror_mode": {
    "name": "ipython",
    "version": 3
   },
   "file_extension": ".py",
   "mimetype": "text/x-python",
   "name": "python",
   "nbconvert_exporter": "python",
   "pygments_lexer": "ipython3",
   "version": "3.8.8"
  },
  "toc": {
   "base_numbering": 1,
   "nav_menu": {},
   "number_sections": true,
   "sideBar": true,
   "skip_h1_title": false,
   "title_cell": "Table of Contents",
   "title_sidebar": "Contents",
   "toc_cell": false,
   "toc_position": {},
   "toc_section_display": true,
   "toc_window_display": false
  },
  "varInspector": {
   "cols": {
    "lenName": 16,
    "lenType": 16,
    "lenVar": 40
   },
   "kernels_config": {
    "python": {
     "delete_cmd_postfix": "",
     "delete_cmd_prefix": "del ",
     "library": "var_list.py",
     "varRefreshCmd": "print(var_dic_list())"
    },
    "r": {
     "delete_cmd_postfix": ") ",
     "delete_cmd_prefix": "rm(",
     "library": "var_list.r",
     "varRefreshCmd": "cat(var_dic_list()) "
    }
   },
   "types_to_exclude": [
    "module",
    "function",
    "builtin_function_or_method",
    "instance",
    "_Feature"
   ],
   "window_display": false
  }
 },
 "nbformat": 4,
 "nbformat_minor": 5
}
