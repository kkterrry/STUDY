{
 "cells": [
  {
   "cell_type": "markdown",
   "id": "a7b9295d",
   "metadata": {
    "ExecuteTime": {
     "end_time": "2021-07-26T06:11:02.983433Z",
     "start_time": "2021-07-26T06:11:02.965481Z"
    }
   },
   "source": [
    "<b><font size=\"6\" color=\"red\">ch13_데이터 시각화 </font></b>\n",
    "- pip install matplotlib\n",
    "- pip install seaborn"
   ]
  },
  {
   "cell_type": "markdown",
   "id": "26a9e0f8",
   "metadata": {},
   "source": [
    "# 1절 시각화 개요\n",
    "- 시각화 라이브러리 : matplotlib, seaborn, folium(지도시각화)\n",
    "- matplotlib : 파이썬에서 가장 많이 사용하는 시각화 라이브러리. 판다스에도 내부적으로 matplotlib사용\n",
    "- seaborn : matplotlib을 기반으로 다양한 색, 태마, 차트 기능을 추가한 라이브러리."
   ]
  },
  {
   "cell_type": "markdown",
   "id": "ef77e978",
   "metadata": {},
   "source": [
    "# 2절 matplotlib\n",
    "- 함수 도움말 참고\n",
    "- https://matplotlib.org/stable/api/_as_gen/matplotlib.pyplot.html\n",
    "- https://matplotlib.org/stable/api/pyplot_summary.html"
   ]
  },
  {
   "cell_type": "markdown",
   "id": "14a72fe0",
   "metadata": {},
   "source": [
    "## 2.1 패키지 임포트 및 기본 설정"
   ]
  },
  {
   "cell_type": "code",
   "execution_count": 3,
   "id": "517ea9d4",
   "metadata": {
    "ExecuteTime": {
     "end_time": "2021-08-03T09:14:58.408120Z",
     "start_time": "2021-08-03T09:14:58.398147Z"
    }
   },
   "outputs": [
    {
     "data": {
      "text/plain": [
       "'3.3.4'"
      ]
     },
     "execution_count": 3,
     "metadata": {},
     "output_type": "execute_result"
    }
   ],
   "source": [
    "import matplotlib\n",
    "import matplotlib.pyplot as plt\n",
    "matplotlib.__version__"
   ]
  },
  {
   "cell_type": "markdown",
   "id": "a70050b3",
   "metadata": {},
   "source": [
    "%matplotlib inline : 주피터 노트북이 실행되는 브라우저에서 시각화를 해라..\n",
    "%config InlineBackend.figure_format = \"retina\" : 그래프 해상도를 높임. 'png'(기본값), 'jpge', 'svg', 'pdf'"
   ]
  },
  {
   "cell_type": "code",
   "execution_count": 5,
   "id": "c081cf93",
   "metadata": {
    "ExecuteTime": {
     "end_time": "2021-08-03T09:18:53.187694Z",
     "start_time": "2021-08-03T09:18:53.172743Z"
    }
   },
   "outputs": [],
   "source": [
    "%matplotlib inline\n",
    "%config InlineBackend.figure_format = \"retina\""
   ]
  },
  {
   "cell_type": "code",
   "execution_count": null,
   "id": "1121fd51",
   "metadata": {},
   "outputs": [],
   "source": []
  },
  {
   "cell_type": "code",
   "execution_count": null,
   "id": "568846cc",
   "metadata": {},
   "outputs": [],
   "source": []
  },
  {
   "cell_type": "code",
   "execution_count": null,
   "id": "8d318043",
   "metadata": {},
   "outputs": [],
   "source": []
  },
  {
   "cell_type": "code",
   "execution_count": null,
   "id": "eaf4d431",
   "metadata": {},
   "outputs": [],
   "source": []
  },
  {
   "cell_type": "code",
   "execution_count": null,
   "id": "5fd427db",
   "metadata": {},
   "outputs": [],
   "source": []
  },
  {
   "cell_type": "code",
   "execution_count": null,
   "id": "c3ad232e",
   "metadata": {},
   "outputs": [],
   "source": []
  },
  {
   "cell_type": "code",
   "execution_count": null,
   "id": "5467525c",
   "metadata": {},
   "outputs": [],
   "source": []
  }
 ],
 "metadata": {
  "kernelspec": {
   "display_name": "Python 3",
   "language": "python",
   "name": "python3"
  },
  "language_info": {
   "codemirror_mode": {
    "name": "ipython",
    "version": 3
   },
   "file_extension": ".py",
   "mimetype": "text/x-python",
   "name": "python",
   "nbconvert_exporter": "python",
   "pygments_lexer": "ipython3",
   "version": "3.8.8"
  },
  "toc": {
   "base_numbering": 1,
   "nav_menu": {},
   "number_sections": false,
   "sideBar": true,
   "skip_h1_title": false,
   "title_cell": "Table of Contents",
   "title_sidebar": "Contents",
   "toc_cell": false,
   "toc_position": {},
   "toc_section_display": true,
   "toc_window_display": true
  },
  "varInspector": {
   "cols": {
    "lenName": 16,
    "lenType": 16,
    "lenVar": 40
   },
   "kernels_config": {
    "python": {
     "delete_cmd_postfix": "",
     "delete_cmd_prefix": "del ",
     "library": "var_list.py",
     "varRefreshCmd": "print(var_dic_list())"
    },
    "r": {
     "delete_cmd_postfix": ") ",
     "delete_cmd_prefix": "rm(",
     "library": "var_list.r",
     "varRefreshCmd": "cat(var_dic_list()) "
    }
   },
   "types_to_exclude": [
    "module",
    "function",
    "builtin_function_or_method",
    "instance",
    "_Feature"
   ],
   "window_display": false
  }
 },
 "nbformat": 4,
 "nbformat_minor": 5
}
