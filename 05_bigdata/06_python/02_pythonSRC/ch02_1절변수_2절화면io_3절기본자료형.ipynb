{
 "cells": [
  {
   "cell_type": "markdown",
   "id": "93da5e56",
   "metadata": {},
   "source": [
    "# 1절. 변수"
   ]
  },
  {
   "cell_type": "markdown",
   "id": "f0e66639",
   "metadata": {},
   "source": [
    "## 1.1 변수 선언\n",
    "- 값을 저장할 수 있는 변수를 만드는 것.\n",
    "- 파이썬은 변수 선언을 위한 타입이 없고 별도의 선언 과정이 없음"
   ]
  },
  {
   "cell_type": "markdown",
   "id": "ddf1537e",
   "metadata": {},
   "source": [
    "## 1.2 변수 할당\n",
    "- 어떤 값이 이름을 갖도록 하는 과정\n",
    "- 할당 연산자 =를 이용"
   ]
  },
  {
   "cell_type": "code",
   "execution_count": 1,
   "id": "0dca01ca",
   "metadata": {
    "ExecuteTime": {
     "end_time": "2021-07-19T14:46:38.570093Z",
     "start_time": "2021-07-19T14:46:38.551166Z"
    }
   },
   "outputs": [
    {
     "name": "stdout",
     "output_type": "stream",
     "text": [
      "계산된 넓이는  78.5\n"
     ]
    }
   ],
   "source": [
    "r = 5\n",
    "area = 3.14 * r * r\n",
    "print('계산된 넓이는 ', area)"
   ]
  },
  {
   "cell_type": "code",
   "execution_count": 2,
   "id": "fde980b1",
   "metadata": {
    "ExecuteTime": {
     "end_time": "2021-07-19T14:46:46.313276Z",
     "start_time": "2021-07-19T14:46:46.297319Z"
    }
   },
   "outputs": [
    {
     "name": "stdout",
     "output_type": "stream",
     "text": [
      "78.53981633974483\n"
     ]
    }
   ],
   "source": [
    "import numpy as np #numpy라는 패키지를 np라는 이름 사용\n",
    "r = 5\n",
    "area = np.pi * r * r\n",
    "print(area)"
   ]
  },
  {
   "cell_type": "code",
   "execution_count": 3,
   "id": "0f84c2ae",
   "metadata": {
    "ExecuteTime": {
     "end_time": "2021-07-19T14:46:56.471729Z",
     "start_time": "2021-07-19T14:46:56.467739Z"
    }
   },
   "outputs": [],
   "source": [
    "a = 10"
   ]
  },
  {
   "cell_type": "code",
   "execution_count": 4,
   "id": "a769a3da",
   "metadata": {
    "ExecuteTime": {
     "end_time": "2021-07-19T14:47:09.290374Z",
     "start_time": "2021-07-19T14:47:09.279404Z"
    }
   },
   "outputs": [
    {
     "name": "stdout",
     "output_type": "stream",
     "text": [
      "140721809401936\n",
      "<class 'int'>\n"
     ]
    }
   ],
   "source": [
    "print(id(a)) # a변수의 주소\n",
    "print(type(a)) # a 변수의 타입"
   ]
  },
  {
   "cell_type": "code",
   "execution_count": 5,
   "id": "2b5f4a63",
   "metadata": {
    "ExecuteTime": {
     "end_time": "2021-07-19T14:47:24.840408Z",
     "start_time": "2021-07-19T14:47:24.829408Z"
    }
   },
   "outputs": [
    {
     "name": "stdout",
     "output_type": "stream",
     "text": [
      "1594479239696\n",
      "<class 'str'>\n"
     ]
    }
   ],
   "source": [
    "a = '파이썬'\n",
    "print(id(a))\n",
    "print(type(a))"
   ]
  },
  {
   "cell_type": "markdown",
   "id": "9a21729b",
   "metadata": {},
   "source": [
    "## 1.3 변수 이름 규칙\n",
    "- 문자로 시작.\n",
    "- 문자, 숫자, _로 변수명 작성\n",
    "- 파이썬에서 제공되는 기본 함수명은 피한다.\n",
    "- 파이썬 예약어는 변수명 불가"
   ]
  },
  {
   "cell_type": "code",
   "execution_count": 6,
   "id": "a530cf8c",
   "metadata": {
    "ExecuteTime": {
     "end_time": "2021-07-19T14:51:22.818347Z",
     "start_time": "2021-07-19T14:51:22.796426Z"
    }
   },
   "outputs": [
    {
     "data": {
      "text/plain": [
       "'북한'"
      ]
     },
     "execution_count": 6,
     "metadata": {},
     "output_type": "execute_result"
    }
   ],
   "source": [
    "불용어 = '북한'\n",
    "불용어"
   ]
  },
  {
   "cell_type": "code",
   "execution_count": 7,
   "id": "1142f330",
   "metadata": {
    "ExecuteTime": {
     "end_time": "2021-07-19T14:51:31.637542Z",
     "start_time": "2021-07-19T14:51:31.627566Z"
    }
   },
   "outputs": [
    {
     "ename": "SyntaxError",
     "evalue": "invalid syntax (<ipython-input-7-1a9bb92cc795>, line 1)",
     "output_type": "error",
     "traceback": [
      "\u001b[1;36m  File \u001b[1;32m\"<ipython-input-7-1a9bb92cc795>\"\u001b[1;36m, line \u001b[1;32m1\u001b[0m\n\u001b[1;33m    if = 5\u001b[0m\n\u001b[1;37m       ^\u001b[0m\n\u001b[1;31mSyntaxError\u001b[0m\u001b[1;31m:\u001b[0m invalid syntax\n"
     ]
    }
   ],
   "source": [
    "if = 5"
   ]
  },
  {
   "cell_type": "code",
   "execution_count": 8,
   "id": "234ad71d",
   "metadata": {
    "ExecuteTime": {
     "end_time": "2021-07-19T14:51:57.051179Z",
     "start_time": "2021-07-19T14:51:57.042204Z"
    }
   },
   "outputs": [],
   "source": [
    "print = 5"
   ]
  },
  {
   "cell_type": "code",
   "execution_count": 9,
   "id": "950adfa8",
   "metadata": {
    "ExecuteTime": {
     "end_time": "2021-07-19T14:52:06.154649Z",
     "start_time": "2021-07-19T14:52:06.140687Z"
    }
   },
   "outputs": [],
   "source": [
    "del print # print변수 삭제"
   ]
  },
  {
   "cell_type": "code",
   "execution_count": 10,
   "id": "0b909a17",
   "metadata": {
    "ExecuteTime": {
     "end_time": "2021-07-19T14:52:11.282593Z",
     "start_time": "2021-07-19T14:52:11.266580Z"
    }
   },
   "outputs": [
    {
     "name": "stdout",
     "output_type": "stream",
     "text": [
      "Hello, World\n"
     ]
    }
   ],
   "source": [
    "print(\"Hello, World\")"
   ]
  },
  {
   "cell_type": "code",
   "execution_count": 11,
   "id": "c6b0efb0",
   "metadata": {
    "ExecuteTime": {
     "end_time": "2021-07-19T14:52:20.032811Z",
     "start_time": "2021-07-19T14:52:20.027864Z"
    }
   },
   "outputs": [
    {
     "data": {
      "text/plain": [
       "complex"
      ]
     },
     "execution_count": 11,
     "metadata": {},
     "output_type": "execute_result"
    }
   ],
   "source": [
    "i = 3 + 3j\n",
    "type(i) # 복소수"
   ]
  },
  {
   "cell_type": "code",
   "execution_count": 12,
   "id": "0813848a",
   "metadata": {
    "ExecuteTime": {
     "end_time": "2021-07-19T14:52:26.253996Z",
     "start_time": "2021-07-19T14:52:26.237041Z"
    }
   },
   "outputs": [],
   "source": [
    "a = 10\n",
    "b = 20"
   ]
  },
  {
   "cell_type": "code",
   "execution_count": 13,
   "id": "55d92872",
   "metadata": {
    "ExecuteTime": {
     "end_time": "2021-07-19T14:52:31.129724Z",
     "start_time": "2021-07-19T14:52:31.117109Z"
    }
   },
   "outputs": [],
   "source": [
    "a, b = 10, 20 # 다중 변수 선언"
   ]
  },
  {
   "cell_type": "code",
   "execution_count": 14,
   "id": "36ef7351",
   "metadata": {
    "ExecuteTime": {
     "end_time": "2021-07-19T14:52:37.445589Z",
     "start_time": "2021-07-19T14:52:37.427226Z"
    }
   },
   "outputs": [
    {
     "data": {
      "text/plain": [
       "(10, 20)"
      ]
     },
     "execution_count": 14,
     "metadata": {},
     "output_type": "execute_result"
    }
   ],
   "source": [
    "a, b"
   ]
  },
  {
   "cell_type": "code",
   "execution_count": 15,
   "id": "03ac9a0f",
   "metadata": {
    "ExecuteTime": {
     "end_time": "2021-07-19T14:52:46.791336Z",
     "start_time": "2021-07-19T14:52:46.786601Z"
    }
   },
   "outputs": [],
   "source": [
    "a, b = b, a+b # 다중 변수 할당시 순차적 할당이 아니고 일괄할당"
   ]
  },
  {
   "cell_type": "code",
   "execution_count": 16,
   "id": "ab8b9f06",
   "metadata": {
    "ExecuteTime": {
     "end_time": "2021-07-19T14:52:54.692717Z",
     "start_time": "2021-07-19T14:52:54.684466Z"
    }
   },
   "outputs": [
    {
     "data": {
      "text/plain": [
       "(20, 30)"
      ]
     },
     "execution_count": 16,
     "metadata": {},
     "output_type": "execute_result"
    }
   ],
   "source": [
    "a, b"
   ]
  },
  {
   "cell_type": "markdown",
   "id": "096c41e9",
   "metadata": {},
   "source": [
    "## 1.4 도움말"
   ]
  },
  {
   "cell_type": "code",
   "execution_count": 17,
   "id": "0118f462",
   "metadata": {
    "ExecuteTime": {
     "end_time": "2021-07-19T14:53:27.867961Z",
     "start_time": "2021-07-19T14:53:27.852973Z"
    }
   },
   "outputs": [
    {
     "name": "stdout",
     "output_type": "stream",
     "text": [
      "Help on built-in function print in module builtins:\n",
      "\n",
      "print(...)\n",
      "    print(value, ..., sep=' ', end='\\n', file=sys.stdout, flush=False)\n",
      "    \n",
      "    Prints the values to a stream, or to sys.stdout by default.\n",
      "    Optional keyword arguments:\n",
      "    file:  a file-like object (stream); defaults to the current sys.stdout.\n",
      "    sep:   string inserted between values, default a space.\n",
      "    end:   string appended after the last value, default a newline.\n",
      "    flush: whether to forcibly flush the stream.\n",
      "\n"
     ]
    }
   ],
   "source": [
    "help(print)"
   ]
  },
  {
   "cell_type": "code",
   "execution_count": 18,
   "id": "c8062864",
   "metadata": {
    "ExecuteTime": {
     "end_time": "2021-07-19T14:53:42.863847Z",
     "start_time": "2021-07-19T14:53:34.212228Z"
    }
   },
   "outputs": [
    {
     "name": "stdout",
     "output_type": "stream",
     "text": [
      "\n",
      "Welcome to Python 3.8's help utility!\n",
      "\n",
      "If this is your first time using Python, you should definitely check out\n",
      "the tutorial on the Internet at https://docs.python.org/3.8/tutorial/.\n",
      "\n",
      "Enter the name of any module, keyword, or topic to get help on writing\n",
      "Python programs and using Python modules.  To quit this help utility and\n",
      "return to the interpreter, just type \"quit\".\n",
      "\n",
      "To get a list of available modules, keywords, symbols, or topics, type\n",
      "\"modules\", \"keywords\", \"symbols\", or \"topics\".  Each module also comes\n",
      "with a one-line summary of what it does; to list the modules whose name\n",
      "or summary contain a given string such as \"spam\", type \"modules spam\".\n",
      "\n",
      "help> print\n",
      "Help on built-in function print in module builtins:\n",
      "\n",
      "print(...)\n",
      "    print(value, ..., sep=' ', end='\\n', file=sys.stdout, flush=False)\n",
      "    \n",
      "    Prints the values to a stream, or to sys.stdout by default.\n",
      "    Optional keyword arguments:\n",
      "    file:  a file-like object (stream); defaults to the current sys.stdout.\n",
      "    sep:   string inserted between values, default a space.\n",
      "    end:   string appended after the last value, default a newline.\n",
      "    flush: whether to forcibly flush the stream.\n",
      "\n",
      "help> \n",
      "\n",
      "You are now leaving help and returning to the Python interpreter.\n",
      "If you want to ask for help on a particular object directly from the\n",
      "interpreter, you can type \"help(object)\".  Executing \"help('string')\"\n",
      "has the same effect as typing a particular string at the help> prompt.\n"
     ]
    }
   ],
   "source": [
    "help()"
   ]
  },
  {
   "cell_type": "code",
   "execution_count": 19,
   "id": "a0c046b3",
   "metadata": {
    "ExecuteTime": {
     "end_time": "2021-07-19T14:54:11.472419Z",
     "start_time": "2021-07-19T14:54:11.461450Z"
    }
   },
   "outputs": [
    {
     "name": "stdout",
     "output_type": "stream",
     "text": [
      "\n"
     ]
    }
   ],
   "source": [
    "# 도움말 기능 : shift_tab키\n",
    "print()"
   ]
  },
  {
   "cell_type": "code",
   "execution_count": 20,
   "id": "358ae480",
   "metadata": {
    "ExecuteTime": {
     "end_time": "2021-07-19T14:54:27.376388Z",
     "start_time": "2021-07-19T14:54:27.363389Z"
    }
   },
   "outputs": [],
   "source": [
    "def add(x, y=0):\n",
    "    return 10*x + y"
   ]
  },
  {
   "cell_type": "code",
   "execution_count": 21,
   "id": "6f03e362",
   "metadata": {
    "ExecuteTime": {
     "end_time": "2021-07-19T14:54:32.579538Z",
     "start_time": "2021-07-19T14:54:32.570524Z"
    }
   },
   "outputs": [
    {
     "data": {
      "text/plain": [
       "50"
      ]
     },
     "execution_count": 21,
     "metadata": {},
     "output_type": "execute_result"
    }
   ],
   "source": [
    "add(5)"
   ]
  },
  {
   "cell_type": "code",
   "execution_count": 22,
   "id": "f62cb13b",
   "metadata": {
    "ExecuteTime": {
     "end_time": "2021-07-19T14:54:38.975823Z",
     "start_time": "2021-07-19T14:54:38.971859Z"
    }
   },
   "outputs": [
    {
     "data": {
      "text/plain": [
       "54"
      ]
     },
     "execution_count": 22,
     "metadata": {},
     "output_type": "execute_result"
    }
   ],
   "source": [
    "add(5,4)"
   ]
  },
  {
   "cell_type": "markdown",
   "id": "a7430623",
   "metadata": {},
   "source": [
    "## 1.5 변수 삭제"
   ]
  },
  {
   "cell_type": "code",
   "execution_count": 23,
   "id": "30de5ffd",
   "metadata": {
    "ExecuteTime": {
     "end_time": "2021-07-19T14:54:59.403806Z",
     "start_time": "2021-07-19T14:54:59.390840Z"
    }
   },
   "outputs": [],
   "source": [
    "a = 10\n",
    "b = 20\n",
    "c = a+b"
   ]
  },
  {
   "cell_type": "code",
   "execution_count": 24,
   "id": "d730c33e",
   "metadata": {
    "ExecuteTime": {
     "end_time": "2021-07-19T14:55:11.583443Z",
     "start_time": "2021-07-19T14:55:11.580448Z"
    }
   },
   "outputs": [],
   "source": [
    "del b"
   ]
  },
  {
   "cell_type": "code",
   "execution_count": 25,
   "id": "f76b5446",
   "metadata": {
    "ExecuteTime": {
     "end_time": "2021-07-19T14:55:12.861135Z",
     "start_time": "2021-07-19T14:55:12.846174Z"
    }
   },
   "outputs": [],
   "source": [
    "del(c)"
   ]
  },
  {
   "cell_type": "code",
   "execution_count": 26,
   "id": "3fd702bd",
   "metadata": {
    "ExecuteTime": {
     "end_time": "2021-07-19T14:55:13.891154Z",
     "start_time": "2021-07-19T14:55:13.876044Z"
    }
   },
   "outputs": [
    {
     "name": "stdout",
     "output_type": "stream",
     "text": [
      "Variable          Type                          Data/Info\n",
      "---------------------------------------------------------\n",
      "NamespaceMagics   MetaHasTraits                 <class 'IPython.core.magi<...>mespace.NamespaceMagics'>\n",
      "a                 int                           10\n",
      "add               function                      <function add at 0x000001733E5F9940>\n",
      "area              float                         78.53981633974483\n",
      "autopep8          module                        <module 'autopep8' from '<...>e-packages\\\\autopep8.py'>\n",
      "get_ipython       function                      <function get_ipython at 0x000001733A8754C0>\n",
      "getsizeof         builtin_function_or_method    <built-in function getsizeof>\n",
      "i                 complex                       (3+3j)\n",
      "json              module                        <module 'json' from 'C:\\\\<...>\\lib\\\\json\\\\__init__.py'>\n",
      "np                module                        <module 'numpy' from 'C:\\<...>ges\\\\numpy\\\\__init__.py'>\n",
      "r                 int                           5\n",
      "var_dic_list      function                      <function var_dic_list at 0x000001733E51E3A0>\n",
      "yapf_reformat     function                      <function yapf_reformat at 0x000001733E5F9700>\n",
      "불용어               str                           북한\n"
     ]
    }
   ],
   "source": [
    "whos"
   ]
  },
  {
   "cell_type": "markdown",
   "id": "11aa5dc5",
   "metadata": {},
   "source": [
    "# 2절. 화면 i/o"
   ]
  },
  {
   "cell_type": "code",
   "execution_count": 27,
   "id": "e9d190d8",
   "metadata": {
    "ExecuteTime": {
     "end_time": "2021-07-19T14:56:12.936248Z",
     "start_time": "2021-07-19T14:56:09.306367Z"
    }
   },
   "outputs": [
    {
     "name": "stdout",
     "output_type": "stream",
     "text": [
      "첫번째 숫자는? 10\n",
      "두번재 숫자는? 20\n"
     ]
    }
   ],
   "source": [
    "first = input(\"첫번째 숫자는? \")\n",
    "second = input(\"두번재 숫자는? \")"
   ]
  },
  {
   "cell_type": "code",
   "execution_count": 28,
   "id": "58c58bb3",
   "metadata": {
    "ExecuteTime": {
     "end_time": "2021-07-19T14:56:21.384883Z",
     "start_time": "2021-07-19T14:56:21.368849Z"
    }
   },
   "outputs": [
    {
     "name": "stdout",
     "output_type": "stream",
     "text": [
      "두수의 합은  1020\n"
     ]
    }
   ],
   "source": [
    "print('두수의 합은 ', first+second )  #문자"
   ]
  },
  {
   "cell_type": "code",
   "execution_count": 29,
   "id": "e5b01056",
   "metadata": {
    "ExecuteTime": {
     "end_time": "2021-07-19T14:56:42.021527Z",
     "start_time": "2021-07-19T14:56:42.003574Z"
    }
   },
   "outputs": [
    {
     "name": "stdout",
     "output_type": "stream",
     "text": [
      "Hello ~ World\tHello / Hadoop\n"
     ]
    }
   ],
   "source": [
    "print('Hello', 'World', sep=' ~ ', end='\\t')\n",
    "print('Hello', 'Hadoop', sep=' / ', end='\\n')"
   ]
  },
  {
   "cell_type": "markdown",
   "id": "38a14c18",
   "metadata": {},
   "source": [
    "# 3절 기본 자료형\n",
    "- 숫자(정수, 실수, 복소수), 문자, 논리형(True, False)"
   ]
  },
  {
   "cell_type": "markdown",
   "id": "3c526089",
   "metadata": {},
   "source": [
    "## 3.1 숫자형"
   ]
  },
  {
   "cell_type": "code",
   "execution_count": 30,
   "id": "91a6885b",
   "metadata": {
    "ExecuteTime": {
     "end_time": "2021-07-19T14:57:53.061109Z",
     "start_time": "2021-07-19T14:57:53.057121Z"
    }
   },
   "outputs": [
    {
     "name": "stdout",
     "output_type": "stream",
     "text": [
      "9223372036854775807\n"
     ]
    }
   ],
   "source": [
    "import sys\n",
    "print(sys.maxsize) # 정수의 최대수 2^63-1"
   ]
  },
  {
   "cell_type": "code",
   "execution_count": 31,
   "id": "f2e6012f",
   "metadata": {
    "ExecuteTime": {
     "end_time": "2021-07-19T14:58:05.942125Z",
     "start_time": "2021-07-19T14:58:05.924199Z"
    }
   },
   "outputs": [
    {
     "name": "stdout",
     "output_type": "stream",
     "text": [
      "<class 'int'>\n",
      "9223372036854776807\n"
     ]
    }
   ],
   "source": [
    "i = 9223372036854775807+1000\n",
    "print(type(i))\n",
    "print(i) # 소수점이 없는 모든 수는 int(정수)"
   ]
  },
  {
   "cell_type": "code",
   "execution_count": 32,
   "id": "63c36a72",
   "metadata": {
    "ExecuteTime": {
     "end_time": "2021-07-19T14:58:13.785190Z",
     "start_time": "2021-07-19T14:58:13.772225Z"
    }
   },
   "outputs": [
    {
     "data": {
      "text/plain": [
       "float"
      ]
     },
     "execution_count": 32,
     "metadata": {},
     "output_type": "execute_result"
    }
   ],
   "source": [
    "f = 3.0\n",
    "type(f)"
   ]
  },
  {
   "cell_type": "code",
   "execution_count": 33,
   "id": "b61b2480",
   "metadata": {
    "ExecuteTime": {
     "end_time": "2021-07-19T14:58:20.698933Z",
     "start_time": "2021-07-19T14:58:20.691972Z"
    }
   },
   "outputs": [
    {
     "name": "stdout",
     "output_type": "stream",
     "text": [
      "1.5\n"
     ]
    }
   ],
   "source": [
    "f = 3/2 # 정수/정수는 무조건 실수\n",
    "print(f)"
   ]
  },
  {
   "cell_type": "code",
   "execution_count": 34,
   "id": "621bda85",
   "metadata": {
    "ExecuteTime": {
     "end_time": "2021-07-19T14:58:27.101044Z",
     "start_time": "2021-07-19T14:58:27.096045Z"
    }
   },
   "outputs": [
    {
     "name": "stdout",
     "output_type": "stream",
     "text": [
      "1.0\n"
     ]
    }
   ],
   "source": [
    "f = 2/2\n",
    "print(f)"
   ]
  },
  {
   "cell_type": "code",
   "execution_count": 35,
   "id": "1b038336",
   "metadata": {
    "ExecuteTime": {
     "end_time": "2021-07-19T14:58:33.116608Z",
     "start_time": "2021-07-19T14:58:33.102600Z"
    }
   },
   "outputs": [
    {
     "name": "stdout",
     "output_type": "stream",
     "text": [
      "1\n",
      "1\n"
     ]
    }
   ],
   "source": [
    "# 자바처럼 하고 싶으면(정수/정수를 정수로)\n",
    "f = int(3/2) # 결과를  int로 형변환\n",
    "print(f)\n",
    "f = 3//2 # 몫연산자\n",
    "print(f)"
   ]
  },
  {
   "cell_type": "code",
   "execution_count": 36,
   "id": "aa77c13c",
   "metadata": {
    "ExecuteTime": {
     "end_time": "2021-07-19T14:58:42.463129Z",
     "start_time": "2021-07-19T14:58:42.452158Z"
    }
   },
   "outputs": [
    {
     "name": "stdout",
     "output_type": "stream",
     "text": [
      "(-1+0j)\n"
     ]
    }
   ],
   "source": [
    "b = 1j\n",
    "print(b**2) # b의 제곱"
   ]
  },
  {
   "cell_type": "code",
   "execution_count": 37,
   "id": "c6778ff5",
   "metadata": {
    "ExecuteTime": {
     "end_time": "2021-07-19T14:58:47.424296Z",
     "start_time": "2021-07-19T14:58:47.411296Z"
    }
   },
   "outputs": [
    {
     "name": "stdout",
     "output_type": "stream",
     "text": [
      "1.12e-12\n",
      "1.12e+20\n"
     ]
    }
   ],
   "source": [
    "f =  1.12e-12 # 1.12 * 10의 -12승\n",
    "print(f)\n",
    "f = 1.12e20   # 1.12 * 10의 20승\n",
    "print(f)"
   ]
  },
  {
   "cell_type": "markdown",
   "id": "218c8fea",
   "metadata": {},
   "source": [
    "## 3.2 문자형"
   ]
  },
  {
   "cell_type": "code",
   "execution_count": 38,
   "id": "da0db300",
   "metadata": {
    "ExecuteTime": {
     "end_time": "2021-07-19T14:59:20.594813Z",
     "start_time": "2021-07-19T14:59:20.578857Z"
    }
   },
   "outputs": [
    {
     "name": "stdout",
     "output_type": "stream",
     "text": [
      "홍\"길\"동 서울시 \"마포\"구 노고산동\n"
     ]
    }
   ],
   "source": [
    "name = '홍\"길\"동'\n",
    "address = \"서울시 \\\"마포\\\"구 노고산동\"\n",
    "print(name, address)"
   ]
  },
  {
   "cell_type": "code",
   "execution_count": 39,
   "id": "03daf3d1",
   "metadata": {
    "ExecuteTime": {
     "end_time": "2021-07-19T14:59:45.422103Z",
     "start_time": "2021-07-19T14:59:45.414158Z"
    }
   },
   "outputs": [
    {
     "name": "stdout",
     "output_type": "stream",
     "text": [
      "이렇게 작성하면\n",
      "줄 바꿈도 그대로 적용해서 여러 줄의 문자를\n",
      "입력할 수 있습니다\n"
     ]
    }
   ],
   "source": [
    "text = '''이렇게 작성하면\n",
    "줄 바꿈도 그대로 적용해서 여러 줄의 문자를\n",
    "입력할 수 있습니다'''\n",
    "print(text)"
   ]
  },
  {
   "cell_type": "code",
   "execution_count": 40,
   "id": "8de8aa0b",
   "metadata": {
    "ExecuteTime": {
     "end_time": "2021-07-19T15:00:32.111493Z",
     "start_time": "2021-07-19T15:00:32.096502Z"
    }
   },
   "outputs": [
    {
     "name": "stdout",
     "output_type": "stream",
     "text": [
      "이렇게 작성하면\n",
      "줄 바꿈도 그대로 적용해서 여러 줄의 문자를\n",
      "입력할 수 있습니다\n"
     ]
    }
   ],
   "source": [
    "text = '이렇게 작성하면\\n줄 바꿈도 그대로 적용해서 여러 줄의 문자를\\n입력할 수 있습니다'\n",
    "print(text)"
   ]
  },
  {
   "cell_type": "code",
   "execution_count": 41,
   "id": "e6bf8a77",
   "metadata": {
    "ExecuteTime": {
     "end_time": "2021-07-19T15:00:42.824310Z",
     "start_time": "2021-07-19T15:00:42.809350Z"
    }
   },
   "outputs": [
    {
     "data": {
      "text/plain": [
       "'\\n여러 줄 주석\\n2021.7.19 마지막 오프라인 수업일\\n'"
      ]
     },
     "execution_count": 41,
     "metadata": {},
     "output_type": "execute_result"
    }
   ],
   "source": [
    "'''\n",
    "여러 줄 주석\n",
    "2021.7.19 마지막 오프라인 수업일\n",
    "'''"
   ]
  },
  {
   "cell_type": "code",
   "execution_count": 42,
   "id": "2365235c",
   "metadata": {
    "ExecuteTime": {
     "end_time": "2021-07-19T15:01:08.023097Z",
     "start_time": "2021-07-19T15:01:08.016104Z"
    }
   },
   "outputs": [
    {
     "name": "stdout",
     "output_type": "stream",
     "text": [
      "Hello\n",
      "World\n"
     ]
    }
   ],
   "source": [
    "# raw 데이터 처리\n",
    "print(\"Hello\\nWorld\")"
   ]
  },
  {
   "cell_type": "code",
   "execution_count": 43,
   "id": "08369b48",
   "metadata": {
    "ExecuteTime": {
     "end_time": "2021-07-19T15:01:36.713044Z",
     "start_time": "2021-07-19T15:01:36.695092Z"
    }
   },
   "outputs": [
    {
     "name": "stdout",
     "output_type": "stream",
     "text": [
      "Hello\\nWorld\n"
     ]
    }
   ],
   "source": [
    "print(r\"Hello\\nWorld\")"
   ]
  },
  {
   "cell_type": "code",
   "execution_count": 44,
   "id": "0183a540",
   "metadata": {
    "ExecuteTime": {
     "end_time": "2021-07-19T15:01:52.910127Z",
     "start_time": "2021-07-19T15:01:52.903147Z"
    }
   },
   "outputs": [
    {
     "name": "stdout",
     "output_type": "stream",
     "text": [
      "이름:홍길동, 주소:서울시 마포구, 전화:02-716-1006, 특징:동해번쩌 서해번쩍, 혈액형:B\n"
     ]
    }
   ],
   "source": [
    "# raw 데이터를 이용할 때 ex. 정규표현식 이용\n",
    "import re\n",
    "data = \"이름:홍길동, 주소:서울시 마포구, 전화:02-716-1006, 특징:동해번쩌 서해번쩍, \\\n",
    "혈액형:B\"\n",
    "print(data)"
   ]
  },
  {
   "cell_type": "code",
   "execution_count": 45,
   "id": "325a1ff3",
   "metadata": {
    "ExecuteTime": {
     "end_time": "2021-07-19T15:03:30.447101Z",
     "start_time": "2021-07-19T15:03:30.428153Z"
    }
   },
   "outputs": [
    {
     "name": "stdout",
     "output_type": "stream",
     "text": [
      "['02-716-1006']\n"
     ]
    }
   ],
   "source": [
    "phone_pattern = r'[\\d]{2,3}-[\\d]{3,4}-[\\d]{4}'\n",
    "# phone_pattern = '[\\\\d]{2,3}-[\\\\d]{3,4}-[\\\\d]{4}'\n",
    "phone = re.findall(phone_pattern, data)\n",
    "print(phone)"
   ]
  },
  {
   "cell_type": "code",
   "execution_count": 46,
   "id": "66933c4e",
   "metadata": {
    "ExecuteTime": {
     "end_time": "2021-07-19T15:04:05.119409Z",
     "start_time": "2021-07-19T15:04:05.111430Z"
    }
   },
   "outputs": [],
   "source": [
    "file = r'D:\\bigdata\\note\\07_Python'"
   ]
  },
  {
   "cell_type": "code",
   "execution_count": 47,
   "id": "62e31a4c",
   "metadata": {
    "ExecuteTime": {
     "end_time": "2021-07-19T15:04:10.314926Z",
     "start_time": "2021-07-19T15:04:10.299966Z"
    }
   },
   "outputs": [
    {
     "data": {
      "text/plain": [
       "<re.Match object; span=(23, 34), match='02-716-1006'>"
      ]
     },
     "execution_count": 47,
     "metadata": {},
     "output_type": "execute_result"
    }
   ],
   "source": [
    "pattern = r'([\\d]{2,3}-[\\d]{3,4}-[\\d]{4})'\n",
    "phone = re.search(pattern, data)\n",
    "phone"
   ]
  },
  {
   "cell_type": "code",
   "execution_count": 48,
   "id": "90337621",
   "metadata": {
    "ExecuteTime": {
     "end_time": "2021-07-19T15:04:21.747858Z",
     "start_time": "2021-07-19T15:04:21.728909Z"
    }
   },
   "outputs": [
    {
     "data": {
      "text/plain": [
       "'02-716-1006'"
      ]
     },
     "execution_count": 48,
     "metadata": {},
     "output_type": "execute_result"
    }
   ],
   "source": [
    "data[23:34] # 문자열 슬라이싱"
   ]
  },
  {
   "cell_type": "code",
   "execution_count": 49,
   "id": "c0d5d853",
   "metadata": {
    "ExecuteTime": {
     "end_time": "2021-07-19T15:04:29.588660Z",
     "start_time": "2021-07-19T15:04:29.583676Z"
    }
   },
   "outputs": [
    {
     "data": {
      "text/plain": [
       "'02-716-1006'"
      ]
     },
     "execution_count": 49,
     "metadata": {},
     "output_type": "execute_result"
    }
   ],
   "source": [
    "phone.group(0)"
   ]
  },
  {
   "cell_type": "code",
   "execution_count": 50,
   "id": "2212749a",
   "metadata": {
    "ExecuteTime": {
     "end_time": "2021-07-19T15:04:36.148002Z",
     "start_time": "2021-07-19T15:04:36.141043Z"
    }
   },
   "outputs": [],
   "source": [
    "# 문자열 슬라이싱"
   ]
  },
  {
   "cell_type": "code",
   "execution_count": 51,
   "id": "33a43ee7",
   "metadata": {
    "ExecuteTime": {
     "end_time": "2021-07-19T15:04:44.597178Z",
     "start_time": "2021-07-19T15:04:44.584179Z"
    }
   },
   "outputs": [
    {
     "data": {
      "text/plain": [
       "'0123456789'"
      ]
     },
     "execution_count": 51,
     "metadata": {},
     "output_type": "execute_result"
    }
   ],
   "source": [
    "str_ = \"0123456789\"\n",
    "str_"
   ]
  },
  {
   "cell_type": "code",
   "execution_count": 52,
   "id": "fdee1a86",
   "metadata": {
    "ExecuteTime": {
     "end_time": "2021-07-19T15:04:50.988704Z",
     "start_time": "2021-07-19T15:04:50.970752Z"
    }
   },
   "outputs": [
    {
     "data": {
      "text/plain": [
       "'012'"
      ]
     },
     "execution_count": 52,
     "metadata": {},
     "output_type": "execute_result"
    }
   ],
   "source": [
    "str_[0:3] # 0번째부터 3번째 앞까지"
   ]
  },
  {
   "cell_type": "code",
   "execution_count": 53,
   "id": "88cbf47a",
   "metadata": {
    "ExecuteTime": {
     "end_time": "2021-07-19T15:05:02.807091Z",
     "start_time": "2021-07-19T15:05:02.802103Z"
    }
   },
   "outputs": [
    {
     "data": {
      "text/plain": [
       "'8'"
      ]
     },
     "execution_count": 53,
     "metadata": {},
     "output_type": "execute_result"
    }
   ],
   "source": [
    "str_[-2] # 음수인덱스는 뒤에서부터"
   ]
  },
  {
   "cell_type": "code",
   "execution_count": 54,
   "id": "b86ab195",
   "metadata": {
    "ExecuteTime": {
     "end_time": "2021-07-19T15:05:10.290070Z",
     "start_time": "2021-07-19T15:05:10.277107Z"
    }
   },
   "outputs": [
    {
     "data": {
      "text/plain": [
       "'5678'"
      ]
     },
     "execution_count": 54,
     "metadata": {},
     "output_type": "execute_result"
    }
   ],
   "source": [
    "str_[-5:-1] #뒤에서 5번째부터 뒤에서 1번째 앞까지 5678"
   ]
  },
  {
   "cell_type": "code",
   "execution_count": 55,
   "id": "5518f7a3",
   "metadata": {
    "ExecuteTime": {
     "end_time": "2021-07-19T15:05:16.755428Z",
     "start_time": "2021-07-19T15:05:16.746426Z"
    }
   },
   "outputs": [
    {
     "data": {
      "text/plain": [
       "'56789'"
      ]
     },
     "execution_count": 55,
     "metadata": {},
     "output_type": "execute_result"
    }
   ],
   "source": [
    "str_[5:] #5번째 인덱스부터 끝까지"
   ]
  },
  {
   "cell_type": "code",
   "execution_count": 56,
   "id": "e4fe4c76",
   "metadata": {
    "ExecuteTime": {
     "end_time": "2021-07-19T15:05:26.754517Z",
     "start_time": "2021-07-19T15:05:26.740521Z"
    }
   },
   "outputs": [
    {
     "data": {
      "text/plain": [
       "'01234'"
      ]
     },
     "execution_count": 56,
     "metadata": {},
     "output_type": "execute_result"
    }
   ],
   "source": [
    "str_[:-5] # 처음부터 뒤에서부터5번째 앞까지"
   ]
  },
  {
   "cell_type": "code",
   "execution_count": 57,
   "id": "38fd9103",
   "metadata": {
    "ExecuteTime": {
     "end_time": "2021-07-19T15:05:51.075129Z",
     "start_time": "2021-07-19T15:05:51.068147Z"
    }
   },
   "outputs": [
    {
     "data": {
      "text/plain": [
       "'0123456789'"
      ]
     },
     "execution_count": 57,
     "metadata": {},
     "output_type": "execute_result"
    }
   ],
   "source": [
    "str_[:] #처음부터 끝까지"
   ]
  },
  {
   "cell_type": "code",
   "execution_count": 58,
   "id": "e24a21fd",
   "metadata": {
    "ExecuteTime": {
     "end_time": "2021-07-19T15:05:58.714643Z",
     "start_time": "2021-07-19T15:05:58.701677Z"
    }
   },
   "outputs": [
    {
     "data": {
      "text/plain": [
       "'56789'"
      ]
     },
     "execution_count": 58,
     "metadata": {},
     "output_type": "execute_result"
    }
   ],
   "source": [
    "# str_[19] # 없는 인덱스는 에러 나나\n",
    "str_[5:119] # 슬라이싱에서 인덱스를 벗어나면 끝까지"
   ]
  },
  {
   "cell_type": "code",
   "execution_count": 59,
   "id": "c077b767",
   "metadata": {
    "ExecuteTime": {
     "end_time": "2021-07-19T15:06:05.947175Z",
     "start_time": "2021-07-19T15:06:05.928177Z"
    }
   },
   "outputs": [
    {
     "name": "stdout",
     "output_type": "stream",
     "text": [
      "02468\n",
      "02468\n"
     ]
    }
   ],
   "source": [
    "# str_[from:to:by]\n",
    "print(str_[0:9:2]) #0번재부터 2씩 증가해서 9번째 앞까지 0,2,4,6,8번째인덱스\n",
    "print(str_[::2]) # 처음부터 끝가지 2씩 인덱스 증가해서 0 2 4 6 8번째 인덱스"
   ]
  },
  {
   "cell_type": "code",
   "execution_count": 60,
   "id": "8fe33cdd",
   "metadata": {
    "ExecuteTime": {
     "end_time": "2021-07-19T15:06:15.136761Z",
     "start_time": "2021-07-19T15:06:15.121778Z"
    }
   },
   "outputs": [
    {
     "name": "stdout",
     "output_type": "stream",
     "text": [
      "987654321\n",
      "9876543210\n",
      "987654321\n",
      "9876543210\n"
     ]
    }
   ],
   "source": [
    "#끝부터 처음까지 (꺼꾸로)\n",
    "print(str_[9:0:-1]) # 9번인덱스부터 0번인덱스 전까지 -1씩 감소\n",
    "print(str_[9::-1])  # 9번인덱스부터 맨앞까지 -1씩 감소\n",
    "print(str_[:0:-1])  # 9번인덱스부터 0번인덱스 전까지 -1씩 \n",
    "print(str_[::-1])   # 끝부터 처음까지 -1씩 감소"
   ]
  },
  {
   "cell_type": "markdown",
   "id": "09d93b61",
   "metadata": {},
   "source": [
    "## 3.3 논리형(True, False)"
   ]
  },
  {
   "cell_type": "code",
   "execution_count": 61,
   "id": "1edf5288",
   "metadata": {
    "ExecuteTime": {
     "end_time": "2021-07-19T15:06:49.428783Z",
     "start_time": "2021-07-19T15:06:49.418808Z"
    }
   },
   "outputs": [
    {
     "name": "stdout",
     "output_type": "stream",
     "text": [
      "True\n",
      "<class 'bool'>\n",
      "True\n"
     ]
    }
   ],
   "source": [
    "a = True\n",
    "print(a)\n",
    "print(type(a))\n",
    "print(isinstance(a, bool))"
   ]
  },
  {
   "cell_type": "code",
   "execution_count": 62,
   "id": "2da45a33",
   "metadata": {
    "ExecuteTime": {
     "end_time": "2021-07-19T15:06:54.163081Z",
     "start_time": "2021-07-19T15:06:54.146094Z"
    }
   },
   "outputs": [],
   "source": [
    "# False로 간주되는 것 : 0, None, \"\"(빈스트링), [], (), {}\n",
    "# True : ' ', '\\0'(널문자)"
   ]
  },
  {
   "cell_type": "code",
   "execution_count": 63,
   "id": "4979000d",
   "metadata": {
    "ExecuteTime": {
     "end_time": "2021-07-19T15:06:58.531152Z",
     "start_time": "2021-07-19T15:06:58.520149Z"
    }
   },
   "outputs": [
    {
     "name": "stdout",
     "output_type": "stream",
     "text": [
      "False다\n"
     ]
    }
   ],
   "source": [
    "if 0+0j:\n",
    "    print('True다')\n",
    "else:\n",
    "    print('False다')"
   ]
  },
  {
   "cell_type": "markdown",
   "id": "ebacca9f",
   "metadata": {},
   "source": [
    "## 3.4 자료형 확인 및 변환\n",
    "- type() : 자료형 확인\n",
    "- int() : 정수(int)형 변환\n",
    "- float() : 실수형 변환\n",
    "- str() : 문자형 변환\n",
    "- bool() :논리형 변환"
   ]
  },
  {
   "cell_type": "code",
   "execution_count": 64,
   "id": "0040b529",
   "metadata": {
    "ExecuteTime": {
     "end_time": "2021-07-19T15:08:01.209777Z",
     "start_time": "2021-07-19T15:08:01.199803Z"
    }
   },
   "outputs": [
    {
     "data": {
      "text/plain": [
       "12345"
      ]
     },
     "execution_count": 64,
     "metadata": {},
     "output_type": "execute_result"
    }
   ],
   "source": [
    "int('12345')"
   ]
  },
  {
   "cell_type": "code",
   "execution_count": 65,
   "id": "089775ba",
   "metadata": {
    "ExecuteTime": {
     "end_time": "2021-07-19T15:08:05.838969Z",
     "start_time": "2021-07-19T15:08:05.823015Z"
    }
   },
   "outputs": [
    {
     "data": {
      "text/plain": [
       "123"
      ]
     },
     "execution_count": 65,
     "metadata": {},
     "output_type": "execute_result"
    }
   ],
   "source": [
    "int(123.45)"
   ]
  },
  {
   "cell_type": "code",
   "execution_count": 66,
   "id": "b216d731",
   "metadata": {
    "ExecuteTime": {
     "end_time": "2021-07-19T15:08:11.884081Z",
     "start_time": "2021-07-19T15:08:11.861111Z"
    }
   },
   "outputs": [
    {
     "ename": "ValueError",
     "evalue": "invalid literal for int() with base 10: '  '",
     "output_type": "error",
     "traceback": [
      "\u001b[1;31m---------------------------------------------------------------------------\u001b[0m",
      "\u001b[1;31mValueError\u001b[0m                                Traceback (most recent call last)",
      "\u001b[1;32m<ipython-input-66-fec3ad6daf6b>\u001b[0m in \u001b[0;36m<module>\u001b[1;34m\u001b[0m\n\u001b[1;32m----> 1\u001b[1;33m \u001b[0mint\u001b[0m\u001b[1;33m(\u001b[0m\u001b[1;34m'  '\u001b[0m\u001b[1;33m)\u001b[0m\u001b[1;33m\u001b[0m\u001b[1;33m\u001b[0m\u001b[0m\n\u001b[0m",
      "\u001b[1;31mValueError\u001b[0m: invalid literal for int() with base 10: '  '"
     ]
    }
   ],
   "source": [
    "int('  ')"
   ]
  },
  {
   "cell_type": "code",
   "execution_count": 67,
   "id": "d9e6db74",
   "metadata": {
    "ExecuteTime": {
     "end_time": "2021-07-19T15:08:23.959024Z",
     "start_time": "2021-07-19T15:08:23.945025Z"
    }
   },
   "outputs": [
    {
     "ename": "ValueError",
     "evalue": "invalid literal for int() with base 10: '1,234,456'",
     "output_type": "error",
     "traceback": [
      "\u001b[1;31m---------------------------------------------------------------------------\u001b[0m",
      "\u001b[1;31mValueError\u001b[0m                                Traceback (most recent call last)",
      "\u001b[1;32m<ipython-input-67-d42052c622eb>\u001b[0m in \u001b[0;36m<module>\u001b[1;34m\u001b[0m\n\u001b[1;32m----> 1\u001b[1;33m \u001b[0mint\u001b[0m\u001b[1;33m(\u001b[0m\u001b[1;34m'1,234,456'\u001b[0m\u001b[1;33m)\u001b[0m\u001b[1;33m\u001b[0m\u001b[1;33m\u001b[0m\u001b[0m\n\u001b[0m",
      "\u001b[1;31mValueError\u001b[0m: invalid literal for int() with base 10: '1,234,456'"
     ]
    }
   ],
   "source": [
    "int('1,234,456')"
   ]
  },
  {
   "cell_type": "code",
   "execution_count": 68,
   "id": "988307c6",
   "metadata": {
    "ExecuteTime": {
     "end_time": "2021-07-19T15:08:35.887421Z",
     "start_time": "2021-07-19T15:08:35.869480Z"
    }
   },
   "outputs": [
    {
     "ename": "ValueError",
     "evalue": "invalid literal for int() with base 10: '123.45'",
     "output_type": "error",
     "traceback": [
      "\u001b[1;31m---------------------------------------------------------------------------\u001b[0m",
      "\u001b[1;31mValueError\u001b[0m                                Traceback (most recent call last)",
      "\u001b[1;32m<ipython-input-68-a5492000cb89>\u001b[0m in \u001b[0;36m<module>\u001b[1;34m\u001b[0m\n\u001b[1;32m----> 1\u001b[1;33m \u001b[0mint\u001b[0m\u001b[1;33m(\u001b[0m\u001b[1;34m'123.45'\u001b[0m\u001b[1;33m)\u001b[0m\u001b[1;33m\u001b[0m\u001b[1;33m\u001b[0m\u001b[0m\n\u001b[0m",
      "\u001b[1;31mValueError\u001b[0m: invalid literal for int() with base 10: '123.45'"
     ]
    }
   ],
   "source": [
    "int('123.45')"
   ]
  },
  {
   "cell_type": "code",
   "execution_count": 69,
   "id": "ec2cb24a",
   "metadata": {
    "ExecuteTime": {
     "end_time": "2021-07-19T15:08:57.103477Z",
     "start_time": "2021-07-19T15:08:57.097493Z"
    }
   },
   "outputs": [
    {
     "data": {
      "text/plain": [
       "1"
      ]
     },
     "execution_count": 69,
     "metadata": {},
     "output_type": "execute_result"
    }
   ],
   "source": [
    "int(True)"
   ]
  },
  {
   "cell_type": "code",
   "execution_count": 70,
   "id": "ec7264e2",
   "metadata": {
    "ExecuteTime": {
     "end_time": "2021-07-19T15:09:10.410207Z",
     "start_time": "2021-07-19T15:09:10.398207Z"
    }
   },
   "outputs": [
    {
     "data": {
      "text/plain": [
       "1.0"
      ]
     },
     "execution_count": 70,
     "metadata": {},
     "output_type": "execute_result"
    }
   ],
   "source": [
    "float(True)"
   ]
  },
  {
   "cell_type": "code",
   "execution_count": 71,
   "id": "e73e6b8f",
   "metadata": {
    "ExecuteTime": {
     "end_time": "2021-07-19T15:09:15.645242Z",
     "start_time": "2021-07-19T15:09:15.629310Z"
    }
   },
   "outputs": [
    {
     "data": {
      "text/plain": [
       "'12300.0'"
      ]
     },
     "execution_count": 71,
     "metadata": {},
     "output_type": "execute_result"
    }
   ],
   "source": [
    "str(1.23e4) # 1.23*10의4승"
   ]
  },
  {
   "cell_type": "markdown",
   "id": "c89fb8a4",
   "metadata": {},
   "source": [
    "<ul>파이썬 기본 자료형<ul>\n",
    "    <o1>숫자 - int, float, complex<br>\n",
    "    <o1>문자 - str<br>\n",
    "    <o1>논리 - bool<br><br>\n",
    "    <li>파이썬은 타입을 지칭하는 키워드는 없고, 변수 할당시 타입이 정해짐\n",
    "    <li>이스케이프 문자(\\n,\\t, \\r)\n",
    "    <li>row 문자열<br>\n",
    "        r'[\\d]{2,3}'\n",
    "    <li>논리형의 경우 False 판별 경우\n",
    "    \n",
    "    "
   ]
  },
  {
   "cell_type": "code",
   "execution_count": 74,
   "id": "f6309e2c",
   "metadata": {
    "ExecuteTime": {
     "end_time": "2021-07-19T15:16:23.589365Z",
     "start_time": "2021-07-19T15:16:23.573405Z"
    }
   },
   "outputs": [
    {
     "name": "stdout",
     "output_type": "stream",
     "text": [
      "012345\r",
      "yy\n"
     ]
    }
   ],
   "source": [
    "print('012345\\rxxx')  #\\r: 줄의 맨 처음으로 이동,, # 콘솔을 덮어씀"
   ]
  },
  {
   "cell_type": "code",
   "execution_count": null,
   "id": "ed781498",
   "metadata": {},
   "outputs": [],
   "source": []
  },
  {
   "cell_type": "code",
   "execution_count": null,
   "id": "292c89f8",
   "metadata": {},
   "outputs": [],
   "source": []
  },
  {
   "cell_type": "code",
   "execution_count": null,
   "id": "589a0c43",
   "metadata": {},
   "outputs": [],
   "source": []
  },
  {
   "cell_type": "code",
   "execution_count": null,
   "id": "a1fd4c54",
   "metadata": {},
   "outputs": [],
   "source": []
  },
  {
   "cell_type": "code",
   "execution_count": null,
   "id": "1ecf16a4",
   "metadata": {},
   "outputs": [],
   "source": []
  },
  {
   "cell_type": "code",
   "execution_count": null,
   "id": "41ac581e",
   "metadata": {},
   "outputs": [],
   "source": []
  },
  {
   "cell_type": "code",
   "execution_count": null,
   "id": "56b0744d",
   "metadata": {},
   "outputs": [],
   "source": []
  }
 ],
 "metadata": {
  "kernelspec": {
   "display_name": "Python 3",
   "language": "python",
   "name": "python3"
  },
  "language_info": {
   "codemirror_mode": {
    "name": "ipython",
    "version": 3
   },
   "file_extension": ".py",
   "mimetype": "text/x-python",
   "name": "python",
   "nbconvert_exporter": "python",
   "pygments_lexer": "ipython3",
   "version": "3.8.8"
  },
  "toc": {
   "base_numbering": 1,
   "nav_menu": {},
   "number_sections": false,
   "sideBar": true,
   "skip_h1_title": false,
   "title_cell": "Table of Contents",
   "title_sidebar": "Contents",
   "toc_cell": false,
   "toc_position": {
    "height": "calc(100% - 180px)",
    "left": "10px",
    "top": "150px",
    "width": "384px"
   },
   "toc_section_display": true,
   "toc_window_display": true
  },
  "varInspector": {
   "cols": {
    "lenName": 16,
    "lenType": 16,
    "lenVar": 40
   },
   "kernels_config": {
    "python": {
     "delete_cmd_postfix": "",
     "delete_cmd_prefix": "del ",
     "library": "var_list.py",
     "varRefreshCmd": "print(var_dic_list())"
    },
    "r": {
     "delete_cmd_postfix": ") ",
     "delete_cmd_prefix": "rm(",
     "library": "var_list.r",
     "varRefreshCmd": "cat(var_dic_list()) "
    }
   },
   "position": {
    "height": "422px",
    "left": "1550px",
    "right": "20px",
    "top": "120px",
    "width": "350px"
   },
   "types_to_exclude": [
    "module",
    "function",
    "builtin_function_or_method",
    "instance",
    "_Feature"
   ],
   "window_display": true
  }
 },
 "nbformat": 4,
 "nbformat_minor": 5
}
