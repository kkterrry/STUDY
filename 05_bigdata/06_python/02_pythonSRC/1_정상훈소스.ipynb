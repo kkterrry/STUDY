{
 "cells": [
  {
   "cell_type": "code",
   "execution_count": 32,
   "id": "12b747fa",
   "metadata": {
    "ExecuteTime": {
     "end_time": "2021-08-11T02:11:14.806742Z",
     "start_time": "2021-08-11T02:11:14.095396Z"
    }
   },
   "outputs": [],
   "source": [
    "import requests\n",
    "from bs4 import BeautifulSoup\n",
    "url =  'http://www.yes24.com/24/category/bestseller'\n",
    "bookrank = requests.get(url)\n",
    "soup = BeautifulSoup(bookrank.content,\"html.parser\")\n",
    "title_list = soup.select('p.copy > a')\n",
    "autor_etc = soup.select('p.aupu > a')\n",
    "price_list =soup.select('p.price > strong')\n",
    "dic_list = []\n",
    "for idx in range(len(title_list)):\n",
    "    dic={}\n",
    "    dic['title'] = title_list[idx].text\n",
    "    dic['autor_list'] = autor_etc[idx].text\n",
    "    dic['price_list'] = price_list[idx].text\n",
    "    dic_list.append(dic)\n",
    "#     print(\"{}. {} || {} || {}\".format(idx+1, title_list[idx].text, autor_etc[idx].text, price_list[idx].text))\n",
    "# print('\\n')\n",
    "import pandas as pd\n",
    "df = pd.DataFrame(dic_list)\n",
    "df.to_csv('data/1_yes24.csv', encoding='cp949')"
   ]
  },
  {
   "cell_type": "code",
   "execution_count": 36,
   "id": "a71772a5",
   "metadata": {
    "ExecuteTime": {
     "end_time": "2021-08-11T02:51:44.210287Z",
     "start_time": "2021-08-11T02:51:43.565049Z"
    }
   },
   "outputs": [
    {
     "name": "stdout",
     "output_type": "stream",
     "text": [
      "1. 힐링 판타지 〈달러구트 꿈 백화점〉, 두 번째 이야기 || 이미예 저 | 팩토리나인 || 12,420원\n",
      "2. 이지성이 전하는 미래 부의 흐름과 10가지 투자 정보 || 이지성 저 | 차이정원 || 15,300원\n",
      "3. 게토 스구루, 그 흑막의 정체는?  || 아쿠타미 게게 글그림/이정운 역 | 서울미디어코믹스(서울문화사) || 4,500원\n",
      "4. 잠들면 열리는 비밀상점, 그곳에서 펼쳐지는 힐링 판타지 || 이미예 저 | 팩토리나인 || 12,420원\n",
      "5. 매일 기억을 잃는 너와 두 번 다시 돌아갈 수 없는 사랑을 || 이치조 미사키 저/권영주 역 | 모모 || 12,600원\n",
      "6. 하이큐 팬을 위한 완벽한 가이드  || 후루다테 하루이치 글그림 | 대원 || 10,800원\n",
      "7. 대한민국이 진정한 선진국이 되려면 || 박태웅 저 | 한빛비즈 || 14,850원\n",
      "8. 경찰동기조 5인방의 이야기가 시작된다! || 아오야마 고쇼 원저/아라이 타카히로 글그림 | 서울미디어코믹스(서울문화사) || 4,950원\n",
      "9. 불세출의 재능을 가진 경찰학교 동기들의 청춘시절 || 아오야마 고쇼 원저/아라이 타카히로 글그림 | 서울미디어코믹스(서울문화사) || 4,950원\n",
      "10. 삶과 죽음 사이, 마법의 도서관이 열린다 || 매트 헤이그 저/노진선 역 | 인플루엔셜 || 14,220원\n",
      "11. 고죠의 술자리 에피소드 외 5편 수록  || 아쿠타미 게게 저/유유리 역 | 서울미디어코믹스(서울문화사) || 7,020원\n",
      "12. 철학자처럼 걷고 생각하고 살아가기  || 에릭 와이너 저/김하현 역 | 어크로스 || 16,200원\n",
      "13. 더위를 날리는 흔한남매의 오싹하고 깜찍한 일상! || 흔한남매 원저/백난도 글/유난희 그림/흔한컴퍼니 감수 | 미래엔아이세움 || 12,150원\n",
      "14. 정교하고 치밀한 구성과 압도하는 서스펜스 || 정유정 저 | 은행나무 || 14,220원\n",
      "15. 버락 오바마와 미국의 결정적 순간 || 버락 오바마 저/노승영 역 | 웅진지식하우스 || 29,700원\n",
      "16. 늦기 전에 디지털 지구, 메타버스에 올라타라! || 김상균 저 | 플랜비디자인 || 15,300원\n",
      "17. 우리 현대사의 가장 큰 비극 6·25 전쟁 || 설민석,스토리박스 글/정현희 그림/김영미 감수 | 아이휴먼 || 10,800원\n",
      "18. 돈 공부만 28년! 국내 최고의 이코노미스트, 홍춘욱 신간 || 홍춘욱 저 | 포르체 || 14,400원\n",
      "19. 신비롭고 아름다운 바다 세계! 바다 생물 관찰 || 에그박사 원저/박송이 글/홍종현 그림/CJ ENM DIA TV 감수 | 미래엔아이세움 || 12,150원\n",
      "20. 한국사능력검정시험 압도적 1위 || 최태성 저 | 이투스북  || 13,500원\n",
      "21. 토익 만점 잡는 기출 ver.2 || ETS 저 | YBM(와이비엠) || 16,020원\n",
      "22. 여성 4대, 백 년을 관통하는 사랑과 숨의 기록 || 최은영 저 | 문학동네 || 13,050원\n",
      "23. 98.4% 학생이 “공부하고 싶어졌다”고 응답한 바로 그 책! || 박성혁 저 | 다산북스 || 13,500원\n",
      "24. 2021년도 한국사능력검정시험 합격을 위해! || 최태성 저 | 이투스북  || 12,600원\n",
      "25. 금융천재 오건영의 똑똑한 투자 포트폴리오 || 오건영 저 | 페이지2 || 16,200원\n",
      "26. 인류의 진화를 다룬 생물인류학 || 차유진,정재승 글/김현민 그림/백두성 감수 | 아울북 || 12,600원\n",
      "27. 토익엔 빠르고 확실한 기출로! || ETS 저 | YBM(와이비엠) || 16,020원\n",
      "28. 아이의 빛나는 순간을 놓치지 마세요! 첫 공부 로드맵 || 이임숙 저 | 카시오페아 || 14,400원\n",
      "29. 2020 최신판으로 토익 기출 보카 업그레이드 || 데이비드 조 저 | 해커스어학연구소 || 11,610원\n",
      "30. 〈옥탑방의 문제아들〉, 차태현이 정형돈에게 선물한 책 || 오쿠다 히데오 저/이영미 역 | 은행나무 || 12,420원\n",
      "31. 힘들게 살아낸 오늘을 위로하는 편의점의 밤 || 김호연 저 | 나무옆의자 || 12,600원\n",
      "32. 대한민국 주식투자의 살아있는 전설, 두 거장이 만났다! || 강방천,존리 저 | 페이지2 || 14,850원\n",
      "33. 찬란하게 빛나라! 빛날 휘 輝! || 유대영 글/홍거북 그림/김창환 감수 | 아울북 || 10,800원\n",
      "34. 국민 육아멘토 오은영 박사의 현실밀착 육아회화 || 오은영 저/차상미 그림 | 김영사 || 15,750원\n",
      "35. 배구선수 김연경, 세상을 향항 강스파이크  || 김연경 저 | 가연 || 13,320원\n",
      "36. 주인공이 태어나지 않은 시대로 전생해버렸으니  || 달슬 원저/비아 글그림 | 파인툰(FineToon) || 27,900원\n",
      "37. 디지털 지구, 경제와 투자의 기준이 바뀐다. || 김상균,신병호 저 | 베가북스 || 16,920원\n",
      "38. '밀라논나' 인생 내공 에세이  || 장명숙 저 | 김영사 || 13,320원\n",
      "39. 성공률 100% 70억 자산가의 기발한 파이프라인 || 박성현 저 | 알에이치코리아(RHK) || 14,400원\n",
      "40.  || 김초엽 저 | 자이언트북스 || 13,500원\n",
      "\n",
      "\n"
     ]
    }
   ],
   "source": [
    "import requests\n",
    "from bs4 import BeautifulSoup\n",
    "url =  'http://www.yes24.com/24/category/bestseller'\n",
    "bookrank = requests.get(url)\n",
    "soup = BeautifulSoup(bookrank.content,\"html.parser\")\n",
    "title_list = soup.select('p.copy > a')\n",
    "autor_list = soup.select('ol > li > p.aupu')\n",
    "price_list =soup.select('p.price > strong')\n",
    "dic_list = []\n",
    "for idx in range(len(title_list)):\n",
    "    dic={}\n",
    "    dic['title'] = title_list[idx].text\n",
    "    dic['autor_list'] = autor_list[idx].text\n",
    "    dic['price_list'] = price_list[idx].text\n",
    "    dic_list.append(dic)\n",
    "    print(\"{}. {} || {} || {}\".format(idx+1, title_list[idx].text, autor_list[idx].text, price_list[idx].text))\n",
    "print('\\n')\n",
    "import pandas as pd\n",
    "df = pd.DataFrame(dic_list)\n",
    "df.to_csv('data/1_yes24.csv', encoding='cp949')"
   ]
  },
  {
   "cell_type": "code",
   "execution_count": null,
   "id": "fdf1bf6e",
   "metadata": {},
   "outputs": [],
   "source": []
  },
  {
   "cell_type": "code",
   "execution_count": null,
   "id": "4d2ef650",
   "metadata": {},
   "outputs": [],
   "source": []
  },
  {
   "cell_type": "code",
   "execution_count": null,
   "id": "67f68fd9",
   "metadata": {},
   "outputs": [],
   "source": []
  },
  {
   "cell_type": "code",
   "execution_count": null,
   "id": "47ebcfdc",
   "metadata": {},
   "outputs": [],
   "source": []
  },
  {
   "cell_type": "code",
   "execution_count": null,
   "id": "5dfb7f08",
   "metadata": {},
   "outputs": [],
   "source": []
  },
  {
   "cell_type": "code",
   "execution_count": null,
   "id": "17b66e33",
   "metadata": {},
   "outputs": [],
   "source": []
  }
 ],
 "metadata": {
  "kernelspec": {
   "display_name": "Python 3",
   "language": "python",
   "name": "python3"
  },
  "language_info": {
   "codemirror_mode": {
    "name": "ipython",
    "version": 3
   },
   "file_extension": ".py",
   "mimetype": "text/x-python",
   "name": "python",
   "nbconvert_exporter": "python",
   "pygments_lexer": "ipython3",
   "version": "3.8.8"
  },
  "toc": {
   "base_numbering": 1,
   "nav_menu": {},
   "number_sections": true,
   "sideBar": true,
   "skip_h1_title": false,
   "title_cell": "Table of Contents",
   "title_sidebar": "Contents",
   "toc_cell": false,
   "toc_position": {},
   "toc_section_display": true,
   "toc_window_display": false
  },
  "varInspector": {
   "cols": {
    "lenName": 16,
    "lenType": 16,
    "lenVar": 40
   },
   "kernels_config": {
    "python": {
     "delete_cmd_postfix": "",
     "delete_cmd_prefix": "del ",
     "library": "var_list.py",
     "varRefreshCmd": "print(var_dic_list())"
    },
    "r": {
     "delete_cmd_postfix": ") ",
     "delete_cmd_prefix": "rm(",
     "library": "var_list.r",
     "varRefreshCmd": "cat(var_dic_list()) "
    }
   },
   "types_to_exclude": [
    "module",
    "function",
    "builtin_function_or_method",
    "instance",
    "_Feature"
   ],
   "window_display": false
  }
 },
 "nbformat": 4,
 "nbformat_minor": 5
}
