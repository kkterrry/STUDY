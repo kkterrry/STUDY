{
 "cells": [
  {
   "cell_type": "markdown",
   "id": "414aaf63",
   "metadata": {
    "ExecuteTime": {
     "end_time": "2021-08-19T07:35:49.672659Z",
     "start_time": "2021-08-19T07:35:49.665677Z"
    }
   },
   "source": [
    "<font size=\"6\" color=\"red\"> ch3. 연관 분석 </font>"
   ]
  },
  {
   "cell_type": "markdown",
   "id": "5eea30aa",
   "metadata": {},
   "source": [
    "# 1. 연관분석 개요\n",
    "- 데이터들 사이에서 자주 발생하는 속성을 찾고, 그 속성들 사이에 연관성이 어느 정도 있는지를 분석하는 방법\n",
    "- 활용분야 : 상품진열, 사기보험적발, 카탈로그 디자인, 신상품 카테로리 구성\n",
    "```\n",
    "    - {조건} => {결과}\n",
    "    {소주, 콜라} => {와인} : 소주와 콜라를 사면 와인을 산다\n",
    "    {와인} => {소주, 콜라} : 와인을 사면 소주와 콜라를 산다\n",
    "    이는 서로 다른 의미\n",
    "    이렇게 도출된 연관성 규칙들은 지지도, 신뢰도, 향상도를 통해 얼마나 의미있는 규칙인지 평가\n",
    "평가\n",
    "- 연관분석 관련 지표\n",
    "    - 지지도(support) = 조건결과항목수 / 전체수\n",
    "        전체 거래 중 연관성 규칙을 구성하는 항목들이 포함된 거래의 비율\n",
    "    - 신뢰도(confidence) = 조건결과항목수 / 조건항목수\n",
    "        조건이 발생했을때 결과가 동시에 일어날 확률\n",
    "    - 향상도(lift) = 조건결과지지도 / ((조건지지도)*(결과지지도))\n",
    "        우현이 발생한 규칙인지 아닌지 여부를 보려는 것\n",
    "        1 : 조건과 결과는 우연한 관계일 뿐 연관성이 전혀 없음\n",
    "        >1 : 양의 상관관계 (의미있는 연관성을 가진 규칙으로 해석)\n",
    "        <1 : 음의 상관관계\n",
    "        \n",
    "    \n",
    "ex) \n",
    "- {조건} => {결과}   지지도        신뢰도        향상도\n",
    "- {주스} => {콜라}   2/5(0.4)      2/2(1)        0.4 / (0.4*1) = 1\n",
    "- {소주} => {맥주}   1/5(0.2)      1/3(0.3)      0.2 / (0.6*0.4) = 0.8333, 0.6=3/5(소주 지지도), 0.4=2/5(맥주 지지도)  \n",
    "```"
   ]
  },
  {
   "cell_type": "code",
   "execution_count": 2,
   "id": "3cadd978",
   "metadata": {
    "ExecuteTime": {
     "end_time": "2021-08-19T08:03:21.016882Z",
     "start_time": "2021-08-19T08:03:20.995938Z"
    }
   },
   "outputs": [
    {
     "data": {
      "text/plain": [
       "'C:\\\\bigdata\\\\src\\\\08_ML_DL\\\\자연어 처리'"
      ]
     },
     "execution_count": 2,
     "metadata": {},
     "output_type": "execute_result"
    }
   ],
   "source": [
    "import os\n",
    "os.getcwd()"
   ]
  },
  {
   "cell_type": "code",
   "execution_count": 5,
   "id": "2fa9ca91",
   "metadata": {
    "ExecuteTime": {
     "end_time": "2021-08-19T08:04:21.671161Z",
     "start_time": "2021-08-19T08:04:21.620618Z"
    }
   },
   "outputs": [
    {
     "name": "stdout",
     "output_type": "stream",
     "text": [
      " C 드라이브의 볼륨에는 이름이 없습니다.\n",
      " 볼륨 일련 번호: 2878-60C8\n",
      "\n",
      " C:\\bigdata\\src\\08_ML_DL\\자연어 처리 디렉터리\n",
      "\n",
      "2021-08-19  오전 09:34               122 cf_basket.csv\n",
      "               1개 파일                 122 바이트\n",
      "               0개 디렉터리  347,547,721,728 바이트 남음\n"
     ]
    }
   ],
   "source": [
    "%ls cf_basket.csv"
   ]
  },
  {
   "cell_type": "code",
   "execution_count": 2,
   "id": "1f5cc98b",
   "metadata": {
    "ExecuteTime": {
     "end_time": "2021-08-19T15:26:39.122544Z",
     "start_time": "2021-08-19T15:26:39.087508Z"
    }
   },
   "outputs": [
    {
     "data": {
      "text/plain": [
       "[['소주', '콜라', '와인'],\n",
       " ['소주', '오렌지주스', '콜라'],\n",
       " ['맥주', '콜라', '와인'],\n",
       " ['소주', '콜라', '맥주'],\n",
       " ['오렌지주스', '와인']]"
      ]
     },
     "execution_count": 2,
     "metadata": {},
     "output_type": "execute_result"
    }
   ],
   "source": [
    "# 트랜젝션 데이터 가져오기\n",
    "import csv\n",
    "transaction = []\n",
    "with open('cf_basket.csv', 'r',encoding='utf-8') as f:\n",
    "    csvdata = csv.reader(f)\n",
    "    for row in csvdata:\n",
    "        transaction.append(row)\n",
    "#     transaction = list(csvdata)\n",
    "transaction"
   ]
  },
  {
   "cell_type": "markdown",
   "id": "21c14407",
   "metadata": {},
   "source": [
    "# 2. 연관성분석\n",
    "- pip install apyori"
   ]
  },
  {
   "cell_type": "markdown",
   "id": "ac406569",
   "metadata": {},
   "source": [
    "## 2.1 연관성 규칙 생성\n"
   ]
  },
  {
   "cell_type": "code",
   "execution_count": 3,
   "id": "537d5d75",
   "metadata": {
    "ExecuteTime": {
     "end_time": "2021-08-19T15:26:41.498009Z",
     "start_time": "2021-08-19T15:26:41.483050Z"
    }
   },
   "outputs": [
    {
     "data": {
      "text/plain": [
       "18"
      ]
     },
     "execution_count": 3,
     "metadata": {},
     "output_type": "execute_result"
    }
   ],
   "source": [
    "from apyori import apriori\n",
    "rules = apriori(transaction, min_support=0.2, min_confidence=0.1)\n",
    "rules = list(rules)\n",
    "len(rules)"
   ]
  },
  {
   "cell_type": "code",
   "execution_count": 4,
   "id": "5bb2fafd",
   "metadata": {
    "ExecuteTime": {
     "end_time": "2021-08-19T15:26:43.208892Z",
     "start_time": "2021-08-19T15:26:43.187948Z"
    }
   },
   "outputs": [
    {
     "data": {
      "text/plain": [
       "[RelationRecord(items=frozenset({'맥주'}), support=0.4, ordered_statistics=[OrderedStatistic(items_base=frozenset(), items_add=frozenset({'맥주'}), confidence=0.4, lift=1.0)]),\n",
       " RelationRecord(items=frozenset({'소주'}), support=0.6, ordered_statistics=[OrderedStatistic(items_base=frozenset(), items_add=frozenset({'소주'}), confidence=0.6, lift=1.0)]),\n",
       " RelationRecord(items=frozenset({'오렌지주스'}), support=0.4, ordered_statistics=[OrderedStatistic(items_base=frozenset(), items_add=frozenset({'오렌지주스'}), confidence=0.4, lift=1.0)]),\n",
       " RelationRecord(items=frozenset({'와인'}), support=0.6, ordered_statistics=[OrderedStatistic(items_base=frozenset(), items_add=frozenset({'와인'}), confidence=0.6, lift=1.0)]),\n",
       " RelationRecord(items=frozenset({'콜라'}), support=0.8, ordered_statistics=[OrderedStatistic(items_base=frozenset(), items_add=frozenset({'콜라'}), confidence=0.8, lift=1.0)]),\n",
       " RelationRecord(items=frozenset({'맥주', '소주'}), support=0.2, ordered_statistics=[OrderedStatistic(items_base=frozenset(), items_add=frozenset({'맥주', '소주'}), confidence=0.2, lift=1.0), OrderedStatistic(items_base=frozenset({'맥주'}), items_add=frozenset({'소주'}), confidence=0.5, lift=0.8333333333333334), OrderedStatistic(items_base=frozenset({'소주'}), items_add=frozenset({'맥주'}), confidence=0.33333333333333337, lift=0.8333333333333334)]),\n",
       " RelationRecord(items=frozenset({'맥주', '와인'}), support=0.2, ordered_statistics=[OrderedStatistic(items_base=frozenset(), items_add=frozenset({'맥주', '와인'}), confidence=0.2, lift=1.0), OrderedStatistic(items_base=frozenset({'맥주'}), items_add=frozenset({'와인'}), confidence=0.5, lift=0.8333333333333334), OrderedStatistic(items_base=frozenset({'와인'}), items_add=frozenset({'맥주'}), confidence=0.33333333333333337, lift=0.8333333333333334)]),\n",
       " RelationRecord(items=frozenset({'맥주', '콜라'}), support=0.4, ordered_statistics=[OrderedStatistic(items_base=frozenset(), items_add=frozenset({'맥주', '콜라'}), confidence=0.4, lift=1.0), OrderedStatistic(items_base=frozenset({'맥주'}), items_add=frozenset({'콜라'}), confidence=1.0, lift=1.25), OrderedStatistic(items_base=frozenset({'콜라'}), items_add=frozenset({'맥주'}), confidence=0.5, lift=1.25)]),\n",
       " RelationRecord(items=frozenset({'오렌지주스', '소주'}), support=0.2, ordered_statistics=[OrderedStatistic(items_base=frozenset(), items_add=frozenset({'오렌지주스', '소주'}), confidence=0.2, lift=1.0), OrderedStatistic(items_base=frozenset({'소주'}), items_add=frozenset({'오렌지주스'}), confidence=0.33333333333333337, lift=0.8333333333333334), OrderedStatistic(items_base=frozenset({'오렌지주스'}), items_add=frozenset({'소주'}), confidence=0.5, lift=0.8333333333333334)]),\n",
       " RelationRecord(items=frozenset({'와인', '소주'}), support=0.2, ordered_statistics=[OrderedStatistic(items_base=frozenset(), items_add=frozenset({'와인', '소주'}), confidence=0.2, lift=1.0), OrderedStatistic(items_base=frozenset({'소주'}), items_add=frozenset({'와인'}), confidence=0.33333333333333337, lift=0.5555555555555557), OrderedStatistic(items_base=frozenset({'와인'}), items_add=frozenset({'소주'}), confidence=0.33333333333333337, lift=0.5555555555555557)]),\n",
       " RelationRecord(items=frozenset({'콜라', '소주'}), support=0.6, ordered_statistics=[OrderedStatistic(items_base=frozenset(), items_add=frozenset({'콜라', '소주'}), confidence=0.6, lift=1.0), OrderedStatistic(items_base=frozenset({'소주'}), items_add=frozenset({'콜라'}), confidence=1.0, lift=1.25), OrderedStatistic(items_base=frozenset({'콜라'}), items_add=frozenset({'소주'}), confidence=0.7499999999999999, lift=1.2499999999999998)]),\n",
       " RelationRecord(items=frozenset({'오렌지주스', '와인'}), support=0.2, ordered_statistics=[OrderedStatistic(items_base=frozenset(), items_add=frozenset({'오렌지주스', '와인'}), confidence=0.2, lift=1.0), OrderedStatistic(items_base=frozenset({'오렌지주스'}), items_add=frozenset({'와인'}), confidence=0.5, lift=0.8333333333333334), OrderedStatistic(items_base=frozenset({'와인'}), items_add=frozenset({'오렌지주스'}), confidence=0.33333333333333337, lift=0.8333333333333334)]),\n",
       " RelationRecord(items=frozenset({'콜라', '오렌지주스'}), support=0.2, ordered_statistics=[OrderedStatistic(items_base=frozenset(), items_add=frozenset({'콜라', '오렌지주스'}), confidence=0.2, lift=1.0), OrderedStatistic(items_base=frozenset({'오렌지주스'}), items_add=frozenset({'콜라'}), confidence=0.5, lift=0.625), OrderedStatistic(items_base=frozenset({'콜라'}), items_add=frozenset({'오렌지주스'}), confidence=0.25, lift=0.625)]),\n",
       " RelationRecord(items=frozenset({'콜라', '와인'}), support=0.4, ordered_statistics=[OrderedStatistic(items_base=frozenset(), items_add=frozenset({'콜라', '와인'}), confidence=0.4, lift=1.0), OrderedStatistic(items_base=frozenset({'와인'}), items_add=frozenset({'콜라'}), confidence=0.6666666666666667, lift=0.8333333333333334), OrderedStatistic(items_base=frozenset({'콜라'}), items_add=frozenset({'와인'}), confidence=0.5, lift=0.8333333333333334)]),\n",
       " RelationRecord(items=frozenset({'맥주', '콜라', '소주'}), support=0.2, ordered_statistics=[OrderedStatistic(items_base=frozenset(), items_add=frozenset({'맥주', '콜라', '소주'}), confidence=0.2, lift=1.0), OrderedStatistic(items_base=frozenset({'맥주'}), items_add=frozenset({'콜라', '소주'}), confidence=0.5, lift=0.8333333333333334), OrderedStatistic(items_base=frozenset({'소주'}), items_add=frozenset({'맥주', '콜라'}), confidence=0.33333333333333337, lift=0.8333333333333334), OrderedStatistic(items_base=frozenset({'콜라'}), items_add=frozenset({'맥주', '소주'}), confidence=0.25, lift=1.25), OrderedStatistic(items_base=frozenset({'맥주', '소주'}), items_add=frozenset({'콜라'}), confidence=1.0, lift=1.25), OrderedStatistic(items_base=frozenset({'맥주', '콜라'}), items_add=frozenset({'소주'}), confidence=0.5, lift=0.8333333333333334), OrderedStatistic(items_base=frozenset({'콜라', '소주'}), items_add=frozenset({'맥주'}), confidence=0.33333333333333337, lift=0.8333333333333334)]),\n",
       " RelationRecord(items=frozenset({'맥주', '콜라', '와인'}), support=0.2, ordered_statistics=[OrderedStatistic(items_base=frozenset(), items_add=frozenset({'맥주', '콜라', '와인'}), confidence=0.2, lift=1.0), OrderedStatistic(items_base=frozenset({'맥주'}), items_add=frozenset({'콜라', '와인'}), confidence=0.5, lift=1.25), OrderedStatistic(items_base=frozenset({'와인'}), items_add=frozenset({'맥주', '콜라'}), confidence=0.33333333333333337, lift=0.8333333333333334), OrderedStatistic(items_base=frozenset({'콜라'}), items_add=frozenset({'맥주', '와인'}), confidence=0.25, lift=1.25), OrderedStatistic(items_base=frozenset({'맥주', '와인'}), items_add=frozenset({'콜라'}), confidence=1.0, lift=1.25), OrderedStatistic(items_base=frozenset({'맥주', '콜라'}), items_add=frozenset({'와인'}), confidence=0.5, lift=0.8333333333333334), OrderedStatistic(items_base=frozenset({'콜라', '와인'}), items_add=frozenset({'맥주'}), confidence=0.5, lift=1.25)]),\n",
       " RelationRecord(items=frozenset({'콜라', '오렌지주스', '소주'}), support=0.2, ordered_statistics=[OrderedStatistic(items_base=frozenset(), items_add=frozenset({'콜라', '오렌지주스', '소주'}), confidence=0.2, lift=1.0), OrderedStatistic(items_base=frozenset({'소주'}), items_add=frozenset({'콜라', '오렌지주스'}), confidence=0.33333333333333337, lift=1.6666666666666667), OrderedStatistic(items_base=frozenset({'오렌지주스'}), items_add=frozenset({'콜라', '소주'}), confidence=0.5, lift=0.8333333333333334), OrderedStatistic(items_base=frozenset({'콜라'}), items_add=frozenset({'오렌지주스', '소주'}), confidence=0.25, lift=1.25), OrderedStatistic(items_base=frozenset({'오렌지주스', '소주'}), items_add=frozenset({'콜라'}), confidence=1.0, lift=1.25), OrderedStatistic(items_base=frozenset({'콜라', '소주'}), items_add=frozenset({'오렌지주스'}), confidence=0.33333333333333337, lift=0.8333333333333334), OrderedStatistic(items_base=frozenset({'콜라', '오렌지주스'}), items_add=frozenset({'소주'}), confidence=1.0, lift=1.6666666666666667)]),\n",
       " RelationRecord(items=frozenset({'콜라', '와인', '소주'}), support=0.2, ordered_statistics=[OrderedStatistic(items_base=frozenset(), items_add=frozenset({'콜라', '와인', '소주'}), confidence=0.2, lift=1.0), OrderedStatistic(items_base=frozenset({'소주'}), items_add=frozenset({'콜라', '와인'}), confidence=0.33333333333333337, lift=0.8333333333333334), OrderedStatistic(items_base=frozenset({'와인'}), items_add=frozenset({'콜라', '소주'}), confidence=0.33333333333333337, lift=0.5555555555555557), OrderedStatistic(items_base=frozenset({'콜라'}), items_add=frozenset({'와인', '소주'}), confidence=0.25, lift=1.25), OrderedStatistic(items_base=frozenset({'와인', '소주'}), items_add=frozenset({'콜라'}), confidence=1.0, lift=1.25), OrderedStatistic(items_base=frozenset({'콜라', '소주'}), items_add=frozenset({'와인'}), confidence=0.33333333333333337, lift=0.5555555555555557), OrderedStatistic(items_base=frozenset({'콜라', '와인'}), items_add=frozenset({'소주'}), confidence=0.5, lift=0.8333333333333334)])]"
      ]
     },
     "execution_count": 4,
     "metadata": {},
     "output_type": "execute_result"
    }
   ],
   "source": [
    "rules"
   ]
  },
  {
   "cell_type": "code",
   "execution_count": 36,
   "id": "cc36c266",
   "metadata": {
    "ExecuteTime": {
     "end_time": "2021-08-19T09:05:10.912986Z",
     "start_time": "2021-08-19T09:05:10.890015Z"
    }
   },
   "outputs": [
    {
     "name": "stdout",
     "output_type": "stream",
     "text": [
      " 조건 -> 결과    \t 지지도 \t 신뢰도 \t 향상도\n",
      "맥주 => 콜라  \t 0.4 \t 1.0 \t 1.25\n",
      "콜라 => 맥주  \t 0.4 \t 0.5 \t 1.25\n",
      "소주 => 콜라  \t 0.6 \t 1.0 \t 1.25\n",
      "콜라 => 소주  \t 0.6 \t 0.75 \t 1.25\n",
      "콜라 => 맥주,소주  \t 0.2 \t 0.25 \t 1.25\n",
      "맥주,소주 => 콜라  \t 0.2 \t 1.0 \t 1.25\n",
      "맥주 => 콜라,와인  \t 0.2 \t 0.5 \t 1.25\n",
      "콜라 => 맥주,와인  \t 0.2 \t 0.25 \t 1.25\n",
      "맥주,와인 => 콜라  \t 0.2 \t 1.0 \t 1.25\n",
      "콜라,와인 => 맥주  \t 0.2 \t 0.5 \t 1.25\n",
      "소주 => 오렌지주스,콜라  \t 0.2 \t 0.33 \t 1.67\n",
      "콜라 => 소주,오렌지주스  \t 0.2 \t 0.25 \t 1.25\n",
      "오렌지주스,소주 => 콜라  \t 0.2 \t 1.0 \t 1.25\n",
      "오렌지주스,콜라 => 소주  \t 0.2 \t 1.0 \t 1.67\n",
      "콜라 => 소주,와인  \t 0.2 \t 0.25 \t 1.25\n",
      "소주,와인 => 콜라  \t 0.2 \t 1.0 \t 1.25\n"
     ]
    }
   ],
   "source": [
    "print(' 조건 -> 결과    \\t 지지도 \\t 신뢰도 \\t 향상도')\n",
    "for row in rules:\n",
    "    support = row[1]\n",
    "    ordered_st = row[2]\n",
    "    for item in ordered_st:\n",
    "        lhs = [x for x in item[0]]\n",
    "        lhs = ','.join([x for x in item[0]])\n",
    "        rhs = [x for x in item[1]]\n",
    "        rhs = ','.join([x for x in item[1]])\n",
    "        confidence = item[2]\n",
    "        lift       = item[3]\n",
    "        if lift > 1:\n",
    "            print(\"{} => {}  \\t {} \\t {} \\t {}\".format(lhs, rhs,\n",
    "                        round(support,2), round(confidence,2), round(lift,2)))"
   ]
  },
  {
   "cell_type": "code",
   "execution_count": 37,
   "id": "1cc945c9",
   "metadata": {
    "ExecuteTime": {
     "end_time": "2021-08-19T09:05:11.917674Z",
     "start_time": "2021-08-19T09:05:11.847861Z"
    }
   },
   "outputs": [
    {
     "data": {
      "text/html": [
       "<div>\n",
       "<style scoped>\n",
       "    .dataframe tbody tr th:only-of-type {\n",
       "        vertical-align: middle;\n",
       "    }\n",
       "\n",
       "    .dataframe tbody tr th {\n",
       "        vertical-align: top;\n",
       "    }\n",
       "\n",
       "    .dataframe thead th {\n",
       "        text-align: right;\n",
       "    }\n",
       "</style>\n",
       "<table border=\"1\" class=\"dataframe\">\n",
       "  <thead>\n",
       "    <tr style=\"text-align: right;\">\n",
       "      <th></th>\n",
       "      <th>lhs</th>\n",
       "      <th>rhs</th>\n",
       "      <th>support</th>\n",
       "      <th>confidence</th>\n",
       "      <th>lift</th>\n",
       "    </tr>\n",
       "  </thead>\n",
       "  <tbody>\n",
       "    <tr>\n",
       "      <th>4</th>\n",
       "      <td>콜라</td>\n",
       "      <td>맥주,소주</td>\n",
       "      <td>0.2</td>\n",
       "      <td>0.250000</td>\n",
       "      <td>1.250000</td>\n",
       "    </tr>\n",
       "    <tr>\n",
       "      <th>7</th>\n",
       "      <td>콜라</td>\n",
       "      <td>맥주,와인</td>\n",
       "      <td>0.2</td>\n",
       "      <td>0.250000</td>\n",
       "      <td>1.250000</td>\n",
       "    </tr>\n",
       "    <tr>\n",
       "      <th>11</th>\n",
       "      <td>콜라</td>\n",
       "      <td>소주,오렌지주스</td>\n",
       "      <td>0.2</td>\n",
       "      <td>0.250000</td>\n",
       "      <td>1.250000</td>\n",
       "    </tr>\n",
       "    <tr>\n",
       "      <th>14</th>\n",
       "      <td>콜라</td>\n",
       "      <td>소주,와인</td>\n",
       "      <td>0.2</td>\n",
       "      <td>0.250000</td>\n",
       "      <td>1.250000</td>\n",
       "    </tr>\n",
       "    <tr>\n",
       "      <th>10</th>\n",
       "      <td>소주</td>\n",
       "      <td>오렌지주스,콜라</td>\n",
       "      <td>0.2</td>\n",
       "      <td>0.333333</td>\n",
       "      <td>1.666667</td>\n",
       "    </tr>\n",
       "    <tr>\n",
       "      <th>1</th>\n",
       "      <td>콜라</td>\n",
       "      <td>맥주</td>\n",
       "      <td>0.4</td>\n",
       "      <td>0.500000</td>\n",
       "      <td>1.250000</td>\n",
       "    </tr>\n",
       "    <tr>\n",
       "      <th>6</th>\n",
       "      <td>맥주</td>\n",
       "      <td>콜라,와인</td>\n",
       "      <td>0.2</td>\n",
       "      <td>0.500000</td>\n",
       "      <td>1.250000</td>\n",
       "    </tr>\n",
       "    <tr>\n",
       "      <th>9</th>\n",
       "      <td>콜라,와인</td>\n",
       "      <td>맥주</td>\n",
       "      <td>0.2</td>\n",
       "      <td>0.500000</td>\n",
       "      <td>1.250000</td>\n",
       "    </tr>\n",
       "    <tr>\n",
       "      <th>3</th>\n",
       "      <td>콜라</td>\n",
       "      <td>소주</td>\n",
       "      <td>0.6</td>\n",
       "      <td>0.750000</td>\n",
       "      <td>1.250000</td>\n",
       "    </tr>\n",
       "    <tr>\n",
       "      <th>0</th>\n",
       "      <td>맥주</td>\n",
       "      <td>콜라</td>\n",
       "      <td>0.4</td>\n",
       "      <td>1.000000</td>\n",
       "      <td>1.250000</td>\n",
       "    </tr>\n",
       "    <tr>\n",
       "      <th>2</th>\n",
       "      <td>소주</td>\n",
       "      <td>콜라</td>\n",
       "      <td>0.6</td>\n",
       "      <td>1.000000</td>\n",
       "      <td>1.250000</td>\n",
       "    </tr>\n",
       "    <tr>\n",
       "      <th>5</th>\n",
       "      <td>맥주,소주</td>\n",
       "      <td>콜라</td>\n",
       "      <td>0.2</td>\n",
       "      <td>1.000000</td>\n",
       "      <td>1.250000</td>\n",
       "    </tr>\n",
       "    <tr>\n",
       "      <th>8</th>\n",
       "      <td>맥주,와인</td>\n",
       "      <td>콜라</td>\n",
       "      <td>0.2</td>\n",
       "      <td>1.000000</td>\n",
       "      <td>1.250000</td>\n",
       "    </tr>\n",
       "    <tr>\n",
       "      <th>12</th>\n",
       "      <td>오렌지주스,소주</td>\n",
       "      <td>콜라</td>\n",
       "      <td>0.2</td>\n",
       "      <td>1.000000</td>\n",
       "      <td>1.250000</td>\n",
       "    </tr>\n",
       "    <tr>\n",
       "      <th>13</th>\n",
       "      <td>오렌지주스,콜라</td>\n",
       "      <td>소주</td>\n",
       "      <td>0.2</td>\n",
       "      <td>1.000000</td>\n",
       "      <td>1.666667</td>\n",
       "    </tr>\n",
       "    <tr>\n",
       "      <th>15</th>\n",
       "      <td>소주,와인</td>\n",
       "      <td>콜라</td>\n",
       "      <td>0.2</td>\n",
       "      <td>1.000000</td>\n",
       "      <td>1.250000</td>\n",
       "    </tr>\n",
       "  </tbody>\n",
       "</table>\n",
       "</div>"
      ],
      "text/plain": [
       "         lhs       rhs  support  confidence      lift\n",
       "4         콜라     맥주,소주      0.2    0.250000  1.250000\n",
       "7         콜라     맥주,와인      0.2    0.250000  1.250000\n",
       "11        콜라  소주,오렌지주스      0.2    0.250000  1.250000\n",
       "14        콜라     소주,와인      0.2    0.250000  1.250000\n",
       "10        소주  오렌지주스,콜라      0.2    0.333333  1.666667\n",
       "1         콜라        맥주      0.4    0.500000  1.250000\n",
       "6         맥주     콜라,와인      0.2    0.500000  1.250000\n",
       "9      콜라,와인        맥주      0.2    0.500000  1.250000\n",
       "3         콜라        소주      0.6    0.750000  1.250000\n",
       "0         맥주        콜라      0.4    1.000000  1.250000\n",
       "2         소주        콜라      0.6    1.000000  1.250000\n",
       "5      맥주,소주        콜라      0.2    1.000000  1.250000\n",
       "8      맥주,와인        콜라      0.2    1.000000  1.250000\n",
       "12  오렌지주스,소주        콜라      0.2    1.000000  1.250000\n",
       "13  오렌지주스,콜라        소주      0.2    1.000000  1.666667\n",
       "15     소주,와인        콜라      0.2    1.000000  1.250000"
      ]
     },
     "execution_count": 37,
     "metadata": {},
     "output_type": "execute_result"
    }
   ],
   "source": [
    "import pandas as pd\n",
    "result_df = pd.DataFrame(None,\n",
    "                        columns=['lhs','rhs','support','confidence','lift'])\n",
    "index = 0\n",
    "for row in rules:\n",
    "    support = row[1]\n",
    "    ordered_st = row[2]\n",
    "    for item in ordered_st:\n",
    "        lhs = ','.join([x for x in item[0]])\n",
    "        rhs = ','.join([x for x in item[1]])\n",
    "        confidence = item[2]\n",
    "        lift       = item[3]\n",
    "        if lift > 1:\n",
    "            result_df.loc[index] = [lhs, rhs, support, confidence, lift]\n",
    "            index += 1\n",
    "result_df.sort_values(by='confidence')"
   ]
  },
  {
   "cell_type": "code",
   "execution_count": null,
   "id": "9a32dcbb",
   "metadata": {},
   "outputs": [],
   "source": []
  },
  {
   "cell_type": "code",
   "execution_count": null,
   "id": "00607743",
   "metadata": {},
   "outputs": [],
   "source": []
  },
  {
   "cell_type": "code",
   "execution_count": null,
   "id": "888bff9b",
   "metadata": {},
   "outputs": [],
   "source": []
  }
 ],
 "metadata": {
  "kernelspec": {
   "display_name": "Python 3",
   "language": "python",
   "name": "python3"
  },
  "language_info": {
   "codemirror_mode": {
    "name": "ipython",
    "version": 3
   },
   "file_extension": ".py",
   "mimetype": "text/x-python",
   "name": "python",
   "nbconvert_exporter": "python",
   "pygments_lexer": "ipython3",
   "version": "3.8.8"
  },
  "toc": {
   "base_numbering": 1,
   "nav_menu": {},
   "number_sections": false,
   "sideBar": true,
   "skip_h1_title": false,
   "title_cell": "Table of Contents",
   "title_sidebar": "Contents",
   "toc_cell": false,
   "toc_position": {},
   "toc_section_display": true,
   "toc_window_display": true
  },
  "varInspector": {
   "cols": {
    "lenName": 16,
    "lenType": 16,
    "lenVar": 40
   },
   "kernels_config": {
    "python": {
     "delete_cmd_postfix": "",
     "delete_cmd_prefix": "del ",
     "library": "var_list.py",
     "varRefreshCmd": "print(var_dic_list())"
    },
    "r": {
     "delete_cmd_postfix": ") ",
     "delete_cmd_prefix": "rm(",
     "library": "var_list.r",
     "varRefreshCmd": "cat(var_dic_list()) "
    }
   },
   "types_to_exclude": [
    "module",
    "function",
    "builtin_function_or_method",
    "instance",
    "_Feature"
   ],
   "window_display": false
  }
 },
 "nbformat": 4,
 "nbformat_minor": 5
}
